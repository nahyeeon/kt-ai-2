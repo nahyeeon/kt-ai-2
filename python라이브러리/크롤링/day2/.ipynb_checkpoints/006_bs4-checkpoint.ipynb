{
 "cells": [
  {
   "cell_type": "markdown",
   "id": "4e7f76fd-58d7-4dce-b07e-5c5608d17f81",
   "metadata": {},
   "source": [
    "### 정적 페이지 데이터 수집\n",
    "- 네이버 연관 검색어 수집\n",
    "- bs4 : BeautifulSoup : HTML(str) > CSS Selector를 이용하여 엘리먼트 선택"
   ]
  },
  {
   "cell_type": "code",
   "execution_count": 6,
   "id": "a5ed2d0e-c8dd-4ee8-b2a2-b1c3e0e525ff",
   "metadata": {},
   "outputs": [],
   "source": [
    "import pandas as pd\n",
    "import requests\n",
    "from bs4 import BeautifulSoup"
   ]
  },
  {
   "cell_type": "code",
   "execution_count": 1,
   "id": "7ffc6c24-94e8-4fe9-a57f-d4098f07b006",
   "metadata": {},
   "outputs": [],
   "source": [
    "# 1. 웹서비스 분석 : URL"
   ]
  },
  {
   "cell_type": "code",
   "execution_count": 10,
   "id": "b1f2c7a1-5160-410b-86c8-fb0111233964",
   "metadata": {},
   "outputs": [
    {
     "data": {
      "text/plain": [
       "'https://search.naver.com/search.naver?&query=kt'"
      ]
     },
     "execution_count": 10,
     "metadata": {},
     "output_type": "execute_result"
    }
   ],
   "source": [
    "keyword = 'kt'\n",
    "url = f'https://search.naver.com/search.naver?&query={keyword}'\n",
    "url"
   ]
  },
  {
   "cell_type": "code",
   "execution_count": 2,
   "id": "fbb0ded8-b6bb-42a1-9b80-bd38d3f8aac1",
   "metadata": {},
   "outputs": [],
   "source": [
    "# 2. request(url) > response(html) : HTML(str)"
   ]
  },
  {
   "cell_type": "code",
   "execution_count": 12,
   "id": "06320661-edd5-427c-a8eb-b647e2ccfb93",
   "metadata": {},
   "outputs": [
    {
     "data": {
      "text/plain": [
       "<Response [200]>"
      ]
     },
     "execution_count": 12,
     "metadata": {},
     "output_type": "execute_result"
    }
   ],
   "source": [
    "response = requests.get(url)\n",
    "response"
   ]
  },
  {
   "cell_type": "code",
   "execution_count": 14,
   "id": "de802e70-c1a8-48eb-a858-ebf3b0088443",
   "metadata": {
    "tags": []
   },
   "outputs": [
    {
     "data": {
      "text/plain": [
       "'<!doctype html> <html lang=\"ko\"> <head> <meta charset=\"utf-8\"> <meta name=\"referrer\" content=\"always\">  <meta name=\"format-detection\" content=\"telephone=no,address=no,email=no\"> <meta name=\"viewport\" content=\"width=device-width,initial-scale=1.0,maximum-scale=2.0\"> <meta property=\"og:title\" content=\"kt : 네이버 통합검색\"/> <meta property=\"og:image\" content=\"https://ssl.pstatic.net/sstatic/search/common/og_v3.png\"> <meta property=\"og:description\" content=\"\\'kt\\'의 네이버 통합검색 결과입니다.\"> <meta name=\"description\"'"
      ]
     },
     "execution_count": 14,
     "metadata": {},
     "output_type": "execute_result"
    }
   ],
   "source": [
    "response.text[:500]"
   ]
  },
  {
   "cell_type": "code",
   "execution_count": 3,
   "id": "a0edea58-3419-4451-b88f-00769995aa51",
   "metadata": {},
   "outputs": [],
   "source": [
    "# 3. HTML(str) > BeatifulSoup Object > BS(CSS Selector) > Data"
   ]
  },
  {
   "cell_type": "code",
   "execution_count": 16,
   "id": "beeec520-b37e-497e-861e-b84551da6008",
   "metadata": {},
   "outputs": [
    {
     "data": {
      "text/plain": [
       "bs4.BeautifulSoup"
      ]
     },
     "execution_count": 16,
     "metadata": {},
     "output_type": "execute_result"
    }
   ],
   "source": [
    "dom = BeautifulSoup(response.text, 'html.parser')\n",
    "type(dom)"
   ]
  },
  {
   "cell_type": "code",
   "execution_count": 19,
   "id": "1ac368be-f90b-4325-af43-4577755a76b0",
   "metadata": {
    "tags": []
   },
   "outputs": [
    {
     "data": {
      "text/plain": [
       "10"
      ]
     },
     "execution_count": 19,
     "metadata": {},
     "output_type": "execute_result"
    }
   ],
   "source": [
    "# select() : 엘리먼트가 여러개 선택\n",
    "# select_one() : 엘리먼트 한개 선택\n",
    "elements = dom.select(\".lst_related_srch > .item\")\n",
    "len(elements)"
   ]
  },
  {
   "cell_type": "code",
   "execution_count": 20,
   "id": "b65e1ec2-ac5f-416d-bfce-97c2a72b9480",
   "metadata": {},
   "outputs": [
    {
     "data": {
      "text/plain": [
       "<li class=\"item\"> <a class=\"keyword\" href=\"?where=nexearch&amp;query=%EC%82%BC%EC%84%B1%EC%A0%84%EC%9E%90&amp;ie=utf8&amp;sm=tab_she&amp;qdt=0\" onclick=\"return goOtherCR(this, 'a=rsk_btm*q.list1&amp;r=1&amp;u=' + urlencode(this.href))\"> <div class=\"tit\">삼성전자</div> </a> </li>"
      ]
     },
     "execution_count": 20,
     "metadata": {},
     "output_type": "execute_result"
    }
   ],
   "source": [
    "elements[0]"
   ]
  },
  {
   "cell_type": "code",
   "execution_count": 21,
   "id": "f55dc290-73d8-4d93-b93f-606f3fe2a7fc",
   "metadata": {},
   "outputs": [
    {
     "name": "stdout",
     "output_type": "stream",
     "text": [
      "['삼성전자', 'kt 고객센터', 'kt 인터넷', 'ky', '환율', 'kr', '날씨', 'kt 대리점', 'SKT', 'kt 고객센터 전화번호']\n"
     ]
    }
   ],
   "source": [
    "keywords = []\n",
    "for element in elements:\n",
    "    keyword = element.select_one('.tit').text\n",
    "    keywords.append(keyword)\n",
    "print(keywords)"
   ]
  },
  {
   "cell_type": "code",
   "execution_count": 22,
   "id": "e6b472a7-4a44-4341-835f-49311a643a6f",
   "metadata": {},
   "outputs": [
    {
     "name": "stdout",
     "output_type": "stream",
     "text": [
      "['삼성전자', 'kt 고객센터', 'kt 인터넷', 'ky', '환율', 'kr', '날씨', 'kt 대리점', 'SKT', 'kt 고객센터 전화번호']\n"
     ]
    }
   ],
   "source": [
    "keywords = [element.select_one('.tit').text for element in elements ]\n",
    "print(keywords)"
   ]
  },
  {
   "cell_type": "code",
   "execution_count": 17,
   "id": "82af567f-2270-4061-bfb3-015eaa1b9d18",
   "metadata": {},
   "outputs": [],
   "source": [
    "# 4. Data > DataFrame"
   ]
  },
  {
   "cell_type": "code",
   "execution_count": null,
   "id": "c89a8cf9-98c0-4004-8297-403477fc95c9",
   "metadata": {},
   "outputs": [],
   "source": []
  }
 ],
 "metadata": {
  "kernelspec": {
   "display_name": "Python 3",
   "language": "python",
   "name": "python3"
  },
  "language_info": {
   "codemirror_mode": {
    "name": "ipython",
    "version": 3
   },
   "file_extension": ".py",
   "mimetype": "text/x-python",
   "name": "python",
   "nbconvert_exporter": "python",
   "pygments_lexer": "ipython3",
   "version": "3.8.8"
  }
 },
 "nbformat": 4,
 "nbformat_minor": 5
}
