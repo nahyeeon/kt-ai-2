{
 "cells": [
  {
   "cell_type": "code",
   "execution_count": 1,
   "id": "8526ed27-6d93-48c8-b2fb-2460bde4b3d1",
   "metadata": {},
   "outputs": [],
   "source": [
    "import pandas as pd\n",
    "import requests"
   ]
  },
  {
   "cell_type": "code",
   "execution_count": 2,
   "id": "78982812-be45-4632-9a69-94d78078373f",
   "metadata": {},
   "outputs": [],
   "source": [
    "url = 'https://m.stock.naver.com/api/index/KOSPI/price?pageSize=10&page=2'"
   ]
  },
  {
   "cell_type": "code",
   "execution_count": 4,
   "id": "a63f2fd2-08c7-4d98-a7ff-05049d22499c",
   "metadata": {},
   "outputs": [
    {
     "data": {
      "text/plain": [
       "<Response [200]>"
      ]
     },
     "execution_count": 4,
     "metadata": {},
     "output_type": "execute_result"
    }
   ],
   "source": [
    "response = requests.get(url)\n",
    "response"
   ]
  },
  {
   "cell_type": "code",
   "execution_count": 5,
   "id": "4118f4ce-8585-4e6f-9dc5-68936dc2558f",
   "metadata": {},
   "outputs": [
    {
     "data": {
      "text/plain": [
       "'[{\"localTradedAt\":\"2022-07-22\",\"closePrice\":\"2,393.14\",\"compareToPreviousClosePrice\":\"-16.02\",\"compareToPreviousPrice\":{\"code\":\"5\",\"text\":\"하락\",\"name\":\"FALLING\"},\"fluctuationsRatio\":\"-0.66\",\"openPrice\":\"2,405.37\",\"highPrice\":\"2,417.91\",\"lowPrice\":\"2,391.48\"},{\"localTradedAt\":\"2022-07-21\",\"closePrice\"'"
      ]
     },
     "execution_count": 5,
     "metadata": {},
     "output_type": "execute_result"
    }
   ],
   "source": [
    "response.text[:300]"
   ]
  },
  {
   "cell_type": "code",
   "execution_count": null,
   "id": "8c26dfa7-3a9f-4d5b-a18e-c1cefb1c58aa",
   "metadata": {},
   "outputs": [],
   "source": []
  }
 ],
 "metadata": {
  "kernelspec": {
   "display_name": "Python 3 (ipykernel)",
   "language": "python",
   "name": "python3"
  },
  "language_info": {
   "codemirror_mode": {
    "name": "ipython",
    "version": 3
   },
   "file_extension": ".py",
   "mimetype": "text/x-python",
   "name": "python",
   "nbconvert_exporter": "python",
   "pygments_lexer": "ipython3",
   "version": "3.9.13"
  }
 },
 "nbformat": 4,
 "nbformat_minor": 5
}
