{
 "cells": [
  {
   "cell_type": "markdown",
   "id": "06b7d611-3a43-452e-a8d0-f5464084fa2c",
   "metadata": {},
   "source": [
    "### API\n",
    "- application programing interface\n",
    "- api 를 사용해서 데이터를 수집하는것은 서비스에 데이터를 제공한는 공식적인 방법으로 데이터 수집\n",
    "- naver api : papago api : 번역 서비스"
   ]
  },
  {
   "cell_type": "code",
   "execution_count": 2,
   "id": "f1670540-ba3a-4856-83fc-85f0e10db9d2",
   "metadata": {},
   "outputs": [],
   "source": [
    "import pandas as pd\n",
    "import requests, json"
   ]
  },
  {
   "cell_type": "code",
   "execution_count": 3,
   "id": "0544aa37-dd74-411a-b8e4-e8497eb346c1",
   "metadata": {},
   "outputs": [],
   "source": [
    "# 1. APP 등록 > app_key(request_token)\n",
    "# https://developers.naver.com"
   ]
  },
  {
   "cell_type": "code",
   "execution_count": 6,
   "id": "6708c435-579b-4a96-8467-3991eb0b58f7",
   "metadata": {},
   "outputs": [],
   "source": [
    "CLIENT_ID, CLIENT_SECRET = \"KcavGNB3lps84cp5kzJp\",\"CpZgLBr_NB\" "
   ]
  },
  {
   "cell_type": "code",
   "execution_count": 59,
   "id": "302f8cb8-c1f3-470b-8fb0-06352b942b44",
   "metadata": {},
   "outputs": [],
   "source": [
    "CLIENT_ID, CLIENT_SECRET = \"KE2M4YcO4Sv9P7HrFXJ1\", \"9X0zM51ZRf\""
   ]
  },
  {
   "cell_type": "code",
   "execution_count": null,
   "id": "a0235a0d-03df-4a98-84a6-cf424e52f354",
   "metadata": {},
   "outputs": [],
   "source": [
    "# 2. Naver API Document 확인 > URL "
   ]
  },
  {
   "cell_type": "code",
   "execution_count": 60,
   "id": "8374ea60-bef9-42f1-8cd1-158240b19d9a",
   "metadata": {},
   "outputs": [],
   "source": [
    "txt= \"파이썬은 재미있습니다.\"\n",
    "url = \"https://openapi.naver.com/v1/papago/n2mt\" \n",
    "params = {\"source\": \"ko\", \"target\": \"en\", \"text\": txt}\n",
    "headers = {\"Content-Type\": \"application/json\", \n",
    "           \"X-Naver-Client-Id\": CLIENT_ID,\n",
    "           \"X-Naver-Client-Secret\": CLIENT_SECRET}"
   ]
  },
  {
   "cell_type": "code",
   "execution_count": null,
   "id": "15a96a2d-5f8c-4e46-b704-e5e26c1452b9",
   "metadata": {},
   "outputs": [],
   "source": [
    "# json.dumps() : 인터넷 트래픽에서는 영문, 숫자, 특수문자만 사용가능\n",
    "# 한글과 같은 문자를 인코딩(영문,숫자,특수문자)"
   ]
  },
  {
   "cell_type": "code",
   "execution_count": null,
   "id": "1df9323d-b194-4793-b1a6-c748afbb9b2f",
   "metadata": {},
   "outputs": [],
   "source": [
    "# 3. request(url, app_key) > response(json) : JSON(str)"
   ]
  },
  {
   "cell_type": "code",
   "execution_count": 61,
   "id": "6807bfb3-4f87-443e-81d8-04e91d1f8803",
   "metadata": {},
   "outputs": [
    {
     "data": {
      "text/plain": [
       "<Response [200]>"
      ]
     },
     "execution_count": 61,
     "metadata": {},
     "output_type": "execute_result"
    }
   ],
   "source": [
    "response = requests.post(url, json.dumps(params),headers=headers)\n",
    "response"
   ]
  },
  {
   "cell_type": "code",
   "execution_count": 63,
   "id": "bd7d749b-1145-4084-802a-d4cda589da9d",
   "metadata": {},
   "outputs": [
    {
     "data": {
      "text/plain": [
       "'{\"message\":{\"result\":{\"srcLangType\":\"ko\",\"tarLangType\":\"en\",\"translatedText\":\"Python is fun.\",\"engineType\":\"N2MT\",\"pivot\":null,\"dict\":null,\"tarDict\":null},\"@type\":\"response\",\"@service\":\"naverservice.nmt.proxy\",\"@version\":\"1.0.0\"}}'"
      ]
     },
     "execution_count": 63,
     "metadata": {},
     "output_type": "execute_result"
    }
   ],
   "source": [
    "response.text"
   ]
  },
  {
   "cell_type": "code",
   "execution_count": null,
   "id": "587de2f5-c17a-48bf-965b-8df4ceadd06e",
   "metadata": {},
   "outputs": [],
   "source": [
    "# 4. JSON(str) > list, dict > DataFrame"
   ]
  },
  {
   "cell_type": "code",
   "execution_count": 64,
   "id": "826cf193-83ff-45cd-a6a7-688cc17d8a46",
   "metadata": {},
   "outputs": [
    {
     "data": {
      "text/plain": [
       "'Python is fun.'"
      ]
     },
     "execution_count": 64,
     "metadata": {},
     "output_type": "execute_result"
    }
   ],
   "source": [
    "txt_en = response.json()[\"message\"][\"result\"][\"translatedText\"]\n",
    "txt_en"
   ]
  },
  {
   "cell_type": "code",
   "execution_count": null,
   "id": "e6db3746-ef6f-4d46-bf59-61d53ad4caba",
   "metadata": {},
   "outputs": [],
   "source": [
    "# 5. 함수로 작성"
   ]
  },
  {
   "cell_type": "code",
   "execution_count": 67,
   "id": "8f002abd-56ad-4fff-9333-f1877a0c1c83",
   "metadata": {},
   "outputs": [],
   "source": [
    "def translate(txt):\n",
    "    CLIENT_ID, CLIENT_SECRET = \"KE2M4YcO4Sv9P7HrFXJ1\",\"9X0zM51ZRf\" \n",
    "    url = \"https://openapi.naver.com/v1/papago/n2mt\"\n",
    "    params = {\"source\": \"ko\", \"target\": \"en\", \"text\": txt}\n",
    "    headers = {\"Content-Type\": \"application/json\", \n",
    "           \"X-Naver-Client-Id\": CLIENT_ID,\n",
    "           \"X-Naver-Client-Secret\": CLIENT_SECRET}\n",
    "    response = requests.post(url, json.dumps(params), headers=headers)\n",
    "    txt_en = response.json()[\"message\"][\"result\"][\"translatedText\"]\n",
    "    return txt_en"
   ]
  },
  {
   "cell_type": "code",
   "execution_count": 68,
   "id": "5d5ee2ce-6005-49e9-ab8f-0fd0687f6b97",
   "metadata": {},
   "outputs": [
    {
     "data": {
      "text/plain": [
       "'Web crawling is fun.'"
      ]
     },
     "execution_count": 68,
     "metadata": {},
     "output_type": "execute_result"
    }
   ],
   "source": [
    "txt= \"웹크롤링은 재미있습니다.\"\n",
    "txt_en = translate(txt)\n",
    "txt_en"
   ]
  },
  {
   "cell_type": "code",
   "execution_count": 51,
   "id": "dab4d883-1244-4dd3-b335-024fdd2cc5f3",
   "metadata": {},
   "outputs": [],
   "source": [
    "# 6. 한글 excel 파일을 영문 excel 파일로 변경"
   ]
  },
  {
   "cell_type": "code",
   "execution_count": 69,
   "id": "8c792c45-af26-4b78-93ae-0174ef5ae7d6",
   "metadata": {},
   "outputs": [
    {
     "name": "stdout",
     "output_type": "stream",
     "text": [
      " C 드라이브의 볼륨에는 이름이 없습니다.\n",
      " 볼륨 일련 번호: 7C6C-FC35\n",
      "\n",
      " C:\\Users\\User\\python라이브러리\\day1 디렉터리\n",
      "\n",
      "2022-08-03  오후 08:59    <DIR>          .\n",
      "2022-08-03  오후 08:59    <DIR>          ..\n",
      "2022-08-03  오후 03:43    <DIR>          .ipynb_checkpoints\n",
      "2022-08-03  오후 03:44            71,006 01_requests_json.ipynb\n",
      "2022-08-03  오후 03:44           418,148 01_requests_naver_stock.ipynb\n",
      "2022-08-03  오전 09:33         1,459,599 01_web.pdf\n",
      "2022-08-03  오전 09:33         1,601,071 02_Oauth.pdf\n",
      "2022-08-03  오후 08:59            18,552 02_requests_api.ipynb\n",
      "2022-08-02  오후 05:25             9,016 02_requests_daum_exchange.ipynb\n",
      "2022-08-03  오후 03:43           115,227 03_naver_api.ipynb\n",
      "2022-08-02  오후 05:25            15,687 04_requests_zigbang.ipynb\n",
      "2022-08-03  오후 05:19            10,060 covid.xlsx\n",
      "               9개 파일           3,718,366 바이트\n",
      "               3개 디렉터리  126,895,624,192 바이트 남음\n"
     ]
    }
   ],
   "source": [
    "%ls"
   ]
  },
  {
   "cell_type": "code",
   "execution_count": 70,
   "id": "b68a0f50-5abd-4584-92be-15b10b73a0e8",
   "metadata": {},
   "outputs": [
    {
     "data": {
      "text/html": [
       "<div>\n",
       "<style scoped>\n",
       "    .dataframe tbody tr th:only-of-type {\n",
       "        vertical-align: middle;\n",
       "    }\n",
       "\n",
       "    .dataframe tbody tr th {\n",
       "        vertical-align: top;\n",
       "    }\n",
       "\n",
       "    .dataframe thead th {\n",
       "        text-align: right;\n",
       "    }\n",
       "</style>\n",
       "<table border=\"1\" class=\"dataframe\">\n",
       "  <thead>\n",
       "    <tr style=\"text-align: right;\">\n",
       "      <th></th>\n",
       "      <th>category</th>\n",
       "      <th>title</th>\n",
       "    </tr>\n",
       "  </thead>\n",
       "  <tbody>\n",
       "    <tr>\n",
       "      <th>4</th>\n",
       "      <td>104</td>\n",
       "      <td>\"코로나 확진자 '0명'인 날은 절대 오지 않는다\" 美전문가</td>\n",
       "    </tr>\n",
       "    <tr>\n",
       "      <th>5</th>\n",
       "      <td>104</td>\n",
       "      <td>올림픽 다가오는데 도쿄 코로나 확산 빨라져...일주일새 25％↑</td>\n",
       "    </tr>\n",
       "  </tbody>\n",
       "</table>\n",
       "</div>"
      ],
      "text/plain": [
       "   category                                title\n",
       "4       104    \"코로나 확진자 '0명'인 날은 절대 오지 않는다\" 美전문가\n",
       "5       104  올림픽 다가오는데 도쿄 코로나 확산 빨라져...일주일새 25％↑"
      ]
     },
     "execution_count": 70,
     "metadata": {},
     "output_type": "execute_result"
    }
   ],
   "source": [
    "covid = pd.read_excel(\"covid.xlsx\")[[\"category\",\"title\"]]\n",
    "covid.tail(2)"
   ]
  },
  {
   "cell_type": "code",
   "execution_count": 71,
   "id": "399e972e-4564-4a85-957d-03a72fad9dff",
   "metadata": {},
   "outputs": [],
   "source": [
    "covid_en = covid[\"title\"].apply(translate)"
   ]
  },
  {
   "cell_type": "code",
   "execution_count": 72,
   "id": "7fab2b3f-40fa-4f75-9abb-086d03e18bde",
   "metadata": {},
   "outputs": [
    {
     "data": {
      "text/plain": [
       "0    SK Bioscience Submits Phase III Clinical Trial...\n",
       "1    41 cumulative COVID-19 confirmed patients at G...\n",
       "2    New COVID-19 infections, 542 people by 9 p.m. ...\n",
       "3    Covid-19 confirmed cases in professional baseb...\n",
       "4    \"The day when there are zero confirmed cases o...\n",
       "5    As the Olympics are approaching, the spread of...\n",
       "Name: title, dtype: object"
      ]
     },
     "execution_count": 72,
     "metadata": {},
     "output_type": "execute_result"
    }
   ],
   "source": [
    "covid_en"
   ]
  },
  {
   "cell_type": "code",
   "execution_count": 73,
   "id": "04570730-23aa-4130-91dc-e57db0c302cf",
   "metadata": {},
   "outputs": [
    {
     "data": {
      "text/html": [
       "<div>\n",
       "<style scoped>\n",
       "    .dataframe tbody tr th:only-of-type {\n",
       "        vertical-align: middle;\n",
       "    }\n",
       "\n",
       "    .dataframe tbody tr th {\n",
       "        vertical-align: top;\n",
       "    }\n",
       "\n",
       "    .dataframe thead th {\n",
       "        text-align: right;\n",
       "    }\n",
       "</style>\n",
       "<table border=\"1\" class=\"dataframe\">\n",
       "  <thead>\n",
       "    <tr style=\"text-align: right;\">\n",
       "      <th></th>\n",
       "      <th>category</th>\n",
       "      <th>title</th>\n",
       "      <th>title_en</th>\n",
       "    </tr>\n",
       "  </thead>\n",
       "  <tbody>\n",
       "    <tr>\n",
       "      <th>0</th>\n",
       "      <td>101</td>\n",
       "      <td>SK바이오사이언스, 코로나19 백신 임상 3상 시험계획 제출</td>\n",
       "      <td>SK Bioscience Submits Phase III Clinical Trial...</td>\n",
       "    </tr>\n",
       "    <tr>\n",
       "      <th>1</th>\n",
       "      <td>102</td>\n",
       "      <td>고양시 노래연습장 코로나19 누적확진 41명</td>\n",
       "      <td>41 cumulative COVID-19 confirmed patients at G...</td>\n",
       "    </tr>\n",
       "    <tr>\n",
       "      <th>2</th>\n",
       "      <td>103</td>\n",
       "      <td>코로나19 신규 감염, 28일 오후 9시까지 542명</td>\n",
       "      <td>New COVID-19 infections, 542 people by 9 p.m. ...</td>\n",
       "    </tr>\n",
       "    <tr>\n",
       "      <th>3</th>\n",
       "      <td>103</td>\n",
       "      <td>프로야구 수도권 구단서 코로나19 확진자 발생</td>\n",
       "      <td>Covid-19 confirmed cases in professional baseb...</td>\n",
       "    </tr>\n",
       "    <tr>\n",
       "      <th>4</th>\n",
       "      <td>104</td>\n",
       "      <td>\"코로나 확진자 '0명'인 날은 절대 오지 않는다\" 美전문가</td>\n",
       "      <td>\"The day when there are zero confirmed cases o...</td>\n",
       "    </tr>\n",
       "    <tr>\n",
       "      <th>5</th>\n",
       "      <td>104</td>\n",
       "      <td>올림픽 다가오는데 도쿄 코로나 확산 빨라져...일주일새 25％↑</td>\n",
       "      <td>As the Olympics are approaching, the spread of...</td>\n",
       "    </tr>\n",
       "  </tbody>\n",
       "</table>\n",
       "</div>"
      ],
      "text/plain": [
       "   category                                title  \\\n",
       "0       101    SK바이오사이언스, 코로나19 백신 임상 3상 시험계획 제출   \n",
       "1       102             고양시 노래연습장 코로나19 누적확진 41명   \n",
       "2       103        코로나19 신규 감염, 28일 오후 9시까지 542명   \n",
       "3       103            프로야구 수도권 구단서 코로나19 확진자 발생   \n",
       "4       104    \"코로나 확진자 '0명'인 날은 절대 오지 않는다\" 美전문가   \n",
       "5       104  올림픽 다가오는데 도쿄 코로나 확산 빨라져...일주일새 25％↑   \n",
       "\n",
       "                                            title_en  \n",
       "0  SK Bioscience Submits Phase III Clinical Trial...  \n",
       "1  41 cumulative COVID-19 confirmed patients at G...  \n",
       "2  New COVID-19 infections, 542 people by 9 p.m. ...  \n",
       "3  Covid-19 confirmed cases in professional baseb...  \n",
       "4  \"The day when there are zero confirmed cases o...  \n",
       "5  As the Olympics are approaching, the spread of...  "
      ]
     },
     "execution_count": 73,
     "metadata": {},
     "output_type": "execute_result"
    }
   ],
   "source": [
    "covid[\"title_en\"] = covid_en\n",
    "covid"
   ]
  },
  {
   "cell_type": "code",
   "execution_count": 74,
   "id": "cbfdc9cd-93db-437e-8029-4b5e7b50b76a",
   "metadata": {},
   "outputs": [],
   "source": [
    "# utf-8-sig : excel에서 사용하는 인코딩 방식과 호환이 되는 utf-8인 인코딩 방식 \n",
    "covid.to_excel(\"covid_en.xlsx\", index = False, encoding=\"utf-8-sig\")"
   ]
  },
  {
   "cell_type": "code",
   "execution_count": 75,
   "id": "67d2f31c-c50c-413f-b3ef-eaa5759f63bc",
   "metadata": {},
   "outputs": [
    {
     "name": "stdout",
     "output_type": "stream",
     "text": [
      " C 드라이브의 볼륨에는 이름이 없습니다.\n",
      " 볼륨 일련 번호: 7C6C-FC35\n",
      "\n",
      " C:\\Users\\User\\python라이브러리\\day1 디렉터리\n",
      "\n",
      "2022-08-03  오후 09:00    <DIR>          .\n",
      "2022-08-03  오후 09:00    <DIR>          ..\n",
      "2022-08-03  오후 03:43    <DIR>          .ipynb_checkpoints\n",
      "2022-08-03  오후 03:44            71,006 01_requests_json.ipynb\n",
      "2022-08-03  오후 03:44           418,148 01_requests_naver_stock.ipynb\n",
      "2022-08-03  오전 09:33         1,459,599 01_web.pdf\n",
      "2022-08-03  오전 09:33         1,601,071 02_Oauth.pdf\n",
      "2022-08-03  오후 08:59            18,552 02_requests_api.ipynb\n",
      "2022-08-02  오후 05:25             9,016 02_requests_daum_exchange.ipynb\n",
      "2022-08-03  오후 03:43           115,227 03_naver_api.ipynb\n",
      "2022-08-02  오후 05:25            15,687 04_requests_zigbang.ipynb\n",
      "2022-08-03  오후 05:19            10,060 covid.xlsx\n",
      "2022-08-03  오후 09:00             6,132 covid_en.xlsx\n",
      "              10개 파일           3,724,498 바이트\n",
      "               3개 디렉터리  126,895,284,224 바이트 남음\n"
     ]
    }
   ],
   "source": [
    "%ls"
   ]
  },
  {
   "cell_type": "code",
   "execution_count": null,
   "id": "3da6f41e-664c-4aea-a79b-8c6c1b8aa7e3",
   "metadata": {},
   "outputs": [],
   "source": [
    "# 함수 : Scope\n",
    "# 변수를 선언할때 함수 밖에서 선언하는것과 함수 안에서 선언하는 변수의 메모리 저장공간이 다릅니다.\n",
    "# 전역(global)영역 : 함수 밖의 영역\n",
    "# 지역(local)영역 : 함수 안의 영역\n",
    "# global : 지역영역에서 전역영역에 있는 변수를 가져올때 사용하는 명령어"
   ]
  },
  {
   "cell_type": "code",
   "execution_count": 76,
   "id": "3268a7ac-8ea7-43b0-8584-64d53c996b66",
   "metadata": {},
   "outputs": [
    {
     "name": "stdout",
     "output_type": "stream",
     "text": [
      "20\n"
     ]
    }
   ],
   "source": [
    "data = 10\n",
    "\n",
    "def change():\n",
    "    global data # 전역영역에 있는 data를 지역영역으로 가져옴\n",
    "    data = 20\n",
    "    \n",
    "change()\n",
    "print(data)"
   ]
  },
  {
   "cell_type": "code",
   "execution_count": null,
   "id": "fa0d2232-5214-4433-957f-6c1b650f34e0",
   "metadata": {},
   "outputs": [],
   "source": [
    "# 실습 과제 \n",
    "# 다음 증권에서 \n",
    "# headers : referer, user-agent설정 "
   ]
  },
  {
   "cell_type": "code",
   "execution_count": null,
   "id": "dcd5c3e7-c93c-4a99-a1eb-b57388bf4b65",
   "metadata": {},
   "outputs": [],
   "source": [
    "def translate(txt):\n",
    "    CLIENT_ID, CLIENT_SECRET = \"KE2M4YcO4Sv9P7HrFXJ1\",\"9X0zM51ZRf\" \n",
    "    url = \"https://openapi.naver.com/v1/papago/n2mt\"\n",
    "    params = {\"source\": \"ko\", \"target\": \"en\", \"text\": txt}\n",
    "    headers = {\"Content-Type\": \"application/json\", \n",
    "           \"X-Naver-Client-Id\": CLIENT_ID,\n",
    "           \"X-Naver-Client-Secret\": CLIENT_SECRET}\n",
    "    response = requests.post(url, json.dumps(params), headers=headers)\n",
    "    return txt_en"
   ]
  },
  {
   "cell_type": "code",
   "execution_count": null,
   "id": "54ecde9a-4352-45b4-8d35-569b787ff0ad",
   "metadata": {},
   "outputs": [],
   "source": []
  }
 ],
 "metadata": {
  "kernelspec": {
   "display_name": "Python 3 (ipykernel)",
   "language": "python",
   "name": "python3"
  },
  "language_info": {
   "codemirror_mode": {
    "name": "ipython",
    "version": 3
   },
   "file_extension": ".py",
   "mimetype": "text/x-python",
   "name": "python",
   "nbconvert_exporter": "python",
   "pygments_lexer": "ipython3",
   "version": "3.9.13"
  }
 },
 "nbformat": 4,
 "nbformat_minor": 5
}
