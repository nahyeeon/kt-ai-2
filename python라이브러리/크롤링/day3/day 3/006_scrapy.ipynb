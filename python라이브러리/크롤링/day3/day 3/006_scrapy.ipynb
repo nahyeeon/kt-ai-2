{
 "cells": [
  {
   "cell_type": "markdown",
   "id": "459c61fb-2e5d-413a-9e17-75b8fdf4ac3d",
   "metadata": {},
   "source": [
    "### scrapy\n",
    "- 비동기 방식으로 데이터를 수집 > 데이터 수집속도가 빠름"
   ]
  },
  {
   "cell_type": "code",
   "execution_count": 3,
   "id": "5a12390b-2095-4a68-a71b-dfdae581bff6",
   "metadata": {},
   "outputs": [],
   "source": [
    "import scrapy, requests\n",
    "from scrapy.http import TextResponse"
   ]
  },
  {
   "cell_type": "code",
   "execution_count": null,
   "id": "40a8d0c1-6c4e-4a93-9434-79c4b01f628e",
   "metadata": {},
   "outputs": [],
   "source": [
    "# Gmarket 베스트 200 상품 데이터 수집"
   ]
  },
  {
   "cell_type": "code",
   "execution_count": null,
   "id": "4f6dc202-627f-44e1-acc8-fd24236114d0",
   "metadata": {},
   "outputs": [],
   "source": [
    "# 1. 스크레피 프로젝트 생성"
   ]
  },
  {
   "cell_type": "code",
   "execution_count": 4,
   "id": "7a35b365-8456-4057-b091-366a0819d36b",
   "metadata": {},
   "outputs": [
    {
     "name": "stdout",
     "output_type": "stream",
     "text": [
      "New Scrapy project 'gmarket', using template directory 'c:\\users\\user\\anaconda3\\lib\\site-packages\\scrapy\\templates\\project', created in:\n",
      "    C:\\Users\\User\\python라이브러리\\day3\\day 3\\gmarket\n",
      "\n",
      "You can start your first spider with:\n",
      "    cd gmarket\n",
      "    scrapy genspider example example.com\n"
     ]
    }
   ],
   "source": [
    "!scrapy startproject gmarket"
   ]
  },
  {
   "cell_type": "code",
   "execution_count": 5,
   "id": "012ee280-ec47-48fd-b0de-1b576e7a1e2a",
   "metadata": {},
   "outputs": [
    {
     "name": "stdout",
     "output_type": "stream",
     "text": [
      "폴더 PATH의 목록입니다.\n",
      "볼륨 일련 번호가 00000057 7C6C:FC35입니다.\n",
      "C:\\USERS\\USER\\PYTHON라이브러리\\DAY3\\DAY 3\\GMARKET\n",
      "│  scrapy.cfg\n",
      "│  \n",
      "└─gmarket\n",
      "    │  items.py\n",
      "    │  middlewares.py\n",
      "    │  pipelines.py\n",
      "    │  settings.py\n",
      "    │  __init__.py\n",
      "    │  \n",
      "    └─spiders\n",
      "            __init__.py\n",
      "            \n"
     ]
    }
   ],
   "source": [
    "!tree gmarket /f"
   ]
  },
  {
   "cell_type": "code",
   "execution_count": null,
   "id": "24fa316f-65ba-469c-a487-419d48cb3b36",
   "metadata": {},
   "outputs": [],
   "source": [
    "# items.py : 수집할 데이터의 구조 정의 \n",
    "# middlewares.py : 데이터를 수집할때 headers 정보와 같은 내용을 설정\n",
    "# pipelines.py : 데이터를 수집한 후에 코드 실행 정의\n",
    "# settings.py : 크롤링 설정 : 크롤링 시간 텀, robots.txt 규칙 \n",
    "# spiders : 디렉토리 : 크롤링 절차 정의 "
   ]
  },
  {
   "cell_type": "code",
   "execution_count": null,
   "id": "19c847ab-b83a-436b-9429-95a283f08820",
   "metadata": {},
   "outputs": [],
   "source": [
    "# 2. xpath 찾기 : 링크, 상세 페이지의 데이터"
   ]
  },
  {
   "cell_type": "code",
   "execution_count": 6,
   "id": "fccdbe3f-5429-4786-af94-9baa18b071ca",
   "metadata": {},
   "outputs": [],
   "source": [
    "#링크 데이터 수집"
   ]
  },
  {
   "cell_type": "code",
   "execution_count": 11,
   "id": "ceef4165-0b1e-4db9-ad93-6944acae37d4",
   "metadata": {},
   "outputs": [],
   "source": [
    "request = requests.get('http://corners.gmarket.co.kr/Bestsellers')\n",
    "response = TextResponse(request.url, body=request.text, encoding='utf-8')"
   ]
  },
  {
   "cell_type": "code",
   "execution_count": 16,
   "id": "8673ef46-c609-4e4d-8b9e-e6606b3beac8",
   "metadata": {},
   "outputs": [
    {
     "data": {
      "text/plain": [
       "['http://item.gmarket.co.kr/Item?goodscode=2519604129&ver=637953127012143444',\n",
       " 'http://item.gmarket.co.kr/Item?goodscode=2520466046&ver=637953127012143444']"
      ]
     },
     "execution_count": 16,
     "metadata": {},
     "output_type": "execute_result"
    }
   ],
   "source": [
    "links = response.xpath('//*[@id=\"gBestWrap\"]/div/div[3]/div/ul/li/a/@href').extract()\n",
    "links[:2]"
   ]
  },
  {
   "cell_type": "code",
   "execution_count": null,
   "id": "3312cb28-fc5b-4b78-a6f3-435597434d5d",
   "metadata": {},
   "outputs": [],
   "source": [
    "# 상세 페이지 수집"
   ]
  },
  {
   "cell_type": "code",
   "execution_count": 20,
   "id": "67175045-44bc-4764-b036-2964827b2aa2",
   "metadata": {
    "tags": []
   },
   "outputs": [],
   "source": [
    "link= links[0]\n",
    "request = requests.get(link)\n",
    "response = TextResponse(request.url, body=request.text, encoding='utf-8')"
   ]
  },
  {
   "cell_type": "code",
   "execution_count": 21,
   "id": "de822ee1-5d70-44c2-9640-36841a7dcffa",
   "metadata": {},
   "outputs": [
    {
     "data": {
      "text/plain": [
       "('브라운 면도기 세정액 CCR5+1 ', '25,030')"
      ]
     },
     "execution_count": 21,
     "metadata": {},
     "output_type": "execute_result"
    }
   ],
   "source": [
    "title = response.xpath('//*[@id=\"itemcase_basic\"]/div/h1/text()')[0].extract()\n",
    "price = response.xpath('//*[@id=\"itemcase_basic\"]/div/p/span/strong/text()')[0].extract()\n",
    "title, price"
   ]
  },
  {
   "cell_type": "code",
   "execution_count": null,
   "id": "33a7eda0-286a-4ad4-81cf-ca6e9ba890eb",
   "metadata": {},
   "outputs": [],
   "source": [
    "# 3. items.py : 코드 작성 : model(데이터의 구조: 수집할 데이터의 컬럼을 정의)"
   ]
  },
  {
   "cell_type": "code",
   "execution_count": 22,
   "id": "95498047-5f15-4322-929b-2e8df709a4d7",
   "metadata": {},
   "outputs": [
    {
     "name": "stdout",
     "output_type": "stream",
     "text": [
      "Overwriting gmarket/gmarket/items.py\n"
     ]
    }
   ],
   "source": [
    "%%writefile gmarket/gmarket/items.py\n",
    "import scrapy\n",
    "\n",
    "class GmarketItem(scrapy.Item):\n",
    "    title = scrapy.Field() \n",
    "    price = scrapy.Field() \n",
    "    link = scrapy.Field() "
   ]
  },
  {
   "cell_type": "code",
   "execution_count": null,
   "id": "544fbde6-76ec-4926-b4fe-350d469292a2",
   "metadata": {},
   "outputs": [],
   "source": [
    "# 4. spider.py : 코드 작성 : 크롤링 절차 정의 "
   ]
  },
  {
   "cell_type": "code",
   "execution_count": 29,
   "id": "7a7ae2a9-ab50-40a2-b54b-3533ca30a142",
   "metadata": {},
   "outputs": [
    {
     "name": "stdout",
     "output_type": "stream",
     "text": [
      "Overwriting gmarket/gmarket/spiders/spider.py\n"
     ]
    }
   ],
   "source": [
    "%%writefile gmarket/gmarket/spiders/spider.py\n",
    "import scrapy\n",
    "from gmarket.items import GmarketItem\n",
    "\n",
    "class GMSpider(scrapy.Spider):\n",
    "    name = \"GMB\"\n",
    "    allow_domain = [\"gmarket.co.kr\"]\n",
    "    start_urls = [\"http://corners.gmarket.co.kr/Bestsellers\"]\n",
    "    \n",
    "    def parse(self, response):\n",
    "        links = response.xpath('//*[@id=\"gBestWrap\"]/div/div[3]/div/ul/li/a/@href').extract()\n",
    "        for link in links[:20]:\n",
    "            yield scrapy.Request(link, callback=self.parse_content)\n",
    "    \n",
    "    def parse_content(self, response):\n",
    "        item = GmarketItem()\n",
    "        item[\"title\"] = response.xpath('//*[@id=\"itemcase_basic\"]/div[1]/h1/text()')[0].extract()\n",
    "        item[\"price\"] = response.xpath('//*[@id=\"itemcase_basic\"]/div[1]/p/span/strong/text()')[0].extract()\n",
    "        item[\"link\"] = response.url\n",
    "        yield item"
   ]
  },
  {
   "cell_type": "code",
   "execution_count": 25,
   "id": "61b5ffb3-7f6e-4570-b0d3-fa988b5d0bcc",
   "metadata": {},
   "outputs": [],
   "source": [
    "# 5. 스크래피 프로젝트 실행\n",
    "# gmarket 디렉토리\n",
    "# scrapy crawl GMB -o items.csv"
   ]
  },
  {
   "cell_type": "code",
   "execution_count": 26,
   "id": "c734f654-7a41-400e-b76c-6bb6a403a6b7",
   "metadata": {},
   "outputs": [
    {
     "data": {
      "text/plain": [
       "'C:\\\\Users\\\\User\\\\python라이브러리\\\\day3\\\\day 3'"
      ]
     },
     "execution_count": 26,
     "metadata": {},
     "output_type": "execute_result"
    }
   ],
   "source": [
    "%pwd"
   ]
  },
  {
   "cell_type": "code",
   "execution_count": 27,
   "id": "66ae3b37-51cb-4f0c-902f-236cc4f04993",
   "metadata": {},
   "outputs": [
    {
     "data": {
      "text/plain": [
       "'C:\\\\Users\\\\User\\\\python라이브러리\\\\day3\\\\day 3'"
      ]
     },
     "execution_count": 27,
     "metadata": {},
     "output_type": "execute_result"
    }
   ],
   "source": [
    "cd C:\\\\Users\\\\User\\\\python라이브러리\\\\day3\\\\day 3"
   ]
  },
  {
   "cell_type": "code",
   "execution_count": 30,
   "id": "6c179a1b-c9f2-44bd-94cd-21a064b6bd94",
   "metadata": {
    "collapsed": true,
    "jupyter": {
     "outputs_hidden": true
    },
    "tags": []
   },
   "outputs": [
    {
     "ename": "FileNotFoundError",
     "evalue": "[Errno 2] No such file or directory: 'gmarket/items.csv'",
     "output_type": "error",
     "traceback": [
      "\u001b[1;31m---------------------------------------------------------------------------\u001b[0m",
      "\u001b[1;31mFileNotFoundError\u001b[0m                         Traceback (most recent call last)",
      "\u001b[1;32m<ipython-input-30-c3c802f348ce>\u001b[0m in \u001b[0;36m<module>\u001b[1;34m\u001b[0m\n\u001b[1;32m----> 1\u001b[1;33m \u001b[0mpd\u001b[0m\u001b[1;33m.\u001b[0m\u001b[0mread_csv\u001b[0m\u001b[1;33m(\u001b[0m\u001b[1;34m\"gmarket/items.csv\"\u001b[0m\u001b[1;33m)\u001b[0m\u001b[1;33m.\u001b[0m\u001b[0mtail\u001b[0m\u001b[1;33m(\u001b[0m\u001b[1;36m2\u001b[0m\u001b[1;33m)\u001b[0m\u001b[1;33m\u001b[0m\u001b[1;33m\u001b[0m\u001b[0m\n\u001b[0m",
      "\u001b[1;32m~\\anaconda3\\lib\\site-packages\\pandas\\io\\parsers.py\u001b[0m in \u001b[0;36mread_csv\u001b[1;34m(filepath_or_buffer, sep, delimiter, header, names, index_col, usecols, squeeze, prefix, mangle_dupe_cols, dtype, engine, converters, true_values, false_values, skipinitialspace, skiprows, skipfooter, nrows, na_values, keep_default_na, na_filter, verbose, skip_blank_lines, parse_dates, infer_datetime_format, keep_date_col, date_parser, dayfirst, cache_dates, iterator, chunksize, compression, thousands, decimal, lineterminator, quotechar, quoting, doublequote, escapechar, comment, encoding, dialect, error_bad_lines, warn_bad_lines, delim_whitespace, low_memory, memory_map, float_precision, storage_options)\u001b[0m\n\u001b[0;32m    608\u001b[0m     \u001b[0mkwds\u001b[0m\u001b[1;33m.\u001b[0m\u001b[0mupdate\u001b[0m\u001b[1;33m(\u001b[0m\u001b[0mkwds_defaults\u001b[0m\u001b[1;33m)\u001b[0m\u001b[1;33m\u001b[0m\u001b[1;33m\u001b[0m\u001b[0m\n\u001b[0;32m    609\u001b[0m \u001b[1;33m\u001b[0m\u001b[0m\n\u001b[1;32m--> 610\u001b[1;33m     \u001b[1;32mreturn\u001b[0m \u001b[0m_read\u001b[0m\u001b[1;33m(\u001b[0m\u001b[0mfilepath_or_buffer\u001b[0m\u001b[1;33m,\u001b[0m \u001b[0mkwds\u001b[0m\u001b[1;33m)\u001b[0m\u001b[1;33m\u001b[0m\u001b[1;33m\u001b[0m\u001b[0m\n\u001b[0m\u001b[0;32m    611\u001b[0m \u001b[1;33m\u001b[0m\u001b[0m\n\u001b[0;32m    612\u001b[0m \u001b[1;33m\u001b[0m\u001b[0m\n",
      "\u001b[1;32m~\\anaconda3\\lib\\site-packages\\pandas\\io\\parsers.py\u001b[0m in \u001b[0;36m_read\u001b[1;34m(filepath_or_buffer, kwds)\u001b[0m\n\u001b[0;32m    460\u001b[0m \u001b[1;33m\u001b[0m\u001b[0m\n\u001b[0;32m    461\u001b[0m     \u001b[1;31m# Create the parser.\u001b[0m\u001b[1;33m\u001b[0m\u001b[1;33m\u001b[0m\u001b[1;33m\u001b[0m\u001b[0m\n\u001b[1;32m--> 462\u001b[1;33m     \u001b[0mparser\u001b[0m \u001b[1;33m=\u001b[0m \u001b[0mTextFileReader\u001b[0m\u001b[1;33m(\u001b[0m\u001b[0mfilepath_or_buffer\u001b[0m\u001b[1;33m,\u001b[0m \u001b[1;33m**\u001b[0m\u001b[0mkwds\u001b[0m\u001b[1;33m)\u001b[0m\u001b[1;33m\u001b[0m\u001b[1;33m\u001b[0m\u001b[0m\n\u001b[0m\u001b[0;32m    463\u001b[0m \u001b[1;33m\u001b[0m\u001b[0m\n\u001b[0;32m    464\u001b[0m     \u001b[1;32mif\u001b[0m \u001b[0mchunksize\u001b[0m \u001b[1;32mor\u001b[0m \u001b[0miterator\u001b[0m\u001b[1;33m:\u001b[0m\u001b[1;33m\u001b[0m\u001b[1;33m\u001b[0m\u001b[0m\n",
      "\u001b[1;32m~\\anaconda3\\lib\\site-packages\\pandas\\io\\parsers.py\u001b[0m in \u001b[0;36m__init__\u001b[1;34m(self, f, engine, **kwds)\u001b[0m\n\u001b[0;32m    817\u001b[0m             \u001b[0mself\u001b[0m\u001b[1;33m.\u001b[0m\u001b[0moptions\u001b[0m\u001b[1;33m[\u001b[0m\u001b[1;34m\"has_index_names\"\u001b[0m\u001b[1;33m]\u001b[0m \u001b[1;33m=\u001b[0m \u001b[0mkwds\u001b[0m\u001b[1;33m[\u001b[0m\u001b[1;34m\"has_index_names\"\u001b[0m\u001b[1;33m]\u001b[0m\u001b[1;33m\u001b[0m\u001b[1;33m\u001b[0m\u001b[0m\n\u001b[0;32m    818\u001b[0m \u001b[1;33m\u001b[0m\u001b[0m\n\u001b[1;32m--> 819\u001b[1;33m         \u001b[0mself\u001b[0m\u001b[1;33m.\u001b[0m\u001b[0m_engine\u001b[0m \u001b[1;33m=\u001b[0m \u001b[0mself\u001b[0m\u001b[1;33m.\u001b[0m\u001b[0m_make_engine\u001b[0m\u001b[1;33m(\u001b[0m\u001b[0mself\u001b[0m\u001b[1;33m.\u001b[0m\u001b[0mengine\u001b[0m\u001b[1;33m)\u001b[0m\u001b[1;33m\u001b[0m\u001b[1;33m\u001b[0m\u001b[0m\n\u001b[0m\u001b[0;32m    820\u001b[0m \u001b[1;33m\u001b[0m\u001b[0m\n\u001b[0;32m    821\u001b[0m     \u001b[1;32mdef\u001b[0m \u001b[0mclose\u001b[0m\u001b[1;33m(\u001b[0m\u001b[0mself\u001b[0m\u001b[1;33m)\u001b[0m\u001b[1;33m:\u001b[0m\u001b[1;33m\u001b[0m\u001b[1;33m\u001b[0m\u001b[0m\n",
      "\u001b[1;32m~\\anaconda3\\lib\\site-packages\\pandas\\io\\parsers.py\u001b[0m in \u001b[0;36m_make_engine\u001b[1;34m(self, engine)\u001b[0m\n\u001b[0;32m   1048\u001b[0m             )\n\u001b[0;32m   1049\u001b[0m         \u001b[1;31m# error: Too many arguments for \"ParserBase\"\u001b[0m\u001b[1;33m\u001b[0m\u001b[1;33m\u001b[0m\u001b[1;33m\u001b[0m\u001b[0m\n\u001b[1;32m-> 1050\u001b[1;33m         \u001b[1;32mreturn\u001b[0m \u001b[0mmapping\u001b[0m\u001b[1;33m[\u001b[0m\u001b[0mengine\u001b[0m\u001b[1;33m]\u001b[0m\u001b[1;33m(\u001b[0m\u001b[0mself\u001b[0m\u001b[1;33m.\u001b[0m\u001b[0mf\u001b[0m\u001b[1;33m,\u001b[0m \u001b[1;33m**\u001b[0m\u001b[0mself\u001b[0m\u001b[1;33m.\u001b[0m\u001b[0moptions\u001b[0m\u001b[1;33m)\u001b[0m  \u001b[1;31m# type: ignore[call-arg]\u001b[0m\u001b[1;33m\u001b[0m\u001b[1;33m\u001b[0m\u001b[0m\n\u001b[0m\u001b[0;32m   1051\u001b[0m \u001b[1;33m\u001b[0m\u001b[0m\n\u001b[0;32m   1052\u001b[0m     \u001b[1;32mdef\u001b[0m \u001b[0m_failover_to_python\u001b[0m\u001b[1;33m(\u001b[0m\u001b[0mself\u001b[0m\u001b[1;33m)\u001b[0m\u001b[1;33m:\u001b[0m\u001b[1;33m\u001b[0m\u001b[1;33m\u001b[0m\u001b[0m\n",
      "\u001b[1;32m~\\anaconda3\\lib\\site-packages\\pandas\\io\\parsers.py\u001b[0m in \u001b[0;36m__init__\u001b[1;34m(self, src, **kwds)\u001b[0m\n\u001b[0;32m   1865\u001b[0m \u001b[1;33m\u001b[0m\u001b[0m\n\u001b[0;32m   1866\u001b[0m         \u001b[1;31m# open handles\u001b[0m\u001b[1;33m\u001b[0m\u001b[1;33m\u001b[0m\u001b[1;33m\u001b[0m\u001b[0m\n\u001b[1;32m-> 1867\u001b[1;33m         \u001b[0mself\u001b[0m\u001b[1;33m.\u001b[0m\u001b[0m_open_handles\u001b[0m\u001b[1;33m(\u001b[0m\u001b[0msrc\u001b[0m\u001b[1;33m,\u001b[0m \u001b[0mkwds\u001b[0m\u001b[1;33m)\u001b[0m\u001b[1;33m\u001b[0m\u001b[1;33m\u001b[0m\u001b[0m\n\u001b[0m\u001b[0;32m   1868\u001b[0m         \u001b[1;32massert\u001b[0m \u001b[0mself\u001b[0m\u001b[1;33m.\u001b[0m\u001b[0mhandles\u001b[0m \u001b[1;32mis\u001b[0m \u001b[1;32mnot\u001b[0m \u001b[1;32mNone\u001b[0m\u001b[1;33m\u001b[0m\u001b[1;33m\u001b[0m\u001b[0m\n\u001b[0;32m   1869\u001b[0m         \u001b[1;32mfor\u001b[0m \u001b[0mkey\u001b[0m \u001b[1;32min\u001b[0m \u001b[1;33m(\u001b[0m\u001b[1;34m\"storage_options\"\u001b[0m\u001b[1;33m,\u001b[0m \u001b[1;34m\"encoding\"\u001b[0m\u001b[1;33m,\u001b[0m \u001b[1;34m\"memory_map\"\u001b[0m\u001b[1;33m,\u001b[0m \u001b[1;34m\"compression\"\u001b[0m\u001b[1;33m)\u001b[0m\u001b[1;33m:\u001b[0m\u001b[1;33m\u001b[0m\u001b[1;33m\u001b[0m\u001b[0m\n",
      "\u001b[1;32m~\\anaconda3\\lib\\site-packages\\pandas\\io\\parsers.py\u001b[0m in \u001b[0;36m_open_handles\u001b[1;34m(self, src, kwds)\u001b[0m\n\u001b[0;32m   1360\u001b[0m         \u001b[0mLet\u001b[0m \u001b[0mthe\u001b[0m \u001b[0mreaders\u001b[0m \u001b[0mopen\u001b[0m \u001b[0mIOHanldes\u001b[0m \u001b[0mafter\u001b[0m \u001b[0mthey\u001b[0m \u001b[0mare\u001b[0m \u001b[0mdone\u001b[0m \u001b[1;32mwith\u001b[0m \u001b[0mtheir\u001b[0m \u001b[0mpotential\u001b[0m \u001b[0mraises\u001b[0m\u001b[1;33m.\u001b[0m\u001b[1;33m\u001b[0m\u001b[1;33m\u001b[0m\u001b[0m\n\u001b[0;32m   1361\u001b[0m         \"\"\"\n\u001b[1;32m-> 1362\u001b[1;33m         self.handles = get_handle(\n\u001b[0m\u001b[0;32m   1363\u001b[0m             \u001b[0msrc\u001b[0m\u001b[1;33m,\u001b[0m\u001b[1;33m\u001b[0m\u001b[1;33m\u001b[0m\u001b[0m\n\u001b[0;32m   1364\u001b[0m             \u001b[1;34m\"r\"\u001b[0m\u001b[1;33m,\u001b[0m\u001b[1;33m\u001b[0m\u001b[1;33m\u001b[0m\u001b[0m\n",
      "\u001b[1;32m~\\anaconda3\\lib\\site-packages\\pandas\\io\\common.py\u001b[0m in \u001b[0;36mget_handle\u001b[1;34m(path_or_buf, mode, encoding, compression, memory_map, is_text, errors, storage_options)\u001b[0m\n\u001b[0;32m    640\u001b[0m                 \u001b[0merrors\u001b[0m \u001b[1;33m=\u001b[0m \u001b[1;34m\"replace\"\u001b[0m\u001b[1;33m\u001b[0m\u001b[1;33m\u001b[0m\u001b[0m\n\u001b[0;32m    641\u001b[0m             \u001b[1;31m# Encoding\u001b[0m\u001b[1;33m\u001b[0m\u001b[1;33m\u001b[0m\u001b[1;33m\u001b[0m\u001b[0m\n\u001b[1;32m--> 642\u001b[1;33m             handle = open(\n\u001b[0m\u001b[0;32m    643\u001b[0m                 \u001b[0mhandle\u001b[0m\u001b[1;33m,\u001b[0m\u001b[1;33m\u001b[0m\u001b[1;33m\u001b[0m\u001b[0m\n\u001b[0;32m    644\u001b[0m                 \u001b[0mioargs\u001b[0m\u001b[1;33m.\u001b[0m\u001b[0mmode\u001b[0m\u001b[1;33m,\u001b[0m\u001b[1;33m\u001b[0m\u001b[1;33m\u001b[0m\u001b[0m\n",
      "\u001b[1;31mFileNotFoundError\u001b[0m: [Errno 2] No such file or directory: 'gmarket/items.csv'"
     ]
    }
   ],
   "source": [
    "pd.read_csv(\"gmarket/items.csv\").tail(2)"
   ]
  },
  {
   "cell_type": "code",
   "execution_count": null,
   "id": "cfd42aae-aeba-41bf-af2b-ca3d00bd4b2f",
   "metadata": {},
   "outputs": [],
   "source": []
  },
  {
   "cell_type": "code",
   "execution_count": null,
   "id": "30e708f1-beb9-4979-a341-ff9b7cbe20b8",
   "metadata": {},
   "outputs": [],
   "source": []
  },
  {
   "cell_type": "code",
   "execution_count": null,
   "id": "181439e8-7055-460a-86ff-c2143f37bcaa",
   "metadata": {},
   "outputs": [],
   "source": []
  }
 ],
 "metadata": {
  "kernelspec": {
   "display_name": "Python 3 (ipykernel)",
   "language": "python",
   "name": "python3"
  },
  "language_info": {
   "codemirror_mode": {
    "name": "ipython",
    "version": 3
   },
   "file_extension": ".py",
   "mimetype": "text/x-python",
   "name": "python",
   "nbconvert_exporter": "python",
   "pygments_lexer": "ipython3",
   "version": "3.9.13"
  }
 },
 "nbformat": 4,
 "nbformat_minor": 5
}
