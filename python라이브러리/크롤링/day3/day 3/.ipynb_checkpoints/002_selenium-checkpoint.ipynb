{
 "cells": [
  {
   "cell_type": "markdown",
   "id": "7f3757e4-fd66-4b31-9310-2b1a124eb5b6",
   "metadata": {},
   "source": [
    "### Selenium\n",
    "- 브라우져의 자동화 목적으로 만들어진 다양한 브라우져와 언어를 지원하는 라이브러리\n",
    "- 브라우져를 파이썬 코드로 컨트롤 해서 브라우져에 있는 데이터를 수집"
   ]
  },
  {
   "cell_type": "markdown",
   "id": "046c1dd8-38a5-4cba-bdbd-a445e540c387",
   "metadata": {},
   "source": [
    "#### 크롤링 방법\n",
    "- 1. requests : json : 웹페이지의 API 트래픽을 분석해서 데이터 수집 : naver stock\n",
    "- 2. requests : json : 공식적으로 제공하는 API를 application key 받아서 데이터 수집 : naver api(papago, trend)\n",
    "- 3. requests : html, BeautifulSoup(css selector) : 웹페이지의 html 코드 받아서 데이터 수집 : gmarket\n",
    "- 4. selenium : browser - python : 브라우져를 파이썬 코드로 컨트롤 해서 데이터 수집 : ted\n",
    "- 크롤링할때 좋은 순서 : 2 > 1 > 3 > 4"
   ]
  },
  {
   "cell_type": "markdown",
   "id": "0a751189-70fe-4099-8942-84e01e5439e6",
   "metadata": {},
   "source": [
    "#### 환경설정\n",
    "- 크롬 브라우져 설치\n",
    "- 크롬 브라우져 드라이버 다운로드 : 크롬 브라우져와 같은 버전 : 크롬브라우져와 파이썬코드 연결\n",
    "- selenium 패키지 설치\n",
    "- opt. : 크롬 브라우져의 드라이버 파일을 환경변수로 등록하면 조금 쉽게 사용"
   ]
  },
  {
   "cell_type": "code",
   "execution_count": 9,
   "id": "9c4ca0af-c2d5-4845-9880-aa6ed61f2578",
   "metadata": {
    "tags": []
   },
   "outputs": [
    {
     "name": "stdout",
     "output_type": "stream",
     "text": [
      "Requirement already satisfied: selenium in c:\\users\\user\\appdata\\local\\programs\\python\\python39\\lib\\site-packages (4.3.0)\n",
      "Requirement already satisfied: trio-websocket~=0.9 in c:\\users\\user\\appdata\\local\\programs\\python\\python39\\lib\\site-packages (from selenium) (0.9.2)\n",
      "Requirement already satisfied: urllib3[secure,socks]~=1.26 in c:\\users\\user\\appdata\\local\\programs\\python\\python39\\lib\\site-packages (from selenium) (1.26.11)\n",
      "Requirement already satisfied: trio~=0.17 in c:\\users\\user\\appdata\\local\\programs\\python\\python39\\lib\\site-packages (from selenium) (0.21.0)\n",
      "Requirement already satisfied: idna in c:\\users\\user\\appdata\\local\\programs\\python\\python39\\lib\\site-packages (from trio~=0.17->selenium) (3.3)\n",
      "Requirement already satisfied: sniffio in c:\\users\\user\\appdata\\local\\programs\\python\\python39\\lib\\site-packages (from trio~=0.17->selenium) (1.2.0)\n",
      "Requirement already satisfied: cffi>=1.14 in c:\\users\\user\\appdata\\local\\programs\\python\\python39\\lib\\site-packages (from trio~=0.17->selenium) (1.15.1)\n",
      "Requirement already satisfied: async-generator>=1.9 in c:\\users\\user\\appdata\\local\\programs\\python\\python39\\lib\\site-packages (from trio~=0.17->selenium) (1.10)\n",
      "Requirement already satisfied: outcome in c:\\users\\user\\appdata\\local\\programs\\python\\python39\\lib\\site-packages (from trio~=0.17->selenium) (1.2.0)\n",
      "Requirement already satisfied: attrs>=19.2.0 in c:\\users\\user\\appdata\\local\\programs\\python\\python39\\lib\\site-packages (from trio~=0.17->selenium) (22.1.0)\n",
      "Requirement already satisfied: sortedcontainers in c:\\users\\user\\appdata\\local\\programs\\python\\python39\\lib\\site-packages (from trio~=0.17->selenium) (2.4.0)\n",
      "Requirement already satisfied: wsproto>=0.14 in c:\\users\\user\\appdata\\local\\programs\\python\\python39\\lib\\site-packages (from trio-websocket~=0.9->selenium) (1.1.0)\n",
      "Requirement already satisfied: pyOpenSSL>=0.14 in c:\\users\\user\\appdata\\local\\programs\\python\\python39\\lib\\site-packages (from urllib3[secure,socks]~=1.26->selenium) (22.0.0)\n",
      "Requirement already satisfied: certifi in c:\\users\\user\\appdata\\local\\programs\\python\\python39\\lib\\site-packages (from urllib3[secure,socks]~=1.26->selenium) (2022.6.15)\n",
      "Requirement already satisfied: cryptography>=1.3.4 in c:\\users\\user\\appdata\\local\\programs\\python\\python39\\lib\\site-packages (from urllib3[secure,socks]~=1.26->selenium) (37.0.4)\n",
      "Requirement already satisfied: PySocks!=1.5.7,<2.0,>=1.5.6 in c:\\users\\user\\appdata\\local\\programs\\python\\python39\\lib\\site-packages (from urllib3[secure,socks]~=1.26->selenium) (1.7.1)\n",
      "Requirement already satisfied: pycparser in c:\\users\\user\\appdata\\local\\programs\\python\\python39\\lib\\site-packages (from cffi>=1.14->trio~=0.17->selenium) (2.21)\n",
      "Requirement already satisfied: h11<1,>=0.9.0 in c:\\users\\user\\appdata\\local\\programs\\python\\python39\\lib\\site-packages (from wsproto>=0.14->trio-websocket~=0.9->selenium) (0.13.0)\n"
     ]
    }
   ],
   "source": [
    "!pip install selenium"
   ]
  },
  {
   "cell_type": "code",
   "execution_count": 15,
   "id": "c5c09253-fce0-4848-aebe-111e1ee6ceb4",
   "metadata": {},
   "outputs": [],
   "source": [
    "from selenium import webdriver\n",
    "from selenium.webdriver.common.by import By"
   ]
  },
  {
   "cell_type": "code",
   "execution_count": 16,
   "id": "357789f9-8478-4564-b659-65519dcfc92a",
   "metadata": {},
   "outputs": [],
   "source": [
    "# 1. 브라우져 띄우기\n",
    "driver= webdriver.Chrome()"
   ]
  },
  {
   "cell_type": "code",
   "execution_count": 17,
   "id": "b21e7185-9ab7-469c-b52e-c92bb54ba28c",
   "metadata": {
    "tags": []
   },
   "outputs": [],
   "source": [
    "# 2. 페이지 이동\n",
    "driver.get('https://www.daum.net/')"
   ]
  },
  {
   "cell_type": "code",
   "execution_count": 18,
   "id": "50793ba9-2598-4bd6-827e-f19b7b57309b",
   "metadata": {},
   "outputs": [],
   "source": [
    "# 3. 브라우져 사이즈 조절\n",
    "driver.set_window_size(200,600)"
   ]
  },
  {
   "cell_type": "code",
   "execution_count": 19,
   "id": "b901d16a-cdd4-4875-81b2-4bfb677aeadf",
   "metadata": {},
   "outputs": [],
   "source": [
    "# 4. 브라우저 스크롤 조절(자바스크립트 코드 실행)\n",
    "driver.execute_script('window.scrollTo(200,300);')"
   ]
  },
  {
   "cell_type": "code",
   "execution_count": 20,
   "id": "2251d6f0-fe39-4b81-9449-f397d1cb2f98",
   "metadata": {},
   "outputs": [],
   "source": [
    "# 5. alert 다루기\n",
    "driver.execute_script(\"alert('hello selenium!');\")"
   ]
  },
  {
   "cell_type": "code",
   "execution_count": 21,
   "id": "9bd26bbd-fdf5-460f-9b0d-1165bb74d2d0",
   "metadata": {},
   "outputs": [],
   "source": [
    "alert = driver.switch_to.alert"
   ]
  },
  {
   "cell_type": "code",
   "execution_count": 22,
   "id": "8cee2b51-62ab-4c1f-9f68-06705fff4b89",
   "metadata": {},
   "outputs": [],
   "source": [
    "alert.accept()"
   ]
  },
  {
   "cell_type": "code",
   "execution_count": 23,
   "id": "ef300c31-cea2-4be7-b0fd-b86eafe2cf9b",
   "metadata": {},
   "outputs": [],
   "source": [
    "driver.execute_script('window.scrollTo(0,0);')"
   ]
  },
  {
   "cell_type": "code",
   "execution_count": 24,
   "id": "38260166-8f3f-4592-8451-5336f793d3ba",
   "metadata": {},
   "outputs": [],
   "source": [
    "# 6. input 창에 문자열 입력 \n",
    "driver.find_element(By.CSS_SELECTOR, \"#q\").send_keys(\"파이썬\")"
   ]
  },
  {
   "cell_type": "code",
   "execution_count": 23,
   "id": "90a8f37b-3c87-4467-8acc-f22463b0d00d",
   "metadata": {},
   "outputs": [],
   "source": [
    "# 7. 검색 버튼 클릭\n",
    "driver.find_element(By.CSS_SELECTOR, \".inner_search>.ico_pctop.btn_search\").click()"
   ]
  },
  {
   "cell_type": "code",
   "execution_count": 24,
   "id": "88201c69-37d4-4f5c-9419-6dd901052b33",
   "metadata": {},
   "outputs": [],
   "source": [
    "# 8. 브라우저 종료\n",
    "driver.quit()"
   ]
  },
  {
   "cell_type": "code",
   "execution_count": 50,
   "id": "21245bf0-b78d-46d5-b465-b271e53f09e7",
   "metadata": {},
   "outputs": [],
   "source": [
    "# 브라우져 자동화\n",
    "driver = webdriver.Chrome()\n",
    "driver.get('https://daum.net')\n",
    "driver.set_window_size(200,600)\n",
    "driver.execute_script('window.scrollTo(200,300);')\n",
    "driver.execute_script(\"alert('hello selenium!');\")\n",
    "alert = driver.switch_to.alert\n",
    "alert.accept()\n",
    "driver.execute_script('window.scrollTo(0,0);')\n",
    "driver.find_element(By.CSS_SELECTOR, \"#q\").send_keys(\"파이썬\")\n",
    "driver.find_element(By.CSS_SELECTOR, \".inner_search>.ico_pctop.btn_search\").click()\n",
    "driver.quit()"
   ]
  },
  {
   "cell_type": "code",
   "execution_count": 26,
   "id": "8192b709-def1-41d1-b564-8706b9a887b7",
   "metadata": {},
   "outputs": [],
   "source": [
    "# 간단하게 머신러닝 사용"
   ]
  },
  {
   "cell_type": "code",
   "execution_count": 27,
   "id": "9239174e-7535-4fe1-92c8-172144ccf4c4",
   "metadata": {},
   "outputs": [
    {
     "name": "stdout",
     "output_type": "stream",
     "text": [
      " C 드라이브의 볼륨에는 이름이 없습니다.\n",
      " 볼륨 일련 번호: 7C6C-FC35\n",
      "\n",
      " C:\\Users\\User\\python라이브러리\\day3\\day 3 디렉터리\n",
      "\n",
      "2022-08-05  오후 12:03               477 premierleague.csv\n",
      "               1개 파일                 477 바이트\n",
      "               0개 디렉터리  121,829,187,584 바이트 남음\n"
     ]
    }
   ],
   "source": [
    "%ls premierleague.csv"
   ]
  },
  {
   "cell_type": "code",
   "execution_count": 28,
   "id": "5fb766aa-f749-401c-be54-744af966546b",
   "metadata": {},
   "outputs": [
    {
     "data": {
      "text/html": [
       "<div>\n",
       "<style scoped>\n",
       "    .dataframe tbody tr th:only-of-type {\n",
       "        vertical-align: middle;\n",
       "    }\n",
       "\n",
       "    .dataframe tbody tr th {\n",
       "        vertical-align: top;\n",
       "    }\n",
       "\n",
       "    .dataframe thead th {\n",
       "        text-align: right;\n",
       "    }\n",
       "</style>\n",
       "<table border=\"1\" class=\"dataframe\">\n",
       "  <thead>\n",
       "    <tr style=\"text-align: right;\">\n",
       "      <th></th>\n",
       "      <th>name</th>\n",
       "      <th>gf</th>\n",
       "      <th>ga</th>\n",
       "      <th>points</th>\n",
       "    </tr>\n",
       "  </thead>\n",
       "  <tbody>\n",
       "    <tr>\n",
       "      <th>18</th>\n",
       "      <td>Stoke City</td>\n",
       "      <td>35</td>\n",
       "      <td>68</td>\n",
       "      <td>33</td>\n",
       "    </tr>\n",
       "    <tr>\n",
       "      <th>19</th>\n",
       "      <td>West Bromwich Albion</td>\n",
       "      <td>31</td>\n",
       "      <td>56</td>\n",
       "      <td>31</td>\n",
       "    </tr>\n",
       "  </tbody>\n",
       "</table>\n",
       "</div>"
      ],
      "text/plain": [
       "                    name  gf  ga  points\n",
       "18            Stoke City  35  68      33\n",
       "19  West Bromwich Albion  31  56      31"
      ]
     },
     "execution_count": 28,
     "metadata": {},
     "output_type": "execute_result"
    }
   ],
   "source": [
    "df = pd.read_csv('premierleague.csv')\n",
    "df.tail(2)"
   ]
  },
  {
   "cell_type": "code",
   "execution_count": 30,
   "id": "cc1f99da-3995-4ce5-958e-a888cc2ebad7",
   "metadata": {},
   "outputs": [],
   "source": [
    "feature = df[[\"gf\",\"ga\"]]\n",
    "target = df['points']"
   ]
  },
  {
   "cell_type": "code",
   "execution_count": 33,
   "id": "342ebe45-7c92-4662-a53b-ad4ddaad702d",
   "metadata": {
    "collapsed": true,
    "jupyter": {
     "outputs_hidden": true
    },
    "tags": []
   },
   "outputs": [
    {
     "name": "stdout",
     "output_type": "stream",
     "text": [
      "Collecting sklearn\n",
      "  Downloading sklearn-0.0.tar.gz (1.1 kB)\n",
      "Requirement already satisfied: scikit-learn in c:\\users\\user\\anaconda3\\lib\\site-packages (from sklearn) (0.24.1)\n",
      "Requirement already satisfied: joblib>=0.11 in c:\\users\\user\\anaconda3\\lib\\site-packages (from scikit-learn->sklearn) (1.0.1)\n",
      "Requirement already satisfied: numpy>=1.13.3 in c:\\users\\user\\anaconda3\\lib\\site-packages (from scikit-learn->sklearn) (1.20.1)\n",
      "Requirement already satisfied: threadpoolctl>=2.0.0 in c:\\users\\user\\anaconda3\\lib\\site-packages (from scikit-learn->sklearn) (2.1.0)\n",
      "Requirement already satisfied: scipy>=0.19.1 in c:\\users\\user\\anaconda3\\lib\\site-packages (from scikit-learn->sklearn) (1.6.2)\n",
      "Building wheels for collected packages: sklearn\n",
      "  Building wheel for sklearn (setup.py): started\n",
      "  Building wheel for sklearn (setup.py): finished with status 'done'\n",
      "  Created wheel for sklearn: filename=sklearn-0.0-py2.py3-none-any.whl size=1316 sha256=c5826006cd3ed1d7af62a88230c2898372fba1d2441b9088b8c621db0982cd9e\n",
      "  Stored in directory: c:\\users\\user\\appdata\\local\\pip\\cache\\wheels\\22\\0b\\40\\fd3f795caaa1fb4c6cb738bc1f56100be1e57da95849bfc897\n",
      "Successfully built sklearn\n",
      "Installing collected packages: sklearn\n",
      "Successfully installed sklearn-0.0\n"
     ]
    }
   ],
   "source": [
    "!pip install sklearn"
   ]
  },
  {
   "cell_type": "code",
   "execution_count": 34,
   "id": "883d92d1-3cc9-43f4-8359-5b6c1ebe7dea",
   "metadata": {},
   "outputs": [],
   "source": [
    "from sklearn.linear_model import LinearRegression\n",
    "model = LinearRegression().fit(feature, target)"
   ]
  },
  {
   "cell_type": "code",
   "execution_count": 40,
   "id": "253c6de3-b045-44ad-b627-f9841595f51d",
   "metadata": {},
   "outputs": [
    {
     "data": {
      "text/plain": [
       "array([79.])"
      ]
     },
     "execution_count": 40,
     "metadata": {},
     "output_type": "execute_result"
    }
   ],
   "source": [
    "# 데이터 예측 : 득점 80, 승점 36\n",
    "np.round(model.predict([[80,36]]))"
   ]
  },
  {
   "cell_type": "code",
   "execution_count": 41,
   "id": "010829ec-4c90-4e58-bdbd-60a5ea0e4598",
   "metadata": {},
   "outputs": [],
   "source": [
    "# warning 메시지 안뜨게 \n",
    "import warnings\n",
    "warnings.filterwarnings(\"ignore\")"
   ]
  },
  {
   "cell_type": "code",
   "execution_count": 42,
   "id": "61a26224-4b2c-48bb-b278-73cc087ed27d",
   "metadata": {},
   "outputs": [],
   "source": [
    "# data > train(8h) > model(ram) > computer off\n",
    "# model > ssd(hdd)하드디스크"
   ]
  },
  {
   "cell_type": "code",
   "execution_count": 43,
   "id": "4a96a648-5c4d-4704-9bca-d7aea054825f",
   "metadata": {},
   "outputs": [],
   "source": [
    "import pickle"
   ]
  },
  {
   "cell_type": "code",
   "execution_count": 44,
   "id": "bb00050c-bc6c-45e8-84bb-1ae6054be0d8",
   "metadata": {},
   "outputs": [],
   "source": [
    "# ram > ssd\n",
    "with open('model.pkl','wb') as file:\n",
    "    pickle.dump(model, file)"
   ]
  },
  {
   "cell_type": "code",
   "execution_count": 45,
   "id": "d3c5f3a3-7f05-4f9e-84ba-f3a255a62b84",
   "metadata": {
    "collapsed": true,
    "jupyter": {
     "outputs_hidden": true
    },
    "tags": []
   },
   "outputs": [
    {
     "name": "stdout",
     "output_type": "stream",
     "text": [
      " C 드라이브의 볼륨에는 이름이 없습니다.\n",
      " 볼륨 일련 번호: 7C6C-FC35\n",
      "\n",
      " C:\\Users\\User\\python라이브러리\\day3\\day 3 디렉터리\n",
      "\n",
      "2022-08-05  오후 12:15    <DIR>          .\n",
      "2022-08-05  오후 12:15    <DIR>          ..\n",
      "2022-08-05  오전 10:58    <DIR>          .ipynb_checkpoints\n",
      "2022-08-05  오전 11:11           186,269 001_crawling_images.ipynb\n",
      "2022-08-05  오후 12:14            15,018 002_selenium.ipynb\n",
      "2022-07-18  오후 09:56        11,775,488 chromedriver.exe\n",
      "2022-08-05  오전 10:30    <DIR>          data\n",
      "2022-08-05  오전 09:57            31,275 gmarket.csv\n",
      "2022-08-05  오후 12:15               480 model.pkl\n",
      "2022-08-05  오후 12:03               477 premierleague.csv\n",
      "               6개 파일          12,009,007 바이트\n",
      "               4개 디렉터리  121,858,301,952 바이트 남음\n"
     ]
    }
   ],
   "source": [
    "%ls"
   ]
  },
  {
   "cell_type": "code",
   "execution_count": 47,
   "id": "7d41cc26-1337-4e00-a251-84e396ad457f",
   "metadata": {},
   "outputs": [],
   "source": [
    "# ssd > ram\n",
    "with open('model.pkl','rb') as file:\n",
    "    load_model = pickle.load(file)"
   ]
  },
  {
   "cell_type": "code",
   "execution_count": 49,
   "id": "1722e56c-0ad1-459a-b03b-ccd2533512b7",
   "metadata": {},
   "outputs": [
    {
     "data": {
      "text/plain": [
       "array([79.])"
      ]
     },
     "execution_count": 49,
     "metadata": {},
     "output_type": "execute_result"
    }
   ],
   "source": [
    "np.round(model.predict([[80,36]]))"
   ]
  },
  {
   "cell_type": "markdown",
   "id": "0df43989-dde3-4d83-8051-6206ec5c2862",
   "metadata": {},
   "source": [
    "#### 텍스터 데이터 수집\n",
    "- TED 사이트 : https://ted.com/talks"
   ]
  },
  {
   "cell_type": "code",
   "execution_count": 54,
   "id": "df1381aa-d941-4272-8100-45b43d078c1e",
   "metadata": {},
   "outputs": [],
   "source": [
    "# 1. 브라우져 열기\n",
    "driver = webdriver.Chrome()"
   ]
  },
  {
   "cell_type": "code",
   "execution_count": 52,
   "id": "02cf7f23-0412-46db-815a-db0d00979a17",
   "metadata": {},
   "outputs": [],
   "source": [
    "# 2. 페이지 이동\n",
    "driver.get('https://www.ted.com/talks')"
   ]
  },
  {
   "cell_type": "code",
   "execution_count": 58,
   "id": "10346c99-32a0-4453-94e8-66e606c083f6",
   "metadata": {},
   "outputs": [
    {
     "data": {
      "text/plain": [
       "'Join TED Recommends to get the best ideas, selected just for you'"
      ]
     },
     "execution_count": 58,
     "metadata": {},
     "output_type": "execute_result"
    }
   ],
   "source": [
    "# 3. 제목 데이터 텍스트 수집\n",
    "sub_title = driver.find_element(By.CSS_SELECTOR, '#banner-secondary').text\n",
    "sub_title"
   ]
  },
  {
   "cell_type": "code",
   "execution_count": 65,
   "id": "a5aa9a72-9834-4bfb-a097-8a2e84c68a62",
   "metadata": {},
   "outputs": [
    {
     "data": {
      "text/plain": [
       "<selenium.webdriver.chrome.webdriver.WebDriver (session=\"a5a15da8ec8df34f6c7626f3c893115e\")>"
      ]
     },
     "execution_count": 65,
     "metadata": {},
     "output_type": "execute_result"
    }
   ],
   "source": [
    "# 4. select box에서 한국어 메뉴 클릭\n",
    "driver.find_element(By.CSS_SELECTOR, '#languages [lang=\"ko\"]').click()\n",
    "driver"
   ]
  },
  {
   "cell_type": "code",
   "execution_count": 66,
   "id": "4ed41a86-b3b6-4057-ac7b-0522035877a7",
   "metadata": {},
   "outputs": [
    {
     "data": {
      "text/plain": [
       "36"
      ]
     },
     "execution_count": 66,
     "metadata": {},
     "output_type": "execute_result"
    }
   ],
   "source": [
    "# 5. 전체 데이터의 제목과 링크 데이터 수집\n",
    "elements = driver.find_elements(By.CSS_SELECTOR, '#browse-results > .row > div')\n",
    "len(elements)"
   ]
  },
  {
   "cell_type": "code",
   "execution_count": 74,
   "id": "b8b1ceaa-b918-4b0e-98f9-6395f36d6d1b",
   "metadata": {},
   "outputs": [
    {
     "data": {
      "text/plain": [
       "('스페인어의 역사 - 일란 스타반스(Ilan Stavans)',\n",
       " 'https://www.ted.com/talks/ilan_stavans_a_brief_history_of_spanish?language=ko')"
      ]
     },
     "execution_count": 74,
     "metadata": {},
     "output_type": "execute_result"
    }
   ],
   "source": [
    "element = elements[0]\n",
    "title = element.find_element(By.CSS_SELECTOR, 'h4 > .ga-link').text\n",
    "link = element.find_element(By.CSS_SELECTOR, 'h4 > .ga-link').get_attribute('href')\n",
    "title, link"
   ]
  },
  {
   "cell_type": "code",
   "execution_count": null,
   "id": "16e3447a-2bb1-4a38-9ac9-5172c7e64979",
   "metadata": {},
   "outputs": [],
   "source": [
    "# 6. 데이터 프레임으로 만들기"
   ]
  },
  {
   "cell_type": "code",
   "execution_count": 77,
   "id": "e8b9d5f0-65bd-4c7e-ba49-b01489c881d6",
   "metadata": {},
   "outputs": [
    {
     "data": {
      "text/html": [
       "<div>\n",
       "<style scoped>\n",
       "    .dataframe tbody tr th:only-of-type {\n",
       "        vertical-align: middle;\n",
       "    }\n",
       "\n",
       "    .dataframe tbody tr th {\n",
       "        vertical-align: top;\n",
       "    }\n",
       "\n",
       "    .dataframe thead th {\n",
       "        text-align: right;\n",
       "    }\n",
       "</style>\n",
       "<table border=\"1\" class=\"dataframe\">\n",
       "  <thead>\n",
       "    <tr style=\"text-align: right;\">\n",
       "      <th></th>\n",
       "      <th>title</th>\n",
       "      <th>link</th>\n",
       "    </tr>\n",
       "  </thead>\n",
       "  <tbody>\n",
       "    <tr>\n",
       "      <th>34</th>\n",
       "      <td>두려움을 극복하기 위한 올림픽 챔피언의 사고방식</td>\n",
       "      <td>https://www.ted.com/talks/allyson_felix_an_oly...</td>\n",
       "    </tr>\n",
       "    <tr>\n",
       "      <th>35</th>\n",
       "      <td>바퀴벌레를 없애는 것은 왜 이렇게 어려울까요? - 아메야 곤달레카르</td>\n",
       "      <td>https://www.ted.com/talks/ameya_gondhalekar_wh...</td>\n",
       "    </tr>\n",
       "  </tbody>\n",
       "</table>\n",
       "</div>"
      ],
      "text/plain": [
       "                                    title  \\\n",
       "34             두려움을 극복하기 위한 올림픽 챔피언의 사고방식   \n",
       "35  바퀴벌레를 없애는 것은 왜 이렇게 어려울까요? - 아메야 곤달레카르   \n",
       "\n",
       "                                                 link  \n",
       "34  https://www.ted.com/talks/allyson_felix_an_oly...  \n",
       "35  https://www.ted.com/talks/ameya_gondhalekar_wh...  "
      ]
     },
     "execution_count": 77,
     "metadata": {},
     "output_type": "execute_result"
    }
   ],
   "source": [
    "data = []\n",
    "for element in elements:\n",
    "    data.append({\n",
    "        'title': element.find_element(By.CSS_SELECTOR, 'h4 > .ga-link').text,\n",
    "        'link': element.find_element(By.CSS_SELECTOR, 'h4 > .ga-link').get_attribute('href'),\n",
    "    })\n",
    "df = pd.DataFrame(data)\n",
    "df.tail(2)"
   ]
  },
  {
   "cell_type": "code",
   "execution_count": 79,
   "id": "fab60fa3-d389-4bde-b22d-1223ba1bba94",
   "metadata": {},
   "outputs": [],
   "source": [
    "driver.quit()"
   ]
  },
  {
   "cell_type": "markdown",
   "id": "ebd57171-2138-4e9a-ac94-4937e6524ab2",
   "metadata": {},
   "source": [
    "#### Headless\n",
    "- 브라우져를 화면에 띄우지 않고 메모리 상에서만 브라우져를 실행하여 크롤링하는 방법\n",
    "- window가 지원되지 않는 환경에서 selenium 사용 가능\n",
    "- 크롬 버전 : 60 이상부터 지원 "
   ]
  },
  {
   "cell_type": "code",
   "execution_count": 80,
   "id": "c525682d-2952-4724-9fb4-5efd6eaf5c17",
   "metadata": {},
   "outputs": [
    {
     "data": {
      "text/plain": [
       "'103.0.5060.134'"
      ]
     },
     "execution_count": 80,
     "metadata": {},
     "output_type": "execute_result"
    }
   ],
   "source": [
    "# 크롬 버전 확인\n",
    "driver= webdriver.Chrome()\n",
    "version = driver.capabilities['browserVersion']\n",
    "driver.quit()\n",
    "version"
   ]
  },
  {
   "cell_type": "code",
   "execution_count": 82,
   "id": "8087fd5d-9e66-45dd-9f21-993b4632119a",
   "metadata": {},
   "outputs": [
    {
     "data": {
      "text/plain": [
       "'Join TED Recommends to get the best ideas, selected just for you'"
      ]
     },
     "execution_count": 82,
     "metadata": {},
     "output_type": "execute_result"
    }
   ],
   "source": [
    "options = webdriver.ChromeOptions()\n",
    "options.add_argument('headless')\n",
    "\n",
    "driver = webdriver.Chrome(options=options)\n",
    "\n",
    "driver.get('https://www.ted.com/talks')\n",
    "sub_title = driver.find_element(By.CSS_SELECTOR, '#banner-secondary').text\n",
    "driver.quit()\n",
    "sub_title"
   ]
  },
  {
   "cell_type": "code",
   "execution_count": null,
   "id": "054cb123-145e-4073-aee7-fc5430b27d08",
   "metadata": {},
   "outputs": [],
   "source": []
  }
 ],
 "metadata": {
  "kernelspec": {
   "display_name": "Python 3 (ipykernel)",
   "language": "python",
   "name": "python3"
  },
  "language_info": {
   "codemirror_mode": {
    "name": "ipython",
    "version": 3
   },
   "file_extension": ".py",
   "mimetype": "text/x-python",
   "name": "python",
   "nbconvert_exporter": "python",
   "pygments_lexer": "ipython3",
   "version": "3.9.13"
  }
 },
 "nbformat": 4,
 "nbformat_minor": 5
}
