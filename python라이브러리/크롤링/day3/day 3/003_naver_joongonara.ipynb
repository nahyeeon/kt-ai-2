{
 "cells": [
  {
   "cell_type": "markdown",
   "id": "dd0523e1-4917-4ce9-8b35-409f09dc8212",
   "metadata": {},
   "source": [
    "#### 네이버 중고나라 게시글 데이터 수집\n",
    "- selenium에서 iframe에 있는 데이터 수집\n",
    "- https://cafe.naver.com/joonggonara.cafe"
   ]
  },
  {
   "cell_type": "code",
   "execution_count": 1,
   "id": "94d40d30-fa50-4580-8bfa-880f76225934",
   "metadata": {},
   "outputs": [],
   "source": [
    "from selenium import webdriver\n",
    "from selenium.webdriver.common.by import By"
   ]
  },
  {
   "cell_type": "code",
   "execution_count": 3,
   "id": "83c5303c-bf21-43a3-bc7d-1d6959337a94",
   "metadata": {},
   "outputs": [],
   "source": [
    "url = 'https://cafe.naver.com/joonggonara.cafe'"
   ]
  },
  {
   "cell_type": "code",
   "execution_count": 4,
   "id": "d642cfbb-fcee-4f9d-92b2-5e916fc84fac",
   "metadata": {},
   "outputs": [],
   "source": [
    "# 1. 웹브라우져 열기 및 페이지 이동\n",
    "driver = webdriver.Chrome()\n",
    "driver.get(url)"
   ]
  },
  {
   "cell_type": "code",
   "execution_count": 19,
   "id": "1ecf93d5-ee51-402b-9550-13fea89809b2",
   "metadata": {},
   "outputs": [],
   "source": [
    "import time"
   ]
  },
  {
   "cell_type": "code",
   "execution_count": 20,
   "id": "d6d72ef8-bb0c-4eac-920d-b3183fd33e6b",
   "metadata": {},
   "outputs": [
    {
     "name": "stdout",
     "output_type": "stream",
     "text": [
      "1\n",
      "2\n"
     ]
    }
   ],
   "source": [
    "print(1)\n",
    "time.sleep(3)\n",
    "print(2)"
   ]
  },
  {
   "cell_type": "code",
   "execution_count": null,
   "id": "12e1e69c-4a31-41cc-849a-ce821b7a139c",
   "metadata": {},
   "outputs": [],
   "source": [
    "# 2. 검색창에 '맥북'을 입력하고 검색 버튼 클릭"
   ]
  },
  {
   "cell_type": "code",
   "execution_count": 5,
   "id": "f8313a81-cb99-493a-b311-5ca32a9d3f0f",
   "metadata": {},
   "outputs": [],
   "source": [
    "keyword='맥북'\n",
    "driver.find_element(By.CSS_SELECTOR, '#topLayerQueryInput').send_keys(keyword)"
   ]
  },
  {
   "cell_type": "code",
   "execution_count": 7,
   "id": "1b192b95-5d08-4ff6-8db0-26895085ee06",
   "metadata": {},
   "outputs": [],
   "source": [
    "driver.execute_script('searchBoard();')"
   ]
  },
  {
   "cell_type": "code",
   "execution_count": null,
   "id": "671031eb-158b-4ac8-bd30-1e706a66e9cd",
   "metadata": {},
   "outputs": [],
   "source": [
    "# 3. 게시글 목록 데이터 수집 : iframe"
   ]
  },
  {
   "cell_type": "code",
   "execution_count": 10,
   "id": "591c29f5-2123-4d83-8437-627505f081ce",
   "metadata": {},
   "outputs": [
    {
     "data": {
      "text/plain": [
       "0"
      ]
     },
     "execution_count": 10,
     "metadata": {},
     "output_type": "execute_result"
    }
   ],
   "source": [
    "selector = \".article-board > table > tbody > tr\"\n",
    "elements = driver.find_elements(By.CSS_SELECTOR, selector)\n",
    "len(elements)"
   ]
  },
  {
   "cell_type": "code",
   "execution_count": 11,
   "id": "55506ceb-cdaa-41a2-8bb2-2047440da861",
   "metadata": {},
   "outputs": [
    {
     "data": {
      "text/plain": [
       "<selenium.webdriver.remote.webelement.WebElement (session=\"85e0187a87c298c506490c92121d6bdf\", element=\"69d84fcd-3160-41dd-9b65-ea08f96e18e1\")>"
      ]
     },
     "execution_count": 11,
     "metadata": {},
     "output_type": "execute_result"
    }
   ],
   "source": [
    "# iframe으로 driver 이동\n",
    "iframe = driver.find_element(By.CSS_SELECTOR,\"#cafe_main\")\n",
    "iframe"
   ]
  },
  {
   "cell_type": "code",
   "execution_count": 12,
   "id": "6230b9c3-919a-4f69-856c-73d5c3f6bd0a",
   "metadata": {},
   "outputs": [],
   "source": [
    "driver.switch_to.frame(iframe)"
   ]
  },
  {
   "cell_type": "code",
   "execution_count": 13,
   "id": "5a19723d-5a17-4ede-942f-b068ca3f5f0b",
   "metadata": {},
   "outputs": [
    {
     "data": {
      "text/plain": [
       "15"
      ]
     },
     "execution_count": 13,
     "metadata": {},
     "output_type": "execute_result"
    }
   ],
   "source": [
    "selector = \".article-board > table > tbody > tr\"\n",
    "elements = driver.find_elements(By.CSS_SELECTOR, selector)\n",
    "len(elements)"
   ]
  },
  {
   "cell_type": "code",
   "execution_count": 15,
   "id": "d1d5fb5f-acdf-4e45-8f11-3f4594f512d0",
   "metadata": {},
   "outputs": [
    {
     "data": {
      "text/plain": [
       "<selenium.webdriver.remote.webelement.WebElement (session=\"85e0187a87c298c506490c92121d6bdf\", element=\"18b784b1-07e5-4b51-9827-1b3aebecd401\")>"
      ]
     },
     "execution_count": 15,
     "metadata": {},
     "output_type": "execute_result"
    }
   ],
   "source": [
    "element = elements[0]"
   ]
  },
  {
   "cell_type": "code",
   "execution_count": 16,
   "id": "10e37048-f90a-408c-8154-bdf4661a451d",
   "metadata": {},
   "outputs": [
    {
     "data": {
      "text/plain": [
       "('14인치 M1PRO M1MAX 엠원프로 엠원맥스 맥북프로 애플노트북', 'topontopcom')"
      ]
     },
     "execution_count": 16,
     "metadata": {},
     "output_type": "execute_result"
    }
   ],
   "source": [
    "title = element.find_element(By.CSS_SELECTOR, \".article\").text\n",
    "writer = element.find_element(By.CSS_SELECTOR, \".p-nick\").text\n",
    "title, writer"
   ]
  },
  {
   "cell_type": "code",
   "execution_count": 17,
   "id": "06370698-97d5-457e-aa1e-8f63b71b76c3",
   "metadata": {},
   "outputs": [
    {
     "data": {
      "text/html": [
       "<div>\n",
       "<style scoped>\n",
       "    .dataframe tbody tr th:only-of-type {\n",
       "        vertical-align: middle;\n",
       "    }\n",
       "\n",
       "    .dataframe tbody tr th {\n",
       "        vertical-align: top;\n",
       "    }\n",
       "\n",
       "    .dataframe thead th {\n",
       "        text-align: right;\n",
       "    }\n",
       "</style>\n",
       "<table border=\"1\" class=\"dataframe\">\n",
       "  <thead>\n",
       "    <tr style=\"text-align: right;\">\n",
       "      <th></th>\n",
       "      <th>title</th>\n",
       "      <th>writer</th>\n",
       "    </tr>\n",
       "  </thead>\n",
       "  <tbody>\n",
       "    <tr>\n",
       "      <th>13</th>\n",
       "      <td>2021 M1 맥북프로 16인치 스페이스그레이</td>\n",
       "      <td>흐루두두</td>\n",
       "    </tr>\n",
       "    <tr>\n",
       "      <th>14</th>\n",
       "      <td>맥북에어m1 16g 512 스페이스그레이+매직마우스2+파우치+거치대+독+허브 증정</td>\n",
       "      <td>lyc891010</td>\n",
       "    </tr>\n",
       "  </tbody>\n",
       "</table>\n",
       "</div>"
      ],
      "text/plain": [
       "                                            title     writer\n",
       "13                      2021 M1 맥북프로 16인치 스페이스그레이       흐루두두\n",
       "14  맥북에어m1 16g 512 스페이스그레이+매직마우스2+파우치+거치대+독+허브 증정  lyc891010"
      ]
     },
     "execution_count": 17,
     "metadata": {},
     "output_type": "execute_result"
    }
   ],
   "source": [
    "data= [] \n",
    "for element in elements:\n",
    "    data.append({\n",
    "        'title': element.find_element(By.CSS_SELECTOR, \".article\").text,\n",
    "        'writer': element.find_element(By.CSS_SELECTOR, \".p-nick\").text,\n",
    "    })\n",
    "df= pd.DataFrame(data)\n",
    "df.tail(2)"
   ]
  },
  {
   "cell_type": "code",
   "execution_count": null,
   "id": "30d4b996-a4c3-4b25-9991-5f1d57f2d7d5",
   "metadata": {},
   "outputs": [],
   "source": [
    "# 원래 dfault frame으로 이동\n",
    "driver.switch_to.default_content()"
   ]
  },
  {
   "cell_type": "code",
   "execution_count": null,
   "id": "02f24f59-254f-4448-83a8-b5f7488c751b",
   "metadata": {},
   "outputs": [],
   "source": [
    "# 4. 웹브라우져 종료"
   ]
  },
  {
   "cell_type": "code",
   "execution_count": 18,
   "id": "d373addc-4fdb-495e-97e7-cd2cc712005b",
   "metadata": {},
   "outputs": [],
   "source": [
    "driver.quit()"
   ]
  },
  {
   "cell_type": "code",
   "execution_count": null,
   "id": "30efa167-8c8f-4373-85c9-4105a183ff90",
   "metadata": {},
   "outputs": [],
   "source": [
    "# "
   ]
  }
 ],
 "metadata": {
  "kernelspec": {
   "display_name": "Python 3 (ipykernel)",
   "language": "python",
   "name": "python3"
  },
  "language_info": {
   "codemirror_mode": {
    "name": "ipython",
    "version": 3
   },
   "file_extension": ".py",
   "mimetype": "text/x-python",
   "name": "python",
   "nbconvert_exporter": "python",
   "pygments_lexer": "ipython3",
   "version": "3.9.13"
  }
 },
 "nbformat": 4,
 "nbformat_minor": 5
}
