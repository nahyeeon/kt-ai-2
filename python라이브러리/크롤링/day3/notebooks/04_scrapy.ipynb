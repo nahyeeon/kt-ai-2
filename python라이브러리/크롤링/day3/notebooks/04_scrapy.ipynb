{
 "cells": [
  {
   "cell_type": "markdown",
   "id": "b12537ef",
   "metadata": {},
   "source": [
    "### scrapy\n",
    "- 웹사이트에서 데이터 수집을 위한 오픈소스 파이썬 프레임워크\n",
    "- 멀티스레딩으로 데이터 수집\n",
    "- gmarket 상품데이터 수집"
   ]
  },
  {
   "cell_type": "code",
   "execution_count": 1,
   "id": "c8df8471",
   "metadata": {},
   "outputs": [],
   "source": [
    "# install scrapy\n",
    "#!pip install scrapy"
   ]
  },
  {
   "cell_type": "code",
   "execution_count": 2,
   "id": "e90ab90f",
   "metadata": {},
   "outputs": [],
   "source": [
    "# 1. 스크레피 프로젝트 생성"
   ]
  },
  {
   "cell_type": "code",
   "execution_count": 3,
   "id": "f1e2621a",
   "metadata": {},
   "outputs": [
    {
     "name": "stdout",
     "output_type": "stream",
     "text": [
      "Error: scrapy.cfg already exists in /Users/rada/Desktop/kt_abler/code/day3/gmarket\r\n"
     ]
    }
   ],
   "source": [
    "!scrapy startproject gmarket"
   ]
  },
  {
   "cell_type": "code",
   "execution_count": 4,
   "id": "a5c11b2c",
   "metadata": {},
   "outputs": [
    {
     "name": "stdout",
     "output_type": "stream",
     "text": [
      "zsh:1: command not found: tree\r\n"
     ]
    }
   ],
   "source": [
    "!tree gmarket"
   ]
  },
  {
   "cell_type": "code",
   "execution_count": 5,
   "id": "cac6776b",
   "metadata": {},
   "outputs": [],
   "source": [
    "# items : 데이터의 모양 정의\n",
    "# middewares : 수집할때 header 정보와 같은 내용을 설정\n",
    "# pipelines : 데이터를 수집한 후에 코드를 실행\n",
    "# settings : robots.txt 규칙, 크롤링 시간 텀등을 설정\n",
    "# spiders : 크롤링 절차를 정의"
   ]
  },
  {
   "cell_type": "code",
   "execution_count": 6,
   "id": "5f97e6dc",
   "metadata": {},
   "outputs": [],
   "source": [
    "# 2. xpath 찾기 : 링크, 상세 페이지"
   ]
  },
  {
   "cell_type": "code",
   "execution_count": 7,
   "id": "3aac82cb",
   "metadata": {},
   "outputs": [],
   "source": [
    "import scrapy, requests\n",
    "from scrapy.http import TextResponse"
   ]
  },
  {
   "cell_type": "code",
   "execution_count": 8,
   "id": "38ce6ad8",
   "metadata": {},
   "outputs": [],
   "source": [
    "# 링크 데이터"
   ]
  },
  {
   "cell_type": "code",
   "execution_count": 9,
   "id": "8cd18782",
   "metadata": {},
   "outputs": [],
   "source": [
    "request = requests.get(\"http://corners.gmarket.co.kr/Bestsellers\")\n",
    "response = TextResponse(request.url, body=request.text, encoding=\"utf-8\")"
   ]
  },
  {
   "cell_type": "code",
   "execution_count": 10,
   "id": "2126e011",
   "metadata": {},
   "outputs": [],
   "source": [
    "links = response.xpath('//*[@id=\"gBestWrap\"]/div/div[3]/div/ul/li/a/@href').extract()"
   ]
  },
  {
   "cell_type": "code",
   "execution_count": 11,
   "id": "521b6caa",
   "metadata": {},
   "outputs": [],
   "source": [
    "# 상세 데이터 : 상품명, 가격"
   ]
  },
  {
   "cell_type": "code",
   "execution_count": 12,
   "id": "e459db83",
   "metadata": {},
   "outputs": [],
   "source": [
    "link = links[0]\n",
    "request = requests.get(link)\n",
    "response = TextResponse(request.url, body=request.text, encoding=\"utf-8\")"
   ]
  },
  {
   "cell_type": "code",
   "execution_count": 13,
   "id": "8a205c99",
   "metadata": {},
   "outputs": [
    {
     "data": {
      "text/plain": [
       "('비비고  (CJ제일제당)  차돌된장찌개 460G 5봉 ', '21,710')"
      ]
     },
     "execution_count": 13,
     "metadata": {},
     "output_type": "execute_result"
    }
   ],
   "source": [
    "title = response.xpath('//*[@id=\"itemcase_basic\"]/div[1]/h1/text()')[0].extract()\n",
    "price = response.xpath('//*[@id=\"itemcase_basic\"]/div[1]/p/span/strong/text()')[0].extract()\n",
    "title, price"
   ]
  },
  {
   "cell_type": "code",
   "execution_count": 14,
   "id": "6a073246",
   "metadata": {},
   "outputs": [],
   "source": [
    "# 3. items.py : model"
   ]
  },
  {
   "cell_type": "code",
   "execution_count": 15,
   "id": "8bbe5105",
   "metadata": {},
   "outputs": [
    {
     "name": "stdout",
     "output_type": "stream",
     "text": [
      "Overwriting gmarket/gmarket/items.py\n"
     ]
    }
   ],
   "source": [
    "%%writefile gmarket/gmarket/items.py\n",
    "import scrapy\n",
    "\n",
    "class GmarketItem(scrapy.Item):\n",
    "    title = scrapy.Field()\n",
    "    price = scrapy.Field()\n",
    "    link = scrapy.Field()"
   ]
  },
  {
   "cell_type": "code",
   "execution_count": 16,
   "id": "4d0aa7e1",
   "metadata": {},
   "outputs": [],
   "source": [
    "# 4. spider.py : 크롤링 절차 정의"
   ]
  },
  {
   "cell_type": "code",
   "execution_count": 17,
   "id": "662ebb53",
   "metadata": {},
   "outputs": [
    {
     "name": "stdout",
     "output_type": "stream",
     "text": [
      "Overwriting gmarket/gmarket/spiders/spider.py\n"
     ]
    }
   ],
   "source": [
    "%%writefile gmarket/gmarket/spiders/spider.py\n",
    "import scrapy\n",
    "from gmarket.items import GmarketItem\n",
    "\n",
    "class GMSpider(scrapy.Spider):\n",
    "    name = \"GMB\"\n",
    "    allow_domain = [\"gmarket.co.kr\"]\n",
    "    start_urls = [\"http://corners.gmarket.co.kr/Bestsellers\"]\n",
    "    \n",
    "    def parse(self, response):\n",
    "        links = response.xpath('//*[@id=\"gBestWrap\"]/div/div[3]/div/ul/li/a/@href').extract()\n",
    "        for link in links[:20]:\n",
    "            yield scrapy.Request(link, callback=self.parse_content)\n",
    "    \n",
    "    def parse_content(self, response):\n",
    "        item = GmarketItem()\n",
    "        item[\"title\"] = response.xpath('//*[@id=\"itemcase_basic\"]/div[1]/h1/text()')[0].extract()\n",
    "        item[\"price\"] = response.xpath('//*[@id=\"itemcase_basic\"]/div[1]/p/span/strong/text()')[0].extract()\n",
    "        item[\"link\"] = response.url\n",
    "        yield item"
   ]
  },
  {
   "cell_type": "code",
   "execution_count": 18,
   "id": "bd2e1c16",
   "metadata": {},
   "outputs": [],
   "source": [
    "# 5. 스크래피 실행\n",
    "# gmarket 디렉토리에서 아래의 커멘드 실행\n",
    "# scrapy crawl GMB -o items.csv"
   ]
  },
  {
   "cell_type": "code",
   "execution_count": 19,
   "id": "a5e151ed",
   "metadata": {},
   "outputs": [
    {
     "name": "stdout",
     "output_type": "stream",
     "text": [
      "\u001b[1m\u001b[36mgmarket\u001b[m\u001b[m/    items.csv   scrapy.cfg\r\n"
     ]
    }
   ],
   "source": [
    "%ls gmarket/"
   ]
  },
  {
   "cell_type": "code",
   "execution_count": 20,
   "id": "340cc375",
   "metadata": {},
   "outputs": [],
   "source": [
    "import pandas as pd"
   ]
  },
  {
   "cell_type": "code",
   "execution_count": 21,
   "id": "18610852",
   "metadata": {},
   "outputs": [
    {
     "data": {
      "text/html": [
       "<div>\n",
       "<style scoped>\n",
       "    .dataframe tbody tr th:only-of-type {\n",
       "        vertical-align: middle;\n",
       "    }\n",
       "\n",
       "    .dataframe tbody tr th {\n",
       "        vertical-align: top;\n",
       "    }\n",
       "\n",
       "    .dataframe thead th {\n",
       "        text-align: right;\n",
       "    }\n",
       "</style>\n",
       "<table border=\"1\" class=\"dataframe\">\n",
       "  <thead>\n",
       "    <tr style=\"text-align: right;\">\n",
       "      <th></th>\n",
       "      <th>link</th>\n",
       "      <th>price</th>\n",
       "      <th>title</th>\n",
       "    </tr>\n",
       "  </thead>\n",
       "  <tbody>\n",
       "    <tr>\n",
       "      <th>0</th>\n",
       "      <td>http://item.gmarket.co.kr/Item?goodscode=13862...</td>\n",
       "      <td>9,400</td>\n",
       "      <td>성주 참외 가정용 랜덤 실중량 10kg 대한민국 최저가</td>\n",
       "    </tr>\n",
       "    <tr>\n",
       "      <th>1</th>\n",
       "      <td>http://item.gmarket.co.kr/Item?goodscode=17925...</td>\n",
       "      <td>45,000</td>\n",
       "      <td>(12%+18%쿠폰) 엘칸토 남여 쿨썸머 슈즈 BEST 모음전</td>\n",
       "    </tr>\n",
       "    <tr>\n",
       "      <th>2</th>\n",
       "      <td>http://item.gmarket.co.kr/Item?goodscode=22506...</td>\n",
       "      <td>12,900</td>\n",
       "      <td>(무료반품) 제이프랑 여름신상 티셔츠/팬츠/반팔/셋업</td>\n",
       "    </tr>\n",
       "    <tr>\n",
       "      <th>3</th>\n",
       "      <td>http://item.gmarket.co.kr/Item?goodscode=21454...</td>\n",
       "      <td>21,710</td>\n",
       "      <td>비비고  (CJ제일제당)  차돌된장찌개 460G 5봉</td>\n",
       "    </tr>\n",
       "    <tr>\n",
       "      <th>4</th>\n",
       "      <td>http://item.gmarket.co.kr/Item?goodscode=66793...</td>\n",
       "      <td>33,000</td>\n",
       "      <td>(최대50%+10%) 여름 뷰티케어는 이니스프리로 PICK</td>\n",
       "    </tr>\n",
       "    <tr>\n",
       "      <th>...</th>\n",
       "      <td>...</td>\n",
       "      <td>...</td>\n",
       "      <td>...</td>\n",
       "    </tr>\n",
       "    <tr>\n",
       "      <th>194</th>\n",
       "      <td>http://item.gmarket.co.kr/Item?goodscode=22361...</td>\n",
       "      <td>9,900</td>\n",
       "      <td>얼티미스틱 벨벳 립스틱 2개</td>\n",
       "    </tr>\n",
       "    <tr>\n",
       "      <th>195</th>\n",
       "      <td>http://item.gmarket.co.kr/Item?goodscode=15667...</td>\n",
       "      <td>17,900</td>\n",
       "      <td>청정우 차돌박이 (3초구이 샤브용) 250gX3팩</td>\n",
       "    </tr>\n",
       "    <tr>\n",
       "      <th>196</th>\n",
       "      <td>http://item.gmarket.co.kr/Item?goodscode=21848...</td>\n",
       "      <td>13,900</td>\n",
       "      <td>부광 얇은헤드 칫솔 초극세모 12입 X 2세트</td>\n",
       "    </tr>\n",
       "    <tr>\n",
       "      <th>197</th>\n",
       "      <td>http://item.gmarket.co.kr/Item?goodscode=16357...</td>\n",
       "      <td>8,900</td>\n",
       "      <td>1+1+1행사 모이스쳐 틴트 립밤</td>\n",
       "    </tr>\n",
       "    <tr>\n",
       "      <th>198</th>\n",
       "      <td>http://item.gmarket.co.kr/Item?goodscode=17764...</td>\n",
       "      <td>6,900</td>\n",
       "      <td>치실 국내생산 이편한 치실 80개입 x 5팩(400개)</td>\n",
       "    </tr>\n",
       "  </tbody>\n",
       "</table>\n",
       "<p>199 rows × 3 columns</p>\n",
       "</div>"
      ],
      "text/plain": [
       "                                                  link   price  \\\n",
       "0    http://item.gmarket.co.kr/Item?goodscode=13862...   9,400   \n",
       "1    http://item.gmarket.co.kr/Item?goodscode=17925...  45,000   \n",
       "2    http://item.gmarket.co.kr/Item?goodscode=22506...  12,900   \n",
       "3    http://item.gmarket.co.kr/Item?goodscode=21454...  21,710   \n",
       "4    http://item.gmarket.co.kr/Item?goodscode=66793...  33,000   \n",
       "..                                                 ...     ...   \n",
       "194  http://item.gmarket.co.kr/Item?goodscode=22361...   9,900   \n",
       "195  http://item.gmarket.co.kr/Item?goodscode=15667...  17,900   \n",
       "196  http://item.gmarket.co.kr/Item?goodscode=21848...  13,900   \n",
       "197  http://item.gmarket.co.kr/Item?goodscode=16357...   8,900   \n",
       "198  http://item.gmarket.co.kr/Item?goodscode=17764...   6,900   \n",
       "\n",
       "                                   title  \n",
       "0        성주 참외 가정용 랜덤 실중량 10kg 대한민국 최저가   \n",
       "1    (12%+18%쿠폰) 엘칸토 남여 쿨썸머 슈즈 BEST 모음전   \n",
       "2         (무료반품) 제이프랑 여름신상 티셔츠/팬츠/반팔/셋업   \n",
       "3         비비고  (CJ제일제당)  차돌된장찌개 460G 5봉   \n",
       "4      (최대50%+10%) 여름 뷰티케어는 이니스프리로 PICK   \n",
       "..                                   ...  \n",
       "194                     얼티미스틱 벨벳 립스틱 2개   \n",
       "195         청정우 차돌박이 (3초구이 샤브용) 250gX3팩   \n",
       "196           부광 얇은헤드 칫솔 초극세모 12입 X 2세트   \n",
       "197                  1+1+1행사 모이스쳐 틴트 립밤   \n",
       "198      치실 국내생산 이편한 치실 80개입 x 5팩(400개)   \n",
       "\n",
       "[199 rows x 3 columns]"
      ]
     },
     "execution_count": 21,
     "metadata": {},
     "output_type": "execute_result"
    }
   ],
   "source": [
    "pd.read_csv(\"gmarket/items.csv\")"
   ]
  }
 ],
 "metadata": {
  "kernelspec": {
   "display_name": "Python 3 (ipykernel)",
   "language": "python",
   "name": "python3"
  },
  "language_info": {
   "codemirror_mode": {
    "name": "ipython",
    "version": 3
   },
   "file_extension": ".py",
   "mimetype": "text/x-python",
   "name": "python",
   "nbconvert_exporter": "python",
   "pygments_lexer": "ipython3",
   "version": "3.9.12"
  },
  "toc": {
   "base_numbering": 1,
   "nav_menu": {},
   "number_sections": false,
   "sideBar": true,
   "skip_h1_title": false,
   "title_cell": "Table of Contents",
   "title_sidebar": "Contents",
   "toc_cell": false,
   "toc_position": {},
   "toc_section_display": true,
   "toc_window_display": false
  }
 },
 "nbformat": 4,
 "nbformat_minor": 5
}
