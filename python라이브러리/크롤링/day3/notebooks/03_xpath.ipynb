{
 "cells": [
  {
   "cell_type": "markdown",
   "id": "1f47dd12",
   "metadata": {},
   "source": [
    "### xpath\n",
    "- html element 선택하는 방법\n",
    "- scrapy 에서는 기본적으로 xpath를 사용"
   ]
  },
  {
   "cell_type": "code",
   "execution_count": 2,
   "id": "c073b7af",
   "metadata": {},
   "outputs": [],
   "source": [
    "# install scrapy\n",
    "# !pip install scrapy"
   ]
  },
  {
   "cell_type": "code",
   "execution_count": 3,
   "id": "06f4702a",
   "metadata": {},
   "outputs": [],
   "source": [
    "import scrapy, requests"
   ]
  },
  {
   "cell_type": "code",
   "execution_count": 4,
   "id": "db17e75c",
   "metadata": {},
   "outputs": [],
   "source": [
    "from scrapy.http import TextResponse"
   ]
  },
  {
   "cell_type": "code",
   "execution_count": 5,
   "id": "4dffad66",
   "metadata": {},
   "outputs": [],
   "source": [
    "url = \"https://search.naver.com/search.naver?query=삼성전자\""
   ]
  },
  {
   "cell_type": "code",
   "execution_count": 6,
   "id": "b81374ae",
   "metadata": {},
   "outputs": [],
   "source": [
    "request = requests.get(url)\n",
    "response = TextResponse(request.url, body=request.text, encoding=\"utf-8\")"
   ]
  },
  {
   "cell_type": "code",
   "execution_count": 7,
   "id": "22561347",
   "metadata": {},
   "outputs": [],
   "source": [
    "# //*[@id=\"nx_right_related_keywords\"]/div/div[2]/ul/li[1]/a/div"
   ]
  },
  {
   "cell_type": "code",
   "execution_count": 8,
   "id": "8340ada1",
   "metadata": {},
   "outputs": [],
   "source": [
    "# // : 최상위 엘리먼트\n",
    "# * : 모든 하위 엘리먼트 : css selector의 한칸띄우기와 같다.\n",
    "# [@id=\"value\"] : 속성값 선택\n",
    "# / : 한단계 하위 엘리먼트 : css selector의 >와 같다.\n",
    "# [n] : nth-child(n)"
   ]
  },
  {
   "cell_type": "code",
   "execution_count": 9,
   "id": "d8cc595f",
   "metadata": {},
   "outputs": [
    {
     "data": {
      "text/plain": [
       "[<Selector xpath='//*[@id=\"nx_right_related_keywords\"]/div/div[2]/ul/li/a/div' data='<div class=\"tit\">삼성전자주가</div> </a> </...'>,\n",
       " <Selector xpath='//*[@id=\"nx_right_related_keywords\"]/div/div[2]/ul/li/a/div' data='<div class=\"tit\">삼성전자 주식</div> </a> <...'>]"
      ]
     },
     "execution_count": 9,
     "metadata": {},
     "output_type": "execute_result"
    }
   ],
   "source": [
    "response.xpath('//*[@id=\"nx_right_related_keywords\"]/div/div[2]/ul/li/a/div')[:2]"
   ]
  },
  {
   "cell_type": "code",
   "execution_count": 10,
   "id": "1a501e59",
   "metadata": {},
   "outputs": [
    {
     "data": {
      "text/plain": [
       "[<Selector xpath='//*[@id=\"nx_right_related_keywords\"]/div/div[2]/ul/li/a/div/text()' data='삼성전자주가'>,\n",
       " <Selector xpath='//*[@id=\"nx_right_related_keywords\"]/div/div[2]/ul/li/a/div/text()' data='삼성전자 주식'>]"
      ]
     },
     "execution_count": 10,
     "metadata": {},
     "output_type": "execute_result"
    }
   ],
   "source": [
    "response.xpath('//*[@id=\"nx_right_related_keywords\"]/div/div[2]/ul/li/a/div/text()')[:2]"
   ]
  },
  {
   "cell_type": "code",
   "execution_count": 11,
   "id": "12ab1bdc",
   "metadata": {},
   "outputs": [
    {
     "data": {
      "text/plain": [
       "['삼성전자주가',\n",
       " '삼성전자 주식',\n",
       " '삼성전자 배당금',\n",
       " '삼성전자 주가 전망',\n",
       " '삼성전자 주식가격',\n",
       " '오늘 삼성전자 주가',\n",
       " '삼성전자 채용',\n",
       " '삼성전자 배당금 지급일',\n",
       " '삼성전자서비스',\n",
       " '삼성전자 as센터']"
      ]
     },
     "execution_count": 11,
     "metadata": {},
     "output_type": "execute_result"
    }
   ],
   "source": [
    "response.xpath('//*[@id=\"nx_right_related_keywords\"]/div/div[2]/ul/li/a/div/text()')\\\n",
    ".extract()"
   ]
  }
 ],
 "metadata": {
  "kernelspec": {
   "display_name": "Python 3 (ipykernel)",
   "language": "python",
   "name": "python3"
  },
  "language_info": {
   "codemirror_mode": {
    "name": "ipython",
    "version": 3
   },
   "file_extension": ".py",
   "mimetype": "text/x-python",
   "name": "python",
   "nbconvert_exporter": "python",
   "pygments_lexer": "ipython3",
   "version": "3.9.12"
  },
  "toc": {
   "base_numbering": 1,
   "nav_menu": {},
   "number_sections": false,
   "sideBar": true,
   "skip_h1_title": false,
   "title_cell": "Table of Contents",
   "title_sidebar": "Contents",
   "toc_cell": false,
   "toc_position": {},
   "toc_section_display": true,
   "toc_window_display": false
  }
 },
 "nbformat": 4,
 "nbformat_minor": 5
}
