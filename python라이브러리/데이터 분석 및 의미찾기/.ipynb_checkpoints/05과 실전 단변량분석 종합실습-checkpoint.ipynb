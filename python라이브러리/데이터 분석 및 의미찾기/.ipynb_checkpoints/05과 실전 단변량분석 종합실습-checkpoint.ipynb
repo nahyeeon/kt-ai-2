{
 "cells": [
  {
   "cell_type": "markdown",
   "metadata": {
    "id": "qXUBfCONOdID"
   },
   "source": [
    "# 05과 실전 단변량분석 : 종합실습"
   ]
  },
  {
   "cell_type": "markdown",
   "metadata": {
    "id": "XOiIUDJ1i11u"
   },
   "source": [
    "* 고객사는 카시트를 판매하는 회사 입니다.\n",
    "* 최근 매출 하락에 대해 각 부서가 파악한 원인 다음과 같습니다. \n",
    "    * 최근에 경쟁사와의 가격 경쟁력이 하락하고 있고, 광고비용이 적절하게 집행되지 않음\n",
    "    * 너무 국내 시장에 집중됨.\n",
    "    * 지역마다의 구매력을 제대로 파악하지 못하고 있음.\n",
    "\n",
    "* 그러나 이러한 분석은 데이터에 근거하고 있는지 의문이 듭니다.\n",
    "* 이 문제를 해결하고자 프로젝트 팀이 빌딩되었습니다. \n",
    "* 여러분은 이 프로젝트팀에 데이터분석전문가 이자 AI 개발자로 참여하고 있습니다.\n",
    "* 드디어 AIVLE 과정에서 갈고 닦은 실력을 발휘할 기회가 주어졌습니다.\n",
    "* 자, 이제 단변량 분석을 통해 비즈니스 인사이트를 도출해 봅시다!\n"
   ]
  },
  {
   "cell_type": "markdown",
   "metadata": {
    "id": "ox8HObZa3a2O"
   },
   "source": [
    "**단변량 분석 할 때 확인해야 할 점들**\n",
    "\n",
    "* 개별 변수의 분포로 부터…\n",
    "    * 값의 범위 확인\n",
    "    * 데이터가 모여 있는 구간(혹은 범주)와 희박한 구간(혹은 범주) 확인\n",
    "    * 이상치 확인 및 조치 방안\n",
    "    * 결측치 확인 및 조치 방안\n",
    "    * 가변수화, 스케일링 대상 선별\n",
    "\n",
    "* 비즈니스의 일반 사항과 특이사항을 도출\n",
    "    * 추가 분석 대상 도출.\n"
   ]
  },
  {
   "cell_type": "code",
   "execution_count": 94,
   "metadata": {
    "id": "bTVrr9iaLNsy"
   },
   "outputs": [],
   "source": [
    "import pandas as pd\n",
    "import numpy as np\n",
    "\n",
    "import matplotlib.pyplot as plt\n",
    "import seaborn as sns\n",
    "\n",
    "import warnings   \n",
    "warnings.filterwarnings(\"ignore\")  # 향후 버전에서 제외될 수 있다는 경고 메시지 감추기"
   ]
  },
  {
   "cell_type": "markdown",
   "metadata": {
    "id": "bBRhuVPyf4td"
   },
   "source": [
    "## 카시트 판매량 데이터"
   ]
  },
  {
   "cell_type": "markdown",
   "metadata": {
    "id": "7usNzsAVsGbi"
   },
   "source": [
    "![](https://cdn.images.express.co.uk/img/dynamic/24/590x/child-car-seat-986556.jpg?r=1532946857754)"
   ]
  },
  {
   "cell_type": "markdown",
   "metadata": {
    "id": "zYKHwYHatC4k"
   },
   "source": [
    "|\t변수명\t|\t설명\t|\t구분\t|\n",
    "|\t----\t|\t----\t|\t----\t|\n",
    "|\tSales \t|\t 각 지역 판매량(단위 : 1000개)\t|\tTarget\t|\n",
    "|\tCompPrice \t|\t 경쟁사 가격(단위 : 달러)\t|\tfeature\t|\n",
    "|\tIncome \t|\t 지역 평균 소득(단위 : 1000달러)\t|\tfeature\t|\n",
    "|\tAdvertising \t|\t 각 지역, 회사의 광고 예산(단위 : 1000달러)\t|\tfeature\t|\n",
    "|\tPopulation \t|\t 지역 인구수(단위 : 1000명)\t|\tfeature\t|\n",
    "|\tPrice \t|\t 자사 지역별 판매가격\t|\tfeature\t|\n",
    "|\tShelveLoc \t|\t 진열상태\t|\tfeature\t|\n",
    "|\tAge \t|\t 지역 인구의 평균 연령\t|\tfeature\t|\n",
    "|\tUrban \t|\t 도심 지역 여부(Yes,No)\t|\tfeature\t|\n",
    "|\tUS \t|\t 매장이 미국에 있는지 여부(Yes,No)\t|\tfeature\t|\n"
   ]
  },
  {
   "cell_type": "code",
   "execution_count": 95,
   "metadata": {
    "id": "08FGuKtjpGOj"
   },
   "outputs": [
    {
     "data": {
      "text/html": [
       "<div>\n",
       "<style scoped>\n",
       "    .dataframe tbody tr th:only-of-type {\n",
       "        vertical-align: middle;\n",
       "    }\n",
       "\n",
       "    .dataframe tbody tr th {\n",
       "        vertical-align: top;\n",
       "    }\n",
       "\n",
       "    .dataframe thead th {\n",
       "        text-align: right;\n",
       "    }\n",
       "</style>\n",
       "<table border=\"1\" class=\"dataframe\">\n",
       "  <thead>\n",
       "    <tr style=\"text-align: right;\">\n",
       "      <th></th>\n",
       "      <th>Sales</th>\n",
       "      <th>CompPrice</th>\n",
       "      <th>Income</th>\n",
       "      <th>Advertising</th>\n",
       "      <th>Population</th>\n",
       "      <th>Price</th>\n",
       "      <th>ShelveLoc</th>\n",
       "      <th>Age</th>\n",
       "      <th>Urban</th>\n",
       "      <th>US</th>\n",
       "    </tr>\n",
       "  </thead>\n",
       "  <tbody>\n",
       "    <tr>\n",
       "      <th>0</th>\n",
       "      <td>9.50</td>\n",
       "      <td>138</td>\n",
       "      <td>73</td>\n",
       "      <td>11</td>\n",
       "      <td>276</td>\n",
       "      <td>120</td>\n",
       "      <td>Bad</td>\n",
       "      <td>42</td>\n",
       "      <td>Yes</td>\n",
       "      <td>Yes</td>\n",
       "    </tr>\n",
       "    <tr>\n",
       "      <th>1</th>\n",
       "      <td>11.22</td>\n",
       "      <td>111</td>\n",
       "      <td>48</td>\n",
       "      <td>16</td>\n",
       "      <td>260</td>\n",
       "      <td>83</td>\n",
       "      <td>Good</td>\n",
       "      <td>65</td>\n",
       "      <td>Yes</td>\n",
       "      <td>Yes</td>\n",
       "    </tr>\n",
       "    <tr>\n",
       "      <th>2</th>\n",
       "      <td>10.06</td>\n",
       "      <td>113</td>\n",
       "      <td>35</td>\n",
       "      <td>10</td>\n",
       "      <td>269</td>\n",
       "      <td>80</td>\n",
       "      <td>Medium</td>\n",
       "      <td>59</td>\n",
       "      <td>Yes</td>\n",
       "      <td>Yes</td>\n",
       "    </tr>\n",
       "    <tr>\n",
       "      <th>3</th>\n",
       "      <td>7.40</td>\n",
       "      <td>117</td>\n",
       "      <td>100</td>\n",
       "      <td>4</td>\n",
       "      <td>466</td>\n",
       "      <td>97</td>\n",
       "      <td>Medium</td>\n",
       "      <td>55</td>\n",
       "      <td>Yes</td>\n",
       "      <td>Yes</td>\n",
       "    </tr>\n",
       "    <tr>\n",
       "      <th>4</th>\n",
       "      <td>4.15</td>\n",
       "      <td>141</td>\n",
       "      <td>64</td>\n",
       "      <td>3</td>\n",
       "      <td>340</td>\n",
       "      <td>128</td>\n",
       "      <td>Bad</td>\n",
       "      <td>38</td>\n",
       "      <td>Yes</td>\n",
       "      <td>No</td>\n",
       "    </tr>\n",
       "  </tbody>\n",
       "</table>\n",
       "</div>"
      ],
      "text/plain": [
       "   Sales  CompPrice  Income  Advertising  Population  Price ShelveLoc  Age  \\\n",
       "0   9.50        138      73           11         276    120       Bad   42   \n",
       "1  11.22        111      48           16         260     83      Good   65   \n",
       "2  10.06        113      35           10         269     80    Medium   59   \n",
       "3   7.40        117     100            4         466     97    Medium   55   \n",
       "4   4.15        141      64            3         340    128       Bad   38   \n",
       "\n",
       "  Urban   US  \n",
       "0   Yes  Yes  \n",
       "1   Yes  Yes  \n",
       "2   Yes  Yes  \n",
       "3   Yes  Yes  \n",
       "4   Yes   No  "
      ]
     },
     "execution_count": 95,
     "metadata": {},
     "output_type": "execute_result"
    }
   ],
   "source": [
    "path = 'https://raw.githubusercontent.com/JunhoYu/Data-Analysis/main/Carseats.csv'\n",
    "data = pd.read_csv(path)\n",
    "data.drop('Education', axis = 1, inplace = True)\n",
    "data.head()"
   ]
  },
  {
   "cell_type": "markdown",
   "metadata": {
    "id": "2KcdJrQNfJCZ"
   },
   "source": [
    "### ① Sales (Target) "
   ]
  },
  {
   "cell_type": "code",
   "execution_count": 96,
   "metadata": {
    "id": "Q5mGnZ5ffJCZ"
   },
   "outputs": [],
   "source": [
    "var = 'Sales'"
   ]
  },
  {
   "cell_type": "markdown",
   "metadata": {
    "id": "RkXL80PpfJCa"
   },
   "source": [
    "1) 변수의 비즈니스 의미"
   ]
  },
  {
   "cell_type": "markdown",
   "metadata": {
    "id": "iAi8vPRhJ_X5"
   },
   "source": [
    "* 각 지역 판매량(단위 : 1000개)"
   ]
  },
  {
   "cell_type": "markdown",
   "metadata": {
    "id": "5Lzur-vKfJCa"
   },
   "source": [
    "2) 숫자, 범주?"
   ]
  },
  {
   "cell_type": "code",
   "execution_count": 14,
   "metadata": {
    "id": "04hJ1UVNKFOM"
   },
   "outputs": [
    {
     "data": {
      "text/plain": [
       "dtype('float64')"
      ]
     },
     "execution_count": 14,
     "metadata": {},
     "output_type": "execute_result"
    }
   ],
   "source": [
    "data[var].dtypes\n",
    "#숫자"
   ]
  },
  {
   "cell_type": "markdown",
   "metadata": {
    "id": "KuROaOxIf3AJ"
   },
   "source": [
    "3) NaN 존재 유무 및 조치방안"
   ]
  },
  {
   "cell_type": "code",
   "execution_count": 97,
   "metadata": {
    "id": "PzL82RnmKFrm"
   },
   "outputs": [
    {
     "data": {
      "text/plain": [
       "0"
      ]
     },
     "execution_count": 97,
     "metadata": {},
     "output_type": "execute_result"
    }
   ],
   "source": [
    "data[var].isnull().sum()\n",
    "# NaN 없음"
   ]
  },
  {
   "cell_type": "markdown",
   "metadata": {
    "id": "pYG-6q3rfJCa"
   },
   "source": [
    "4) 가변수화 필요 여부"
   ]
  },
  {
   "cell_type": "markdown",
   "metadata": {
    "id": "HxjAP_pXKGe0"
   },
   "source": [
    "* 숫자형이라 불필요"
   ]
  },
  {
   "cell_type": "markdown",
   "metadata": {
    "id": "H9_8VoENfJCa"
   },
   "source": [
    "5) 기초통계량(수치화)"
   ]
  },
  {
   "cell_type": "code",
   "execution_count": 99,
   "metadata": {
    "id": "DJpEltSbfJCa"
   },
   "outputs": [
    {
     "data": {
      "text/plain": [
       "count    400.000000\n",
       "mean       7.496325\n",
       "std        2.824115\n",
       "min        0.000000\n",
       "25%        5.390000\n",
       "50%        7.490000\n",
       "75%        9.320000\n",
       "max       16.270000\n",
       "Name: Sales, dtype: float64"
      ]
     },
     "execution_count": 99,
     "metadata": {},
     "output_type": "execute_result"
    }
   ],
   "source": [
    "data[var].describe()"
   ]
  },
  {
   "cell_type": "markdown",
   "metadata": {
    "id": "2mgIyJ3vfJCa"
   },
   "source": [
    "6) 분포 확인(시각화)"
   ]
  },
  {
   "cell_type": "code",
   "execution_count": 19,
   "metadata": {
    "id": "8Nnz494-fJCa"
   },
   "outputs": [
    {
     "data": {
      "image/png": "[encoded data removed]",
      "text/plain": [
       "<Figure size 432x576 with 3 Axes>"
      ]
     },
     "metadata": {
      "needs_background": "light"
     },
     "output_type": "display_data"
    }
   ],
   "source": [
    "plt.figure(figsize=(6,8))\n",
    "\n",
    "plt.subplot(3,1,1)\n",
    "sns.histplot(data[var], bins=8)\n",
    "\n",
    "plt.subplot(3,1,2)\n",
    "sns.kdeplot(data[var])\n",
    "\n",
    "plt.subplot(3,1,3)\n",
    "sns.boxplot(data[var])\n",
    "\n",
    "plt.tight_layout()\n",
    "plt.show()"
   ]
  },
  {
   "cell_type": "markdown",
   "metadata": {
    "id": "s2MLcqE0fJCa"
   },
   "source": [
    "7) 기초통계량과 분포를 통해서 파악한 내용을 적어 봅시다.\n",
    "\n",
    "보이는 그대로를 넘어, 비즈니스 관점에서 고민하며 적어 봅시다."
   ]
  },
  {
   "cell_type": "markdown",
   "metadata": {
    "id": "zWPeElSNKTGe"
   },
   "source": [
    "* 4~10지역의 판매량이 제일 많다 "
   ]
  },
  {
   "cell_type": "markdown",
   "metadata": {
    "id": "hr8edCgEfJCb"
   },
   "source": [
    "8) 추가 분석해 볼 사항이 있나요?"
   ]
  },
  {
   "cell_type": "markdown",
   "metadata": {
    "id": "O-DikjsuKTk8"
   },
   "source": [
    "* 4~10 지역이 어떤 지역인지 확인, 다른 요인과의 상관관계\n",
    "* 판매량이 높은 지역 특징을 알아볼필요가 있다\n",
    "* 나머지 지역은 왜 판매량이 적은지"
   ]
  },
  {
   "cell_type": "markdown",
   "metadata": {
    "id": "9WGX3Pm8g8HV"
   },
   "source": [
    "### ② CompPrice"
   ]
  },
  {
   "cell_type": "code",
   "execution_count": 21,
   "metadata": {
    "id": "Bf4W8K0oKVmm"
   },
   "outputs": [],
   "source": [
    "var='CompPrice'"
   ]
  },
  {
   "cell_type": "markdown",
   "metadata": {
    "id": "DroeiAcFKVmn"
   },
   "source": [
    "1) 변수의 비즈니스 의미"
   ]
  },
  {
   "cell_type": "markdown",
   "metadata": {
    "id": "CKICGx9ZKVmn"
   },
   "source": [
    "* 경쟁사 가격(단위 : 달러)"
   ]
  },
  {
   "cell_type": "markdown",
   "metadata": {
    "id": "v-MauL-4KVmn"
   },
   "source": [
    "2) 숫자, 범주?"
   ]
  },
  {
   "cell_type": "code",
   "execution_count": 24,
   "metadata": {
    "id": "GsC7i6SlKVmn"
   },
   "outputs": [
    {
     "data": {
      "text/plain": [
       "dtype('int64')"
      ]
     },
     "execution_count": 24,
     "metadata": {},
     "output_type": "execute_result"
    }
   ],
   "source": [
    "data[var].dtypes"
   ]
  },
  {
   "cell_type": "markdown",
   "metadata": {
    "id": "yieBkt9KKVmn"
   },
   "source": [
    "3) NaN 존재 유무 및 조치방안"
   ]
  },
  {
   "cell_type": "code",
   "execution_count": 25,
   "metadata": {
    "id": "1PnsgcTLKVmn"
   },
   "outputs": [
    {
     "data": {
      "text/plain": [
       "0"
      ]
     },
     "execution_count": 25,
     "metadata": {},
     "output_type": "execute_result"
    }
   ],
   "source": [
    "data[var].isnull().sum()"
   ]
  },
  {
   "cell_type": "markdown",
   "metadata": {
    "id": "7yirvVHqKVmn"
   },
   "source": [
    "4) 가변수화 필요 여부"
   ]
  },
  {
   "cell_type": "markdown",
   "metadata": {
    "id": "dW20glRyKVmn"
   },
   "source": [
    "* 숫자라 불필요 "
   ]
  },
  {
   "cell_type": "markdown",
   "metadata": {
    "id": "VZs3JI2PKVmn"
   },
   "source": [
    "5) 기초통계량(수치화)"
   ]
  },
  {
   "cell_type": "code",
   "execution_count": 26,
   "metadata": {
    "id": "5Pcl-uIQKVmo"
   },
   "outputs": [
    {
     "data": {
      "text/plain": [
       "count    400.000000\n",
       "mean     124.975000\n",
       "std       15.334512\n",
       "min       77.000000\n",
       "25%      115.000000\n",
       "50%      125.000000\n",
       "75%      135.000000\n",
       "max      175.000000\n",
       "Name: CompPrice, dtype: float64"
      ]
     },
     "execution_count": 26,
     "metadata": {},
     "output_type": "execute_result"
    }
   ],
   "source": [
    "data[var].describe()"
   ]
  },
  {
   "cell_type": "markdown",
   "metadata": {
    "id": "F3hDjUqRKVmo"
   },
   "source": [
    "6) 분포 확인(시각화)"
   ]
  },
  {
   "cell_type": "code",
   "execution_count": 36,
   "metadata": {
    "id": "5KUitowWKVmo"
   },
   "outputs": [
    {
     "data": {
      "image/png": "[encoded data removed]",
      "text/plain": [
       "<Figure size 432x576 with 3 Axes>"
      ]
     },
     "metadata": {
      "needs_background": "light"
     },
     "output_type": "display_data"
    }
   ],
   "source": [
    "plt.figure(figsize=(6,8))\n",
    "\n",
    "plt.subplot(3,1,1)\n",
    "sns.histplot(data[var], bins=8)\n",
    "\n",
    "plt.subplot(3,1,2)\n",
    "sns.kdeplot(data[var])\n",
    "\n",
    "plt.subplot(3,1,3)\n",
    "plt.boxplot(data[var],vert=False)\n",
    "\n",
    "plt.tight_layout()\n",
    "plt.show()"
   ]
  },
  {
   "cell_type": "markdown",
   "metadata": {
    "id": "UKozPsGNKVmo"
   },
   "source": [
    "7) 기초통계량과 분포를 통해서 파악한 내용을 적어 봅시다.\n",
    "\n",
    "보이는 그대로를 넘어, 비즈니스 관점에서 고민하며 적어 봅시다."
   ]
  },
  {
   "cell_type": "markdown",
   "metadata": {
    "id": "6vPaqA0RKVmo"
   },
   "source": [
    "* 경쟁사 가격이 115~135가 가장 많음"
   ]
  },
  {
   "cell_type": "markdown",
   "metadata": {
    "id": "0bw-sgDfKVmo"
   },
   "source": [
    "8) 추가 분석해 볼 사항이 있나요?"
   ]
  },
  {
   "cell_type": "markdown",
   "metadata": {
    "id": "WI65k1-eKVmo"
   },
   "source": [
    "* 왜 그렇게 책정했는지 확인작업과 고객사의 가격 책정과의 상관관계 확인필요"
   ]
  },
  {
   "cell_type": "markdown",
   "metadata": {
    "id": "CPQ4kqneg8SS"
   },
   "source": [
    "### ③ Income"
   ]
  },
  {
   "cell_type": "code",
   "execution_count": 4,
   "metadata": {
    "id": "gOTB8szfUPs5"
   },
   "outputs": [],
   "source": [
    "var = 'Income'"
   ]
  },
  {
   "cell_type": "markdown",
   "metadata": {
    "id": "Kccqg3yyUPs6"
   },
   "source": [
    "1) 변수의 비즈니스 의미"
   ]
  },
  {
   "cell_type": "markdown",
   "metadata": {
    "id": "_sPb9VIYUPs6"
   },
   "source": [
    "* 지역 평균 소득(단위 : 1000달러)"
   ]
  },
  {
   "cell_type": "markdown",
   "metadata": {
    "id": "tLuGW204UPs6"
   },
   "source": [
    "2) 숫자, 범주?"
   ]
  },
  {
   "cell_type": "markdown",
   "metadata": {
    "id": "GlVNqu0jUPs6"
   },
   "source": [
    "* 숫자"
   ]
  },
  {
   "cell_type": "markdown",
   "metadata": {
    "id": "6ZMpDczSUPs6"
   },
   "source": [
    "3) NaN 존재 유무 및 조치방안"
   ]
  },
  {
   "cell_type": "code",
   "execution_count": 5,
   "metadata": {
    "id": "wsbyo23yUPs6"
   },
   "outputs": [
    {
     "data": {
      "text/plain": [
       "0"
      ]
     },
     "execution_count": 5,
     "metadata": {},
     "output_type": "execute_result"
    }
   ],
   "source": [
    "data[var].isna().sum()"
   ]
  },
  {
   "cell_type": "markdown",
   "metadata": {
    "id": "x9eBbkhXUPs6"
   },
   "source": [
    "* NAN 없음"
   ]
  },
  {
   "cell_type": "markdown",
   "metadata": {
    "id": "ZTlNamSDUPs6"
   },
   "source": [
    "4) 가변수화 필요 여부"
   ]
  },
  {
   "cell_type": "markdown",
   "metadata": {
    "id": "v5NzqGubUPs6"
   },
   "source": [
    "* 숫자형이므로 필요 없음"
   ]
  },
  {
   "cell_type": "markdown",
   "metadata": {
    "id": "SanjUA82UPs7"
   },
   "source": [
    "5) 기초통계량(수치화)"
   ]
  },
  {
   "cell_type": "code",
   "execution_count": 6,
   "metadata": {
    "id": "2SbR80T0UPs7"
   },
   "outputs": [
    {
     "data": {
      "text/plain": [
       "count    400.000000\n",
       "mean      68.657500\n",
       "std       27.986037\n",
       "min       21.000000\n",
       "25%       42.750000\n",
       "50%       69.000000\n",
       "75%       91.000000\n",
       "max      120.000000\n",
       "Name: Income, dtype: float64"
      ]
     },
     "execution_count": 6,
     "metadata": {},
     "output_type": "execute_result"
    }
   ],
   "source": [
    "data[var].describe()"
   ]
  },
  {
   "cell_type": "markdown",
   "metadata": {
    "id": "zTQjvVcrUPs7"
   },
   "source": [
    "6) 분포 확인(시각화)"
   ]
  },
  {
   "cell_type": "code",
   "execution_count": 7,
   "metadata": {
    "id": "wk2Xa6nhUPs7"
   },
   "outputs": [
    {
     "data": {
      "image/png": "[encoded data removed]",
      "text/plain": [
       "<Figure size 432x576 with 3 Axes>"
      ]
     },
     "metadata": {
      "needs_background": "light"
     },
     "output_type": "display_data"
    }
   ],
   "source": [
    "plt.figure(figsize = (6,8))\n",
    "plt.subplot(3,1,1)\n",
    "sns.histplot(data[var], bins = 20)\n",
    "\n",
    "plt.subplot(3,1,2)\n",
    "sns.kdeplot(data[var])\n",
    "\n",
    "plt.subplot(3,1,3)\n",
    "sns.boxplot(data[var])\n",
    "\n",
    "plt.tight_layout()\n",
    "plt.show()"
   ]
  },
  {
   "cell_type": "markdown",
   "metadata": {
    "id": "pC8Hhurag8ST"
   },
   "source": [
    "7) 기초통계량과 분포를 통해서 파악한 내용을 적어 봅시다.\n",
    "\n",
    "보이는 그대로를 넘어, 비즈니스 관점에서 고민하며 적어 봅시다."
   ]
  },
  {
   "cell_type": "markdown",
   "metadata": {
    "id": "8wCRudBCcjQR"
   },
   "source": [
    "* 전 연령에 대한 인구별 평균 소득액? 성인에 대한 평균 소득액?\n",
    "* 2만달러 ~ 12만 달러 이므로 연간 소득일 것.\n",
    "* 50%가 약 4만달러 ~ 9만달러"
   ]
  },
  {
   "cell_type": "markdown",
   "metadata": {
    "id": "8XzrJN_0g8ST"
   },
   "source": [
    "8) 추가 분석해 볼 사항이 있나요?"
   ]
  },
  {
   "cell_type": "markdown",
   "metadata": {
    "id": "S6yXt6bndv9y"
   },
   "source": [
    "* 평균 소득과 카시트 판매량과의 관계\n",
    "* 평균 소득과 카시트 가격과의 관계"
   ]
  },
  {
   "cell_type": "markdown",
   "metadata": {
    "id": "oGaBjzSYg8ch"
   },
   "source": [
    "### ④ Advertising"
   ]
  },
  {
   "cell_type": "code",
   "execution_count": 100,
   "metadata": {
    "id": "J5OcQvBZKZna"
   },
   "outputs": [],
   "source": [
    "var='Advertising'"
   ]
  },
  {
   "cell_type": "markdown",
   "metadata": {
    "id": "58J_buflKZna"
   },
   "source": [
    "1) 변수의 비즈니스 의미"
   ]
  },
  {
   "cell_type": "markdown",
   "metadata": {
    "id": "7Zrj_9c3KZna"
   },
   "source": [
    "* 각 지역, 회사의 광고 예산(단위 : 1000달러)"
   ]
  },
  {
   "cell_type": "markdown",
   "metadata": {
    "id": "sU5WZOYyKZna"
   },
   "source": [
    "2) 숫자, 범주?"
   ]
  },
  {
   "cell_type": "code",
   "execution_count": 105,
   "metadata": {
    "id": "jEF5pF6HKZna"
   },
   "outputs": [
    {
     "data": {
      "text/plain": [
       "array([11, 16, 10,  4,  3, 13,  0, 15,  9,  2,  5, 12,  6, 14, 18, 19, 20,\n",
       "       23,  1,  7, 24,  8, 17, 25, 26, 29, 22, 21], dtype=int64)"
      ]
     },
     "execution_count": 105,
     "metadata": {},
     "output_type": "execute_result"
    }
   ],
   "source": [
    "data[var].unique()\n",
    "#숫자"
   ]
  },
  {
   "cell_type": "markdown",
   "metadata": {
    "id": "IgBghJYWKZnb"
   },
   "source": [
    "3) NaN 존재 유무 및 조치방안"
   ]
  },
  {
   "cell_type": "code",
   "execution_count": 104,
   "metadata": {
    "id": "WwM20diyKZnb"
   },
   "outputs": [
    {
     "data": {
      "text/plain": [
       "0"
      ]
     },
     "execution_count": 104,
     "metadata": {},
     "output_type": "execute_result"
    }
   ],
   "source": [
    "data[var].isnull().sum() # NAN없음"
   ]
  },
  {
   "cell_type": "markdown",
   "metadata": {
    "id": "Z46jgvtHKZnb"
   },
   "source": [
    "4) 가변수화 필요 여부"
   ]
  },
  {
   "cell_type": "markdown",
   "metadata": {
    "id": "-GEDaDJAKZnb"
   },
   "source": [
    "* 숫자라 불필요"
   ]
  },
  {
   "cell_type": "markdown",
   "metadata": {
    "id": "OIAtGAm1KZnb"
   },
   "source": [
    "5) 기초통계량(수치화)"
   ]
  },
  {
   "cell_type": "code",
   "execution_count": 106,
   "metadata": {
    "id": "ri2j2COCKZnb"
   },
   "outputs": [
    {
     "data": {
      "text/plain": [
       "count    400.000000\n",
       "mean       6.635000\n",
       "std        6.650364\n",
       "min        0.000000\n",
       "25%        0.000000\n",
       "50%        5.000000\n",
       "75%       12.000000\n",
       "max       29.000000\n",
       "Name: Advertising, dtype: float64"
      ]
     },
     "execution_count": 106,
     "metadata": {},
     "output_type": "execute_result"
    }
   ],
   "source": [
    "data[var].describe()"
   ]
  },
  {
   "cell_type": "markdown",
   "metadata": {
    "id": "l3-THMh8KZnb"
   },
   "source": [
    "6) 분포 확인(시각화)"
   ]
  },
  {
   "cell_type": "code",
   "execution_count": 111,
   "metadata": {
    "id": "vfr1GQDQKZnb"
   },
   "outputs": [
    {
     "data": {
      "image/png": "[encoded data removed]",
      "text/plain": [
       "<Figure size 1224x432 with 3 Axes>"
      ]
     },
     "metadata": {
      "needs_background": "light"
     },
     "output_type": "display_data"
    }
   ],
   "source": [
    "plt.figure(figsize=(17,6))\n",
    "\n",
    "plt.subplot(1,3,1)\n",
    "sns.histplot(data[var], bins=10)\n",
    "\n",
    "plt.subplot(1,3,2)\n",
    "sns.kdeplot(data[var])\n",
    "\n",
    "plt.subplot(1,3,3)\n",
    "plt.boxplot(data[var], vert=False)\n",
    "\n",
    "plt.tight_layout()\n",
    "plt.show()"
   ]
  },
  {
   "cell_type": "markdown",
   "metadata": {
    "id": "7L9WFA7jKZnb"
   },
   "source": [
    "7) 기초통계량과 분포를 통해서 파악한 내용을 적어 봅시다.\n",
    "\n",
    "보이는 그대로를 넘어, 비즈니스 관점에서 고민하며 적어 봅시다."
   ]
  },
  {
   "cell_type": "markdown",
   "metadata": {
    "id": "32YE4yiPKZnb"
   },
   "source": [
    "* 판매량이 높은 4~10에 광고비가 많이 들어가지 않았다\n",
    "* 0~3 까지의 지역에 광고비가 많이 들어간다 "
   ]
  },
  {
   "cell_type": "markdown",
   "metadata": {
    "id": "hEK7x2zfKZnb"
   },
   "source": [
    "8) 추가 분석해 볼 사항이 있나요?"
   ]
  },
  {
   "cell_type": "markdown",
   "metadata": {
    "id": "QOE1DyVWKZnb"
   },
   "source": [
    "* 다른요인과의 상관관계를 살펴봐야함"
   ]
  },
  {
   "cell_type": "markdown",
   "metadata": {
    "id": "Pf9iFSXpg8mZ"
   },
   "source": [
    "### ⑤ Population"
   ]
  },
  {
   "cell_type": "code",
   "execution_count": 112,
   "metadata": {
    "id": "lDPFjmEBKdDG"
   },
   "outputs": [],
   "source": [
    "var= 'Population'"
   ]
  },
  {
   "cell_type": "markdown",
   "metadata": {
    "id": "FUWDUqtUKdDG"
   },
   "source": [
    "1) 변수의 비즈니스 의미"
   ]
  },
  {
   "cell_type": "markdown",
   "metadata": {
    "id": "RXkqc6kDKdDG"
   },
   "source": [
    "* 지역 인구수(단위 : 1000명)"
   ]
  },
  {
   "cell_type": "markdown",
   "metadata": {
    "id": "fJgAvBYhKdDG"
   },
   "source": [
    "2) 숫자, 범주?"
   ]
  },
  {
   "cell_type": "code",
   "execution_count": 120,
   "metadata": {
    "id": "eSoMmmeZKdDH"
   },
   "outputs": [
    {
     "data": {
      "text/plain": [
       "dtype('int64')"
      ]
     },
     "execution_count": 120,
     "metadata": {},
     "output_type": "execute_result"
    }
   ],
   "source": [
    "data[var].dtypes"
   ]
  },
  {
   "cell_type": "markdown",
   "metadata": {
    "id": "ODbQiKV8KdDH"
   },
   "source": [
    "3) NaN 존재 유무 및 조치방안"
   ]
  },
  {
   "cell_type": "code",
   "execution_count": 114,
   "metadata": {
    "id": "WjZpDkZUKdDH"
   },
   "outputs": [
    {
     "data": {
      "text/plain": [
       "0"
      ]
     },
     "execution_count": 114,
     "metadata": {},
     "output_type": "execute_result"
    }
   ],
   "source": [
    "data[var].isnull().sum()"
   ]
  },
  {
   "cell_type": "markdown",
   "metadata": {
    "id": "Q0ZXi1_hKdDH"
   },
   "source": [
    "4) 가변수화 필요 여부"
   ]
  },
  {
   "cell_type": "markdown",
   "metadata": {
    "id": "kg_6eNfkKdDH"
   },
   "source": [
    "* 숫자라 불필요 "
   ]
  },
  {
   "cell_type": "markdown",
   "metadata": {
    "id": "2-wlHr0IKdDH"
   },
   "source": [
    "5) 기초통계량(수치화)"
   ]
  },
  {
   "cell_type": "code",
   "execution_count": 115,
   "metadata": {
    "id": "OyO210SYKdDH"
   },
   "outputs": [
    {
     "data": {
      "text/plain": [
       "count    400.000000\n",
       "mean     264.840000\n",
       "std      147.376436\n",
       "min       10.000000\n",
       "25%      139.000000\n",
       "50%      272.000000\n",
       "75%      398.500000\n",
       "max      509.000000\n",
       "Name: Population, dtype: float64"
      ]
     },
     "execution_count": 115,
     "metadata": {},
     "output_type": "execute_result"
    }
   ],
   "source": [
    "data[var].describe()"
   ]
  },
  {
   "cell_type": "markdown",
   "metadata": {
    "id": "KK602076KdDH"
   },
   "source": [
    "6) 분포 확인(시각화)"
   ]
  },
  {
   "cell_type": "code",
   "execution_count": 118,
   "metadata": {
    "id": "xrJNuK5RKdDH"
   },
   "outputs": [
    {
     "data": {
      "image/png": "[encoded data removed]",
      "text/plain": [
       "<Figure size 1080x360 with 3 Axes>"
      ]
     },
     "metadata": {
      "needs_background": "light"
     },
     "output_type": "display_data"
    }
   ],
   "source": [
    "plt.figure(figsize=(15,5))\n",
    "\n",
    "plt.subplot(1,3,1)\n",
    "sns.histplot(data[var], bins=12)\n",
    "\n",
    "plt.subplot(1,3,2)\n",
    "sns.kdeplot(data[var])\n",
    "\n",
    "plt.subplot(1,3,3)\n",
    "plt.boxplot(data[var], vert=False)\n",
    "\n",
    "plt.tight_layout()\n",
    "plt.show()"
   ]
  },
  {
   "cell_type": "markdown",
   "metadata": {
    "id": "L-oLfuJfKdDH"
   },
   "source": [
    "7) 기초통계량과 분포를 통해서 파악한 내용을 적어 봅시다.\n",
    "\n",
    "보이는 그대로를 넘어, 비즈니스 관점에서 고민하며 적어 봅시다."
   ]
  },
  {
   "cell_type": "markdown",
   "metadata": {
    "id": "K3LlaZhPKdDH"
   },
   "source": [
    "* 인구는 대체적으로 퍼져 있으나 260의 지역의 인구가 특히 많다. 도시인지"
   ]
  },
  {
   "cell_type": "markdown",
   "metadata": {
    "id": "gfDpbK8WKdDH"
   },
   "source": [
    "8) 추가 분석해 볼 사항이 있나요?"
   ]
  },
  {
   "cell_type": "markdown",
   "metadata": {
    "id": "hAP4FpslKdDH"
   },
   "source": [
    "* 다른요인과의 상관관계"
   ]
  },
  {
   "cell_type": "markdown",
   "metadata": {
    "id": "-MNN7Zplg8wC"
   },
   "source": [
    "### ⑥ Price"
   ]
  },
  {
   "cell_type": "code",
   "execution_count": 87,
   "metadata": {
    "id": "D5MPxJUuKgql"
   },
   "outputs": [],
   "source": [
    "var = 'Price'"
   ]
  },
  {
   "cell_type": "markdown",
   "metadata": {
    "id": "uihRb98UKgqm"
   },
   "source": [
    "1) 변수의 비즈니스 의미"
   ]
  },
  {
   "cell_type": "markdown",
   "metadata": {
    "id": "rT9gF6rQKgqm"
   },
   "source": [
    "* 자사 지역별 판매가격"
   ]
  },
  {
   "cell_type": "markdown",
   "metadata": {
    "id": "AI--kcEhKgqm"
   },
   "source": [
    "2) 숫자, 범주?"
   ]
  },
  {
   "cell_type": "code",
   "execution_count": 46,
   "metadata": {
    "id": "04g_QhFcKgqm"
   },
   "outputs": [
    {
     "data": {
      "text/plain": [
       "dtype('int64')"
      ]
     },
     "execution_count": 46,
     "metadata": {},
     "output_type": "execute_result"
    }
   ],
   "source": [
    "data[var].dtypes"
   ]
  },
  {
   "cell_type": "markdown",
   "metadata": {
    "id": "xyScDmM_Kgqm"
   },
   "source": [
    "3) NaN 존재 유무 및 조치방안"
   ]
  },
  {
   "cell_type": "code",
   "execution_count": 47,
   "metadata": {
    "id": "XL_vOgVBKgqm"
   },
   "outputs": [
    {
     "data": {
      "text/plain": [
       "0"
      ]
     },
     "execution_count": 47,
     "metadata": {},
     "output_type": "execute_result"
    }
   ],
   "source": [
    "data[var].isnull().sum()"
   ]
  },
  {
   "cell_type": "markdown",
   "metadata": {
    "id": "N_Vru07HKgqm"
   },
   "source": [
    "4) 가변수화 필요 여부"
   ]
  },
  {
   "cell_type": "markdown",
   "metadata": {
    "id": "CCPAwoSgKgqn"
   },
   "source": [
    "* 불필요"
   ]
  },
  {
   "cell_type": "markdown",
   "metadata": {
    "id": "gBt5wjXYKgqn"
   },
   "source": [
    "5) 기초통계량(수치화)"
   ]
  },
  {
   "cell_type": "code",
   "execution_count": 48,
   "metadata": {
    "id": "Zrfo_lsjKgqn"
   },
   "outputs": [
    {
     "data": {
      "text/plain": [
       "count    400.000000\n",
       "mean     115.795000\n",
       "std       23.676664\n",
       "min       24.000000\n",
       "25%      100.000000\n",
       "50%      117.000000\n",
       "75%      131.000000\n",
       "max      191.000000\n",
       "Name: Price, dtype: float64"
      ]
     },
     "execution_count": 48,
     "metadata": {},
     "output_type": "execute_result"
    }
   ],
   "source": [
    "data[var].describe()"
   ]
  },
  {
   "cell_type": "markdown",
   "metadata": {
    "id": "aNeHTeIXKgqn"
   },
   "source": [
    "6) 분포 확인(시각화)"
   ]
  },
  {
   "cell_type": "code",
   "execution_count": null,
   "metadata": {
    "id": "6EG46A15Kgqn"
   },
   "outputs": [],
   "source": [
    "plt.figure(figsize=(6,8))\n",
    "\n",
    "plt.subplot(3,1,1)\n",
    "sns.histplot(data[var], bins=20)\n",
    "\n",
    "plt.subplot(3,1,2)\n",
    "sns.kdeplot(data[var])\n",
    "\n",
    "plt.subplot(3,1,3)\n",
    "plt.boxplot(data[var], vert=False)\n",
    "\n",
    "plt.tight_layout()\n",
    "plt.show()"
   ]
  },
  {
   "cell_type": "markdown",
   "metadata": {
    "id": "knL5ZY_wKgqn"
   },
   "source": [
    "7) 기초통계량과 분포를 통해서 파악한 내용을 적어 봅시다.\n",
    "\n",
    "보이는 그대로를 넘어, 비즈니스 관점에서 고민하며 적어 봅시다."
   ]
  },
  {
   "cell_type": "markdown",
   "metadata": {
    "id": "EgjwO-bPKgqn"
   },
   "source": [
    "* 현회사 : 지역별 가격 100~135 가장 많음\n",
    "* 경쟁사 가격이 115~135가 가장 많음"
   ]
  },
  {
   "cell_type": "markdown",
   "metadata": {
    "id": "n2yxj7EkKgqn"
   },
   "source": [
    "8) 추가 분석해 볼 사항이 있나요?"
   ]
  },
  {
   "cell_type": "markdown",
   "metadata": {
    "id": "b5wtT017Kgqn"
   },
   "source": [
    "* 경쟁사 가격과 큰 차이를 보이고 있지 않다. 품질이나 연령대등을 확인 요망"
   ]
  },
  {
   "cell_type": "markdown",
   "metadata": {
    "id": "m5zcg9CCg86m"
   },
   "source": [
    "### ⑦ ShelveLoc"
   ]
  },
  {
   "cell_type": "code",
   "execution_count": 80,
   "metadata": {
    "id": "c6MVpcRJKjit"
   },
   "outputs": [],
   "source": [
    "var= 'ShelveLoc'"
   ]
  },
  {
   "cell_type": "markdown",
   "metadata": {
    "id": "hv2D-_tpKjiu"
   },
   "source": [
    "1) 변수의 비즈니스 의미"
   ]
  },
  {
   "cell_type": "markdown",
   "metadata": {
    "id": "-cVCqa-mKjiu"
   },
   "source": [
    "* 진열상태"
   ]
  },
  {
   "cell_type": "markdown",
   "metadata": {
    "id": "Xb9t9cbeKjiu"
   },
   "source": [
    "2) 숫자, 범주?"
   ]
  },
  {
   "cell_type": "code",
   "execution_count": 81,
   "metadata": {
    "id": "EWDBhia-Kjiu"
   },
   "outputs": [
    {
     "data": {
      "text/plain": [
       "dtype('O')"
      ]
     },
     "execution_count": 81,
     "metadata": {},
     "output_type": "execute_result"
    }
   ],
   "source": [
    "data[var].dtypes"
   ]
  },
  {
   "cell_type": "markdown",
   "metadata": {
    "id": "Mea-uPInKjiu"
   },
   "source": [
    "3) NaN 존재 유무 및 조치방안"
   ]
  },
  {
   "cell_type": "code",
   "execution_count": 82,
   "metadata": {
    "id": "NgcMXE0rKjiu"
   },
   "outputs": [
    {
     "data": {
      "text/plain": [
       "0"
      ]
     },
     "execution_count": 82,
     "metadata": {},
     "output_type": "execute_result"
    }
   ],
   "source": [
    "data[var].isnull().sum()"
   ]
  },
  {
   "cell_type": "markdown",
   "metadata": {
    "id": "sgBl0fieKjiu"
   },
   "source": [
    "4) 가변수화 필요 여부"
   ]
  },
  {
   "cell_type": "markdown",
   "metadata": {
    "id": "8gqrADXxKjiu"
   },
   "source": [
    "* 필요  # 가변수화 필요없는 경우 딱 한경우 -> 1, 0 값으로 입력되어 있는 경우 (ex) 생존여부 처럼_)"
   ]
  },
  {
   "cell_type": "markdown",
   "metadata": {
    "id": "UQewZ5oUKjiu"
   },
   "source": [
    "5) 기초통계량(수치화)"
   ]
  },
  {
   "cell_type": "code",
   "execution_count": 84,
   "metadata": {
    "id": "_P8lo3ZiKjiu"
   },
   "outputs": [
    {
     "data": {
      "text/plain": [
       "Medium    0.5475\n",
       "Bad       0.2400\n",
       "Good      0.2125\n",
       "Name: ShelveLoc, dtype: float64"
      ]
     },
     "metadata": {},
     "output_type": "display_data"
    }
   ],
   "source": [
    "temp = data[var].value_counts()\n",
    "display(temp/data.shape[0])"
   ]
  },
  {
   "cell_type": "markdown",
   "metadata": {
    "id": "jQwR0pCvKjiu"
   },
   "source": [
    "6) 분포 확인(시각화)"
   ]
  },
  {
   "cell_type": "code",
   "execution_count": 85,
   "metadata": {
    "id": "jHWyJ0ldKjiv"
   },
   "outputs": [
    {
     "data": {
      "image/png": "[encoded data removed]",
      "text/plain": [
       "<Figure size 432x576 with 2 Axes>"
      ]
     },
     "metadata": {
      "needs_background": "light"
     },
     "output_type": "display_data"
    }
   ],
   "source": [
    "plt.figure(figsize=(6,8))\n",
    "\n",
    "plt.subplot(2,1,1)\n",
    "plt.bar(temp.index, temp.values)\n",
    "\n",
    "plt.subplot(2,1,2)\n",
    "plt.pie(temp.values, labels=temp.index, autopct='%.1f%%')\n",
    "\n",
    "plt.tight_layout()\n",
    "plt.show()"
   ]
  },
  {
   "cell_type": "markdown",
   "metadata": {
    "id": "32CULvlIKjiv"
   },
   "source": [
    "7) 기초통계량과 분포를 통해서 파악한 내용을 적어 봅시다.\n",
    "\n",
    "보이는 그대로를 넘어, 비즈니스 관점에서 고민하며 적어 봅시다."
   ]
  },
  {
   "cell_type": "code",
   "execution_count": null,
   "metadata": {
    "id": "9vrBq4JsKjiv"
   },
   "outputs": [],
   "source": []
  },
  {
   "cell_type": "markdown",
   "metadata": {
    "id": "pGL1RYnTKjiv"
   },
   "source": [
    "8) 추가 분석해 볼 사항이 있나요?"
   ]
  },
  {
   "cell_type": "code",
   "execution_count": null,
   "metadata": {
    "id": "frlIAW4dKjiv"
   },
   "outputs": [],
   "source": []
  },
  {
   "cell_type": "markdown",
   "metadata": {
    "id": "9sLeiF5Kg9EO"
   },
   "source": [
    "### ⑧ Age"
   ]
  },
  {
   "cell_type": "code",
   "execution_count": 20,
   "metadata": {
    "id": "sqtwxfsNKmCs"
   },
   "outputs": [],
   "source": [
    "var = 'Age'"
   ]
  },
  {
   "cell_type": "markdown",
   "metadata": {
    "id": "TuU7bNxdKmCs"
   },
   "source": [
    "1) 변수의 비즈니스 의미"
   ]
  },
  {
   "cell_type": "markdown",
   "metadata": {
    "id": "BSoS6GuNKmCt"
   },
   "source": [
    "* 지역 인구의 평균 연령"
   ]
  },
  {
   "cell_type": "markdown",
   "metadata": {
    "id": "MVHCtxzFKmCt"
   },
   "source": [
    "2) 숫자, 범주?"
   ]
  },
  {
   "cell_type": "code",
   "execution_count": 123,
   "metadata": {
    "id": "tpjEqi5xKmCt"
   },
   "outputs": [
    {
     "data": {
      "text/plain": [
       "dtype('int64')"
      ]
     },
     "execution_count": 123,
     "metadata": {},
     "output_type": "execute_result"
    }
   ],
   "source": [
    "data[var].dtypes"
   ]
  },
  {
   "cell_type": "markdown",
   "metadata": {
    "id": "_3nntrd5KmCt"
   },
   "source": [
    "3) NaN 존재 유무 및 조치방안"
   ]
  },
  {
   "cell_type": "code",
   "execution_count": 124,
   "metadata": {
    "id": "eg86gx2NKmCt"
   },
   "outputs": [
    {
     "data": {
      "text/plain": [
       "0"
      ]
     },
     "execution_count": 124,
     "metadata": {},
     "output_type": "execute_result"
    }
   ],
   "source": [
    "data[var].isnull().sum()"
   ]
  },
  {
   "cell_type": "markdown",
   "metadata": {
    "id": "GVeizMaAKmCt"
   },
   "source": [
    "4) 가변수화 필요 여부"
   ]
  },
  {
   "cell_type": "markdown",
   "metadata": {
    "id": "O_48L35aKmCt"
   },
   "source": [
    "* 숫자라 불필요"
   ]
  },
  {
   "cell_type": "markdown",
   "metadata": {
    "id": "b8RVXeEJKmCu"
   },
   "source": [
    "5) 기초통계량(수치화)"
   ]
  },
  {
   "cell_type": "code",
   "execution_count": 125,
   "metadata": {
    "id": "c76L-g_ZKmCu"
   },
   "outputs": [
    {
     "data": {
      "text/plain": [
       "count    400.000000\n",
       "mean     264.840000\n",
       "std      147.376436\n",
       "min       10.000000\n",
       "25%      139.000000\n",
       "50%      272.000000\n",
       "75%      398.500000\n",
       "max      509.000000\n",
       "Name: Population, dtype: float64"
      ]
     },
     "execution_count": 125,
     "metadata": {},
     "output_type": "execute_result"
    }
   ],
   "source": [
    "data[var].describe()"
   ]
  },
  {
   "cell_type": "markdown",
   "metadata": {
    "id": "9VzjYaeeKmCu"
   },
   "source": [
    "6) 분포 확인(시각화)"
   ]
  },
  {
   "cell_type": "code",
   "execution_count": 126,
   "metadata": {
    "id": "UWVDOhwIKmCu"
   },
   "outputs": [
    {
     "data": {
      "image/png": "[encoded data removed]",
      "text/plain": [
       "<Figure size 1080x360 with 3 Axes>"
      ]
     },
     "metadata": {
      "needs_background": "light"
     },
     "output_type": "display_data"
    }
   ],
   "source": [
    "plt.figure(figsize=(15,5))\n",
    "\n",
    "plt.subplot(1,3,1)\n",
    "sns.histplot(data[var],bins=12)\n",
    "\n",
    "plt.subplot(1,3,2)\n",
    "sns.kdeplot(data[var])\n",
    "\n",
    "plt.subplot(1,3,3)\n",
    "sns.boxplot(data[var])\n",
    "\n",
    "plt.tight_layout()\n",
    "plt.show()"
   ]
  },
  {
   "cell_type": "markdown",
   "metadata": {
    "id": "CjgE1YaCKmCu"
   },
   "source": [
    "7) 기초통계량과 분포를 통해서 파악한 내용을 적어 봅시다.\n",
    "\n",
    "보이는 그대로를 넘어, 비즈니스 관점에서 고민하며 적어 봅시다."
   ]
  },
  {
   "cell_type": "code",
   "execution_count": null,
   "metadata": {
    "id": "Eu9Ujy-DKmCu"
   },
   "outputs": [],
   "source": []
  },
  {
   "cell_type": "markdown",
   "metadata": {
    "id": "TOFcMpC5KmCu"
   },
   "source": [
    "8) 추가 분석해 볼 사항이 있나요?"
   ]
  },
  {
   "cell_type": "code",
   "execution_count": null,
   "metadata": {
    "id": "GIEwj9_WKmCu"
   },
   "outputs": [],
   "source": []
  },
  {
   "cell_type": "markdown",
   "metadata": {
    "id": "GmxZa7uvhyXO"
   },
   "source": [
    "### ⑨ Urban"
   ]
  },
  {
   "cell_type": "code",
   "execution_count": 92,
   "metadata": {
    "id": "N-6xre6oKpsX"
   },
   "outputs": [],
   "source": [
    "var = 'Urban'"
   ]
  },
  {
   "cell_type": "markdown",
   "metadata": {
    "id": "MUHj-ZjPKpsY"
   },
   "source": [
    "1) 변수의 비즈니스 의미"
   ]
  },
  {
   "cell_type": "markdown",
   "metadata": {
    "id": "VXSXCpclKpsY"
   },
   "source": [
    "* 도심 지역 여부"
   ]
  },
  {
   "cell_type": "markdown",
   "metadata": {
    "id": "U4y9o3BiKpsY"
   },
   "source": [
    "2) 숫자, 범주?"
   ]
  },
  {
   "cell_type": "code",
   "execution_count": 93,
   "metadata": {
    "id": "U4QgpJS3KpsY"
   },
   "outputs": [
    {
     "data": {
      "text/plain": [
       "array(['Yes', 'No'], dtype=object)"
      ]
     },
     "execution_count": 93,
     "metadata": {},
     "output_type": "execute_result"
    }
   ],
   "source": [
    "data[var].unique()"
   ]
  },
  {
   "cell_type": "markdown",
   "metadata": {
    "id": "eWaErEtzKpsY"
   },
   "source": [
    "3) NaN 존재 유무 및 조치방안"
   ]
  },
  {
   "cell_type": "code",
   "execution_count": 57,
   "metadata": {
    "id": "ub4qs3JMKpsY"
   },
   "outputs": [
    {
     "data": {
      "text/plain": [
       "0"
      ]
     },
     "execution_count": 57,
     "metadata": {},
     "output_type": "execute_result"
    }
   ],
   "source": [
    "data[var].isnull().sum()"
   ]
  },
  {
   "cell_type": "markdown",
   "metadata": {
    "id": "KcvvXnguKpsY"
   },
   "source": [
    "4) 가변수화 필요 여부"
   ]
  },
  {
   "cell_type": "markdown",
   "metadata": {
    "id": "IiYmSmwJKpsY"
   },
   "source": [
    "* 필요"
   ]
  },
  {
   "cell_type": "markdown",
   "metadata": {
    "id": "IHZYI6_kKpsY"
   },
   "source": [
    "5) 기초통계량(수치화)"
   ]
  },
  {
   "cell_type": "code",
   "execution_count": 68,
   "metadata": {
    "id": "5QW3EO6YKpsY"
   },
   "outputs": [
    {
     "data": {
      "text/plain": [
       "Yes    0.705\n",
       "No     0.295\n",
       "Name: Urban, dtype: float64"
      ]
     },
     "metadata": {},
     "output_type": "display_data"
    }
   ],
   "source": [
    "temp = data[var].value_counts()\n",
    "display(temp/data.shape[0])"
   ]
  },
  {
   "cell_type": "markdown",
   "metadata": {
    "id": "oNt25TVyKpsY"
   },
   "source": [
    "6) 분포 확인(시각화)"
   ]
  },
  {
   "cell_type": "code",
   "execution_count": 73,
   "metadata": {
    "id": "bfvU0QspKpsZ"
   },
   "outputs": [
    {
     "data": {
      "image/png": "[encoded data removed]",
      "text/plain": [
       "<Figure size 432x576 with 2 Axes>"
      ]
     },
     "metadata": {
      "needs_background": "light"
     },
     "output_type": "display_data"
    }
   ],
   "source": [
    "plt.figure(figsize=(6,8))\n",
    "\n",
    "plt.subplot(2,1,1)\n",
    "plt.bar(temp.index, temp.values)\n",
    "\n",
    "plt.subplot(2,1,2)\n",
    "plt.pie(temp.values, labels=temp.index, autopct='%.1f%%')\n",
    "\n",
    "plt.tight_layout()\n",
    "plt.show()"
   ]
  },
  {
   "cell_type": "markdown",
   "metadata": {
    "id": "iTLAToJgKpsZ"
   },
   "source": [
    "7) 기초통계량과 분포를 통해서 파악한 내용을 적어 봅시다.\n",
    "\n",
    "보이는 그대로를 넘어, 비즈니스 관점에서 고민하며 적어 봅시다."
   ]
  },
  {
   "cell_type": "code",
   "execution_count": null,
   "metadata": {
    "id": "5jWcWidJKpsZ"
   },
   "outputs": [],
   "source": [
    "# 대략 70% 정도가 도시에 거주중"
   ]
  },
  {
   "cell_type": "markdown",
   "metadata": {
    "id": "zG-m1OJ4KpsZ"
   },
   "source": [
    "8) 추가 분석해 볼 사항이 있나요?"
   ]
  },
  {
   "cell_type": "code",
   "execution_count": null,
   "metadata": {
    "id": "w_bEHwcmKpsZ"
   },
   "outputs": [],
   "source": []
  },
  {
   "cell_type": "markdown",
   "metadata": {
    "id": "ieLyLWqehz_N"
   },
   "source": [
    "### ⑩ US"
   ]
  },
  {
   "cell_type": "code",
   "execution_count": 74,
   "metadata": {
    "id": "g3Q0U1wwKsOY"
   },
   "outputs": [],
   "source": [
    "var= 'US'"
   ]
  },
  {
   "cell_type": "markdown",
   "metadata": {
    "id": "dZPB5TuGKsOY"
   },
   "source": [
    "1) 변수의 비즈니스 의미"
   ]
  },
  {
   "cell_type": "markdown",
   "metadata": {
    "id": "gybGd3KHKsOY"
   },
   "source": [
    "* US\t매장이 미국에 있는지 여부(Yes,No)"
   ]
  },
  {
   "cell_type": "markdown",
   "metadata": {
    "id": "yr7mtnS5KsOY"
   },
   "source": [
    "2) 숫자, 범주?"
   ]
  },
  {
   "cell_type": "code",
   "execution_count": 76,
   "metadata": {
    "id": "ZQkd_7lxKsOZ"
   },
   "outputs": [
    {
     "data": {
      "text/plain": [
       "dtype('O')"
      ]
     },
     "execution_count": 76,
     "metadata": {},
     "output_type": "execute_result"
    }
   ],
   "source": [
    "data[var].dtypes"
   ]
  },
  {
   "cell_type": "markdown",
   "metadata": {
    "id": "hCh697btKsOZ"
   },
   "source": [
    "3) NaN 존재 유무 및 조치방안"
   ]
  },
  {
   "cell_type": "code",
   "execution_count": 77,
   "metadata": {
    "id": "xGEg3qrwKsOZ"
   },
   "outputs": [
    {
     "data": {
      "text/plain": [
       "0"
      ]
     },
     "execution_count": 77,
     "metadata": {},
     "output_type": "execute_result"
    }
   ],
   "source": [
    "data[var].isnull().sum()"
   ]
  },
  {
   "cell_type": "markdown",
   "metadata": {
    "id": "BONxD54yKsOZ"
   },
   "source": [
    "4) 가변수화 필요 여부"
   ]
  },
  {
   "cell_type": "code",
   "execution_count": null,
   "metadata": {
    "id": "ZBEWhsP5KsOZ"
   },
   "outputs": [],
   "source": [
    "# 필요"
   ]
  },
  {
   "cell_type": "markdown",
   "metadata": {
    "id": "yV61tNLJKsOZ"
   },
   "source": [
    "5) 기초통계량(수치화)"
   ]
  },
  {
   "cell_type": "code",
   "execution_count": 78,
   "metadata": {
    "id": "EUckf1C_KsOZ"
   },
   "outputs": [
    {
     "name": "stdout",
     "output_type": "stream",
     "text": [
      "Yes    258\n",
      "No     142\n",
      "Name: US, dtype: int64\n"
     ]
    },
    {
     "data": {
      "text/plain": [
       "Yes    0.645\n",
       "No     0.355\n",
       "Name: US, dtype: float64"
      ]
     },
     "metadata": {},
     "output_type": "display_data"
    }
   ],
   "source": [
    "temp= data[var].value_counts()\n",
    "print(temp)\n",
    "display(temp/ data.shape[0])"
   ]
  },
  {
   "cell_type": "markdown",
   "metadata": {
    "id": "PS0KIteXKsOZ"
   },
   "source": [
    "6) 분포 확인(시각화)"
   ]
  },
  {
   "cell_type": "code",
   "execution_count": 79,
   "metadata": {
    "id": "2a1itzJGKsOZ"
   },
   "outputs": [
    {
     "data": {
      "image/png": "[encoded data removed]",
      "text/plain": [
       "<Figure size 432x576 with 2 Axes>"
      ]
     },
     "metadata": {
      "needs_background": "light"
     },
     "output_type": "display_data"
    }
   ],
   "source": [
    "plt.figure(figsize=(6,8))\n",
    "\n",
    "plt.subplot(2,1,1)\n",
    "plt.bar(temp.index, temp.values)\n",
    "\n",
    "plt.subplot(2,1,2)\n",
    "plt.pie(temp.values, labels=temp.index, autopct='%.1f%%')\n",
    "\n",
    "plt.tight_layout()\n",
    "plt.show()"
   ]
  },
  {
   "cell_type": "markdown",
   "metadata": {
    "id": "K4MRwV9YKsOZ"
   },
   "source": [
    "7) 기초통계량과 분포를 통해서 파악한 내용을 적어 봅시다.\n",
    "\n",
    "보이는 그대로를 넘어, 비즈니스 관점에서 고민하며 적어 봅시다."
   ]
  },
  {
   "cell_type": "code",
   "execution_count": null,
   "metadata": {
    "id": "BRpe4YUzKsOZ"
   },
   "outputs": [],
   "source": []
  },
  {
   "cell_type": "markdown",
   "metadata": {
    "id": "a7Grk8fEKsOZ"
   },
   "source": [
    "8) 추가 분석해 볼 사항이 있나요?"
   ]
  },
  {
   "cell_type": "code",
   "execution_count": null,
   "metadata": {
    "id": "lSrQXEUVKsOZ"
   },
   "outputs": [],
   "source": []
  }
 ],
 "metadata": {
  "colab": {
   "collapsed_sections": [],
   "name": "05과 실전 단변량분석 종합실습.ipynb",
   "provenance": [],
   "toc_visible": true
  },
  "kernelspec": {
   "display_name": "Python 3",
   "language": "python",
   "name": "python3"
  },
  "language_info": {
   "codemirror_mode": {
    "name": "ipython",
    "version": 3
   },
   "file_extension": ".py",
   "mimetype": "text/x-python",
   "name": "python",
   "nbconvert_exporter": "python",
   "pygments_lexer": "ipython3",
   "version": "3.8.8"
  }
 },
 "nbformat": 4,
 "nbformat_minor": 4
}
