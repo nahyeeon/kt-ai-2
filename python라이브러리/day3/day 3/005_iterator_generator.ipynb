{
 "cells": [
  {
   "cell_type": "code",
   "execution_count": 1,
   "id": "ff9d434d-ec61-4500-b52e-7622632d3711",
   "metadata": {},
   "outputs": [],
   "source": [
    "# yield\n",
    "# iterable : 순서가 있는 데이터 집합 : list, tuple\n",
    "# iterator : next 함수를 실행하여 값을 발생시키는 값 생성기\n",
    "# generator : iterator 간단하게 구현한 문법"
   ]
  },
  {
   "cell_type": "code",
   "execution_count": 1,
   "id": "21168182-abf4-49c8-9088-e1638fad666d",
   "metadata": {},
   "outputs": [],
   "source": [
    "# 이터레이터 만들기\n",
    "iterator = iter([1,2,3])"
   ]
  },
  {
   "cell_type": "code",
   "execution_count": 2,
   "id": "ef4a0355-8bf8-4942-ab8c-dc31731b9f65",
   "metadata": {},
   "outputs": [
    {
     "data": {
      "text/plain": [
       "list_iterator"
      ]
     },
     "execution_count": 2,
     "metadata": {},
     "output_type": "execute_result"
    }
   ],
   "source": [
    "type(iterator)"
   ]
  },
  {
   "cell_type": "code",
   "execution_count": 6,
   "id": "06a747ff-8c93-4a36-9976-a6b91c71795c",
   "metadata": {
    "tags": []
   },
   "outputs": [
    {
     "data": {
      "text/plain": [
       "3"
      ]
     },
     "execution_count": 6,
     "metadata": {},
     "output_type": "execute_result"
    }
   ],
   "source": [
    "next(iterator)"
   ]
  },
  {
   "cell_type": "code",
   "execution_count": 4,
   "id": "8fd38373-e5b0-4542-9930-3389410c4472",
   "metadata": {},
   "outputs": [],
   "source": [
    "# 클래스로 이터레이터 만들기 : 피보나치 수열"
   ]
  },
  {
   "cell_type": "code",
   "execution_count": 7,
   "id": "34505389-a5c0-49c3-a6c6-60a1c3845417",
   "metadata": {},
   "outputs": [],
   "source": [
    "class Fib:\n",
    "    def __init__(self):\n",
    "        self.prev = 0\n",
    "        self.curr = 1\n",
    "    def __iter__(self):\n",
    "        return self\n",
    "    def __next__(self):\n",
    "        value = self.curr\n",
    "        self.curr += self.prev\n",
    "        self.prev = value\n",
    "        return value"
   ]
  },
  {
   "cell_type": "code",
   "execution_count": 8,
   "id": "45ad6268-7d4f-460c-be84-8ce69ba64318",
   "metadata": {},
   "outputs": [
    {
     "data": {
      "text/plain": [
       "__main__.Fib"
      ]
     },
     "execution_count": 8,
     "metadata": {},
     "output_type": "execute_result"
    }
   ],
   "source": [
    "fib = Fib()\n",
    "type(fib)"
   ]
  },
  {
   "cell_type": "code",
   "execution_count": 15,
   "id": "8337b458-81de-4c8b-b82d-076ab12365b6",
   "metadata": {},
   "outputs": [
    {
     "data": {
      "text/plain": [
       "8"
      ]
     },
     "execution_count": 15,
     "metadata": {},
     "output_type": "execute_result"
    }
   ],
   "source": [
    "next(fib)"
   ]
  },
  {
   "cell_type": "code",
   "execution_count": 10,
   "id": "07d378c8-b1a2-460e-926e-d3d6df4e74c9",
   "metadata": {},
   "outputs": [],
   "source": [
    "# yield : 일반 함수를 제너레이터로 만들어주는 명령어 \n",
    "# next 함수를 살행해서 yield를 만나면 코드 실행 중단 "
   ]
  },
  {
   "cell_type": "code",
   "execution_count": 18,
   "id": "b833f93e-0dae-4962-af65-dd17967576b0",
   "metadata": {},
   "outputs": [],
   "source": [
    "def fib():\n",
    "    prev,curr = 0,1\n",
    "    while True:\n",
    "        yield curr # curr를 return 하고 코드 실행 중단\n",
    "        prev, curr = curr, prev + curr"
   ]
  },
  {
   "cell_type": "code",
   "execution_count": 19,
   "id": "45ae7923-da6d-4159-9851-049db3bdfa26",
   "metadata": {},
   "outputs": [],
   "source": [
    "f = fib()"
   ]
  },
  {
   "cell_type": "code",
   "execution_count": 20,
   "id": "33f282b2-ac9d-405a-9912-35df98dda5a3",
   "metadata": {},
   "outputs": [
    {
     "data": {
      "text/plain": [
       "generator"
      ]
     },
     "execution_count": 20,
     "metadata": {},
     "output_type": "execute_result"
    }
   ],
   "source": [
    "type(f)"
   ]
  },
  {
   "cell_type": "code",
   "execution_count": 21,
   "id": "c342a1d6-c925-448c-bd31-464b98790271",
   "metadata": {},
   "outputs": [
    {
     "data": {
      "text/plain": [
       "1"
      ]
     },
     "execution_count": 21,
     "metadata": {},
     "output_type": "execute_result"
    }
   ],
   "source": [
    "next(f)"
   ]
  },
  {
   "cell_type": "code",
   "execution_count": 22,
   "id": "b917c41a-9408-40b8-ab38-28d154309101",
   "metadata": {},
   "outputs": [],
   "source": [
    "# yield : 함수를 호출할때 마다 return 을 여러번 하는 방법"
   ]
  },
  {
   "cell_type": "code",
   "execution_count": 16,
   "id": "c7c26322-ae18-47eb-ab70-3039be20899d",
   "metadata": {},
   "outputs": [],
   "source": [
    "def gen():\n",
    "    yield 1\n",
    "    yield 2\n",
    "    yield 3\n",
    "\n",
    "g= gen()"
   ]
  },
  {
   "cell_type": "code",
   "execution_count": 20,
   "id": "0ccdf4de-6bdc-4fd5-a1af-0bef81668eab",
   "metadata": {},
   "outputs": [
    {
     "ename": "StopIteration",
     "evalue": "",
     "output_type": "error",
     "traceback": [
      "\u001b[1;31m---------------------------------------------------------------------------\u001b[0m",
      "\u001b[1;31mStopIteration\u001b[0m                             Traceback (most recent call last)",
      "Input \u001b[1;32mIn [20]\u001b[0m, in \u001b[0;36m<cell line: 1>\u001b[1;34m()\u001b[0m\n\u001b[1;32m----> 1\u001b[0m \u001b[38;5;28;43mnext\u001b[39;49m\u001b[43m(\u001b[49m\u001b[43mg\u001b[49m\u001b[43m)\u001b[49m\n",
      "\u001b[1;31mStopIteration\u001b[0m: "
     ]
    }
   ],
   "source": [
    "next(g)"
   ]
  },
  {
   "cell_type": "code",
   "execution_count": null,
   "id": "cac02daa-33e7-4ba6-889b-01b79e0cc76d",
   "metadata": {},
   "outputs": [],
   "source": []
  }
 ],
 "metadata": {
  "kernelspec": {
   "display_name": "Python 3 (ipykernel)",
   "language": "python",
   "name": "python3"
  },
  "language_info": {
   "codemirror_mode": {
    "name": "ipython",
    "version": 3
   },
   "file_extension": ".py",
   "mimetype": "text/x-python",
   "name": "python",
   "nbconvert_exporter": "python",
   "pygments_lexer": "ipython3",
   "version": "3.9.13"
  }
 },
 "nbformat": 4,
 "nbformat_minor": 5
}
