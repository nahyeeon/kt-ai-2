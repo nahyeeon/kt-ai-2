{
 "cells": [
  {
   "cell_type": "markdown",
   "id": "03fff3b4",
   "metadata": {},
   "source": [
    "### selenium\n",
    "- `https://www.selenium.dev`\n",
    "- 자동화를 목적으로 만들어진 다양한 브라우져와 언어를 지원하는 라이브러리\n",
    "- 크롬 브라우져 설치\n",
    "    - 크롬 브라우져 드라이버 다운로드 (크롬 브라우져와 같은 버전)\n",
    "    - 다운로드한 드라이버 압축 해제\n",
    "    - chromedriver, chromedriver.exe 생성\n",
    "    - windows : 주피터 노트북 파일과 동일한 디렉토리에 chromedriver.exe 파일 업로드\n",
    "    - mac : sudo cp ~/Download/chromedirver /usr/local/bin"
   ]
  },
  {
   "cell_type": "code",
   "execution_count": 1,
   "id": "739d489e",
   "metadata": {},
   "outputs": [],
   "source": [
    "# install selenium\n",
    "# !pip install selenium"
   ]
  },
  {
   "cell_type": "code",
   "execution_count": 2,
   "id": "2981cd32",
   "metadata": {},
   "outputs": [],
   "source": [
    "import pandas as pd\n",
    "from selenium import webdriver\n",
    "from selenium.webdriver.common.by import By"
   ]
  },
  {
   "cell_type": "code",
   "execution_count": 3,
   "id": "13b07de6",
   "metadata": {},
   "outputs": [],
   "source": [
    "driver = webdriver.Chrome()"
   ]
  },
  {
   "cell_type": "code",
   "execution_count": 4,
   "id": "a786b65d",
   "metadata": {},
   "outputs": [],
   "source": [
    "# 페이지 이동\n",
    "driver.get(\"https://daum.net\")"
   ]
  },
  {
   "cell_type": "code",
   "execution_count": 5,
   "id": "9abf03ba",
   "metadata": {},
   "outputs": [],
   "source": [
    "# 브라우져 사이즈 조절\n",
    "driver.set_window_size(200, 600)"
   ]
  },
  {
   "cell_type": "code",
   "execution_count": 6,
   "id": "5ae62f43",
   "metadata": {},
   "outputs": [],
   "source": [
    "# 브라우져 스크롤 조절\n",
    "driver.execute_script(\"window.scrollTo(200, 300);\")"
   ]
  },
  {
   "cell_type": "code",
   "execution_count": 7,
   "id": "c5c67542",
   "metadata": {},
   "outputs": [],
   "source": [
    "# alert 다루기\n",
    "driver.execute_script(\"alert('hello selenium!!!');\")"
   ]
  },
  {
   "cell_type": "code",
   "execution_count": 8,
   "id": "ba153669",
   "metadata": {},
   "outputs": [],
   "source": [
    "alert = driver.switch_to.alert\n",
    "alert.accept()"
   ]
  },
  {
   "cell_type": "code",
   "execution_count": 9,
   "id": "64264b83",
   "metadata": {},
   "outputs": [
    {
     "name": "stdout",
     "output_type": "stream",
     "text": [
      "selenium                      4.3.0\r\n"
     ]
    }
   ],
   "source": [
    "!pip list | grep selenium"
   ]
  },
  {
   "cell_type": "code",
   "execution_count": 10,
   "id": "15b83780",
   "metadata": {},
   "outputs": [],
   "source": [
    "# 문자열 입력\n",
    "driver.find_element(By.CSS_SELECTOR, \"#q\").send_keys(\"셀레니움\")"
   ]
  },
  {
   "cell_type": "code",
   "execution_count": 11,
   "id": "29abf4ff",
   "metadata": {},
   "outputs": [],
   "source": [
    "# 검색 버튼 클릭\n",
    "driver.find_element(By.CSS_SELECTOR, '.inner_search > .ico_pctop.btn_search').click()"
   ]
  },
  {
   "cell_type": "code",
   "execution_count": 12,
   "id": "dfa3c68a",
   "metadata": {},
   "outputs": [],
   "source": [
    "# 브라우져 종료\n",
    "driver.quit()"
   ]
  },
  {
   "cell_type": "markdown",
   "id": "c4c13a78",
   "metadata": {},
   "source": [
    "### 텍스트 데이터 가져오기\n",
    "- TED 사이트 : `https://www.ted.com`"
   ]
  },
  {
   "cell_type": "code",
   "execution_count": 13,
   "id": "0eeaf4c8",
   "metadata": {},
   "outputs": [],
   "source": [
    "# 브라우져를 실행하여 테드 사이트 열기\n",
    "driver = webdriver.Chrome()\n",
    "driver.get(\"https://www.ted.com/talks\")"
   ]
  },
  {
   "cell_type": "code",
   "execution_count": 14,
   "id": "1123fab3",
   "metadata": {},
   "outputs": [
    {
     "data": {
      "text/plain": [
       "'Join TED Recommends to get the best ideas, selected just for you'"
      ]
     },
     "execution_count": 14,
     "metadata": {},
     "output_type": "execute_result"
    }
   ],
   "source": [
    "# CSS Selector를 이용하여 HTML 태그와 태그 사이의 text 데이터 가져오기\n",
    "driver.find_element(By.CSS_SELECTOR, \"#banner-secondary\").text"
   ]
  },
  {
   "cell_type": "code",
   "execution_count": 15,
   "id": "eaed94c4",
   "metadata": {},
   "outputs": [
    {
     "data": {
      "text/plain": [
       "36"
      ]
     },
     "execution_count": 15,
     "metadata": {},
     "output_type": "execute_result"
    }
   ],
   "source": [
    "# 제목 데이터 가져오기\n",
    "contents = driver.find_elements(By.CSS_SELECTOR, \"#browse-results > .row > .col\")\n",
    "len(contents)"
   ]
  },
  {
   "cell_type": "code",
   "execution_count": 16,
   "id": "33b93c0a",
   "metadata": {},
   "outputs": [
    {
     "data": {
      "text/plain": [
       "'How \"dilemma thinking\" transforms argument into action'"
      ]
     },
     "execution_count": 16,
     "metadata": {},
     "output_type": "execute_result"
    }
   ],
   "source": [
    "# 가장 처음 텍스트 데이터 가져오기\n",
    "contents[0].find_element(By.CSS_SELECTOR, '.media__message .ga-link').text"
   ]
  },
  {
   "cell_type": "code",
   "execution_count": 17,
   "id": "fe2234dc",
   "metadata": {},
   "outputs": [
    {
     "data": {
      "text/plain": [
       "(['How \"dilemma thinking\" transforms argument into action',\n",
       "  'How to write less but say more',\n",
       "  'My 105 days in Taliban prison — and a call to aid Afghanistan'],\n",
       " 36)"
      ]
     },
     "execution_count": 17,
     "metadata": {},
     "output_type": "execute_result"
    }
   ],
   "source": [
    "# 전체 제목 데이터 가져오기\n",
    "titles = []\n",
    "for content in contents:\n",
    "    title = content.find_element(By.CSS_SELECTOR, '.media__message .ga-link').text\n",
    "    titles.append(title)\n",
    "titles[:3], len(titles)"
   ]
  },
  {
   "cell_type": "code",
   "execution_count": 18,
   "id": "3596edb0",
   "metadata": {},
   "outputs": [],
   "source": [
    "# 셀렉트 박스를 선택후 데이터 가져오기\n",
    "# 이벤트 발생 기능(값 입력, 클릭 이벤트등)은 화면에 해당 엘리먼트가 보여야 합니다.\n",
    "# 한국어 선택\n",
    "driver.find_element(By.CSS_SELECTOR, '#languages [lang=\"ko\"]').click()"
   ]
  },
  {
   "cell_type": "code",
   "execution_count": 19,
   "id": "dace0f37",
   "metadata": {},
   "outputs": [
    {
     "data": {
      "text/plain": [
       "['기후 행동을 촉진하는 5가지 유망한 요인', '역사 vs 정복자 티무르 – 스테파니 혼첼 스미스', '인간의 경험에 대한 생생한 그림들']"
      ]
     },
     "execution_count": 19,
     "metadata": {},
     "output_type": "execute_result"
    }
   ],
   "source": [
    "# 전체 제목 데이터 가져오기\n",
    "contents = driver.find_elements(By.CSS_SELECTOR, \"#browse-results > .row > .col\")\n",
    "titles = []\n",
    "for content in contents:\n",
    "    title = content.find_element(By.CSS_SELECTOR, '.media__message .ga-link').text\n",
    "    titles.append(title)\n",
    "titles[-3:]"
   ]
  },
  {
   "cell_type": "code",
   "execution_count": 20,
   "id": "ada149b0",
   "metadata": {},
   "outputs": [
    {
     "data": {
      "text/plain": [
       "['https://www.ted.com/talks/gabriel_kra_5_promising_factors_propelling_climate_action?language=ko',\n",
       " 'https://www.ted.com/talks/stephanie_honchell_smith_history_vs_tamerlane_the_conqueror?language=ko',\n",
       " 'https://www.ted.com/talks/jarrett_j_krosoczka_live_drawings_of_the_human_experience?language=ko']"
      ]
     },
     "execution_count": 20,
     "metadata": {},
     "output_type": "execute_result"
    }
   ],
   "source": [
    "# 링크 데이터 크롤링 (속성(attribute)값 가져오는 방법)\n",
    "links = []\n",
    "for content in contents:\n",
    "    link = content.find_element(By.CSS_SELECTOR, '.media__message .ga-link').get_attribute(\"href\")\n",
    "    links.append(link)\n",
    "links[-3:]"
   ]
  },
  {
   "cell_type": "code",
   "execution_count": 21,
   "id": "8da51a4e",
   "metadata": {},
   "outputs": [],
   "source": [
    "driver.quit()"
   ]
  },
  {
   "cell_type": "markdown",
   "id": "152eda00",
   "metadata": {},
   "source": [
    "### 3. Headless\n",
    "- 브라우져를 화면에 띄우지 않고 메모리상에서만 올려서 크롤링하는 방법 \n",
    "- window가 지원되지 않는 환경에서 사용이 가능\n",
    "- chrome version 60.0.0.0 이상부터 지원 합니다."
   ]
  },
  {
   "cell_type": "code",
   "execution_count": 22,
   "id": "54a05161",
   "metadata": {},
   "outputs": [
    {
     "name": "stdout",
     "output_type": "stream",
     "text": [
      "103.0.5060.114\n"
     ]
    }
   ],
   "source": [
    "# 현재 사용중인 크롬 버전 확인\n",
    "driver = webdriver.Chrome()\n",
    "version = driver.capabilities[\"browserVersion\"]\n",
    "print(version)\n",
    "driver.quit()"
   ]
  },
  {
   "cell_type": "code",
   "execution_count": 23,
   "id": "06950205",
   "metadata": {},
   "outputs": [
    {
     "name": "stdout",
     "output_type": "stream",
     "text": [
      "Join TED Recommends to get the best ideas, selected just for you\n"
     ]
    }
   ],
   "source": [
    "# headless 사용\n",
    "options = webdriver.ChromeOptions()\n",
    "options.add_argument('headless')\n",
    "driver = webdriver.Chrome(options=options)\n",
    "driver.get(\"https://www.ted.com/talks\")\n",
    "text = driver.find_element(By.CSS_SELECTOR, \"#banner-secondary\").text\n",
    "driver.quit()\n",
    "print(text)"
   ]
  }
 ],
 "metadata": {
  "kernelspec": {
   "display_name": "Python 3 (ipykernel)",
   "language": "python",
   "name": "python3"
  },
  "language_info": {
   "codemirror_mode": {
    "name": "ipython",
    "version": 3
   },
   "file_extension": ".py",
   "mimetype": "text/x-python",
   "name": "python",
   "nbconvert_exporter": "python",
   "pygments_lexer": "ipython3",
   "version": "3.9.12"
  },
  "toc": {
   "base_numbering": 1,
   "nav_menu": {},
   "number_sections": false,
   "sideBar": true,
   "skip_h1_title": false,
   "title_cell": "Table of Contents",
   "title_sidebar": "Contents",
   "toc_cell": false,
   "toc_position": {},
   "toc_section_display": true,
   "toc_window_display": false
  }
 },
 "nbformat": 4,
 "nbformat_minor": 5
}
