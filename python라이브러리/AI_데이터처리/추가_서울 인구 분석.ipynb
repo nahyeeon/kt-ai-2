{
 "cells": [
  {
   "cell_type": "markdown",
   "metadata": {
    "id": "Xi_yurwiORB7"
   },
   "source": [
    "# 서울시 인구 분석"
   ]
  },
  {
   "cell_type": "markdown",
   "metadata": {
    "id": "4wk8yXgF1FYk"
   },
   "source": [
    "<img src='https://raw.githubusercontent.com/Jangrae/img/master/people2.png' width=\"650\" align=\"left\">"
   ]
  },
  {
   "cell_type": "markdown",
   "metadata": {
    "id": "0uNXxebRGrd8"
   },
   "source": [
    "## 1. 라이브러리 불러오기\n",
    "\n",
    "- 사용할 라이브러리를 불러옵니다."
   ]
  },
  {
   "cell_type": "code",
   "execution_count": 1,
   "metadata": {
    "id": "p3lUS_fyqvnh"
   },
   "outputs": [],
   "source": [
    "# 기본 라이브러리 가져오기\n",
    "import pandas as pd\n",
    "import numpy as np\n",
    "\n",
    "import matplotlib.pyplot as plt\n",
    "import seaborn as sns"
   ]
  },
  {
   "cell_type": "markdown",
   "metadata": {
    "id": "ul8zKgxCqvnh"
   },
   "source": [
    "* 데이터 불러오기\n",
    "\n",
    "    - 다음 경로의 파일을 읽어와 pop01, pop02, pop03 데이터프레임을 만듭니다.\n",
    "    - 파일 경로1: https://raw.githubusercontent.com/Jangrae/csv/master/seoul_pop_h01.csv\n",
    "    - 파일 경로2: https://raw.githubusercontent.com/Jangrae/csv/master/seoul_pop_h02.csv\n",
    "    - 파일 경로3: https://raw.githubusercontent.com/Jangrae/csv/master/seoul_pop_h03.csv"
   ]
  },
  {
   "cell_type": "code",
   "execution_count": 21,
   "metadata": {
    "id": "91c9vKQ0E1A4"
   },
   "outputs": [
    {
     "data": {
      "text/html": [
       "<div>\n",
       "<style scoped>\n",
       "    .dataframe tbody tr th:only-of-type {\n",
       "        vertical-align: middle;\n",
       "    }\n",
       "\n",
       "    .dataframe tbody tr th {\n",
       "        vertical-align: top;\n",
       "    }\n",
       "\n",
       "    .dataframe thead th {\n",
       "        text-align: right;\n",
       "    }\n",
       "</style>\n",
       "<table border=\"1\" class=\"dataframe\">\n",
       "  <thead>\n",
       "    <tr style=\"text-align: right;\">\n",
       "      <th></th>\n",
       "      <th>year</th>\n",
       "      <th>k_male</th>\n",
       "      <th>k_female</th>\n",
       "    </tr>\n",
       "  </thead>\n",
       "  <tbody>\n",
       "    <tr>\n",
       "      <th>0</th>\n",
       "      <td>1981</td>\n",
       "      <td>4160</td>\n",
       "      <td>4191</td>\n",
       "    </tr>\n",
       "    <tr>\n",
       "      <th>1</th>\n",
       "      <td>1982</td>\n",
       "      <td>4160</td>\n",
       "      <td>4191</td>\n",
       "    </tr>\n",
       "    <tr>\n",
       "      <th>2</th>\n",
       "      <td>1983</td>\n",
       "      <td>4160</td>\n",
       "      <td>4191</td>\n",
       "    </tr>\n",
       "    <tr>\n",
       "      <th>3</th>\n",
       "      <td>1984</td>\n",
       "      <td>4160</td>\n",
       "      <td>4191</td>\n",
       "    </tr>\n",
       "    <tr>\n",
       "      <th>4</th>\n",
       "      <td>1985</td>\n",
       "      <td>4160</td>\n",
       "      <td>4191</td>\n",
       "    </tr>\n",
       "  </tbody>\n",
       "</table>\n",
       "</div>"
      ],
      "text/plain": [
       "   year  k_male  k_female\n",
       "0  1981    4160      4191\n",
       "1  1982    4160      4191\n",
       "2  1983    4160      4191\n",
       "3  1984    4160      4191\n",
       "4  1985    4160      4191"
      ]
     },
     "execution_count": 21,
     "metadata": {},
     "output_type": "execute_result"
    }
   ],
   "source": [
    "pop01 = pd.read_csv('https://raw.githubusercontent.com/Jangrae/csv/master/seoul_pop_h01.csv')\n",
    "pop01.head()"
   ]
  },
  {
   "cell_type": "code",
   "execution_count": 22,
   "metadata": {
    "id": "QSedynVWEp3W"
   },
   "outputs": [
    {
     "data": {
      "text/html": [
       "<div>\n",
       "<style scoped>\n",
       "    .dataframe tbody tr th:only-of-type {\n",
       "        vertical-align: middle;\n",
       "    }\n",
       "\n",
       "    .dataframe tbody tr th {\n",
       "        vertical-align: top;\n",
       "    }\n",
       "\n",
       "    .dataframe thead th {\n",
       "        text-align: right;\n",
       "    }\n",
       "</style>\n",
       "<table border=\"1\" class=\"dataframe\">\n",
       "  <thead>\n",
       "    <tr style=\"text-align: right;\">\n",
       "      <th></th>\n",
       "      <th>year</th>\n",
       "      <th>f_male</th>\n",
       "      <th>f_female</th>\n",
       "    </tr>\n",
       "  </thead>\n",
       "  <tbody>\n",
       "    <tr>\n",
       "      <th>0</th>\n",
       "      <td>1985</td>\n",
       "      <td>7</td>\n",
       "      <td>6</td>\n",
       "    </tr>\n",
       "    <tr>\n",
       "      <th>1</th>\n",
       "      <td>1986</td>\n",
       "      <td>7</td>\n",
       "      <td>5</td>\n",
       "    </tr>\n",
       "    <tr>\n",
       "      <th>2</th>\n",
       "      <td>1987</td>\n",
       "      <td>6</td>\n",
       "      <td>5</td>\n",
       "    </tr>\n",
       "    <tr>\n",
       "      <th>3</th>\n",
       "      <td>1988</td>\n",
       "      <td>5</td>\n",
       "      <td>5</td>\n",
       "    </tr>\n",
       "    <tr>\n",
       "      <th>4</th>\n",
       "      <td>1989</td>\n",
       "      <td>6</td>\n",
       "      <td>5</td>\n",
       "    </tr>\n",
       "  </tbody>\n",
       "</table>\n",
       "</div>"
      ],
      "text/plain": [
       "   year  f_male  f_female\n",
       "0  1985       7         6\n",
       "1  1986       7         5\n",
       "2  1987       6         5\n",
       "3  1988       5         5\n",
       "4  1989       6         5"
      ]
     },
     "execution_count": 22,
     "metadata": {},
     "output_type": "execute_result"
    }
   ],
   "source": [
    "pop02 = pd.read_csv('https://raw.githubusercontent.com/Jangrae/csv/master/seoul_pop_h02.csv')\n",
    "pop02.head()"
   ]
  },
  {
   "cell_type": "code",
   "execution_count": 23,
   "metadata": {
    "id": "OPfgGedaEqnw"
   },
   "outputs": [
    {
     "data": {
      "text/html": [
       "<div>\n",
       "<style scoped>\n",
       "    .dataframe tbody tr th:only-of-type {\n",
       "        vertical-align: middle;\n",
       "    }\n",
       "\n",
       "    .dataframe tbody tr th {\n",
       "        vertical-align: top;\n",
       "    }\n",
       "\n",
       "    .dataframe thead th {\n",
       "        text-align: right;\n",
       "    }\n",
       "</style>\n",
       "<table border=\"1\" class=\"dataframe\">\n",
       "  <thead>\n",
       "    <tr style=\"text-align: right;\">\n",
       "      <th></th>\n",
       "      <th>year</th>\n",
       "      <th>household</th>\n",
       "      <th>older_65</th>\n",
       "    </tr>\n",
       "  </thead>\n",
       "  <tbody>\n",
       "    <tr>\n",
       "      <th>0</th>\n",
       "      <td>1981</td>\n",
       "      <td>1915</td>\n",
       "      <td>246</td>\n",
       "    </tr>\n",
       "    <tr>\n",
       "      <th>1</th>\n",
       "      <td>1982</td>\n",
       "      <td>2001</td>\n",
       "      <td>260</td>\n",
       "    </tr>\n",
       "    <tr>\n",
       "      <th>2</th>\n",
       "      <td>1983</td>\n",
       "      <td>2116</td>\n",
       "      <td>260</td>\n",
       "    </tr>\n",
       "    <tr>\n",
       "      <th>3</th>\n",
       "      <td>1984</td>\n",
       "      <td>2246</td>\n",
       "      <td>275</td>\n",
       "    </tr>\n",
       "    <tr>\n",
       "      <th>4</th>\n",
       "      <td>1985</td>\n",
       "      <td>2338</td>\n",
       "      <td>211</td>\n",
       "    </tr>\n",
       "  </tbody>\n",
       "</table>\n",
       "</div>"
      ],
      "text/plain": [
       "   year  household  older_65\n",
       "0  1981       1915       246\n",
       "1  1982       2001       260\n",
       "2  1983       2116       260\n",
       "3  1984       2246       275\n",
       "4  1985       2338       211"
      ]
     },
     "execution_count": 23,
     "metadata": {},
     "output_type": "execute_result"
    }
   ],
   "source": [
    "pop03 = pd.read_csv('https://raw.githubusercontent.com/Jangrae/csv/master/seoul_pop_h03.csv')\n",
    "pop03.head()"
   ]
  },
  {
   "cell_type": "markdown",
   "metadata": {
    "id": "YskAXv8avBKD"
   },
   "source": [
    "## 2. 데이터 탐색\n",
    "\n",
    "다음과 같은 정보 확인을 통해 처리할 대상 데이터를 이해합니다.\n",
    "- 상/하위 데이터 확인\n",
    "- 데이터프레임 크기 확인\n",
    "- 열 이름, 데이터 형식, 값 개수 등 확인\n",
    "- 기초 통계정보 확인\n",
    "- 결측치 확인\n",
    "- 범주형 데이터 확인\n",
    "- 개별 열 값 상세 확인 등"
   ]
  },
  {
   "cell_type": "markdown",
   "metadata": {
    "id": "DGGFZli-V9pv"
   },
   "source": [
    "**1) 데이터프레임 크기 확인**\n",
    "\n",
    "- 세 개의 데이터프레임 크기(행 수, 열 수)를 확인합니다."
   ]
  },
  {
   "cell_type": "code",
   "execution_count": 6,
   "metadata": {
    "id": "rLzk_ydnvQzs"
   },
   "outputs": [
    {
     "data": {
      "text/plain": [
       "(40, 3)"
      ]
     },
     "metadata": {},
     "output_type": "display_data"
    },
    {
     "data": {
      "text/plain": [
       "(36, 3)"
      ]
     },
     "metadata": {},
     "output_type": "display_data"
    },
    {
     "data": {
      "text/plain": [
       "(40, 3)"
      ]
     },
     "metadata": {},
     "output_type": "display_data"
    }
   ],
   "source": [
    "display(pop01.shape)\n",
    "display(pop02.shape)\n",
    "display(pop03.shape)"
   ]
  },
  {
   "cell_type": "markdown",
   "metadata": {
    "id": "PvfJBoYFWD7d"
   },
   "source": [
    "**2) year 최솟값, 최댓값 확인**\n",
    "\n",
    "- 세 개의 데이터프레임 year열 최솟값, 최댓값 크기를 비교해 차이가 있는 지 각각 확인합니다."
   ]
  },
  {
   "cell_type": "code",
   "execution_count": 8,
   "metadata": {
    "id": "HLYDQZLSwlic"
   },
   "outputs": [
    {
     "data": {
      "text/plain": [
       "min    1981\n",
       "max    2020\n",
       "Name: year, dtype: int64"
      ]
     },
     "metadata": {},
     "output_type": "display_data"
    },
    {
     "data": {
      "text/plain": [
       "min    1985\n",
       "max    2020\n",
       "Name: year, dtype: int64"
      ]
     },
     "metadata": {},
     "output_type": "display_data"
    },
    {
     "data": {
      "text/plain": [
       "min    1981\n",
       "max    2020\n",
       "Name: year, dtype: int64"
      ]
     },
     "metadata": {},
     "output_type": "display_data"
    }
   ],
   "source": [
    "display(pop01['year'].agg(['min','max']))\n",
    "display(pop02['year'].agg(['min','max']))\n",
    "display(pop03['year'].agg(['min','max']))"
   ]
  },
  {
   "cell_type": "markdown",
   "metadata": {
    "id": "ia5a8bYdWRRY"
   },
   "source": [
    "**3) 결측치 확인**\n",
    "\n",
    "- 세 개의 데이터프레임에 결측치가 있는 지 각각 확인합니다."
   ]
  },
  {
   "cell_type": "code",
   "execution_count": 24,
   "metadata": {
    "id": "eGIIvQrPx1aj"
   },
   "outputs": [
    {
     "data": {
      "text/plain": [
       "year        0\n",
       "k_male      0\n",
       "k_female    0\n",
       "dtype: int64"
      ]
     },
     "metadata": {},
     "output_type": "display_data"
    },
    {
     "data": {
      "text/plain": [
       "year        0\n",
       "f_male      0\n",
       "f_female    0\n",
       "dtype: int64"
      ]
     },
     "metadata": {},
     "output_type": "display_data"
    },
    {
     "data": {
      "text/plain": [
       "year         0\n",
       "household    0\n",
       "older_65     0\n",
       "dtype: int64"
      ]
     },
     "metadata": {},
     "output_type": "display_data"
    }
   ],
   "source": [
    "display(pop01.isnull().sum())\n",
    "display(pop02.isnull().sum())\n",
    "display(pop03.isnull().sum())"
   ]
  },
  {
   "cell_type": "markdown",
   "metadata": {
    "id": "1OSzZhf-7oqD"
   },
   "source": [
    "**4) 열 정보 확인**\n",
    "\n",
    "- 세 개의 데이터프레임의 열 정보를 확인합니다."
   ]
  },
  {
   "cell_type": "code",
   "execution_count": 12,
   "metadata": {
    "id": "HXq3am7Q7oqD",
    "scrolled": true
   },
   "outputs": [
    {
     "data": {
      "text/plain": [
       "Index(['year', 'k_male', 'k_female'], dtype='object')"
      ]
     },
     "metadata": {},
     "output_type": "display_data"
    },
    {
     "data": {
      "text/plain": [
       "Index(['year', 'f_male', 'f_female'], dtype='object')"
      ]
     },
     "metadata": {},
     "output_type": "display_data"
    },
    {
     "data": {
      "text/plain": [
       "Index(['year', 'household', 'older_65'], dtype='object')"
      ]
     },
     "metadata": {},
     "output_type": "display_data"
    }
   ],
   "source": [
    "display(pop01.columns)\n",
    "display(pop02.columns)\n",
    "display(pop03.columns)"
   ]
  },
  {
   "cell_type": "markdown",
   "metadata": {
    "id": "90Xyn_eRsjM1"
   },
   "source": [
    "## 3. 데이터 전처리\n",
    "\n",
    "전처리 과정에서 다음과 같은 처리를 할 수 있습니다.\n",
    "\n",
    "- 결측치 처리\n",
    "- 값 변경\n",
    "- 열 추가\n",
    "- 불필요한 열 제거\n",
    "- 열 이름 변경\n",
    "- 데이터 통합(연결 또는 조인)\n",
    "- 가변수화 등"
   ]
  },
  {
   "cell_type": "markdown",
   "metadata": {
    "id": "RVYiMiblt05b"
   },
   "source": [
    "**1) 데이터 통합**\n",
    "\n",
    "- concat을 사용해 연결하면 인덱스 값을 기준으로 연결되어 데이터가 어긋납니다.\n",
    "- **year** 열을 기준으로 **outer** 방식으로 조인(병합)합니다.\n",
    "- 외국인 정보가 1981 ~ 1984년이 누락되어 결측치가 발생할 것입니다.\n",
    "- 세 개의 데이터프레임을 병합(조인)하여 pop 데이터프레임을 선언합니다.\n",
    "- 이후의 모든 작업은 pop 데이터프레임을 대상으로 진행합니다."
   ]
  },
  {
   "cell_type": "code",
   "execution_count": 27,
   "metadata": {},
   "outputs": [
    {
     "data": {
      "text/html": [
       "<div>\n",
       "<style scoped>\n",
       "    .dataframe tbody tr th:only-of-type {\n",
       "        vertical-align: middle;\n",
       "    }\n",
       "\n",
       "    .dataframe tbody tr th {\n",
       "        vertical-align: top;\n",
       "    }\n",
       "\n",
       "    .dataframe thead th {\n",
       "        text-align: right;\n",
       "    }\n",
       "</style>\n",
       "<table border=\"1\" class=\"dataframe\">\n",
       "  <thead>\n",
       "    <tr style=\"text-align: right;\">\n",
       "      <th></th>\n",
       "      <th>year</th>\n",
       "      <th>k_male</th>\n",
       "      <th>k_female</th>\n",
       "      <th>f_male</th>\n",
       "      <th>f_female</th>\n",
       "      <th>household</th>\n",
       "      <th>older_65</th>\n",
       "    </tr>\n",
       "  </thead>\n",
       "  <tbody>\n",
       "    <tr>\n",
       "      <th>0</th>\n",
       "      <td>1981</td>\n",
       "      <td>4160</td>\n",
       "      <td>4191</td>\n",
       "      <td>NaN</td>\n",
       "      <td>NaN</td>\n",
       "      <td>1915</td>\n",
       "      <td>246</td>\n",
       "    </tr>\n",
       "    <tr>\n",
       "      <th>1</th>\n",
       "      <td>1982</td>\n",
       "      <td>4160</td>\n",
       "      <td>4191</td>\n",
       "      <td>NaN</td>\n",
       "      <td>NaN</td>\n",
       "      <td>2001</td>\n",
       "      <td>260</td>\n",
       "    </tr>\n",
       "    <tr>\n",
       "      <th>2</th>\n",
       "      <td>1983</td>\n",
       "      <td>4160</td>\n",
       "      <td>4191</td>\n",
       "      <td>NaN</td>\n",
       "      <td>NaN</td>\n",
       "      <td>2116</td>\n",
       "      <td>260</td>\n",
       "    </tr>\n",
       "    <tr>\n",
       "      <th>3</th>\n",
       "      <td>1984</td>\n",
       "      <td>4160</td>\n",
       "      <td>4191</td>\n",
       "      <td>NaN</td>\n",
       "      <td>NaN</td>\n",
       "      <td>2246</td>\n",
       "      <td>275</td>\n",
       "    </tr>\n",
       "    <tr>\n",
       "      <th>4</th>\n",
       "      <td>1985</td>\n",
       "      <td>4160</td>\n",
       "      <td>4191</td>\n",
       "      <td>7.0</td>\n",
       "      <td>6.0</td>\n",
       "      <td>2338</td>\n",
       "      <td>211</td>\n",
       "    </tr>\n",
       "  </tbody>\n",
       "</table>\n",
       "</div>"
      ],
      "text/plain": [
       "   year  k_male  k_female  f_male  f_female  household  older_65\n",
       "0  1981    4160      4191     NaN       NaN       1915       246\n",
       "1  1982    4160      4191     NaN       NaN       2001       260\n",
       "2  1983    4160      4191     NaN       NaN       2116       260\n",
       "3  1984    4160      4191     NaN       NaN       2246       275\n",
       "4  1985    4160      4191     7.0       6.0       2338       211"
      ]
     },
     "execution_count": 27,
     "metadata": {},
     "output_type": "execute_result"
    }
   ],
   "source": [
    "pop = pd.merge(pop01,pop02, how='outer', on='year')\n",
    "pop = pd.merge(pop, pop03, how='outer', on='year')\n",
    "pop.head()"
   ]
  },
  {
   "cell_type": "markdown",
   "metadata": {
    "id": "hdjxpxxFzxCT"
   },
   "source": [
    "**2) 결측치 확인**\n",
    "\n",
    "- 결측치가 있는지 확인합니다."
   ]
  },
  {
   "cell_type": "code",
   "execution_count": 28,
   "metadata": {
    "id": "NyjTg23zz5XS",
    "tags": []
   },
   "outputs": [
    {
     "data": {
      "text/plain": [
       "year         0\n",
       "k_male       0\n",
       "k_female     0\n",
       "f_male       4\n",
       "f_female     4\n",
       "household    0\n",
       "older_65     0\n",
       "dtype: int64"
      ]
     },
     "execution_count": 28,
     "metadata": {},
     "output_type": "execute_result"
    }
   ],
   "source": [
    "pop.isna().sum()"
   ]
  },
  {
   "cell_type": "markdown",
   "metadata": {
    "id": "E6MZV3nW0QUv"
   },
   "source": [
    "**3) 결측치 처리**\n",
    "\n",
    "- 연도별 인구 현황이므로 임의의 값을 채우는 것이 바람직하지 않아 보입니다.\n",
    "- 이후 값, 즉 1985년 값으로 채우는 것도 정확한 분석을 방해할 것 같습니다.\n",
    "- 이에 결측치가 있는 1981년~1984년 행을 제거할 것입니다."
   ]
  },
  {
   "cell_type": "code",
   "execution_count": 43,
   "metadata": {
    "id": "TZ38gSP31CYM"
   },
   "outputs": [
    {
     "data": {
      "text/plain": [
       "year         0\n",
       "k_male       0\n",
       "k_female     0\n",
       "f_male       0\n",
       "f_female     0\n",
       "household    0\n",
       "older_65     0\n",
       "dtype: int64"
      ]
     },
     "execution_count": 43,
     "metadata": {},
     "output_type": "execute_result"
    }
   ],
   "source": [
    "pop.dropna(axis=0,inplace=True)\n",
    "pop.isnull().sum()"
   ]
  },
  {
   "cell_type": "markdown",
   "metadata": {
    "id": "WAGgvzDv2klV"
   },
   "source": [
    "**3) 열 추가**\n",
    "\n",
    "- 이후 분석의 편의를 위해 다음과 같은 의미를 갖는 열을 추가하고자 합니다.\n",
    "    - k_total = 전체 한국인 인구수\n",
    "    - f_total = 전체 외국인 인구수\n",
    "    - male = 전체 남자 인구수\n",
    "    - female = 전체 여자 인구수\n",
    "    - total = 전체 인구수\n",
    "- 추가할 열에 대한 공식은 다음과 같습니다.\n",
    "    - k_total = k_male + k_female\n",
    "    - f_total = f_male + f_female\n",
    "    - male = k_male + f_male\n",
    "    - female = k_female + f_female\n",
    "    - total = k_total + f_total\n",
    "- 정리한 공식에 따라 데이터프레임에 열을 추가합니다."
   ]
  },
  {
   "cell_type": "code",
   "execution_count": 44,
   "metadata": {
    "id": "_2UJfoL4Deyq"
   },
   "outputs": [
    {
     "data": {
      "text/html": [
       "<div>\n",
       "<style scoped>\n",
       "    .dataframe tbody tr th:only-of-type {\n",
       "        vertical-align: middle;\n",
       "    }\n",
       "\n",
       "    .dataframe tbody tr th {\n",
       "        vertical-align: top;\n",
       "    }\n",
       "\n",
       "    .dataframe thead th {\n",
       "        text-align: right;\n",
       "    }\n",
       "</style>\n",
       "<table border=\"1\" class=\"dataframe\">\n",
       "  <thead>\n",
       "    <tr style=\"text-align: right;\">\n",
       "      <th></th>\n",
       "      <th>year</th>\n",
       "      <th>k_male</th>\n",
       "      <th>k_female</th>\n",
       "      <th>f_male</th>\n",
       "      <th>f_female</th>\n",
       "      <th>household</th>\n",
       "      <th>older_65</th>\n",
       "      <th>k_total</th>\n",
       "      <th>f_total</th>\n",
       "      <th>male</th>\n",
       "      <th>female</th>\n",
       "      <th>total</th>\n",
       "    </tr>\n",
       "  </thead>\n",
       "  <tbody>\n",
       "    <tr>\n",
       "      <th>4</th>\n",
       "      <td>1985</td>\n",
       "      <td>4160</td>\n",
       "      <td>4191</td>\n",
       "      <td>7.0</td>\n",
       "      <td>6.0</td>\n",
       "      <td>2338</td>\n",
       "      <td>211</td>\n",
       "      <td>8351</td>\n",
       "      <td>13.0</td>\n",
       "      <td>4167.0</td>\n",
       "      <td>4197.0</td>\n",
       "      <td>8364.0</td>\n",
       "    </tr>\n",
       "    <tr>\n",
       "      <th>5</th>\n",
       "      <td>1986</td>\n",
       "      <td>4899</td>\n",
       "      <td>4888</td>\n",
       "      <td>7.0</td>\n",
       "      <td>5.0</td>\n",
       "      <td>2428</td>\n",
       "      <td>305</td>\n",
       "      <td>9787</td>\n",
       "      <td>12.0</td>\n",
       "      <td>4906.0</td>\n",
       "      <td>4893.0</td>\n",
       "      <td>9799.0</td>\n",
       "    </tr>\n",
       "    <tr>\n",
       "      <th>6</th>\n",
       "      <td>1987</td>\n",
       "      <td>5000</td>\n",
       "      <td>4979</td>\n",
       "      <td>6.0</td>\n",
       "      <td>5.0</td>\n",
       "      <td>2518</td>\n",
       "      <td>329</td>\n",
       "      <td>9979</td>\n",
       "      <td>11.0</td>\n",
       "      <td>5006.0</td>\n",
       "      <td>4984.0</td>\n",
       "      <td>9990.0</td>\n",
       "    </tr>\n",
       "    <tr>\n",
       "      <th>7</th>\n",
       "      <td>1988</td>\n",
       "      <td>5156</td>\n",
       "      <td>5120</td>\n",
       "      <td>5.0</td>\n",
       "      <td>5.0</td>\n",
       "      <td>2658</td>\n",
       "      <td>349</td>\n",
       "      <td>10276</td>\n",
       "      <td>10.0</td>\n",
       "      <td>5161.0</td>\n",
       "      <td>5125.0</td>\n",
       "      <td>10286.0</td>\n",
       "    </tr>\n",
       "    <tr>\n",
       "      <th>8</th>\n",
       "      <td>1989</td>\n",
       "      <td>5305</td>\n",
       "      <td>5261</td>\n",
       "      <td>6.0</td>\n",
       "      <td>5.0</td>\n",
       "      <td>2817</td>\n",
       "      <td>363</td>\n",
       "      <td>10566</td>\n",
       "      <td>11.0</td>\n",
       "      <td>5311.0</td>\n",
       "      <td>5266.0</td>\n",
       "      <td>10577.0</td>\n",
       "    </tr>\n",
       "  </tbody>\n",
       "</table>\n",
       "</div>"
      ],
      "text/plain": [
       "   year  k_male  k_female  f_male  f_female  household  older_65  k_total  \\\n",
       "4  1985    4160      4191     7.0       6.0       2338       211     8351   \n",
       "5  1986    4899      4888     7.0       5.0       2428       305     9787   \n",
       "6  1987    5000      4979     6.0       5.0       2518       329     9979   \n",
       "7  1988    5156      5120     5.0       5.0       2658       349    10276   \n",
       "8  1989    5305      5261     6.0       5.0       2817       363    10566   \n",
       "\n",
       "   f_total    male  female    total  \n",
       "4     13.0  4167.0  4197.0   8364.0  \n",
       "5     12.0  4906.0  4893.0   9799.0  \n",
       "6     11.0  5006.0  4984.0   9990.0  \n",
       "7     10.0  5161.0  5125.0  10286.0  \n",
       "8     11.0  5311.0  5266.0  10577.0  "
      ]
     },
     "execution_count": 44,
     "metadata": {},
     "output_type": "execute_result"
    }
   ],
   "source": [
    "pop['k_total']=pop['k_male']+pop['k_female']\n",
    "pop['f_total'] = pop['f_male'] + pop['f_female']\n",
    "pop['male'] = pop['k_male'] + pop['f_male']\n",
    "pop['female'] = pop['k_female'] + pop['f_female']\n",
    "pop['total'] = pop['k_total'] + pop['f_total']\n",
    "pop.head()"
   ]
  },
  {
   "cell_type": "markdown",
   "metadata": {
    "id": "BUlYrjII22qA"
   },
   "source": [
    "**4) 열 순서 변경**\n",
    "\n",
    "- 데이터 이해를 돕기 위해 다음과 같은 순서로 데이터프레임 열 순서를 변경합니다.\n",
    "- year, household, total, male, female, k_total, k_male, k_female, f_total, f_male, f_female, older_65\n"
   ]
  },
  {
   "cell_type": "code",
   "execution_count": 47,
   "metadata": {
    "id": "w_e2NR6W3Sw0"
   },
   "outputs": [],
   "source": [
    "pop = pop[['year', 'household', 'total', 'male', 'female', 'k_total', 'k_male', 'k_female', 'f_total', 'f_male', 'f_female', 'older_65']]"
   ]
  },
  {
   "cell_type": "code",
   "execution_count": 48,
   "metadata": {},
   "outputs": [
    {
     "data": {
      "text/html": [
       "<div>\n",
       "<style scoped>\n",
       "    .dataframe tbody tr th:only-of-type {\n",
       "        vertical-align: middle;\n",
       "    }\n",
       "\n",
       "    .dataframe tbody tr th {\n",
       "        vertical-align: top;\n",
       "    }\n",
       "\n",
       "    .dataframe thead th {\n",
       "        text-align: right;\n",
       "    }\n",
       "</style>\n",
       "<table border=\"1\" class=\"dataframe\">\n",
       "  <thead>\n",
       "    <tr style=\"text-align: right;\">\n",
       "      <th></th>\n",
       "      <th>year</th>\n",
       "      <th>household</th>\n",
       "      <th>total</th>\n",
       "      <th>male</th>\n",
       "      <th>female</th>\n",
       "      <th>k_total</th>\n",
       "      <th>k_male</th>\n",
       "      <th>k_female</th>\n",
       "      <th>f_total</th>\n",
       "      <th>f_male</th>\n",
       "      <th>f_female</th>\n",
       "      <th>older_65</th>\n",
       "    </tr>\n",
       "  </thead>\n",
       "  <tbody>\n",
       "    <tr>\n",
       "      <th>4</th>\n",
       "      <td>1985</td>\n",
       "      <td>2338</td>\n",
       "      <td>8364.0</td>\n",
       "      <td>4167.0</td>\n",
       "      <td>4197.0</td>\n",
       "      <td>8351</td>\n",
       "      <td>4160</td>\n",
       "      <td>4191</td>\n",
       "      <td>13.0</td>\n",
       "      <td>7.0</td>\n",
       "      <td>6.0</td>\n",
       "      <td>211</td>\n",
       "    </tr>\n",
       "    <tr>\n",
       "      <th>5</th>\n",
       "      <td>1986</td>\n",
       "      <td>2428</td>\n",
       "      <td>9799.0</td>\n",
       "      <td>4906.0</td>\n",
       "      <td>4893.0</td>\n",
       "      <td>9787</td>\n",
       "      <td>4899</td>\n",
       "      <td>4888</td>\n",
       "      <td>12.0</td>\n",
       "      <td>7.0</td>\n",
       "      <td>5.0</td>\n",
       "      <td>305</td>\n",
       "    </tr>\n",
       "    <tr>\n",
       "      <th>6</th>\n",
       "      <td>1987</td>\n",
       "      <td>2518</td>\n",
       "      <td>9990.0</td>\n",
       "      <td>5006.0</td>\n",
       "      <td>4984.0</td>\n",
       "      <td>9979</td>\n",
       "      <td>5000</td>\n",
       "      <td>4979</td>\n",
       "      <td>11.0</td>\n",
       "      <td>6.0</td>\n",
       "      <td>5.0</td>\n",
       "      <td>329</td>\n",
       "    </tr>\n",
       "    <tr>\n",
       "      <th>7</th>\n",
       "      <td>1988</td>\n",
       "      <td>2658</td>\n",
       "      <td>10286.0</td>\n",
       "      <td>5161.0</td>\n",
       "      <td>5125.0</td>\n",
       "      <td>10276</td>\n",
       "      <td>5156</td>\n",
       "      <td>5120</td>\n",
       "      <td>10.0</td>\n",
       "      <td>5.0</td>\n",
       "      <td>5.0</td>\n",
       "      <td>349</td>\n",
       "    </tr>\n",
       "    <tr>\n",
       "      <th>8</th>\n",
       "      <td>1989</td>\n",
       "      <td>2817</td>\n",
       "      <td>10577.0</td>\n",
       "      <td>5311.0</td>\n",
       "      <td>5266.0</td>\n",
       "      <td>10566</td>\n",
       "      <td>5305</td>\n",
       "      <td>5261</td>\n",
       "      <td>11.0</td>\n",
       "      <td>6.0</td>\n",
       "      <td>5.0</td>\n",
       "      <td>363</td>\n",
       "    </tr>\n",
       "  </tbody>\n",
       "</table>\n",
       "</div>"
      ],
      "text/plain": [
       "   year  household    total    male  female  k_total  k_male  k_female  \\\n",
       "4  1985       2338   8364.0  4167.0  4197.0     8351    4160      4191   \n",
       "5  1986       2428   9799.0  4906.0  4893.0     9787    4899      4888   \n",
       "6  1987       2518   9990.0  5006.0  4984.0     9979    5000      4979   \n",
       "7  1988       2658  10286.0  5161.0  5125.0    10276    5156      5120   \n",
       "8  1989       2817  10577.0  5311.0  5266.0    10566    5305      5261   \n",
       "\n",
       "   f_total  f_male  f_female  older_65  \n",
       "4     13.0     7.0       6.0       211  \n",
       "5     12.0     7.0       5.0       305  \n",
       "6     11.0     6.0       5.0       329  \n",
       "7     10.0     5.0       5.0       349  \n",
       "8     11.0     6.0       5.0       363  "
      ]
     },
     "execution_count": 48,
     "metadata": {},
     "output_type": "execute_result"
    }
   ],
   "source": [
    "pop.head()"
   ]
  },
  {
   "cell_type": "markdown",
   "metadata": {
    "id": "YqROKu_R3t03"
   },
   "source": [
    "**5) 인덱스 초기화**\n",
    "\n",
    "- 인덱스가 0부터 시작하는 일련 변호를 갖지 않는다면 인덱스를 초기화합니다."
   ]
  },
  {
   "cell_type": "code",
   "execution_count": 52,
   "metadata": {
    "id": "E6hQeKB533r9"
   },
   "outputs": [],
   "source": [
    "pop.reset_index(drop=True, inplace=True)"
   ]
  },
  {
   "cell_type": "code",
   "execution_count": 55,
   "metadata": {},
   "outputs": [
    {
     "data": {
      "text/plain": [
       "(36, 12)"
      ]
     },
     "execution_count": 55,
     "metadata": {},
     "output_type": "execute_result"
    }
   ],
   "source": [
    "pop.head()\n",
    "pop.shape"
   ]
  },
  {
   "cell_type": "markdown",
   "metadata": {
    "id": "gVFIrpZmrsjq"
   },
   "source": [
    "## 4. 추가 전처리"
   ]
  },
  {
   "cell_type": "markdown",
   "metadata": {
    "id": "kdnCJKxP-GiC"
   },
   "source": [
    "* x, y 구분\n",
    "\n",
    "    - x : feature\n",
    "    - y : target <- total"
   ]
  },
  {
   "cell_type": "code",
   "execution_count": 59,
   "metadata": {
    "id": "eg2YEK6-8k9c"
   },
   "outputs": [
    {
     "data": {
      "text/html": [
       "<div>\n",
       "<style scoped>\n",
       "    .dataframe tbody tr th:only-of-type {\n",
       "        vertical-align: middle;\n",
       "    }\n",
       "\n",
       "    .dataframe tbody tr th {\n",
       "        vertical-align: top;\n",
       "    }\n",
       "\n",
       "    .dataframe thead th {\n",
       "        text-align: right;\n",
       "    }\n",
       "</style>\n",
       "<table border=\"1\" class=\"dataframe\">\n",
       "  <thead>\n",
       "    <tr style=\"text-align: right;\">\n",
       "      <th></th>\n",
       "      <th>year</th>\n",
       "      <th>household</th>\n",
       "      <th>male</th>\n",
       "      <th>female</th>\n",
       "      <th>k_total</th>\n",
       "      <th>k_male</th>\n",
       "      <th>k_female</th>\n",
       "      <th>f_total</th>\n",
       "      <th>f_male</th>\n",
       "      <th>f_female</th>\n",
       "      <th>older_65</th>\n",
       "    </tr>\n",
       "  </thead>\n",
       "  <tbody>\n",
       "    <tr>\n",
       "      <th>0</th>\n",
       "      <td>1985</td>\n",
       "      <td>2338</td>\n",
       "      <td>4167.0</td>\n",
       "      <td>4197.0</td>\n",
       "      <td>8351</td>\n",
       "      <td>4160</td>\n",
       "      <td>4191</td>\n",
       "      <td>13.0</td>\n",
       "      <td>7.0</td>\n",
       "      <td>6.0</td>\n",
       "      <td>211</td>\n",
       "    </tr>\n",
       "  </tbody>\n",
       "</table>\n",
       "</div>"
      ],
      "text/plain": [
       "   year  household    male  female  k_total  k_male  k_female  f_total  \\\n",
       "0  1985       2338  4167.0  4197.0     8351    4160      4191     13.0   \n",
       "\n",
       "   f_male  f_female  older_65  \n",
       "0     7.0       6.0       211  "
      ]
     },
     "execution_count": 59,
     "metadata": {},
     "output_type": "execute_result"
    }
   ],
   "source": [
    "x=pop.drop('total',axis=1)\n",
    "x.head(1)"
   ]
  },
  {
   "cell_type": "code",
   "execution_count": 60,
   "metadata": {
    "id": "bqB7UDBj8k96"
   },
   "outputs": [
    {
     "data": {
      "text/plain": [
       "0    8364.0\n",
       "Name: total, dtype: float64"
      ]
     },
     "execution_count": 60,
     "metadata": {},
     "output_type": "execute_result"
    }
   ],
   "source": [
    "y=pop['total']\n",
    "y.head(1)"
   ]
  },
  {
   "cell_type": "code",
   "execution_count": 61,
   "metadata": {},
   "outputs": [
    {
     "data": {
      "text/plain": [
       "((36, 11), (36,))"
      ]
     },
     "execution_count": 61,
     "metadata": {},
     "output_type": "execute_result"
    }
   ],
   "source": [
    "x.shape,y.shape"
   ]
  },
  {
   "cell_type": "markdown",
   "metadata": {
    "id": "w6LVMNBb-EYK"
   },
   "source": [
    "* train test split"
   ]
  },
  {
   "cell_type": "code",
   "execution_count": 64,
   "metadata": {
    "id": "ldUH83Zh9gdE"
   },
   "outputs": [],
   "source": [
    "from sklearn.model_selection import train_test_split"
   ]
  },
  {
   "cell_type": "code",
   "execution_count": 65,
   "metadata": {
    "id": "ePTa2bih9JRU"
   },
   "outputs": [],
   "source": [
    "x_train, x_test, y_train, y_test =\\\n",
    "train_test_split(x,y, test_size=0.2,random_state=2022 )"
   ]
  },
  {
   "cell_type": "code",
   "execution_count": 67,
   "metadata": {
    "id": "CuSR6VJ89X4J"
   },
   "outputs": [
    {
     "data": {
      "text/plain": [
       "((28, 11), (28,))"
      ]
     },
     "execution_count": 67,
     "metadata": {},
     "output_type": "execute_result"
    }
   ],
   "source": [
    "x_train.shape,y_train.shape"
   ]
  },
  {
   "cell_type": "markdown",
   "metadata": {
    "tags": []
   },
   "source": [
    "* Scaling"
   ]
  },
  {
   "cell_type": "code",
   "execution_count": 68,
   "metadata": {},
   "outputs": [
    {
     "data": {
      "text/html": [
       "<div>\n",
       "<style scoped>\n",
       "    .dataframe tbody tr th:only-of-type {\n",
       "        vertical-align: middle;\n",
       "    }\n",
       "\n",
       "    .dataframe tbody tr th {\n",
       "        vertical-align: top;\n",
       "    }\n",
       "\n",
       "    .dataframe thead th {\n",
       "        text-align: right;\n",
       "    }\n",
       "</style>\n",
       "<table border=\"1\" class=\"dataframe\">\n",
       "  <thead>\n",
       "    <tr style=\"text-align: right;\">\n",
       "      <th></th>\n",
       "      <th>year</th>\n",
       "      <th>household</th>\n",
       "      <th>male</th>\n",
       "      <th>female</th>\n",
       "      <th>k_total</th>\n",
       "      <th>k_male</th>\n",
       "      <th>k_female</th>\n",
       "      <th>f_total</th>\n",
       "      <th>f_male</th>\n",
       "      <th>f_female</th>\n",
       "      <th>older_65</th>\n",
       "    </tr>\n",
       "  </thead>\n",
       "  <tbody>\n",
       "    <tr>\n",
       "      <th>count</th>\n",
       "      <td>28.000000</td>\n",
       "      <td>28.000000</td>\n",
       "      <td>28.000000</td>\n",
       "      <td>28.000000</td>\n",
       "      <td>28.000000</td>\n",
       "      <td>28.000000</td>\n",
       "      <td>28.000000</td>\n",
       "      <td>28.000000</td>\n",
       "      <td>28.000000</td>\n",
       "      <td>28.000000</td>\n",
       "      <td>28.000000</td>\n",
       "    </tr>\n",
       "    <tr>\n",
       "      <th>mean</th>\n",
       "      <td>2003.178571</td>\n",
       "      <td>3689.928571</td>\n",
       "      <td>5126.285714</td>\n",
       "      <td>5182.428571</td>\n",
       "      <td>10165.214286</td>\n",
       "      <td>5056.857143</td>\n",
       "      <td>5108.357143</td>\n",
       "      <td>143.500000</td>\n",
       "      <td>69.428571</td>\n",
       "      <td>74.071429</td>\n",
       "      <td>786.321429</td>\n",
       "    </tr>\n",
       "    <tr>\n",
       "      <th>std</th>\n",
       "      <td>10.677264</td>\n",
       "      <td>590.524433</td>\n",
       "      <td>260.974223</td>\n",
       "      <td>230.244223</td>\n",
       "      <td>491.413483</td>\n",
       "      <td>273.743962</td>\n",
       "      <td>225.155126</td>\n",
       "      <td>108.886791</td>\n",
       "      <td>51.465507</td>\n",
       "      <td>57.437843</td>\n",
       "      <td>396.927744</td>\n",
       "    </tr>\n",
       "    <tr>\n",
       "      <th>min</th>\n",
       "      <td>1985.000000</td>\n",
       "      <td>2338.000000</td>\n",
       "      <td>4167.000000</td>\n",
       "      <td>4197.000000</td>\n",
       "      <td>8351.000000</td>\n",
       "      <td>4160.000000</td>\n",
       "      <td>4191.000000</td>\n",
       "      <td>9.000000</td>\n",
       "      <td>5.000000</td>\n",
       "      <td>4.000000</td>\n",
       "      <td>211.000000</td>\n",
       "    </tr>\n",
       "    <tr>\n",
       "      <th>25%</th>\n",
       "      <td>1993.750000</td>\n",
       "      <td>3449.750000</td>\n",
       "      <td>5007.500000</td>\n",
       "      <td>5142.000000</td>\n",
       "      <td>9967.000000</td>\n",
       "      <td>4974.750000</td>\n",
       "      <td>5047.250000</td>\n",
       "      <td>39.000000</td>\n",
       "      <td>20.500000</td>\n",
       "      <td>18.500000</td>\n",
       "      <td>451.750000</td>\n",
       "    </tr>\n",
       "    <tr>\n",
       "      <th>50%</th>\n",
       "      <td>2003.500000</td>\n",
       "      <td>3747.500000</td>\n",
       "      <td>5165.000000</td>\n",
       "      <td>5204.000000</td>\n",
       "      <td>10198.000000</td>\n",
       "      <td>5068.500000</td>\n",
       "      <td>5126.500000</td>\n",
       "      <td>109.000000</td>\n",
       "      <td>51.500000</td>\n",
       "      <td>57.500000</td>\n",
       "      <td>671.500000</td>\n",
       "    </tr>\n",
       "    <tr>\n",
       "      <th>75%</th>\n",
       "      <td>2011.250000</td>\n",
       "      <td>4184.000000</td>\n",
       "      <td>5215.750000</td>\n",
       "      <td>5283.750000</td>\n",
       "      <td>10312.000000</td>\n",
       "      <td>5148.250000</td>\n",
       "      <td>5178.750000</td>\n",
       "      <td>255.250000</td>\n",
       "      <td>122.250000</td>\n",
       "      <td>132.500000</td>\n",
       "      <td>1064.500000</td>\n",
       "    </tr>\n",
       "    <tr>\n",
       "      <th>max</th>\n",
       "      <td>2020.000000</td>\n",
       "      <td>4418.000000</td>\n",
       "      <td>5519.000000</td>\n",
       "      <td>5451.000000</td>\n",
       "      <td>10935.000000</td>\n",
       "      <td>5500.000000</td>\n",
       "      <td>5435.000000</td>\n",
       "      <td>284.000000</td>\n",
       "      <td>137.000000</td>\n",
       "      <td>148.000000</td>\n",
       "      <td>1568.000000</td>\n",
       "    </tr>\n",
       "  </tbody>\n",
       "</table>\n",
       "</div>"
      ],
      "text/plain": [
       "              year    household         male       female       k_total  \\\n",
       "count    28.000000    28.000000    28.000000    28.000000     28.000000   \n",
       "mean   2003.178571  3689.928571  5126.285714  5182.428571  10165.214286   \n",
       "std      10.677264   590.524433   260.974223   230.244223    491.413483   \n",
       "min    1985.000000  2338.000000  4167.000000  4197.000000   8351.000000   \n",
       "25%    1993.750000  3449.750000  5007.500000  5142.000000   9967.000000   \n",
       "50%    2003.500000  3747.500000  5165.000000  5204.000000  10198.000000   \n",
       "75%    2011.250000  4184.000000  5215.750000  5283.750000  10312.000000   \n",
       "max    2020.000000  4418.000000  5519.000000  5451.000000  10935.000000   \n",
       "\n",
       "            k_male     k_female     f_total      f_male    f_female  \\\n",
       "count    28.000000    28.000000   28.000000   28.000000   28.000000   \n",
       "mean   5056.857143  5108.357143  143.500000   69.428571   74.071429   \n",
       "std     273.743962   225.155126  108.886791   51.465507   57.437843   \n",
       "min    4160.000000  4191.000000    9.000000    5.000000    4.000000   \n",
       "25%    4974.750000  5047.250000   39.000000   20.500000   18.500000   \n",
       "50%    5068.500000  5126.500000  109.000000   51.500000   57.500000   \n",
       "75%    5148.250000  5178.750000  255.250000  122.250000  132.500000   \n",
       "max    5500.000000  5435.000000  284.000000  137.000000  148.000000   \n",
       "\n",
       "          older_65  \n",
       "count    28.000000  \n",
       "mean    786.321429  \n",
       "std     396.927744  \n",
       "min     211.000000  \n",
       "25%     451.750000  \n",
       "50%     671.500000  \n",
       "75%    1064.500000  \n",
       "max    1568.000000  "
      ]
     },
     "execution_count": 68,
     "metadata": {},
     "output_type": "execute_result"
    }
   ],
   "source": [
    "x_train.describe()"
   ]
  },
  {
   "cell_type": "code",
   "execution_count": 70,
   "metadata": {},
   "outputs": [],
   "source": [
    "from sklearn.preprocessing import MinMaxScaler"
   ]
  },
  {
   "cell_type": "code",
   "execution_count": 72,
   "metadata": {},
   "outputs": [],
   "source": [
    "mm_scaler = MinMaxScaler()"
   ]
  },
  {
   "cell_type": "code",
   "execution_count": 73,
   "metadata": {},
   "outputs": [],
   "source": [
    "x_train = mm_scaler.fit_transform(x_train)\n",
    "x_test = mm_scaler.transform(x_test)"
   ]
  },
  {
   "cell_type": "code",
   "execution_count": 74,
   "metadata": {
    "tags": []
   },
   "outputs": [
    {
     "data": {
      "text/html": [
       "<div>\n",
       "<style scoped>\n",
       "    .dataframe tbody tr th:only-of-type {\n",
       "        vertical-align: middle;\n",
       "    }\n",
       "\n",
       "    .dataframe tbody tr th {\n",
       "        vertical-align: top;\n",
       "    }\n",
       "\n",
       "    .dataframe thead th {\n",
       "        text-align: right;\n",
       "    }\n",
       "</style>\n",
       "<table border=\"1\" class=\"dataframe\">\n",
       "  <thead>\n",
       "    <tr style=\"text-align: right;\">\n",
       "      <th></th>\n",
       "      <th>0</th>\n",
       "      <th>1</th>\n",
       "      <th>2</th>\n",
       "      <th>3</th>\n",
       "      <th>4</th>\n",
       "      <th>5</th>\n",
       "      <th>6</th>\n",
       "      <th>7</th>\n",
       "      <th>8</th>\n",
       "      <th>9</th>\n",
       "      <th>10</th>\n",
       "    </tr>\n",
       "  </thead>\n",
       "  <tbody>\n",
       "    <tr>\n",
       "      <th>count</th>\n",
       "      <td>28.000000</td>\n",
       "      <td>28.000000</td>\n",
       "      <td>28.000000</td>\n",
       "      <td>28.000000</td>\n",
       "      <td>28.000000</td>\n",
       "      <td>28.000000</td>\n",
       "      <td>28.000000</td>\n",
       "      <td>28.000000</td>\n",
       "      <td>28.000000</td>\n",
       "      <td>28.000000</td>\n",
       "      <td>28.000000</td>\n",
       "    </tr>\n",
       "    <tr>\n",
       "      <th>mean</th>\n",
       "      <td>0.519388</td>\n",
       "      <td>0.649966</td>\n",
       "      <td>0.709531</td>\n",
       "      <td>0.785828</td>\n",
       "      <td>0.702095</td>\n",
       "      <td>0.669296</td>\n",
       "      <td>0.737425</td>\n",
       "      <td>0.489091</td>\n",
       "      <td>0.488095</td>\n",
       "      <td>0.486607</td>\n",
       "      <td>0.423966</td>\n",
       "    </tr>\n",
       "    <tr>\n",
       "      <th>std</th>\n",
       "      <td>0.305065</td>\n",
       "      <td>0.283906</td>\n",
       "      <td>0.193028</td>\n",
       "      <td>0.183608</td>\n",
       "      <td>0.190175</td>\n",
       "      <td>0.204287</td>\n",
       "      <td>0.180993</td>\n",
       "      <td>0.395952</td>\n",
       "      <td>0.389890</td>\n",
       "      <td>0.398874</td>\n",
       "      <td>0.292504</td>\n",
       "    </tr>\n",
       "    <tr>\n",
       "      <th>min</th>\n",
       "      <td>0.000000</td>\n",
       "      <td>0.000000</td>\n",
       "      <td>0.000000</td>\n",
       "      <td>0.000000</td>\n",
       "      <td>0.000000</td>\n",
       "      <td>0.000000</td>\n",
       "      <td>0.000000</td>\n",
       "      <td>0.000000</td>\n",
       "      <td>0.000000</td>\n",
       "      <td>0.000000</td>\n",
       "      <td>0.000000</td>\n",
       "    </tr>\n",
       "    <tr>\n",
       "      <th>25%</th>\n",
       "      <td>0.250000</td>\n",
       "      <td>0.534495</td>\n",
       "      <td>0.621672</td>\n",
       "      <td>0.753589</td>\n",
       "      <td>0.625387</td>\n",
       "      <td>0.608022</td>\n",
       "      <td>0.688304</td>\n",
       "      <td>0.109091</td>\n",
       "      <td>0.117424</td>\n",
       "      <td>0.100694</td>\n",
       "      <td>0.177413</td>\n",
       "    </tr>\n",
       "    <tr>\n",
       "      <th>50%</th>\n",
       "      <td>0.528571</td>\n",
       "      <td>0.677644</td>\n",
       "      <td>0.738166</td>\n",
       "      <td>0.803030</td>\n",
       "      <td>0.714783</td>\n",
       "      <td>0.677985</td>\n",
       "      <td>0.752010</td>\n",
       "      <td>0.363636</td>\n",
       "      <td>0.352273</td>\n",
       "      <td>0.371528</td>\n",
       "      <td>0.339352</td>\n",
       "    </tr>\n",
       "    <tr>\n",
       "      <th>75%</th>\n",
       "      <td>0.750000</td>\n",
       "      <td>0.887500</td>\n",
       "      <td>0.775703</td>\n",
       "      <td>0.866627</td>\n",
       "      <td>0.758901</td>\n",
       "      <td>0.737500</td>\n",
       "      <td>0.794011</td>\n",
       "      <td>0.895455</td>\n",
       "      <td>0.888258</td>\n",
       "      <td>0.892361</td>\n",
       "      <td>0.628961</td>\n",
       "    </tr>\n",
       "    <tr>\n",
       "      <th>max</th>\n",
       "      <td>1.000000</td>\n",
       "      <td>1.000000</td>\n",
       "      <td>1.000000</td>\n",
       "      <td>1.000000</td>\n",
       "      <td>1.000000</td>\n",
       "      <td>1.000000</td>\n",
       "      <td>1.000000</td>\n",
       "      <td>1.000000</td>\n",
       "      <td>1.000000</td>\n",
       "      <td>1.000000</td>\n",
       "      <td>1.000000</td>\n",
       "    </tr>\n",
       "  </tbody>\n",
       "</table>\n",
       "</div>"
      ],
      "text/plain": [
       "              0          1          2          3          4          5   \\\n",
       "count  28.000000  28.000000  28.000000  28.000000  28.000000  28.000000   \n",
       "mean    0.519388   0.649966   0.709531   0.785828   0.702095   0.669296   \n",
       "std     0.305065   0.283906   0.193028   0.183608   0.190175   0.204287   \n",
       "min     0.000000   0.000000   0.000000   0.000000   0.000000   0.000000   \n",
       "25%     0.250000   0.534495   0.621672   0.753589   0.625387   0.608022   \n",
       "50%     0.528571   0.677644   0.738166   0.803030   0.714783   0.677985   \n",
       "75%     0.750000   0.887500   0.775703   0.866627   0.758901   0.737500   \n",
       "max     1.000000   1.000000   1.000000   1.000000   1.000000   1.000000   \n",
       "\n",
       "              6          7          8          9          10  \n",
       "count  28.000000  28.000000  28.000000  28.000000  28.000000  \n",
       "mean    0.737425   0.489091   0.488095   0.486607   0.423966  \n",
       "std     0.180993   0.395952   0.389890   0.398874   0.292504  \n",
       "min     0.000000   0.000000   0.000000   0.000000   0.000000  \n",
       "25%     0.688304   0.109091   0.117424   0.100694   0.177413  \n",
       "50%     0.752010   0.363636   0.352273   0.371528   0.339352  \n",
       "75%     0.794011   0.895455   0.888258   0.892361   0.628961  \n",
       "max     1.000000   1.000000   1.000000   1.000000   1.000000  "
      ]
     },
     "execution_count": 74,
     "metadata": {},
     "output_type": "execute_result"
    }
   ],
   "source": [
    "pd.DataFrame(x_train).describe()"
   ]
  },
  {
   "cell_type": "markdown",
   "metadata": {
    "id": "RunXx5ob-L9j"
   },
   "source": [
    "## 5. 모델링"
   ]
  },
  {
   "cell_type": "markdown",
   "metadata": {
    "id": "KpBgwLU5-b7m"
   },
   "source": [
    "* 모델 선언"
   ]
  },
  {
   "cell_type": "code",
   "execution_count": null,
   "metadata": {
    "id": "xJivOe31-DMG"
   },
   "outputs": [],
   "source": []
  },
  {
   "cell_type": "code",
   "execution_count": null,
   "metadata": {
    "id": "A1a9ZTWi-Tah"
   },
   "outputs": [],
   "source": []
  },
  {
   "cell_type": "markdown",
   "metadata": {
    "id": "ByOJ40rx-aBU"
   },
   "source": [
    "* 모델 학습"
   ]
  },
  {
   "cell_type": "code",
   "execution_count": null,
   "metadata": {
    "id": "7BZYUjNt-WRT"
   },
   "outputs": [],
   "source": []
  },
  {
   "cell_type": "markdown",
   "metadata": {
    "id": "NaGKHZJS-ktc"
   },
   "source": [
    "* 학습한 모델 기반으로 예측값 생성"
   ]
  },
  {
   "cell_type": "code",
   "execution_count": null,
   "metadata": {
    "id": "AtqR6q1u-pYA"
   },
   "outputs": [],
   "source": []
  },
  {
   "cell_type": "code",
   "execution_count": null,
   "metadata": {
    "id": "AyJLAYoN-s3r"
   },
   "outputs": [],
   "source": []
  },
  {
   "cell_type": "code",
   "execution_count": null,
   "metadata": {
    "id": "DMlL2Z-N-wRq"
   },
   "outputs": [],
   "source": []
  },
  {
   "cell_type": "markdown",
   "metadata": {
    "id": "_rDg0DGJ-2vp"
   },
   "source": [
    "## 6. 평가"
   ]
  },
  {
   "cell_type": "code",
   "execution_count": null,
   "metadata": {
    "id": "7PmPZpse-2D2"
   },
   "outputs": [],
   "source": []
  },
  {
   "cell_type": "code",
   "execution_count": null,
   "metadata": {
    "id": "jBiVt9Uv_WXG"
   },
   "outputs": [],
   "source": []
  },
  {
   "cell_type": "code",
   "execution_count": null,
   "metadata": {
    "id": "d0TSKy87_gCL"
   },
   "outputs": [],
   "source": []
  }
 ],
 "metadata": {
  "colab": {
   "collapsed_sections": [],
   "name": "추가_서울 인구 분석.ipynb",
   "provenance": []
  },
  "kernelspec": {
   "display_name": "Python 3 (ipykernel)",
   "language": "python",
   "name": "python3"
  },
  "language_info": {
   "codemirror_mode": {
    "name": "ipython",
    "version": 3
   },
   "file_extension": ".py",
   "mimetype": "text/x-python",
   "name": "python",
   "nbconvert_exporter": "python",
   "pygments_lexer": "ipython3",
   "version": "3.9.13"
  }
 },
 "nbformat": 4,
 "nbformat_minor": 4
}
