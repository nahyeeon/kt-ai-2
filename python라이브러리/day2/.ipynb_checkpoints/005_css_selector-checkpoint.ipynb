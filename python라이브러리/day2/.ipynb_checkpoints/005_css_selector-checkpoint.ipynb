{
 "cells": [
  {
   "cell_type": "markdown",
   "id": "675d648c-4644-44f8-825c-d6aacd90031e",
   "metadata": {},
   "source": [
    "### CSS Selector\n",
    "- css 스타일을 적용 시길 HTML 엘리먼트를 선택하는 방법"
   ]
  },
  {
   "cell_type": "code",
   "execution_count": null,
   "id": "12bf0118-89b5-45d6-968e-b2015888afbc",
   "metadata": {},
   "outputs": [],
   "source": [
    "# 1. Element Tag 이름으로 선택\n",
    "# css selector : span : python 3 선택"
   ]
  },
  {
   "cell_type": "code",
   "execution_count": 5,
   "id": "5d1993b3-ba36-4f03-a454-6658d558b3a0",
   "metadata": {},
   "outputs": [
    {
     "data": {
      "text/html": [
       "<div id='kt'>\n",
       "    <div>python 1</div>\n",
       "    <p>python 2</p>\n",
       "    <span>python 3</span>\n",
       "</div>\n"
      ],
      "text/plain": [
       "<IPython.core.display.HTML object>"
      ]
     },
     "metadata": {},
     "output_type": "display_data"
    }
   ],
   "source": [
    "%%html\n",
    "<div id='kt'>\n",
    "    <div>python 1</div>\n",
    "    <p>python 2</p>\n",
    "    <span>python 3</span>\n",
    "</div>"
   ]
  },
  {
   "cell_type": "code",
   "execution_count": 7,
   "id": "b56c3e81-9cb1-4c57-aada-0fae3eebd0e5",
   "metadata": {},
   "outputs": [],
   "source": [
    "# 2. Tag의 id 값으로 선택\n",
    "# css selector : #kt2 : python 2 선택"
   ]
  },
  {
   "cell_type": "code",
   "execution_count": 6,
   "id": "723450ac-1289-45f0-8e5e-d37afad0be02",
   "metadata": {},
   "outputs": [
    {
     "data": {
      "text/html": [
       "<div class='kt'>\n",
       "    <p id='kt1'>python 1</p>\n",
       "    <p id='kt2'>python 2</p>\n",
       "    <p id='kt3'>python 3</p>\n",
       "</div>\n"
      ],
      "text/plain": [
       "<IPython.core.display.HTML object>"
      ]
     },
     "metadata": {},
     "output_type": "display_data"
    }
   ],
   "source": [
    "%%html\n",
    "<div class='kt'>\n",
    "    <p id='kt1'>python 1</p>\n",
    "    <p id='kt2'>python 2</p>\n",
    "    <p id='kt3'>python 3</p>\n",
    "</div>"
   ]
  },
  {
   "cell_type": "code",
   "execution_count": null,
   "id": "bc76697c-a998-4226-bf99-a67d8f20fbdb",
   "metadata": {},
   "outputs": [],
   "source": [
    "# 3. Tag의 class 값으로 선택\n",
    "# css selector : .kt2 : python2 선택 ->.을 붙인다\n",
    "# css selecotr : .kt : 123 선택"
   ]
  },
  {
   "cell_type": "code",
   "execution_count": 9,
   "id": "f14924c5-9747-445c-8dfe-76a491147b05",
   "metadata": {},
   "outputs": [
    {
     "data": {
      "text/html": [
       "    <p class='kt kt1'>python 1</p>\n",
       "    <p class='kt kt2'>python 2</p>\n",
       "    <p class='kt kt3'>python 3</p>\n"
      ],
      "text/plain": [
       "<IPython.core.display.HTML object>"
      ]
     },
     "metadata": {},
     "output_type": "display_data"
    }
   ],
   "source": [
    "%%html\n",
    "    <p class='kt kt1'>python 1</p>\n",
    "    <p class='kt kt2'>python 2</p>\n",
    "    <p class='kt kt3'>python 3</p>"
   ]
  },
  {
   "cell_type": "code",
   "execution_count": 2,
   "id": "73c86ec0-df36-4d01-818a-2f14b0b511e7",
   "metadata": {},
   "outputs": [],
   "source": [
    "# 4. Tag의 attr 값으로 선택\n",
    "# css selector : [Value=\"no1\"] : python 1 선택"
   ]
  },
  {
   "cell_type": "code",
   "execution_count": 10,
   "id": "23e81a71-5792-4760-99d8-c216551e03b5",
   "metadata": {},
   "outputs": [
    {
     "data": {
      "text/html": [
       "<p value='no1'>python 1</p>\n",
       "<p value='no2'>python 2</p>\n",
       "<p value='no3'>python 3</p>\n"
      ],
      "text/plain": [
       "<IPython.core.display.HTML object>"
      ]
     },
     "metadata": {},
     "output_type": "display_data"
    }
   ],
   "source": [
    "%%html\n",
    "<p value='no1'>python 1</p>\n",
    "<p value='no2'>python 2</p>\n",
    "<p value='no3'>python 3</p>"
   ]
  },
  {
   "cell_type": "code",
   "execution_count": null,
   "id": "1ed3bf7c-823c-46a5-a838-bf0bd8fba9af",
   "metadata": {},
   "outputs": [],
   "source": [
    "# tag 이름 : span\n",
    "# id : #kt\n",
    "# class : .kt\n",
    "# attr : [value='kt']"
   ]
  },
  {
   "cell_type": "code",
   "execution_count": null,
   "id": "a60a35c0-f84f-45ec-8831-a541570eafd0",
   "metadata": {},
   "outputs": [],
   "source": [
    "# 5. 여러개의 엘리먼트 선택"
   ]
  },
  {
   "cell_type": "code",
   "execution_count": null,
   "id": "bb46e5fe-cb01-4e5a-8433-cbc0fb5496c0",
   "metadata": {},
   "outputs": [],
   "source": [
    "# not selector\n",
    "# class no 엘리먼트를 모두 선택하고 \n",
    "# no2 클래스를 갖는 엘리먼트만 제외\n",
    "# css selector : .no:not(.no2) : python 1,2"
   ]
  },
  {
   "cell_type": "code",
   "execution_count": 12,
   "id": "2be8a16a-3226-4cc1-9d59-c10f0c9d8df7",
   "metadata": {},
   "outputs": [
    {
     "data": {
      "text/html": [
       "<p class='no no1'>python 1</p>\n",
       "<p class='no no2'>python 2</p>\n",
       "<p class='no no3'>python 3</p>\n"
      ],
      "text/plain": [
       "<IPython.core.display.HTML object>"
      ]
     },
     "metadata": {},
     "output_type": "display_data"
    }
   ],
   "source": [
    "%%html\n",
    "<p class='no no1'>python 1</p>\n",
    "<p class='no no2'>python 2</p>\n",
    "<p class='no no3'>python 3</p>"
   ]
  },
  {
   "cell_type": "code",
   "execution_count": null,
   "id": "85df1883-4541-429b-85f1-6ad0d081e444",
   "metadata": {},
   "outputs": [],
   "source": [
    "# n 번째 엘리먼트 선택\n",
    "# css selector : .py:nth-child(2) :python 2 선택\n",
    "# .py 엘리먼트 중에서 2번째 : X\n",
    "# 2번째 엘리먼트중에서 .py 클래스를 갖는 : O"
   ]
  },
  {
   "cell_type": "code",
   "execution_count": 13,
   "id": "8e870234-e6ac-4df5-a2de-0d7328ee339a",
   "metadata": {},
   "outputs": [
    {
     "data": {
      "text/html": [
       "<div>\n",
       "    <p class='py'>python 1</p>\n",
       "    <p class='py'>python 2</p>\n",
       "    <p class='py'>python 3</p>\n",
       "</div>\n"
      ],
      "text/plain": [
       "<IPython.core.display.HTML object>"
      ]
     },
     "metadata": {},
     "output_type": "display_data"
    }
   ],
   "source": [
    "%%html\n",
    "<div>\n",
    "    <p class='py'>python 1</p>\n",
    "    <p class='py'>python 2</p>\n",
    "    <p class='py'>python 3</p>\n",
    "</div>"
   ]
  },
  {
   "cell_type": "code",
   "execution_count": null,
   "id": "cf48afa3-29c5-458b-b20f-8b1620a3c21e",
   "metadata": {},
   "outputs": [],
   "source": [
    "# 6. 계층적으로 엘리먼트 선택\n",
    "# .wrap > p : inner 1 선택\n",
    "# .wrap p : inner 1, inner 2 선택"
   ]
  },
  {
   "cell_type": "code",
   "execution_count": 14,
   "id": "9195fad4-1447-4764-b9e3-d26af91e1f33",
   "metadata": {},
   "outputs": [
    {
     "data": {
      "text/html": [
       "<div class='wrap'>\n",
       "    <p>inner 1</p>\n",
       "    <div>\n",
       "        <p>inner 2</p>\n",
       "    </div>\n",
       "</div>\n"
      ],
      "text/plain": [
       "<IPython.core.display.HTML object>"
      ]
     },
     "metadata": {},
     "output_type": "display_data"
    }
   ],
   "source": [
    "%%html\n",
    "<div class='wrap'>\n",
    "    <p>inner 1</p>\n",
    "    <div>\n",
    "        <p>inner 2</p>\n",
    "    </div>\n",
    "</div>"
   ]
  },
  {
   "cell_type": "code",
   "execution_count": null,
   "id": "f26b9931-e29e-4bec-a6dd-82633b813655",
   "metadata": {},
   "outputs": [],
   "source": [
    "# 여러개의 엘리먼트 선택\n",
    "# .py1, .py3 : python 1, python3 선택"
   ]
  },
  {
   "cell_type": "code",
   "execution_count": 15,
   "id": "83acf94a-7c5e-463f-b21b-3adebab77d44",
   "metadata": {},
   "outputs": [
    {
     "data": {
      "text/html": [
       "<p class='py1'>python 1</p>\n",
       "<p class='py2'>python 2</p>\n",
       "<p class='py3'>python 3</p>\n"
      ],
      "text/plain": [
       "<IPython.core.display.HTML object>"
      ]
     },
     "metadata": {},
     "output_type": "display_data"
    }
   ],
   "source": [
    "%%html\n",
    "<p class='py1'>python 1</p>\n",
    "<p class='py2'>python 2</p>\n",
    "<p class='py3'>python 3</p>"
   ]
  },
  {
   "cell_type": "code",
   "execution_count": null,
   "id": "7887e8ac-7e59-4ba5-8430-812d9cd05cab",
   "metadata": {},
   "outputs": [],
   "source": [
    "# 엘리먼트 하나 선택\n",
    "# tag 이름 : span\n",
    "# id : #kt\n",
    "# class : .kt\n",
    "# attr : [value='kt']\n",
    "\n",
    "# 여러개의 엘리먼트 선택\n",
    "# :not(.kt1)\n",
    "# nth-child(n)\n",
    "# .wrap > p : 한단계 하위 엘리먼트\n",
    "# .wrap p : 모든 하위 엘리먼트\n",
    "# .kt1, .kt2 : 선택하는 모든 엘리먼트 선택"
   ]
  },
  {
   "cell_type": "code",
   "execution_count": null,
   "id": "960bacb8-2be4-4bad-8d75-db9d3291a3d0",
   "metadata": {},
   "outputs": [],
   "source": []
  },
  {
   "cell_type": "code",
   "execution_count": null,
   "id": "69679606-9e8f-4dd2-93f6-e2809c3b432e",
   "metadata": {},
   "outputs": [],
   "source": []
  },
  {
   "cell_type": "code",
   "execution_count": null,
   "id": "15f1a153-315b-4d37-a21e-050c75d334d6",
   "metadata": {},
   "outputs": [],
   "source": []
  }
 ],
 "metadata": {
  "kernelspec": {
   "display_name": "Python 3",
   "language": "python",
   "name": "python3"
  },
  "language_info": {
   "codemirror_mode": {
    "name": "ipython",
    "version": 3
   },
   "file_extension": ".py",
   "mimetype": "text/x-python",
   "name": "python",
   "nbconvert_exporter": "python",
   "pygments_lexer": "ipython3",
   "version": "3.8.8"
  }
 },
 "nbformat": 4,
 "nbformat_minor": 5
}
