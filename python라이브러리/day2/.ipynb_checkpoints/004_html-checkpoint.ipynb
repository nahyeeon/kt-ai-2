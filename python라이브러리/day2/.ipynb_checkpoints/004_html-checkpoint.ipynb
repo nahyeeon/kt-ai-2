{
 "cells": [
  {
   "cell_type": "markdown",
   "id": "13a0b2fd-b99a-47f9-a08c-395344a063d2",
   "metadata": {},
   "source": [
    "### HTML\n",
    "- 웹문서를 작성하는 언어\n",
    "- 구성요소\n",
    "    - Document : 한페이지를 나타내는 코드\n",
    "    - Element : 하나의 레이아웃 : Element가 모여서 Document를 만듦\n",
    "    - Tag : Element의 종류를 정의 : 시작태그 + 끝태그 = Element\n",
    "    - Attribute : 속성값 : 시작태그에서 태그의 기능 정의\n",
    "        - id : element를 지정하는 페이지 내에서 유일한 값\n",
    "        - class : element를 지정하는 값으로 페이지 내에서 여러개 사용 가능\n",
    "        - attr : id, class를 제외한 나머지 속성값\n",
    "    - Text : 시작태그와 끝태그 사이의 문자열\n",
    "- 엘리먼트는 계층적 구조를 갖습니다."
   ]
  },
  {
   "cell_type": "code",
   "execution_count": 4,
   "id": "21339297-2632-40b3-820c-1a188782f287",
   "metadata": {},
   "outputs": [
    {
     "data": {
      "text/html": [
       "<div class=\"wrapper\">\n",
       "    <button id='b1' class='btn no1' value=1>HTML 1</button>\n",
       "    <button id='b2' class='btn no2' value=2>HTML 2</button>\n",
       "    <p>HTML 3</p>\n",
       "</div>\n"
      ],
      "text/plain": [
       "<IPython.core.display.HTML object>"
      ]
     },
     "metadata": {},
     "output_type": "display_data"
    }
   ],
   "source": [
    "%%html\n",
    "<div class=\"wrapper\">\n",
    "    <button id='b1' class='btn no1' value=1>HTML 1</button>\n",
    "    <button id='b2' class='btn no2' value=2>HTML 2</button>\n",
    "    <p>HTML 3</p>\n",
    "</div>"
   ]
  },
  {
   "cell_type": "markdown",
   "id": "4a8573dd-85c3-4000-b54b-b0a24c51fcfe",
   "metadata": {},
   "source": [
    "### HTML 태그 종류"
   ]
  },
  {
   "cell_type": "code",
   "execution_count": 5,
   "id": "448390f5-a5c1-4002-87db-8fcd4466696b",
   "metadata": {},
   "outputs": [],
   "source": [
    "# p : 한줄의 문자열을 출력"
   ]
  },
  {
   "cell_type": "code",
   "execution_count": 6,
   "id": "8e86c6fa-f5ba-4c3d-bef7-11288042865b",
   "metadata": {},
   "outputs": [
    {
     "data": {
      "text/html": [
       "<p>python 1</p>\n",
       "<p>python 2</p>\n"
      ],
      "text/plain": [
       "<IPython.core.display.HTML object>"
      ]
     },
     "metadata": {},
     "output_type": "display_data"
    }
   ],
   "source": [
    "%%html\n",
    "<p>python 1</p>\n",
    "<p>python 2</p>"
   ]
  },
  {
   "cell_type": "code",
   "execution_count": 7,
   "id": "2ddd4c29-547c-4e7e-850e-530e877048c0",
   "metadata": {},
   "outputs": [],
   "source": [
    "# span : 한블럭의 문자열 출력"
   ]
  },
  {
   "cell_type": "code",
   "execution_count": 8,
   "id": "b3d98f16-2615-4669-a8f6-88d4880f692a",
   "metadata": {},
   "outputs": [
    {
     "data": {
      "text/html": [
       "<span>python 1</span>\n",
       "<span>python 2</span>\n"
      ],
      "text/plain": [
       "<IPython.core.display.HTML object>"
      ]
     },
     "metadata": {},
     "output_type": "display_data"
    }
   ],
   "source": [
    "%%html\n",
    "<span>python 1</span>\n",
    "<span>python 2</span>"
   ]
  },
  {
   "cell_type": "code",
   "execution_count": null,
   "id": "d8fe7e67-b964-44a0-ae75-07babb9e68a9",
   "metadata": {},
   "outputs": [],
   "source": [
    "# ul, li : 리스트 문자열 출력"
   ]
  },
  {
   "cell_type": "code",
   "execution_count": 9,
   "id": "ecf3b1a2-40f2-4f5a-9d41-3bf0494d0105",
   "metadata": {},
   "outputs": [
    {
     "data": {
      "text/html": [
       "<ul>\n",
       "    <li>python 1</li>\n",
       "    <li>python 2</li>\n",
       "</ul>\n"
      ],
      "text/plain": [
       "<IPython.core.display.HTML object>"
      ]
     },
     "metadata": {},
     "output_type": "display_data"
    }
   ],
   "source": [
    "%%html\n",
    "<ul>\n",
    "    <li>python 1</li>\n",
    "    <li>python 2</li>\n",
    "</ul>"
   ]
  },
  {
   "cell_type": "code",
   "execution_count": 10,
   "id": "cb3078b5-7794-4c10-addf-814d7da1e92b",
   "metadata": {},
   "outputs": [],
   "source": [
    "# a : 링크를 나타내는 태그"
   ]
  },
  {
   "cell_type": "code",
   "execution_count": 13,
   "id": "c64f04c5-0a87-4b50-af1a-bd477320d292",
   "metadata": {},
   "outputs": [
    {
     "data": {
      "text/html": [
       "<a href='https://kt.com' target='_blink'>Click</a>\n"
      ],
      "text/plain": [
       "<IPython.core.display.HTML object>"
      ]
     },
     "metadata": {},
     "output_type": "display_data"
    }
   ],
   "source": [
    "%%html\n",
    "<a href='https://kt.com' target='_blink'>Click</a>"
   ]
  },
  {
   "cell_type": "code",
   "execution_count": 14,
   "id": "4e6564cf-3c52-4c24-bc93-c8ca4a3fb219",
   "metadata": {},
   "outputs": [],
   "source": [
    "# img : 이미지를 출력하는 태그"
   ]
  },
  {
   "cell_type": "code",
   "execution_count": 16,
   "id": "854021b8-be03-409c-ab56-900217a66883",
   "metadata": {},
   "outputs": [
    {
     "data": {
      "text/html": [
       "<img src='https://cfm.kt.com/images/v2/layout/gnb-ktlogo.png'>\n"
      ],
      "text/plain": [
       "<IPython.core.display.HTML object>"
      ]
     },
     "metadata": {},
     "output_type": "display_data"
    }
   ],
   "source": [
    "%%html\n",
    "<img src='https://cfm.kt.com/images/v2/layout/gnb-ktlogo.png'>"
   ]
  },
  {
   "cell_type": "code",
   "execution_count": 17,
   "id": "d4cdb685-1e25-4110-a7ce-24022c3d0c12",
   "metadata": {},
   "outputs": [],
   "source": [
    "# iframe : 외부 URL 링크에 해당하는 웹페이지를 출력"
   ]
  },
  {
   "cell_type": "code",
   "execution_count": 19,
   "id": "ba170f03-1894-4405-b199-892b59ff2793",
   "metadata": {
    "collapsed": true,
    "jupyter": {
     "outputs_hidden": true
    },
    "tags": []
   },
   "outputs": [
    {
     "data": {
      "text/html": [
       "<iframe src='https://kt.com' width='100%' height='400px;'>\n"
      ],
      "text/plain": [
       "<IPython.core.display.HTML object>"
      ]
     },
     "metadata": {},
     "output_type": "display_data"
    }
   ],
   "source": [
    "%%html\n",
    "<iframe src='https://kt.com' width='100%' height='400px;'>"
   ]
  },
  {
   "cell_type": "code",
   "execution_count": 20,
   "id": "dc37051a-ad9e-4ba8-a516-f21935d7a724",
   "metadata": {},
   "outputs": [],
   "source": [
    "# div : 레이아웃을 나타내는 태그"
   ]
  },
  {
   "cell_type": "code",
   "execution_count": 22,
   "id": "98671a3d-208a-466c-92f0-131076224208",
   "metadata": {},
   "outputs": [
    {
     "data": {
      "text/html": [
       "<div>\n",
       "    <p>python 1</p>\n",
       "    <p>python 2</p>\n",
       "</div>\n",
       "<div>\n",
       "    <p>python 3</p>\n",
       "</div>\n"
      ],
      "text/plain": [
       "<IPython.core.display.HTML object>"
      ]
     },
     "metadata": {},
     "output_type": "display_data"
    }
   ],
   "source": [
    "%%html\n",
    "<div>\n",
    "    <p>python 1</p>\n",
    "    <p>python 2</p>\n",
    "</div>\n",
    "<div>\n",
    "    <p>python 3</p>\n",
    "</div>"
   ]
  },
  {
   "cell_type": "code",
   "execution_count": 23,
   "id": "5fe9c754-c78a-406f-bd84-1ca538cbd7fd",
   "metadata": {},
   "outputs": [],
   "source": [
    "# table : 행열 데이터를 출력"
   ]
  },
  {
   "cell_type": "code",
   "execution_count": 27,
   "id": "d185542c-fe2c-4cd2-9fc7-628f99ea2048",
   "metadata": {},
   "outputs": [
    {
     "data": {
      "text/html": [
       "<table>\n",
       "    <caption>제목</caption>\n",
       "    <thead>\n",
       "        <tr>\n",
       "            <th>column 1</th>\n",
       "            <th>column 2</th>\n",
       "        </tr>\n",
       "    </thead>\n",
       "    <tbody>\n",
       "        <tr>\n",
       "            <td>data 1</td>\n",
       "            <td>data 2</td>\n",
       "        </tr>\n",
       "        <tr>\n",
       "            <td>data 3</td>\n",
       "            <td>data 4</td>\n",
       "        </tr>\n",
       "    </tbody>\n",
       "</table>\n"
      ],
      "text/plain": [
       "<IPython.core.display.HTML object>"
      ]
     },
     "metadata": {},
     "output_type": "display_data"
    }
   ],
   "source": [
    "%%html\n",
    "<table>\n",
    "    <caption>제목</caption>\n",
    "    <thead>\n",
    "        <tr>\n",
    "            <th>column 1</th>\n",
    "            <th>column 2</th>\n",
    "        </tr>\n",
    "    </thead>\n",
    "    <tbody>\n",
    "        <tr>\n",
    "            <td>data 1</td>\n",
    "            <td>data 2</td>\n",
    "        </tr>\n",
    "        <tr>\n",
    "            <td>data 3</td>\n",
    "            <td>data 4</td>\n",
    "        </tr>\n",
    "    </tbody>\n",
    "</table>"
   ]
  },
  {
   "cell_type": "code",
   "execution_count": 33,
   "id": "9b63d767-aff2-4a19-8d88-f86b910e7f38",
   "metadata": {},
   "outputs": [],
   "source": [
    "# 부동소수점 에러\n",
    "data1, data2= 0.1 , 0.2"
   ]
  },
  {
   "cell_type": "code",
   "execution_count": 35,
   "id": "4f032022-9643-4bba-b532-42c3af749417",
   "metadata": {
    "tags": []
   },
   "outputs": [
    {
     "data": {
      "text/plain": [
       "(0.3, True)"
      ]
     },
     "execution_count": 35,
     "metadata": {},
     "output_type": "execute_result"
    }
   ],
   "source": [
    "# 해결방법 1 : 반올림 사용 : round\n",
    "round(data1 + data2,1), round(data1 + data2, 1) == 0.3"
   ]
  },
  {
   "cell_type": "code",
   "execution_count": 37,
   "id": "06304b91-10d3-44a5-adde-d228c2246688",
   "metadata": {},
   "outputs": [
    {
     "data": {
      "text/plain": [
       "True"
      ]
     },
     "execution_count": 37,
     "metadata": {},
     "output_type": "execute_result"
    }
   ],
   "source": [
    "# 해결방법 2 : 고정소수점 방식으로 연산\n",
    "from decimal import Decimal\n",
    "float(Decimal(str(data1)) + Decimal(str(data2))) ==0.3"
   ]
  },
  {
   "cell_type": "code",
   "execution_count": null,
   "id": "b34252e4-6325-4682-8f70-eafdd13a17e3",
   "metadata": {},
   "outputs": [],
   "source": []
  },
  {
   "cell_type": "code",
   "execution_count": null,
   "id": "093677ab-6b31-4cbc-aec4-fa93817cee20",
   "metadata": {},
   "outputs": [],
   "source": []
  },
  {
   "cell_type": "code",
   "execution_count": null,
   "id": "3eadc752-2627-4af2-902b-2556a92d96d7",
   "metadata": {},
   "outputs": [],
   "source": []
  },
  {
   "cell_type": "code",
   "execution_count": null,
   "id": "26f326e7-cb91-4da2-8c37-ea6035b5d04f",
   "metadata": {},
   "outputs": [],
   "source": []
  }
 ],
 "metadata": {
  "kernelspec": {
   "display_name": "Python 3",
   "language": "python",
   "name": "python3"
  },
  "language_info": {
   "codemirror_mode": {
    "name": "ipython",
    "version": 3
   },
   "file_extension": ".py",
   "mimetype": "text/x-python",
   "name": "python",
   "nbconvert_exporter": "python",
   "pygments_lexer": "ipython3",
   "version": "3.8.8"
  }
 },
 "nbformat": 4,
 "nbformat_minor": 5
}
