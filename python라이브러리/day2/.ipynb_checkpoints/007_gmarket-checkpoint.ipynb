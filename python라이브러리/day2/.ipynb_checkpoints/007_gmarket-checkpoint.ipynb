{
 "cells": [
  {
   "cell_type": "markdown",
   "id": "4fc1f625-a907-4982-a1bc-0349158dc54e",
   "metadata": {},
   "source": [
    "### Gmarket\n",
    "- 베스트 상품 200개 수집"
   ]
  },
  {
   "cell_type": "code",
   "execution_count": 2,
   "id": "b832cde0-b8d6-484c-a8bd-a23c8d4ef8a1",
   "metadata": {},
   "outputs": [],
   "source": [
    "import pandas as pd\n",
    "import requests\n",
    "from bs4 import BeautifulSoup"
   ]
  },
  {
   "cell_type": "code",
   "execution_count": 3,
   "id": "8dd554be-45fa-4077-b71e-4e79879f4fd8",
   "metadata": {},
   "outputs": [],
   "source": [
    "# 1. URL"
   ]
  },
  {
   "cell_type": "code",
   "execution_count": 9,
   "id": "35a6b480-44b2-4249-8e12-fa0dec34f8c9",
   "metadata": {},
   "outputs": [],
   "source": [
    "url = 'http://corners.gmarket.co.kr/Bestsellers'"
   ]
  },
  {
   "cell_type": "code",
   "execution_count": 8,
   "id": "f88bb185-bef2-4d67-abb2-7f9a370bed2f",
   "metadata": {},
   "outputs": [],
   "source": [
    "# 2. request > response : HTML"
   ]
  },
  {
   "cell_type": "code",
   "execution_count": 11,
   "id": "040b45e3-e34e-4538-9c41-c1b636911860",
   "metadata": {},
   "outputs": [
    {
     "data": {
      "text/plain": [
       "<Response [200]>"
      ]
     },
     "execution_count": 11,
     "metadata": {},
     "output_type": "execute_result"
    }
   ],
   "source": [
    "response = requests.get(url)\n",
    "response"
   ]
  },
  {
   "cell_type": "code",
   "execution_count": 12,
   "id": "18c347c5-b76d-4e00-9909-655b917be965",
   "metadata": {},
   "outputs": [
    {
     "data": {
      "text/plain": [
       "'<!DOCTYPE HTML PUBLIC \"-//W3C//DTD HTML 4.01 Transitional//EN\" \"http://www.w3.org/TR/html4/loose.dtd\">\\r\\n<html lang=\"ko\">\\r\\n<head>\\r\\n\\t<title>G마켓 - G마켓 베스트</title>\\r\\n\\t<meta http-equiv=\"X-UA-Compatible\" content=\"IE=edge\" />\\r\\n\\t<meta http-equiv=\"content-type\" content=\"text/html; charset=utf-8\" />\\r\\n\\t<meta ht'"
      ]
     },
     "execution_count": 12,
     "metadata": {},
     "output_type": "execute_result"
    }
   ],
   "source": [
    "response.text[:300]"
   ]
  },
  {
   "cell_type": "code",
   "execution_count": 5,
   "id": "c3ad58ed-1f2a-45d4-8793-53f52e6091c6",
   "metadata": {},
   "outputs": [],
   "source": [
    "# 3. HTML(str) > BeautifulSoup Object"
   ]
  },
  {
   "cell_type": "code",
   "execution_count": 13,
   "id": "30a86d4a-ef80-43dd-9d78-27e20d56d537",
   "metadata": {},
   "outputs": [
    {
     "data": {
      "text/plain": [
       "bs4.BeautifulSoup"
      ]
     },
     "execution_count": 13,
     "metadata": {},
     "output_type": "execute_result"
    }
   ],
   "source": [
    "dom = BeautifulSoup(response.text, 'html.parser')\n",
    "type(dom)"
   ]
  },
  {
   "cell_type": "code",
   "execution_count": 6,
   "id": "e50928b9-af85-4f69-bd31-8a270a35c43b",
   "metadata": {},
   "outputs": [],
   "source": [
    "# 4. BeautifulSoup Object > css-selector > DataFrame"
   ]
  },
  {
   "cell_type": "code",
   "execution_count": 15,
   "id": "2bd166c2-a46a-4d0a-bd60-25f197ad241b",
   "metadata": {},
   "outputs": [
    {
     "data": {
      "text/plain": [
       "200"
      ]
     },
     "execution_count": 15,
     "metadata": {},
     "output_type": "execute_result"
    }
   ],
   "source": [
    "# 200개 상품 엘리먼트 선택\n",
    "elements = dom.select(\"#gBestWrap > div > div:nth-child(5) > div > ul > li\")\n",
    "len(elements)"
   ]
  },
  {
   "cell_type": "code",
   "execution_count": 25,
   "id": "73f7c0f8-fb9a-4277-b7b4-db266ee83f08",
   "metadata": {
    "collapsed": true,
    "jupyter": {
     "outputs_hidden": true
    },
    "tags": []
   },
   "outputs": [
    {
     "data": {
      "text/plain": [
       "<li class=\"first\">\n",
       "<p class=\"no1\" id=\"no1\">1</p>\n",
       "<div class=\"thumb\">\n",
       "<a href=\"http://item.gmarket.co.kr/Item?goodscode=1798110680&amp;ver=637952285272861843\" onclick=\"pdsClickLog('200000680', 'Item', {'ASN': 1, 'goodsCode': '1798110680'});\"><img alt=\"[한상궁김치]한상궁김치 국산 겉절이 2kg 출고당일생산\" class=\"lazy\" data-original=\"//gdimg.gmarket.co.kr/1798110680/still/300?ver=2022080416\" height=\"210\" src=\"//image.gmarket.co.kr/challenge/neo_image/no_image.gif\" width=\"210\"/></a>\n",
       "</div>\n",
       "<!--div class=\"goods-view\">\n",
       "\t\t\t\t\t\t\t\t\t<a href=\"http://minishop.gmarket.co.kr/hansanggungfood\"><span class=\"view\">판매자 다른상품 보기</span>맛있는한상궁</a>\n",
       "\t\t\t\t\t\t\t\t</div-->\n",
       "<a class=\"itemname\" href=\"http://item.gmarket.co.kr/Item?goodscode=1798110680&amp;ver=637952285272861843\" onclick=\"pdsClickLog('200000680', 'Item', {'ASN': 1, 'goodsCode': '1798110680'});\">[한상궁김치]한상궁김치 국산 겉절이 2kg 출고당일생산</a>\n",
       "<div class=\"item_price\">\n",
       "<div class=\"o-price\"><span><span>23,400원</span></span></div>\n",
       "<div class=\"s-price\">\n",
       "<strong><span><span>11,000원</span></span></strong>\n",
       "<span><span class=\"sale\"></span><em>52%</em></span>\n",
       "</div>\n",
       "<div class=\"icon\">\n",
       "<img alt=\"무료배송\" src=\"//pics.gmkt.kr/pc/ko/corner/gbest/ic_freeshipping.gif\"/>\n",
       "</div>\n",
       "</div>\n",
       "</li>"
      ]
     },
     "execution_count": 25,
     "metadata": {},
     "output_type": "execute_result"
    }
   ],
   "source": [
    "element =elements[0]\n",
    "element"
   ]
  },
  {
   "cell_type": "code",
   "execution_count": 27,
   "id": "e03ec5ed-4bc5-4c5b-b015-c7555ca750ac",
   "metadata": {},
   "outputs": [
    {
     "data": {
      "text/plain": [
       "{'title': '[한상궁김치]한상궁김치 국산 겉절이 2kg 출고당일생산',\n",
       " 'o_price': '23,400원',\n",
       " 's_price': '11,000원',\n",
       " 'img': 'http://gdimg.gmarket.co.kr/1798110680/still/300?ver=2022080416'}"
      ]
     },
     "execution_count": 27,
     "metadata": {},
     "output_type": "execute_result"
    }
   ],
   "source": [
    "data = {\n",
    "   'title': element.select_one('.itemname').text,\n",
    "    'o_price': element.select_one('.o-price').text,\n",
    "    's_price': element.select_one('.s-price > strong').text,\n",
    "    'img': 'http:'+element.select_one('img').get('data-original'),\n",
    "}\n",
    "data"
   ]
  },
  {
   "cell_type": "code",
   "execution_count": 28,
   "id": "b2d97356-c5a7-497b-a505-1394939ddc4b",
   "metadata": {},
   "outputs": [
    {
     "data": {
      "text/plain": [
       "[{'title': '[한상궁김치]한상궁김치 국산 겉절이 2kg 출고당일생산',\n",
       "  'o_price': '23,400원',\n",
       "  's_price': '11,000원',\n",
       "  'img': 'http://gdimg.gmarket.co.kr/1798110680/still/300?ver=2022080416'},\n",
       " {'title': '[광동]아이스웨일 레몬라임 탄산수 500ml 40pet/음료/음료수',\n",
       "  'o_price': '17,300원',\n",
       "  's_price': '13,900원',\n",
       "  'img': 'http://gdimg.gmarket.co.kr/2355814801/still/300?ver=2022080416'}]"
      ]
     },
     "execution_count": 28,
     "metadata": {},
     "output_type": "execute_result"
    }
   ],
   "source": [
    "items=[]\n",
    "for element in elements:\n",
    "    data = {\n",
    "   'title': element.select_one('.itemname').text,\n",
    "    'o_price': element.select_one('.o-price').text,\n",
    "    's_price': element.select_one('.s-price > strong').text,\n",
    "    'img': 'http:'+element.select_one('img').get('data-original'),\n",
    "    }\n",
    "    items.append(data)\n",
    "items[:2]"
   ]
  },
  {
   "cell_type": "code",
   "execution_count": 30,
   "id": "82f4283b-30f9-4544-8cb6-56349d07e03a",
   "metadata": {},
   "outputs": [
    {
     "data": {
      "text/html": [
       "<div>\n",
       "<style scoped>\n",
       "    .dataframe tbody tr th:only-of-type {\n",
       "        vertical-align: middle;\n",
       "    }\n",
       "\n",
       "    .dataframe tbody tr th {\n",
       "        vertical-align: top;\n",
       "    }\n",
       "\n",
       "    .dataframe thead th {\n",
       "        text-align: right;\n",
       "    }\n",
       "</style>\n",
       "<table border=\"1\" class=\"dataframe\">\n",
       "  <thead>\n",
       "    <tr style=\"text-align: right;\">\n",
       "      <th></th>\n",
       "      <th>title</th>\n",
       "      <th>o_price</th>\n",
       "      <th>s_price</th>\n",
       "      <th>img</th>\n",
       "    </tr>\n",
       "  </thead>\n",
       "  <tbody>\n",
       "    <tr>\n",
       "      <th>0</th>\n",
       "      <td>[한상궁김치]한상궁김치 국산 겉절이 2kg 출고당일생산</td>\n",
       "      <td>23,400원</td>\n",
       "      <td>11,000원</td>\n",
       "      <td>http://gdimg.gmarket.co.kr/1798110680/still/30...</td>\n",
       "    </tr>\n",
       "    <tr>\n",
       "      <th>1</th>\n",
       "      <td>[광동]아이스웨일 레몬라임 탄산수 500ml 40pet/음료/음료수</td>\n",
       "      <td>17,300원</td>\n",
       "      <td>13,900원</td>\n",
       "      <td>http://gdimg.gmarket.co.kr/2355814801/still/30...</td>\n",
       "    </tr>\n",
       "    <tr>\n",
       "      <th>2</th>\n",
       "      <td>[바디스토리]남성 누디5매 냉감 쿨 드로즈 남자 아이스 사각 팬티 / 무료반품+10...</td>\n",
       "      <td>39,600원</td>\n",
       "      <td>11,900원</td>\n",
       "      <td>http://gdimg.gmarket.co.kr/2520900839/still/30...</td>\n",
       "    </tr>\n",
       "    <tr>\n",
       "      <th>3</th>\n",
       "      <td>(쌀가게) (광주신세계)[주문폭증으로 순차적 출고 예정] [2021년 햅쌀] 쌀가게...</td>\n",
       "      <td>33,900원</td>\n",
       "      <td>28,140원</td>\n",
       "      <td>http://gdimg.gmarket.co.kr/2443817026/still/30...</td>\n",
       "    </tr>\n",
       "    <tr>\n",
       "      <th>4</th>\n",
       "      <td>[이지바이](무료반품)균일6900원/남녀 쿨론티셔츠/반바지/추리닝</td>\n",
       "      <td>23,000원</td>\n",
       "      <td>6,900원</td>\n",
       "      <td>http://gdimg.gmarket.co.kr/1494979529/still/30...</td>\n",
       "    </tr>\n",
       "    <tr>\n",
       "      <th>...</th>\n",
       "      <td>...</td>\n",
       "      <td>...</td>\n",
       "      <td>...</td>\n",
       "      <td>...</td>\n",
       "    </tr>\n",
       "    <tr>\n",
       "      <th>195</th>\n",
       "      <td>김나운 직화 떡갈비 26팩 (총 26장)</td>\n",
       "      <td>25,900원</td>\n",
       "      <td>24,470원</td>\n",
       "      <td>http://gdimg.gmarket.co.kr/1926564808/still/30...</td>\n",
       "    </tr>\n",
       "    <tr>\n",
       "      <th>196</th>\n",
       "      <td>[동아제약]동아) 박카스D 100ml x 100병 자양강장</td>\n",
       "      <td></td>\n",
       "      <td>67,000원</td>\n",
       "      <td>http://gdimg.gmarket.co.kr/1626072139/still/30...</td>\n",
       "    </tr>\n",
       "    <tr>\n",
       "      <th>197</th>\n",
       "      <td>헬스브로 칼슘 마그네슘 아연 비타민D 12개월(360정)</td>\n",
       "      <td></td>\n",
       "      <td>30,300원</td>\n",
       "      <td>http://gdimg.gmarket.co.kr/1942509711/still/30...</td>\n",
       "    </tr>\n",
       "    <tr>\n",
       "      <th>198</th>\n",
       "      <td>주니어김영사 놓지 마 어휘 한자어 1 2 3 4 번 전4권 세트</td>\n",
       "      <td>81,000원</td>\n",
       "      <td>55,200원</td>\n",
       "      <td>http://gdimg.gmarket.co.kr/2298871614/still/30...</td>\n",
       "    </tr>\n",
       "    <tr>\n",
       "      <th>199</th>\n",
       "      <td>김치메밀전병900gx2봉1.8kg/만두 간식 메밀 2봉/HACCP/</td>\n",
       "      <td>19,900원</td>\n",
       "      <td>12,500원</td>\n",
       "      <td>http://gdimg.gmarket.co.kr/1521852173/still/30...</td>\n",
       "    </tr>\n",
       "  </tbody>\n",
       "</table>\n",
       "<p>200 rows × 4 columns</p>\n",
       "</div>"
      ],
      "text/plain": [
       "                                                 title  o_price  s_price  \\\n",
       "0                       [한상궁김치]한상궁김치 국산 겉절이 2kg 출고당일생산  23,400원  11,000원   \n",
       "1                [광동]아이스웨일 레몬라임 탄산수 500ml 40pet/음료/음료수  17,300원  13,900원   \n",
       "2    [바디스토리]남성 누디5매 냉감 쿨 드로즈 남자 아이스 사각 팬티 / 무료반품+10...  39,600원  11,900원   \n",
       "3    (쌀가게) (광주신세계)[주문폭증으로 순차적 출고 예정] [2021년 햅쌀] 쌀가게...  33,900원  28,140원   \n",
       "4                 [이지바이](무료반품)균일6900원/남녀 쿨론티셔츠/반바지/추리닝  23,000원   6,900원   \n",
       "..                                                 ...      ...      ...   \n",
       "195                             김나운 직화 떡갈비 26팩 (총 26장)  25,900원  24,470원   \n",
       "196                   [동아제약]동아) 박카스D 100ml x 100병 자양강장           67,000원   \n",
       "197                    헬스브로 칼슘 마그네슘 아연 비타민D 12개월(360정)           30,300원   \n",
       "198                주니어김영사 놓지 마 어휘 한자어 1 2 3 4 번 전4권 세트  81,000원  55,200원   \n",
       "199              김치메밀전병900gx2봉1.8kg/만두 간식 메밀 2봉/HACCP/  19,900원  12,500원   \n",
       "\n",
       "                                                   img  \n",
       "0    http://gdimg.gmarket.co.kr/1798110680/still/30...  \n",
       "1    http://gdimg.gmarket.co.kr/2355814801/still/30...  \n",
       "2    http://gdimg.gmarket.co.kr/2520900839/still/30...  \n",
       "3    http://gdimg.gmarket.co.kr/2443817026/still/30...  \n",
       "4    http://gdimg.gmarket.co.kr/1494979529/still/30...  \n",
       "..                                                 ...  \n",
       "195  http://gdimg.gmarket.co.kr/1926564808/still/30...  \n",
       "196  http://gdimg.gmarket.co.kr/1626072139/still/30...  \n",
       "197  http://gdimg.gmarket.co.kr/1942509711/still/30...  \n",
       "198  http://gdimg.gmarket.co.kr/2298871614/still/30...  \n",
       "199  http://gdimg.gmarket.co.kr/1521852173/still/30...  \n",
       "\n",
       "[200 rows x 4 columns]"
      ]
     },
     "execution_count": 30,
     "metadata": {},
     "output_type": "execute_result"
    }
   ],
   "source": [
    "df = pd.DataFrame(items)\n",
    "df"
   ]
  },
  {
   "cell_type": "code",
   "execution_count": 31,
   "id": "954febfc-3232-4425-8631-51e9e2f4ad9d",
   "metadata": {},
   "outputs": [],
   "source": [
    "# summary\n",
    "# 웹 페이지의 종류\n",
    "# - 동적 페이지 : URL 변경 없이 웹 페이지 데이터 변경 : JSON : API\n",
    "# - 정적 페이지 : URL 변경 해서 웹 페이지 데이터 변경 : HTML : BeatifulSoup(css selector)"
   ]
  },
  {
   "cell_type": "code",
   "execution_count": null,
   "id": "6593f3ed-698f-4605-8633-71808968646b",
   "metadata": {},
   "outputs": [],
   "source": [
    "# 실습\n",
    "# naver api : 검색어 트랜드\n",
    "# zigbang : 원룸 데이터 수집\n",
    "# daum exchange : headers(user-agent, referer)\n",
    "# html, css-selector\n",
    "# naver relational keyword\n",
    "# gmarket items"
   ]
  },
  {
   "cell_type": "code",
   "execution_count": null,
   "id": "60dc9139-4670-463a-9abf-1753c743f1ff",
   "metadata": {},
   "outputs": [],
   "source": [
    "# crawling images\n",
    "# crawling selenium\n",
    "# xpath\n",
    "# python web crawling f.w. : scrapy"
   ]
  },
  {
   "cell_type": "code",
   "execution_count": null,
   "id": "0656c10c-77c7-4eb3-95f0-5fa5beb382cd",
   "metadata": {},
   "outputs": [],
   "source": []
  },
  {
   "cell_type": "code",
   "execution_count": null,
   "id": "eed2c8ea-7ceb-4b9b-9d0e-f1e92d9cc417",
   "metadata": {},
   "outputs": [],
   "source": []
  },
  {
   "cell_type": "code",
   "execution_count": null,
   "id": "c9bfc702-5da1-4bc2-94b3-2ff4b5bafa71",
   "metadata": {},
   "outputs": [],
   "source": []
  }
 ],
 "metadata": {
  "kernelspec": {
   "display_name": "Python 3",
   "language": "python",
   "name": "python3"
  },
  "language_info": {
   "codemirror_mode": {
    "name": "ipython",
    "version": 3
   },
   "file_extension": ".py",
   "mimetype": "text/x-python",
   "name": "python",
   "nbconvert_exporter": "python",
   "pygments_lexer": "ipython3",
   "version": "3.8.8"
  }
 },
 "nbformat": 4,
 "nbformat_minor": 5
}
