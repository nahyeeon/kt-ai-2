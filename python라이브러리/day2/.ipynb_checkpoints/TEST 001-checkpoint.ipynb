{
 "cells": [
  {
   "cell_type": "code",
   "execution_count": 1,
   "id": "86f3b2bc-1f3f-40d9-b4da-69812abd7e63",
   "metadata": {},
   "outputs": [],
   "source": [
    "import pandas as pd\n",
    "import requests\n",
    "from bs4 import BeautifulSoup"
   ]
  },
  {
   "cell_type": "code",
   "execution_count": 2,
   "id": "5d40da89-212d-4739-a94a-26a5d7bdc1f0",
   "metadata": {},
   "outputs": [],
   "source": [
    "url = 'https://www.musinsa.com/ranking/best?u_cat_cd=001'"
   ]
  },
  {
   "cell_type": "code",
   "execution_count": 3,
   "id": "b73ee930-76a2-476a-aa06-684c1f692113",
   "metadata": {},
   "outputs": [],
   "source": [
    "response = requests.get(url)"
   ]
  },
  {
   "cell_type": "code",
   "execution_count": 4,
   "id": "53d84372-b809-4cf1-b3c7-88ab322d2a01",
   "metadata": {},
   "outputs": [
    {
     "data": {
      "text/plain": [
       "<Response [200]>"
      ]
     },
     "execution_count": 4,
     "metadata": {},
     "output_type": "execute_result"
    }
   ],
   "source": [
    "response"
   ]
  },
  {
   "cell_type": "code",
   "execution_count": 5,
   "id": "73a127c7-5bf5-4dea-8601-f9df4dee50d8",
   "metadata": {},
   "outputs": [
    {
     "data": {
      "text/plain": [
       "'<!DOCTYPE html>\\n<html lang=\"ko\">\\n    <head>\\n        <title>상품 랭킹 | 무신사 스토어</title>\\n        \\n    \\n\\n        \\n\\n    <!-- Google Tag Manager -->\\n    <script>(function(w,d,s,l,i){w[l]=w[l]||[];w[l].push({\\'gtm.start\\':\\n            new Date().getTime(),event:\\'gtm.js\\'});var f=d.getElementsByTagName(s)[0],\\n   '"
      ]
     },
     "execution_count": 5,
     "metadata": {},
     "output_type": "execute_result"
    }
   ],
   "source": [
    "response.text[:300]"
   ]
  },
  {
   "cell_type": "code",
   "execution_count": 6,
   "id": "2df7b8ed-ed8c-4f66-ad9c-8388150c987b",
   "metadata": {},
   "outputs": [
    {
     "data": {
      "text/plain": [
       "bs4.BeautifulSoup"
      ]
     },
     "execution_count": 6,
     "metadata": {},
     "output_type": "execute_result"
    }
   ],
   "source": [
    "dom= BeautifulSoup(response.text, 'html.parser')\n",
    "type(dom)"
   ]
  },
  {
   "cell_type": "code",
   "execution_count": 7,
   "id": "0a4b4ebc-cee0-46ad-8f53-c34b0de6f4f2",
   "metadata": {},
   "outputs": [
    {
     "data": {
      "text/plain": [
       "90"
      ]
     },
     "execution_count": 7,
     "metadata": {},
     "output_type": "execute_result"
    }
   ],
   "source": [
    "elements = dom.select('#goodsRankList > li')\n",
    "len(elements)"
   ]
  },
  {
   "cell_type": "code",
   "execution_count": 8,
   "id": "5642e450-9d33-4384-a19c-b2cd16ec8d3e",
   "metadata": {},
   "outputs": [],
   "source": [
    "element= elements[0]"
   ]
  },
  {
   "cell_type": "code",
   "execution_count": 9,
   "id": "81087579-3662-404a-9db8-c3d5f7eb1dc5",
   "metadata": {
    "tags": []
   },
   "outputs": [
    {
     "data": {
      "text/plain": [
       "<li class=\"li_box\" data-goods-no=\"1848166\">\n",
       "<p class=\"n-label label-default txt_num_rank\">\n",
       "            1위\n",
       "            \n",
       "        </p>\n",
       "<div class=\"box-icon-right\">\n",
       "</div>\n",
       "<div class=\"icon_group\">\n",
       "<ul>\n",
       "<li class=\"icon_man sight_out\" title=\"남성\">남성</li>\n",
       "<li class=\"icon_woman sight_out\" title=\"여성\">여성</li>\n",
       "</ul>\n",
       "</div>\n",
       "<div class=\"li_inner\">\n",
       "<div class=\"list_img\">\n",
       "<a class=\"img-block\" href=\"https://www.musinsa.com/app/goods/1848166?loc=goods_rank\">\n",
       "<img alt=\"커버낫(COVERNAT) 에센셜 쿨 코튼 2-PACK 티셔츠\" class=\"lazyload lazy\" data-original=\"https://image.msscdn.net/images/goods_img/20210316/1848166/1848166_11_125.jpg\" src=\"https://image.msscdn.net/0.gif\"/>\n",
       "</a>\n",
       "</div>\n",
       "<div class=\"article_info\">\n",
       "<p class=\"item_title\">\n",
       "<a href=\"https://www.musinsa.com/brands/covernat\">커버낫</a>\n",
       "</p>\n",
       "<p class=\"list_info\">\n",
       "<a href=\"https://www.musinsa.com/app/goods/1848166?loc=goods_rank\" title=\"에센셜 쿨 코튼 2-PACK 티셔츠\">\n",
       "                        \n",
       "                        \n",
       "                        \n",
       "                        \n",
       "                        에센셜 쿨 코튼 2-PACK 티셔츠\n",
       "                    </a>\n",
       "</p>\n",
       "<p class=\"price\">\n",
       "<del>49,000원</del>\n",
       "                    39,200원\n",
       "                </p>\n",
       "<p class=\"mu-icon mu-icon-coupon\">\n",
       "<span class=\"txt_discount_price\">-3,920원</span>\n",
       "</p>\n",
       "<p class=\"membership\" onclick=\"viewMemberPrice2('sPrice_1848166', '1848166', '0');\">\n",
       "                    MEMBERSHIP PRICE<span class=\"fr\">▼</span>\n",
       "</p>\n",
       "<div class=\"member_price\" id=\"sPrice_1848166\" style=\"display:none; z-index: 9999;\">\n",
       "<p>무신사 회원가\n",
       "                        <span class=\"fr\">\n",
       "<a href=\"javascript:viewMemberPrice2('sPrice_1848166', '1848166', '0');\">X</a>\n",
       "</span>\n",
       "</p>\n",
       "<ul>\n",
       "<li class=\"pertinent\" style=\"border-bottom:1px solid #ddd;\">\n",
       "<span>&gt;</span>\n",
       "                            비회원<span class=\"txt_price_member\">39,200원</span>\n",
       "</li>\n",
       "</ul>\n",
       "</div>\n",
       "<p class=\"point\">\n",
       "<span class=\"img-score\">\n",
       "<span class=\"bar\" style=\"width: 97.0%\"></span>\n",
       "</span>\n",
       "<span class=\"count\">33,088</span>\n",
       "</p>\n",
       "<p class=\"txt_cnt_like goods_like_1848166 hide\" id=\"like_1848166\">\n",
       "<img alt=\"좋아요\" src=\"https://image.msscdn.net/skin/musinsa/images/icon_like_small_on.png\"/>\n",
       "<span name=\"count\"></span>\n",
       "</p>\n",
       "</div>\n",
       "</div>\n",
       "<div class=\"option\">\n",
       "<p class=\"option_btn\">\n",
       "<a href=\"#pol1848166\" onclick=\"viewOption3(this, '1848166', '0');\">OPTION ▼</a>\n",
       "</p>\n",
       "<div class=\"list_pol_goods\" id=\"#pol1848166\" style=\"display:none;\"></div>\n",
       "</div>\n",
       "</li>"
      ]
     },
     "execution_count": 9,
     "metadata": {},
     "output_type": "execute_result"
    }
   ],
   "source": [
    "element"
   ]
  },
  {
   "cell_type": "code",
   "execution_count": null,
   "id": "3620b0b5-13de-4c56-bf6f-413a1030fcd7",
   "metadata": {},
   "outputs": [],
   "source": [
    "data = {\n",
    "   'data-goods-no': element.select_one([value='data-goods-no']).text,\n",
    "    'o_price': element.select_one('.o-price').text,\n",
    "    's_price': element.select_one('.s-price > strong').text,\n",
    "    'img': 'http:'+element.select_one('img').get('data-original'),\n",
    "}\n",
    "data"
   ]
  },
  {
   "cell_type": "code",
   "execution_count": 17,
   "id": "8be19189-63ad-4757-94d8-3e6f2e09f644",
   "metadata": {},
   "outputs": [],
   "source": [
    "aa = element.select_one('li').get('data-goods-no')\n",
    "aa"
   ]
  },
  {
   "cell_type": "code",
   "execution_count": null,
   "id": "b1174ec6-7853-4be5-9594-65ab58b43ea4",
   "metadata": {},
   "outputs": [],
   "source": []
  }
 ],
 "metadata": {
  "kernelspec": {
   "display_name": "Python 3",
   "language": "python",
   "name": "python3"
  },
  "language_info": {
   "codemirror_mode": {
    "name": "ipython",
    "version": 3
   },
   "file_extension": ".py",
   "mimetype": "text/x-python",
   "name": "python",
   "nbconvert_exporter": "python",
   "pygments_lexer": "ipython3",
   "version": "3.8.8"
  }
 },
 "nbformat": 4,
 "nbformat_minor": 5
}
