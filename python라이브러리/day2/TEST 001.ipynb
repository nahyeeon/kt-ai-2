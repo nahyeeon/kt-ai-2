{
 "cells": [
  {
   "cell_type": "code",
   "execution_count": 1,
   "id": "86f3b2bc-1f3f-40d9-b4da-69812abd7e63",
   "metadata": {},
   "outputs": [],
   "source": [
    "import pandas as pd\n",
    "import requests\n",
    "from bs4 import BeautifulSoup"
   ]
  },
  {
   "cell_type": "code",
   "execution_count": 2,
   "id": "5d40da89-212d-4739-a94a-26a5d7bdc1f0",
   "metadata": {},
   "outputs": [],
   "source": [
    "url = 'https://www.musinsa.com/ranking/best?u_cat_cd=001'"
   ]
  },
  {
   "cell_type": "code",
   "execution_count": 3,
   "id": "b73ee930-76a2-476a-aa06-684c1f692113",
   "metadata": {},
   "outputs": [],
   "source": [
    "response = requests.get(url)"
   ]
  },
  {
   "cell_type": "code",
   "execution_count": 4,
   "id": "53d84372-b809-4cf1-b3c7-88ab322d2a01",
   "metadata": {},
   "outputs": [
    {
     "data": {
      "text/plain": [
       "<Response [200]>"
      ]
     },
     "execution_count": 4,
     "metadata": {},
     "output_type": "execute_result"
    }
   ],
   "source": [
    "response"
   ]
  },
  {
   "cell_type": "code",
   "execution_count": 5,
   "id": "73a127c7-5bf5-4dea-8601-f9df4dee50d8",
   "metadata": {},
   "outputs": [
    {
     "data": {
      "text/plain": [
       "'<!DOCTYPE html>\\n<html lang=\"ko\">\\n    <head>\\n        <title>상품 랭킹 | 무신사 스토어</title>\\n        \\n    \\n\\n        \\n\\n    <!-- Google Tag Manager -->\\n    <script>(function(w,d,s,l,i){w[l]=w[l]||[];w[l].push({\\'gtm.start\\':\\n            new Date().getTime(),event:\\'gtm.js\\'});var f=d.getElementsByTagName(s)[0],\\n   '"
      ]
     },
     "execution_count": 5,
     "metadata": {},
     "output_type": "execute_result"
    }
   ],
   "source": [
    "response.text[:300]"
   ]
  },
  {
   "cell_type": "code",
   "execution_count": 6,
   "id": "2df7b8ed-ed8c-4f66-ad9c-8388150c987b",
   "metadata": {},
   "outputs": [
    {
     "data": {
      "text/plain": [
       "bs4.BeautifulSoup"
      ]
     },
     "execution_count": 6,
     "metadata": {},
     "output_type": "execute_result"
    }
   ],
   "source": [
    "dom= BeautifulSoup(response.text, 'html.parser')\n",
    "type(dom)"
   ]
  },
  {
   "cell_type": "code",
   "execution_count": 7,
   "id": "0a4b4ebc-cee0-46ad-8f53-c34b0de6f4f2",
   "metadata": {},
   "outputs": [
    {
     "data": {
      "text/plain": [
       "90"
      ]
     },
     "execution_count": 7,
     "metadata": {},
     "output_type": "execute_result"
    }
   ],
   "source": [
    "elements = dom.select('#goodsRankList > li')\n",
    "len(elements)"
   ]
  },
  {
   "cell_type": "code",
   "execution_count": 8,
   "id": "5642e450-9d33-4384-a19c-b2cd16ec8d3e",
   "metadata": {},
   "outputs": [],
   "source": [
    "element= elements[0]"
   ]
  },
  {
   "cell_type": "code",
   "execution_count": 21,
   "id": "81087579-3662-404a-9db8-c3d5f7eb1dc5",
   "metadata": {
    "collapsed": true,
    "jupyter": {
     "outputs_hidden": true
    },
    "tags": []
   },
   "outputs": [
    {
     "data": {
      "text/plain": [
       "<li class=\"li_box\" data-goods-no=\"1848166\">\n",
       "<p class=\"n-label label-default txt_num_rank\">\n",
       "            1위\n",
       "            \n",
       "        </p>\n",
       "<div class=\"box-icon-right\">\n",
       "</div>\n",
       "<div class=\"icon_group\">\n",
       "<ul>\n",
       "<li class=\"icon_man sight_out\" title=\"남성\">남성</li>\n",
       "<li class=\"icon_woman sight_out\" title=\"여성\">여성</li>\n",
       "</ul>\n",
       "</div>\n",
       "<div class=\"li_inner\">\n",
       "<div class=\"list_img\">\n",
       "<a class=\"img-block\" href=\"https://www.musinsa.com/app/goods/1848166?loc=goods_rank\">\n",
       "<img alt=\"커버낫(COVERNAT) 에센셜 쿨 코튼 2-PACK 티셔츠\" class=\"lazyload lazy\" data-original=\"https://image.msscdn.net/images/goods_img/20210316/1848166/1848166_11_125.jpg\" src=\"https://image.msscdn.net/0.gif\"/>\n",
       "</a>\n",
       "</div>\n",
       "<div class=\"article_info\">\n",
       "<p class=\"item_title\">\n",
       "<a href=\"https://www.musinsa.com/brands/covernat\">커버낫</a>\n",
       "</p>\n",
       "<p class=\"list_info\">\n",
       "<a href=\"https://www.musinsa.com/app/goods/1848166?loc=goods_rank\" title=\"에센셜 쿨 코튼 2-PACK 티셔츠\">\n",
       "                        \n",
       "                        \n",
       "                        \n",
       "                        \n",
       "                        에센셜 쿨 코튼 2-PACK 티셔츠\n",
       "                    </a>\n",
       "</p>\n",
       "<p class=\"price\">\n",
       "<del>49,000원</del>\n",
       "                    39,200원\n",
       "                </p>\n",
       "<p class=\"mu-icon mu-icon-coupon\">\n",
       "<span class=\"txt_discount_price\">-3,920원</span>\n",
       "</p>\n",
       "<p class=\"membership\" onclick=\"viewMemberPrice2('sPrice_1848166', '1848166', '0');\">\n",
       "                    MEMBERSHIP PRICE<span class=\"fr\">▼</span>\n",
       "</p>\n",
       "<div class=\"member_price\" id=\"sPrice_1848166\" style=\"display:none; z-index: 9999;\">\n",
       "<p>무신사 회원가\n",
       "                        <span class=\"fr\">\n",
       "<a href=\"javascript:viewMemberPrice2('sPrice_1848166', '1848166', '0');\">X</a>\n",
       "</span>\n",
       "</p>\n",
       "<ul>\n",
       "<li class=\"pertinent\" style=\"border-bottom:1px solid #ddd;\">\n",
       "<span>&gt;</span>\n",
       "                            비회원<span class=\"txt_price_member\">39,200원</span>\n",
       "</li>\n",
       "</ul>\n",
       "</div>\n",
       "<p class=\"point\">\n",
       "<span class=\"img-score\">\n",
       "<span class=\"bar\" style=\"width: 97.0%\"></span>\n",
       "</span>\n",
       "<span class=\"count\">33,088</span>\n",
       "</p>\n",
       "<p class=\"txt_cnt_like goods_like_1848166 hide\" id=\"like_1848166\">\n",
       "<img alt=\"좋아요\" src=\"https://image.msscdn.net/skin/musinsa/images/icon_like_small_on.png\"/>\n",
       "<span name=\"count\"></span>\n",
       "</p>\n",
       "</div>\n",
       "</div>\n",
       "<div class=\"option\">\n",
       "<p class=\"option_btn\">\n",
       "<a href=\"#pol1848166\" onclick=\"viewOption3(this, '1848166', '0');\">OPTION ▼</a>\n",
       "</p>\n",
       "<div class=\"list_pol_goods\" id=\"#pol1848166\" style=\"display:none;\"></div>\n",
       "</div>\n",
       "</li>"
      ]
     },
     "execution_count": 21,
     "metadata": {},
     "output_type": "execute_result"
    }
   ],
   "source": [
    "element"
   ]
  },
  {
   "cell_type": "code",
   "execution_count": 60,
   "id": "3620b0b5-13de-4c56-bf6f-413a1030fcd7",
   "metadata": {},
   "outputs": [
    {
     "data": {
      "text/plain": [
       "{'goods_no': '1848166',\n",
       " 'goods_name': '\\n                        \\n                        \\n                        \\n                        \\n                        에센셜 쿨 코튼 2-PACK 티셔츠\\n                    ',\n",
       " 'img': 'http:https://image.msscdn.net/images/goods_img/20210316/1848166/1848166_11_125.jpg'}"
      ]
     },
     "execution_count": 60,
     "metadata": {},
     "output_type": "execute_result"
    }
   ],
   "source": [
    "data = {\n",
    "   'goods_no': element['data-goods-no'],\n",
    "    'goods_name':  element.select_one('.list_info > a').text,\n",
    "    'img': 'http:'+element.select_one('img').get('data-original'),\n",
    "}\n",
    "data"
   ]
  },
  {
   "cell_type": "code",
   "execution_count": 59,
   "id": "8be19189-63ad-4757-94d8-3e6f2e09f644",
   "metadata": {},
   "outputs": [
    {
     "name": "stdout",
     "output_type": "stream",
     "text": [
      "\n",
      "49,000원\n",
      "                    39,200원\n",
      "                \n"
     ]
    }
   ],
   "source": [
    "aa = element.select_one('.price').text\n",
    "print(aa)\n"
   ]
  },
  {
   "cell_type": "code",
   "execution_count": 61,
   "id": "df8e1196-9c58-4c59-9a01-290fc9efb4f3",
   "metadata": {},
   "outputs": [
    {
     "data": {
      "text/plain": [
       "[{'goods_no': '1848166',\n",
       "  'goods_name': '\\n                        \\n                        \\n                        \\n                        \\n                        에센셜 쿨 코튼 2-PACK 티셔츠\\n                    ',\n",
       "  'img': 'http:https://image.msscdn.net/images/goods_img/20210316/1848166/1848166_11_125.jpg'},\n",
       " {'goods_no': '2024224',\n",
       "  'goods_name': '\\n                        \\n                        \\n                        \\n                        \\n                        스티브 보이핏 오버셔츠 WHYAC4711U\\n                    ',\n",
       "  'img': 'http:https://image.msscdn.net/images/goods_img/20210708/2024224/2024224_13_125.jpg'}]"
      ]
     },
     "execution_count": 61,
     "metadata": {},
     "output_type": "execute_result"
    }
   ],
   "source": [
    "items=[]\n",
    "for element in elements:\n",
    "    data = {\n",
    "       'goods_no': element['data-goods-no'],\n",
    "        'goods_name':  element.select_one('.list_info > a').text,\n",
    "        'img': 'http:'+element.select_one('img').get('data-original'),\n",
    "    }\n",
    "    items.append(data)\n",
    "items[:2]"
   ]
  },
  {
   "cell_type": "code",
   "execution_count": 62,
   "id": "a35a6277-5b3b-4825-8ce1-e273e7df8f1c",
   "metadata": {},
   "outputs": [],
   "source": [
    "df = pd.DataFrame(items)"
   ]
  },
  {
   "cell_type": "code",
   "execution_count": 63,
   "id": "c6b5b2a5-a39f-4915-9d24-f997c0b67dfa",
   "metadata": {},
   "outputs": [
    {
     "data": {
      "text/html": [
       "<div>\n",
       "<style scoped>\n",
       "    .dataframe tbody tr th:only-of-type {\n",
       "        vertical-align: middle;\n",
       "    }\n",
       "\n",
       "    .dataframe tbody tr th {\n",
       "        vertical-align: top;\n",
       "    }\n",
       "\n",
       "    .dataframe thead th {\n",
       "        text-align: right;\n",
       "    }\n",
       "</style>\n",
       "<table border=\"1\" class=\"dataframe\">\n",
       "  <thead>\n",
       "    <tr style=\"text-align: right;\">\n",
       "      <th></th>\n",
       "      <th>goods_no</th>\n",
       "      <th>goods_name</th>\n",
       "      <th>img</th>\n",
       "    </tr>\n",
       "  </thead>\n",
       "  <tbody>\n",
       "    <tr>\n",
       "      <th>0</th>\n",
       "      <td>1848166</td>\n",
       "      <td>\\n                        \\n                  ...</td>\n",
       "      <td>http:https://image.msscdn.net/images/goods_img...</td>\n",
       "    </tr>\n",
       "    <tr>\n",
       "      <th>1</th>\n",
       "      <td>2024224</td>\n",
       "      <td>\\n                        \\n                  ...</td>\n",
       "      <td>http:https://image.msscdn.net/images/goods_img...</td>\n",
       "    </tr>\n",
       "    <tr>\n",
       "      <th>2</th>\n",
       "      <td>2660728</td>\n",
       "      <td>\\n                        \\n                  ...</td>\n",
       "      <td>http:https://image.msscdn.net/images/goods_img...</td>\n",
       "    </tr>\n",
       "    <tr>\n",
       "      <th>3</th>\n",
       "      <td>1921901</td>\n",
       "      <td>\\n                        \\n                  ...</td>\n",
       "      <td>http:https://image.msscdn.net/images/goods_img...</td>\n",
       "    </tr>\n",
       "    <tr>\n",
       "      <th>4</th>\n",
       "      <td>2552870</td>\n",
       "      <td>\\n                        \\n                  ...</td>\n",
       "      <td>http:https://image.msscdn.net/images/goods_img...</td>\n",
       "    </tr>\n",
       "    <tr>\n",
       "      <th>...</th>\n",
       "      <td>...</td>\n",
       "      <td>...</td>\n",
       "      <td>...</td>\n",
       "    </tr>\n",
       "    <tr>\n",
       "      <th>85</th>\n",
       "      <td>1482292</td>\n",
       "      <td>\\n8 / 5 배송\\n                        \\n        ...</td>\n",
       "      <td>http:https://image.msscdn.net/images/goods_img...</td>\n",
       "    </tr>\n",
       "    <tr>\n",
       "      <th>86</th>\n",
       "      <td>2406940</td>\n",
       "      <td>\\n                        \\n                  ...</td>\n",
       "      <td>http:https://image.msscdn.net/images/goods_img...</td>\n",
       "    </tr>\n",
       "    <tr>\n",
       "      <th>87</th>\n",
       "      <td>1976299</td>\n",
       "      <td>\\n                        \\n                  ...</td>\n",
       "      <td>http:https://image.msscdn.net/images/goods_img...</td>\n",
       "    </tr>\n",
       "    <tr>\n",
       "      <th>88</th>\n",
       "      <td>1827196</td>\n",
       "      <td>\\n                        \\n                  ...</td>\n",
       "      <td>http:https://image.msscdn.net/images/goods_img...</td>\n",
       "    </tr>\n",
       "    <tr>\n",
       "      <th>89</th>\n",
       "      <td>2409398</td>\n",
       "      <td>\\n                        \\n                  ...</td>\n",
       "      <td>http:https://image.msscdn.net/images/goods_img...</td>\n",
       "    </tr>\n",
       "  </tbody>\n",
       "</table>\n",
       "<p>90 rows × 3 columns</p>\n",
       "</div>"
      ],
      "text/plain": [
       "   goods_no                                         goods_name  \\\n",
       "0   1848166  \\n                        \\n                  ...   \n",
       "1   2024224  \\n                        \\n                  ...   \n",
       "2   2660728  \\n                        \\n                  ...   \n",
       "3   1921901  \\n                        \\n                  ...   \n",
       "4   2552870  \\n                        \\n                  ...   \n",
       "..      ...                                                ...   \n",
       "85  1482292  \\n8 / 5 배송\\n                        \\n        ...   \n",
       "86  2406940  \\n                        \\n                  ...   \n",
       "87  1976299  \\n                        \\n                  ...   \n",
       "88  1827196  \\n                        \\n                  ...   \n",
       "89  2409398  \\n                        \\n                  ...   \n",
       "\n",
       "                                                  img  \n",
       "0   http:https://image.msscdn.net/images/goods_img...  \n",
       "1   http:https://image.msscdn.net/images/goods_img...  \n",
       "2   http:https://image.msscdn.net/images/goods_img...  \n",
       "3   http:https://image.msscdn.net/images/goods_img...  \n",
       "4   http:https://image.msscdn.net/images/goods_img...  \n",
       "..                                                ...  \n",
       "85  http:https://image.msscdn.net/images/goods_img...  \n",
       "86  http:https://image.msscdn.net/images/goods_img...  \n",
       "87  http:https://image.msscdn.net/images/goods_img...  \n",
       "88  http:https://image.msscdn.net/images/goods_img...  \n",
       "89  http:https://image.msscdn.net/images/goods_img...  \n",
       "\n",
       "[90 rows x 3 columns]"
      ]
     },
     "execution_count": 63,
     "metadata": {},
     "output_type": "execute_result"
    }
   ],
   "source": [
    "df"
   ]
  },
  {
   "cell_type": "code",
   "execution_count": null,
   "id": "12be09c3-b0b3-4021-8dfe-3021f7e8376a",
   "metadata": {},
   "outputs": [],
   "source": []
  },
  {
   "cell_type": "code",
   "execution_count": null,
   "id": "19f95563-66fc-41ca-80f7-849bac25ada2",
   "metadata": {},
   "outputs": [],
   "source": []
  },
  {
   "cell_type": "code",
   "execution_count": null,
   "id": "f3184af9-71ee-4307-a961-09656525ecdd",
   "metadata": {},
   "outputs": [],
   "source": []
  },
  {
   "cell_type": "code",
   "execution_count": null,
   "id": "5907efa6-4669-43b9-b5df-85d0f7579aaf",
   "metadata": {},
   "outputs": [],
   "source": []
  }
 ],
 "metadata": {
  "kernelspec": {
   "display_name": "Python 3 (ipykernel)",
   "language": "python",
   "name": "python3"
  },
  "language_info": {
   "codemirror_mode": {
    "name": "ipython",
    "version": 3
   },
   "file_extension": ".py",
   "mimetype": "text/x-python",
   "name": "python",
   "nbconvert_exporter": "python",
   "pygments_lexer": "ipython3",
   "version": "3.9.13"
  }
 },
 "nbformat": 4,
 "nbformat_minor": 5
}
