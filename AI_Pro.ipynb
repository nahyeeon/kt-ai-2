{
 "cells": [
  {
   "cell_type": "markdown",
   "id": "ff43fb83-a760-447f-a54b-7d2e59e186a0",
   "metadata": {
    "tags": []
   },
   "source": [
    "## 1. 회귀"
   ]
  },
  {
   "cell_type": "code",
   "execution_count": null,
   "id": "016db926-53dc-44f1-8c0b-7e0b5121b22e",
   "metadata": {},
   "outputs": [],
   "source": [
    "!pip install catboost\n",
    "!pip install category_encoders\n",
    "\n",
    "from catboost import CatBoostRegressor, Pool"
   ]
  },
  {
   "cell_type": "code",
   "execution_count": null,
   "id": "c3de0efe-d087-4536-885d-65e3454fa95f",
   "metadata": {},
   "outputs": [],
   "source": [
    "CB = CatBoostRegressor(depth=4,bagging_temperature=2.099,learning_rate=0.02091,subsample=0.2325)\n",
    "CB.fit(train_x, train_y)\n",
    "CB_pred = CB.predict(test_x)"
   ]
  },
  {
   "cell_type": "code",
   "execution_count": null,
   "id": "3ad802ff-9137-48b1-b716-0b62ba4a5eb2",
   "metadata": {},
   "outputs": [],
   "source": [
    "import joblib\n",
    "joblib.dump(CB, '폰번호_1.h5')"
   ]
  },
  {
   "cell_type": "code",
   "execution_count": null,
   "id": "afaed757-40d4-4979-ad5b-dd210ca17e79",
   "metadata": {},
   "outputs": [],
   "source": [
    "model= joblib.load('폰번호_1.h5')"
   ]
  },
  {
   "cell_type": "code",
   "execution_count": null,
   "id": "7ae96adb-2e76-4e38-a5b4-325a6f47816a",
   "metadata": {},
   "outputs": [],
   "source": [
    "test = pd.read_csv('test.csv')"
   ]
  },
  {
   "cell_type": "code",
   "execution_count": null,
   "id": "600b9512-cb05-41b2-a51b-a1182065b211",
   "metadata": {},
   "outputs": [],
   "source": [
    "test['label'] = CB_pred\n",
    "test"
   ]
  },
  {
   "cell_type": "code",
   "execution_count": null,
   "id": "83380181-8c45-40a8-a05d-d974f7b3ab29",
   "metadata": {},
   "outputs": [],
   "source": [
    "test['label']= test['label'].replace([0,1],['ham','spam'])"
   ]
  },
  {
   "cell_type": "code",
   "execution_count": null,
   "id": "55ddcd54-5397-4d17-bd90-1b40ec169102",
   "metadata": {},
   "outputs": [],
   "source": [
    "test.to_csv(\"폰번호_1.csv\",index=False)"
   ]
  },
  {
   "cell_type": "code",
   "execution_count": null,
   "id": "f1e4a6dd-1ce5-4b3c-8120-b58652bc86a0",
   "metadata": {},
   "outputs": [],
   "source": [
    "# 정답\n",
    "폰번호_1.h5\n",
    "폰번호_1.csv\n",
    "폰번호_1.ipynb"
   ]
  },
  {
   "cell_type": "markdown",
   "id": "f5e7efce-06de-48c7-9550-ea66edab45d8",
   "metadata": {},
   "source": [
    "## 2.텍스트 다중분류"
   ]
  },
  {
   "cell_type": "code",
   "execution_count": null,
   "id": "5f297f81-f89f-4cb8-9fe8-20576a8b96c3",
   "metadata": {},
   "outputs": [],
   "source": [
    "!pip install rich"
   ]
  },
  {
   "cell_type": "code",
   "execution_count": null,
   "id": "c143b6ad-47d3-40e8-a3d4-dc7243a7f15d",
   "metadata": {},
   "outputs": [],
   "source": [
    "import pandas as pd\n",
    "import numpy as np\n",
    "import os\n",
    "import re\n",
    "import rich  # 출력을 예쁘게 꾸며주는 라이브러리\n",
    "from rich.table import Table\n",
    "\n",
    "from sklearn.feature_extraction.text import TfidfVectorizer\n",
    "from sklearn.pipeline import Pipeline\n",
    "from sklearn.model_selection import StratifiedKFold\n",
    "from sklearn.metrics import accuracy_score\n",
    "from sklearn.naive_bayes import BernoulliNB\n",
    "from sklearn.linear_model import SGDClassifier\n",
    "from sklearn.ensemble import RandomForestClassifier, AdaBoostClassifier\n",
    "from sklearn.svm import SVC\n",
    "from sklearn.neighbors import KNeighborsClassifier\n",
    "from sklearn.ensemble import StackingClassifier\n",
    "from tqdm.auto import tqdm\n",
    "\n",
    "from lightgbm import LGBMClassifier\n",
    "from xgboost import XGBClassifier"
   ]
  },
  {
   "cell_type": "code",
   "execution_count": null,
   "id": "a9a3d95a-d19f-47c7-a48f-f6c0e6a74355",
   "metadata": {},
   "outputs": [],
   "source": [
    "train_df = pd.read_csv('spam.csv')\n",
    "test_df = pd.read_csv('spam_test_text.csv')"
   ]
  },
  {
   "cell_type": "code",
   "execution_count": null,
   "id": "5c8bd8b6-add8-4b1d-8673-278fb59ac084",
   "metadata": {},
   "outputs": [],
   "source": [
    "train_df['label'] = train_df['label'].replace(['ham','spam'],[0,1])"
   ]
  },
  {
   "cell_type": "code",
   "execution_count": null,
   "id": "f39d4886-0c8a-4d4e-96d7-3ceaa5cf310e",
   "metadata": {},
   "outputs": [],
   "source": [
    "def get_pipe(model, model_name: str) -> Pipeline:\n",
    "    \"TfidfVectorizer와 모델을 연결한 파이프라인을 반환하는 함수\"\n",
    "    tfidf = TfidfVectorizer(analyzer=\"char\", ngram_range=(1, 3))\n",
    "    pipe = Pipeline([\n",
    "        (\"tfidf\", tfidf),\n",
    "        (model_name, model)\n",
    "    ])\n",
    "    return pipe"
   ]
  },
  {
   "cell_type": "code",
   "execution_count": null,
   "id": "8371b8f1-3003-45be-a3b8-59d6f01831fe",
   "metadata": {},
   "outputs": [],
   "source": [
    "def return_kfold_accuarcy(model, k: int = 5) -> float:\n",
    "    \"모델을 입력받아 KFold 예측 후 accuracy score를 반환하는 함수\"\n",
    "    kfold = StratifiedKFold(k, shuffle=True, random_state=42)\n",
    "    result = []\n",
    "    for train_idx, test_idx in kfold.split(train_df[\"text\"], train_df[\"label\"]):\n",
    "        train, val = train_df.iloc[train_idx], train_df.iloc[test_idx]\n",
    "        model.fit(train[\"text\"], train[\"label\"])\n",
    "        pred = model.predict(val[\"text\"])\n",
    "        acc = accuracy_score(val[\"label\"], pred)\n",
    "        result.append(acc)\n",
    "\n",
    "    return np.mean(result)"
   ]
  },
  {
   "cell_type": "code",
   "execution_count": null,
   "id": "1726cad3-d886-4f32-b9be-f7292799ef10",
   "metadata": {},
   "outputs": [],
   "source": [
    "models = [\n",
    "    (\"naive_bayes\", BernoulliNB()),\n",
    "    (\"SGD\", SGDClassifier(random_state=42, n_jobs=-1)),\n",
    "]\n",
    "\n",
    "model_pipes = [(name, get_pipe(model, name)) for name, model in models]"
   ]
  },
  {
   "cell_type": "code",
   "execution_count": null,
   "id": "48612e8f-f73e-4f4b-904e-082fab4b46f5",
   "metadata": {},
   "outputs": [],
   "source": [
    "# models = [\n",
    "#     (\"naive_bayes\", BernoulliNB()),\n",
    "#     (\"SGD\", SGDClassifier(random_state=42, n_jobs=-1)),\n",
    "#     (\"rfc\", RandomForestClassifier(random_state=42, n_jobs=-1)),\n",
    "#     (\"SVC\", SVC(random_state=42)),\n",
    "#     (\"ada\", AdaBoostClassifier(random_state=42)),\n",
    "#     (\"lgbm\", LGBMClassifier(random_state=42)),\n",
    "#     (\"lgbm2\", LGBMClassifier(n_estimators=80, random_state=42)),\n",
    "#     (\"xgb\", XGBClassifier(random_state=42)),\n",
    "#     (\"knc1\", KNeighborsClassifier()),\n",
    "#     (\"knc2\", KNeighborsClassifier(n_neighbors=4))\n",
    "# ]\n",
    "\n",
    "# model_pipes = [(name, get_pipe(model, name)) for name, model in models]"
   ]
  },
  {
   "cell_type": "code",
   "execution_count": null,
   "id": "bd0cad09-67ca-49af-bc0d-da6e8fb54e8d",
   "metadata": {},
   "outputs": [],
   "source": [
    "table = Table(title=\"Model Comparison Table\")\n",
    "table.add_column(\"Model Name\", justify=\"left\", style=\"green\")\n",
    "table.add_column(\"Accuracy\", justify=\"right\")\n",
    "\n",
    "for model_name, model in tqdm(model_pipes, leave=False):\n",
    "    acc = return_kfold_accuarcy(model)\n",
    "    table.add_row(model_name, f\"{acc:0.3f}\")\n",
    "\n",
    "rich.print(table)"
   ]
  },
  {
   "cell_type": "code",
   "execution_count": null,
   "id": "60134abc-2983-4bff-a882-5972b1cf6dfb",
   "metadata": {},
   "outputs": [],
   "source": [
    "from sklearn.ensemble import StackingClassifier\n",
    "\n",
    "stack_models = [(name, get_pipe(model, name)) for name, model in models]\n",
    "\n",
    "stacking = StackingClassifier(stack_models)\n",
    "acc = return_kfold_accuarcy(stacking)\n",
    "rich.print(acc)"
   ]
  },
  {
   "cell_type": "code",
   "execution_count": null,
   "id": "b4e49e81-94d3-424e-b0c2-9dbfddd497da",
   "metadata": {},
   "outputs": [],
   "source": [
    "stacking.fit(train_df['text'], train_df['label'])\n",
    "submission_pred = stacking.predict(test_df['text'])"
   ]
  },
  {
   "cell_type": "code",
   "execution_count": null,
   "id": "c74fcb97-6bfd-4d65-bf70-7fdd5877867a",
   "metadata": {},
   "outputs": [],
   "source": [
    "test = pd.read_csv('spam_submission.csv')"
   ]
  },
  {
   "cell_type": "code",
   "execution_count": null,
   "id": "9e354c61-671b-4203-bc38-70ecf7051842",
   "metadata": {},
   "outputs": [],
   "source": [
    "test['label'] = submission_pred\n",
    "test"
   ]
  },
  {
   "cell_type": "code",
   "execution_count": null,
   "id": "218bdeef-350e-4b67-85e4-7ed60603c967",
   "metadata": {},
   "outputs": [],
   "source": [
    "test['label']= test['label'].replace([0,1],['ham','spam'])"
   ]
  },
  {
   "cell_type": "code",
   "execution_count": null,
   "id": "f43572d4-5973-40fc-ae00-482860cd91f8",
   "metadata": {},
   "outputs": [],
   "source": [
    "test.to_csv(\"폰번호_2.csv\",index=False)"
   ]
  },
  {
   "cell_type": "code",
   "execution_count": null,
   "id": "1049df6f-28a5-423e-91ec-9816b9f02f6f",
   "metadata": {},
   "outputs": [],
   "source": [
    "import joblib\n",
    "joblib.dump(stacking, '폰번호_2.h5')"
   ]
  },
  {
   "cell_type": "code",
   "execution_count": null,
   "id": "115c2283-e4b1-4ab1-a906-29cda6ad3a65",
   "metadata": {},
   "outputs": [],
   "source": [
    "model= joblib.load('폰번호_2.h5')"
   ]
  },
  {
   "cell_type": "code",
   "execution_count": null,
   "id": "39c77082-620e-46aa-b791-8a3478fad19f",
   "metadata": {},
   "outputs": [],
   "source": [
    "# 정답\n",
    "폰번호_2.h5\n",
    "폰번호_2.csv\n",
    "폰번호_2.ipynb"
   ]
  },
  {
   "cell_type": "markdown",
   "id": "4778fa61-98b9-438e-9465-21e3fcf0ae30",
   "metadata": {},
   "source": [
    "## 3. 이미지 이진분류"
   ]
  },
  {
   "cell_type": "code",
   "execution_count": null,
   "id": "5daee50a-2654-41fe-9324-c2b55550e301",
   "metadata": {},
   "outputs": [],
   "source": [
    "import pandas as pd\n",
    "import numpy as np\n",
    "import keras\n",
    "import glob\n",
    "import matplotlib.pyplot as plt\n",
    "import scipy\n",
    "import seaborn as sns\n",
    "#from mlxtend.preprocessing import minmax_scaling\n",
    "from sklearn.metrics import roc_curve, auc\n",
    "\n",
    "from keras.utils.np_utils import to_categorical\n",
    "from keras.models import Sequential, Model\n",
    "from keras.layers import Dense, Dropout, Flatten, Conv2D, MaxPool2D, GlobalAveragePooling2D, Input, BatchNormalization, Multiply, Activation\n",
    "# from keras.optimizers import RMSprop, SGD\n",
    "from keras.regularizers import l2\n",
    "from keras.preprocessing.image import ImageDataGenerator\n",
    "# from keras.utils import plot_model\n",
    "from keras.callbacks import ReduceLROnPlateau, ModelCheckpoint, EarlyStopping\n",
    "from sklearn.metrics import accuracy_score\n",
    "from sklearn.model_selection import KFold, StratifiedKFold\n",
    "from sklearn.metrics import confusion_matrix\n",
    "from keras import backend as K\n",
    "from tensorflow.keras.backend import clear_session\n",
    "\n",
    "import os"
   ]
  },
  {
   "cell_type": "code",
   "execution_count": null,
   "id": "0697a0e8-0f15-4046-8f38-4a0a99d69bad",
   "metadata": {},
   "outputs": [],
   "source": [
    "from keras.preprocessing.image import ImageDataGenerator\n",
    "# 모든 전처리 사용\n",
    "train_datagen = ImageDataGenerator(\n",
    "    rescale = 1. / 255,\n",
    "    validation_split = 0.2,\n",
    "    horizontal_flip=True,\n",
    "    vertical_flip=True,\n",
    "    rotation_range=180,\n",
    "    brightness_range=(0.2, 0.8)\n",
    "\n",
    "\n",
    "\n",
    ")\n",
    "batch_size = 5\n",
    "img_height = 960\n",
    "img_width = 720\n",
    "\n",
    "\n",
    "\n",
    "# train_genrator 생성\n",
    "train_generator = train_datagen.flow_from_directory(\n",
    "    '03_clean_desk/train',\n",
    "    batch_size = batch_size,\n",
    "    target_size = (img_height, img_width),\n",
    "    class_mode = 'categorical',\n",
    "    subset='training',\n",
    "\n",
    "\n",
    "\n",
    ")\n",
    "\n",
    "\n",
    "\n",
    "# validation_generator 생성\n",
    "validation_generator = train_datagen.flow_from_directory(\n",
    "    '03_clean_desk/train',\n",
    "    batch_size = batch_size,\n",
    "    target_size = (img_height, img_width),\n",
    "    class_mode = 'categorical',\n",
    "    subset='validation',  \n",
    ")\n",
    "\n",
    "\n",
    "\n",
    "# test_generator 생성\n",
    "\n",
    "\n",
    "\n",
    "test_generator = train_datagen.flow_from_directory(\n",
    "    '03_clean_desk/test',\n",
    "    batch_size = batch_size,\n",
    "    target_size = (img_height, img_width),\n",
    "    class_mode = 'categorical',\n",
    "    color_mode=\"grayscale\",\n",
    "    )"
   ]
  },
  {
   "cell_type": "code",
   "execution_count": null,
   "id": "0ddd6353-3d7e-49d6-99ab-5f789ecabef7",
   "metadata": {},
   "outputs": [],
   "source": [
    "#1. 세션 클리어\n",
    "clear_session()\n",
    "#2. 모델 발판 생성\n",
    "model = Sequential()\n",
    "#3. 레이어 블록 조립\n",
    "model.add(Conv2D(filters = 32, kernel_size = (5,5), strides = 2, padding = 'Same', activation ='relu', input_shape = (960,720,3), kernel_initializer='he_normal')) #he_normal 균일 분산 스케일링 이니셜라이저\n",
    "model.add(Conv2D(filters = 32, kernel_size = (5,5), strides = 2, padding = 'Same', activation ='relu',kernel_initializer='he_normal'))\n",
    "model.add(MaxPool2D(pool_size=(2,2))) #same은 입력을 고르게 패딩\n",
    "model.add(Dropout(0.2))\n",
    "model.add(Conv2D(filters = 64, kernel_size = (3,3),padding = 'Same', activation ='relu',kernel_initializer='he_normal'))\n",
    "model.add(Conv2D(filters = 64, kernel_size = (3,3),padding = 'Same', activation ='relu',kernel_initializer='he_normal'))\n",
    "model.add(MaxPool2D(pool_size=(2,2)))\n",
    "model.add(Dropout(0.2))\n",
    "model.add(Conv2D(filters = 128, kernel_size = (2,2),padding = 'Same', activation ='relu',kernel_initializer='he_normal'))\n",
    "model.add(Conv2D(filters = 128, kernel_size = (2,2),padding = 'Same', activation ='relu',kernel_initializer='he_normal'))\n",
    "model.add(MaxPool2D(pool_size=(2,2)))\n",
    "model.add(Dropout(0.2))\n",
    "model.add(Conv2D(filters = 256, kernel_size = (2,2),padding = 'Same', activation ='relu',kernel_initializer='he_normal'))\n",
    "model.add(Conv2D(filters = 256, kernel_size = (2,2),padding = 'Same', activation ='relu',kernel_initializer='he_normal'))\n",
    "model.add(GlobalAveragePooling2D())\n",
    "model.add(Dense(512, activation = \"relu\",kernel_initializer='he_normal'))\n",
    "model.add(Dropout(0.2))\n",
    "model.add(Dense(2, activation = \"softmax\",kernel_initializer='he_normal',kernel_regularizer=l2()))\n",
    "model.summary()"
   ]
  },
  {
   "cell_type": "code",
   "execution_count": null,
   "id": "d7376e95-1f62-4988-9329-97cea0bdd1ac",
   "metadata": {},
   "outputs": [],
   "source": [
    "from tensorflow.keras.callbacks import EarlyStopping, ModelCheckpoint\n",
    "\n",
    "# early_stopping \n",
    "cp = ModelCheckpoint('my_ck.h5', monitor='val_loss', verbose=1, save_weights_only=True, save_best_only=True)\n",
    "\n",
    "# early_stopping\n",
    "es = EarlyStopping(monitor='val_loss', min_delta=0, patience=5, verbose=1, restore_best_weights=True)\n",
    "\n",
    "# 모델 학습\n",
    "history = model.fit(train_generator,\n",
    "                    steps_per_epoch=20,\n",
    "                    epochs=200,\n",
    "                    validation_data=validation_generator,\n",
    "                    validation_steps=10,\n",
    "                    callbacks=[cp,es], \n",
    "                    batch_size=10,)"
   ]
  },
  {
   "cell_type": "code",
   "execution_count": null,
   "id": "de6f7366-eff0-4798-8a88-ae31557c6757",
   "metadata": {},
   "outputs": [],
   "source": [
    "from keras.models import load_model\n",
    "\n",
    "model.save('폰번호_3.h5')"
   ]
  },
  {
   "cell_type": "code",
   "execution_count": null,
   "id": "1ef659e2-fbed-4939-987a-cc9778433684",
   "metadata": {},
   "outputs": [],
   "source": [
    "m2 = load_model('폰번호_3.h5')"
   ]
  },
  {
   "cell_type": "code",
   "execution_count": null,
   "id": "23f34b26-c8f7-400f-8df2-8689d7ec7e9c",
   "metadata": {},
   "outputs": [],
   "source": [
    "# 예측 & 검증\n",
    "pred = model.predict(x_val2)\n",
    "\n",
    "p1 = pred.argmax(axis=1)\n",
    "\n",
    "cn = np.array(class_names)\n",
    "\n",
    "print(accuracy_score(y_val,p1))\n",
    "print('-'*60)\n",
    "print(confusion_matrix(y_val, p1))\n",
    "print('-'*60)\n",
    "print(classification_report(cn[y_val], cn[p1]))"
   ]
  },
  {
   "cell_type": "code",
   "execution_count": null,
   "id": "249ed4a2-8f62-4243-a86d-a90eae7162a7",
   "metadata": {},
   "outputs": [],
   "source": [
    "test = pd.read_csv('spam_submission.csv')"
   ]
  },
  {
   "cell_type": "code",
   "execution_count": null,
   "id": "1f5eb8aa-2474-424a-8230-11373178894d",
   "metadata": {},
   "outputs": [],
   "source": [
    "test['label'] = pred\n",
    "test"
   ]
  },
  {
   "cell_type": "code",
   "execution_count": null,
   "id": "74fb5113-1844-4ee2-8d7c-3d60f4f81673",
   "metadata": {},
   "outputs": [],
   "source": [
    "test.to_csv(\"폰번호_3.csv\",index=False)"
   ]
  },
  {
   "cell_type": "code",
   "execution_count": null,
   "id": "3ecd70f5-ece0-4880-b7bb-0e50dfc726d9",
   "metadata": {},
   "outputs": [],
   "source": [
    "pd.read_csv(\"폰번호_3.csv\")"
   ]
  },
  {
   "cell_type": "code",
   "execution_count": null,
   "id": "c29b285c-0c5f-46ff-89e9-7008a27ac9fc",
   "metadata": {},
   "outputs": [],
   "source": [
    "# 정답\n",
    "폰번호_3.h5\n",
    "폰번호_3.csv\n",
    "폰번호_3.ipynb"
   ]
  }
 ],
 "metadata": {
  "kernelspec": {
   "display_name": "Python 3",
   "language": "python",
   "name": "python3"
  },
  "language_info": {
   "codemirror_mode": {
    "name": "ipython",
    "version": 3
   },
   "file_extension": ".py",
   "mimetype": "text/x-python",
   "name": "python",
   "nbconvert_exporter": "python",
   "pygments_lexer": "ipython3",
   "version": "3.8.8"
  }
 },
 "nbformat": 4,
 "nbformat_minor": 5
}
