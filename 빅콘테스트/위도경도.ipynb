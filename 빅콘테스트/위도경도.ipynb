{
 "cells": [
  {
   "cell_type": "code",
   "execution_count": null,
   "id": "449e7b20-9669-4fe9-87b8-5ffcd072b852",
   "metadata": {},
   "outputs": [],
   "source": [
    "# fafnosL9ncAoButXbk4Ij48ICqqJCz8Se2LhZCIv%2BycLKba1gZBSraDhIcf8uRNBBt96C3nqf5nxggE39ibmpg%3D%3D"
   ]
  },
  {
   "cell_type": "code",
   "execution_count": 18,
   "id": "56af32e9-c28b-473d-a83b-37ab062bd30d",
   "metadata": {},
   "outputs": [],
   "source": [
    "from urllib import response\n",
    "from urllib import request\n",
    "from urllib.parse import quote_plus, urlencode\n",
    "from urllib.request import Request, urlopen\n",
    "from xml.dom.minidom import Element\n",
    "from xml.etree import ElementTree\n",
    "import pandas as pd\n",
    "\n",
    "import requests, json"
   ]
  },
  {
   "cell_type": "code",
   "execution_count": 19,
   "id": "f4ed6e36-0528-413c-a06c-86b18ff6bac5",
   "metadata": {},
   "outputs": [],
   "source": [
    "url = 'http://apis.data.go.kr/B552584/EvCharger/getChargerInfo'"
   ]
  },
  {
   "cell_type": "code",
   "execution_count": 20,
   "id": "21575c9b-1161-43cc-bf2a-933af07d4d91",
   "metadata": {},
   "outputs": [],
   "source": [
    "params = '?' + \\\n",
    "    urlencode({\n",
    "    quote_plus('serviceKey') : 'fafnosL9ncAoButXbk4Ij48ICqqJCz8Se2LhZCIv+ycLKba1gZBSraDhIcf8uRNBBt96C3nqf5nxggE39ibmpg==', #인증키\n",
    "    quote_plus('pageNo') : '1' ,\n",
    "    quote_plus('numOfRows') : '10',\n",
    "    quote_plus('zcode') : '11',\n",
    "    # quote_plus('zscode') : '11680',\n",
    "    # quote_plus('kind') : 'F0',\n",
    "    # quote_plus('kindDetail') : 'F002', \n",
    "    # quote_plus('dataType') : 'XML', #작동안함\n",
    "    \n",
    "    })"
   ]
  },
  {
   "cell_type": "code",
   "execution_count": 21,
   "id": "5028a4fc-8def-43f1-a0c2-d4d4b376a0d7",
   "metadata": {},
   "outputs": [],
   "source": [
    "response = Request(url + params)\n",
    "response_object = urlopen(response).read()\n",
    "data = ElementTree.fromstring(response_object)"
   ]
  },
  {
   "cell_type": "code",
   "execution_count": 22,
   "id": "d39f71e8-c1fa-4f99-a210-0a8cb3993abe",
   "metadata": {},
   "outputs": [
    {
     "name": "stdout",
     "output_type": "stream",
     "text": [
      "<Element 'response' at 0x000002B9A55FCAE0>\n"
     ]
    }
   ],
   "source": [
    "print(data)"
   ]
  },
  {
   "cell_type": "code",
   "execution_count": 23,
   "id": "7d81d6df-5172-4b24-9a58-fd9018da9e12",
   "metadata": {},
   "outputs": [],
   "source": [
    "df = pd.DataFrame()"
   ]
  },
  {
   "cell_type": "code",
   "execution_count": 24,
   "id": "9d592379-55e1-449c-9d1c-9cca5b3efdf6",
   "metadata": {},
   "outputs": [],
   "source": [
    "for item in data.iter('item'):\n",
    "\n",
    "    # print(item.find('statNm').text)\n",
    "    # print(item)\n",
    "    item_dict = {}\n",
    "    item_dict['충전소명'] = (item.find('statNm').text)\n",
    "    item_dict['충전소ID'] = item.find('statId').text\n",
    "    item_dict['충전기ID'] = item.find('chgerId').text\n",
    "    item_dict['충전기타입'] = item.find('chgerType').text\n",
    "    item_dict['주소'] = item.find('addr').text\n",
    "    item_dict['위도'] = item.find('lat').text\n",
    "    item_dict['경도'] = item.find('chgerId').text\n",
    "    item_dict['이용가능시간'] = item.find('chgerId').text\n",
    "    item_dict['충전기ID'] = item.find('chgerId').text\n",
    "    item_dict['충전기ID'] = item.find('chgerId').text\n",
    "    item_dict['충전기ID'] = item.find('chgerId').text\n",
    "\n",
    "    df = df.append(item_dict, ignore_index = True)"
   ]
  },
  {
   "cell_type": "code",
   "execution_count": 25,
   "id": "543613a3-f713-4a7b-8525-05eef0126fa9",
   "metadata": {},
   "outputs": [
    {
     "name": "stdout",
     "output_type": "stream",
     "text": [
      "   경도          위도 이용가능시간                     주소 충전기ID 충전기타입     충전소ID  \\\n",
      "0  01  37.5660935     01      서울특별시 성동구 마장동 808    01    06  ME000006   \n",
      "1  01    37.60936     01  서울특별시 성북구 장위2동 65-154    01    06  ME000012   \n",
      "2  01   37.520062     01       서울특별시 양천구 지양로 47    01    06  ME000022   \n",
      "3  01  37.4912466     01   서울특별시 구로구 구로동 136-14    01    06  ME000028   \n",
      "4  01  37.4744454     01   서울특별시 금천구 가산동 239-27    01    06  ME000031   \n",
      "\n",
      "                  충전소명  \n",
      "0     마장동사무소 앞(공중전화부스)  \n",
      "1         성북벤처빌딩 공영주차장  \n",
      "2             해맞이공영주차장  \n",
      "3      구로리공원 앞(공중전화부스)  \n",
      "4  제일모직아울렛 건너편(공중전화부스)  \n"
     ]
    }
   ],
   "source": [
    "print(df.head(5))"
   ]
  },
  {
   "cell_type": "code",
   "execution_count": 27,
   "id": "48a88ef8-c6cf-4a5a-bbe2-0df8ae8d7b76",
   "metadata": {},
   "outputs": [
    {
     "data": {
      "text/html": [
       "<div>\n",
       "<style scoped>\n",
       "    .dataframe tbody tr th:only-of-type {\n",
       "        vertical-align: middle;\n",
       "    }\n",
       "\n",
       "    .dataframe tbody tr th {\n",
       "        vertical-align: top;\n",
       "    }\n",
       "\n",
       "    .dataframe thead th {\n",
       "        text-align: right;\n",
       "    }\n",
       "</style>\n",
       "<table border=\"1\" class=\"dataframe\">\n",
       "  <thead>\n",
       "    <tr style=\"text-align: right;\">\n",
       "      <th></th>\n",
       "      <th>경도</th>\n",
       "      <th>위도</th>\n",
       "      <th>이용가능시간</th>\n",
       "      <th>주소</th>\n",
       "      <th>충전기ID</th>\n",
       "      <th>충전기타입</th>\n",
       "      <th>충전소ID</th>\n",
       "      <th>충전소명</th>\n",
       "    </tr>\n",
       "  </thead>\n",
       "  <tbody>\n",
       "    <tr>\n",
       "      <th>5</th>\n",
       "      <td>01</td>\n",
       "      <td>37.5113404</td>\n",
       "      <td>01</td>\n",
       "      <td>서울특별시 영등포구 신길1동 116-15</td>\n",
       "      <td>01</td>\n",
       "      <td>06</td>\n",
       "      <td>ME000032</td>\n",
       "      <td>영등포구 대신시장(공중전화부스)</td>\n",
       "    </tr>\n",
       "    <tr>\n",
       "      <th>6</th>\n",
       "      <td>01</td>\n",
       "      <td>37.481069</td>\n",
       "      <td>01</td>\n",
       "      <td>서울특별시 관악구 신림동 571-6</td>\n",
       "      <td>01</td>\n",
       "      <td>06</td>\n",
       "      <td>ME000036</td>\n",
       "      <td>조원동 제1공영주차장</td>\n",
       "    </tr>\n",
       "    <tr>\n",
       "      <th>7</th>\n",
       "      <td>01</td>\n",
       "      <td>37.5052721</td>\n",
       "      <td>01</td>\n",
       "      <td>서울특별시 강남구 봉은사로 130</td>\n",
       "      <td>01</td>\n",
       "      <td>06</td>\n",
       "      <td>ME174001</td>\n",
       "      <td>노보텔</td>\n",
       "    </tr>\n",
       "    <tr>\n",
       "      <th>8</th>\n",
       "      <td>01</td>\n",
       "      <td>37.5529087</td>\n",
       "      <td>01</td>\n",
       "      <td>서울특별시 강동구 고덕로28길 36</td>\n",
       "      <td>01</td>\n",
       "      <td>06</td>\n",
       "      <td>ME174003</td>\n",
       "      <td>암사1동 공영주차장</td>\n",
       "    </tr>\n",
       "    <tr>\n",
       "      <th>9</th>\n",
       "      <td>01</td>\n",
       "      <td>37.5448122</td>\n",
       "      <td>01</td>\n",
       "      <td>서울특별시 강동구 선사로 70</td>\n",
       "      <td>01</td>\n",
       "      <td>06</td>\n",
       "      <td>ME174004</td>\n",
       "      <td>천호유수지 공영주차장</td>\n",
       "    </tr>\n",
       "  </tbody>\n",
       "</table>\n",
       "</div>"
      ],
      "text/plain": [
       "   경도          위도 이용가능시간                      주소 충전기ID 충전기타입     충전소ID  \\\n",
       "5  01  37.5113404     01  서울특별시 영등포구 신길1동 116-15    01    06  ME000032   \n",
       "6  01   37.481069     01     서울특별시 관악구 신림동 571-6    01    06  ME000036   \n",
       "7  01  37.5052721     01      서울특별시 강남구 봉은사로 130    01    06  ME174001   \n",
       "8  01  37.5529087     01     서울특별시 강동구 고덕로28길 36    01    06  ME174003   \n",
       "9  01  37.5448122     01        서울특별시 강동구 선사로 70    01    06  ME174004   \n",
       "\n",
       "                충전소명  \n",
       "5  영등포구 대신시장(공중전화부스)  \n",
       "6        조원동 제1공영주차장  \n",
       "7                노보텔  \n",
       "8         암사1동 공영주차장  \n",
       "9        천호유수지 공영주차장  "
      ]
     },
     "execution_count": 27,
     "metadata": {},
     "output_type": "execute_result"
    }
   ],
   "source": [
    "df.tail()"
   ]
  },
  {
   "cell_type": "code",
   "execution_count": null,
   "id": "c38db4ac-d96a-4142-b33b-f2b8b15a3134",
   "metadata": {},
   "outputs": [],
   "source": []
  }
 ],
 "metadata": {
  "kernelspec": {
   "display_name": "Python 3",
   "language": "python",
   "name": "python3"
  },
  "language_info": {
   "codemirror_mode": {
    "name": "ipython",
    "version": 3
   },
   "file_extension": ".py",
   "mimetype": "text/x-python",
   "name": "python",
   "nbconvert_exporter": "python",
   "pygments_lexer": "ipython3",
   "version": "3.8.8"
  }
 },
 "nbformat": 4,
 "nbformat_minor": 5
}
