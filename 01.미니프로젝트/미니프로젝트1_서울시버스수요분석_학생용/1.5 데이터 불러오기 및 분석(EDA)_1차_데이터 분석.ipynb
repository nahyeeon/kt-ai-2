{
 "cells": [
  {
   "cell_type": "markdown",
   "id": "boxed-jamaica",
   "metadata": {
    "id": "boxed-jamaica"
   },
   "source": [
    "# 안녕하세요:)\n",
    "\n",
    "## AIVLE 1차 미니프로젝트 '서울시 생활정보 기반 대중교통 수요 분석 ' 과정에 오신 여러분을 환영합니다.\n",
    "* 본 과정에서는 서울시 생활정보 데이터를 기반으로 데이터 분석을 시도하고 주어진 문제를 해결할 것입니다.\n",
    "\n",
    "\n",
    "* 우리는 공공 데이터를 활용해 버스노선 관련 인사이트를 도출하여 유용한 정책을 세우는데 도움을 주고자 합니다"
   ]
  },
  {
   "cell_type": "markdown",
   "id": "46fa690c",
   "metadata": {
    "id": "46fa690c"
   },
   "source": [
    "## ▣ 우리가 풀어야 하는 문제는 무엇인가요?\n",
    "\n",
    "* 제공 데이터\n",
    "    - 구 별 유동인구 데이터\n",
    "    - 구 별 주민 등록 데이터\n",
    "    - 구 별 업종 등록 정보\n",
    "    - 버스 승하차 및 운행 노선 데이터 \n",
    "\n",
    "### 위 제공 데이터를 분석하여 버스 노선 추가 필요 대상 지역(구 단위)을 선정합니다"
   ]
  },
  {
   "cell_type": "markdown",
   "id": "22a4bba9",
   "metadata": {},
   "source": [
    "# 이 4개의 데이터들을 어떻게 합칠까요?"
   ]
  },
  {
   "cell_type": "code",
   "execution_count": 2,
   "id": "ce78669f",
   "metadata": {},
   "outputs": [],
   "source": [
    "import pandas as pd"
   ]
  },
  {
   "cell_type": "code",
   "execution_count": 3,
   "id": "d91f797e",
   "metadata": {},
   "outputs": [],
   "source": [
    "standard = pd.DataFrame({'도착 시군구 코드': [11010, 11020, 11030, 11040, 11050, 11060, 11070, 11080, 11090, 11100, 11110, 11120, 11130, 11140, 11150, 11160, 11170, 11180, 11190, 11200, 11210, 11220, 11230, 11240, 11250],\n",
    "                         '자치구' :['종로구','중구','용산구','성동구','광진구','동대문구','중랑구','성북구','강북구','도봉구','노원구','은평구','서대문구','마포구','양천구','강서구','구로구','금천구','영등포구','동작구','관악구','서초구','강남구','송파구','강동구']})"
   ]
  },
  {
   "cell_type": "code",
   "execution_count": 7,
   "id": "823d3b41",
   "metadata": {},
   "outputs": [
    {
     "data": {
      "text/html": [
       "<div>\n",
       "<style scoped>\n",
       "    .dataframe tbody tr th:only-of-type {\n",
       "        vertical-align: middle;\n",
       "    }\n",
       "\n",
       "    .dataframe tbody tr th {\n",
       "        vertical-align: top;\n",
       "    }\n",
       "\n",
       "    .dataframe thead th {\n",
       "        text-align: right;\n",
       "    }\n",
       "</style>\n",
       "<table border=\"1\" class=\"dataframe\">\n",
       "  <thead>\n",
       "    <tr style=\"text-align: right;\">\n",
       "      <th></th>\n",
       "      <th>도착 시군구 코드</th>\n",
       "      <th>자치구</th>\n",
       "    </tr>\n",
       "  </thead>\n",
       "  <tbody>\n",
       "    <tr>\n",
       "      <th>0</th>\n",
       "      <td>11010</td>\n",
       "      <td>종로구</td>\n",
       "    </tr>\n",
       "    <tr>\n",
       "      <th>1</th>\n",
       "      <td>11020</td>\n",
       "      <td>중구</td>\n",
       "    </tr>\n",
       "    <tr>\n",
       "      <th>2</th>\n",
       "      <td>11030</td>\n",
       "      <td>용산구</td>\n",
       "    </tr>\n",
       "    <tr>\n",
       "      <th>3</th>\n",
       "      <td>11040</td>\n",
       "      <td>성동구</td>\n",
       "    </tr>\n",
       "    <tr>\n",
       "      <th>4</th>\n",
       "      <td>11050</td>\n",
       "      <td>광진구</td>\n",
       "    </tr>\n",
       "    <tr>\n",
       "      <th>5</th>\n",
       "      <td>11060</td>\n",
       "      <td>동대문구</td>\n",
       "    </tr>\n",
       "    <tr>\n",
       "      <th>6</th>\n",
       "      <td>11070</td>\n",
       "      <td>중랑구</td>\n",
       "    </tr>\n",
       "    <tr>\n",
       "      <th>7</th>\n",
       "      <td>11080</td>\n",
       "      <td>성북구</td>\n",
       "    </tr>\n",
       "    <tr>\n",
       "      <th>8</th>\n",
       "      <td>11090</td>\n",
       "      <td>강북구</td>\n",
       "    </tr>\n",
       "    <tr>\n",
       "      <th>9</th>\n",
       "      <td>11100</td>\n",
       "      <td>도봉구</td>\n",
       "    </tr>\n",
       "    <tr>\n",
       "      <th>10</th>\n",
       "      <td>11110</td>\n",
       "      <td>노원구</td>\n",
       "    </tr>\n",
       "    <tr>\n",
       "      <th>11</th>\n",
       "      <td>11120</td>\n",
       "      <td>은평구</td>\n",
       "    </tr>\n",
       "    <tr>\n",
       "      <th>12</th>\n",
       "      <td>11130</td>\n",
       "      <td>서대문구</td>\n",
       "    </tr>\n",
       "    <tr>\n",
       "      <th>13</th>\n",
       "      <td>11140</td>\n",
       "      <td>마포구</td>\n",
       "    </tr>\n",
       "    <tr>\n",
       "      <th>14</th>\n",
       "      <td>11150</td>\n",
       "      <td>양천구</td>\n",
       "    </tr>\n",
       "    <tr>\n",
       "      <th>15</th>\n",
       "      <td>11160</td>\n",
       "      <td>강서구</td>\n",
       "    </tr>\n",
       "    <tr>\n",
       "      <th>16</th>\n",
       "      <td>11170</td>\n",
       "      <td>구로구</td>\n",
       "    </tr>\n",
       "    <tr>\n",
       "      <th>17</th>\n",
       "      <td>11180</td>\n",
       "      <td>금천구</td>\n",
       "    </tr>\n",
       "    <tr>\n",
       "      <th>18</th>\n",
       "      <td>11190</td>\n",
       "      <td>영등포구</td>\n",
       "    </tr>\n",
       "    <tr>\n",
       "      <th>19</th>\n",
       "      <td>11200</td>\n",
       "      <td>동작구</td>\n",
       "    </tr>\n",
       "    <tr>\n",
       "      <th>20</th>\n",
       "      <td>11210</td>\n",
       "      <td>관악구</td>\n",
       "    </tr>\n",
       "    <tr>\n",
       "      <th>21</th>\n",
       "      <td>11220</td>\n",
       "      <td>서초구</td>\n",
       "    </tr>\n",
       "    <tr>\n",
       "      <th>22</th>\n",
       "      <td>11230</td>\n",
       "      <td>강남구</td>\n",
       "    </tr>\n",
       "    <tr>\n",
       "      <th>23</th>\n",
       "      <td>11240</td>\n",
       "      <td>송파구</td>\n",
       "    </tr>\n",
       "    <tr>\n",
       "      <th>24</th>\n",
       "      <td>11250</td>\n",
       "      <td>강동구</td>\n",
       "    </tr>\n",
       "  </tbody>\n",
       "</table>\n",
       "</div>"
      ],
      "text/plain": [
       "    도착 시군구 코드   자치구\n",
       "0       11010   종로구\n",
       "1       11020    중구\n",
       "2       11030   용산구\n",
       "3       11040   성동구\n",
       "4       11050   광진구\n",
       "5       11060  동대문구\n",
       "6       11070   중랑구\n",
       "7       11080   성북구\n",
       "8       11090   강북구\n",
       "9       11100   도봉구\n",
       "10      11110   노원구\n",
       "11      11120   은평구\n",
       "12      11130  서대문구\n",
       "13      11140   마포구\n",
       "14      11150   양천구\n",
       "15      11160   강서구\n",
       "16      11170   구로구\n",
       "17      11180   금천구\n",
       "18      11190  영등포구\n",
       "19      11200   동작구\n",
       "20      11210   관악구\n",
       "21      11220   서초구\n",
       "22      11230   강남구\n",
       "23      11240   송파구\n",
       "24      11250   강동구"
      ]
     },
     "execution_count": 7,
     "metadata": {},
     "output_type": "execute_result"
    }
   ],
   "source": [
    "standard"
   ]
  },
  {
   "cell_type": "code",
   "execution_count": 4,
   "id": "5ee007e0",
   "metadata": {},
   "outputs": [],
   "source": [
    "# 버스 정류장 데이터 - df_seoul_bus_station\n",
    "# 유동인구 데이터 - df_seoul_moving\n",
    "# 구별 상권 데이터 - df_seoul_business\n",
    "# 구별 등록 인구 데이터 - df_seoul_people"
   ]
  },
  {
   "cell_type": "code",
   "execution_count": 4,
   "id": "d8f6cfe8",
   "metadata": {},
   "outputs": [],
   "source": [
    "df_seoul_bus_station = pd.read_csv('df_seoul_bus_station.csv', sep=\",\", encoding = 'UTF-8')"
   ]
  },
  {
   "cell_type": "code",
   "execution_count": 5,
   "id": "22e16caa",
   "metadata": {},
   "outputs": [
    {
     "data": {
      "text/html": [
       "<div>\n",
       "<style scoped>\n",
       "    .dataframe tbody tr th:only-of-type {\n",
       "        vertical-align: middle;\n",
       "    }\n",
       "\n",
       "    .dataframe tbody tr th {\n",
       "        vertical-align: top;\n",
       "    }\n",
       "\n",
       "    .dataframe thead th {\n",
       "        text-align: right;\n",
       "    }\n",
       "</style>\n",
       "<table border=\"1\" class=\"dataframe\">\n",
       "  <thead>\n",
       "    <tr style=\"text-align: right;\">\n",
       "      <th></th>\n",
       "      <th>자치구</th>\n",
       "      <th>정류장수</th>\n",
       "      <th>노선수</th>\n",
       "      <th>승차총승객수</th>\n",
       "      <th>하차총승객수</th>\n",
       "      <th>승차평균승객수</th>\n",
       "      <th>하차평균승객수</th>\n",
       "    </tr>\n",
       "  </thead>\n",
       "  <tbody>\n",
       "    <tr>\n",
       "      <th>0</th>\n",
       "      <td>강남구</td>\n",
       "      <td>499</td>\n",
       "      <td>91</td>\n",
       "      <td>8030483</td>\n",
       "      <td>7569213</td>\n",
       "      <td>128.767927</td>\n",
       "      <td>121.371512</td>\n",
       "    </tr>\n",
       "    <tr>\n",
       "      <th>1</th>\n",
       "      <td>강동구</td>\n",
       "      <td>369</td>\n",
       "      <td>21</td>\n",
       "      <td>2890053</td>\n",
       "      <td>2830506</td>\n",
       "      <td>99.161194</td>\n",
       "      <td>97.118065</td>\n",
       "    </tr>\n",
       "    <tr>\n",
       "      <th>2</th>\n",
       "      <td>강북구</td>\n",
       "      <td>413</td>\n",
       "      <td>67</td>\n",
       "      <td>4825181</td>\n",
       "      <td>4671783</td>\n",
       "      <td>133.020373</td>\n",
       "      <td>128.791504</td>\n",
       "    </tr>\n",
       "    <tr>\n",
       "      <th>3</th>\n",
       "      <td>강서구</td>\n",
       "      <td>566</td>\n",
       "      <td>49</td>\n",
       "      <td>4681083</td>\n",
       "      <td>4652828</td>\n",
       "      <td>88.119480</td>\n",
       "      <td>87.587591</td>\n",
       "    </tr>\n",
       "    <tr>\n",
       "      <th>4</th>\n",
       "      <td>관악구</td>\n",
       "      <td>466</td>\n",
       "      <td>86</td>\n",
       "      <td>7655819</td>\n",
       "      <td>7792476</td>\n",
       "      <td>154.753674</td>\n",
       "      <td>157.516040</td>\n",
       "    </tr>\n",
       "  </tbody>\n",
       "</table>\n",
       "</div>"
      ],
      "text/plain": [
       "   자치구  정류장수  노선수   승차총승객수   하차총승객수     승차평균승객수     하차평균승객수\n",
       "0  강남구   499   91  8030483  7569213  128.767927  121.371512\n",
       "1  강동구   369   21  2890053  2830506   99.161194   97.118065\n",
       "2  강북구   413   67  4825181  4671783  133.020373  128.791504\n",
       "3  강서구   566   49  4681083  4652828   88.119480   87.587591\n",
       "4  관악구   466   86  7655819  7792476  154.753674  157.516040"
      ]
     },
     "execution_count": 5,
     "metadata": {},
     "output_type": "execute_result"
    }
   ],
   "source": [
    "df_seoul_bus_station.head()"
   ]
  },
  {
   "cell_type": "code",
   "execution_count": 6,
   "id": "7770cc4c",
   "metadata": {},
   "outputs": [],
   "source": [
    "df_seoul_moving = pd.read_csv('df_seoul_moving.csv', sep=\",\", encoding = 'UTF-8')"
   ]
  },
  {
   "cell_type": "code",
   "execution_count": 7,
   "id": "b144c7e9",
   "metadata": {},
   "outputs": [
    {
     "data": {
      "text/html": [
       "<div>\n",
       "<style scoped>\n",
       "    .dataframe tbody tr th:only-of-type {\n",
       "        vertical-align: middle;\n",
       "    }\n",
       "\n",
       "    .dataframe tbody tr th {\n",
       "        vertical-align: top;\n",
       "    }\n",
       "\n",
       "    .dataframe thead th {\n",
       "        text-align: right;\n",
       "    }\n",
       "</style>\n",
       "<table border=\"1\" class=\"dataframe\">\n",
       "  <thead>\n",
       "    <tr style=\"text-align: right;\">\n",
       "      <th></th>\n",
       "      <th>도착 시군구 코드</th>\n",
       "      <th>평균 이동 시간(분)_x</th>\n",
       "      <th>이동인구(합)_x</th>\n",
       "      <th>평균 이동 시간(분)_y</th>\n",
       "      <th>이동인구(합)_y</th>\n",
       "    </tr>\n",
       "  </thead>\n",
       "  <tbody>\n",
       "    <tr>\n",
       "      <th>0</th>\n",
       "      <td>11010</td>\n",
       "      <td>21.867754</td>\n",
       "      <td>46.046219</td>\n",
       "      <td>5471640</td>\n",
       "      <td>1.152145e+07</td>\n",
       "    </tr>\n",
       "    <tr>\n",
       "      <th>1</th>\n",
       "      <td>11020</td>\n",
       "      <td>21.524817</td>\n",
       "      <td>46.214336</td>\n",
       "      <td>5368440</td>\n",
       "      <td>1.152618e+07</td>\n",
       "    </tr>\n",
       "    <tr>\n",
       "      <th>2</th>\n",
       "      <td>11030</td>\n",
       "      <td>21.820458</td>\n",
       "      <td>38.412082</td>\n",
       "      <td>4959790</td>\n",
       "      <td>8.731066e+06</td>\n",
       "    </tr>\n",
       "    <tr>\n",
       "      <th>3</th>\n",
       "      <td>11040</td>\n",
       "      <td>22.150334</td>\n",
       "      <td>44.717847</td>\n",
       "      <td>5139830</td>\n",
       "      <td>1.037646e+07</td>\n",
       "    </tr>\n",
       "    <tr>\n",
       "      <th>4</th>\n",
       "      <td>11050</td>\n",
       "      <td>22.810568</td>\n",
       "      <td>50.043326</td>\n",
       "      <td>5020720</td>\n",
       "      <td>1.101479e+07</td>\n",
       "    </tr>\n",
       "  </tbody>\n",
       "</table>\n",
       "</div>"
      ],
      "text/plain": [
       "   도착 시군구 코드  평균 이동 시간(분)_x  이동인구(합)_x  평균 이동 시간(분)_y     이동인구(합)_y\n",
       "0      11010      21.867754  46.046219        5471640  1.152145e+07\n",
       "1      11020      21.524817  46.214336        5368440  1.152618e+07\n",
       "2      11030      21.820458  38.412082        4959790  8.731066e+06\n",
       "3      11040      22.150334  44.717847        5139830  1.037646e+07\n",
       "4      11050      22.810568  50.043326        5020720  1.101479e+07"
      ]
     },
     "execution_count": 7,
     "metadata": {},
     "output_type": "execute_result"
    }
   ],
   "source": [
    "df_seoul_moving.head()"
   ]
  },
  {
   "cell_type": "code",
   "execution_count": 8,
   "id": "24951c98",
   "metadata": {},
   "outputs": [],
   "source": [
    "df = pd.merge(standard,df_seoul_bus_station,how='inner', on='자치구')"
   ]
  },
  {
   "cell_type": "code",
   "execution_count": 9,
   "id": "6a6559c8",
   "metadata": {},
   "outputs": [],
   "source": [
    "df = pd.merge(df,df_seoul_moving,how='inner', on='도착 시군구 코드')"
   ]
  },
  {
   "cell_type": "code",
   "execution_count": 10,
   "id": "2aab60fa",
   "metadata": {},
   "outputs": [
    {
     "data": {
      "text/html": [
       "<div>\n",
       "<style scoped>\n",
       "    .dataframe tbody tr th:only-of-type {\n",
       "        vertical-align: middle;\n",
       "    }\n",
       "\n",
       "    .dataframe tbody tr th {\n",
       "        vertical-align: top;\n",
       "    }\n",
       "\n",
       "    .dataframe thead th {\n",
       "        text-align: right;\n",
       "    }\n",
       "</style>\n",
       "<table border=\"1\" class=\"dataframe\">\n",
       "  <thead>\n",
       "    <tr style=\"text-align: right;\">\n",
       "      <th></th>\n",
       "      <th>도착 시군구 코드</th>\n",
       "      <th>자치구</th>\n",
       "      <th>정류장수</th>\n",
       "      <th>노선수</th>\n",
       "      <th>승차총승객수</th>\n",
       "      <th>하차총승객수</th>\n",
       "      <th>승차평균승객수</th>\n",
       "      <th>하차평균승객수</th>\n",
       "      <th>평균 이동 시간(분)_x</th>\n",
       "      <th>이동인구(합)_x</th>\n",
       "      <th>평균 이동 시간(분)_y</th>\n",
       "      <th>이동인구(합)_y</th>\n",
       "    </tr>\n",
       "  </thead>\n",
       "  <tbody>\n",
       "    <tr>\n",
       "      <th>0</th>\n",
       "      <td>11010</td>\n",
       "      <td>종로구</td>\n",
       "      <td>349</td>\n",
       "      <td>106</td>\n",
       "      <td>5468935</td>\n",
       "      <td>5205394</td>\n",
       "      <td>131.889620</td>\n",
       "      <td>125.534028</td>\n",
       "      <td>21.867754</td>\n",
       "      <td>46.046219</td>\n",
       "      <td>5471640</td>\n",
       "      <td>1.152145e+07</td>\n",
       "    </tr>\n",
       "    <tr>\n",
       "      <th>1</th>\n",
       "      <td>11020</td>\n",
       "      <td>중구</td>\n",
       "      <td>178</td>\n",
       "      <td>103</td>\n",
       "      <td>3776675</td>\n",
       "      <td>3598932</td>\n",
       "      <td>121.020124</td>\n",
       "      <td>115.324511</td>\n",
       "      <td>21.524817</td>\n",
       "      <td>46.214336</td>\n",
       "      <td>5368440</td>\n",
       "      <td>1.152618e+07</td>\n",
       "    </tr>\n",
       "    <tr>\n",
       "      <th>2</th>\n",
       "      <td>11030</td>\n",
       "      <td>용산구</td>\n",
       "      <td>323</td>\n",
       "      <td>67</td>\n",
       "      <td>4189977</td>\n",
       "      <td>4086474</td>\n",
       "      <td>137.891694</td>\n",
       "      <td>134.485421</td>\n",
       "      <td>21.820458</td>\n",
       "      <td>38.412082</td>\n",
       "      <td>4959790</td>\n",
       "      <td>8.731066e+06</td>\n",
       "    </tr>\n",
       "    <tr>\n",
       "      <th>3</th>\n",
       "      <td>11040</td>\n",
       "      <td>성동구</td>\n",
       "      <td>435</td>\n",
       "      <td>58</td>\n",
       "      <td>2807280</td>\n",
       "      <td>2746738</td>\n",
       "      <td>96.377369</td>\n",
       "      <td>94.298888</td>\n",
       "      <td>22.150334</td>\n",
       "      <td>44.717847</td>\n",
       "      <td>5139830</td>\n",
       "      <td>1.037646e+07</td>\n",
       "    </tr>\n",
       "    <tr>\n",
       "      <th>4</th>\n",
       "      <td>11050</td>\n",
       "      <td>광진구</td>\n",
       "      <td>269</td>\n",
       "      <td>41</td>\n",
       "      <td>2749448</td>\n",
       "      <td>2753411</td>\n",
       "      <td>118.352546</td>\n",
       "      <td>118.523137</td>\n",
       "      <td>22.810568</td>\n",
       "      <td>50.043326</td>\n",
       "      <td>5020720</td>\n",
       "      <td>1.101479e+07</td>\n",
       "    </tr>\n",
       "  </tbody>\n",
       "</table>\n",
       "</div>"
      ],
      "text/plain": [
       "   도착 시군구 코드  자치구  정류장수  노선수   승차총승객수   하차총승객수     승차평균승객수     하차평균승객수  \\\n",
       "0      11010  종로구   349  106  5468935  5205394  131.889620  125.534028   \n",
       "1      11020   중구   178  103  3776675  3598932  121.020124  115.324511   \n",
       "2      11030  용산구   323   67  4189977  4086474  137.891694  134.485421   \n",
       "3      11040  성동구   435   58  2807280  2746738   96.377369   94.298888   \n",
       "4      11050  광진구   269   41  2749448  2753411  118.352546  118.523137   \n",
       "\n",
       "   평균 이동 시간(분)_x  이동인구(합)_x  평균 이동 시간(분)_y     이동인구(합)_y  \n",
       "0      21.867754  46.046219        5471640  1.152145e+07  \n",
       "1      21.524817  46.214336        5368440  1.152618e+07  \n",
       "2      21.820458  38.412082        4959790  8.731066e+06  \n",
       "3      22.150334  44.717847        5139830  1.037646e+07  \n",
       "4      22.810568  50.043326        5020720  1.101479e+07  "
      ]
     },
     "execution_count": 10,
     "metadata": {},
     "output_type": "execute_result"
    }
   ],
   "source": [
    "df.head()"
   ]
  },
  {
   "cell_type": "markdown",
   "id": "b2edf769",
   "metadata": {},
   "source": [
    "## 1.가설 수립 \n",
    "+ 어떤 데이터를 label 데이터로 하실 건가요?\n",
    "\n",
    "? 정해진게 없나요? - 네 라벨을 개인및 조별로 고민하셔서 라벨데이터를 설정하시면 되겠습니다\n",
    "? 가설마다 라벨데이터가 달라도 상관없나요? 네 그렇습니다\n",
    "? 가설은 3개만 해야하나요? 그 이상 하셔도 무방합니다\n",
    "\n",
    "## 가설을 설정해 봅시다 (인당 최소 3개) - 미니프로젝트 진행의 편의상 가설은 이변량 분석을 염두에 두고 설정해 주세요"
   ]
  },
  {
   "cell_type": "markdown",
   "id": "b3d42e07",
   "metadata": {},
   "source": [
    "* 가설 1    정류장수와 승차총승객수는 관련이 있다."
   ]
  },
  {
   "cell_type": "markdown",
   "id": "4fd1db81",
   "metadata": {},
   "source": [
    "* 가설 2    정류장수와 하차총승객수는 관련이 있다."
   ]
  },
  {
   "cell_type": "markdown",
   "id": "e527bc75",
   "metadata": {},
   "source": [
    "* 가설 3  정류장수와 평균이동시간은 관련이 있다."
   ]
  },
  {
   "cell_type": "markdown",
   "id": "6aa7b930",
   "metadata": {},
   "source": [
    "## 2.단변량 분석\n",
    "\n",
    "+ 변수의 비즈니스 의미  \n",
    "\n",
    "+ 숫자? 범주?  \n",
    "\n",
    "+ 전처리 사항\n",
    "   - NaN 존재 여부 및 조치 방안  \n",
    "   - 가변수화 대상여부  \n",
    "   \n",
    "+ 기초통계량\n",
    "\n",
    "+ 분포  \n",
    "\n",
    "+ 위 정보로부터 파악한 내용(비즈니스!) 정리  \n",
    "\n",
    "+ 추가 분석해볼 사항 도출"
   ]
  },
  {
   "cell_type": "code",
   "execution_count": 17,
   "id": "cfa0ba67",
   "metadata": {},
   "outputs": [
    {
     "data": {
      "text/plain": [
       "0"
      ]
     },
     "execution_count": 17,
     "metadata": {},
     "output_type": "execute_result"
    }
   ],
   "source": [
    "df['하차총승객수'].isnull().sum()"
   ]
  },
  {
   "cell_type": "code",
   "execution_count": 15,
   "id": "b62009a9",
   "metadata": {},
   "outputs": [],
   "source": [
    "# 시각화 한글폰트 설정\n",
    "import seaborn as sns\n",
    "import matplotlib.pyplot as plt\n",
    "\n",
    "plt.rc('font', family='Malgun Gothic')\n",
    "sns.set(font=\"Malgun Gothic\",#\"NanumGothicCoding\", \n",
    "        rc={\"axes.unicode_minus\":False}, # 마이너스 부호 깨짐 현상 해결\n",
    "        style='darkgrid')        "
   ]
  },
  {
   "cell_type": "markdown",
   "id": "39ef5d0f",
   "metadata": {},
   "source": [
    "### 1)\n"
   ]
  },
  {
   "cell_type": "code",
   "execution_count": 23,
   "id": "49d13409",
   "metadata": {},
   "outputs": [
    {
     "name": "stdout",
     "output_type": "stream",
     "text": [
      "<class 'pandas.core.frame.DataFrame'>\n",
      "Int64Index: 25 entries, 0 to 24\n",
      "Data columns (total 12 columns):\n",
      " #   Column         Non-Null Count  Dtype  \n",
      "---  ------         --------------  -----  \n",
      " 0   도착 시군구 코드      25 non-null     int64  \n",
      " 1   자치구            25 non-null     object \n",
      " 2   정류장수           25 non-null     int64  \n",
      " 3   노선수            25 non-null     int64  \n",
      " 4   승차총승객수         25 non-null     int64  \n",
      " 5   하차총승객수         25 non-null     int64  \n",
      " 6   승차평균승객수        25 non-null     float64\n",
      " 7   하차평균승객수        25 non-null     float64\n",
      " 8   평균 이동 시간(분)_x  25 non-null     float64\n",
      " 9   이동인구(합)_x      25 non-null     float64\n",
      " 10  평균 이동 시간(분)_y  25 non-null     int64  \n",
      " 11  이동인구(합)_y      25 non-null     float64\n",
      "dtypes: float64(5), int64(6), object(1)\n",
      "memory usage: 2.5+ KB\n"
     ]
    }
   ],
   "source": [
    "df.info()"
   ]
  },
  {
   "cell_type": "code",
   "execution_count": 26,
   "id": "16d2ab66",
   "metadata": {},
   "outputs": [
    {
     "data": {
      "text/html": [
       "<div>\n",
       "<style scoped>\n",
       "    .dataframe tbody tr th:only-of-type {\n",
       "        vertical-align: middle;\n",
       "    }\n",
       "\n",
       "    .dataframe tbody tr th {\n",
       "        vertical-align: top;\n",
       "    }\n",
       "\n",
       "    .dataframe thead th {\n",
       "        text-align: right;\n",
       "    }\n",
       "</style>\n",
       "<table border=\"1\" class=\"dataframe\">\n",
       "  <thead>\n",
       "    <tr style=\"text-align: right;\">\n",
       "      <th></th>\n",
       "      <th>도착 시군구 코드</th>\n",
       "      <th>정류장수</th>\n",
       "      <th>노선수</th>\n",
       "      <th>승차총승객수</th>\n",
       "      <th>하차총승객수</th>\n",
       "      <th>승차평균승객수</th>\n",
       "      <th>하차평균승객수</th>\n",
       "      <th>평균 이동 시간(분)_x</th>\n",
       "      <th>이동인구(합)_x</th>\n",
       "      <th>평균 이동 시간(분)_y</th>\n",
       "      <th>이동인구(합)_y</th>\n",
       "    </tr>\n",
       "  </thead>\n",
       "  <tbody>\n",
       "    <tr>\n",
       "      <th>도착 시군구 코드</th>\n",
       "      <td>1.000000</td>\n",
       "      <td>0.447511</td>\n",
       "      <td>-0.069435</td>\n",
       "      <td>0.440756</td>\n",
       "      <td>0.441705</td>\n",
       "      <td>0.017980</td>\n",
       "      <td>0.029956</td>\n",
       "      <td>0.457965</td>\n",
       "      <td>0.639658</td>\n",
       "      <td>0.276925</td>\n",
       "      <td>0.531874</td>\n",
       "    </tr>\n",
       "    <tr>\n",
       "      <th>정류장수</th>\n",
       "      <td>0.447511</td>\n",
       "      <td>1.000000</td>\n",
       "      <td>0.258798</td>\n",
       "      <td>0.566681</td>\n",
       "      <td>0.578479</td>\n",
       "      <td>-0.135318</td>\n",
       "      <td>-0.099146</td>\n",
       "      <td>0.199466</td>\n",
       "      <td>0.387141</td>\n",
       "      <td>0.359348</td>\n",
       "      <td>0.370605</td>\n",
       "    </tr>\n",
       "    <tr>\n",
       "      <th>노선수</th>\n",
       "      <td>-0.069435</td>\n",
       "      <td>0.258798</td>\n",
       "      <td>1.000000</td>\n",
       "      <td>0.665488</td>\n",
       "      <td>0.652642</td>\n",
       "      <td>0.493541</td>\n",
       "      <td>0.470440</td>\n",
       "      <td>-0.693565</td>\n",
       "      <td>-0.013633</td>\n",
       "      <td>0.360500</td>\n",
       "      <td>0.188197</td>\n",
       "    </tr>\n",
       "    <tr>\n",
       "      <th>승차총승객수</th>\n",
       "      <td>0.440756</td>\n",
       "      <td>0.566681</td>\n",
       "      <td>0.665488</td>\n",
       "      <td>1.000000</td>\n",
       "      <td>0.996610</td>\n",
       "      <td>0.538720</td>\n",
       "      <td>0.547384</td>\n",
       "      <td>-0.146534</td>\n",
       "      <td>0.472734</td>\n",
       "      <td>0.572455</td>\n",
       "      <td>0.568742</td>\n",
       "    </tr>\n",
       "    <tr>\n",
       "      <th>하차총승객수</th>\n",
       "      <td>0.441705</td>\n",
       "      <td>0.578479</td>\n",
       "      <td>0.652642</td>\n",
       "      <td>0.996610</td>\n",
       "      <td>1.000000</td>\n",
       "      <td>0.534826</td>\n",
       "      <td>0.555137</td>\n",
       "      <td>-0.135064</td>\n",
       "      <td>0.460952</td>\n",
       "      <td>0.564608</td>\n",
       "      <td>0.550686</td>\n",
       "    </tr>\n",
       "    <tr>\n",
       "      <th>승차평균승객수</th>\n",
       "      <td>0.017980</td>\n",
       "      <td>-0.135318</td>\n",
       "      <td>0.493541</td>\n",
       "      <td>0.538720</td>\n",
       "      <td>0.534826</td>\n",
       "      <td>1.000000</td>\n",
       "      <td>0.989288</td>\n",
       "      <td>-0.410118</td>\n",
       "      <td>-0.080959</td>\n",
       "      <td>0.124998</td>\n",
       "      <td>0.051692</td>\n",
       "    </tr>\n",
       "    <tr>\n",
       "      <th>하차평균승객수</th>\n",
       "      <td>0.029956</td>\n",
       "      <td>-0.099146</td>\n",
       "      <td>0.470440</td>\n",
       "      <td>0.547384</td>\n",
       "      <td>0.555137</td>\n",
       "      <td>0.989288</td>\n",
       "      <td>1.000000</td>\n",
       "      <td>-0.387490</td>\n",
       "      <td>-0.076575</td>\n",
       "      <td>0.133859</td>\n",
       "      <td>0.045831</td>\n",
       "    </tr>\n",
       "    <tr>\n",
       "      <th>평균 이동 시간(분)_x</th>\n",
       "      <td>0.457965</td>\n",
       "      <td>0.199466</td>\n",
       "      <td>-0.693565</td>\n",
       "      <td>-0.146534</td>\n",
       "      <td>-0.135064</td>\n",
       "      <td>-0.410118</td>\n",
       "      <td>-0.387490</td>\n",
       "      <td>1.000000</td>\n",
       "      <td>0.360419</td>\n",
       "      <td>-0.125621</td>\n",
       "      <td>0.120281</td>\n",
       "    </tr>\n",
       "    <tr>\n",
       "      <th>이동인구(합)_x</th>\n",
       "      <td>0.639658</td>\n",
       "      <td>0.387141</td>\n",
       "      <td>-0.013633</td>\n",
       "      <td>0.472734</td>\n",
       "      <td>0.460952</td>\n",
       "      <td>-0.080959</td>\n",
       "      <td>-0.076575</td>\n",
       "      <td>0.360419</td>\n",
       "      <td>1.000000</td>\n",
       "      <td>0.812646</td>\n",
       "      <td>0.963787</td>\n",
       "    </tr>\n",
       "    <tr>\n",
       "      <th>평균 이동 시간(분)_y</th>\n",
       "      <td>0.276925</td>\n",
       "      <td>0.359348</td>\n",
       "      <td>0.360500</td>\n",
       "      <td>0.572455</td>\n",
       "      <td>0.564608</td>\n",
       "      <td>0.124998</td>\n",
       "      <td>0.133859</td>\n",
       "      <td>-0.125621</td>\n",
       "      <td>0.812646</td>\n",
       "      <td>1.000000</td>\n",
       "      <td>0.908128</td>\n",
       "    </tr>\n",
       "    <tr>\n",
       "      <th>이동인구(합)_y</th>\n",
       "      <td>0.531874</td>\n",
       "      <td>0.370605</td>\n",
       "      <td>0.188197</td>\n",
       "      <td>0.568742</td>\n",
       "      <td>0.550686</td>\n",
       "      <td>0.051692</td>\n",
       "      <td>0.045831</td>\n",
       "      <td>0.120281</td>\n",
       "      <td>0.963787</td>\n",
       "      <td>0.908128</td>\n",
       "      <td>1.000000</td>\n",
       "    </tr>\n",
       "  </tbody>\n",
       "</table>\n",
       "</div>"
      ],
      "text/plain": [
       "               도착 시군구 코드      정류장수       노선수    승차총승객수    하차총승객수   승차평균승객수  \\\n",
       "도착 시군구 코드       1.000000  0.447511 -0.069435  0.440756  0.441705  0.017980   \n",
       "정류장수            0.447511  1.000000  0.258798  0.566681  0.578479 -0.135318   \n",
       "노선수            -0.069435  0.258798  1.000000  0.665488  0.652642  0.493541   \n",
       "승차총승객수          0.440756  0.566681  0.665488  1.000000  0.996610  0.538720   \n",
       "하차총승객수          0.441705  0.578479  0.652642  0.996610  1.000000  0.534826   \n",
       "승차평균승객수         0.017980 -0.135318  0.493541  0.538720  0.534826  1.000000   \n",
       "하차평균승객수         0.029956 -0.099146  0.470440  0.547384  0.555137  0.989288   \n",
       "평균 이동 시간(분)_x   0.457965  0.199466 -0.693565 -0.146534 -0.135064 -0.410118   \n",
       "이동인구(합)_x       0.639658  0.387141 -0.013633  0.472734  0.460952 -0.080959   \n",
       "평균 이동 시간(분)_y   0.276925  0.359348  0.360500  0.572455  0.564608  0.124998   \n",
       "이동인구(합)_y       0.531874  0.370605  0.188197  0.568742  0.550686  0.051692   \n",
       "\n",
       "                하차평균승객수  평균 이동 시간(분)_x  이동인구(합)_x  평균 이동 시간(분)_y  이동인구(합)_y  \n",
       "도착 시군구 코드      0.029956       0.457965   0.639658       0.276925   0.531874  \n",
       "정류장수          -0.099146       0.199466   0.387141       0.359348   0.370605  \n",
       "노선수            0.470440      -0.693565  -0.013633       0.360500   0.188197  \n",
       "승차총승객수         0.547384      -0.146534   0.472734       0.572455   0.568742  \n",
       "하차총승객수         0.555137      -0.135064   0.460952       0.564608   0.550686  \n",
       "승차평균승객수        0.989288      -0.410118  -0.080959       0.124998   0.051692  \n",
       "하차평균승객수        1.000000      -0.387490  -0.076575       0.133859   0.045831  \n",
       "평균 이동 시간(분)_x -0.387490       1.000000   0.360419      -0.125621   0.120281  \n",
       "이동인구(합)_x     -0.076575       0.360419   1.000000       0.812646   0.963787  \n",
       "평균 이동 시간(분)_y  0.133859      -0.125621   0.812646       1.000000   0.908128  \n",
       "이동인구(합)_y      0.045831       0.120281   0.963787       0.908128   1.000000  "
      ]
     },
     "execution_count": 26,
     "metadata": {},
     "output_type": "execute_result"
    }
   ],
   "source": [
    "df.corr()"
   ]
  },
  {
   "cell_type": "code",
   "execution_count": 12,
   "id": "9794e2ce",
   "metadata": {},
   "outputs": [],
   "source": [
    "import seaborn as sns"
   ]
  },
  {
   "cell_type": "markdown",
   "id": "a4e3ec6e",
   "metadata": {},
   "source": [
    "### 2)"
   ]
  },
  {
   "cell_type": "code",
   "execution_count": null,
   "id": "fba87e8a",
   "metadata": {},
   "outputs": [],
   "source": []
  },
  {
   "cell_type": "markdown",
   "id": "a7193abc",
   "metadata": {},
   "source": [
    "### 3)"
   ]
  },
  {
   "cell_type": "markdown",
   "id": "ac81d719",
   "metadata": {},
   "source": [
    "## 3.이변량 분석\n",
    "\n",
    "* 자료의 종류에 맞게 X --> Y 에 대해서 그래프(시각화)와 가설검정(수치화)를 수행하고 결과를 평가합니다.\n",
    "\n",
    "* 가설검정시 다음의 항목을 참조하여 수행합니다.\n",
    "    * 유의수준 : 5%\n",
    "    * 숫자 --> 숫자 : 상관분석\n",
    "    * 범주 --> 범주 : 카이제곱검정\n",
    "    * 범주 --> 숫자 : t검정, 분산분석\n",
    "    * 숫자 --> 범주 : 로지스틱 회귀모형을 통해, 회귀계수의 P.value로 검정을 수행합니다.\n"
   ]
  },
  {
   "cell_type": "code",
   "execution_count": 17,
   "id": "d4c9ece2",
   "metadata": {},
   "outputs": [],
   "source": [
    "target = '정류장수'\n",
    "feature = '승차총승객수'"
   ]
  },
  {
   "cell_type": "code",
   "execution_count": 18,
   "id": "1fcf1b66",
   "metadata": {},
   "outputs": [
    {
     "data": {
      "image/png": "[encoded data removed]",
      "text/plain": [
       "<Figure size 432x288 with 1 Axes>"
      ]
     },
     "metadata": {},
     "output_type": "display_data"
    }
   ],
   "source": [
    "sns.scatterplot(x=feature, y =target, data = df) \n",
    "plt.show()"
   ]
  },
  {
   "cell_type": "code",
   "execution_count": 36,
   "id": "4b8d2e69",
   "metadata": {},
   "outputs": [
    {
     "data": {
      "image/png": "[encoded data removed]",
      "text/plain": [
       "<Figure size 432x288 with 1 Axes>"
      ]
     },
     "metadata": {},
     "output_type": "display_data"
    }
   ],
   "source": [
    "sns.regplot(x=feature, y =target, data = df) \n",
    "plt.show()"
   ]
  },
  {
   "cell_type": "code",
   "execution_count": 38,
   "id": "7c923d97",
   "metadata": {
    "scrolled": false
   },
   "outputs": [
    {
     "data": {
      "image/png": "[encoded data removed]",
      "text/plain": [
       "<Figure size 432x432 with 3 Axes>"
      ]
     },
     "metadata": {},
     "output_type": "display_data"
    }
   ],
   "source": [
    "sns.jointplot(x=feature, y =target, data = df)\n",
    "plt.show()"
   ]
  },
  {
   "cell_type": "code",
   "execution_count": 41,
   "id": "e0820978",
   "metadata": {},
   "outputs": [],
   "source": [
    "import scipy.stats as spst"
   ]
  },
  {
   "cell_type": "code",
   "execution_count": 42,
   "id": "c4ecbebc",
   "metadata": {},
   "outputs": [
    {
     "data": {
      "text/plain": [
       "(0.5666813370974585, 0.003141977397117322)"
      ]
     },
     "execution_count": 42,
     "metadata": {},
     "output_type": "execute_result"
    }
   ],
   "source": [
    "# 상관계수와 p-value \n",
    "spst.pearsonr(df[target], df[feature])  # 약한 상관관계를 보인다.(정류장수와 승차총승객수)"
   ]
  },
  {
   "cell_type": "code",
   "execution_count": 29,
   "id": "ea84e54e",
   "metadata": {},
   "outputs": [
    {
     "data": {
      "text/html": [
       "<div>\n",
       "<style scoped>\n",
       "    .dataframe tbody tr th:only-of-type {\n",
       "        vertical-align: middle;\n",
       "    }\n",
       "\n",
       "    .dataframe tbody tr th {\n",
       "        vertical-align: top;\n",
       "    }\n",
       "\n",
       "    .dataframe thead th {\n",
       "        text-align: right;\n",
       "    }\n",
       "</style>\n",
       "<table border=\"1\" class=\"dataframe\">\n",
       "  <thead>\n",
       "    <tr style=\"text-align: right;\">\n",
       "      <th></th>\n",
       "      <th>하차총승객수</th>\n",
       "      <th>정류장수</th>\n",
       "      <th>자치구</th>\n",
       "    </tr>\n",
       "  </thead>\n",
       "  <tbody>\n",
       "    <tr>\n",
       "      <th>20</th>\n",
       "      <td>7792476</td>\n",
       "      <td>466</td>\n",
       "      <td>관악구</td>\n",
       "    </tr>\n",
       "    <tr>\n",
       "      <th>22</th>\n",
       "      <td>7569213</td>\n",
       "      <td>499</td>\n",
       "      <td>강남구</td>\n",
       "    </tr>\n",
       "    <tr>\n",
       "      <th>21</th>\n",
       "      <td>6977950</td>\n",
       "      <td>600</td>\n",
       "      <td>서초구</td>\n",
       "    </tr>\n",
       "    <tr>\n",
       "      <th>7</th>\n",
       "      <td>6231238</td>\n",
       "      <td>602</td>\n",
       "      <td>성북구</td>\n",
       "    </tr>\n",
       "    <tr>\n",
       "      <th>12</th>\n",
       "      <td>5796960</td>\n",
       "      <td>456</td>\n",
       "      <td>서대문구</td>\n",
       "    </tr>\n",
       "  </tbody>\n",
       "</table>\n",
       "</div>"
      ],
      "text/plain": [
       "     하차총승객수  정류장수   자치구\n",
       "20  7792476   466   관악구\n",
       "22  7569213   499   강남구\n",
       "21  6977950   600   서초구\n",
       "7   6231238   602   성북구\n",
       "12  5796960   456  서대문구"
      ]
     },
     "execution_count": 29,
     "metadata": {},
     "output_type": "execute_result"
    }
   ],
   "source": [
    "# 하차총승객이 높은 정류장 top5\n",
    "df.sort_values(by = '하차총승객수', ascending = False)[['하차총승객수','정류장수','자치구']].head(5)"
   ]
  },
  {
   "cell_type": "code",
   "execution_count": 42,
   "id": "e3bd79d7",
   "metadata": {},
   "outputs": [],
   "source": [
    "feature='평균 이동 시간(분)_y'"
   ]
  },
  {
   "cell_type": "code",
   "execution_count": 43,
   "id": "c3cdaaca",
   "metadata": {},
   "outputs": [
    {
     "data": {
      "image/png": "[encoded data removed]",
      "text/plain": [
       "<Figure size 432x288 with 1 Axes>"
      ]
     },
     "metadata": {},
     "output_type": "display_data"
    }
   ],
   "source": [
    "sns.regplot(x=feature, y =target, data = df)\n",
    "plt.show()"
   ]
  },
  {
   "cell_type": "code",
   "execution_count": 44,
   "id": "cb71f2ed",
   "metadata": {
    "scrolled": true
   },
   "outputs": [
    {
     "data": {
      "text/plain": [
       "(0.3593479143752468, 0.07769389116350128)"
      ]
     },
     "execution_count": 44,
     "metadata": {},
     "output_type": "execute_result"
    }
   ],
   "source": [
    "spst.pearsonr(df[target], df[feature])  # 관계가 없다.(정류장수와 평균이동시간)"
   ]
  },
  {
   "cell_type": "code",
   "execution_count": 40,
   "id": "2f6fb179",
   "metadata": {},
   "outputs": [],
   "source": [
    "feature='하차총승객수'"
   ]
  },
  {
   "cell_type": "code",
   "execution_count": 41,
   "id": "c606cfc5",
   "metadata": {},
   "outputs": [
    {
     "data": {
      "image/png": "[encoded data removed]",
      "text/plain": [
       "<Figure size 432x288 with 1 Axes>"
      ]
     },
     "metadata": {},
     "output_type": "display_data"
    }
   ],
   "source": [
    "sns.regplot(x=feature, y =target, data = df)\n",
    "plt.show()"
   ]
  },
  {
   "cell_type": "code",
   "execution_count": 47,
   "id": "c96f8383",
   "metadata": {},
   "outputs": [
    {
     "data": {
      "text/plain": [
       "(0.5784790149467576, 0.0024518332034538645)"
      ]
     },
     "execution_count": 47,
     "metadata": {},
     "output_type": "execute_result"
    }
   ],
   "source": [
    "spst.pearsonr(df['정류장수'], df['하차총승객수'])  # 중간정도 상관관계를 보인다.(정류장수와 하차총승객수)"
   ]
  },
  {
   "cell_type": "code",
   "execution_count": 29,
   "id": "be50ad47",
   "metadata": {},
   "outputs": [
    {
     "data": {
      "text/html": [
       "<div>\n",
       "<style scoped>\n",
       "    .dataframe tbody tr th:only-of-type {\n",
       "        vertical-align: middle;\n",
       "    }\n",
       "\n",
       "    .dataframe tbody tr th {\n",
       "        vertical-align: top;\n",
       "    }\n",
       "\n",
       "    .dataframe thead th {\n",
       "        text-align: right;\n",
       "    }\n",
       "</style>\n",
       "<table border=\"1\" class=\"dataframe\">\n",
       "  <thead>\n",
       "    <tr style=\"text-align: right;\">\n",
       "      <th></th>\n",
       "      <th>도착 시군구 코드</th>\n",
       "      <th>자치구</th>\n",
       "      <th>정류장수</th>\n",
       "      <th>노선수</th>\n",
       "      <th>승차총승객수</th>\n",
       "      <th>하차총승객수</th>\n",
       "      <th>승차평균승객수</th>\n",
       "      <th>하차평균승객수</th>\n",
       "      <th>평균 이동 시간(분)_x</th>\n",
       "      <th>이동인구(합)_x</th>\n",
       "      <th>평균 이동 시간(분)_y</th>\n",
       "      <th>이동인구(합)_y</th>\n",
       "      <th>승객수/정류장</th>\n",
       "      <th>승객수/노선수</th>\n",
       "    </tr>\n",
       "  </thead>\n",
       "  <tbody>\n",
       "    <tr>\n",
       "      <th>0</th>\n",
       "      <td>11010</td>\n",
       "      <td>종로구</td>\n",
       "      <td>349</td>\n",
       "      <td>106</td>\n",
       "      <td>5468935</td>\n",
       "      <td>5205394</td>\n",
       "      <td>131.889620</td>\n",
       "      <td>125.534028</td>\n",
       "      <td>21.867754</td>\n",
       "      <td>46.046219</td>\n",
       "      <td>5471640</td>\n",
       "      <td>1.152145e+07</td>\n",
       "      <td>14915.169054</td>\n",
       "      <td>49107.490566</td>\n",
       "    </tr>\n",
       "    <tr>\n",
       "      <th>1</th>\n",
       "      <td>11020</td>\n",
       "      <td>중구</td>\n",
       "      <td>178</td>\n",
       "      <td>103</td>\n",
       "      <td>3776675</td>\n",
       "      <td>3598932</td>\n",
       "      <td>121.020124</td>\n",
       "      <td>115.324511</td>\n",
       "      <td>21.524817</td>\n",
       "      <td>46.214336</td>\n",
       "      <td>5368440</td>\n",
       "      <td>1.152618e+07</td>\n",
       "      <td>20218.719101</td>\n",
       "      <td>34941.087379</td>\n",
       "    </tr>\n",
       "    <tr>\n",
       "      <th>2</th>\n",
       "      <td>11030</td>\n",
       "      <td>용산구</td>\n",
       "      <td>323</td>\n",
       "      <td>67</td>\n",
       "      <td>4189977</td>\n",
       "      <td>4086474</td>\n",
       "      <td>137.891694</td>\n",
       "      <td>134.485421</td>\n",
       "      <td>21.820458</td>\n",
       "      <td>38.412082</td>\n",
       "      <td>4959790</td>\n",
       "      <td>8.731066e+06</td>\n",
       "      <td>12651.622291</td>\n",
       "      <td>60992.149254</td>\n",
       "    </tr>\n",
       "    <tr>\n",
       "      <th>3</th>\n",
       "      <td>11040</td>\n",
       "      <td>성동구</td>\n",
       "      <td>435</td>\n",
       "      <td>58</td>\n",
       "      <td>2807280</td>\n",
       "      <td>2746738</td>\n",
       "      <td>96.377369</td>\n",
       "      <td>94.298888</td>\n",
       "      <td>22.150334</td>\n",
       "      <td>44.717847</td>\n",
       "      <td>5139830</td>\n",
       "      <td>1.037646e+07</td>\n",
       "      <td>6314.340230</td>\n",
       "      <td>47357.551724</td>\n",
       "    </tr>\n",
       "    <tr>\n",
       "      <th>4</th>\n",
       "      <td>11050</td>\n",
       "      <td>광진구</td>\n",
       "      <td>269</td>\n",
       "      <td>41</td>\n",
       "      <td>2749448</td>\n",
       "      <td>2753411</td>\n",
       "      <td>118.352546</td>\n",
       "      <td>118.523137</td>\n",
       "      <td>22.810568</td>\n",
       "      <td>50.043326</td>\n",
       "      <td>5020720</td>\n",
       "      <td>1.101479e+07</td>\n",
       "      <td>10235.728625</td>\n",
       "      <td>67156.365854</td>\n",
       "    </tr>\n",
       "  </tbody>\n",
       "</table>\n",
       "</div>"
      ],
      "text/plain": [
       "   도착 시군구 코드  자치구  정류장수  노선수   승차총승객수   하차총승객수     승차평균승객수     하차평균승객수  \\\n",
       "0      11010  종로구   349  106  5468935  5205394  131.889620  125.534028   \n",
       "1      11020   중구   178  103  3776675  3598932  121.020124  115.324511   \n",
       "2      11030  용산구   323   67  4189977  4086474  137.891694  134.485421   \n",
       "3      11040  성동구   435   58  2807280  2746738   96.377369   94.298888   \n",
       "4      11050  광진구   269   41  2749448  2753411  118.352546  118.523137   \n",
       "\n",
       "   평균 이동 시간(분)_x  이동인구(합)_x  평균 이동 시간(분)_y     이동인구(합)_y       승객수/정류장  \\\n",
       "0      21.867754  46.046219        5471640  1.152145e+07  14915.169054   \n",
       "1      21.524817  46.214336        5368440  1.152618e+07  20218.719101   \n",
       "2      21.820458  38.412082        4959790  8.731066e+06  12651.622291   \n",
       "3      22.150334  44.717847        5139830  1.037646e+07   6314.340230   \n",
       "4      22.810568  50.043326        5020720  1.101479e+07  10235.728625   \n",
       "\n",
       "        승객수/노선수  \n",
       "0  49107.490566  \n",
       "1  34941.087379  \n",
       "2  60992.149254  \n",
       "3  47357.551724  \n",
       "4  67156.365854  "
      ]
     },
     "execution_count": 29,
     "metadata": {},
     "output_type": "execute_result"
    }
   ],
   "source": [
    "df.head()"
   ]
  },
  {
   "cell_type": "code",
   "execution_count": 25,
   "id": "3004d2ce",
   "metadata": {},
   "outputs": [],
   "source": [
    "df['승객수/정류장']=df['하차총승객수']/df['정류장수']"
   ]
  },
  {
   "cell_type": "code",
   "execution_count": 28,
   "id": "7fdb5d9d",
   "metadata": {},
   "outputs": [],
   "source": [
    "df['승객수/노선수']=df['하차총승객수']/df['노선수']"
   ]
  },
  {
   "cell_type": "code",
   "execution_count": 37,
   "id": "a6aacd1c",
   "metadata": {
    "scrolled": true
   },
   "outputs": [
    {
     "data": {
      "image/png": "[encoded data removed]",
      "text/plain": [
       "<Figure size 1224x576 with 2 Axes>"
      ]
     },
     "metadata": {},
     "output_type": "display_data"
    }
   ],
   "source": [
    "plt.figure(figsize=(17,8))\n",
    "\n",
    "plt.subplot(1,2,1)\n",
    "sns.barplot(x='자치구', y ='승객수/정류장', data = df)\n",
    "plt.xticks(rotation=50)\n",
    "\n",
    "plt.subplot(1,2,2)\n",
    "sns.barplot(x='자치구', y ='승객수/노선수', data = df)\n",
    "plt.xticks(rotation=50)\n",
    "\n",
    "plt.show()"
   ]
  },
  {
   "cell_type": "code",
   "execution_count": null,
   "id": "20e8e36f",
   "metadata": {},
   "outputs": [],
   "source": [
    "spst.pearsonr(df['정류장수'], df['하차총승객수'])  # 중간정도 상관관계를 보인다.(정류장수와 하차총승객수)\n",
    "\n",
    "\n",
    "df['하차승객/정류장']=df['하차총승객수']/df['정류장수']   # 하차총승객수별 정류장수에 대한 평균 칼럼 추가\n",
    "\n",
    "plt.figure(figsize=(17,8))\n",
    "\n",
    "sns.barplot(x='자치구', y ='하차승객/정류장', data = df)\n",
    "plt.xticks(rotation=50)\n",
    "plt.show()"
   ]
  },
  {
   "cell_type": "markdown",
   "id": "a1ef2391",
   "metadata": {},
   "source": [
    "### 1)"
   ]
  },
  {
   "cell_type": "markdown",
   "id": "9a7f6c08",
   "metadata": {},
   "source": [
    "### 2)"
   ]
  },
  {
   "cell_type": "markdown",
   "id": "3e09f869",
   "metadata": {},
   "source": [
    "### 3)"
   ]
  },
  {
   "cell_type": "markdown",
   "id": "20e08293",
   "metadata": {},
   "source": [
    "## 4.관계 정리"
   ]
  },
  {
   "cell_type": "markdown",
   "id": "b11433ac",
   "metadata": {},
   "source": [
    "### 1) 강한 관계의 변수"
   ]
  },
  {
   "cell_type": "markdown",
   "id": "ae622498",
   "metadata": {},
   "source": [
    "* 승차총승객수/ 하차총승객수"
   ]
  },
  {
   "cell_type": "markdown",
   "id": "3101b64b",
   "metadata": {},
   "source": [
    "### 2) 약한 관계의 변수"
   ]
  },
  {
   "cell_type": "markdown",
   "id": "7a7f579d",
   "metadata": {},
   "source": [
    "* 평균 이동 시간(분)/ 총이동시간"
   ]
  },
  {
   "cell_type": "markdown",
   "id": "644198b7",
   "metadata": {},
   "source": [
    "## 5.솔루션 도출\n",
    "\n",
    "### 어느 구에 버스 노선 또는 정류장이 제일 필요한가요? 그 이유는?"
   ]
  },
  {
   "cell_type": "markdown",
   "id": "cc89a853",
   "metadata": {},
   "source": [
    "* 정류장당 하차승객수가 많다는 것은 정류장 평균 하차승객이 많다는 의미로 정류장을 늘려주면 평균 하차승객수가 낮아질것임. 하차승객수가 많은 hot place가 모여있는 지역은 정류장을 hot place별로 더 세밀히 늘릴 필요가 있어보임.\n",
    "\n",
    "* 노선당 하차승객수가 많다는 이유는 노선이 태우는승객수가 많다는 의미이자 정류장수가 많지 않다는 것을 의미합니다. 승객수가 많은 노선에 대해서는 비슷한 노선을 추가하고 중복되는 정류장을 줄이면 노선별 승객수가 줄지 않을까 예상함."
   ]
  },
  {
   "cell_type": "markdown",
   "id": "783e8346",
   "metadata": {},
   "source": []
  }
 ],
 "metadata": {
  "colab": {
   "collapsed_sections": [],
   "name": "서울버스수요분석 데이터 분석(EDA)_ver0.1.ipynb",
   "provenance": [],
   "toc_visible": true
  },
  "kernelspec": {
   "display_name": "Python 3",
   "language": "python",
   "name": "python3"
  },
  "language_info": {
   "codemirror_mode": {
    "name": "ipython",
    "version": 3
   },
   "file_extension": ".py",
   "mimetype": "text/x-python",
   "name": "python",
   "nbconvert_exporter": "python",
   "pygments_lexer": "ipython3",
   "version": "3.8.8"
  },
  "vscode": {
   "interpreter": {
    "hash": "f08154012ddadd8e950e6e9e035c7a7b32c136e7647e9b7c77e02eb723a8bedb"
   }
  }
 },
 "nbformat": 4,
 "nbformat_minor": 5
}
