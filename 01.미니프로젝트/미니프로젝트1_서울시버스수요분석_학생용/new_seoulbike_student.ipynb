{
 "cells": [
  {
   "cell_type": "markdown",
   "id": "ef575059",
   "metadata": {
    "id": "ef575059"
   },
   "source": [
    "---"
   ]
  },
  {
   "cell_type": "markdown",
   "id": "46fa690c",
   "metadata": {
    "id": "46fa690c"
   },
   "source": [
    "## [미니프로젝트] 서울시 공유자전거 '따릉이'의 수요 예측\n",
    "\n",
    "### 여러분은 서울시 정책 연구원으로써 서울시 공유자전거인 '따릉이'의 수요와 날씨간 연관성을 분석하라는 미션을 부여받았습니다.\n",
    "\n",
    "#### <font color=\"blue\"> 데이터 분석의 주 목적은 가치있는 정보를 찾아내는것!! </font>\n",
    "\n",
    "### ▣ 우리가 풀어야 하는 문제는 무엇인가요?\n",
    "\n",
    " - 기상상황이 따릉이 수요에 주는 영향을 분석해봅시다."
   ]
  },
  {
   "cell_type": "markdown",
   "id": "a30cd0cd",
   "metadata": {
    "id": "a30cd0cd"
   },
   "source": [
    "---"
   ]
  },
  {
   "cell_type": "markdown",
   "id": "revolutionary-farmer",
   "metadata": {
    "id": "revolutionary-farmer"
   },
   "source": [
    "## ▣ 데이터 소개\n",
    "[기본 데이터]\n",
    "* 학습데이터 : traindata.csv\n",
    "\n",
    "## ▣ 데이터셋의 변수 소개\n",
    "* date : 날짜\n",
    "* hour : 시간\n",
    "* temperature : 온도\n",
    "* precipitation : 강우 여부, 비가 오지 않았으면 0, 비가 오면 1\n",
    "* windspeed : 풍속(평균)\n",
    "* humidity : 습도\n",
    "* visibility : 시정(視程), 시계(視界)(특정 기상 상태에 따른 가시성을 의미)\n",
    "* ozone : 오존 수치\n",
    "* PM10 : 미세먼지 수치(머리카락 굵기의 1/5에서 1/7 크기의 미세먼지)\n",
    "* PM2.5 : 초미세먼지 수치(머리카락 굵기의 1/20에서 1/30 크기의 미세먼지)\n",
    "* count : 시간에 따른 따릉이 대여 수"
   ]
  },
  {
   "cell_type": "markdown",
   "id": "matched-broad",
   "metadata": {
    "id": "matched-broad"
   },
   "source": [
    "---"
   ]
  },
  {
   "cell_type": "markdown",
   "id": "warming-gentleman",
   "metadata": {
    "id": "warming-gentleman"
   },
   "source": [
    "### [과제1] 환경 설정\n",
    "#### <span style=\"color: green\"> 1) 라이브러리 불러오기 </span>"
   ]
  },
  {
   "cell_type": "code",
   "execution_count": 6,
   "id": "442dc4e3",
   "metadata": {},
   "outputs": [],
   "source": [
    "#EDA에 사용할 라이브러리를 import 하세요\n",
    "\n",
    "import pandas as pd\n",
    "import numpy as np\n",
    "import matplotlib.pyplot as plt\n",
    "import seaborn as sns\n",
    "import scipy.stats as spst\n",
    "\n",
    "import warnings   \n",
    "warnings.filterwarnings(\"ignore\") "
   ]
  },
  {
   "cell_type": "markdown",
   "id": "vocational-animal",
   "metadata": {
    "id": "vocational-animal"
   },
   "source": [
    "#### <span style=\"color: green\"> 2) 활용할 데이터 불러오기 </span>"
   ]
  },
  {
   "cell_type": "code",
   "execution_count": 7,
   "id": "saving-slope",
   "metadata": {
    "executionInfo": {
     "elapsed": 305,
     "status": "ok",
     "timestamp": 1655797696108,
     "user": {
      "displayName": "Seonil Kwon",
      "userId": "10539738350691841262"
     },
     "user_tz": -540
    },
    "id": "saving-slope"
   },
   "outputs": [],
   "source": [
    "#이번 프로젝트에서 분석할 데이터를 불러오세요\n",
    "\n",
    "df = pd.read_csv('traindata.csv', sep=',', encoding= 'cp949')"
   ]
  },
  {
   "cell_type": "code",
   "execution_count": 8,
   "id": "bbbf753c",
   "metadata": {},
   "outputs": [
    {
     "data": {
      "text/html": [
       "<div>\n",
       "<style scoped>\n",
       "    .dataframe tbody tr th:only-of-type {\n",
       "        vertical-align: middle;\n",
       "    }\n",
       "\n",
       "    .dataframe tbody tr th {\n",
       "        vertical-align: top;\n",
       "    }\n",
       "\n",
       "    .dataframe thead th {\n",
       "        text-align: right;\n",
       "    }\n",
       "</style>\n",
       "<table border=\"1\" class=\"dataframe\">\n",
       "  <thead>\n",
       "    <tr style=\"text-align: right;\">\n",
       "      <th></th>\n",
       "      <th>date</th>\n",
       "      <th>hour</th>\n",
       "      <th>PM10</th>\n",
       "      <th>PM2.5</th>\n",
       "      <th>ozone</th>\n",
       "      <th>temperature</th>\n",
       "      <th>precipitation</th>\n",
       "      <th>windspeed</th>\n",
       "      <th>humidity</th>\n",
       "      <th>visibility</th>\n",
       "      <th>count</th>\n",
       "    </tr>\n",
       "  </thead>\n",
       "  <tbody>\n",
       "    <tr>\n",
       "      <th>5822</th>\n",
       "      <td>2021-11-29</td>\n",
       "      <td>20</td>\n",
       "      <td>74.0</td>\n",
       "      <td>58.0</td>\n",
       "      <td>0.002</td>\n",
       "      <td>9.3</td>\n",
       "      <td>0</td>\n",
       "      <td>0.3</td>\n",
       "      <td>66</td>\n",
       "      <td>1193</td>\n",
       "      <td>273</td>\n",
       "    </tr>\n",
       "    <tr>\n",
       "      <th>5823</th>\n",
       "      <td>2021-11-29</td>\n",
       "      <td>21</td>\n",
       "      <td>65.0</td>\n",
       "      <td>56.0</td>\n",
       "      <td>0.002</td>\n",
       "      <td>8.4</td>\n",
       "      <td>0</td>\n",
       "      <td>2.0</td>\n",
       "      <td>70</td>\n",
       "      <td>1233</td>\n",
       "      <td>228</td>\n",
       "    </tr>\n",
       "    <tr>\n",
       "      <th>5824</th>\n",
       "      <td>2021-11-29</td>\n",
       "      <td>22</td>\n",
       "      <td>51.0</td>\n",
       "      <td>41.0</td>\n",
       "      <td>0.002</td>\n",
       "      <td>8.6</td>\n",
       "      <td>0</td>\n",
       "      <td>1.9</td>\n",
       "      <td>70</td>\n",
       "      <td>1250</td>\n",
       "      <td>215</td>\n",
       "    </tr>\n",
       "    <tr>\n",
       "      <th>5825</th>\n",
       "      <td>2021-11-29</td>\n",
       "      <td>23</td>\n",
       "      <td>43.0</td>\n",
       "      <td>35.0</td>\n",
       "      <td>0.001</td>\n",
       "      <td>8.2</td>\n",
       "      <td>0</td>\n",
       "      <td>2.1</td>\n",
       "      <td>71</td>\n",
       "      <td>1262</td>\n",
       "      <td>125</td>\n",
       "    </tr>\n",
       "    <tr>\n",
       "      <th>5826</th>\n",
       "      <td>2021-11-30</td>\n",
       "      <td>0</td>\n",
       "      <td>39.0</td>\n",
       "      <td>31.0</td>\n",
       "      <td>0.004</td>\n",
       "      <td>7.9</td>\n",
       "      <td>0</td>\n",
       "      <td>2.3</td>\n",
       "      <td>71</td>\n",
       "      <td>1483</td>\n",
       "      <td>95</td>\n",
       "    </tr>\n",
       "  </tbody>\n",
       "</table>\n",
       "</div>"
      ],
      "text/plain": [
       "            date  hour  PM10  PM2.5  ozone  temperature  precipitation  \\\n",
       "5822  2021-11-29    20  74.0   58.0  0.002          9.3              0   \n",
       "5823  2021-11-29    21  65.0   56.0  0.002          8.4              0   \n",
       "5824  2021-11-29    22  51.0   41.0  0.002          8.6              0   \n",
       "5825  2021-11-29    23  43.0   35.0  0.001          8.2              0   \n",
       "5826  2021-11-30     0  39.0   31.0  0.004          7.9              0   \n",
       "\n",
       "      windspeed  humidity  visibility  count  \n",
       "5822        0.3        66        1193    273  \n",
       "5823        2.0        70        1233    228  \n",
       "5824        1.9        70        1250    215  \n",
       "5825        2.1        71        1262    125  \n",
       "5826        2.3        71        1483     95  "
      ]
     },
     "execution_count": 8,
     "metadata": {},
     "output_type": "execute_result"
    }
   ],
   "source": [
    "df.tail(5)"
   ]
  },
  {
   "cell_type": "code",
   "execution_count": 4,
   "id": "620f2d44",
   "metadata": {},
   "outputs": [
    {
     "name": "stdout",
     "output_type": "stream",
     "text": [
      "<class 'pandas.core.frame.DataFrame'>\n",
      "RangeIndex: 5827 entries, 0 to 5826\n",
      "Data columns (total 11 columns):\n",
      " #   Column         Non-Null Count  Dtype  \n",
      "---  ------         --------------  -----  \n",
      " 0   date           5827 non-null   object \n",
      " 1   hour           5827 non-null   int64  \n",
      " 2   PM10           5725 non-null   float64\n",
      " 3   PM2.5          5732 non-null   float64\n",
      " 4   ozone          5699 non-null   float64\n",
      " 5   temperature    5827 non-null   float64\n",
      " 6   precipitation  5827 non-null   int64  \n",
      " 7   windspeed      5827 non-null   float64\n",
      " 8   humidity       5827 non-null   int64  \n",
      " 9   visibility     5827 non-null   int64  \n",
      " 10  count          5827 non-null   int64  \n",
      "dtypes: float64(5), int64(5), object(1)\n",
      "memory usage: 500.9+ KB\n"
     ]
    }
   ],
   "source": [
    "df.info()"
   ]
  },
  {
   "cell_type": "code",
   "execution_count": 5,
   "id": "3cc4e1cb",
   "metadata": {},
   "outputs": [
    {
     "data": {
      "text/html": [
       "<div>\n",
       "<style scoped>\n",
       "    .dataframe tbody tr th:only-of-type {\n",
       "        vertical-align: middle;\n",
       "    }\n",
       "\n",
       "    .dataframe tbody tr th {\n",
       "        vertical-align: top;\n",
       "    }\n",
       "\n",
       "    .dataframe thead th {\n",
       "        text-align: right;\n",
       "    }\n",
       "</style>\n",
       "<table border=\"1\" class=\"dataframe\">\n",
       "  <thead>\n",
       "    <tr style=\"text-align: right;\">\n",
       "      <th></th>\n",
       "      <th>hour</th>\n",
       "      <th>PM10</th>\n",
       "      <th>PM2.5</th>\n",
       "      <th>ozone</th>\n",
       "      <th>temperature</th>\n",
       "      <th>precipitation</th>\n",
       "      <th>windspeed</th>\n",
       "      <th>humidity</th>\n",
       "      <th>visibility</th>\n",
       "      <th>count</th>\n",
       "    </tr>\n",
       "  </thead>\n",
       "  <tbody>\n",
       "    <tr>\n",
       "      <th>hour</th>\n",
       "      <td>1.000000</td>\n",
       "      <td>0.044216</td>\n",
       "      <td>0.049832</td>\n",
       "      <td>0.226092</td>\n",
       "      <td>0.190606</td>\n",
       "      <td>-0.000085</td>\n",
       "      <td>0.220301</td>\n",
       "      <td>-0.304287</td>\n",
       "      <td>0.088881</td>\n",
       "      <td>0.586435</td>\n",
       "    </tr>\n",
       "    <tr>\n",
       "      <th>PM10</th>\n",
       "      <td>0.044216</td>\n",
       "      <td>1.000000</td>\n",
       "      <td>0.684193</td>\n",
       "      <td>0.008393</td>\n",
       "      <td>-0.127034</td>\n",
       "      <td>-0.095161</td>\n",
       "      <td>0.043421</td>\n",
       "      <td>-0.088692</td>\n",
       "      <td>-0.289495</td>\n",
       "      <td>0.028282</td>\n",
       "    </tr>\n",
       "    <tr>\n",
       "      <th>PM2.5</th>\n",
       "      <td>0.049832</td>\n",
       "      <td>0.684193</td>\n",
       "      <td>1.000000</td>\n",
       "      <td>0.053838</td>\n",
       "      <td>-0.110659</td>\n",
       "      <td>-0.133784</td>\n",
       "      <td>-0.136576</td>\n",
       "      <td>-0.035074</td>\n",
       "      <td>-0.433992</td>\n",
       "      <td>0.037130</td>\n",
       "    </tr>\n",
       "    <tr>\n",
       "      <th>ozone</th>\n",
       "      <td>0.226092</td>\n",
       "      <td>0.008393</td>\n",
       "      <td>0.053838</td>\n",
       "      <td>1.000000</td>\n",
       "      <td>0.532444</td>\n",
       "      <td>-0.078719</td>\n",
       "      <td>0.349024</td>\n",
       "      <td>-0.404614</td>\n",
       "      <td>0.138263</td>\n",
       "      <td>0.316083</td>\n",
       "    </tr>\n",
       "    <tr>\n",
       "      <th>temperature</th>\n",
       "      <td>0.190606</td>\n",
       "      <td>-0.127034</td>\n",
       "      <td>-0.110659</td>\n",
       "      <td>0.532444</td>\n",
       "      <td>1.000000</td>\n",
       "      <td>-0.040205</td>\n",
       "      <td>0.051311</td>\n",
       "      <td>-0.092162</td>\n",
       "      <td>0.143919</td>\n",
       "      <td>0.277169</td>\n",
       "    </tr>\n",
       "    <tr>\n",
       "      <th>precipitation</th>\n",
       "      <td>-0.000085</td>\n",
       "      <td>-0.095161</td>\n",
       "      <td>-0.133784</td>\n",
       "      <td>-0.078719</td>\n",
       "      <td>-0.040205</td>\n",
       "      <td>1.000000</td>\n",
       "      <td>0.045742</td>\n",
       "      <td>0.384594</td>\n",
       "      <td>-0.494057</td>\n",
       "      <td>-0.269859</td>\n",
       "    </tr>\n",
       "    <tr>\n",
       "      <th>windspeed</th>\n",
       "      <td>0.220301</td>\n",
       "      <td>0.043421</td>\n",
       "      <td>-0.136576</td>\n",
       "      <td>0.349024</td>\n",
       "      <td>0.051311</td>\n",
       "      <td>0.045742</td>\n",
       "      <td>1.000000</td>\n",
       "      <td>-0.292127</td>\n",
       "      <td>0.084418</td>\n",
       "      <td>0.223722</td>\n",
       "    </tr>\n",
       "    <tr>\n",
       "      <th>humidity</th>\n",
       "      <td>-0.304287</td>\n",
       "      <td>-0.088692</td>\n",
       "      <td>-0.035074</td>\n",
       "      <td>-0.404614</td>\n",
       "      <td>-0.092162</td>\n",
       "      <td>0.384594</td>\n",
       "      <td>-0.292127</td>\n",
       "      <td>1.000000</td>\n",
       "      <td>-0.487472</td>\n",
       "      <td>-0.478955</td>\n",
       "    </tr>\n",
       "    <tr>\n",
       "      <th>visibility</th>\n",
       "      <td>0.088881</td>\n",
       "      <td>-0.289495</td>\n",
       "      <td>-0.433992</td>\n",
       "      <td>0.138263</td>\n",
       "      <td>0.143919</td>\n",
       "      <td>-0.494057</td>\n",
       "      <td>0.084418</td>\n",
       "      <td>-0.487472</td>\n",
       "      <td>1.000000</td>\n",
       "      <td>0.265828</td>\n",
       "    </tr>\n",
       "    <tr>\n",
       "      <th>count</th>\n",
       "      <td>0.586435</td>\n",
       "      <td>0.028282</td>\n",
       "      <td>0.037130</td>\n",
       "      <td>0.316083</td>\n",
       "      <td>0.277169</td>\n",
       "      <td>-0.269859</td>\n",
       "      <td>0.223722</td>\n",
       "      <td>-0.478955</td>\n",
       "      <td>0.265828</td>\n",
       "      <td>1.000000</td>\n",
       "    </tr>\n",
       "  </tbody>\n",
       "</table>\n",
       "</div>"
      ],
      "text/plain": [
       "                   hour      PM10     PM2.5     ozone  temperature  \\\n",
       "hour           1.000000  0.044216  0.049832  0.226092     0.190606   \n",
       "PM10           0.044216  1.000000  0.684193  0.008393    -0.127034   \n",
       "PM2.5          0.049832  0.684193  1.000000  0.053838    -0.110659   \n",
       "ozone          0.226092  0.008393  0.053838  1.000000     0.532444   \n",
       "temperature    0.190606 -0.127034 -0.110659  0.532444     1.000000   \n",
       "precipitation -0.000085 -0.095161 -0.133784 -0.078719    -0.040205   \n",
       "windspeed      0.220301  0.043421 -0.136576  0.349024     0.051311   \n",
       "humidity      -0.304287 -0.088692 -0.035074 -0.404614    -0.092162   \n",
       "visibility     0.088881 -0.289495 -0.433992  0.138263     0.143919   \n",
       "count          0.586435  0.028282  0.037130  0.316083     0.277169   \n",
       "\n",
       "               precipitation  windspeed  humidity  visibility     count  \n",
       "hour               -0.000085   0.220301 -0.304287    0.088881  0.586435  \n",
       "PM10               -0.095161   0.043421 -0.088692   -0.289495  0.028282  \n",
       "PM2.5              -0.133784  -0.136576 -0.035074   -0.433992  0.037130  \n",
       "ozone              -0.078719   0.349024 -0.404614    0.138263  0.316083  \n",
       "temperature        -0.040205   0.051311 -0.092162    0.143919  0.277169  \n",
       "precipitation       1.000000   0.045742  0.384594   -0.494057 -0.269859  \n",
       "windspeed           0.045742   1.000000 -0.292127    0.084418  0.223722  \n",
       "humidity            0.384594  -0.292127  1.000000   -0.487472 -0.478955  \n",
       "visibility         -0.494057   0.084418 -0.487472    1.000000  0.265828  \n",
       "count              -0.269859   0.223722 -0.478955    0.265828  1.000000  "
      ]
     },
     "execution_count": 5,
     "metadata": {},
     "output_type": "execute_result"
    }
   ],
   "source": [
    "df.corr()"
   ]
  },
  {
   "cell_type": "markdown",
   "id": "575b2637",
   "metadata": {},
   "source": [
    "### [과제2] 가설설정\n",
    "#### '가설' 이란 단어를 생각해보면, 우리가 직접 가설을 만들어야 할것 같지만 통계에서 분석기법별 귀무가설/대립가설은 정해져있습니다.\n",
    "- 귀무가설은 차이가 없다, 연관성이 없다, 효과가 없다.\n",
    "- 대립가설은 차이가 있다, 연관성이 있다, 효과가 있다. 라고 간단하게 이해하시면 좋습니다.\n",
    "\n",
    "#### 간단한 예로, 온도와 따릉이 대여량간 가설을 수립 해본다면\n",
    "\n",
    "    - 귀무가설 : 온도와 따릉이 간에는 연관성이 없다.\n",
    "    - 대립가설 : 온도와 따릉이 간에는 연관성이 있다.\n",
    "\n",
    "로 가설이 자연스레 수립 됩니다.\n",
    "\n",
    "\n",
    "\n",
    "---\n",
    "\n",
    "\n",
    "#### <span style=\"color: green\"> 'precipitation' 변수를 포함하여, 최소 5개 이상의 Feature와 따릉이 대여량 간 가설을 수립해주세요. </span>\n",
    "\n",
    "##### Guide : Target은 따릉이 대여량 입니다."
   ]
  },
  {
   "cell_type": "markdown",
   "id": "3d1b7293",
   "metadata": {},
   "source": [
    "- 가설 1 : 1시간전 강우 여부와 따릉이간에는 연관성이 없다.\n",
    "\n",
    "    ㅇ 대립가설 : 1시간전 강우 여부와 따릉이 대여량 간에는 연관성이 있다.\n",
    "\n",
    "\n",
    "- 가설 2 : 높은 온도와 따릉이간에는 연관성이 없다.\n",
    "\n",
    "   ㅇ 대립가설 : 높은 온도와 따릉이 대여량 간에는 연관성이 있다.\n",
    "\n",
    "\n",
    "- 가설 3 : 풍속과 따릉이간에는 연관성이 없다.\n",
    "\n",
    "   ㅇ 대립가설 : 풍속과 따릉이 대여량 간에는 연관성이 있다.\n",
    "\n",
    "\n",
    "- 가설 4 : 높은 습도와 따릉이간에는 연관성이 없다.\n",
    "\n",
    "   ㅇ 대립가설 : 높은 습도와 따릉이 대여량 간에는 연관성이 있다.\n",
    "\n",
    "\n",
    "- 가설 5 : 오존수치와 따릉이간에는 연관성이 없다.\n",
    "\n",
    "   ㅇ 대립가설 : 오존수치와 따릉이 대여량 간에는 연관성이 있다.\n",
    "\n",
    "\n",
    "- 가설 6 : 초미세먼지 수치와 따릉이간에는 연관성이 없다.\n",
    "\n",
    "  ㅇ 대립가설 : 초미세먼지 수치와 따릉이 대여량 간에는 연관성이 있다."
   ]
  },
  {
   "cell_type": "code",
   "execution_count": 10,
   "id": "ed2caf44-baec-49b4-b5f6-8af256718076",
   "metadata": {},
   "outputs": [
    {
     "data": {
      "text/plain": [
       "(5827, 12)"
      ]
     },
     "execution_count": 10,
     "metadata": {},
     "output_type": "execute_result"
    }
   ],
   "source": [
    "df.shape"
   ]
  },
  {
   "cell_type": "code",
   "execution_count": 5,
   "id": "2739454f",
   "metadata": {},
   "outputs": [
    {
     "data": {
      "text/html": [
       "<div>\n",
       "<style scoped>\n",
       "    .dataframe tbody tr th:only-of-type {\n",
       "        vertical-align: middle;\n",
       "    }\n",
       "\n",
       "    .dataframe tbody tr th {\n",
       "        vertical-align: top;\n",
       "    }\n",
       "\n",
       "    .dataframe thead th {\n",
       "        text-align: right;\n",
       "    }\n",
       "</style>\n",
       "<table border=\"1\" class=\"dataframe\">\n",
       "  <thead>\n",
       "    <tr style=\"text-align: right;\">\n",
       "      <th></th>\n",
       "      <th>date</th>\n",
       "      <th>hour</th>\n",
       "      <th>PM10</th>\n",
       "      <th>PM2.5</th>\n",
       "      <th>ozone</th>\n",
       "      <th>temperature</th>\n",
       "      <th>precipitation</th>\n",
       "      <th>windspeed</th>\n",
       "      <th>humidity</th>\n",
       "      <th>visibility</th>\n",
       "      <th>count</th>\n",
       "      <th>precipitation_01</th>\n",
       "    </tr>\n",
       "  </thead>\n",
       "  <tbody>\n",
       "    <tr>\n",
       "      <th>0</th>\n",
       "      <td>2021-04-01</td>\n",
       "      <td>1</td>\n",
       "      <td>42.0</td>\n",
       "      <td>21.0</td>\n",
       "      <td>0.002</td>\n",
       "      <td>13.1</td>\n",
       "      <td>0</td>\n",
       "      <td>1.4</td>\n",
       "      <td>49</td>\n",
       "      <td>2000</td>\n",
       "      <td>46</td>\n",
       "      <td>NaN</td>\n",
       "    </tr>\n",
       "    <tr>\n",
       "      <th>1</th>\n",
       "      <td>2021-04-01</td>\n",
       "      <td>2</td>\n",
       "      <td>41.0</td>\n",
       "      <td>21.0</td>\n",
       "      <td>0.003</td>\n",
       "      <td>12.4</td>\n",
       "      <td>0</td>\n",
       "      <td>2.1</td>\n",
       "      <td>53</td>\n",
       "      <td>2000</td>\n",
       "      <td>40</td>\n",
       "      <td>0.0</td>\n",
       "    </tr>\n",
       "    <tr>\n",
       "      <th>2</th>\n",
       "      <td>2021-04-01</td>\n",
       "      <td>3</td>\n",
       "      <td>30.0</td>\n",
       "      <td>13.0</td>\n",
       "      <td>0.023</td>\n",
       "      <td>13.1</td>\n",
       "      <td>0</td>\n",
       "      <td>3.4</td>\n",
       "      <td>43</td>\n",
       "      <td>2000</td>\n",
       "      <td>31</td>\n",
       "      <td>0.0</td>\n",
       "    </tr>\n",
       "    <tr>\n",
       "      <th>3</th>\n",
       "      <td>2021-04-01</td>\n",
       "      <td>4</td>\n",
       "      <td>27.0</td>\n",
       "      <td>12.0</td>\n",
       "      <td>0.028</td>\n",
       "      <td>13.0</td>\n",
       "      <td>0</td>\n",
       "      <td>3.1</td>\n",
       "      <td>44</td>\n",
       "      <td>2000</td>\n",
       "      <td>12</td>\n",
       "      <td>0.0</td>\n",
       "    </tr>\n",
       "    <tr>\n",
       "      <th>4</th>\n",
       "      <td>2021-04-01</td>\n",
       "      <td>5</td>\n",
       "      <td>29.0</td>\n",
       "      <td>14.0</td>\n",
       "      <td>0.008</td>\n",
       "      <td>13.0</td>\n",
       "      <td>0</td>\n",
       "      <td>2.9</td>\n",
       "      <td>44</td>\n",
       "      <td>2000</td>\n",
       "      <td>30</td>\n",
       "      <td>0.0</td>\n",
       "    </tr>\n",
       "  </tbody>\n",
       "</table>\n",
       "</div>"
      ],
      "text/plain": [
       "         date  hour  PM10  PM2.5  ozone  temperature  precipitation  \\\n",
       "0  2021-04-01     1  42.0   21.0  0.002         13.1              0   \n",
       "1  2021-04-01     2  41.0   21.0  0.003         12.4              0   \n",
       "2  2021-04-01     3  30.0   13.0  0.023         13.1              0   \n",
       "3  2021-04-01     4  27.0   12.0  0.028         13.0              0   \n",
       "4  2021-04-01     5  29.0   14.0  0.008         13.0              0   \n",
       "\n",
       "   windspeed  humidity  visibility  count  precipitation_01  \n",
       "0        1.4        49        2000     46               NaN  \n",
       "1        2.1        53        2000     40               0.0  \n",
       "2        3.4        43        2000     31               0.0  \n",
       "3        3.1        44        2000     12               0.0  \n",
       "4        2.9        44        2000     30               0.0  "
      ]
     },
     "execution_count": 5,
     "metadata": {},
     "output_type": "execute_result"
    }
   ],
   "source": [
    "df['precipitation_01'] = df['precipitation'].shift() # default = 1\n",
    "df.head()"
   ]
  },
  {
   "cell_type": "markdown",
   "id": "68202f34",
   "metadata": {},
   "source": [
    "### [과제3] 단변량 분석\n",
    "\n",
    "단변량 분석은 데이터분석의 매우 기초적인 분석기법으로, 독립적인 개별 변수가 가지고있는 특성들을 이해하는 과정입니다.\n",
    "\n",
    "<span style=\"color: green\"> 개별 변수에 대해 아래 사항들을 분석해보세요. </span>\n",
    "\n",
    "1. 변수가 내포하고 있는 의미\n",
    "2. 변수가 수치형인지, 범주형인지\n",
    "3. 결측치 존재 여부 및 조치 방안\n",
    "4. 기초 통계량 확인\n",
    "5. 데이터 분포 확인\n",
    "6. 위 정보로부터 파악한 내용 정리\n",
    "7. 추가 분석사항 도출"
   ]
  },
  {
   "cell_type": "code",
   "execution_count": 9,
   "id": "ac784fb0",
   "metadata": {},
   "outputs": [
    {
     "data": {
      "text/html": [
       "<div>\n",
       "<style scoped>\n",
       "    .dataframe tbody tr th:only-of-type {\n",
       "        vertical-align: middle;\n",
       "    }\n",
       "\n",
       "    .dataframe tbody tr th {\n",
       "        vertical-align: top;\n",
       "    }\n",
       "\n",
       "    .dataframe thead th {\n",
       "        text-align: right;\n",
       "    }\n",
       "</style>\n",
       "<table border=\"1\" class=\"dataframe\">\n",
       "  <thead>\n",
       "    <tr style=\"text-align: right;\">\n",
       "      <th></th>\n",
       "      <th>date</th>\n",
       "      <th>hour</th>\n",
       "      <th>PM10</th>\n",
       "      <th>PM2.5</th>\n",
       "      <th>ozone</th>\n",
       "      <th>temperature</th>\n",
       "      <th>precipitation</th>\n",
       "      <th>windspeed</th>\n",
       "      <th>humidity</th>\n",
       "      <th>visibility</th>\n",
       "      <th>count</th>\n",
       "      <th>precipitation_01</th>\n",
       "    </tr>\n",
       "  </thead>\n",
       "  <tbody>\n",
       "    <tr>\n",
       "      <th>5822</th>\n",
       "      <td>2021-11-29</td>\n",
       "      <td>20</td>\n",
       "      <td>74.0</td>\n",
       "      <td>58.0</td>\n",
       "      <td>0.002</td>\n",
       "      <td>9.3</td>\n",
       "      <td>0</td>\n",
       "      <td>0.3</td>\n",
       "      <td>66</td>\n",
       "      <td>1193</td>\n",
       "      <td>273</td>\n",
       "      <td>0.0</td>\n",
       "    </tr>\n",
       "    <tr>\n",
       "      <th>5823</th>\n",
       "      <td>2021-11-29</td>\n",
       "      <td>21</td>\n",
       "      <td>65.0</td>\n",
       "      <td>56.0</td>\n",
       "      <td>0.002</td>\n",
       "      <td>8.4</td>\n",
       "      <td>0</td>\n",
       "      <td>2.0</td>\n",
       "      <td>70</td>\n",
       "      <td>1233</td>\n",
       "      <td>228</td>\n",
       "      <td>0.0</td>\n",
       "    </tr>\n",
       "    <tr>\n",
       "      <th>5824</th>\n",
       "      <td>2021-11-29</td>\n",
       "      <td>22</td>\n",
       "      <td>51.0</td>\n",
       "      <td>41.0</td>\n",
       "      <td>0.002</td>\n",
       "      <td>8.6</td>\n",
       "      <td>0</td>\n",
       "      <td>1.9</td>\n",
       "      <td>70</td>\n",
       "      <td>1250</td>\n",
       "      <td>215</td>\n",
       "      <td>0.0</td>\n",
       "    </tr>\n",
       "    <tr>\n",
       "      <th>5825</th>\n",
       "      <td>2021-11-29</td>\n",
       "      <td>23</td>\n",
       "      <td>43.0</td>\n",
       "      <td>35.0</td>\n",
       "      <td>0.001</td>\n",
       "      <td>8.2</td>\n",
       "      <td>0</td>\n",
       "      <td>2.1</td>\n",
       "      <td>71</td>\n",
       "      <td>1262</td>\n",
       "      <td>125</td>\n",
       "      <td>0.0</td>\n",
       "    </tr>\n",
       "    <tr>\n",
       "      <th>5826</th>\n",
       "      <td>2021-11-30</td>\n",
       "      <td>0</td>\n",
       "      <td>39.0</td>\n",
       "      <td>31.0</td>\n",
       "      <td>0.004</td>\n",
       "      <td>7.9</td>\n",
       "      <td>0</td>\n",
       "      <td>2.3</td>\n",
       "      <td>71</td>\n",
       "      <td>1483</td>\n",
       "      <td>95</td>\n",
       "      <td>0.0</td>\n",
       "    </tr>\n",
       "  </tbody>\n",
       "</table>\n",
       "</div>"
      ],
      "text/plain": [
       "            date  hour  PM10  PM2.5  ozone  temperature  precipitation  \\\n",
       "5822  2021-11-29    20  74.0   58.0  0.002          9.3              0   \n",
       "5823  2021-11-29    21  65.0   56.0  0.002          8.4              0   \n",
       "5824  2021-11-29    22  51.0   41.0  0.002          8.6              0   \n",
       "5825  2021-11-29    23  43.0   35.0  0.001          8.2              0   \n",
       "5826  2021-11-30     0  39.0   31.0  0.004          7.9              0   \n",
       "\n",
       "      windspeed  humidity  visibility  count  precipitation_01  \n",
       "5822        0.3        66        1193    273               0.0  \n",
       "5823        2.0        70        1233    228               0.0  \n",
       "5824        1.9        70        1250    215               0.0  \n",
       "5825        2.1        71        1262    125               0.0  \n",
       "5826        2.3        71        1483     95               0.0  "
      ]
     },
     "execution_count": 9,
     "metadata": {},
     "output_type": "execute_result"
    }
   ],
   "source": [
    "df.tail()"
   ]
  },
  {
   "cell_type": "markdown",
   "id": "e3fe59cc",
   "metadata": {},
   "source": [
    "### Feature1 : hour"
   ]
  },
  {
   "cell_type": "markdown",
   "id": "74305cdf",
   "metadata": {},
   "source": [
    "1. 변수가 내포하고 있는 의미\n",
    "- 변수의 의미를 한번 짚고 넘어갑시다. 여러분이 생각하는 이 변수의 의미를 작성해보세요.\n",
    "\n",
    "\n",
    "count : 시간에 따른 따릉이 대여 수"
   ]
  },
  {
   "cell_type": "code",
   "execution_count": 7,
   "id": "18c499cf",
   "metadata": {},
   "outputs": [],
   "source": [
    "feature='hour'"
   ]
  },
  {
   "cell_type": "markdown",
   "id": "f5598656",
   "metadata": {},
   "source": [
    "2. 변수가 수치형인지 범주형인지\n"
   ]
  },
  {
   "cell_type": "code",
   "execution_count": 38,
   "id": "e32a046b",
   "metadata": {
    "tags": []
   },
   "outputs": [
    {
     "data": {
      "text/plain": [
       "array([  46,   40,   31,   12,   30,   77,  171,  330,  218,  175,  247,\n",
       "        269,  289,  265,  342,  369,  564,  820,  526,  435,  396,  307,\n",
       "        157,   85,   48,   17,   20,   24,   72,  169,  336,  207,  211,\n",
       "        233,  286,  314,  360,  392,  507,  582,  411,  331,  366,  344,\n",
       "        183,  126,   62,   58,   38,   18,   25,   43,   45,    5,    1,\n",
       "          2,    3,    8,    6,   11,   15,   16,    7,   33,   67,   94,\n",
       "        151,  210,  464,  601,  651,  613,  505,  427,  341,  252,  219,\n",
       "        194,   78,   69,   35,    9,  188,  349,  187,  227,  280,  262,\n",
       "        284,  390,  423,  552,  835,  479,  352,  258,  130,   80,   21,\n",
       "         23,   29,  362,  230,  176,  249,  310,  268,  261,  329,  356,\n",
       "        569,  856,  508,  413,  297,  112,   63,   36,   19,   28,   84,\n",
       "        158,  216,  189,  282,  346,  274,  303,  324,  399,  574,  797,\n",
       "        461,  293,  266,  103,   71,   42,  319,  140,  259,  492,  783,\n",
       "        383,  276,  291,  108,   59,   60,   74,  164,  332,  251,  300,\n",
       "        354,  370,  404,  585,  753,  444,  318,  333,  296,  123,   57,\n",
       "        100,  160,  343,  426,  544,  662,  639,  548,  475,  313,  281,\n",
       "        278,  232,  124,   64,   86,  118,  163,  271,  397,  513,  542,\n",
       "        584,  633,  621,  503,  407,  264,  208,  105,   44,   75,  177,\n",
       "         93,   10,    4,  125,  263,  174,  214,  206,  225,  367,  602,\n",
       "        323,   22,   61,  364,  236,  202,  260,  250,  245,  273,  462,\n",
       "        678,  359,  257,   87,   81,  184,  338,  226,  150,  238,  239,\n",
       "        279,  547,  756,  438,  298,  317,  267,  136,   51,  159,   88,\n",
       "         52,  113,  170,  235,  406,  629,  372,  223,  104,   53,   13,\n",
       "         56,  102,  138,  190,  116,  244,   14,   49,  133,  270,  348,\n",
       "        467,  604,  592,  654,  530,  384,  229,  156,   26,   27,  335,\n",
       "        145,  242,  309,  529,  802,  504,  312,  304,  237,  127,   34,\n",
       "         90,  203,  347,  288,  299,  489,  855,  449,  111,   83,  197,\n",
       "        387,  201,  248,  320,  588,  829,  521,  377,  122,  186,  167,\n",
       "        228,  253,  285,  358,  512,  698,  456,  294,   89,   68,  162,\n",
       "        204,  363,  493,  692,  434,  355,  165,  115,   66,  154,  205,\n",
       "        328,  418,  450,  570,  401,  301,  119,  161,  246,  405,  469,\n",
       "        545,  679,  688,  655,  606,  498,  255,  139,  351,  173,  534,\n",
       "        888,  560,  389,  373,  155,  114,  744,  550,  494,  516,  568,\n",
       "        670,  609,  624,  391,  292,  706,  452,  302,  468,  490,  714,\n",
       "       1126, 1600,  976,  804,  612,   32,  198,  196,  212,  327,  334,\n",
       "        522,  695,  460,  142,  147,  234,  172,  398,  557,  215,   55,\n",
       "         98,   39,   70,   92,  129,  180,  453,  594,  703,  686,  595,\n",
       "        431,  325,  168,   99,  277,  295,  607,  827,  538,  371,   65,\n",
       "        110,  128,  200,  559,  653,  762,  787,  708,  577,  415,  254,\n",
       "        275,  339,  540,  858,  395,  382,  256,  121,  181,  537,  195,\n",
       "         91,   54,  217,  178,  182,   95,   41,  484,  661,  581,  350,\n",
       "        109,  117,  166,  199,  408,  429,  135,  221,  400,  191,  220,\n",
       "        311,  893,  497,  321,  243,  224,  287,  566,  809,  543,  432,\n",
       "        388,  337,  788,  598,  422,  306,   96,  365,  531,  381,  143,\n",
       "         79,  107,  353,   37,  241,  368,  812,  141,   73,   50,  106,\n",
       "        290,  375,  414,  555,  643,  562,  459,  149,  148,  209,   82,\n",
       "        146,  412,  623,  501,  393,  420,  424,  520,  828,  340,   76,\n",
       "        483,  240,  376,  674,  472,  152,  308,  192,  447,  668,  394,\n",
       "        179,  231,  132,  527,  533,  430,  905,  477,  410,  750,  315,\n",
       "        326,  556,  830,  428,  615,  921,  470,  417,  443,  491,  515,\n",
       "        437,  448,  283,  510,  535,  853,  402,  832,  442,  357,  546,\n",
       "        843,  485,  222,  458,   97,  101,  872,  451,  728,  322,  541,\n",
       "        880,  619,  378,  702,  416,  454,  457,  433,  131,  446,  471,\n",
       "        473,  213,  193,  906,  694,  487,  777,  553,  185,  576,  789,\n",
       "        120,  380,  436,  153,  144,   47,  316,  803,  476,  794,  499,\n",
       "        757,  605,  137,  865,  532,  844,  587,  760,  486,  441,  374,\n",
       "        711,  134,  768,  478,  792,  645,  385,  563,  496,  361,  710,\n",
       "        691,  439,  622,  700,  500,  659,  403,  597,  648,  272,  649,\n",
       "        440,  305,  743,  567,  502,  747,  717,  745,  641,  628,  495,\n",
       "        480,  775,  506,  419,  579,  572,  868,  704,  815,  644,  617,\n",
       "        558,  474,  561,  509,  866,  603,  466,  525,  386,  631,  518,\n",
       "        455,  616,  554,  859,  805,  488,  514, 1090, 1746, 1086,  942,\n",
       "        944,  630, 1026,  740,  736,  593,  590,  642,  667,  638,  953,\n",
       "        684,  573,  807,  658,  481,  463,  939,  517,  421,  932,  665,\n",
       "        965,  600,  847,  578,  425,  697,  765,  345,  445,  539,  693,\n",
       "        755,  752,  949,  640,  620,  664,  988,  701,  677,  671,  798,\n",
       "        589,  925,  580,  915,  596,  699,  723,  482,  528,  669,  599,\n",
       "        696,  647,  379,  409,  571,  898,  963,  636,  689,  523,  733,\n",
       "        741,  731,  754,  766,  465,  583,  676,  519], dtype=int64)"
      ]
     },
     "execution_count": 166,
     "metadata": {},
     "output_type": "execute_result"
    }
   ],
   "source": [
    "# 변수의 자료형을 확인해보세요.\n",
    "df[feature].unique()"
   ]
  },
  {
   "cell_type": "markdown",
   "id": "52aeba21",
   "metadata": {},
   "source": [
    "3. 변수의 결측치 존재 여부 및 조치방안"
   ]
  },
  {
   "cell_type": "code",
   "execution_count": 39,
   "id": "526c0c27",
   "metadata": {},
   "outputs": [
    {
     "data": {
      "text/plain": [
       "0"
      ]
     },
     "execution_count": 167,
     "metadata": {},
     "output_type": "execute_result"
    }
   ],
   "source": [
    "#변수의 결측치 존재 여부를 확인하고, 만약 결측치가 존재하면 어떻게 처리할지 고민해보세요. \n",
    "df[feature].isnull().sum()"
   ]
  },
  {
   "cell_type": "markdown",
   "id": "2d9760fd",
   "metadata": {},
   "source": [
    "4. 변수의 기초 통계량 확인"
   ]
  },
  {
   "cell_type": "code",
   "execution_count": 12,
   "id": "3ba272ed",
   "metadata": {},
   "outputs": [
    {
     "data": {
      "text/html": [
       "<div>\n",
       "<style scoped>\n",
       "    .dataframe tbody tr th:only-of-type {\n",
       "        vertical-align: middle;\n",
       "    }\n",
       "\n",
       "    .dataframe tbody tr th {\n",
       "        vertical-align: top;\n",
       "    }\n",
       "\n",
       "    .dataframe thead th {\n",
       "        text-align: right;\n",
       "    }\n",
       "</style>\n",
       "<table border=\"1\" class=\"dataframe\">\n",
       "  <thead>\n",
       "    <tr style=\"text-align: right;\">\n",
       "      <th></th>\n",
       "      <th>count</th>\n",
       "    </tr>\n",
       "  </thead>\n",
       "  <tbody>\n",
       "    <tr>\n",
       "      <th>count</th>\n",
       "      <td>5670.000000</td>\n",
       "    </tr>\n",
       "    <tr>\n",
       "      <th>mean</th>\n",
       "      <td>215.869841</td>\n",
       "    </tr>\n",
       "    <tr>\n",
       "      <th>std</th>\n",
       "      <td>186.974342</td>\n",
       "    </tr>\n",
       "    <tr>\n",
       "      <th>min</th>\n",
       "      <td>1.000000</td>\n",
       "    </tr>\n",
       "    <tr>\n",
       "      <th>25%</th>\n",
       "      <td>53.000000</td>\n",
       "    </tr>\n",
       "    <tr>\n",
       "      <th>50%</th>\n",
       "      <td>186.000000</td>\n",
       "    </tr>\n",
       "    <tr>\n",
       "      <th>75%</th>\n",
       "      <td>317.000000</td>\n",
       "    </tr>\n",
       "    <tr>\n",
       "      <th>max</th>\n",
       "      <td>1746.000000</td>\n",
       "    </tr>\n",
       "  </tbody>\n",
       "</table>\n",
       "</div>"
      ],
      "text/plain": [
       "             count\n",
       "count  5670.000000\n",
       "mean    215.869841\n",
       "std     186.974342\n",
       "min       1.000000\n",
       "25%      53.000000\n",
       "50%     186.000000\n",
       "75%     317.000000\n",
       "max    1746.000000"
      ]
     },
     "execution_count": 168,
     "metadata": {},
     "output_type": "execute_result"
    }
   ],
   "source": [
    "#변수의 기초 통계량을 확인해보세요\n",
    "temp = df[feature].value_counts()\n",
    "display(temp/df.shape[0])"
   ]
  },
  {
   "cell_type": "markdown",
   "id": "4eb1b708",
   "metadata": {},
   "source": [
    "5. 변수의 분포 확인"
   ]
  },
  {
   "cell_type": "code",
   "execution_count": 17,
   "id": "8449daa6",
   "metadata": {},
   "outputs": [
    {
     "data": {
      "image/png": "[encoded data removed]",
      "text/plain": [
       "<Figure size 936x288 with 3 Axes>"
      ]
     },
     "metadata": {
      "needs_background": "light"
     },
     "output_type": "display_data"
    }
   ],
   "source": [
    "#변수의 분포를 시각화 라이브러리를 활용해 확인해보세요.\n",
    "plt.figure(figsize=(12,4))\n",
    "\n",
    "plt.subplot(1,2,1)\n",
    "sns.countplot(df[feature])\n",
    "\n",
    "plt.subplot(1,2,2)\n",
    "plt.pie(temp.values, labels=temp.index, autopct='%.1f%%')\n",
    "\n",
    "plt.tight_layout()\n",
    "plt.show()"
   ]
  },
  {
   "cell_type": "markdown",
   "id": "314284e2",
   "metadata": {},
   "source": [
    "6. 위 정보로 부터 파악한 내용 정리"
   ]
  },
  {
   "cell_type": "markdown",
   "id": "6b32cd0f",
   "metadata": {},
   "source": [
    "#위 정보로부터 파악하신 내용을 정리해보세요.\n",
    " * 24시간의 모든시간이 있음.\n"
   ]
  },
  {
   "cell_type": "markdown",
   "id": "5341f7c2",
   "metadata": {},
   "source": [
    "7. 추가 분석사항 도출"
   ]
  },
  {
   "cell_type": "code",
   "execution_count": null,
   "id": "ebd1fd48",
   "metadata": {},
   "outputs": [],
   "source": [
    "#추가로 분석을 원하는 부분이 있다면 분석후 정리해보세요."
   ]
  },
  {
   "cell_type": "markdown",
   "id": "a3ce1e2a",
   "metadata": {},
   "source": [
    "### Feature2 : temperature"
   ]
  },
  {
   "cell_type": "markdown",
   "id": "a1843cfd",
   "metadata": {},
   "source": [
    "1. 변수가 내포하고 있는 의미\n",
    "- 변수의 의미를 한번 짚고 넘어갑시다. 여러분이 생각하는 이 변수의 의미를 작성해보세요.\n",
    "\n",
    "\n",
    "temperature : 온도는 Celcius단위를 사용"
   ]
  },
  {
   "cell_type": "code",
   "execution_count": 15,
   "id": "22102a72",
   "metadata": {},
   "outputs": [],
   "source": [
    "df['tem_max'] = df.groupby('temperature')[['count']].sum()"
   ]
  },
  {
   "cell_type": "code",
   "execution_count": 16,
   "id": "cbe61af1",
   "metadata": {},
   "outputs": [
    {
     "data": {
      "text/html": [
       "<div>\n",
       "<style scoped>\n",
       "    .dataframe tbody tr th:only-of-type {\n",
       "        vertical-align: middle;\n",
       "    }\n",
       "\n",
       "    .dataframe tbody tr th {\n",
       "        vertical-align: top;\n",
       "    }\n",
       "\n",
       "    .dataframe thead th {\n",
       "        text-align: right;\n",
       "    }\n",
       "</style>\n",
       "<table border=\"1\" class=\"dataframe\">\n",
       "  <thead>\n",
       "    <tr style=\"text-align: right;\">\n",
       "      <th></th>\n",
       "      <th>date</th>\n",
       "      <th>hour</th>\n",
       "      <th>PM10</th>\n",
       "      <th>PM2.5</th>\n",
       "      <th>ozone</th>\n",
       "      <th>temperature</th>\n",
       "      <th>precipitation</th>\n",
       "      <th>windspeed</th>\n",
       "      <th>humidity</th>\n",
       "      <th>visibility</th>\n",
       "      <th>count</th>\n",
       "      <th>precipitation_01</th>\n",
       "      <th>tem_max</th>\n",
       "    </tr>\n",
       "  </thead>\n",
       "  <tbody>\n",
       "    <tr>\n",
       "      <th>0</th>\n",
       "      <td>2021-04-01</td>\n",
       "      <td>1</td>\n",
       "      <td>42.0</td>\n",
       "      <td>21.0</td>\n",
       "      <td>0.002</td>\n",
       "      <td>13.1</td>\n",
       "      <td>0</td>\n",
       "      <td>1.4</td>\n",
       "      <td>49</td>\n",
       "      <td>2000</td>\n",
       "      <td>46</td>\n",
       "      <td>NaN</td>\n",
       "      <td>344.0</td>\n",
       "    </tr>\n",
       "    <tr>\n",
       "      <th>1</th>\n",
       "      <td>2021-04-01</td>\n",
       "      <td>2</td>\n",
       "      <td>41.0</td>\n",
       "      <td>21.0</td>\n",
       "      <td>0.003</td>\n",
       "      <td>12.4</td>\n",
       "      <td>0</td>\n",
       "      <td>2.1</td>\n",
       "      <td>53</td>\n",
       "      <td>2000</td>\n",
       "      <td>40</td>\n",
       "      <td>0.0</td>\n",
       "      <td>195.0</td>\n",
       "    </tr>\n",
       "    <tr>\n",
       "      <th>2</th>\n",
       "      <td>2021-04-01</td>\n",
       "      <td>3</td>\n",
       "      <td>30.0</td>\n",
       "      <td>13.0</td>\n",
       "      <td>0.023</td>\n",
       "      <td>13.1</td>\n",
       "      <td>0</td>\n",
       "      <td>3.4</td>\n",
       "      <td>43</td>\n",
       "      <td>2000</td>\n",
       "      <td>31</td>\n",
       "      <td>0.0</td>\n",
       "      <td>215.0</td>\n",
       "    </tr>\n",
       "    <tr>\n",
       "      <th>3</th>\n",
       "      <td>2021-04-01</td>\n",
       "      <td>4</td>\n",
       "      <td>27.0</td>\n",
       "      <td>12.0</td>\n",
       "      <td>0.028</td>\n",
       "      <td>13.0</td>\n",
       "      <td>0</td>\n",
       "      <td>3.1</td>\n",
       "      <td>44</td>\n",
       "      <td>2000</td>\n",
       "      <td>12</td>\n",
       "      <td>0.0</td>\n",
       "      <td>885.0</td>\n",
       "    </tr>\n",
       "    <tr>\n",
       "      <th>4</th>\n",
       "      <td>2021-04-01</td>\n",
       "      <td>5</td>\n",
       "      <td>29.0</td>\n",
       "      <td>14.0</td>\n",
       "      <td>0.008</td>\n",
       "      <td>13.0</td>\n",
       "      <td>0</td>\n",
       "      <td>2.9</td>\n",
       "      <td>44</td>\n",
       "      <td>2000</td>\n",
       "      <td>30</td>\n",
       "      <td>0.0</td>\n",
       "      <td>747.0</td>\n",
       "    </tr>\n",
       "  </tbody>\n",
       "</table>\n",
       "</div>"
      ],
      "text/plain": [
       "         date  hour  PM10  PM2.5  ozone  temperature  precipitation  \\\n",
       "0  2021-04-01     1  42.0   21.0  0.002         13.1              0   \n",
       "1  2021-04-01     2  41.0   21.0  0.003         12.4              0   \n",
       "2  2021-04-01     3  30.0   13.0  0.023         13.1              0   \n",
       "3  2021-04-01     4  27.0   12.0  0.028         13.0              0   \n",
       "4  2021-04-01     5  29.0   14.0  0.008         13.0              0   \n",
       "\n",
       "   windspeed  humidity  visibility  count  precipitation_01  tem_max  \n",
       "0        1.4        49        2000     46               NaN    344.0  \n",
       "1        2.1        53        2000     40               0.0    195.0  \n",
       "2        3.4        43        2000     31               0.0    215.0  \n",
       "3        3.1        44        2000     12               0.0    885.0  \n",
       "4        2.9        44        2000     30               0.0    747.0  "
      ]
     },
     "execution_count": 16,
     "metadata": {},
     "output_type": "execute_result"
    }
   ],
   "source": [
    "df.head()"
   ]
  },
  {
   "cell_type": "code",
   "execution_count": 17,
   "id": "c74df8ac",
   "metadata": {},
   "outputs": [
    {
     "data": {
      "text/plain": [
       "array([ 344.,  195.,  215.,  885.,  747., 1083.,  588., 1114., 2713.,\n",
       "       1418., 1330., 1499., 3790., 2654., 7251., 3751., 3580., 5350.,\n",
       "       6145., 4838., 3696., 4711., 8584., 7543., 9163., 6358., 9746.,\n",
       "       5040., 8761., 4557., 4679., 3829., 3402.,  985., 1297., 1071.,\n",
       "        174.,   nan])"
      ]
     },
     "execution_count": 17,
     "metadata": {},
     "output_type": "execute_result"
    }
   ],
   "source": [
    "df['tem_max'].unique()"
   ]
  },
  {
   "cell_type": "code",
   "execution_count": 18,
   "id": "a88533fd",
   "metadata": {},
   "outputs": [],
   "source": [
    "data=df.dropna()"
   ]
  },
  {
   "cell_type": "code",
   "execution_count": 19,
   "id": "266df3ae",
   "metadata": {},
   "outputs": [
    {
     "name": "stdout",
     "output_type": "stream",
     "text": [
      "<class 'pandas.core.frame.DataFrame'>\n",
      "Int64Index: 36 entries, 1 to 36\n",
      "Data columns (total 13 columns):\n",
      " #   Column            Non-Null Count  Dtype  \n",
      "---  ------            --------------  -----  \n",
      " 0   date              36 non-null     object \n",
      " 1   hour              36 non-null     int64  \n",
      " 2   PM10              36 non-null     float64\n",
      " 3   PM2.5             36 non-null     float64\n",
      " 4   ozone             36 non-null     float64\n",
      " 5   temperature       36 non-null     float64\n",
      " 6   precipitation     36 non-null     int64  \n",
      " 7   windspeed         36 non-null     float64\n",
      " 8   humidity          36 non-null     int64  \n",
      " 9   visibility        36 non-null     int64  \n",
      " 10  count             36 non-null     int64  \n",
      " 11  precipitation_01  36 non-null     float64\n",
      " 12  tem_max           36 non-null     float64\n",
      "dtypes: float64(7), int64(5), object(1)\n",
      "memory usage: 3.9+ KB\n"
     ]
    }
   ],
   "source": [
    "data.info()"
   ]
  },
  {
   "cell_type": "code",
   "execution_count": 20,
   "id": "3fcc883d",
   "metadata": {},
   "outputs": [],
   "source": [
    "feature = 'temperature'"
   ]
  },
  {
   "cell_type": "markdown",
   "id": "307169cf",
   "metadata": {},
   "source": [
    "2. 변수가 수치형인지 범주형인지\n"
   ]
  },
  {
   "cell_type": "code",
   "execution_count": 21,
   "id": "5300de36",
   "metadata": {},
   "outputs": [
    {
     "data": {
      "text/plain": [
       "array([13.1, 12.4, 13. , 12.6, 12. , 14. , 16.2, 18.2, 20.2, 21.7, 22.6,\n",
       "       23.6, 23.2, 23.5, 23. , 22.3, 20.6, 19.2, 18.1, 16.5, 15.4, 14.6,\n",
       "       14.2, 13.7, 12.9, 12.8, 12.7, 13.6, 17.4, 18.9, 20.7, 21.6, 22. ,\n",
       "       22.9, 21. , 19.9, 19.4, 19. , 18.8, 18.4, 18. , 17.7, 17.6, 17.3,\n",
       "       17.5, 16.8, 15.8, 14.9, 14.8, 14.5, 14.4, 14.3, 13.5, 12.5, 11.7,\n",
       "       11.4, 10.9, 10.5, 10.3, 10.4, 10.2,  9.7,  9.5,  9.6, 10. , 10.7,\n",
       "       11.6, 14.7, 15.5, 15. , 12.3,  9. ,  8.1,  7.4,  6.8,  6.5,  6.1,\n",
       "        5.5,  5.4,  7.9, 16.6, 17.9, 15.9, 13.3, 10.6, 10.8,  9.4, 16.1,\n",
       "       17. , 18.6, 16. , 15.1, 12.1,  8.7,  8.2,  8.3, 16.7, 19.3, 20.4,\n",
       "       19.7, 13.8, 11.3, 10.1,  8.9,  7.6,  7.2, 13.9, 17.8, 11.2,  8.6,\n",
       "        7.8,  7.7,  8.8, 17.2, 19.5, 18.5,  9.8,  9.1,  8. , 15.2, 18.3,\n",
       "       11.8,  8.4, 12.2, 17.1, 20.8, 21.2, 21.5, 16.9, 11. , 11.1, 11.9,\n",
       "       11.5,  5.7,  5. ,  4.6,  3.9,  3.4,  3.1,  7.1,  6.6,  6.4,  6.7,\n",
       "        6.9,  7. ,  7.3,  6.2, 13.2,  5.8,  5.6,  8.5, 14.1,  9.9,  9.2,\n",
       "        6.3, 16.3, 16.4, 15.6, 21.8, 20.3, 21.1, 23.1, 24.7, 26.4, 27.6,\n",
       "       28.1, 27.8, 26.1, 24.1, 22.7, 19.8, 18.7, 26.2, 27.5, 27.4, 25.4,\n",
       "       23.7, 22.8, 20.5, 15.7, 20.1, 20.9, 15.3, 19.6, 22.5, 23.9, 20. ,\n",
       "       13.4,  9.3, 22.1, 22.2, 21.4, 24.3, 25. , 25.5, 25.3, 19.1, 24.6,\n",
       "       25.2, 26.6, 27. , 21.9, 23.8, 25.7, 27.2, 27.9, 28.9, 29.5, 29. ,\n",
       "       28. , 24. , 24.2, 28.7, 29.9, 30.3, 30.6, 30.2, 29.4, 24.8, 24.9,\n",
       "       26. , 25.9, 22.4, 23.4, 23.3, 24.5, 21.3, 26.8, 28.8, 26.5, 25.1,\n",
       "       26.3, 27.3, 27.7, 28.6, 29.3, 25.6, 31. , 31.3, 31.4, 30.9, 29.8,\n",
       "       28.3, 28.4, 26.7, 30. , 29.6, 25.8, 24.4, 28.2, 29.1, 29.2, 30.1,\n",
       "       28.5, 26.9, 27.1, 30.4, 30.5, 30.8, 31.7, 31.2, 29.7, 31.5, 32.2,\n",
       "       32.3, 32. , 31.6, 30.7, 32.6, 33.1, 32.5, 32.4, 33.9, 33.8, 32.7,\n",
       "       33.2, 33.3, 34.2, 35. , 32.8, 34. , 33.7, 31.9, 33.6, 34.3, 34.8,\n",
       "       35.1, 34.7, 33.4, 34.4, 35.2, 35.7, 34.9, 31.8, 31.1, 35.4, 35.3,\n",
       "       33. , 35.6, 36.3, 36. , 36.1, 32.9, 34.5, 32.1, 34.1, 33.5,  4.4,\n",
       "        4.2,  3.6,  3.2,  2.5,  2.4,  2.1,  1.6,  1.3,  2.9,  4.8,  3.5,\n",
       "        3. ,  4.3,  5.1,  5.2,  6. ,  5.3,  5.9,  7.5,  4.7,  4.5,  3.8,\n",
       "        3.7,  4.1,  1.9,  1.4,  1.2,  0.7,  4. ,  3.3,  2.3,  2.6,  2.7,\n",
       "        1.5,  2.8,  4.9,  2. ,  1.8,  0.9,  0.6,  0.8,  1.1,  0.3, -0.1,\n",
       "       -0.4, -0.6, -0.9, -1.2, -1.8, -2.4, -2.7, -3.2, -3.5, -2.2, -1. ,\n",
       "        0. ,  1. , -0.7, -1.1, -1.6, -2. , -2.3, -2.5,  0.1,  0.2, -0.3,\n",
       "       -1.3,  2.2, -0.8])"
      ]
     },
     "execution_count": 21,
     "metadata": {},
     "output_type": "execute_result"
    }
   ],
   "source": [
    "#변수의 자료형을 확인해보세요.\n",
    "df[feature].unique()"
   ]
  },
  {
   "cell_type": "code",
   "execution_count": 22,
   "id": "0f233873",
   "metadata": {},
   "outputs": [
    {
     "data": {
      "text/plain": [
       "0    13.1\n",
       "1    12.4\n",
       "2    13.1\n",
       "3    13.0\n",
       "4    13.0\n",
       "Name: temperature, dtype: float64"
      ]
     },
     "execution_count": 22,
     "metadata": {},
     "output_type": "execute_result"
    }
   ],
   "source": [
    "df['temperature'].head(5)"
   ]
  },
  {
   "cell_type": "markdown",
   "id": "010c7455",
   "metadata": {},
   "source": [
    "3. 변수의 결측치 존재 여부 및 조치방안"
   ]
  },
  {
   "cell_type": "code",
   "execution_count": 23,
   "id": "2ee2c230",
   "metadata": {},
   "outputs": [
    {
     "data": {
      "text/plain": [
       "0"
      ]
     },
     "execution_count": 23,
     "metadata": {},
     "output_type": "execute_result"
    }
   ],
   "source": [
    "#변수의 결측치 존재 여부를 확인하고, 만약 결측치가 존재하면 어떻게 처리할지 고민해보세요.\n",
    "df[feature].isnull().sum()"
   ]
  },
  {
   "cell_type": "markdown",
   "id": "23c266b7",
   "metadata": {},
   "source": [
    "4. 변수의 기초 통계량 확인"
   ]
  },
  {
   "cell_type": "code",
   "execution_count": 40,
   "id": "ce82acdd",
   "metadata": {},
   "outputs": [
    {
     "data": {
      "text/html": [
       "<div>\n",
       "<style scoped>\n",
       "    .dataframe tbody tr th:only-of-type {\n",
       "        vertical-align: middle;\n",
       "    }\n",
       "\n",
       "    .dataframe tbody tr th {\n",
       "        vertical-align: top;\n",
       "    }\n",
       "\n",
       "    .dataframe thead th {\n",
       "        text-align: right;\n",
       "    }\n",
       "</style>\n",
       "<table border=\"1\" class=\"dataframe\">\n",
       "  <thead>\n",
       "    <tr style=\"text-align: right;\">\n",
       "      <th></th>\n",
       "      <th>count</th>\n",
       "    </tr>\n",
       "  </thead>\n",
       "  <tbody>\n",
       "    <tr>\n",
       "      <th>count</th>\n",
       "      <td>5670.000000</td>\n",
       "    </tr>\n",
       "    <tr>\n",
       "      <th>mean</th>\n",
       "      <td>215.869841</td>\n",
       "    </tr>\n",
       "    <tr>\n",
       "      <th>std</th>\n",
       "      <td>186.974342</td>\n",
       "    </tr>\n",
       "    <tr>\n",
       "      <th>min</th>\n",
       "      <td>1.000000</td>\n",
       "    </tr>\n",
       "    <tr>\n",
       "      <th>25%</th>\n",
       "      <td>53.000000</td>\n",
       "    </tr>\n",
       "    <tr>\n",
       "      <th>50%</th>\n",
       "      <td>186.000000</td>\n",
       "    </tr>\n",
       "    <tr>\n",
       "      <th>75%</th>\n",
       "      <td>317.000000</td>\n",
       "    </tr>\n",
       "    <tr>\n",
       "      <th>max</th>\n",
       "      <td>1746.000000</td>\n",
       "    </tr>\n",
       "  </tbody>\n",
       "</table>\n",
       "</div>"
      ],
      "text/plain": [
       "             count\n",
       "count  5670.000000\n",
       "mean    215.869841\n",
       "std     186.974342\n",
       "min       1.000000\n",
       "25%      53.000000\n",
       "50%     186.000000\n",
       "75%     317.000000\n",
       "max    1746.000000"
      ]
     },
     "execution_count": 168,
     "metadata": {},
     "output_type": "execute_result"
    }
   ],
   "source": [
    "#변수의 기초 통계량을 확인해보세요\n",
    "df[[feature]].describe()"
   ]
  },
  {
   "cell_type": "code",
   "execution_count": 26,
   "id": "34395c6e",
   "metadata": {
    "tags": []
   },
   "outputs": [
    {
     "name": "stdout",
     "output_type": "stream",
     "text": [
      "<class 'pandas.core.frame.DataFrame'>\n",
      "RangeIndex: 5827 entries, 0 to 5826\n",
      "Data columns (total 13 columns):\n",
      " #   Column            Non-Null Count  Dtype  \n",
      "---  ------            --------------  -----  \n",
      " 0   date              5827 non-null   object \n",
      " 1   hour              5827 non-null   int64  \n",
      " 2   PM10              5725 non-null   float64\n",
      " 3   PM2.5             5732 non-null   float64\n",
      " 4   ozone             5699 non-null   float64\n",
      " 5   temperature       5827 non-null   float64\n",
      " 6   precipitation     5827 non-null   int64  \n",
      " 7   windspeed         5827 non-null   float64\n",
      " 8   humidity          5827 non-null   int64  \n",
      " 9   visibility        5827 non-null   int64  \n",
      " 10  count             5827 non-null   int64  \n",
      " 11  precipitation_01  5826 non-null   float64\n",
      " 12  tem_max           37 non-null     float64\n",
      "dtypes: float64(7), int64(5), object(1)\n",
      "memory usage: 591.9+ KB\n"
     ]
    }
   ],
   "source": [
    "df.info()"
   ]
  },
  {
   "cell_type": "code",
   "execution_count": 28,
   "id": "31e9a86b",
   "metadata": {},
   "outputs": [
    {
     "data": {
      "text/html": [
       "<div>\n",
       "<style scoped>\n",
       "    .dataframe tbody tr th:only-of-type {\n",
       "        vertical-align: middle;\n",
       "    }\n",
       "\n",
       "    .dataframe tbody tr th {\n",
       "        vertical-align: top;\n",
       "    }\n",
       "\n",
       "    .dataframe thead th {\n",
       "        text-align: right;\n",
       "    }\n",
       "</style>\n",
       "<table border=\"1\" class=\"dataframe\">\n",
       "  <thead>\n",
       "    <tr style=\"text-align: right;\">\n",
       "      <th></th>\n",
       "      <th>tem_max</th>\n",
       "    </tr>\n",
       "  </thead>\n",
       "  <tbody>\n",
       "    <tr>\n",
       "      <th>count</th>\n",
       "      <td>36.000000</td>\n",
       "    </tr>\n",
       "    <tr>\n",
       "      <th>mean</th>\n",
       "      <td>3687.277778</td>\n",
       "    </tr>\n",
       "    <tr>\n",
       "      <th>std</th>\n",
       "      <td>2825.709343</td>\n",
       "    </tr>\n",
       "    <tr>\n",
       "      <th>min</th>\n",
       "      <td>174.000000</td>\n",
       "    </tr>\n",
       "    <tr>\n",
       "      <th>25%</th>\n",
       "      <td>1106.250000</td>\n",
       "    </tr>\n",
       "    <tr>\n",
       "      <th>50%</th>\n",
       "      <td>3638.000000</td>\n",
       "    </tr>\n",
       "    <tr>\n",
       "      <th>75%</th>\n",
       "      <td>5117.500000</td>\n",
       "    </tr>\n",
       "    <tr>\n",
       "      <th>max</th>\n",
       "      <td>9746.000000</td>\n",
       "    </tr>\n",
       "  </tbody>\n",
       "</table>\n",
       "</div>"
      ],
      "text/plain": [
       "           tem_max\n",
       "count    36.000000\n",
       "mean   3687.277778\n",
       "std    2825.709343\n",
       "min     174.000000\n",
       "25%    1106.250000\n",
       "50%    3638.000000\n",
       "75%    5117.500000\n",
       "max    9746.000000"
      ]
     },
     "execution_count": 28,
     "metadata": {},
     "output_type": "execute_result"
    }
   ],
   "source": [
    "data[['tem_max']].describe()"
   ]
  },
  {
   "cell_type": "markdown",
   "id": "22a9becf",
   "metadata": {},
   "source": [
    "5. 변수의 분포 확인"
   ]
  },
  {
   "cell_type": "code",
   "execution_count": 17,
   "id": "efd15b54",
   "metadata": {},
   "outputs": [
    {
     "data": {
      "image/png": "[encoded data removed]",
      "text/plain": [
       "<Figure size 936x288 with 3 Axes>"
      ]
     },
     "metadata": {
      "needs_background": "light"
     },
     "output_type": "display_data"
    }
   ],
   "source": [
    "#변수의 분포를 시각화 라이브러리를 활용해 확인해보세요.\n",
    "plt.figure(figsize=(12,4))\n",
    "\n",
    "plt.subplot(1,2,1)\n",
    "sns.countplot(df[feature])\n",
    "\n",
    "plt.subplot(1,2,2)\n",
    "plt.pie(temp.values, labels=temp.index, autopct='%.1f%%')\n",
    "\n",
    "plt.tight_layout()\n",
    "plt.show()"
   ]
  },
  {
   "cell_type": "code",
   "execution_count": 30,
   "id": "ab5900c7",
   "metadata": {},
   "outputs": [
    {
     "data": {
      "image/png": "[encoded data removed]",
      "text/plain": [
       "<Figure size 936x288 with 3 Axes>"
      ]
     },
     "metadata": {
      "needs_background": "light"
     },
     "output_type": "display_data"
    }
   ],
   "source": [
    "plt.figure(figsize=(13,4))\n",
    "\n",
    "plt.subplot(1,3,1)\n",
    "sns.histplot(data['tem_max'], bins=8)\n",
    "\n",
    "plt.subplot(1,3,2)\n",
    "sns.kdeplot(data['tem_max'])\n",
    "\n",
    "plt.subplot(1,3,3)\n",
    "sns.boxplot(data['tem_max'])\n",
    "\n",
    "plt.tight_layout()\n",
    "plt.show()"
   ]
  },
  {
   "cell_type": "markdown",
   "id": "314284e2",
   "metadata": {},
   "source": [
    "6. 위 정보로 부터 파악한 내용 정리"
   ]
  },
  {
   "cell_type": "markdown",
   "id": "37f0338e",
   "metadata": {},
   "source": [
    "#위 정보로부터 파악하신 내용을 정리해보세요.\n",
    " * 15~25도가 가장 많다."
   ]
  },
  {
   "cell_type": "markdown",
   "id": "5341f7c2",
   "metadata": {},
   "source": [
    "7. 추가 분석사항 도출"
   ]
  },
  {
   "cell_type": "code",
   "execution_count": null,
   "id": "ebd1fd48",
   "metadata": {},
   "outputs": [],
   "source": [
    "#추가로 분석을 원하는 부분이 있다면 분석후 정리해보세요."
   ]
  },
  {
   "cell_type": "markdown",
   "id": "d28e0cb7",
   "metadata": {},
   "source": [
    "### Feature3 : precipitation"
   ]
  },
  {
   "cell_type": "markdown",
   "id": "74305cdf",
   "metadata": {},
   "source": [
    "1. 변수가 내포하고 있는 의미\n",
    "- 변수의 의미를 한번 짚고 넘어갑시다. 여러분이 생각하는 이 변수의 의미를 작성해보세요.\n",
    "\n",
    "\n",
    "count : 시간에 따른 따릉이 대여 수"
   ]
  },
  {
   "cell_type": "code",
   "execution_count": 10,
   "id": "4474a603",
   "metadata": {},
   "outputs": [],
   "source": [
    "feature= 'precipitation'"
   ]
  },
  {
   "cell_type": "markdown",
   "id": "f5598656",
   "metadata": {},
   "source": [
    "2. 변수가 수치형인지 범주형인지\n"
   ]
  },
  {
   "cell_type": "code",
   "execution_count": 38,
   "id": "e32a046b",
   "metadata": {
    "tags": []
   },
   "outputs": [
    {
     "data": {
      "text/plain": [
       "array([  46,   40,   31,   12,   30,   77,  171,  330,  218,  175,  247,\n",
       "        269,  289,  265,  342,  369,  564,  820,  526,  435,  396,  307,\n",
       "        157,   85,   48,   17,   20,   24,   72,  169,  336,  207,  211,\n",
       "        233,  286,  314,  360,  392,  507,  582,  411,  331,  366,  344,\n",
       "        183,  126,   62,   58,   38,   18,   25,   43,   45,    5,    1,\n",
       "          2,    3,    8,    6,   11,   15,   16,    7,   33,   67,   94,\n",
       "        151,  210,  464,  601,  651,  613,  505,  427,  341,  252,  219,\n",
       "        194,   78,   69,   35,    9,  188,  349,  187,  227,  280,  262,\n",
       "        284,  390,  423,  552,  835,  479,  352,  258,  130,   80,   21,\n",
       "         23,   29,  362,  230,  176,  249,  310,  268,  261,  329,  356,\n",
       "        569,  856,  508,  413,  297,  112,   63,   36,   19,   28,   84,\n",
       "        158,  216,  189,  282,  346,  274,  303,  324,  399,  574,  797,\n",
       "        461,  293,  266,  103,   71,   42,  319,  140,  259,  492,  783,\n",
       "        383,  276,  291,  108,   59,   60,   74,  164,  332,  251,  300,\n",
       "        354,  370,  404,  585,  753,  444,  318,  333,  296,  123,   57,\n",
       "        100,  160,  343,  426,  544,  662,  639,  548,  475,  313,  281,\n",
       "        278,  232,  124,   64,   86,  118,  163,  271,  397,  513,  542,\n",
       "        584,  633,  621,  503,  407,  264,  208,  105,   44,   75,  177,\n",
       "         93,   10,    4,  125,  263,  174,  214,  206,  225,  367,  602,\n",
       "        323,   22,   61,  364,  236,  202,  260,  250,  245,  273,  462,\n",
       "        678,  359,  257,   87,   81,  184,  338,  226,  150,  238,  239,\n",
       "        279,  547,  756,  438,  298,  317,  267,  136,   51,  159,   88,\n",
       "         52,  113,  170,  235,  406,  629,  372,  223,  104,   53,   13,\n",
       "         56,  102,  138,  190,  116,  244,   14,   49,  133,  270,  348,\n",
       "        467,  604,  592,  654,  530,  384,  229,  156,   26,   27,  335,\n",
       "        145,  242,  309,  529,  802,  504,  312,  304,  237,  127,   34,\n",
       "         90,  203,  347,  288,  299,  489,  855,  449,  111,   83,  197,\n",
       "        387,  201,  248,  320,  588,  829,  521,  377,  122,  186,  167,\n",
       "        228,  253,  285,  358,  512,  698,  456,  294,   89,   68,  162,\n",
       "        204,  363,  493,  692,  434,  355,  165,  115,   66,  154,  205,\n",
       "        328,  418,  450,  570,  401,  301,  119,  161,  246,  405,  469,\n",
       "        545,  679,  688,  655,  606,  498,  255,  139,  351,  173,  534,\n",
       "        888,  560,  389,  373,  155,  114,  744,  550,  494,  516,  568,\n",
       "        670,  609,  624,  391,  292,  706,  452,  302,  468,  490,  714,\n",
       "       1126, 1600,  976,  804,  612,   32,  198,  196,  212,  327,  334,\n",
       "        522,  695,  460,  142,  147,  234,  172,  398,  557,  215,   55,\n",
       "         98,   39,   70,   92,  129,  180,  453,  594,  703,  686,  595,\n",
       "        431,  325,  168,   99,  277,  295,  607,  827,  538,  371,   65,\n",
       "        110,  128,  200,  559,  653,  762,  787,  708,  577,  415,  254,\n",
       "        275,  339,  540,  858,  395,  382,  256,  121,  181,  537,  195,\n",
       "         91,   54,  217,  178,  182,   95,   41,  484,  661,  581,  350,\n",
       "        109,  117,  166,  199,  408,  429,  135,  221,  400,  191,  220,\n",
       "        311,  893,  497,  321,  243,  224,  287,  566,  809,  543,  432,\n",
       "        388,  337,  788,  598,  422,  306,   96,  365,  531,  381,  143,\n",
       "         79,  107,  353,   37,  241,  368,  812,  141,   73,   50,  106,\n",
       "        290,  375,  414,  555,  643,  562,  459,  149,  148,  209,   82,\n",
       "        146,  412,  623,  501,  393,  420,  424,  520,  828,  340,   76,\n",
       "        483,  240,  376,  674,  472,  152,  308,  192,  447,  668,  394,\n",
       "        179,  231,  132,  527,  533,  430,  905,  477,  410,  750,  315,\n",
       "        326,  556,  830,  428,  615,  921,  470,  417,  443,  491,  515,\n",
       "        437,  448,  283,  510,  535,  853,  402,  832,  442,  357,  546,\n",
       "        843,  485,  222,  458,   97,  101,  872,  451,  728,  322,  541,\n",
       "        880,  619,  378,  702,  416,  454,  457,  433,  131,  446,  471,\n",
       "        473,  213,  193,  906,  694,  487,  777,  553,  185,  576,  789,\n",
       "        120,  380,  436,  153,  144,   47,  316,  803,  476,  794,  499,\n",
       "        757,  605,  137,  865,  532,  844,  587,  760,  486,  441,  374,\n",
       "        711,  134,  768,  478,  792,  645,  385,  563,  496,  361,  710,\n",
       "        691,  439,  622,  700,  500,  659,  403,  597,  648,  272,  649,\n",
       "        440,  305,  743,  567,  502,  747,  717,  745,  641,  628,  495,\n",
       "        480,  775,  506,  419,  579,  572,  868,  704,  815,  644,  617,\n",
       "        558,  474,  561,  509,  866,  603,  466,  525,  386,  631,  518,\n",
       "        455,  616,  554,  859,  805,  488,  514, 1090, 1746, 1086,  942,\n",
       "        944,  630, 1026,  740,  736,  593,  590,  642,  667,  638,  953,\n",
       "        684,  573,  807,  658,  481,  463,  939,  517,  421,  932,  665,\n",
       "        965,  600,  847,  578,  425,  697,  765,  345,  445,  539,  693,\n",
       "        755,  752,  949,  640,  620,  664,  988,  701,  677,  671,  798,\n",
       "        589,  925,  580,  915,  596,  699,  723,  482,  528,  669,  599,\n",
       "        696,  647,  379,  409,  571,  898,  963,  636,  689,  523,  733,\n",
       "        741,  731,  754,  766,  465,  583,  676,  519], dtype=int64)"
      ]
     },
     "execution_count": 166,
     "metadata": {},
     "output_type": "execute_result"
    }
   ],
   "source": [
    "# 변수의 자료형을 확인해보세요.\n",
    "df[feature].unique()"
   ]
  },
  {
   "cell_type": "markdown",
   "id": "52aeba21",
   "metadata": {},
   "source": [
    "3. 변수의 결측치 존재 여부 및 조치방안"
   ]
  },
  {
   "cell_type": "code",
   "execution_count": 39,
   "id": "526c0c27",
   "metadata": {},
   "outputs": [
    {
     "data": {
      "text/plain": [
       "0"
      ]
     },
     "execution_count": 167,
     "metadata": {},
     "output_type": "execute_result"
    }
   ],
   "source": [
    "#변수의 결측치 존재 여부를 확인하고, 만약 결측치가 존재하면 어떻게 처리할지 고민해보세요. \n",
    "df[feature].isnull().sum()"
   ]
  },
  {
   "cell_type": "markdown",
   "id": "2d9760fd",
   "metadata": {},
   "source": [
    "4. 변수의 기초 통계량 확인"
   ]
  },
  {
   "cell_type": "code",
   "execution_count": 12,
   "id": "3ba272ed",
   "metadata": {},
   "outputs": [
    {
     "data": {
      "text/html": [
       "<div>\n",
       "<style scoped>\n",
       "    .dataframe tbody tr th:only-of-type {\n",
       "        vertical-align: middle;\n",
       "    }\n",
       "\n",
       "    .dataframe tbody tr th {\n",
       "        vertical-align: top;\n",
       "    }\n",
       "\n",
       "    .dataframe thead th {\n",
       "        text-align: right;\n",
       "    }\n",
       "</style>\n",
       "<table border=\"1\" class=\"dataframe\">\n",
       "  <thead>\n",
       "    <tr style=\"text-align: right;\">\n",
       "      <th></th>\n",
       "      <th>count</th>\n",
       "    </tr>\n",
       "  </thead>\n",
       "  <tbody>\n",
       "    <tr>\n",
       "      <th>count</th>\n",
       "      <td>5670.000000</td>\n",
       "    </tr>\n",
       "    <tr>\n",
       "      <th>mean</th>\n",
       "      <td>215.869841</td>\n",
       "    </tr>\n",
       "    <tr>\n",
       "      <th>std</th>\n",
       "      <td>186.974342</td>\n",
       "    </tr>\n",
       "    <tr>\n",
       "      <th>min</th>\n",
       "      <td>1.000000</td>\n",
       "    </tr>\n",
       "    <tr>\n",
       "      <th>25%</th>\n",
       "      <td>53.000000</td>\n",
       "    </tr>\n",
       "    <tr>\n",
       "      <th>50%</th>\n",
       "      <td>186.000000</td>\n",
       "    </tr>\n",
       "    <tr>\n",
       "      <th>75%</th>\n",
       "      <td>317.000000</td>\n",
       "    </tr>\n",
       "    <tr>\n",
       "      <th>max</th>\n",
       "      <td>1746.000000</td>\n",
       "    </tr>\n",
       "  </tbody>\n",
       "</table>\n",
       "</div>"
      ],
      "text/plain": [
       "             count\n",
       "count  5670.000000\n",
       "mean    215.869841\n",
       "std     186.974342\n",
       "min       1.000000\n",
       "25%      53.000000\n",
       "50%     186.000000\n",
       "75%     317.000000\n",
       "max    1746.000000"
      ]
     },
     "execution_count": 168,
     "metadata": {},
     "output_type": "execute_result"
    }
   ],
   "source": [
    "#변수의 기초 통계량을 확인해보세요\n",
    "temp = df[feature].value_counts()\n",
    "display(temp/df.shape[0])"
   ]
  },
  {
   "cell_type": "markdown",
   "id": "4eb1b708",
   "metadata": {},
   "source": [
    "5. 변수의 분포 확인"
   ]
  },
  {
   "cell_type": "code",
   "execution_count": 17,
   "id": "8449daa6",
   "metadata": {},
   "outputs": [
    {
     "data": {
      "image/png": "[encoded data removed]",
      "text/plain": [
       "<Figure size 936x288 with 3 Axes>"
      ]
     },
     "metadata": {
      "needs_background": "light"
     },
     "output_type": "display_data"
    }
   ],
   "source": [
    "#변수의 분포를 시각화 라이브러리를 활용해 확인해보세요.\n",
    "plt.figure(figsize=(12,4))\n",
    "\n",
    "plt.subplot(1,2,1)\n",
    "sns.countplot(df[feature])\n",
    "\n",
    "plt.subplot(1,2,2)\n",
    "plt.pie(temp.values, labels=temp.index, autopct='%.1f%%')\n",
    "\n",
    "plt.tight_layout()\n",
    "plt.show()"
   ]
  },
  {
   "cell_type": "markdown",
   "id": "314284e2",
   "metadata": {},
   "source": [
    "6. 위 정보로 부터 파악한 내용 정리"
   ]
  },
  {
   "cell_type": "markdown",
   "id": "df015344",
   "metadata": {},
   "source": [
    "#위 정보로부터 파악하신 내용을 정리해보세요.\n",
    "* 비가 오지 않은 날이 90%이상이다."
   ]
  },
  {
   "cell_type": "markdown",
   "id": "5341f7c2",
   "metadata": {},
   "source": [
    "7. 추가 분석사항 도출"
   ]
  },
  {
   "cell_type": "code",
   "execution_count": null,
   "id": "ebd1fd48",
   "metadata": {},
   "outputs": [],
   "source": [
    "#추가로 분석을 원하는 부분이 있다면 분석후 정리해보세요."
   ]
  },
  {
   "cell_type": "markdown",
   "id": "c559e931",
   "metadata": {},
   "source": [
    "### Feature9 : PM2.5"
   ]
  },
  {
   "cell_type": "markdown",
   "id": "74305cdf",
   "metadata": {},
   "source": [
    "1. 변수가 내포하고 있는 의미\n",
    "- 변수의 의미를 한번 짚고 넘어갑시다. 여러분이 생각하는 이 변수의 의미를 작성해보세요.\n",
    "\n",
    "\n",
    "count : 시간에 따른 따릉이 대여 수"
   ]
  },
  {
   "cell_type": "code",
   "execution_count": 119,
   "id": "c45d2a2f",
   "metadata": {},
   "outputs": [],
   "source": [
    "feature='windspeed'"
   ]
  },
  {
   "cell_type": "markdown",
   "id": "f5598656",
   "metadata": {},
   "source": [
    "2. 변수가 수치형인지 범주형인지\n"
   ]
  },
  {
   "cell_type": "code",
   "execution_count": 38,
   "id": "e32a046b",
   "metadata": {
    "tags": []
   },
   "outputs": [
    {
     "data": {
      "text/plain": [
       "array([  46,   40,   31,   12,   30,   77,  171,  330,  218,  175,  247,\n",
       "        269,  289,  265,  342,  369,  564,  820,  526,  435,  396,  307,\n",
       "        157,   85,   48,   17,   20,   24,   72,  169,  336,  207,  211,\n",
       "        233,  286,  314,  360,  392,  507,  582,  411,  331,  366,  344,\n",
       "        183,  126,   62,   58,   38,   18,   25,   43,   45,    5,    1,\n",
       "          2,    3,    8,    6,   11,   15,   16,    7,   33,   67,   94,\n",
       "        151,  210,  464,  601,  651,  613,  505,  427,  341,  252,  219,\n",
       "        194,   78,   69,   35,    9,  188,  349,  187,  227,  280,  262,\n",
       "        284,  390,  423,  552,  835,  479,  352,  258,  130,   80,   21,\n",
       "         23,   29,  362,  230,  176,  249,  310,  268,  261,  329,  356,\n",
       "        569,  856,  508,  413,  297,  112,   63,   36,   19,   28,   84,\n",
       "        158,  216,  189,  282,  346,  274,  303,  324,  399,  574,  797,\n",
       "        461,  293,  266,  103,   71,   42,  319,  140,  259,  492,  783,\n",
       "        383,  276,  291,  108,   59,   60,   74,  164,  332,  251,  300,\n",
       "        354,  370,  404,  585,  753,  444,  318,  333,  296,  123,   57,\n",
       "        100,  160,  343,  426,  544,  662,  639,  548,  475,  313,  281,\n",
       "        278,  232,  124,   64,   86,  118,  163,  271,  397,  513,  542,\n",
       "        584,  633,  621,  503,  407,  264,  208,  105,   44,   75,  177,\n",
       "         93,   10,    4,  125,  263,  174,  214,  206,  225,  367,  602,\n",
       "        323,   22,   61,  364,  236,  202,  260,  250,  245,  273,  462,\n",
       "        678,  359,  257,   87,   81,  184,  338,  226,  150,  238,  239,\n",
       "        279,  547,  756,  438,  298,  317,  267,  136,   51,  159,   88,\n",
       "         52,  113,  170,  235,  406,  629,  372,  223,  104,   53,   13,\n",
       "         56,  102,  138,  190,  116,  244,   14,   49,  133,  270,  348,\n",
       "        467,  604,  592,  654,  530,  384,  229,  156,   26,   27,  335,\n",
       "        145,  242,  309,  529,  802,  504,  312,  304,  237,  127,   34,\n",
       "         90,  203,  347,  288,  299,  489,  855,  449,  111,   83,  197,\n",
       "        387,  201,  248,  320,  588,  829,  521,  377,  122,  186,  167,\n",
       "        228,  253,  285,  358,  512,  698,  456,  294,   89,   68,  162,\n",
       "        204,  363,  493,  692,  434,  355,  165,  115,   66,  154,  205,\n",
       "        328,  418,  450,  570,  401,  301,  119,  161,  246,  405,  469,\n",
       "        545,  679,  688,  655,  606,  498,  255,  139,  351,  173,  534,\n",
       "        888,  560,  389,  373,  155,  114,  744,  550,  494,  516,  568,\n",
       "        670,  609,  624,  391,  292,  706,  452,  302,  468,  490,  714,\n",
       "       1126, 1600,  976,  804,  612,   32,  198,  196,  212,  327,  334,\n",
       "        522,  695,  460,  142,  147,  234,  172,  398,  557,  215,   55,\n",
       "         98,   39,   70,   92,  129,  180,  453,  594,  703,  686,  595,\n",
       "        431,  325,  168,   99,  277,  295,  607,  827,  538,  371,   65,\n",
       "        110,  128,  200,  559,  653,  762,  787,  708,  577,  415,  254,\n",
       "        275,  339,  540,  858,  395,  382,  256,  121,  181,  537,  195,\n",
       "         91,   54,  217,  178,  182,   95,   41,  484,  661,  581,  350,\n",
       "        109,  117,  166,  199,  408,  429,  135,  221,  400,  191,  220,\n",
       "        311,  893,  497,  321,  243,  224,  287,  566,  809,  543,  432,\n",
       "        388,  337,  788,  598,  422,  306,   96,  365,  531,  381,  143,\n",
       "         79,  107,  353,   37,  241,  368,  812,  141,   73,   50,  106,\n",
       "        290,  375,  414,  555,  643,  562,  459,  149,  148,  209,   82,\n",
       "        146,  412,  623,  501,  393,  420,  424,  520,  828,  340,   76,\n",
       "        483,  240,  376,  674,  472,  152,  308,  192,  447,  668,  394,\n",
       "        179,  231,  132,  527,  533,  430,  905,  477,  410,  750,  315,\n",
       "        326,  556,  830,  428,  615,  921,  470,  417,  443,  491,  515,\n",
       "        437,  448,  283,  510,  535,  853,  402,  832,  442,  357,  546,\n",
       "        843,  485,  222,  458,   97,  101,  872,  451,  728,  322,  541,\n",
       "        880,  619,  378,  702,  416,  454,  457,  433,  131,  446,  471,\n",
       "        473,  213,  193,  906,  694,  487,  777,  553,  185,  576,  789,\n",
       "        120,  380,  436,  153,  144,   47,  316,  803,  476,  794,  499,\n",
       "        757,  605,  137,  865,  532,  844,  587,  760,  486,  441,  374,\n",
       "        711,  134,  768,  478,  792,  645,  385,  563,  496,  361,  710,\n",
       "        691,  439,  622,  700,  500,  659,  403,  597,  648,  272,  649,\n",
       "        440,  305,  743,  567,  502,  747,  717,  745,  641,  628,  495,\n",
       "        480,  775,  506,  419,  579,  572,  868,  704,  815,  644,  617,\n",
       "        558,  474,  561,  509,  866,  603,  466,  525,  386,  631,  518,\n",
       "        455,  616,  554,  859,  805,  488,  514, 1090, 1746, 1086,  942,\n",
       "        944,  630, 1026,  740,  736,  593,  590,  642,  667,  638,  953,\n",
       "        684,  573,  807,  658,  481,  463,  939,  517,  421,  932,  665,\n",
       "        965,  600,  847,  578,  425,  697,  765,  345,  445,  539,  693,\n",
       "        755,  752,  949,  640,  620,  664,  988,  701,  677,  671,  798,\n",
       "        589,  925,  580,  915,  596,  699,  723,  482,  528,  669,  599,\n",
       "        696,  647,  379,  409,  571,  898,  963,  636,  689,  523,  733,\n",
       "        741,  731,  754,  766,  465,  583,  676,  519], dtype=int64)"
      ]
     },
     "execution_count": 166,
     "metadata": {},
     "output_type": "execute_result"
    }
   ],
   "source": [
    "# 변수의 자료형을 확인해보세요.\n",
    "df[feature].unique()"
   ]
  },
  {
   "cell_type": "markdown",
   "id": "52aeba21",
   "metadata": {},
   "source": [
    "3. 변수의 결측치 존재 여부 및 조치방안"
   ]
  },
  {
   "cell_type": "code",
   "execution_count": 39,
   "id": "526c0c27",
   "metadata": {},
   "outputs": [
    {
     "data": {
      "text/plain": [
       "0"
      ]
     },
     "execution_count": 167,
     "metadata": {},
     "output_type": "execute_result"
    }
   ],
   "source": [
    "#변수의 결측치 존재 여부를 확인하고, 만약 결측치가 존재하면 어떻게 처리할지 고민해보세요. \n",
    "df[feature].isnull().sum()"
   ]
  },
  {
   "cell_type": "markdown",
   "id": "2d9760fd",
   "metadata": {},
   "source": [
    "4. 변수의 기초 통계량 확인"
   ]
  },
  {
   "cell_type": "code",
   "execution_count": 12,
   "id": "3ba272ed",
   "metadata": {},
   "outputs": [
    {
     "data": {
      "text/html": [
       "<div>\n",
       "<style scoped>\n",
       "    .dataframe tbody tr th:only-of-type {\n",
       "        vertical-align: middle;\n",
       "    }\n",
       "\n",
       "    .dataframe tbody tr th {\n",
       "        vertical-align: top;\n",
       "    }\n",
       "\n",
       "    .dataframe thead th {\n",
       "        text-align: right;\n",
       "    }\n",
       "</style>\n",
       "<table border=\"1\" class=\"dataframe\">\n",
       "  <thead>\n",
       "    <tr style=\"text-align: right;\">\n",
       "      <th></th>\n",
       "      <th>count</th>\n",
       "    </tr>\n",
       "  </thead>\n",
       "  <tbody>\n",
       "    <tr>\n",
       "      <th>count</th>\n",
       "      <td>5670.000000</td>\n",
       "    </tr>\n",
       "    <tr>\n",
       "      <th>mean</th>\n",
       "      <td>215.869841</td>\n",
       "    </tr>\n",
       "    <tr>\n",
       "      <th>std</th>\n",
       "      <td>186.974342</td>\n",
       "    </tr>\n",
       "    <tr>\n",
       "      <th>min</th>\n",
       "      <td>1.000000</td>\n",
       "    </tr>\n",
       "    <tr>\n",
       "      <th>25%</th>\n",
       "      <td>53.000000</td>\n",
       "    </tr>\n",
       "    <tr>\n",
       "      <th>50%</th>\n",
       "      <td>186.000000</td>\n",
       "    </tr>\n",
       "    <tr>\n",
       "      <th>75%</th>\n",
       "      <td>317.000000</td>\n",
       "    </tr>\n",
       "    <tr>\n",
       "      <th>max</th>\n",
       "      <td>1746.000000</td>\n",
       "    </tr>\n",
       "  </tbody>\n",
       "</table>\n",
       "</div>"
      ],
      "text/plain": [
       "             count\n",
       "count  5670.000000\n",
       "mean    215.869841\n",
       "std     186.974342\n",
       "min       1.000000\n",
       "25%      53.000000\n",
       "50%     186.000000\n",
       "75%     317.000000\n",
       "max    1746.000000"
      ]
     },
     "execution_count": 168,
     "metadata": {},
     "output_type": "execute_result"
    }
   ],
   "source": [
    "#변수의 기초 통계량을 확인해보세요\n",
    "temp = df[feature].value_counts()\n",
    "display(temp/df.shape[0])"
   ]
  },
  {
   "cell_type": "markdown",
   "id": "4eb1b708",
   "metadata": {},
   "source": [
    "5. 변수의 분포 확인"
   ]
  },
  {
   "cell_type": "code",
   "execution_count": 17,
   "id": "8449daa6",
   "metadata": {},
   "outputs": [
    {
     "data": {
      "image/png": "[encoded data removed]",
      "text/plain": [
       "<Figure size 936x288 with 3 Axes>"
      ]
     },
     "metadata": {
      "needs_background": "light"
     },
     "output_type": "display_data"
    }
   ],
   "source": [
    "#변수의 분포를 시각화 라이브러리를 활용해 확인해보세요.\n",
    "plt.figure(figsize=(12,4))\n",
    "\n",
    "plt.subplot(1,2,1)\n",
    "sns.countplot(df[feature])\n",
    "\n",
    "plt.subplot(1,2,2)\n",
    "plt.pie(temp.values, labels=temp.index, autopct='%.1f%%')\n",
    "\n",
    "plt.tight_layout()\n",
    "plt.show()"
   ]
  },
  {
   "cell_type": "markdown",
   "id": "314284e2",
   "metadata": {},
   "source": [
    "6. 위 정보로 부터 파악한 내용 정리"
   ]
  },
  {
   "cell_type": "markdown",
   "id": "dcbb75db",
   "metadata": {},
   "source": [
    "#위 정보로부터 파악하신 내용을 정리해보세요.\n",
    "* 풍속이 1~3이 가장 많이 분포한다."
   ]
  },
  {
   "cell_type": "markdown",
   "id": "5341f7c2",
   "metadata": {},
   "source": [
    "7. 추가 분석사항 도출"
   ]
  },
  {
   "cell_type": "code",
   "execution_count": null,
   "id": "ebd1fd48",
   "metadata": {},
   "outputs": [],
   "source": [
    "#추가로 분석을 원하는 부분이 있다면 분석후 정리해보세요."
   ]
  },
  {
   "cell_type": "markdown",
   "id": "c559e931",
   "metadata": {},
   "source": [
    "### Feature9 : PM2.5"
   ]
  },
  {
   "cell_type": "markdown",
   "id": "74305cdf",
   "metadata": {},
   "source": [
    "1. 변수가 내포하고 있는 의미\n",
    "- 변수의 의미를 한번 짚고 넘어갑시다. 여러분이 생각하는 이 변수의 의미를 작성해보세요.\n",
    "\n",
    "\n",
    "count : 시간에 따른 따릉이 대여 수"
   ]
  },
  {
   "cell_type": "code",
   "execution_count": 122,
   "id": "ad3159f6",
   "metadata": {},
   "outputs": [],
   "source": [
    "feature = 'humidity'"
   ]
  },
  {
   "cell_type": "markdown",
   "id": "f5598656",
   "metadata": {},
   "source": [
    "2. 변수가 수치형인지 범주형인지\n"
   ]
  },
  {
   "cell_type": "code",
   "execution_count": 38,
   "id": "e32a046b",
   "metadata": {
    "tags": []
   },
   "outputs": [
    {
     "data": {
      "text/plain": [
       "array([  46,   40,   31,   12,   30,   77,  171,  330,  218,  175,  247,\n",
       "        269,  289,  265,  342,  369,  564,  820,  526,  435,  396,  307,\n",
       "        157,   85,   48,   17,   20,   24,   72,  169,  336,  207,  211,\n",
       "        233,  286,  314,  360,  392,  507,  582,  411,  331,  366,  344,\n",
       "        183,  126,   62,   58,   38,   18,   25,   43,   45,    5,    1,\n",
       "          2,    3,    8,    6,   11,   15,   16,    7,   33,   67,   94,\n",
       "        151,  210,  464,  601,  651,  613,  505,  427,  341,  252,  219,\n",
       "        194,   78,   69,   35,    9,  188,  349,  187,  227,  280,  262,\n",
       "        284,  390,  423,  552,  835,  479,  352,  258,  130,   80,   21,\n",
       "         23,   29,  362,  230,  176,  249,  310,  268,  261,  329,  356,\n",
       "        569,  856,  508,  413,  297,  112,   63,   36,   19,   28,   84,\n",
       "        158,  216,  189,  282,  346,  274,  303,  324,  399,  574,  797,\n",
       "        461,  293,  266,  103,   71,   42,  319,  140,  259,  492,  783,\n",
       "        383,  276,  291,  108,   59,   60,   74,  164,  332,  251,  300,\n",
       "        354,  370,  404,  585,  753,  444,  318,  333,  296,  123,   57,\n",
       "        100,  160,  343,  426,  544,  662,  639,  548,  475,  313,  281,\n",
       "        278,  232,  124,   64,   86,  118,  163,  271,  397,  513,  542,\n",
       "        584,  633,  621,  503,  407,  264,  208,  105,   44,   75,  177,\n",
       "         93,   10,    4,  125,  263,  174,  214,  206,  225,  367,  602,\n",
       "        323,   22,   61,  364,  236,  202,  260,  250,  245,  273,  462,\n",
       "        678,  359,  257,   87,   81,  184,  338,  226,  150,  238,  239,\n",
       "        279,  547,  756,  438,  298,  317,  267,  136,   51,  159,   88,\n",
       "         52,  113,  170,  235,  406,  629,  372,  223,  104,   53,   13,\n",
       "         56,  102,  138,  190,  116,  244,   14,   49,  133,  270,  348,\n",
       "        467,  604,  592,  654,  530,  384,  229,  156,   26,   27,  335,\n",
       "        145,  242,  309,  529,  802,  504,  312,  304,  237,  127,   34,\n",
       "         90,  203,  347,  288,  299,  489,  855,  449,  111,   83,  197,\n",
       "        387,  201,  248,  320,  588,  829,  521,  377,  122,  186,  167,\n",
       "        228,  253,  285,  358,  512,  698,  456,  294,   89,   68,  162,\n",
       "        204,  363,  493,  692,  434,  355,  165,  115,   66,  154,  205,\n",
       "        328,  418,  450,  570,  401,  301,  119,  161,  246,  405,  469,\n",
       "        545,  679,  688,  655,  606,  498,  255,  139,  351,  173,  534,\n",
       "        888,  560,  389,  373,  155,  114,  744,  550,  494,  516,  568,\n",
       "        670,  609,  624,  391,  292,  706,  452,  302,  468,  490,  714,\n",
       "       1126, 1600,  976,  804,  612,   32,  198,  196,  212,  327,  334,\n",
       "        522,  695,  460,  142,  147,  234,  172,  398,  557,  215,   55,\n",
       "         98,   39,   70,   92,  129,  180,  453,  594,  703,  686,  595,\n",
       "        431,  325,  168,   99,  277,  295,  607,  827,  538,  371,   65,\n",
       "        110,  128,  200,  559,  653,  762,  787,  708,  577,  415,  254,\n",
       "        275,  339,  540,  858,  395,  382,  256,  121,  181,  537,  195,\n",
       "         91,   54,  217,  178,  182,   95,   41,  484,  661,  581,  350,\n",
       "        109,  117,  166,  199,  408,  429,  135,  221,  400,  191,  220,\n",
       "        311,  893,  497,  321,  243,  224,  287,  566,  809,  543,  432,\n",
       "        388,  337,  788,  598,  422,  306,   96,  365,  531,  381,  143,\n",
       "         79,  107,  353,   37,  241,  368,  812,  141,   73,   50,  106,\n",
       "        290,  375,  414,  555,  643,  562,  459,  149,  148,  209,   82,\n",
       "        146,  412,  623,  501,  393,  420,  424,  520,  828,  340,   76,\n",
       "        483,  240,  376,  674,  472,  152,  308,  192,  447,  668,  394,\n",
       "        179,  231,  132,  527,  533,  430,  905,  477,  410,  750,  315,\n",
       "        326,  556,  830,  428,  615,  921,  470,  417,  443,  491,  515,\n",
       "        437,  448,  283,  510,  535,  853,  402,  832,  442,  357,  546,\n",
       "        843,  485,  222,  458,   97,  101,  872,  451,  728,  322,  541,\n",
       "        880,  619,  378,  702,  416,  454,  457,  433,  131,  446,  471,\n",
       "        473,  213,  193,  906,  694,  487,  777,  553,  185,  576,  789,\n",
       "        120,  380,  436,  153,  144,   47,  316,  803,  476,  794,  499,\n",
       "        757,  605,  137,  865,  532,  844,  587,  760,  486,  441,  374,\n",
       "        711,  134,  768,  478,  792,  645,  385,  563,  496,  361,  710,\n",
       "        691,  439,  622,  700,  500,  659,  403,  597,  648,  272,  649,\n",
       "        440,  305,  743,  567,  502,  747,  717,  745,  641,  628,  495,\n",
       "        480,  775,  506,  419,  579,  572,  868,  704,  815,  644,  617,\n",
       "        558,  474,  561,  509,  866,  603,  466,  525,  386,  631,  518,\n",
       "        455,  616,  554,  859,  805,  488,  514, 1090, 1746, 1086,  942,\n",
       "        944,  630, 1026,  740,  736,  593,  590,  642,  667,  638,  953,\n",
       "        684,  573,  807,  658,  481,  463,  939,  517,  421,  932,  665,\n",
       "        965,  600,  847,  578,  425,  697,  765,  345,  445,  539,  693,\n",
       "        755,  752,  949,  640,  620,  664,  988,  701,  677,  671,  798,\n",
       "        589,  925,  580,  915,  596,  699,  723,  482,  528,  669,  599,\n",
       "        696,  647,  379,  409,  571,  898,  963,  636,  689,  523,  733,\n",
       "        741,  731,  754,  766,  465,  583,  676,  519], dtype=int64)"
      ]
     },
     "execution_count": 166,
     "metadata": {},
     "output_type": "execute_result"
    }
   ],
   "source": [
    "# 변수의 자료형을 확인해보세요.\n",
    "df[feature].unique()"
   ]
  },
  {
   "cell_type": "markdown",
   "id": "52aeba21",
   "metadata": {},
   "source": [
    "3. 변수의 결측치 존재 여부 및 조치방안"
   ]
  },
  {
   "cell_type": "code",
   "execution_count": 39,
   "id": "526c0c27",
   "metadata": {},
   "outputs": [
    {
     "data": {
      "text/plain": [
       "0"
      ]
     },
     "execution_count": 167,
     "metadata": {},
     "output_type": "execute_result"
    }
   ],
   "source": [
    "#변수의 결측치 존재 여부를 확인하고, 만약 결측치가 존재하면 어떻게 처리할지 고민해보세요. \n",
    "df[feature].isnull().sum()"
   ]
  },
  {
   "cell_type": "markdown",
   "id": "2d9760fd",
   "metadata": {},
   "source": [
    "4. 변수의 기초 통계량 확인"
   ]
  },
  {
   "cell_type": "code",
   "execution_count": 12,
   "id": "3ba272ed",
   "metadata": {},
   "outputs": [
    {
     "data": {
      "text/html": [
       "<div>\n",
       "<style scoped>\n",
       "    .dataframe tbody tr th:only-of-type {\n",
       "        vertical-align: middle;\n",
       "    }\n",
       "\n",
       "    .dataframe tbody tr th {\n",
       "        vertical-align: top;\n",
       "    }\n",
       "\n",
       "    .dataframe thead th {\n",
       "        text-align: right;\n",
       "    }\n",
       "</style>\n",
       "<table border=\"1\" class=\"dataframe\">\n",
       "  <thead>\n",
       "    <tr style=\"text-align: right;\">\n",
       "      <th></th>\n",
       "      <th>count</th>\n",
       "    </tr>\n",
       "  </thead>\n",
       "  <tbody>\n",
       "    <tr>\n",
       "      <th>count</th>\n",
       "      <td>5670.000000</td>\n",
       "    </tr>\n",
       "    <tr>\n",
       "      <th>mean</th>\n",
       "      <td>215.869841</td>\n",
       "    </tr>\n",
       "    <tr>\n",
       "      <th>std</th>\n",
       "      <td>186.974342</td>\n",
       "    </tr>\n",
       "    <tr>\n",
       "      <th>min</th>\n",
       "      <td>1.000000</td>\n",
       "    </tr>\n",
       "    <tr>\n",
       "      <th>25%</th>\n",
       "      <td>53.000000</td>\n",
       "    </tr>\n",
       "    <tr>\n",
       "      <th>50%</th>\n",
       "      <td>186.000000</td>\n",
       "    </tr>\n",
       "    <tr>\n",
       "      <th>75%</th>\n",
       "      <td>317.000000</td>\n",
       "    </tr>\n",
       "    <tr>\n",
       "      <th>max</th>\n",
       "      <td>1746.000000</td>\n",
       "    </tr>\n",
       "  </tbody>\n",
       "</table>\n",
       "</div>"
      ],
      "text/plain": [
       "             count\n",
       "count  5670.000000\n",
       "mean    215.869841\n",
       "std     186.974342\n",
       "min       1.000000\n",
       "25%      53.000000\n",
       "50%     186.000000\n",
       "75%     317.000000\n",
       "max    1746.000000"
      ]
     },
     "execution_count": 168,
     "metadata": {},
     "output_type": "execute_result"
    }
   ],
   "source": [
    "#변수의 기초 통계량을 확인해보세요\n",
    "temp = df[feature].value_counts()\n",
    "display(temp/df.shape[0])"
   ]
  },
  {
   "cell_type": "markdown",
   "id": "4eb1b708",
   "metadata": {},
   "source": [
    "5. 변수의 분포 확인"
   ]
  },
  {
   "cell_type": "code",
   "execution_count": 17,
   "id": "8449daa6",
   "metadata": {},
   "outputs": [
    {
     "data": {
      "image/png": "[encoded data removed]",
      "text/plain": [
       "<Figure size 936x288 with 3 Axes>"
      ]
     },
     "metadata": {
      "needs_background": "light"
     },
     "output_type": "display_data"
    }
   ],
   "source": [
    "#변수의 분포를 시각화 라이브러리를 활용해 확인해보세요.\n",
    "plt.figure(figsize=(12,4))\n",
    "\n",
    "plt.subplot(1,2,1)\n",
    "sns.countplot(df[feature])\n",
    "\n",
    "plt.subplot(1,2,2)\n",
    "plt.pie(temp.values, labels=temp.index, autopct='%.1f%%')\n",
    "\n",
    "plt.tight_layout()\n",
    "plt.show()"
   ]
  },
  {
   "cell_type": "markdown",
   "id": "314284e2",
   "metadata": {},
   "source": [
    "6. 위 정보로 부터 파악한 내용 정리"
   ]
  },
  {
   "cell_type": "markdown",
   "id": "a0c80e4d",
   "metadata": {},
   "source": [
    "#위 정보로부터 파악하신 내용을 정리해보세요.\n",
    "* 습도는 55~80의 구간이 가장 많다."
   ]
  },
  {
   "cell_type": "markdown",
   "id": "5341f7c2",
   "metadata": {},
   "source": [
    "7. 추가 분석사항 도출"
   ]
  },
  {
   "cell_type": "code",
   "execution_count": null,
   "id": "ebd1fd48",
   "metadata": {},
   "outputs": [],
   "source": [
    "#추가로 분석을 원하는 부분이 있다면 분석후 정리해보세요."
   ]
  },
  {
   "cell_type": "markdown",
   "id": "c559e931",
   "metadata": {},
   "source": [
    "### Feature9 : PM2.5"
   ]
  },
  {
   "cell_type": "markdown",
   "id": "74305cdf",
   "metadata": {},
   "source": [
    "1. 변수가 내포하고 있는 의미\n",
    "- 변수의 의미를 한번 짚고 넘어갑시다. 여러분이 생각하는 이 변수의 의미를 작성해보세요.\n",
    "\n",
    "\n",
    "count : 시간에 따른 따릉이 대여 수"
   ]
  },
  {
   "cell_type": "code",
   "execution_count": 124,
   "id": "e21a14a4",
   "metadata": {},
   "outputs": [],
   "source": [
    "feature = 'visibility'"
   ]
  },
  {
   "cell_type": "markdown",
   "id": "f5598656",
   "metadata": {},
   "source": [
    "2. 변수가 수치형인지 범주형인지\n"
   ]
  },
  {
   "cell_type": "code",
   "execution_count": 38,
   "id": "e32a046b",
   "metadata": {
    "tags": []
   },
   "outputs": [
    {
     "data": {
      "text/plain": [
       "array([  46,   40,   31,   12,   30,   77,  171,  330,  218,  175,  247,\n",
       "        269,  289,  265,  342,  369,  564,  820,  526,  435,  396,  307,\n",
       "        157,   85,   48,   17,   20,   24,   72,  169,  336,  207,  211,\n",
       "        233,  286,  314,  360,  392,  507,  582,  411,  331,  366,  344,\n",
       "        183,  126,   62,   58,   38,   18,   25,   43,   45,    5,    1,\n",
       "          2,    3,    8,    6,   11,   15,   16,    7,   33,   67,   94,\n",
       "        151,  210,  464,  601,  651,  613,  505,  427,  341,  252,  219,\n",
       "        194,   78,   69,   35,    9,  188,  349,  187,  227,  280,  262,\n",
       "        284,  390,  423,  552,  835,  479,  352,  258,  130,   80,   21,\n",
       "         23,   29,  362,  230,  176,  249,  310,  268,  261,  329,  356,\n",
       "        569,  856,  508,  413,  297,  112,   63,   36,   19,   28,   84,\n",
       "        158,  216,  189,  282,  346,  274,  303,  324,  399,  574,  797,\n",
       "        461,  293,  266,  103,   71,   42,  319,  140,  259,  492,  783,\n",
       "        383,  276,  291,  108,   59,   60,   74,  164,  332,  251,  300,\n",
       "        354,  370,  404,  585,  753,  444,  318,  333,  296,  123,   57,\n",
       "        100,  160,  343,  426,  544,  662,  639,  548,  475,  313,  281,\n",
       "        278,  232,  124,   64,   86,  118,  163,  271,  397,  513,  542,\n",
       "        584,  633,  621,  503,  407,  264,  208,  105,   44,   75,  177,\n",
       "         93,   10,    4,  125,  263,  174,  214,  206,  225,  367,  602,\n",
       "        323,   22,   61,  364,  236,  202,  260,  250,  245,  273,  462,\n",
       "        678,  359,  257,   87,   81,  184,  338,  226,  150,  238,  239,\n",
       "        279,  547,  756,  438,  298,  317,  267,  136,   51,  159,   88,\n",
       "         52,  113,  170,  235,  406,  629,  372,  223,  104,   53,   13,\n",
       "         56,  102,  138,  190,  116,  244,   14,   49,  133,  270,  348,\n",
       "        467,  604,  592,  654,  530,  384,  229,  156,   26,   27,  335,\n",
       "        145,  242,  309,  529,  802,  504,  312,  304,  237,  127,   34,\n",
       "         90,  203,  347,  288,  299,  489,  855,  449,  111,   83,  197,\n",
       "        387,  201,  248,  320,  588,  829,  521,  377,  122,  186,  167,\n",
       "        228,  253,  285,  358,  512,  698,  456,  294,   89,   68,  162,\n",
       "        204,  363,  493,  692,  434,  355,  165,  115,   66,  154,  205,\n",
       "        328,  418,  450,  570,  401,  301,  119,  161,  246,  405,  469,\n",
       "        545,  679,  688,  655,  606,  498,  255,  139,  351,  173,  534,\n",
       "        888,  560,  389,  373,  155,  114,  744,  550,  494,  516,  568,\n",
       "        670,  609,  624,  391,  292,  706,  452,  302,  468,  490,  714,\n",
       "       1126, 1600,  976,  804,  612,   32,  198,  196,  212,  327,  334,\n",
       "        522,  695,  460,  142,  147,  234,  172,  398,  557,  215,   55,\n",
       "         98,   39,   70,   92,  129,  180,  453,  594,  703,  686,  595,\n",
       "        431,  325,  168,   99,  277,  295,  607,  827,  538,  371,   65,\n",
       "        110,  128,  200,  559,  653,  762,  787,  708,  577,  415,  254,\n",
       "        275,  339,  540,  858,  395,  382,  256,  121,  181,  537,  195,\n",
       "         91,   54,  217,  178,  182,   95,   41,  484,  661,  581,  350,\n",
       "        109,  117,  166,  199,  408,  429,  135,  221,  400,  191,  220,\n",
       "        311,  893,  497,  321,  243,  224,  287,  566,  809,  543,  432,\n",
       "        388,  337,  788,  598,  422,  306,   96,  365,  531,  381,  143,\n",
       "         79,  107,  353,   37,  241,  368,  812,  141,   73,   50,  106,\n",
       "        290,  375,  414,  555,  643,  562,  459,  149,  148,  209,   82,\n",
       "        146,  412,  623,  501,  393,  420,  424,  520,  828,  340,   76,\n",
       "        483,  240,  376,  674,  472,  152,  308,  192,  447,  668,  394,\n",
       "        179,  231,  132,  527,  533,  430,  905,  477,  410,  750,  315,\n",
       "        326,  556,  830,  428,  615,  921,  470,  417,  443,  491,  515,\n",
       "        437,  448,  283,  510,  535,  853,  402,  832,  442,  357,  546,\n",
       "        843,  485,  222,  458,   97,  101,  872,  451,  728,  322,  541,\n",
       "        880,  619,  378,  702,  416,  454,  457,  433,  131,  446,  471,\n",
       "        473,  213,  193,  906,  694,  487,  777,  553,  185,  576,  789,\n",
       "        120,  380,  436,  153,  144,   47,  316,  803,  476,  794,  499,\n",
       "        757,  605,  137,  865,  532,  844,  587,  760,  486,  441,  374,\n",
       "        711,  134,  768,  478,  792,  645,  385,  563,  496,  361,  710,\n",
       "        691,  439,  622,  700,  500,  659,  403,  597,  648,  272,  649,\n",
       "        440,  305,  743,  567,  502,  747,  717,  745,  641,  628,  495,\n",
       "        480,  775,  506,  419,  579,  572,  868,  704,  815,  644,  617,\n",
       "        558,  474,  561,  509,  866,  603,  466,  525,  386,  631,  518,\n",
       "        455,  616,  554,  859,  805,  488,  514, 1090, 1746, 1086,  942,\n",
       "        944,  630, 1026,  740,  736,  593,  590,  642,  667,  638,  953,\n",
       "        684,  573,  807,  658,  481,  463,  939,  517,  421,  932,  665,\n",
       "        965,  600,  847,  578,  425,  697,  765,  345,  445,  539,  693,\n",
       "        755,  752,  949,  640,  620,  664,  988,  701,  677,  671,  798,\n",
       "        589,  925,  580,  915,  596,  699,  723,  482,  528,  669,  599,\n",
       "        696,  647,  379,  409,  571,  898,  963,  636,  689,  523,  733,\n",
       "        741,  731,  754,  766,  465,  583,  676,  519], dtype=int64)"
      ]
     },
     "execution_count": 166,
     "metadata": {},
     "output_type": "execute_result"
    }
   ],
   "source": [
    "# 변수의 자료형을 확인해보세요.\n",
    "df[feature].unique()"
   ]
  },
  {
   "cell_type": "markdown",
   "id": "52aeba21",
   "metadata": {},
   "source": [
    "3. 변수의 결측치 존재 여부 및 조치방안"
   ]
  },
  {
   "cell_type": "code",
   "execution_count": 39,
   "id": "526c0c27",
   "metadata": {},
   "outputs": [
    {
     "data": {
      "text/plain": [
       "0"
      ]
     },
     "execution_count": 167,
     "metadata": {},
     "output_type": "execute_result"
    }
   ],
   "source": [
    "#변수의 결측치 존재 여부를 확인하고, 만약 결측치가 존재하면 어떻게 처리할지 고민해보세요. \n",
    "df[feature].isnull().sum()"
   ]
  },
  {
   "cell_type": "markdown",
   "id": "2d9760fd",
   "metadata": {},
   "source": [
    "4. 변수의 기초 통계량 확인"
   ]
  },
  {
   "cell_type": "code",
   "execution_count": 12,
   "id": "3ba272ed",
   "metadata": {},
   "outputs": [
    {
     "data": {
      "text/html": [
       "<div>\n",
       "<style scoped>\n",
       "    .dataframe tbody tr th:only-of-type {\n",
       "        vertical-align: middle;\n",
       "    }\n",
       "\n",
       "    .dataframe tbody tr th {\n",
       "        vertical-align: top;\n",
       "    }\n",
       "\n",
       "    .dataframe thead th {\n",
       "        text-align: right;\n",
       "    }\n",
       "</style>\n",
       "<table border=\"1\" class=\"dataframe\">\n",
       "  <thead>\n",
       "    <tr style=\"text-align: right;\">\n",
       "      <th></th>\n",
       "      <th>count</th>\n",
       "    </tr>\n",
       "  </thead>\n",
       "  <tbody>\n",
       "    <tr>\n",
       "      <th>count</th>\n",
       "      <td>5670.000000</td>\n",
       "    </tr>\n",
       "    <tr>\n",
       "      <th>mean</th>\n",
       "      <td>215.869841</td>\n",
       "    </tr>\n",
       "    <tr>\n",
       "      <th>std</th>\n",
       "      <td>186.974342</td>\n",
       "    </tr>\n",
       "    <tr>\n",
       "      <th>min</th>\n",
       "      <td>1.000000</td>\n",
       "    </tr>\n",
       "    <tr>\n",
       "      <th>25%</th>\n",
       "      <td>53.000000</td>\n",
       "    </tr>\n",
       "    <tr>\n",
       "      <th>50%</th>\n",
       "      <td>186.000000</td>\n",
       "    </tr>\n",
       "    <tr>\n",
       "      <th>75%</th>\n",
       "      <td>317.000000</td>\n",
       "    </tr>\n",
       "    <tr>\n",
       "      <th>max</th>\n",
       "      <td>1746.000000</td>\n",
       "    </tr>\n",
       "  </tbody>\n",
       "</table>\n",
       "</div>"
      ],
      "text/plain": [
       "             count\n",
       "count  5670.000000\n",
       "mean    215.869841\n",
       "std     186.974342\n",
       "min       1.000000\n",
       "25%      53.000000\n",
       "50%     186.000000\n",
       "75%     317.000000\n",
       "max    1746.000000"
      ]
     },
     "execution_count": 168,
     "metadata": {},
     "output_type": "execute_result"
    }
   ],
   "source": [
    "#변수의 기초 통계량을 확인해보세요\n",
    "temp = df[feature].value_counts()\n",
    "display(temp/df.shape[0])"
   ]
  },
  {
   "cell_type": "markdown",
   "id": "4eb1b708",
   "metadata": {},
   "source": [
    "5. 변수의 분포 확인"
   ]
  },
  {
   "cell_type": "code",
   "execution_count": 17,
   "id": "8449daa6",
   "metadata": {},
   "outputs": [
    {
     "data": {
      "image/png": "[encoded data removed]",
      "text/plain": [
       "<Figure size 936x288 with 3 Axes>"
      ]
     },
     "metadata": {
      "needs_background": "light"
     },
     "output_type": "display_data"
    }
   ],
   "source": [
    "#변수의 분포를 시각화 라이브러리를 활용해 확인해보세요.\n",
    "plt.figure(figsize=(12,4))\n",
    "\n",
    "plt.subplot(1,2,1)\n",
    "sns.countplot(df[feature])\n",
    "\n",
    "plt.subplot(1,2,2)\n",
    "plt.pie(temp.values, labels=temp.index, autopct='%.1f%%')\n",
    "\n",
    "plt.tight_layout()\n",
    "plt.show()"
   ]
  },
  {
   "cell_type": "markdown",
   "id": "314284e2",
   "metadata": {},
   "source": [
    "6. 위 정보로 부터 파악한 내용 정리"
   ]
  },
  {
   "cell_type": "markdown",
   "id": "22ba1ad7",
   "metadata": {},
   "source": [
    "#위 정보로부터 파악하신 내용을 정리해보세요.\n",
    "* 가시성은 1800~2000사이가 가장 많음."
   ]
  },
  {
   "cell_type": "markdown",
   "id": "5341f7c2",
   "metadata": {},
   "source": [
    "7. 추가 분석사항 도출"
   ]
  },
  {
   "cell_type": "code",
   "execution_count": null,
   "id": "ebd1fd48",
   "metadata": {},
   "outputs": [],
   "source": [
    "#추가로 분석을 원하는 부분이 있다면 분석후 정리해보세요."
   ]
  },
  {
   "cell_type": "markdown",
   "id": "c559e931",
   "metadata": {},
   "source": [
    "### Feature9 : PM2.5"
   ]
  },
  {
   "cell_type": "markdown",
   "id": "74305cdf",
   "metadata": {},
   "source": [
    "1. 변수가 내포하고 있는 의미\n",
    "- 변수의 의미를 한번 짚고 넘어갑시다. 여러분이 생각하는 이 변수의 의미를 작성해보세요.\n",
    "\n",
    "\n",
    "count : 시간에 따른 따릉이 대여 수"
   ]
  },
  {
   "cell_type": "code",
   "execution_count": 140,
   "id": "e7009538",
   "metadata": {},
   "outputs": [],
   "source": [
    "feature='ozone'"
   ]
  },
  {
   "cell_type": "markdown",
   "id": "f5598656",
   "metadata": {},
   "source": [
    "2. 변수가 수치형인지 범주형인지\n"
   ]
  },
  {
   "cell_type": "code",
   "execution_count": 38,
   "id": "e32a046b",
   "metadata": {
    "tags": []
   },
   "outputs": [
    {
     "data": {
      "text/plain": [
       "array([  46,   40,   31,   12,   30,   77,  171,  330,  218,  175,  247,\n",
       "        269,  289,  265,  342,  369,  564,  820,  526,  435,  396,  307,\n",
       "        157,   85,   48,   17,   20,   24,   72,  169,  336,  207,  211,\n",
       "        233,  286,  314,  360,  392,  507,  582,  411,  331,  366,  344,\n",
       "        183,  126,   62,   58,   38,   18,   25,   43,   45,    5,    1,\n",
       "          2,    3,    8,    6,   11,   15,   16,    7,   33,   67,   94,\n",
       "        151,  210,  464,  601,  651,  613,  505,  427,  341,  252,  219,\n",
       "        194,   78,   69,   35,    9,  188,  349,  187,  227,  280,  262,\n",
       "        284,  390,  423,  552,  835,  479,  352,  258,  130,   80,   21,\n",
       "         23,   29,  362,  230,  176,  249,  310,  268,  261,  329,  356,\n",
       "        569,  856,  508,  413,  297,  112,   63,   36,   19,   28,   84,\n",
       "        158,  216,  189,  282,  346,  274,  303,  324,  399,  574,  797,\n",
       "        461,  293,  266,  103,   71,   42,  319,  140,  259,  492,  783,\n",
       "        383,  276,  291,  108,   59,   60,   74,  164,  332,  251,  300,\n",
       "        354,  370,  404,  585,  753,  444,  318,  333,  296,  123,   57,\n",
       "        100,  160,  343,  426,  544,  662,  639,  548,  475,  313,  281,\n",
       "        278,  232,  124,   64,   86,  118,  163,  271,  397,  513,  542,\n",
       "        584,  633,  621,  503,  407,  264,  208,  105,   44,   75,  177,\n",
       "         93,   10,    4,  125,  263,  174,  214,  206,  225,  367,  602,\n",
       "        323,   22,   61,  364,  236,  202,  260,  250,  245,  273,  462,\n",
       "        678,  359,  257,   87,   81,  184,  338,  226,  150,  238,  239,\n",
       "        279,  547,  756,  438,  298,  317,  267,  136,   51,  159,   88,\n",
       "         52,  113,  170,  235,  406,  629,  372,  223,  104,   53,   13,\n",
       "         56,  102,  138,  190,  116,  244,   14,   49,  133,  270,  348,\n",
       "        467,  604,  592,  654,  530,  384,  229,  156,   26,   27,  335,\n",
       "        145,  242,  309,  529,  802,  504,  312,  304,  237,  127,   34,\n",
       "         90,  203,  347,  288,  299,  489,  855,  449,  111,   83,  197,\n",
       "        387,  201,  248,  320,  588,  829,  521,  377,  122,  186,  167,\n",
       "        228,  253,  285,  358,  512,  698,  456,  294,   89,   68,  162,\n",
       "        204,  363,  493,  692,  434,  355,  165,  115,   66,  154,  205,\n",
       "        328,  418,  450,  570,  401,  301,  119,  161,  246,  405,  469,\n",
       "        545,  679,  688,  655,  606,  498,  255,  139,  351,  173,  534,\n",
       "        888,  560,  389,  373,  155,  114,  744,  550,  494,  516,  568,\n",
       "        670,  609,  624,  391,  292,  706,  452,  302,  468,  490,  714,\n",
       "       1126, 1600,  976,  804,  612,   32,  198,  196,  212,  327,  334,\n",
       "        522,  695,  460,  142,  147,  234,  172,  398,  557,  215,   55,\n",
       "         98,   39,   70,   92,  129,  180,  453,  594,  703,  686,  595,\n",
       "        431,  325,  168,   99,  277,  295,  607,  827,  538,  371,   65,\n",
       "        110,  128,  200,  559,  653,  762,  787,  708,  577,  415,  254,\n",
       "        275,  339,  540,  858,  395,  382,  256,  121,  181,  537,  195,\n",
       "         91,   54,  217,  178,  182,   95,   41,  484,  661,  581,  350,\n",
       "        109,  117,  166,  199,  408,  429,  135,  221,  400,  191,  220,\n",
       "        311,  893,  497,  321,  243,  224,  287,  566,  809,  543,  432,\n",
       "        388,  337,  788,  598,  422,  306,   96,  365,  531,  381,  143,\n",
       "         79,  107,  353,   37,  241,  368,  812,  141,   73,   50,  106,\n",
       "        290,  375,  414,  555,  643,  562,  459,  149,  148,  209,   82,\n",
       "        146,  412,  623,  501,  393,  420,  424,  520,  828,  340,   76,\n",
       "        483,  240,  376,  674,  472,  152,  308,  192,  447,  668,  394,\n",
       "        179,  231,  132,  527,  533,  430,  905,  477,  410,  750,  315,\n",
       "        326,  556,  830,  428,  615,  921,  470,  417,  443,  491,  515,\n",
       "        437,  448,  283,  510,  535,  853,  402,  832,  442,  357,  546,\n",
       "        843,  485,  222,  458,   97,  101,  872,  451,  728,  322,  541,\n",
       "        880,  619,  378,  702,  416,  454,  457,  433,  131,  446,  471,\n",
       "        473,  213,  193,  906,  694,  487,  777,  553,  185,  576,  789,\n",
       "        120,  380,  436,  153,  144,   47,  316,  803,  476,  794,  499,\n",
       "        757,  605,  137,  865,  532,  844,  587,  760,  486,  441,  374,\n",
       "        711,  134,  768,  478,  792,  645,  385,  563,  496,  361,  710,\n",
       "        691,  439,  622,  700,  500,  659,  403,  597,  648,  272,  649,\n",
       "        440,  305,  743,  567,  502,  747,  717,  745,  641,  628,  495,\n",
       "        480,  775,  506,  419,  579,  572,  868,  704,  815,  644,  617,\n",
       "        558,  474,  561,  509,  866,  603,  466,  525,  386,  631,  518,\n",
       "        455,  616,  554,  859,  805,  488,  514, 1090, 1746, 1086,  942,\n",
       "        944,  630, 1026,  740,  736,  593,  590,  642,  667,  638,  953,\n",
       "        684,  573,  807,  658,  481,  463,  939,  517,  421,  932,  665,\n",
       "        965,  600,  847,  578,  425,  697,  765,  345,  445,  539,  693,\n",
       "        755,  752,  949,  640,  620,  664,  988,  701,  677,  671,  798,\n",
       "        589,  925,  580,  915,  596,  699,  723,  482,  528,  669,  599,\n",
       "        696,  647,  379,  409,  571,  898,  963,  636,  689,  523,  733,\n",
       "        741,  731,  754,  766,  465,  583,  676,  519], dtype=int64)"
      ]
     },
     "execution_count": 166,
     "metadata": {},
     "output_type": "execute_result"
    }
   ],
   "source": [
    "# 변수의 자료형을 확인해보세요.\n",
    "df[feature].unique()"
   ]
  },
  {
   "cell_type": "markdown",
   "id": "52aeba21",
   "metadata": {},
   "source": [
    "3. 변수의 결측치 존재 여부 및 조치방안"
   ]
  },
  {
   "cell_type": "code",
   "execution_count": 39,
   "id": "526c0c27",
   "metadata": {},
   "outputs": [
    {
     "data": {
      "text/plain": [
       "0"
      ]
     },
     "execution_count": 167,
     "metadata": {},
     "output_type": "execute_result"
    }
   ],
   "source": [
    "#변수의 결측치 존재 여부를 확인하고, 만약 결측치가 존재하면 어떻게 처리할지 고민해보세요. \n",
    "df[feature].isnull().sum()"
   ]
  },
  {
   "cell_type": "code",
   "execution_count": 146,
   "id": "6b33a0d1",
   "metadata": {},
   "outputs": [],
   "source": [
    "df = df.dropna()"
   ]
  },
  {
   "cell_type": "code",
   "execution_count": 147,
   "id": "22b48621",
   "metadata": {},
   "outputs": [
    {
     "name": "stdout",
     "output_type": "stream",
     "text": [
      "<class 'pandas.core.frame.DataFrame'>\n",
      "Int64Index: 5670 entries, 0 to 5826\n",
      "Data columns (total 11 columns):\n",
      " #   Column         Non-Null Count  Dtype  \n",
      "---  ------         --------------  -----  \n",
      " 0   date           5670 non-null   object \n",
      " 1   hour           5670 non-null   int64  \n",
      " 2   PM10           5670 non-null   float64\n",
      " 3   PM2.5          5670 non-null   float64\n",
      " 4   ozone          5670 non-null   float64\n",
      " 5   temperature    5670 non-null   float64\n",
      " 6   precipitation  5670 non-null   int64  \n",
      " 7   windspeed      5670 non-null   float64\n",
      " 8   humidity       5670 non-null   int64  \n",
      " 9   visibility     5670 non-null   int64  \n",
      " 10  count          5670 non-null   int64  \n",
      "dtypes: float64(5), int64(5), object(1)\n",
      "memory usage: 531.6+ KB\n"
     ]
    }
   ],
   "source": [
    "df.info()"
   ]
  },
  {
   "cell_type": "markdown",
   "id": "2d9760fd",
   "metadata": {},
   "source": [
    "4. 변수의 기초 통계량 확인"
   ]
  },
  {
   "cell_type": "code",
   "execution_count": 12,
   "id": "3ba272ed",
   "metadata": {},
   "outputs": [
    {
     "data": {
      "text/html": [
       "<div>\n",
       "<style scoped>\n",
       "    .dataframe tbody tr th:only-of-type {\n",
       "        vertical-align: middle;\n",
       "    }\n",
       "\n",
       "    .dataframe tbody tr th {\n",
       "        vertical-align: top;\n",
       "    }\n",
       "\n",
       "    .dataframe thead th {\n",
       "        text-align: right;\n",
       "    }\n",
       "</style>\n",
       "<table border=\"1\" class=\"dataframe\">\n",
       "  <thead>\n",
       "    <tr style=\"text-align: right;\">\n",
       "      <th></th>\n",
       "      <th>count</th>\n",
       "    </tr>\n",
       "  </thead>\n",
       "  <tbody>\n",
       "    <tr>\n",
       "      <th>count</th>\n",
       "      <td>5670.000000</td>\n",
       "    </tr>\n",
       "    <tr>\n",
       "      <th>mean</th>\n",
       "      <td>215.869841</td>\n",
       "    </tr>\n",
       "    <tr>\n",
       "      <th>std</th>\n",
       "      <td>186.974342</td>\n",
       "    </tr>\n",
       "    <tr>\n",
       "      <th>min</th>\n",
       "      <td>1.000000</td>\n",
       "    </tr>\n",
       "    <tr>\n",
       "      <th>25%</th>\n",
       "      <td>53.000000</td>\n",
       "    </tr>\n",
       "    <tr>\n",
       "      <th>50%</th>\n",
       "      <td>186.000000</td>\n",
       "    </tr>\n",
       "    <tr>\n",
       "      <th>75%</th>\n",
       "      <td>317.000000</td>\n",
       "    </tr>\n",
       "    <tr>\n",
       "      <th>max</th>\n",
       "      <td>1746.000000</td>\n",
       "    </tr>\n",
       "  </tbody>\n",
       "</table>\n",
       "</div>"
      ],
      "text/plain": [
       "             count\n",
       "count  5670.000000\n",
       "mean    215.869841\n",
       "std     186.974342\n",
       "min       1.000000\n",
       "25%      53.000000\n",
       "50%     186.000000\n",
       "75%     317.000000\n",
       "max    1746.000000"
      ]
     },
     "execution_count": 168,
     "metadata": {},
     "output_type": "execute_result"
    }
   ],
   "source": [
    "#변수의 기초 통계량을 확인해보세요\n",
    "temp = df[feature].value_counts()\n",
    "display(temp/df.shape[0])"
   ]
  },
  {
   "cell_type": "markdown",
   "id": "4eb1b708",
   "metadata": {},
   "source": [
    "5. 변수의 분포 확인"
   ]
  },
  {
   "cell_type": "code",
   "execution_count": 17,
   "id": "8449daa6",
   "metadata": {},
   "outputs": [
    {
     "data": {
      "image/png": "[encoded data removed]",
      "text/plain": [
       "<Figure size 936x288 with 3 Axes>"
      ]
     },
     "metadata": {
      "needs_background": "light"
     },
     "output_type": "display_data"
    }
   ],
   "source": [
    "#변수의 분포를 시각화 라이브러리를 활용해 확인해보세요.\n",
    "plt.figure(figsize=(12,4))\n",
    "\n",
    "plt.subplot(1,2,1)\n",
    "sns.countplot(df[feature])\n",
    "\n",
    "plt.subplot(1,2,2)\n",
    "plt.pie(temp.values, labels=temp.index, autopct='%.1f%%')\n",
    "\n",
    "plt.tight_layout()\n",
    "plt.show()"
   ]
  },
  {
   "cell_type": "markdown",
   "id": "314284e2",
   "metadata": {},
   "source": [
    "6. 위 정보로 부터 파악한 내용 정리"
   ]
  },
  {
   "cell_type": "markdown",
   "id": "4da0cc60",
   "metadata": {},
   "source": [
    "#위 정보로부터 파악하신 내용을 정리해보세요.\n",
    "* 0.02~0.04의 ozone수치가 가장 많다."
   ]
  },
  {
   "cell_type": "markdown",
   "id": "5341f7c2",
   "metadata": {},
   "source": [
    "7. 추가 분석사항 도출"
   ]
  },
  {
   "cell_type": "code",
   "execution_count": null,
   "id": "ebd1fd48",
   "metadata": {},
   "outputs": [],
   "source": [
    "#추가로 분석을 원하는 부분이 있다면 분석후 정리해보세요."
   ]
  },
  {
   "cell_type": "markdown",
   "id": "c559e931",
   "metadata": {},
   "source": [
    "### Feature9 : PM2.5"
   ]
  },
  {
   "cell_type": "markdown",
   "id": "74305cdf",
   "metadata": {},
   "source": [
    "1. 변수가 내포하고 있는 의미\n",
    "- 변수의 의미를 한번 짚고 넘어갑시다. 여러분이 생각하는 이 변수의 의미를 작성해보세요.\n",
    "\n",
    "\n",
    "count : 시간에 따른 따릉이 대여 수"
   ]
  },
  {
   "cell_type": "code",
   "execution_count": 152,
   "id": "39735243",
   "metadata": {},
   "outputs": [],
   "source": [
    "feature = 'PM10'"
   ]
  },
  {
   "cell_type": "markdown",
   "id": "f5598656",
   "metadata": {},
   "source": [
    "2. 변수가 수치형인지 범주형인지\n"
   ]
  },
  {
   "cell_type": "code",
   "execution_count": 38,
   "id": "e32a046b",
   "metadata": {
    "tags": []
   },
   "outputs": [
    {
     "data": {
      "text/plain": [
       "array([  46,   40,   31,   12,   30,   77,  171,  330,  218,  175,  247,\n",
       "        269,  289,  265,  342,  369,  564,  820,  526,  435,  396,  307,\n",
       "        157,   85,   48,   17,   20,   24,   72,  169,  336,  207,  211,\n",
       "        233,  286,  314,  360,  392,  507,  582,  411,  331,  366,  344,\n",
       "        183,  126,   62,   58,   38,   18,   25,   43,   45,    5,    1,\n",
       "          2,    3,    8,    6,   11,   15,   16,    7,   33,   67,   94,\n",
       "        151,  210,  464,  601,  651,  613,  505,  427,  341,  252,  219,\n",
       "        194,   78,   69,   35,    9,  188,  349,  187,  227,  280,  262,\n",
       "        284,  390,  423,  552,  835,  479,  352,  258,  130,   80,   21,\n",
       "         23,   29,  362,  230,  176,  249,  310,  268,  261,  329,  356,\n",
       "        569,  856,  508,  413,  297,  112,   63,   36,   19,   28,   84,\n",
       "        158,  216,  189,  282,  346,  274,  303,  324,  399,  574,  797,\n",
       "        461,  293,  266,  103,   71,   42,  319,  140,  259,  492,  783,\n",
       "        383,  276,  291,  108,   59,   60,   74,  164,  332,  251,  300,\n",
       "        354,  370,  404,  585,  753,  444,  318,  333,  296,  123,   57,\n",
       "        100,  160,  343,  426,  544,  662,  639,  548,  475,  313,  281,\n",
       "        278,  232,  124,   64,   86,  118,  163,  271,  397,  513,  542,\n",
       "        584,  633,  621,  503,  407,  264,  208,  105,   44,   75,  177,\n",
       "         93,   10,    4,  125,  263,  174,  214,  206,  225,  367,  602,\n",
       "        323,   22,   61,  364,  236,  202,  260,  250,  245,  273,  462,\n",
       "        678,  359,  257,   87,   81,  184,  338,  226,  150,  238,  239,\n",
       "        279,  547,  756,  438,  298,  317,  267,  136,   51,  159,   88,\n",
       "         52,  113,  170,  235,  406,  629,  372,  223,  104,   53,   13,\n",
       "         56,  102,  138,  190,  116,  244,   14,   49,  133,  270,  348,\n",
       "        467,  604,  592,  654,  530,  384,  229,  156,   26,   27,  335,\n",
       "        145,  242,  309,  529,  802,  504,  312,  304,  237,  127,   34,\n",
       "         90,  203,  347,  288,  299,  489,  855,  449,  111,   83,  197,\n",
       "        387,  201,  248,  320,  588,  829,  521,  377,  122,  186,  167,\n",
       "        228,  253,  285,  358,  512,  698,  456,  294,   89,   68,  162,\n",
       "        204,  363,  493,  692,  434,  355,  165,  115,   66,  154,  205,\n",
       "        328,  418,  450,  570,  401,  301,  119,  161,  246,  405,  469,\n",
       "        545,  679,  688,  655,  606,  498,  255,  139,  351,  173,  534,\n",
       "        888,  560,  389,  373,  155,  114,  744,  550,  494,  516,  568,\n",
       "        670,  609,  624,  391,  292,  706,  452,  302,  468,  490,  714,\n",
       "       1126, 1600,  976,  804,  612,   32,  198,  196,  212,  327,  334,\n",
       "        522,  695,  460,  142,  147,  234,  172,  398,  557,  215,   55,\n",
       "         98,   39,   70,   92,  129,  180,  453,  594,  703,  686,  595,\n",
       "        431,  325,  168,   99,  277,  295,  607,  827,  538,  371,   65,\n",
       "        110,  128,  200,  559,  653,  762,  787,  708,  577,  415,  254,\n",
       "        275,  339,  540,  858,  395,  382,  256,  121,  181,  537,  195,\n",
       "         91,   54,  217,  178,  182,   95,   41,  484,  661,  581,  350,\n",
       "        109,  117,  166,  199,  408,  429,  135,  221,  400,  191,  220,\n",
       "        311,  893,  497,  321,  243,  224,  287,  566,  809,  543,  432,\n",
       "        388,  337,  788,  598,  422,  306,   96,  365,  531,  381,  143,\n",
       "         79,  107,  353,   37,  241,  368,  812,  141,   73,   50,  106,\n",
       "        290,  375,  414,  555,  643,  562,  459,  149,  148,  209,   82,\n",
       "        146,  412,  623,  501,  393,  420,  424,  520,  828,  340,   76,\n",
       "        483,  240,  376,  674,  472,  152,  308,  192,  447,  668,  394,\n",
       "        179,  231,  132,  527,  533,  430,  905,  477,  410,  750,  315,\n",
       "        326,  556,  830,  428,  615,  921,  470,  417,  443,  491,  515,\n",
       "        437,  448,  283,  510,  535,  853,  402,  832,  442,  357,  546,\n",
       "        843,  485,  222,  458,   97,  101,  872,  451,  728,  322,  541,\n",
       "        880,  619,  378,  702,  416,  454,  457,  433,  131,  446,  471,\n",
       "        473,  213,  193,  906,  694,  487,  777,  553,  185,  576,  789,\n",
       "        120,  380,  436,  153,  144,   47,  316,  803,  476,  794,  499,\n",
       "        757,  605,  137,  865,  532,  844,  587,  760,  486,  441,  374,\n",
       "        711,  134,  768,  478,  792,  645,  385,  563,  496,  361,  710,\n",
       "        691,  439,  622,  700,  500,  659,  403,  597,  648,  272,  649,\n",
       "        440,  305,  743,  567,  502,  747,  717,  745,  641,  628,  495,\n",
       "        480,  775,  506,  419,  579,  572,  868,  704,  815,  644,  617,\n",
       "        558,  474,  561,  509,  866,  603,  466,  525,  386,  631,  518,\n",
       "        455,  616,  554,  859,  805,  488,  514, 1090, 1746, 1086,  942,\n",
       "        944,  630, 1026,  740,  736,  593,  590,  642,  667,  638,  953,\n",
       "        684,  573,  807,  658,  481,  463,  939,  517,  421,  932,  665,\n",
       "        965,  600,  847,  578,  425,  697,  765,  345,  445,  539,  693,\n",
       "        755,  752,  949,  640,  620,  664,  988,  701,  677,  671,  798,\n",
       "        589,  925,  580,  915,  596,  699,  723,  482,  528,  669,  599,\n",
       "        696,  647,  379,  409,  571,  898,  963,  636,  689,  523,  733,\n",
       "        741,  731,  754,  766,  465,  583,  676,  519], dtype=int64)"
      ]
     },
     "execution_count": 166,
     "metadata": {},
     "output_type": "execute_result"
    }
   ],
   "source": [
    "# 변수의 자료형을 확인해보세요.\n",
    "df[feature].unique()"
   ]
  },
  {
   "cell_type": "markdown",
   "id": "52aeba21",
   "metadata": {},
   "source": [
    "3. 변수의 결측치 존재 여부 및 조치방안"
   ]
  },
  {
   "cell_type": "code",
   "execution_count": 39,
   "id": "526c0c27",
   "metadata": {},
   "outputs": [
    {
     "data": {
      "text/plain": [
       "0"
      ]
     },
     "execution_count": 167,
     "metadata": {},
     "output_type": "execute_result"
    }
   ],
   "source": [
    "#변수의 결측치 존재 여부를 확인하고, 만약 결측치가 존재하면 어떻게 처리할지 고민해보세요. \n",
    "df[feature].isnull().sum()"
   ]
  },
  {
   "cell_type": "markdown",
   "id": "2d9760fd",
   "metadata": {},
   "source": [
    "4. 변수의 기초 통계량 확인"
   ]
  },
  {
   "cell_type": "code",
   "execution_count": 12,
   "id": "3ba272ed",
   "metadata": {},
   "outputs": [
    {
     "data": {
      "text/html": [
       "<div>\n",
       "<style scoped>\n",
       "    .dataframe tbody tr th:only-of-type {\n",
       "        vertical-align: middle;\n",
       "    }\n",
       "\n",
       "    .dataframe tbody tr th {\n",
       "        vertical-align: top;\n",
       "    }\n",
       "\n",
       "    .dataframe thead th {\n",
       "        text-align: right;\n",
       "    }\n",
       "</style>\n",
       "<table border=\"1\" class=\"dataframe\">\n",
       "  <thead>\n",
       "    <tr style=\"text-align: right;\">\n",
       "      <th></th>\n",
       "      <th>count</th>\n",
       "    </tr>\n",
       "  </thead>\n",
       "  <tbody>\n",
       "    <tr>\n",
       "      <th>count</th>\n",
       "      <td>5670.000000</td>\n",
       "    </tr>\n",
       "    <tr>\n",
       "      <th>mean</th>\n",
       "      <td>215.869841</td>\n",
       "    </tr>\n",
       "    <tr>\n",
       "      <th>std</th>\n",
       "      <td>186.974342</td>\n",
       "    </tr>\n",
       "    <tr>\n",
       "      <th>min</th>\n",
       "      <td>1.000000</td>\n",
       "    </tr>\n",
       "    <tr>\n",
       "      <th>25%</th>\n",
       "      <td>53.000000</td>\n",
       "    </tr>\n",
       "    <tr>\n",
       "      <th>50%</th>\n",
       "      <td>186.000000</td>\n",
       "    </tr>\n",
       "    <tr>\n",
       "      <th>75%</th>\n",
       "      <td>317.000000</td>\n",
       "    </tr>\n",
       "    <tr>\n",
       "      <th>max</th>\n",
       "      <td>1746.000000</td>\n",
       "    </tr>\n",
       "  </tbody>\n",
       "</table>\n",
       "</div>"
      ],
      "text/plain": [
       "             count\n",
       "count  5670.000000\n",
       "mean    215.869841\n",
       "std     186.974342\n",
       "min       1.000000\n",
       "25%      53.000000\n",
       "50%     186.000000\n",
       "75%     317.000000\n",
       "max    1746.000000"
      ]
     },
     "execution_count": 168,
     "metadata": {},
     "output_type": "execute_result"
    }
   ],
   "source": [
    "#변수의 기초 통계량을 확인해보세요\n",
    "temp = df[feature].value_counts()\n",
    "display(temp/df.shape[0])"
   ]
  },
  {
   "cell_type": "markdown",
   "id": "4eb1b708",
   "metadata": {},
   "source": [
    "5. 변수의 분포 확인"
   ]
  },
  {
   "cell_type": "code",
   "execution_count": 17,
   "id": "8449daa6",
   "metadata": {},
   "outputs": [
    {
     "data": {
      "image/png": "[encoded data removed]",
      "text/plain": [
       "<Figure size 936x288 with 3 Axes>"
      ]
     },
     "metadata": {
      "needs_background": "light"
     },
     "output_type": "display_data"
    }
   ],
   "source": [
    "#변수의 분포를 시각화 라이브러리를 활용해 확인해보세요.\n",
    "plt.figure(figsize=(12,4))\n",
    "\n",
    "plt.subplot(1,2,1)\n",
    "sns.countplot(df[feature])\n",
    "\n",
    "plt.subplot(1,2,2)\n",
    "plt.pie(temp.values, labels=temp.index, autopct='%.1f%%')\n",
    "\n",
    "plt.tight_layout()\n",
    "plt.show()"
   ]
  },
  {
   "cell_type": "markdown",
   "id": "314284e2",
   "metadata": {},
   "source": [
    "6. 위 정보로 부터 파악한 내용 정리"
   ]
  },
  {
   "cell_type": "markdown",
   "id": "8df7893b",
   "metadata": {},
   "source": [
    "#위 정보로부터 파악하신 내용을 정리해보세요.\n",
    "* 미세먼지 수치는 10~50의 범위가 가장 많음"
   ]
  },
  {
   "cell_type": "markdown",
   "id": "5341f7c2",
   "metadata": {},
   "source": [
    "7. 추가 분석사항 도출"
   ]
  },
  {
   "cell_type": "code",
   "execution_count": null,
   "id": "ebd1fd48",
   "metadata": {},
   "outputs": [],
   "source": [
    "#추가로 분석을 원하는 부분이 있다면 분석후 정리해보세요."
   ]
  },
  {
   "cell_type": "markdown",
   "id": "c559e931",
   "metadata": {},
   "source": [
    "### Feature9 : PM2.5"
   ]
  },
  {
   "cell_type": "markdown",
   "id": "74305cdf",
   "metadata": {},
   "source": [
    "1. 변수가 내포하고 있는 의미\n",
    "- 변수의 의미를 한번 짚고 넘어갑시다. 여러분이 생각하는 이 변수의 의미를 작성해보세요.\n",
    "\n",
    "\n",
    "count : 시간에 따른 따릉이 대여 수"
   ]
  },
  {
   "cell_type": "code",
   "execution_count": 158,
   "id": "d95d0a59",
   "metadata": {},
   "outputs": [],
   "source": [
    "feature= 'PM2.5'"
   ]
  },
  {
   "cell_type": "markdown",
   "id": "f5598656",
   "metadata": {},
   "source": [
    "2. 변수가 수치형인지 범주형인지\n"
   ]
  },
  {
   "cell_type": "code",
   "execution_count": 38,
   "id": "e32a046b",
   "metadata": {
    "tags": []
   },
   "outputs": [
    {
     "data": {
      "text/plain": [
       "array([  46,   40,   31,   12,   30,   77,  171,  330,  218,  175,  247,\n",
       "        269,  289,  265,  342,  369,  564,  820,  526,  435,  396,  307,\n",
       "        157,   85,   48,   17,   20,   24,   72,  169,  336,  207,  211,\n",
       "        233,  286,  314,  360,  392,  507,  582,  411,  331,  366,  344,\n",
       "        183,  126,   62,   58,   38,   18,   25,   43,   45,    5,    1,\n",
       "          2,    3,    8,    6,   11,   15,   16,    7,   33,   67,   94,\n",
       "        151,  210,  464,  601,  651,  613,  505,  427,  341,  252,  219,\n",
       "        194,   78,   69,   35,    9,  188,  349,  187,  227,  280,  262,\n",
       "        284,  390,  423,  552,  835,  479,  352,  258,  130,   80,   21,\n",
       "         23,   29,  362,  230,  176,  249,  310,  268,  261,  329,  356,\n",
       "        569,  856,  508,  413,  297,  112,   63,   36,   19,   28,   84,\n",
       "        158,  216,  189,  282,  346,  274,  303,  324,  399,  574,  797,\n",
       "        461,  293,  266,  103,   71,   42,  319,  140,  259,  492,  783,\n",
       "        383,  276,  291,  108,   59,   60,   74,  164,  332,  251,  300,\n",
       "        354,  370,  404,  585,  753,  444,  318,  333,  296,  123,   57,\n",
       "        100,  160,  343,  426,  544,  662,  639,  548,  475,  313,  281,\n",
       "        278,  232,  124,   64,   86,  118,  163,  271,  397,  513,  542,\n",
       "        584,  633,  621,  503,  407,  264,  208,  105,   44,   75,  177,\n",
       "         93,   10,    4,  125,  263,  174,  214,  206,  225,  367,  602,\n",
       "        323,   22,   61,  364,  236,  202,  260,  250,  245,  273,  462,\n",
       "        678,  359,  257,   87,   81,  184,  338,  226,  150,  238,  239,\n",
       "        279,  547,  756,  438,  298,  317,  267,  136,   51,  159,   88,\n",
       "         52,  113,  170,  235,  406,  629,  372,  223,  104,   53,   13,\n",
       "         56,  102,  138,  190,  116,  244,   14,   49,  133,  270,  348,\n",
       "        467,  604,  592,  654,  530,  384,  229,  156,   26,   27,  335,\n",
       "        145,  242,  309,  529,  802,  504,  312,  304,  237,  127,   34,\n",
       "         90,  203,  347,  288,  299,  489,  855,  449,  111,   83,  197,\n",
       "        387,  201,  248,  320,  588,  829,  521,  377,  122,  186,  167,\n",
       "        228,  253,  285,  358,  512,  698,  456,  294,   89,   68,  162,\n",
       "        204,  363,  493,  692,  434,  355,  165,  115,   66,  154,  205,\n",
       "        328,  418,  450,  570,  401,  301,  119,  161,  246,  405,  469,\n",
       "        545,  679,  688,  655,  606,  498,  255,  139,  351,  173,  534,\n",
       "        888,  560,  389,  373,  155,  114,  744,  550,  494,  516,  568,\n",
       "        670,  609,  624,  391,  292,  706,  452,  302,  468,  490,  714,\n",
       "       1126, 1600,  976,  804,  612,   32,  198,  196,  212,  327,  334,\n",
       "        522,  695,  460,  142,  147,  234,  172,  398,  557,  215,   55,\n",
       "         98,   39,   70,   92,  129,  180,  453,  594,  703,  686,  595,\n",
       "        431,  325,  168,   99,  277,  295,  607,  827,  538,  371,   65,\n",
       "        110,  128,  200,  559,  653,  762,  787,  708,  577,  415,  254,\n",
       "        275,  339,  540,  858,  395,  382,  256,  121,  181,  537,  195,\n",
       "         91,   54,  217,  178,  182,   95,   41,  484,  661,  581,  350,\n",
       "        109,  117,  166,  199,  408,  429,  135,  221,  400,  191,  220,\n",
       "        311,  893,  497,  321,  243,  224,  287,  566,  809,  543,  432,\n",
       "        388,  337,  788,  598,  422,  306,   96,  365,  531,  381,  143,\n",
       "         79,  107,  353,   37,  241,  368,  812,  141,   73,   50,  106,\n",
       "        290,  375,  414,  555,  643,  562,  459,  149,  148,  209,   82,\n",
       "        146,  412,  623,  501,  393,  420,  424,  520,  828,  340,   76,\n",
       "        483,  240,  376,  674,  472,  152,  308,  192,  447,  668,  394,\n",
       "        179,  231,  132,  527,  533,  430,  905,  477,  410,  750,  315,\n",
       "        326,  556,  830,  428,  615,  921,  470,  417,  443,  491,  515,\n",
       "        437,  448,  283,  510,  535,  853,  402,  832,  442,  357,  546,\n",
       "        843,  485,  222,  458,   97,  101,  872,  451,  728,  322,  541,\n",
       "        880,  619,  378,  702,  416,  454,  457,  433,  131,  446,  471,\n",
       "        473,  213,  193,  906,  694,  487,  777,  553,  185,  576,  789,\n",
       "        120,  380,  436,  153,  144,   47,  316,  803,  476,  794,  499,\n",
       "        757,  605,  137,  865,  532,  844,  587,  760,  486,  441,  374,\n",
       "        711,  134,  768,  478,  792,  645,  385,  563,  496,  361,  710,\n",
       "        691,  439,  622,  700,  500,  659,  403,  597,  648,  272,  649,\n",
       "        440,  305,  743,  567,  502,  747,  717,  745,  641,  628,  495,\n",
       "        480,  775,  506,  419,  579,  572,  868,  704,  815,  644,  617,\n",
       "        558,  474,  561,  509,  866,  603,  466,  525,  386,  631,  518,\n",
       "        455,  616,  554,  859,  805,  488,  514, 1090, 1746, 1086,  942,\n",
       "        944,  630, 1026,  740,  736,  593,  590,  642,  667,  638,  953,\n",
       "        684,  573,  807,  658,  481,  463,  939,  517,  421,  932,  665,\n",
       "        965,  600,  847,  578,  425,  697,  765,  345,  445,  539,  693,\n",
       "        755,  752,  949,  640,  620,  664,  988,  701,  677,  671,  798,\n",
       "        589,  925,  580,  915,  596,  699,  723,  482,  528,  669,  599,\n",
       "        696,  647,  379,  409,  571,  898,  963,  636,  689,  523,  733,\n",
       "        741,  731,  754,  766,  465,  583,  676,  519], dtype=int64)"
      ]
     },
     "execution_count": 166,
     "metadata": {},
     "output_type": "execute_result"
    }
   ],
   "source": [
    "# 변수의 자료형을 확인해보세요.\n",
    "df[feature].unique()"
   ]
  },
  {
   "cell_type": "markdown",
   "id": "52aeba21",
   "metadata": {},
   "source": [
    "3. 변수의 결측치 존재 여부 및 조치방안"
   ]
  },
  {
   "cell_type": "code",
   "execution_count": 39,
   "id": "526c0c27",
   "metadata": {},
   "outputs": [
    {
     "data": {
      "text/plain": [
       "0"
      ]
     },
     "execution_count": 167,
     "metadata": {},
     "output_type": "execute_result"
    }
   ],
   "source": [
    "#변수의 결측치 존재 여부를 확인하고, 만약 결측치가 존재하면 어떻게 처리할지 고민해보세요. \n",
    "df[feature].isnull().sum()"
   ]
  },
  {
   "cell_type": "markdown",
   "id": "2d9760fd",
   "metadata": {},
   "source": [
    "4. 변수의 기초 통계량 확인"
   ]
  },
  {
   "cell_type": "code",
   "execution_count": 12,
   "id": "3ba272ed",
   "metadata": {},
   "outputs": [
    {
     "data": {
      "text/html": [
       "<div>\n",
       "<style scoped>\n",
       "    .dataframe tbody tr th:only-of-type {\n",
       "        vertical-align: middle;\n",
       "    }\n",
       "\n",
       "    .dataframe tbody tr th {\n",
       "        vertical-align: top;\n",
       "    }\n",
       "\n",
       "    .dataframe thead th {\n",
       "        text-align: right;\n",
       "    }\n",
       "</style>\n",
       "<table border=\"1\" class=\"dataframe\">\n",
       "  <thead>\n",
       "    <tr style=\"text-align: right;\">\n",
       "      <th></th>\n",
       "      <th>count</th>\n",
       "    </tr>\n",
       "  </thead>\n",
       "  <tbody>\n",
       "    <tr>\n",
       "      <th>count</th>\n",
       "      <td>5670.000000</td>\n",
       "    </tr>\n",
       "    <tr>\n",
       "      <th>mean</th>\n",
       "      <td>215.869841</td>\n",
       "    </tr>\n",
       "    <tr>\n",
       "      <th>std</th>\n",
       "      <td>186.974342</td>\n",
       "    </tr>\n",
       "    <tr>\n",
       "      <th>min</th>\n",
       "      <td>1.000000</td>\n",
       "    </tr>\n",
       "    <tr>\n",
       "      <th>25%</th>\n",
       "      <td>53.000000</td>\n",
       "    </tr>\n",
       "    <tr>\n",
       "      <th>50%</th>\n",
       "      <td>186.000000</td>\n",
       "    </tr>\n",
       "    <tr>\n",
       "      <th>75%</th>\n",
       "      <td>317.000000</td>\n",
       "    </tr>\n",
       "    <tr>\n",
       "      <th>max</th>\n",
       "      <td>1746.000000</td>\n",
       "    </tr>\n",
       "  </tbody>\n",
       "</table>\n",
       "</div>"
      ],
      "text/plain": [
       "             count\n",
       "count  5670.000000\n",
       "mean    215.869841\n",
       "std     186.974342\n",
       "min       1.000000\n",
       "25%      53.000000\n",
       "50%     186.000000\n",
       "75%     317.000000\n",
       "max    1746.000000"
      ]
     },
     "execution_count": 168,
     "metadata": {},
     "output_type": "execute_result"
    }
   ],
   "source": [
    "#변수의 기초 통계량을 확인해보세요\n",
    "temp = df[feature].value_counts()\n",
    "display(temp/df.shape[0])"
   ]
  },
  {
   "cell_type": "markdown",
   "id": "4eb1b708",
   "metadata": {},
   "source": [
    "5. 변수의 분포 확인"
   ]
  },
  {
   "cell_type": "code",
   "execution_count": 17,
   "id": "8449daa6",
   "metadata": {},
   "outputs": [
    {
     "data": {
      "image/png": "[encoded data removed]",
      "text/plain": [
       "<Figure size 936x288 with 3 Axes>"
      ]
     },
     "metadata": {
      "needs_background": "light"
     },
     "output_type": "display_data"
    }
   ],
   "source": [
    "#변수의 분포를 시각화 라이브러리를 활용해 확인해보세요.\n",
    "plt.figure(figsize=(12,4))\n",
    "\n",
    "plt.subplot(1,2,1)\n",
    "sns.countplot(df[feature])\n",
    "\n",
    "plt.subplot(1,2,2)\n",
    "plt.pie(temp.values, labels=temp.index, autopct='%.1f%%')\n",
    "\n",
    "plt.tight_layout()\n",
    "plt.show()"
   ]
  },
  {
   "cell_type": "markdown",
   "id": "314284e2",
   "metadata": {},
   "source": [
    "6. 위 정보로 부터 파악한 내용 정리"
   ]
  },
  {
   "cell_type": "markdown",
   "id": "2e9426e3",
   "metadata": {},
   "source": [
    "#위 정보로부터 파악하신 내용을 정리해보세요.\n",
    "* 초미세먼지 수치는 7~20의 수치가 가장 많음.\n"
   ]
  },
  {
   "cell_type": "markdown",
   "id": "5341f7c2",
   "metadata": {},
   "source": [
    "7. 추가 분석사항 도출"
   ]
  },
  {
   "cell_type": "code",
   "execution_count": null,
   "id": "ebd1fd48",
   "metadata": {},
   "outputs": [],
   "source": [
    "#추가로 분석을 원하는 부분이 있다면 분석후 정리해보세요."
   ]
  },
  {
   "cell_type": "markdown",
   "id": "13cf9192",
   "metadata": {},
   "source": [
    "### Count (Target)"
   ]
  },
  {
   "cell_type": "markdown",
   "id": "74305cdf",
   "metadata": {},
   "source": [
    "1. 변수가 내포하고 있는 의미\n",
    "- 변수의 의미를 한번 짚고 넘어갑시다. 여러분이 생각하는 이 변수의 의미를 작성해보세요.\n",
    "\n",
    "\n",
    "count : 시간에 따른 따릉이 대여 수"
   ]
  },
  {
   "cell_type": "code",
   "execution_count": 165,
   "id": "8b98da98",
   "metadata": {},
   "outputs": [],
   "source": [
    "target = 'count'"
   ]
  },
  {
   "cell_type": "markdown",
   "id": "f5598656",
   "metadata": {},
   "source": [
    "2. 변수가 수치형인지 범주형인지\n"
   ]
  },
  {
   "cell_type": "code",
   "execution_count": 38,
   "id": "e32a046b",
   "metadata": {
    "tags": []
   },
   "outputs": [
    {
     "data": {
      "text/plain": [
       "array([  46,   40,   31,   12,   30,   77,  171,  330,  218,  175,  247,\n",
       "        269,  289,  265,  342,  369,  564,  820,  526,  435,  396,  307,\n",
       "        157,   85,   48,   17,   20,   24,   72,  169,  336,  207,  211,\n",
       "        233,  286,  314,  360,  392,  507,  582,  411,  331,  366,  344,\n",
       "        183,  126,   62,   58,   38,   18,   25,   43,   45,    5,    1,\n",
       "          2,    3,    8,    6,   11,   15,   16,    7,   33,   67,   94,\n",
       "        151,  210,  464,  601,  651,  613,  505,  427,  341,  252,  219,\n",
       "        194,   78,   69,   35,    9,  188,  349,  187,  227,  280,  262,\n",
       "        284,  390,  423,  552,  835,  479,  352,  258,  130,   80,   21,\n",
       "         23,   29,  362,  230,  176,  249,  310,  268,  261,  329,  356,\n",
       "        569,  856,  508,  413,  297,  112,   63,   36,   19,   28,   84,\n",
       "        158,  216,  189,  282,  346,  274,  303,  324,  399,  574,  797,\n",
       "        461,  293,  266,  103,   71,   42,  319,  140,  259,  492,  783,\n",
       "        383,  276,  291,  108,   59,   60,   74,  164,  332,  251,  300,\n",
       "        354,  370,  404,  585,  753,  444,  318,  333,  296,  123,   57,\n",
       "        100,  160,  343,  426,  544,  662,  639,  548,  475,  313,  281,\n",
       "        278,  232,  124,   64,   86,  118,  163,  271,  397,  513,  542,\n",
       "        584,  633,  621,  503,  407,  264,  208,  105,   44,   75,  177,\n",
       "         93,   10,    4,  125,  263,  174,  214,  206,  225,  367,  602,\n",
       "        323,   22,   61,  364,  236,  202,  260,  250,  245,  273,  462,\n",
       "        678,  359,  257,   87,   81,  184,  338,  226,  150,  238,  239,\n",
       "        279,  547,  756,  438,  298,  317,  267,  136,   51,  159,   88,\n",
       "         52,  113,  170,  235,  406,  629,  372,  223,  104,   53,   13,\n",
       "         56,  102,  138,  190,  116,  244,   14,   49,  133,  270,  348,\n",
       "        467,  604,  592,  654,  530,  384,  229,  156,   26,   27,  335,\n",
       "        145,  242,  309,  529,  802,  504,  312,  304,  237,  127,   34,\n",
       "         90,  203,  347,  288,  299,  489,  855,  449,  111,   83,  197,\n",
       "        387,  201,  248,  320,  588,  829,  521,  377,  122,  186,  167,\n",
       "        228,  253,  285,  358,  512,  698,  456,  294,   89,   68,  162,\n",
       "        204,  363,  493,  692,  434,  355,  165,  115,   66,  154,  205,\n",
       "        328,  418,  450,  570,  401,  301,  119,  161,  246,  405,  469,\n",
       "        545,  679,  688,  655,  606,  498,  255,  139,  351,  173,  534,\n",
       "        888,  560,  389,  373,  155,  114,  744,  550,  494,  516,  568,\n",
       "        670,  609,  624,  391,  292,  706,  452,  302,  468,  490,  714,\n",
       "       1126, 1600,  976,  804,  612,   32,  198,  196,  212,  327,  334,\n",
       "        522,  695,  460,  142,  147,  234,  172,  398,  557,  215,   55,\n",
       "         98,   39,   70,   92,  129,  180,  453,  594,  703,  686,  595,\n",
       "        431,  325,  168,   99,  277,  295,  607,  827,  538,  371,   65,\n",
       "        110,  128,  200,  559,  653,  762,  787,  708,  577,  415,  254,\n",
       "        275,  339,  540,  858,  395,  382,  256,  121,  181,  537,  195,\n",
       "         91,   54,  217,  178,  182,   95,   41,  484,  661,  581,  350,\n",
       "        109,  117,  166,  199,  408,  429,  135,  221,  400,  191,  220,\n",
       "        311,  893,  497,  321,  243,  224,  287,  566,  809,  543,  432,\n",
       "        388,  337,  788,  598,  422,  306,   96,  365,  531,  381,  143,\n",
       "         79,  107,  353,   37,  241,  368,  812,  141,   73,   50,  106,\n",
       "        290,  375,  414,  555,  643,  562,  459,  149,  148,  209,   82,\n",
       "        146,  412,  623,  501,  393,  420,  424,  520,  828,  340,   76,\n",
       "        483,  240,  376,  674,  472,  152,  308,  192,  447,  668,  394,\n",
       "        179,  231,  132,  527,  533,  430,  905,  477,  410,  750,  315,\n",
       "        326,  556,  830,  428,  615,  921,  470,  417,  443,  491,  515,\n",
       "        437,  448,  283,  510,  535,  853,  402,  832,  442,  357,  546,\n",
       "        843,  485,  222,  458,   97,  101,  872,  451,  728,  322,  541,\n",
       "        880,  619,  378,  702,  416,  454,  457,  433,  131,  446,  471,\n",
       "        473,  213,  193,  906,  694,  487,  777,  553,  185,  576,  789,\n",
       "        120,  380,  436,  153,  144,   47,  316,  803,  476,  794,  499,\n",
       "        757,  605,  137,  865,  532,  844,  587,  760,  486,  441,  374,\n",
       "        711,  134,  768,  478,  792,  645,  385,  563,  496,  361,  710,\n",
       "        691,  439,  622,  700,  500,  659,  403,  597,  648,  272,  649,\n",
       "        440,  305,  743,  567,  502,  747,  717,  745,  641,  628,  495,\n",
       "        480,  775,  506,  419,  579,  572,  868,  704,  815,  644,  617,\n",
       "        558,  474,  561,  509,  866,  603,  466,  525,  386,  631,  518,\n",
       "        455,  616,  554,  859,  805,  488,  514, 1090, 1746, 1086,  942,\n",
       "        944,  630, 1026,  740,  736,  593,  590,  642,  667,  638,  953,\n",
       "        684,  573,  807,  658,  481,  463,  939,  517,  421,  932,  665,\n",
       "        965,  600,  847,  578,  425,  697,  765,  345,  445,  539,  693,\n",
       "        755,  752,  949,  640,  620,  664,  988,  701,  677,  671,  798,\n",
       "        589,  925,  580,  915,  596,  699,  723,  482,  528,  669,  599,\n",
       "        696,  647,  379,  409,  571,  898,  963,  636,  689,  523,  733,\n",
       "        741,  731,  754,  766,  465,  583,  676,  519], dtype=int64)"
      ]
     },
     "execution_count": 166,
     "metadata": {},
     "output_type": "execute_result"
    }
   ],
   "source": [
    "# 변수의 자료형을 확인해보세요.\n",
    "df[feature].unique()"
   ]
  },
  {
   "cell_type": "markdown",
   "id": "52aeba21",
   "metadata": {},
   "source": [
    "3. 변수의 결측치 존재 여부 및 조치방안"
   ]
  },
  {
   "cell_type": "code",
   "execution_count": 39,
   "id": "526c0c27",
   "metadata": {},
   "outputs": [
    {
     "data": {
      "text/plain": [
       "0"
      ]
     },
     "execution_count": 167,
     "metadata": {},
     "output_type": "execute_result"
    }
   ],
   "source": [
    "#변수의 결측치 존재 여부를 확인하고, 만약 결측치가 존재하면 어떻게 처리할지 고민해보세요. \n",
    "df[feature].isnull().sum()"
   ]
  },
  {
   "cell_type": "markdown",
   "id": "2d9760fd",
   "metadata": {},
   "source": [
    "4. 변수의 기초 통계량 확인"
   ]
  },
  {
   "cell_type": "code",
   "execution_count": 12,
   "id": "3ba272ed",
   "metadata": {},
   "outputs": [
    {
     "data": {
      "text/html": [
       "<div>\n",
       "<style scoped>\n",
       "    .dataframe tbody tr th:only-of-type {\n",
       "        vertical-align: middle;\n",
       "    }\n",
       "\n",
       "    .dataframe tbody tr th {\n",
       "        vertical-align: top;\n",
       "    }\n",
       "\n",
       "    .dataframe thead th {\n",
       "        text-align: right;\n",
       "    }\n",
       "</style>\n",
       "<table border=\"1\" class=\"dataframe\">\n",
       "  <thead>\n",
       "    <tr style=\"text-align: right;\">\n",
       "      <th></th>\n",
       "      <th>count</th>\n",
       "    </tr>\n",
       "  </thead>\n",
       "  <tbody>\n",
       "    <tr>\n",
       "      <th>count</th>\n",
       "      <td>5670.000000</td>\n",
       "    </tr>\n",
       "    <tr>\n",
       "      <th>mean</th>\n",
       "      <td>215.869841</td>\n",
       "    </tr>\n",
       "    <tr>\n",
       "      <th>std</th>\n",
       "      <td>186.974342</td>\n",
       "    </tr>\n",
       "    <tr>\n",
       "      <th>min</th>\n",
       "      <td>1.000000</td>\n",
       "    </tr>\n",
       "    <tr>\n",
       "      <th>25%</th>\n",
       "      <td>53.000000</td>\n",
       "    </tr>\n",
       "    <tr>\n",
       "      <th>50%</th>\n",
       "      <td>186.000000</td>\n",
       "    </tr>\n",
       "    <tr>\n",
       "      <th>75%</th>\n",
       "      <td>317.000000</td>\n",
       "    </tr>\n",
       "    <tr>\n",
       "      <th>max</th>\n",
       "      <td>1746.000000</td>\n",
       "    </tr>\n",
       "  </tbody>\n",
       "</table>\n",
       "</div>"
      ],
      "text/plain": [
       "             count\n",
       "count  5670.000000\n",
       "mean    215.869841\n",
       "std     186.974342\n",
       "min       1.000000\n",
       "25%      53.000000\n",
       "50%     186.000000\n",
       "75%     317.000000\n",
       "max    1746.000000"
      ]
     },
     "execution_count": 168,
     "metadata": {},
     "output_type": "execute_result"
    }
   ],
   "source": [
    "#변수의 기초 통계량을 확인해보세요\n",
    "temp = df[feature].value_counts()\n",
    "display(temp/df.shape[0])"
   ]
  },
  {
   "cell_type": "markdown",
   "id": "4eb1b708",
   "metadata": {},
   "source": [
    "5. 변수의 분포 확인"
   ]
  },
  {
   "cell_type": "code",
   "execution_count": 17,
   "id": "8449daa6",
   "metadata": {},
   "outputs": [
    {
     "data": {
      "image/png": "[encoded data removed]",
      "text/plain": [
       "<Figure size 936x288 with 3 Axes>"
      ]
     },
     "metadata": {
      "needs_background": "light"
     },
     "output_type": "display_data"
    }
   ],
   "source": [
    "#변수의 분포를 시각화 라이브러리를 활용해 확인해보세요.\n",
    "plt.figure(figsize=(12,4))\n",
    "\n",
    "plt.subplot(1,2,1)\n",
    "sns.countplot(df[feature])\n",
    "\n",
    "plt.subplot(1,2,2)\n",
    "plt.pie(temp.values, labels=temp.index, autopct='%.1f%%')\n",
    "\n",
    "plt.tight_layout()\n",
    "plt.show()"
   ]
  },
  {
   "cell_type": "markdown",
   "id": "314284e2",
   "metadata": {},
   "source": [
    "6. 위 정보로 부터 파악한 내용 정리"
   ]
  },
  {
   "cell_type": "markdown",
   "id": "fc5e8a4c",
   "metadata": {},
   "source": [
    "#위 정보로부터 파악하신 내용을 정리해보세요.\n",
    "* 30~300가 평균 따릉이 대여수 이다."
   ]
  },
  {
   "cell_type": "markdown",
   "id": "5341f7c2",
   "metadata": {},
   "source": [
    "7. 추가 분석사항 도출"
   ]
  },
  {
   "cell_type": "code",
   "execution_count": null,
   "id": "ebd1fd48",
   "metadata": {},
   "outputs": [],
   "source": [
    "#추가로 분석을 원하는 부분이 있다면 분석후 정리해보세요."
   ]
  },
  {
   "cell_type": "markdown",
   "id": "daa6458d",
   "metadata": {},
   "source": [
    "### 4.이변량 분석 \n",
    "* 자료의 종류에 맞게 X --> Y 에 대해서 그래프(시각화)와 가설검정(수치화)를 수행하고 결과를 평가합니다.\n",
    "* 가설검정시 다음의 항목을 참조하여 수행합니다.\n",
    "    * 적절한 유의수준\n",
    "    * 숫자 --> 숫자 : 상관분석\n",
    "    * 범주 --> 범주 : 카이제곱검정\n",
    "    * 범주 --> 숫자 : t검정, 분산분석\n",
    "    * 숫자 --> 범주 : 로지스틱 회귀모형을 통해, 회귀계수의 P.value로 검정을 수행합니다."
   ]
  },
  {
   "cell_type": "code",
   "execution_count": 204,
   "id": "817c0caf",
   "metadata": {},
   "outputs": [],
   "source": [
    "target= 'count'"
   ]
  },
  {
   "cell_type": "code",
   "execution_count": 173,
   "id": "20f99f00",
   "metadata": {},
   "outputs": [
    {
     "name": "stdout",
     "output_type": "stream",
     "text": [
      "<class 'pandas.core.frame.DataFrame'>\n",
      "Int64Index: 5670 entries, 0 to 5826\n",
      "Data columns (total 11 columns):\n",
      " #   Column         Non-Null Count  Dtype  \n",
      "---  ------         --------------  -----  \n",
      " 0   date           5670 non-null   object \n",
      " 1   hour           5670 non-null   int64  \n",
      " 2   PM10           5670 non-null   float64\n",
      " 3   PM2.5          5670 non-null   float64\n",
      " 4   ozone          5670 non-null   float64\n",
      " 5   temperature    5670 non-null   float64\n",
      " 6   precipitation  5670 non-null   int64  \n",
      " 7   windspeed      5670 non-null   float64\n",
      " 8   humidity       5670 non-null   int64  \n",
      " 9   visibility     5670 non-null   int64  \n",
      " 10  count          5670 non-null   int64  \n",
      "dtypes: float64(5), int64(5), object(1)\n",
      "memory usage: 660.6+ KB\n"
     ]
    }
   ],
   "source": [
    "df.info()"
   ]
  },
  {
   "cell_type": "markdown",
   "id": "47716272",
   "metadata": {},
   "source": [
    "1. 강수 여부와 따릉이 대여량간 이변량 분석"
   ]
  },
  {
   "cell_type": "markdown",
   "id": "88936c1d",
   "metadata": {},
   "source": [
    "#### (1) 범주형 Feature --> 숫자형 Y (따릉이 대여 Count)\n",
    "\n",
    "<font color=\"green\">* 모든 범주형 Feature에 대해서 Y와 비교하여 차트를 그리고 수치화 하시오.</font>\n",
    "\n",
    "\n",
    "        1. 시각화 : 그래프를 활용한 데이터 분석\n",
    "        2. 수치화 : t-test, anova\n",
    "        3. 관계 평가 (가설 검정)"
   ]
  },
  {
   "cell_type": "code",
   "execution_count": 179,
   "id": "2236276c",
   "metadata": {},
   "outputs": [
    {
     "data": {
      "text/plain": [
       "array([0, 1], dtype=int64)"
      ]
     },
     "execution_count": 179,
     "metadata": {},
     "output_type": "execute_result"
    }
   ],
   "source": [
    "df['precipitation'].unique()"
   ]
  },
  {
   "cell_type": "code",
   "execution_count": 205,
   "id": "6bba152c",
   "metadata": {
    "scrolled": true
   },
   "outputs": [
    {
     "data": {
      "image/png": "[encoded data removed]",
      "text/plain": [
       "<Figure size 432x288 with 1 Axes>"
      ]
     },
     "metadata": {
      "needs_background": "light"
     },
     "output_type": "display_data"
    }
   ],
   "source": [
    "sns.barplot(x=\"precipitation\", y=target, data=df)\n",
    "plt.grid()\n",
    "plt.show()"
   ]
  },
  {
   "cell_type": "code",
   "execution_count": 206,
   "id": "10ea191a",
   "metadata": {},
   "outputs": [
    {
     "data": {
      "text/plain": [
       "Ttest_indResult(statistic=20.998879971563785, pvalue=2.428442706503359e-94)"
      ]
     },
     "execution_count": 206,
     "metadata": {},
     "output_type": "execute_result"
    }
   ],
   "source": [
    "none = df.loc[df['precipitation']==0, target]\n",
    "pre = df.loc[df['precipitation']==1, target]\n",
    "spst.ttest_ind(none, pre) "
   ]
  },
  {
   "cell_type": "markdown",
   "id": "b0fb24cd",
   "metadata": {},
   "source": [
    "#데이터 타입에 주의하여 이변량 분석을 해보세요\n",
    "* 2~3이상 차이가 있으면 관련이 있다(F통계량) / pvalue=0.05보다 작으므로 관련이 있다."
   ]
  },
  {
   "cell_type": "code",
   "execution_count": null,
   "id": "48a73750-47d0-4ae5-be5a-4c77430e596a",
   "metadata": {},
   "outputs": [],
   "source": []
  },
  {
   "cell_type": "markdown",
   "id": "9c44a546",
   "metadata": {},
   "source": [
    "#### (2) 숫자형 Feature --> 숫자형 Y (따릉이 대여 Count)\n",
    "\n",
    "<font color=\"green\">* 모든 숫자형 Feature에 대해서 Y와 비교하여 차트를 그리고 수치화 하시오.  </font>\n",
    "\n",
    "\n",
    "        1. 시각화 : 그래프를 활용한 데이터 분석\n",
    "        2. 수치화 : 상관분석\n",
    "        3. 관계 평가 (가설 검정)"
   ]
  },
  {
   "cell_type": "code",
   "execution_count": 241,
   "id": "40e78754",
   "metadata": {},
   "outputs": [
    {
     "data": {
      "image/png": "[encoded data removed]",
      "text/plain": [
       "<Figure size 432x288 with 1 Axes>"
      ]
     },
     "metadata": {
      "needs_background": "light"
     },
     "output_type": "display_data"
    }
   ],
   "source": [
    "sns.regplot(x='hour_1', y =target, data = df)\n",
    "plt.show()"
   ]
  },
  {
   "cell_type": "code",
   "execution_count": 242,
   "id": "b0cd07c4",
   "metadata": {},
   "outputs": [
    {
     "data": {
      "text/plain": [
       "(0.4897127722190765, 0.0)"
      ]
     },
     "execution_count": 242,
     "metadata": {},
     "output_type": "execute_result"
    }
   ],
   "source": [
    "# 상관계수와 p-value \n",
    "spst.pearsonr(df[target], df['hour_1'])"
   ]
  },
  {
   "cell_type": "markdown",
   "id": "1c216b73",
   "metadata": {},
   "source": [
    "2. 시간대별 데이터와 따릉이 대여량간 분석"
   ]
  },
  {
   "cell_type": "code",
   "execution_count": 232,
   "id": "a1f26005",
   "metadata": {},
   "outputs": [
    {
     "data": {
      "image/png": "[encoded data removed]",
      "text/plain": [
       "<Figure size 432x288 with 1 Axes>"
      ]
     },
     "metadata": {
      "needs_background": "light"
     },
     "output_type": "display_data"
    }
   ],
   "source": [
    "#데이터 타입에 주의하여 이변량 분석을 해보세요\n",
    "sns.regplot(x='hour', y =target, data = df)\n",
    "plt.show()"
   ]
  },
  {
   "cell_type": "code",
   "execution_count": 208,
   "id": "c65ba42d",
   "metadata": {},
   "outputs": [
    {
     "data": {
      "text/plain": [
       "(0.587558535914158, 0.0)"
      ]
     },
     "execution_count": 208,
     "metadata": {},
     "output_type": "execute_result"
    }
   ],
   "source": [
    "# 상관계수와 p-value \n",
    "spst.pearsonr(df[target], df['hour'])"
   ]
  },
  {
   "cell_type": "markdown",
   "id": "b1d1461d",
   "metadata": {},
   "source": [
    "3. 온도 데이터와 따릉이 대여량간 분석"
   ]
  },
  {
   "cell_type": "code",
   "execution_count": 209,
   "id": "2fcef2cb",
   "metadata": {},
   "outputs": [
    {
     "data": {
      "image/png": "[encoded data removed]",
      "text/plain": [
       "<Figure size 432x288 with 1 Axes>"
      ]
     },
     "metadata": {
      "needs_background": "light"
     },
     "output_type": "display_data"
    }
   ],
   "source": [
    "#데이터 타입에 주의하여 이변량 분석을 해보세요\n",
    "sns.regplot(x='temperature', y =target, data = df)\n",
    "plt.show()"
   ]
  },
  {
   "cell_type": "code",
   "execution_count": 325,
   "id": "e69bf555",
   "metadata": {},
   "outputs": [
    {
     "data": {
      "image/png": "[encoded data removed]",
      "text/plain": [
       "<Figure size 432x288 with 1 Axes>"
      ]
     },
     "metadata": {
      "needs_background": "light"
     },
     "output_type": "display_data"
    }
   ],
   "source": [
    "sns.regplot(x='tem_sum', y =target, data = data)\n",
    "plt.show()"
   ]
  },
  {
   "cell_type": "code",
   "execution_count": 210,
   "id": "90f3bfce",
   "metadata": {},
   "outputs": [
    {
     "data": {
      "text/plain": [
       "(0.27416222788541533, 2.585011313554534e-98)"
      ]
     },
     "execution_count": 210,
     "metadata": {},
     "output_type": "execute_result"
    }
   ],
   "source": [
    "# 상관계수와 p-value \n",
    "spst.pearsonr(df[target], df['temperature'])"
   ]
  },
  {
   "cell_type": "code",
   "execution_count": 326,
   "id": "3c1b88ac",
   "metadata": {},
   "outputs": [
    {
     "data": {
      "text/plain": [
       "(0.2282084065079026, 0.18067791434532715)"
      ]
     },
     "execution_count": 326,
     "metadata": {},
     "output_type": "execute_result"
    }
   ],
   "source": [
    "# 상관계수와 p-value \n",
    "spst.pearsonr(data[target], data['tem_sum'])"
   ]
  },
  {
   "cell_type": "markdown",
   "id": "2af73f1b",
   "metadata": {},
   "source": [
    "4. 풍속 데이터와 따릉이 대여량간 분석"
   ]
  },
  {
   "cell_type": "code",
   "execution_count": 211,
   "id": "c0075623",
   "metadata": {},
   "outputs": [
    {
     "data": {
      "image/png": "[encoded data removed]",
      "text/plain": [
       "<Figure size 432x288 with 1 Axes>"
      ]
     },
     "metadata": {
      "needs_background": "light"
     },
     "output_type": "display_data"
    }
   ],
   "source": [
    "#데이터 타입에 주의하여 이변량 분석을 해보세요\n",
    "sns.regplot(x='windspeed', y =target, data = df)\n",
    "plt.show()"
   ]
  },
  {
   "cell_type": "code",
   "execution_count": 212,
   "id": "3f4284f8",
   "metadata": {},
   "outputs": [
    {
     "data": {
      "text/plain": [
       "(0.22922151636418522, 1.7134562728138145e-68)"
      ]
     },
     "execution_count": 212,
     "metadata": {},
     "output_type": "execute_result"
    }
   ],
   "source": [
    "# 상관계수와 p-value \n",
    "spst.pearsonr(df[target], df['windspeed'])"
   ]
  },
  {
   "cell_type": "markdown",
   "id": "3573ed0e",
   "metadata": {},
   "source": []
  },
  {
   "cell_type": "markdown",
   "id": "7f65d800",
   "metadata": {},
   "source": [
    "5. 습도 데이터와 따릉이 대여량간 분석"
   ]
  },
  {
   "cell_type": "code",
   "execution_count": 213,
   "id": "77bd6696",
   "metadata": {},
   "outputs": [
    {
     "data": {
      "image/png": "[encoded data removed]",
      "text/plain": [
       "<Figure size 432x288 with 1 Axes>"
      ]
     },
     "metadata": {
      "needs_background": "light"
     },
     "output_type": "display_data"
    }
   ],
   "source": [
    "#데이터 타입에 주의하여 이변량 분석을 해보세요\n",
    "sns.regplot(x='humidity', y =target, data = df)\n",
    "plt.show()"
   ]
  },
  {
   "cell_type": "code",
   "execution_count": 225,
   "id": "3ee39db9",
   "metadata": {},
   "outputs": [
    {
     "data": {
      "text/plain": [
       "(-0.48074217482491177, 0.0)"
      ]
     },
     "execution_count": 225,
     "metadata": {},
     "output_type": "execute_result"
    }
   ],
   "source": [
    "# 상관계수와 p-value \n",
    "spst.pearsonr(df['humidity'], df[target])"
   ]
  },
  {
   "cell_type": "markdown",
   "id": "bba4e9c6",
   "metadata": {},
   "source": []
  },
  {
   "cell_type": "markdown",
   "id": "c46fccb5",
   "metadata": {},
   "source": [
    "6. 시정 데이터와 따릉이 대여량간 분석"
   ]
  },
  {
   "cell_type": "code",
   "execution_count": 224,
   "id": "4deb3345",
   "metadata": {},
   "outputs": [
    {
     "data": {
      "image/png": "[encoded data removed]",
      "text/plain": [
       "<Figure size 432x288 with 1 Axes>"
      ]
     },
     "metadata": {
      "needs_background": "light"
     },
     "output_type": "display_data"
    }
   ],
   "source": [
    "#데이터 타입에 주의하여 이변량 분석을 해보세요\n",
    "sns.regplot(x='visibility', y =target, data = df)\n",
    "plt.show()"
   ]
  },
  {
   "cell_type": "code",
   "execution_count": 216,
   "id": "3d086c4c",
   "metadata": {},
   "outputs": [
    {
     "data": {
      "text/plain": [
       "(0.26207314766928064, 1.0691328205534822e-89)"
      ]
     },
     "execution_count": 216,
     "metadata": {},
     "output_type": "execute_result"
    }
   ],
   "source": [
    "# 상관계수와 p-value \n",
    "spst.pearsonr(df[target], df['visibility'])"
   ]
  },
  {
   "cell_type": "markdown",
   "id": "dfa0ed85",
   "metadata": {},
   "source": []
  },
  {
   "cell_type": "markdown",
   "id": "3859ef18",
   "metadata": {},
   "source": [
    "7. 오존 데이터와 따릉이 대여량간 분석"
   ]
  },
  {
   "cell_type": "code",
   "execution_count": 217,
   "id": "33f2a061",
   "metadata": {},
   "outputs": [
    {
     "data": {
      "image/png": "[encoded data removed]",
      "text/plain": [
       "<Figure size 432x288 with 1 Axes>"
      ]
     },
     "metadata": {
      "needs_background": "light"
     },
     "output_type": "display_data"
    }
   ],
   "source": [
    "#데이터 타입에 주의하여 이변량 분석을 해보세요\n",
    "sns.regplot(x='ozone', y =target, data = df)\n",
    "plt.show()"
   ]
  },
  {
   "cell_type": "code",
   "execution_count": 218,
   "id": "8c977601",
   "metadata": {},
   "outputs": [
    {
     "data": {
      "text/plain": [
       "(0.3143357943088431, 3.025523189274068e-130)"
      ]
     },
     "execution_count": 218,
     "metadata": {},
     "output_type": "execute_result"
    }
   ],
   "source": [
    "# 상관계수와 p-value \n",
    "spst.pearsonr(df[target], df['ozone'])"
   ]
  },
  {
   "cell_type": "markdown",
   "id": "7feca2c1",
   "metadata": {},
   "source": []
  },
  {
   "cell_type": "markdown",
   "id": "486db6db",
   "metadata": {},
   "source": [
    "8. 미세먼지 농도 데이터와 따릉이 대여량간 분석"
   ]
  },
  {
   "cell_type": "code",
   "execution_count": 219,
   "id": "d69657aa",
   "metadata": {},
   "outputs": [
    {
     "data": {
      "image/png": "[encoded data removed]",
      "text/plain": [
       "<Figure size 432x288 with 1 Axes>"
      ]
     },
     "metadata": {
      "needs_background": "light"
     },
     "output_type": "display_data"
    }
   ],
   "source": [
    "#데이터 타입에 주의하여 이변량 분석을 해보세요\n",
    "sns.regplot(x='PM10', y =target, data = df)\n",
    "plt.show()"
   ]
  },
  {
   "cell_type": "code",
   "execution_count": 220,
   "id": "2bb82a75",
   "metadata": {},
   "outputs": [
    {
     "data": {
      "text/plain": [
       "(0.03262773163856617, 0.01401178505403581)"
      ]
     },
     "execution_count": 220,
     "metadata": {},
     "output_type": "execute_result"
    }
   ],
   "source": [
    "# 상관계수와 p-value \n",
    "spst.pearsonr(df[target], df['PM10'])"
   ]
  },
  {
   "cell_type": "markdown",
   "id": "c22fd35d",
   "metadata": {},
   "source": []
  },
  {
   "cell_type": "markdown",
   "id": "72c0cb40",
   "metadata": {},
   "source": [
    "9. 초미세먼지 농도 데이터와 따릉이 대여량간 분석"
   ]
  },
  {
   "cell_type": "code",
   "execution_count": 221,
   "id": "6751a594",
   "metadata": {},
   "outputs": [
    {
     "data": {
      "image/png": "[encoded data removed]",
      "text/plain": [
       "<Figure size 432x288 with 1 Axes>"
      ]
     },
     "metadata": {
      "needs_background": "light"
     },
     "output_type": "display_data"
    }
   ],
   "source": [
    "#데이터 타입에 주의하여 이변량 분석을 해보세요\n",
    "sns.regplot(x='PM2.5', y =target, data = df)\n",
    "plt.show()"
   ]
  },
  {
   "cell_type": "code",
   "execution_count": 222,
   "id": "02f7b66c",
   "metadata": {
    "scrolled": true
   },
   "outputs": [
    {
     "data": {
      "text/plain": [
       "(0.0529237283818275, 6.690256718116022e-05)"
      ]
     },
     "execution_count": 222,
     "metadata": {},
     "output_type": "execute_result"
    }
   ],
   "source": [
    "# 상관계수와 p-value \n",
    "spst.pearsonr(df[target], df['PM2.5'])"
   ]
  },
  {
   "cell_type": "code",
   "execution_count": 228,
   "id": "19ed7483",
   "metadata": {},
   "outputs": [],
   "source": [
    "cor = df.corr()"
   ]
  },
  {
   "cell_type": "code",
   "execution_count": 300,
   "id": "c6ecc3a2",
   "metadata": {},
   "outputs": [
    {
     "data": {
      "image/png": "[encoded data removed]",
      "text/plain": [
       "<Figure size 720x432 with 2 Axes>"
      ]
     },
     "metadata": {
      "needs_background": "light"
     },
     "output_type": "display_data"
    }
   ],
   "source": [
    " #temp1 = df.groupby(['count'], as_index = False)['PassengerId'].count()\n",
    " #temp2 = temp1.pivot('Embarked','Pclass', 'PassengerId')\n",
    "\n",
    "plt.figure(figsize = (10,6))\n",
    "sns.heatmap(df.corr() , annot = True)\n",
    "plt.show()"
   ]
  },
  {
   "cell_type": "markdown",
   "id": "f2aac6f1",
   "metadata": {},
   "source": []
  },
  {
   "cell_type": "markdown",
   "id": "98aeed75",
   "metadata": {},
   "source": [
    "### 5. 가설 검정"
   ]
  },
  {
   "cell_type": "markdown",
   "id": "8b1f5479",
   "metadata": {},
   "source": [
    "#### <font color='green'>1. 강한 관계의 변수 (대립가설 채택)</font>"
   ]
  },
  {
   "cell_type": "markdown",
   "id": "ebfea2a3",
   "metadata": {},
   "source": [
    "hour\n",
    "/ humidity(음)"
   ]
  },
  {
   "cell_type": "markdown",
   "id": "656b4439",
   "metadata": {},
   "source": [
    "#### <font color='green'>2. 약한 관계의 변수</font>\n"
   ]
  },
  {
   "cell_type": "markdown",
   "id": "8af19768",
   "metadata": {},
   "source": [
    "ozone\n",
    "/ visibility\n",
    "/ windspeed\n",
    "/ temperature\n",
    "/ precipitation(음)"
   ]
  },
  {
   "cell_type": "markdown",
   "id": "063f4484",
   "metadata": {},
   "source": [
    "#### <font color='green'>3. 관계 없는 변수 (귀무가설 채택)</font>"
   ]
  },
  {
   "cell_type": "markdown",
   "id": "6afd4247",
   "metadata": {},
   "source": [
    "PM10\n",
    "PM2.5"
   ]
  },
  {
   "cell_type": "markdown",
   "id": "51c63e70",
   "metadata": {},
   "source": [
    "### 6. Insight 도출"
   ]
  },
  {
   "cell_type": "markdown",
   "id": "463d041a",
   "metadata": {},
   "source": [
    " 대립가설 : 1시간전 강우 여부와 따릉이 대여량 간에는 연관성이 있다.(음의 상관관계)\n",
    " \n",
    " 대립가설 : 높은 습도와 따릉이 대여량 간에는 연관성이 있다.(음의 상관관계)\n",
    " \n",
    " 대립가설 : 오존수치와 따릉이 대여량 간에는 연관성이 있다.\n",
    " \n",
    " 대립가설 : 풍속과 따릉이 대여량 간에는 연관성이 있다.\n",
    " \n",
    " 대립가설 : 높은 온도와 따릉이 대여량 간에는 연관성이 있다.\n",
    " \n",
    " 귀무가설: 초미세먼지 수치와 따릉이간에는 연관성이 없다."
   ]
  },
  {
   "cell_type": "code",
   "execution_count": null,
   "id": "deb362b6",
   "metadata": {},
   "outputs": [],
   "source": []
  }
 ],
 "metadata": {
  "colab": {
   "name": "1. 데이터 불러오기 및 분석(EDA).ipynb",
   "provenance": []
  },
  "kernelspec": {
   "display_name": "Python 3",
   "language": "python",
   "name": "python3"
  },
  "language_info": {
   "codemirror_mode": {
    "name": "ipython",
    "version": 3
   },
   "file_extension": ".py",
   "mimetype": "text/x-python",
   "name": "python",
   "nbconvert_exporter": "python",
   "pygments_lexer": "ipython3",
   "version": "3.8.8"
  },
  "vscode": {
   "interpreter": {
    "hash": "e42634819b8c191a5d07eaf23810ff32516dd8d3875f28ec3e488928fbd3c187"
   }
  }
 },
 "nbformat": 4,
 "nbformat_minor": 5
}
