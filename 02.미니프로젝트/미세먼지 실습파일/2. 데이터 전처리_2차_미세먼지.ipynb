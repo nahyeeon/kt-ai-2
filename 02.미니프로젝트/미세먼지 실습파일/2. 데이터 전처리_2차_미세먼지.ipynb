{
 "cells": [
  {
   "cell_type": "code",
   "execution_count": null,
   "id": "acbf2ec6-9611-4d91-a616-ec794ed20105",
   "metadata": {},
   "outputs": [],
   "source": [
    "airs = [\n",
    "    'air_interpolate_',\n",
    "    'air_knn_imputer_',\n",
    "    'air_interative_imputer_',\n",
    "]\n",
    "weathers = [\n",
    "    'weather_interpolate',\n",
    "    'weather_knn_imputer',\n",
    "    'weather_interative_imputer',\n",
    "]\n",
    "dfs = {}\n",
    "for i in range(3):\n",
    "    for j in range(3):\n",
    "        df = pd.read_csv(airs[i] + weathers[j] + '.csv')\n",
    "        dfs[airs[i] + weathers[j]] = df\n"
   ]
  },
  {
   "cell_type": "markdown",
   "id": "55add5c1",
   "metadata": {},
   "source": [
    "# 안녕하세요^^ \n",
    "# AIVLE 미니 프로젝트에 오신 여러분을 환영합니다.\n",
    "* 본 과정에서는 실제 사례와 데이터를 기반으로 문제를 해결하는 전체 과정을 자기 주도형 실습으로 진행해볼 예정입니다.\n",
    "* 앞선 교육과정을 정리하는 마음과 지금까지 배운 내용을 바탕으로 문제 해결을 해볼게요!\n",
    "* 미니 프로젝트를 통한 문제 해결 과정 'A에서 Z까지', 지금부터 시작합니다!"
   ]
  },
  {
   "cell_type": "markdown",
   "id": "84008ade",
   "metadata": {},
   "source": [
    "---"
   ]
  },
  {
   "cell_type": "code",
   "execution_count": 1,
   "id": "1cc7de55",
   "metadata": {
    "collapsed": true,
    "jupyter": {
     "outputs_hidden": true
    },
    "tags": []
   },
   "outputs": [
    {
     "name": "stdout",
     "output_type": "stream",
     "text": [
      "Requirement already satisfied: pandas in c:\\users\\user\\anaconda3\\lib\\site-packages (1.2.4)\n",
      "Requirement already satisfied: seaborn in c:\\users\\user\\anaconda3\\lib\\site-packages (0.11.2)\n",
      "Requirement already satisfied: python-dateutil>=2.7.3 in c:\\users\\user\\anaconda3\\lib\\site-packages (from pandas) (2.8.1)\n",
      "Requirement already satisfied: numpy>=1.16.5 in c:\\users\\user\\anaconda3\\lib\\site-packages (from pandas) (1.20.1)\n",
      "Requirement already satisfied: pytz>=2017.3 in c:\\users\\user\\anaconda3\\lib\\site-packages (from pandas) (2021.1)\n",
      "Requirement already satisfied: six>=1.5 in c:\\users\\user\\anaconda3\\lib\\site-packages (from python-dateutil>=2.7.3->pandas) (1.15.0)\n",
      "Requirement already satisfied: matplotlib>=2.2 in c:\\users\\user\\anaconda3\\lib\\site-packages (from seaborn) (3.3.4)\n",
      "Requirement already satisfied: scipy>=1.0 in c:\\users\\user\\anaconda3\\lib\\site-packages (from seaborn) (1.6.2)\n",
      "Requirement already satisfied: pyparsing!=2.0.4,!=2.1.2,!=2.1.6,>=2.0.3 in c:\\users\\user\\anaconda3\\lib\\site-packages (from matplotlib>=2.2->seaborn) (2.4.7)\n",
      "Requirement already satisfied: pillow>=6.2.0 in c:\\users\\user\\anaconda3\\lib\\site-packages (from matplotlib>=2.2->seaborn) (8.2.0)\n",
      "Requirement already satisfied: kiwisolver>=1.0.1 in c:\\users\\user\\anaconda3\\lib\\site-packages (from matplotlib>=2.2->seaborn) (1.3.1)\n",
      "Requirement already satisfied: cycler>=0.10 in c:\\users\\user\\anaconda3\\lib\\site-packages (from matplotlib>=2.2->seaborn) (0.10.0)\n"
     ]
    }
   ],
   "source": [
    "# 필요 라이브러리부터 설치할께요.\n",
    "!pip install pandas seaborn"
   ]
  },
  {
   "cell_type": "markdown",
   "id": "74c09d16",
   "metadata": {},
   "source": [
    "---"
   ]
  },
  {
   "cell_type": "markdown",
   "id": "bright-evolution",
   "metadata": {},
   "source": [
    "# (실습준비) 데이터 불러오기부터"
   ]
  },
  {
   "cell_type": "code",
   "execution_count": 247,
   "id": "innocent-token",
   "metadata": {},
   "outputs": [],
   "source": [
    "import pandas as pd\n",
    "\n",
    "# 학습 데이터 로딩\n",
    "air_21 = pd.read_csv(\"air_2021.csv\", sep=',', index_col = 0, encoding = 'utf-8' )\n",
    "air_22 = pd.read_csv(\"air_2022.csv\", sep=',', index_col = 0, encoding = 'utf-8' )\n",
    "weather_21 = pd.read_csv(\"weather_2021.csv\", sep = ',', encoding='cp949')\n",
    "weather_22 = pd.read_csv(\"weather_2022.csv\", sep = ',', encoding='cp949')"
   ]
  },
  {
   "cell_type": "markdown",
   "id": "polished-myrtle",
   "metadata": {},
   "source": [
    "---"
   ]
  },
  {
   "cell_type": "code",
   "execution_count": null,
   "id": "9a8a6ecc-26ff-4a88-84ba-1e34bbb0856b",
   "metadata": {},
   "outputs": [],
   "source": [
    "# 참조\n",
    "# NaN 조치 -> 2. KNN imputer 사용 (어제 프로젝트에서 성능이 좋았음)\n",
    "from sklearn.impute import KNNImputer\n",
    "knn_imputer = KNNImputer()\n",
    "weather_21_22_knn_imputer = knn_imputer.fit_transform(weather_21_22)\n",
    "weather_21_22_knn_imputer = pd.DataFrame(weather_21_22_knn_imputer, \n",
    "            columns=['기온(°C)', '강수량(mm)', '풍속(m/s)', '풍향(16방위)', '습도(%)', '증기압(hPa)',\n",
    "           '이슬점온도(°C)', '현지기압(hPa)', '해면기압(hPa)', '일조(hr)', '일사(MJ/m2)', '적설(cm)',\n",
    "           '3시간신적설(cm)', '전운량(10분위)', '중하층운량(10분위)', '최저운고(100m )', '시정(10m)',\n",
    "           '지면온도(°C)', '5cm 지중온도(°C)', '10cm 지중온도(°C)', '20cm 지중온도(°C)',\n",
    "           '30cm 지중온도(°C)', 'Year', 'Month', 'Day', 'Hour', 'index'])"
   ]
  },
  {
   "cell_type": "markdown",
   "id": "palestinian-catalog",
   "metadata": {},
   "source": [
    "# 1. 이상치/결측치 처리"
   ]
  },
  {
   "cell_type": "markdown",
   "id": "sublime-extreme",
   "metadata": {},
   "source": [
    "#### [실습문제1] 미세먼지 데이터 결측치 처리\n",
    "* 미세먼지 데이터의 결측치를 확인하고 결측치가 존재한다면 처리해주세요.\n",
    "\n",
    "\n",
    "* 앞서 데이터 불러오기 및 분석 단계에서 확인한 불필요한 변수에 대해 제거 해 주세요. "
   ]
  },
  {
   "cell_type": "code",
   "execution_count": 248,
   "id": "banner-nitrogen",
   "metadata": {
    "collapsed": true,
    "jupyter": {
     "outputs_hidden": true
    },
    "tags": []
   },
   "outputs": [
    {
     "data": {
      "text/plain": [
       "지역         0\n",
       "망          0\n",
       "측정소코드      0\n",
       "측정소명       0\n",
       "측정일시       0\n",
       "SO2      112\n",
       "CO        80\n",
       "O3        97\n",
       "NO2       80\n",
       "PM10     105\n",
       "PM25      97\n",
       "주소         0\n",
       "dtype: int64"
      ]
     },
     "execution_count": 248,
     "metadata": {},
     "output_type": "execute_result"
    }
   ],
   "source": [
    "# 아래에 실습코드를 작성하고 결과를 확인합니다.\n",
    "air_21.isna().sum()"
   ]
  },
  {
   "cell_type": "code",
   "execution_count": 249,
   "id": "d3093f10-3d1a-449a-a6cf-1598e06bd119",
   "metadata": {},
   "outputs": [],
   "source": [
    "drop_list = ['측정일시','지역','망','측정소코드','측정소명','주소']\n",
    "air_201 = air_21.drop(drop_list,axis=1)\n",
    "air_202 = air_22.drop(drop_list,axis=1)"
   ]
  },
  {
   "cell_type": "code",
   "execution_count": 250,
   "id": "00eed6bc-dc90-466f-8e9a-ed14413292e4",
   "metadata": {
    "collapsed": true,
    "jupyter": {
     "outputs_hidden": true
    },
    "tags": []
   },
   "outputs": [
    {
     "name": "stdout",
     "output_type": "stream",
     "text": [
      "<class 'pandas.core.frame.DataFrame'>\n",
      "Int64Index: 2160 entries, 0 to 2159\n",
      "Data columns (total 6 columns):\n",
      " #   Column  Non-Null Count  Dtype  \n",
      "---  ------  --------------  -----  \n",
      " 0   SO2     2139 non-null   float64\n",
      " 1   CO      2139 non-null   float64\n",
      " 2   O3      2139 non-null   float64\n",
      " 3   NO2     2139 non-null   float64\n",
      " 4   PM10    2122 non-null   float64\n",
      " 5   PM25    2135 non-null   float64\n",
      "dtypes: float64(6)\n",
      "memory usage: 118.1 KB\n"
     ]
    }
   ],
   "source": [
    "air_202.info()"
   ]
  },
  {
   "cell_type": "code",
   "execution_count": 251,
   "id": "3f736468-ada4-4311-98d6-6b79ed3e31ba",
   "metadata": {},
   "outputs": [],
   "source": [
    "from sklearn.impute import KNNImputer\n",
    "from sklearn.impute import SimpleImputer"
   ]
  },
  {
   "cell_type": "code",
   "execution_count": 252,
   "id": "9185521a-1947-4992-b85a-c8e5a72411be",
   "metadata": {},
   "outputs": [
    {
     "data": {
      "text/plain": [
       "KNNImputer()"
      ]
     },
     "execution_count": 252,
     "metadata": {},
     "output_type": "execute_result"
    }
   ],
   "source": [
    "imputer = KNNImputer()\n",
    "imputer.fit(air_201)"
   ]
  },
  {
   "cell_type": "code",
   "execution_count": 253,
   "id": "a484ad45-e0ca-42f1-afd4-1af489ffc018",
   "metadata": {},
   "outputs": [],
   "source": [
    "x = imputer.transform(air_201)"
   ]
  },
  {
   "cell_type": "code",
   "execution_count": 254,
   "id": "42897612-cfdf-48ba-84bb-537d0a0c223d",
   "metadata": {},
   "outputs": [],
   "source": [
    "air_201 = pd.DataFrame(x, columns=air_201.columns, index=list(air_201.index.values))"
   ]
  },
  {
   "cell_type": "code",
   "execution_count": 255,
   "id": "bc59760b-a307-4dd7-a97c-4210f6e85465",
   "metadata": {},
   "outputs": [],
   "source": [
    "imputer = KNNImputer()\n",
    "imputer.fit(air_202)\n",
    "x = imputer.transform(air_202)\n",
    "air_202 = pd.DataFrame(x, columns=air_202.columns, index=list(air_202.index.values))"
   ]
  },
  {
   "cell_type": "code",
   "execution_count": 256,
   "id": "83597221-915d-4544-9502-0f84b9095b0a",
   "metadata": {
    "tags": []
   },
   "outputs": [
    {
     "name": "stdout",
     "output_type": "stream",
     "text": [
      "SO2     0\n",
      "CO      0\n",
      "O3      0\n",
      "NO2     0\n",
      "PM10    0\n",
      "PM25    0\n",
      "dtype: int64\n",
      "SO2     0\n",
      "CO      0\n",
      "O3      0\n",
      "NO2     0\n",
      "PM10    0\n",
      "PM25    0\n",
      "dtype: int64\n"
     ]
    }
   ],
   "source": [
    "print(air_201.isna().sum())\n",
    "print(air_202.isna().sum())"
   ]
  },
  {
   "cell_type": "code",
   "execution_count": null,
   "id": "840cd7ab-2522-47ee-9f10-4d581419041e",
   "metadata": {},
   "outputs": [],
   "source": []
  },
  {
   "cell_type": "markdown",
   "id": "89892756",
   "metadata": {},
   "source": [
    "#### [실습문제2] 날씨 데이터 결측치 처리\n",
    "* 날씨 데이터의 결측치를 확인하고 결측치가 존재한다면 처리해주세요.\n",
    "\n",
    "* '강우량'을 어떻게 해야할까요?"
   ]
  },
  {
   "cell_type": "code",
   "execution_count": 257,
   "id": "58f3c000-95ba-49eb-b24d-39caa712e1c2",
   "metadata": {},
   "outputs": [],
   "source": [
    "drop_list=['일시','운형(운형약어)','지점','지점명','기온 QC플래그','풍속 QC플래그','풍향 QC플래그','습도 QC플래그','현지기압 QC플래그','해면기압 QC플래그','해면기압 QC플래그','지면상태(지면상태코드)','지면온도 QC플래그' ]\n",
    "weather_201 = weather_21.drop(drop_list,axis=1)\n",
    "weather_202 = weather_22.drop(drop_list,axis=1)"
   ]
  },
  {
   "cell_type": "code",
   "execution_count": 258,
   "id": "be624555-8ae9-441a-ad71-f3372ceefc32",
   "metadata": {
    "collapsed": true,
    "jupyter": {
     "outputs_hidden": true
    },
    "tags": []
   },
   "outputs": [
    {
     "name": "stdout",
     "output_type": "stream",
     "text": [
      "<class 'pandas.core.frame.DataFrame'>\n",
      "RangeIndex: 8759 entries, 0 to 8758\n",
      "Data columns (total 38 columns):\n",
      " #   Column         Non-Null Count  Dtype  \n",
      "---  ------         --------------  -----  \n",
      " 0   지점             8759 non-null   int64  \n",
      " 1   지점명            8759 non-null   object \n",
      " 2   일시             8759 non-null   object \n",
      " 3   기온(°C)         8759 non-null   float64\n",
      " 4   기온 QC플래그       0 non-null      float64\n",
      " 5   강수량(mm)        949 non-null    float64\n",
      " 6   강수량 QC플래그      1763 non-null   float64\n",
      " 7   풍속(m/s)        8757 non-null   float64\n",
      " 8   풍속 QC플래그       2 non-null      float64\n",
      " 9   풍향(16방위)       8757 non-null   float64\n",
      " 10  풍향 QC플래그       2 non-null      float64\n",
      " 11  습도(%)          8759 non-null   int64  \n",
      " 12  습도 QC플래그       0 non-null      float64\n",
      " 13  증기압(hPa)       8759 non-null   float64\n",
      " 14  이슬점온도(°C)      8759 non-null   float64\n",
      " 15  현지기압(hPa)      8759 non-null   float64\n",
      " 16  현지기압 QC플래그     0 non-null      float64\n",
      " 17  해면기압(hPa)      8759 non-null   float64\n",
      " 18  해면기압 QC플래그     0 non-null      float64\n",
      " 19  일조(hr)         4791 non-null   float64\n",
      " 20  일조 QC플래그       3968 non-null   float64\n",
      " 21  일사(MJ/m2)      4791 non-null   float64\n",
      " 22  일사 QC플래그       3968 non-null   float64\n",
      " 23  적설(cm)         379 non-null    float64\n",
      " 24  3시간신적설(cm)     29 non-null     float64\n",
      " 25  전운량(10분위)      8757 non-null   float64\n",
      " 26  중하층운량(10분위)    8759 non-null   int64  \n",
      " 27  운형(운형약어)       4947 non-null   object \n",
      " 28  최저운고(100m )    4547 non-null   float64\n",
      " 29  시정(10m)        8759 non-null   int64  \n",
      " 30  지면상태(지면상태코드)   0 non-null      float64\n",
      " 31  현상번호(국내식)      2125 non-null   float64\n",
      " 32  지면온도(°C)       8754 non-null   float64\n",
      " 33  지면온도 QC플래그     24 non-null     float64\n",
      " 34  5cm 지중온도(°C)   8754 non-null   float64\n",
      " 35  10cm 지중온도(°C)  8754 non-null   float64\n",
      " 36  20cm 지중온도(°C)  8754 non-null   float64\n",
      " 37  30cm 지중온도(°C)  8754 non-null   float64\n",
      "dtypes: float64(31), int64(4), object(3)\n",
      "memory usage: 2.5+ MB\n"
     ]
    }
   ],
   "source": [
    "weather_21.info()"
   ]
  },
  {
   "cell_type": "code",
   "execution_count": 111,
   "id": "3553fb5f",
   "metadata": {
    "jupyter": {
     "source_hidden": true
    },
    "tags": []
   },
   "outputs": [],
   "source": [
    "# 아래에 실습코드를 작성하고 결과를 확인합니다.\n",
    "weather_202['강수량(mm)'] = weather_202['강수량(mm)'].fillna(weather_202['강수량(mm)'].median())\n",
    "weather_202['강수량 QC플래그'] = weather_202['강수량 QC플래그'].fillna(weather_202['강수량 QC플래그'].median())\n",
    "weather_202['일조(hr)'] = weather_202['일조(hr)'].fillna(weather_202['일조(hr)'].median())\n",
    "weather_202['일조 QC플래그'] = weather_202['일조 QC플래그'].fillna(weather_202['일조 QC플래그'].median())\n",
    "weather_202['일사(MJ/m2)'] = weather_202['일사(MJ/m2)'].fillna(weather_202['일사(MJ/m2)'].median())\n",
    "weather_202['일사 QC플래그'] = weather_202['일사 QC플래그'].fillna(weather_202['일사 QC플래그'].median())\n",
    "weather_202['최저운고(100m )'] = weather_202['최저운고(100m )'].fillna(weather_202['최저운고(100m )'].median())\n",
    "weather_202['현상번호(국내식)'] = weather_202['현상번호(국내식)'].fillna(weather_202['현상번호(국내식)'].median())"
   ]
  },
  {
   "cell_type": "code",
   "execution_count": 112,
   "id": "7c281e21-5d37-49fb-a893-85bc2f286566",
   "metadata": {
    "jupyter": {
     "source_hidden": true
    },
    "tags": []
   },
   "outputs": [],
   "source": [
    "weather_202['풍속(m/s)'] = weather_202['풍속(m/s)'].fillna(weather_202['풍속(m/s)'].median())\n",
    "weather_202['풍향(16방위)'] = weather_202['풍향(16방위)'].fillna(weather_202['풍향(16방위)'].median())\n",
    "weather_202['전운량(10분위)'] = weather_202['전운량(10분위)'].fillna(weather_202['전운량(10분위)'].median())\n",
    "weather_202['지면온도(°C)'] = weather_202['지면온도(°C)'].fillna(weather_202['지면온도(°C)'].median())\n",
    "weather_202['5cm 지중온도(°C)'] = weather_202['5cm 지중온도(°C)'].fillna(weather_202['5cm 지중온도(°C)'].median())\n",
    "weather_202['10cm 지중온도(°C)'] = weather_202['10cm 지중온도(°C)'].fillna(weather_202['10cm 지중온도(°C)'].median())\n",
    "weather_202['20cm 지중온도(°C)'] = weather_202['20cm 지중온도(°C)'].fillna(weather_202['20cm 지중온도(°C)'].median())\n",
    "weather_202['30cm 지중온도(°C)'] = weather_202['30cm 지중온도(°C)'].fillna(weather_202['30cm 지중온도(°C)'].median())"
   ]
  },
  {
   "cell_type": "code",
   "execution_count": 260,
   "id": "9ee15d37-2770-4df5-ab98-f52526c78e60",
   "metadata": {},
   "outputs": [],
   "source": [
    "weather_201['강수량(mm)'] = weather_201['강수량(mm)'].fillna(0)\n",
    "weather_202['강수량(mm)'] = weather_202['강수량(mm)'].fillna(0)"
   ]
  },
  {
   "cell_type": "code",
   "execution_count": 261,
   "id": "d32edff3-ca37-4bbe-b2e6-f4e0895951ad",
   "metadata": {},
   "outputs": [],
   "source": [
    "imputer = KNNImputer()\n",
    "imputer.fit(weather_201)\n",
    "x = imputer.transform(weather_201)\n",
    "weather_201 = pd.DataFrame(x, columns=weather_201.columns, index=list(weather_201.index.values))"
   ]
  },
  {
   "cell_type": "code",
   "execution_count": 262,
   "id": "48f0feea-f5be-4b38-b8ea-08e589b939ca",
   "metadata": {},
   "outputs": [],
   "source": [
    "imputer = KNNImputer()\n",
    "imputer.fit(weather_202)\n",
    "x = imputer.transform(weather_202)\n",
    "weather_202 = pd.DataFrame(x, columns=weather_202.columns, index=list(weather_202.index.values))"
   ]
  },
  {
   "cell_type": "code",
   "execution_count": 263,
   "id": "23e6587d-6942-409c-8f90-2b14c68f5f86",
   "metadata": {
    "collapsed": true,
    "jupyter": {
     "outputs_hidden": true
    },
    "tags": []
   },
   "outputs": [
    {
     "data": {
      "text/plain": [
       "기온(°C)           0\n",
       "강수량(mm)          0\n",
       "강수량 QC플래그        0\n",
       "풍속(m/s)          0\n",
       "풍향(16방위)         0\n",
       "습도(%)            0\n",
       "증기압(hPa)         0\n",
       "이슬점온도(°C)        0\n",
       "현지기압(hPa)        0\n",
       "해면기압(hPa)        0\n",
       "일조(hr)           0\n",
       "일조 QC플래그         0\n",
       "일사(MJ/m2)        0\n",
       "일사 QC플래그         0\n",
       "적설(cm)           0\n",
       "3시간신적설(cm)       0\n",
       "전운량(10분위)        0\n",
       "중하층운량(10분위)      0\n",
       "최저운고(100m )      0\n",
       "시정(10m)          0\n",
       "현상번호(국내식)        0\n",
       "지면온도(°C)         0\n",
       "5cm 지중온도(°C)     0\n",
       "10cm 지중온도(°C)    0\n",
       "20cm 지중온도(°C)    0\n",
       "30cm 지중온도(°C)    0\n",
       "dtype: int64"
      ]
     },
     "execution_count": 263,
     "metadata": {},
     "output_type": "execute_result"
    }
   ],
   "source": [
    "weather_202.isna().sum()"
   ]
  },
  {
   "cell_type": "markdown",
   "id": "c260e7e5",
   "metadata": {},
   "source": [
    "#### [실습문제3] air_21, air_22 의 '측정일시'를 활용하여 'time'변수 생성하기\n",
    "\n",
    "\n",
    "* air_21, air_22 의 '측정일시'를 활용하여 'time'변수 생성\n",
    "\n",
    "\n",
    "* time 변수를 datatime으로 데이터 타입 변경하기"
   ]
  },
  {
   "cell_type": "code",
   "execution_count": 264,
   "id": "192bae9a-2b4c-4538-a646-6cdd8a5d241a",
   "metadata": {
    "tags": []
   },
   "outputs": [],
   "source": [
    "# air_202['time']= air_22['측정일시'].astype('str')\n",
    "air_201['time']= air_21['측정일시']-1\n",
    "air_202['time']= air_22['측정일시']-1"
   ]
  },
  {
   "cell_type": "code",
   "execution_count": 201,
   "id": "3e984581-cc19-419c-af24-aaf646d09ee0",
   "metadata": {
    "collapsed": true,
    "jupyter": {
     "outputs_hidden": true
    },
    "tags": []
   },
   "outputs": [
    {
     "data": {
      "text/html": [
       "<div>\n",
       "<style scoped>\n",
       "    .dataframe tbody tr th:only-of-type {\n",
       "        vertical-align: middle;\n",
       "    }\n",
       "\n",
       "    .dataframe tbody tr th {\n",
       "        vertical-align: top;\n",
       "    }\n",
       "\n",
       "    .dataframe thead th {\n",
       "        text-align: right;\n",
       "    }\n",
       "</style>\n",
       "<table border=\"1\" class=\"dataframe\">\n",
       "  <thead>\n",
       "    <tr style=\"text-align: right;\">\n",
       "      <th></th>\n",
       "      <th>time</th>\n",
       "    </tr>\n",
       "  </thead>\n",
       "  <tbody>\n",
       "    <tr>\n",
       "      <th>0</th>\n",
       "      <td>2021100100</td>\n",
       "    </tr>\n",
       "    <tr>\n",
       "      <th>1</th>\n",
       "      <td>2021100101</td>\n",
       "    </tr>\n",
       "    <tr>\n",
       "      <th>2</th>\n",
       "      <td>2021100102</td>\n",
       "    </tr>\n",
       "    <tr>\n",
       "      <th>3</th>\n",
       "      <td>2021100103</td>\n",
       "    </tr>\n",
       "    <tr>\n",
       "      <th>4</th>\n",
       "      <td>2021100104</td>\n",
       "    </tr>\n",
       "    <tr>\n",
       "      <th>...</th>\n",
       "      <td>...</td>\n",
       "    </tr>\n",
       "    <tr>\n",
       "      <th>8755</th>\n",
       "      <td>2021093019</td>\n",
       "    </tr>\n",
       "    <tr>\n",
       "      <th>8756</th>\n",
       "      <td>2021093020</td>\n",
       "    </tr>\n",
       "    <tr>\n",
       "      <th>8757</th>\n",
       "      <td>2021093021</td>\n",
       "    </tr>\n",
       "    <tr>\n",
       "      <th>8758</th>\n",
       "      <td>2021093022</td>\n",
       "    </tr>\n",
       "    <tr>\n",
       "      <th>8759</th>\n",
       "      <td>2021093023</td>\n",
       "    </tr>\n",
       "  </tbody>\n",
       "</table>\n",
       "<p>8760 rows × 1 columns</p>\n",
       "</div>"
      ],
      "text/plain": [
       "            time\n",
       "0     2021100100\n",
       "1     2021100101\n",
       "2     2021100102\n",
       "3     2021100103\n",
       "4     2021100104\n",
       "...          ...\n",
       "8755  2021093019\n",
       "8756  2021093020\n",
       "8757  2021093021\n",
       "8758  2021093022\n",
       "8759  2021093023\n",
       "\n",
       "[8760 rows x 1 columns]"
      ]
     },
     "execution_count": 201,
     "metadata": {},
     "output_type": "execute_result"
    }
   ],
   "source": [
    "air_201[['time']]"
   ]
  },
  {
   "cell_type": "code",
   "execution_count": 268,
   "id": "10f875d5",
   "metadata": {
    "tags": []
   },
   "outputs": [],
   "source": [
    "# 아래에 실습코드를 작성하고 결과를 확인합니다.\n",
    "# df['dt2'] = pd.to_datetime(df['start_date_time'], format='%Y-%m-%d %H:%M', errors='raise')\n",
    "\n",
    "air_201['time'] = pd.to_datetime(air_201['time'],format='%Y%m%d%H')\n",
    "air_202['time'] = pd.to_datetime(air_202['time'],format='%Y%m%d%H')"
   ]
  },
  {
   "cell_type": "code",
   "execution_count": 266,
   "id": "7769aa50-28f0-4782-81c2-742b29c53289",
   "metadata": {},
   "outputs": [
    {
     "data": {
      "text/html": [
       "<div>\n",
       "<style scoped>\n",
       "    .dataframe tbody tr th:only-of-type {\n",
       "        vertical-align: middle;\n",
       "    }\n",
       "\n",
       "    .dataframe tbody tr th {\n",
       "        vertical-align: top;\n",
       "    }\n",
       "\n",
       "    .dataframe thead th {\n",
       "        text-align: right;\n",
       "    }\n",
       "</style>\n",
       "<table border=\"1\" class=\"dataframe\">\n",
       "  <thead>\n",
       "    <tr style=\"text-align: right;\">\n",
       "      <th></th>\n",
       "      <th>time</th>\n",
       "    </tr>\n",
       "  </thead>\n",
       "  <tbody>\n",
       "    <tr>\n",
       "      <th>8755</th>\n",
       "      <td>2021-09-30 19:00:00</td>\n",
       "    </tr>\n",
       "    <tr>\n",
       "      <th>8756</th>\n",
       "      <td>2021-09-30 20:00:00</td>\n",
       "    </tr>\n",
       "    <tr>\n",
       "      <th>8757</th>\n",
       "      <td>2021-09-30 21:00:00</td>\n",
       "    </tr>\n",
       "    <tr>\n",
       "      <th>8758</th>\n",
       "      <td>2021-09-30 22:00:00</td>\n",
       "    </tr>\n",
       "    <tr>\n",
       "      <th>8759</th>\n",
       "      <td>2021-09-30 23:00:00</td>\n",
       "    </tr>\n",
       "  </tbody>\n",
       "</table>\n",
       "</div>"
      ],
      "text/plain": [
       "                    time\n",
       "8755 2021-09-30 19:00:00\n",
       "8756 2021-09-30 20:00:00\n",
       "8757 2021-09-30 21:00:00\n",
       "8758 2021-09-30 22:00:00\n",
       "8759 2021-09-30 23:00:00"
      ]
     },
     "execution_count": 266,
     "metadata": {},
     "output_type": "execute_result"
    }
   ],
   "source": [
    "air_21[['time']].tail()"
   ]
  },
  {
   "cell_type": "code",
   "execution_count": 269,
   "id": "7b10f30b-d8c2-477e-b80e-faa0af44315b",
   "metadata": {
    "tags": []
   },
   "outputs": [
    {
     "data": {
      "text/html": [
       "<div>\n",
       "<style scoped>\n",
       "    .dataframe tbody tr th:only-of-type {\n",
       "        vertical-align: middle;\n",
       "    }\n",
       "\n",
       "    .dataframe tbody tr th {\n",
       "        vertical-align: top;\n",
       "    }\n",
       "\n",
       "    .dataframe thead th {\n",
       "        text-align: right;\n",
       "    }\n",
       "</style>\n",
       "<table border=\"1\" class=\"dataframe\">\n",
       "  <thead>\n",
       "    <tr style=\"text-align: right;\">\n",
       "      <th></th>\n",
       "      <th>SO2</th>\n",
       "      <th>CO</th>\n",
       "      <th>O3</th>\n",
       "      <th>NO2</th>\n",
       "      <th>PM10</th>\n",
       "      <th>PM25</th>\n",
       "      <th>time</th>\n",
       "    </tr>\n",
       "  </thead>\n",
       "  <tbody>\n",
       "    <tr>\n",
       "      <th>2155</th>\n",
       "      <td>0.002</td>\n",
       "      <td>0.4</td>\n",
       "      <td>0.036</td>\n",
       "      <td>0.017</td>\n",
       "      <td>11.0</td>\n",
       "      <td>8.0</td>\n",
       "      <td>2022-03-31 19:00:00</td>\n",
       "    </tr>\n",
       "    <tr>\n",
       "      <th>2156</th>\n",
       "      <td>0.002</td>\n",
       "      <td>0.4</td>\n",
       "      <td>0.032</td>\n",
       "      <td>0.018</td>\n",
       "      <td>10.0</td>\n",
       "      <td>7.0</td>\n",
       "      <td>2022-03-31 20:00:00</td>\n",
       "    </tr>\n",
       "    <tr>\n",
       "      <th>2157</th>\n",
       "      <td>0.003</td>\n",
       "      <td>0.3</td>\n",
       "      <td>0.038</td>\n",
       "      <td>0.013</td>\n",
       "      <td>11.0</td>\n",
       "      <td>5.0</td>\n",
       "      <td>2022-03-31 21:00:00</td>\n",
       "    </tr>\n",
       "    <tr>\n",
       "      <th>2158</th>\n",
       "      <td>0.003</td>\n",
       "      <td>0.3</td>\n",
       "      <td>0.036</td>\n",
       "      <td>0.015</td>\n",
       "      <td>11.0</td>\n",
       "      <td>5.0</td>\n",
       "      <td>2022-03-31 22:00:00</td>\n",
       "    </tr>\n",
       "    <tr>\n",
       "      <th>2159</th>\n",
       "      <td>0.002</td>\n",
       "      <td>0.4</td>\n",
       "      <td>0.033</td>\n",
       "      <td>0.017</td>\n",
       "      <td>9.0</td>\n",
       "      <td>5.0</td>\n",
       "      <td>2022-03-31 23:00:00</td>\n",
       "    </tr>\n",
       "  </tbody>\n",
       "</table>\n",
       "</div>"
      ],
      "text/plain": [
       "        SO2   CO     O3    NO2  PM10  PM25                time\n",
       "2155  0.002  0.4  0.036  0.017  11.0   8.0 2022-03-31 19:00:00\n",
       "2156  0.002  0.4  0.032  0.018  10.0   7.0 2022-03-31 20:00:00\n",
       "2157  0.003  0.3  0.038  0.013  11.0   5.0 2022-03-31 21:00:00\n",
       "2158  0.003  0.3  0.036  0.015  11.0   5.0 2022-03-31 22:00:00\n",
       "2159  0.002  0.4  0.033  0.017   9.0   5.0 2022-03-31 23:00:00"
      ]
     },
     "execution_count": 269,
     "metadata": {},
     "output_type": "execute_result"
    }
   ],
   "source": [
    "air_202.tail()"
   ]
  },
  {
   "cell_type": "markdown",
   "id": "romantic-johnson",
   "metadata": {},
   "source": [
    "#### [실습문제4] weather_21, weather_22 의 '일시'를 활용하여 'time'변수 생성하기\n",
    "\n",
    "\n",
    "* weather_21, weather_22 의 '측정일시'를 활용하여 'time'변수 생성\n",
    "\n",
    "\n",
    "* time 변수를 datatime으로 데이터 타입 변경하기"
   ]
  },
  {
   "cell_type": "code",
   "execution_count": 161,
   "id": "799778a0-d57a-4b4e-8d0b-40879b207f1a",
   "metadata": {},
   "outputs": [],
   "source": [
    "#weather_201['time']= weather_21['일시'].astype('str')\n",
    "#weather_202['time']= weather_22['일시'].astype('str')"
   ]
  },
  {
   "cell_type": "code",
   "execution_count": 271,
   "id": "8ee1bae8",
   "metadata": {},
   "outputs": [],
   "source": [
    "# 아래에 실습코드를 작성하고 결과를 확인합니다.\n",
    "\n",
    "weather_201['time'] = pd.to_datetime(weather_21['일시'])\n",
    "weather_202['time'] = pd.to_datetime(weather_22['일시'])"
   ]
  },
  {
   "cell_type": "code",
   "execution_count": 93,
   "id": "fbbd1640-839f-47df-ae6d-70fe9033f082",
   "metadata": {
    "collapsed": true,
    "jupyter": {
     "outputs_hidden": true
    },
    "tags": []
   },
   "outputs": [
    {
     "data": {
      "text/html": [
       "<div>\n",
       "<style scoped>\n",
       "    .dataframe tbody tr th:only-of-type {\n",
       "        vertical-align: middle;\n",
       "    }\n",
       "\n",
       "    .dataframe tbody tr th {\n",
       "        vertical-align: top;\n",
       "    }\n",
       "\n",
       "    .dataframe thead th {\n",
       "        text-align: right;\n",
       "    }\n",
       "</style>\n",
       "<table border=\"1\" class=\"dataframe\">\n",
       "  <thead>\n",
       "    <tr style=\"text-align: right;\">\n",
       "      <th></th>\n",
       "      <th>기온(°C)</th>\n",
       "      <th>강수량(mm)</th>\n",
       "      <th>강수량 QC플래그</th>\n",
       "      <th>풍속(m/s)</th>\n",
       "      <th>풍향(16방위)</th>\n",
       "      <th>습도(%)</th>\n",
       "      <th>증기압(hPa)</th>\n",
       "      <th>이슬점온도(°C)</th>\n",
       "      <th>현지기압(hPa)</th>\n",
       "      <th>해면기압(hPa)</th>\n",
       "      <th>...</th>\n",
       "      <th>중하층운량(10분위)</th>\n",
       "      <th>최저운고(100m )</th>\n",
       "      <th>시정(10m)</th>\n",
       "      <th>현상번호(국내식)</th>\n",
       "      <th>지면온도(°C)</th>\n",
       "      <th>5cm 지중온도(°C)</th>\n",
       "      <th>10cm 지중온도(°C)</th>\n",
       "      <th>20cm 지중온도(°C)</th>\n",
       "      <th>30cm 지중온도(°C)</th>\n",
       "      <th>time</th>\n",
       "    </tr>\n",
       "  </thead>\n",
       "  <tbody>\n",
       "    <tr>\n",
       "      <th>0</th>\n",
       "      <td>-8.7</td>\n",
       "      <td>0.06</td>\n",
       "      <td>9.0</td>\n",
       "      <td>2.4</td>\n",
       "      <td>270.0</td>\n",
       "      <td>68.0</td>\n",
       "      <td>2.2</td>\n",
       "      <td>-13.5</td>\n",
       "      <td>1016.4</td>\n",
       "      <td>1027.7</td>\n",
       "      <td>...</td>\n",
       "      <td>0.0</td>\n",
       "      <td>12.8</td>\n",
       "      <td>2000.0</td>\n",
       "      <td>19.8</td>\n",
       "      <td>-6.9</td>\n",
       "      <td>-1.0</td>\n",
       "      <td>-0.8</td>\n",
       "      <td>0.3</td>\n",
       "      <td>1.6</td>\n",
       "      <td>2021010101</td>\n",
       "    </tr>\n",
       "    <tr>\n",
       "      <th>1</th>\n",
       "      <td>-9.1</td>\n",
       "      <td>0.06</td>\n",
       "      <td>9.0</td>\n",
       "      <td>1.6</td>\n",
       "      <td>270.0</td>\n",
       "      <td>69.0</td>\n",
       "      <td>2.1</td>\n",
       "      <td>-13.7</td>\n",
       "      <td>1016.2</td>\n",
       "      <td>1027.5</td>\n",
       "      <td>...</td>\n",
       "      <td>0.0</td>\n",
       "      <td>12.8</td>\n",
       "      <td>2000.0</td>\n",
       "      <td>12.4</td>\n",
       "      <td>-7.1</td>\n",
       "      <td>-1.1</td>\n",
       "      <td>-0.8</td>\n",
       "      <td>0.3</td>\n",
       "      <td>1.6</td>\n",
       "      <td>2021010102</td>\n",
       "    </tr>\n",
       "    <tr>\n",
       "      <th>2</th>\n",
       "      <td>-9.3</td>\n",
       "      <td>0.06</td>\n",
       "      <td>9.0</td>\n",
       "      <td>1.1</td>\n",
       "      <td>250.0</td>\n",
       "      <td>70.0</td>\n",
       "      <td>2.1</td>\n",
       "      <td>-13.7</td>\n",
       "      <td>1016.8</td>\n",
       "      <td>1028.1</td>\n",
       "      <td>...</td>\n",
       "      <td>0.0</td>\n",
       "      <td>15.2</td>\n",
       "      <td>2000.0</td>\n",
       "      <td>12.4</td>\n",
       "      <td>-7.3</td>\n",
       "      <td>-1.2</td>\n",
       "      <td>-0.9</td>\n",
       "      <td>0.3</td>\n",
       "      <td>1.6</td>\n",
       "      <td>2021010103</td>\n",
       "    </tr>\n",
       "    <tr>\n",
       "      <th>3</th>\n",
       "      <td>-9.3</td>\n",
       "      <td>0.14</td>\n",
       "      <td>9.0</td>\n",
       "      <td>0.3</td>\n",
       "      <td>0.0</td>\n",
       "      <td>71.0</td>\n",
       "      <td>2.2</td>\n",
       "      <td>-13.5</td>\n",
       "      <td>1016.2</td>\n",
       "      <td>1027.5</td>\n",
       "      <td>...</td>\n",
       "      <td>0.0</td>\n",
       "      <td>21.8</td>\n",
       "      <td>2000.0</td>\n",
       "      <td>391.8</td>\n",
       "      <td>-7.5</td>\n",
       "      <td>-1.3</td>\n",
       "      <td>-1.0</td>\n",
       "      <td>0.2</td>\n",
       "      <td>1.5</td>\n",
       "      <td>2021010104</td>\n",
       "    </tr>\n",
       "    <tr>\n",
       "      <th>4</th>\n",
       "      <td>-9.7</td>\n",
       "      <td>0.06</td>\n",
       "      <td>9.0</td>\n",
       "      <td>1.9</td>\n",
       "      <td>20.0</td>\n",
       "      <td>72.0</td>\n",
       "      <td>2.1</td>\n",
       "      <td>-13.8</td>\n",
       "      <td>1015.6</td>\n",
       "      <td>1026.9</td>\n",
       "      <td>...</td>\n",
       "      <td>0.0</td>\n",
       "      <td>14.6</td>\n",
       "      <td>2000.0</td>\n",
       "      <td>10.8</td>\n",
       "      <td>-7.6</td>\n",
       "      <td>-1.3</td>\n",
       "      <td>-1.0</td>\n",
       "      <td>0.2</td>\n",
       "      <td>1.5</td>\n",
       "      <td>2021010105</td>\n",
       "    </tr>\n",
       "    <tr>\n",
       "      <th>...</th>\n",
       "      <td>...</td>\n",
       "      <td>...</td>\n",
       "      <td>...</td>\n",
       "      <td>...</td>\n",
       "      <td>...</td>\n",
       "      <td>...</td>\n",
       "      <td>...</td>\n",
       "      <td>...</td>\n",
       "      <td>...</td>\n",
       "      <td>...</td>\n",
       "      <td>...</td>\n",
       "      <td>...</td>\n",
       "      <td>...</td>\n",
       "      <td>...</td>\n",
       "      <td>...</td>\n",
       "      <td>...</td>\n",
       "      <td>...</td>\n",
       "      <td>...</td>\n",
       "      <td>...</td>\n",
       "      <td>...</td>\n",
       "      <td>...</td>\n",
       "    </tr>\n",
       "    <tr>\n",
       "      <th>8755</th>\n",
       "      <td>-6.3</td>\n",
       "      <td>0.00</td>\n",
       "      <td>9.0</td>\n",
       "      <td>4.1</td>\n",
       "      <td>320.0</td>\n",
       "      <td>35.0</td>\n",
       "      <td>1.3</td>\n",
       "      <td>-19.2</td>\n",
       "      <td>1021.2</td>\n",
       "      <td>1032.4</td>\n",
       "      <td>...</td>\n",
       "      <td>0.0</td>\n",
       "      <td>36.2</td>\n",
       "      <td>2000.0</td>\n",
       "      <td>12.4</td>\n",
       "      <td>-5.3</td>\n",
       "      <td>-0.6</td>\n",
       "      <td>-0.8</td>\n",
       "      <td>-0.1</td>\n",
       "      <td>1.0</td>\n",
       "      <td>2021123120</td>\n",
       "    </tr>\n",
       "    <tr>\n",
       "      <th>8756</th>\n",
       "      <td>-6.7</td>\n",
       "      <td>0.00</td>\n",
       "      <td>9.0</td>\n",
       "      <td>4.8</td>\n",
       "      <td>320.0</td>\n",
       "      <td>36.0</td>\n",
       "      <td>1.3</td>\n",
       "      <td>-19.3</td>\n",
       "      <td>1021.2</td>\n",
       "      <td>1032.4</td>\n",
       "      <td>...</td>\n",
       "      <td>0.0</td>\n",
       "      <td>25.8</td>\n",
       "      <td>2000.0</td>\n",
       "      <td>12.4</td>\n",
       "      <td>-5.7</td>\n",
       "      <td>-0.7</td>\n",
       "      <td>-0.8</td>\n",
       "      <td>-0.1</td>\n",
       "      <td>1.0</td>\n",
       "      <td>2021123121</td>\n",
       "    </tr>\n",
       "    <tr>\n",
       "      <th>8757</th>\n",
       "      <td>-7.5</td>\n",
       "      <td>0.00</td>\n",
       "      <td>9.0</td>\n",
       "      <td>3.0</td>\n",
       "      <td>320.0</td>\n",
       "      <td>37.0</td>\n",
       "      <td>1.3</td>\n",
       "      <td>-19.7</td>\n",
       "      <td>1021.8</td>\n",
       "      <td>1033.1</td>\n",
       "      <td>...</td>\n",
       "      <td>0.0</td>\n",
       "      <td>25.8</td>\n",
       "      <td>2000.0</td>\n",
       "      <td>12.4</td>\n",
       "      <td>-6.2</td>\n",
       "      <td>-0.8</td>\n",
       "      <td>-0.9</td>\n",
       "      <td>-0.2</td>\n",
       "      <td>1.0</td>\n",
       "      <td>2021123122</td>\n",
       "    </tr>\n",
       "    <tr>\n",
       "      <th>8758</th>\n",
       "      <td>-7.7</td>\n",
       "      <td>0.00</td>\n",
       "      <td>9.0</td>\n",
       "      <td>2.9</td>\n",
       "      <td>320.0</td>\n",
       "      <td>38.0</td>\n",
       "      <td>1.3</td>\n",
       "      <td>-19.5</td>\n",
       "      <td>1021.9</td>\n",
       "      <td>1033.2</td>\n",
       "      <td>...</td>\n",
       "      <td>0.0</td>\n",
       "      <td>25.8</td>\n",
       "      <td>2000.0</td>\n",
       "      <td>12.4</td>\n",
       "      <td>-6.5</td>\n",
       "      <td>-0.9</td>\n",
       "      <td>-0.9</td>\n",
       "      <td>-0.2</td>\n",
       "      <td>1.0</td>\n",
       "      <td>2021123123</td>\n",
       "    </tr>\n",
       "    <tr>\n",
       "      <th>8735</th>\n",
       "      <td>-5.5</td>\n",
       "      <td>0.02</td>\n",
       "      <td>9.0</td>\n",
       "      <td>4.4</td>\n",
       "      <td>270.0</td>\n",
       "      <td>43.0</td>\n",
       "      <td>1.7</td>\n",
       "      <td>-16.1</td>\n",
       "      <td>1017.2</td>\n",
       "      <td>1028.3</td>\n",
       "      <td>...</td>\n",
       "      <td>0.0</td>\n",
       "      <td>13.2</td>\n",
       "      <td>2000.0</td>\n",
       "      <td>12.4</td>\n",
       "      <td>-5.2</td>\n",
       "      <td>-0.2</td>\n",
       "      <td>-0.4</td>\n",
       "      <td>0.0</td>\n",
       "      <td>1.2</td>\n",
       "      <td>2021123124</td>\n",
       "    </tr>\n",
       "  </tbody>\n",
       "</table>\n",
       "<p>8759 rows × 27 columns</p>\n",
       "</div>"
      ],
      "text/plain": [
       "      기온(°C)  강수량(mm)  강수량 QC플래그  풍속(m/s)  풍향(16방위)  습도(%)  증기압(hPa)  \\\n",
       "0       -8.7     0.06        9.0      2.4     270.0   68.0       2.2   \n",
       "1       -9.1     0.06        9.0      1.6     270.0   69.0       2.1   \n",
       "2       -9.3     0.06        9.0      1.1     250.0   70.0       2.1   \n",
       "3       -9.3     0.14        9.0      0.3       0.0   71.0       2.2   \n",
       "4       -9.7     0.06        9.0      1.9      20.0   72.0       2.1   \n",
       "...      ...      ...        ...      ...       ...    ...       ...   \n",
       "8755    -6.3     0.00        9.0      4.1     320.0   35.0       1.3   \n",
       "8756    -6.7     0.00        9.0      4.8     320.0   36.0       1.3   \n",
       "8757    -7.5     0.00        9.0      3.0     320.0   37.0       1.3   \n",
       "8758    -7.7     0.00        9.0      2.9     320.0   38.0       1.3   \n",
       "8735    -5.5     0.02        9.0      4.4     270.0   43.0       1.7   \n",
       "\n",
       "      이슬점온도(°C)  현지기압(hPa)  해면기압(hPa)  ...  중하층운량(10분위)  최저운고(100m )  시정(10m)  \\\n",
       "0         -13.5     1016.4     1027.7  ...          0.0         12.8   2000.0   \n",
       "1         -13.7     1016.2     1027.5  ...          0.0         12.8   2000.0   \n",
       "2         -13.7     1016.8     1028.1  ...          0.0         15.2   2000.0   \n",
       "3         -13.5     1016.2     1027.5  ...          0.0         21.8   2000.0   \n",
       "4         -13.8     1015.6     1026.9  ...          0.0         14.6   2000.0   \n",
       "...         ...        ...        ...  ...          ...          ...      ...   \n",
       "8755      -19.2     1021.2     1032.4  ...          0.0         36.2   2000.0   \n",
       "8756      -19.3     1021.2     1032.4  ...          0.0         25.8   2000.0   \n",
       "8757      -19.7     1021.8     1033.1  ...          0.0         25.8   2000.0   \n",
       "8758      -19.5     1021.9     1033.2  ...          0.0         25.8   2000.0   \n",
       "8735      -16.1     1017.2     1028.3  ...          0.0         13.2   2000.0   \n",
       "\n",
       "      현상번호(국내식)  지면온도(°C)  5cm 지중온도(°C)  10cm 지중온도(°C)  20cm 지중온도(°C)  \\\n",
       "0          19.8      -6.9          -1.0           -0.8            0.3   \n",
       "1          12.4      -7.1          -1.1           -0.8            0.3   \n",
       "2          12.4      -7.3          -1.2           -0.9            0.3   \n",
       "3         391.8      -7.5          -1.3           -1.0            0.2   \n",
       "4          10.8      -7.6          -1.3           -1.0            0.2   \n",
       "...         ...       ...           ...            ...            ...   \n",
       "8755       12.4      -5.3          -0.6           -0.8           -0.1   \n",
       "8756       12.4      -5.7          -0.7           -0.8           -0.1   \n",
       "8757       12.4      -6.2          -0.8           -0.9           -0.2   \n",
       "8758       12.4      -6.5          -0.9           -0.9           -0.2   \n",
       "8735       12.4      -5.2          -0.2           -0.4            0.0   \n",
       "\n",
       "      30cm 지중온도(°C)        time  \n",
       "0               1.6  2021010101  \n",
       "1               1.6  2021010102  \n",
       "2               1.6  2021010103  \n",
       "3               1.5  2021010104  \n",
       "4               1.5  2021010105  \n",
       "...             ...         ...  \n",
       "8755            1.0  2021123120  \n",
       "8756            1.0  2021123121  \n",
       "8757            1.0  2021123122  \n",
       "8758            1.0  2021123123  \n",
       "8735            1.2  2021123124  \n",
       "\n",
       "[8759 rows x 27 columns]"
      ]
     },
     "execution_count": 93,
     "metadata": {},
     "output_type": "execute_result"
    }
   ],
   "source": [
    "#weather_201.sort_values(by='time',ascending=True)"
   ]
  },
  {
   "cell_type": "code",
   "execution_count": 272,
   "id": "9b135026-1104-4f1d-beca-d2d7caf74097",
   "metadata": {},
   "outputs": [
    {
     "data": {
      "text/html": [
       "<div>\n",
       "<style scoped>\n",
       "    .dataframe tbody tr th:only-of-type {\n",
       "        vertical-align: middle;\n",
       "    }\n",
       "\n",
       "    .dataframe tbody tr th {\n",
       "        vertical-align: top;\n",
       "    }\n",
       "\n",
       "    .dataframe thead th {\n",
       "        text-align: right;\n",
       "    }\n",
       "</style>\n",
       "<table border=\"1\" class=\"dataframe\">\n",
       "  <thead>\n",
       "    <tr style=\"text-align: right;\">\n",
       "      <th></th>\n",
       "      <th>일시</th>\n",
       "    </tr>\n",
       "  </thead>\n",
       "  <tbody>\n",
       "    <tr>\n",
       "      <th>8754</th>\n",
       "      <td>2021-12-31 19:00</td>\n",
       "    </tr>\n",
       "    <tr>\n",
       "      <th>8755</th>\n",
       "      <td>2021-12-31 20:00</td>\n",
       "    </tr>\n",
       "    <tr>\n",
       "      <th>8756</th>\n",
       "      <td>2021-12-31 21:00</td>\n",
       "    </tr>\n",
       "    <tr>\n",
       "      <th>8757</th>\n",
       "      <td>2021-12-31 22:00</td>\n",
       "    </tr>\n",
       "    <tr>\n",
       "      <th>8758</th>\n",
       "      <td>2021-12-31 23:00</td>\n",
       "    </tr>\n",
       "  </tbody>\n",
       "</table>\n",
       "</div>"
      ],
      "text/plain": [
       "                    일시\n",
       "8754  2021-12-31 19:00\n",
       "8755  2021-12-31 20:00\n",
       "8756  2021-12-31 21:00\n",
       "8757  2021-12-31 22:00\n",
       "8758  2021-12-31 23:00"
      ]
     },
     "execution_count": 272,
     "metadata": {},
     "output_type": "execute_result"
    }
   ],
   "source": [
    "weather_21[['일시']].tail()"
   ]
  },
  {
   "cell_type": "code",
   "execution_count": 273,
   "id": "ca759f66-f697-40db-bb85-6ca07c790d6a",
   "metadata": {},
   "outputs": [
    {
     "data": {
      "text/html": [
       "<div>\n",
       "<style scoped>\n",
       "    .dataframe tbody tr th:only-of-type {\n",
       "        vertical-align: middle;\n",
       "    }\n",
       "\n",
       "    .dataframe tbody tr th {\n",
       "        vertical-align: top;\n",
       "    }\n",
       "\n",
       "    .dataframe thead th {\n",
       "        text-align: right;\n",
       "    }\n",
       "</style>\n",
       "<table border=\"1\" class=\"dataframe\">\n",
       "  <thead>\n",
       "    <tr style=\"text-align: right;\">\n",
       "      <th></th>\n",
       "      <th>time</th>\n",
       "    </tr>\n",
       "  </thead>\n",
       "  <tbody>\n",
       "    <tr>\n",
       "      <th>8754</th>\n",
       "      <td>2021-12-31 19:00:00</td>\n",
       "    </tr>\n",
       "    <tr>\n",
       "      <th>8755</th>\n",
       "      <td>2021-12-31 20:00:00</td>\n",
       "    </tr>\n",
       "    <tr>\n",
       "      <th>8756</th>\n",
       "      <td>2021-12-31 21:00:00</td>\n",
       "    </tr>\n",
       "    <tr>\n",
       "      <th>8757</th>\n",
       "      <td>2021-12-31 22:00:00</td>\n",
       "    </tr>\n",
       "    <tr>\n",
       "      <th>8758</th>\n",
       "      <td>2021-12-31 23:00:00</td>\n",
       "    </tr>\n",
       "  </tbody>\n",
       "</table>\n",
       "</div>"
      ],
      "text/plain": [
       "                    time\n",
       "8754 2021-12-31 19:00:00\n",
       "8755 2021-12-31 20:00:00\n",
       "8756 2021-12-31 21:00:00\n",
       "8757 2021-12-31 22:00:00\n",
       "8758 2021-12-31 23:00:00"
      ]
     },
     "execution_count": 273,
     "metadata": {},
     "output_type": "execute_result"
    }
   ],
   "source": [
    "weather_201[['time']].tail()"
   ]
  },
  {
   "cell_type": "code",
   "execution_count": 288,
   "id": "8c353f05-fee6-4dd3-a4fc-b125cb7f7fc4",
   "metadata": {
    "collapsed": true,
    "jupyter": {
     "outputs_hidden": true
    },
    "tags": []
   },
   "outputs": [
    {
     "name": "stdout",
     "output_type": "stream",
     "text": [
      "<class 'pandas.core.frame.DataFrame'>\n",
      "Int64Index: 8759 entries, 0 to 8758\n",
      "Data columns (total 25 columns):\n",
      " #   Column         Non-Null Count  Dtype  \n",
      "---  ------         --------------  -----  \n",
      " 0   기온(°C)         8759 non-null   float64\n",
      " 1   강수량(mm)        8759 non-null   float64\n",
      " 2   강수량 QC플래그      8759 non-null   float64\n",
      " 3   풍속(m/s)        8759 non-null   float64\n",
      " 4   풍향(16방위)       8759 non-null   float64\n",
      " 5   습도(%)          8759 non-null   float64\n",
      " 6   증기압(hPa)       8759 non-null   float64\n",
      " 7   이슬점온도(°C)      8759 non-null   float64\n",
      " 8   현지기압(hPa)      8759 non-null   float64\n",
      " 9   해면기압(hPa)      8759 non-null   float64\n",
      " 10  일조(hr)         8759 non-null   float64\n",
      " 11  일조 QC플래그       8759 non-null   float64\n",
      " 12  일사(MJ/m2)      8759 non-null   float64\n",
      " 13  일사 QC플래그       8759 non-null   float64\n",
      " 14  전운량(10분위)      8759 non-null   float64\n",
      " 15  중하층운량(10분위)    8759 non-null   float64\n",
      " 16  최저운고(100m )    8759 non-null   float64\n",
      " 17  시정(10m)        8759 non-null   float64\n",
      " 18  현상번호(국내식)      8759 non-null   float64\n",
      " 19  지면온도(°C)       8759 non-null   float64\n",
      " 20  5cm 지중온도(°C)   8759 non-null   float64\n",
      " 21  10cm 지중온도(°C)  8759 non-null   float64\n",
      " 22  20cm 지중온도(°C)  8759 non-null   float64\n",
      " 23  30cm 지중온도(°C)  8759 non-null   float64\n",
      " 24  time           8759 non-null   object \n",
      "dtypes: float64(24), object(1)\n",
      "memory usage: 1.7+ MB\n",
      "None\n",
      "<class 'pandas.core.frame.DataFrame'>\n",
      "Int64Index: 2160 entries, 0 to 2159\n",
      "Data columns (total 25 columns):\n",
      " #   Column         Non-Null Count  Dtype  \n",
      "---  ------         --------------  -----  \n",
      " 0   기온(°C)         2160 non-null   float64\n",
      " 1   강수량(mm)        2160 non-null   float64\n",
      " 2   강수량 QC플래그      2160 non-null   float64\n",
      " 3   풍속(m/s)        2160 non-null   float64\n",
      " 4   풍향(16방위)       2160 non-null   float64\n",
      " 5   습도(%)          2160 non-null   float64\n",
      " 6   증기압(hPa)       2160 non-null   float64\n",
      " 7   이슬점온도(°C)      2160 non-null   float64\n",
      " 8   현지기압(hPa)      2160 non-null   float64\n",
      " 9   해면기압(hPa)      2160 non-null   float64\n",
      " 10  일조(hr)         2160 non-null   float64\n",
      " 11  일조 QC플래그       2160 non-null   float64\n",
      " 12  일사(MJ/m2)      2160 non-null   float64\n",
      " 13  일사 QC플래그       2160 non-null   float64\n",
      " 14  전운량(10분위)      2160 non-null   float64\n",
      " 15  중하층운량(10분위)    2160 non-null   float64\n",
      " 16  최저운고(100m )    2160 non-null   float64\n",
      " 17  시정(10m)        2160 non-null   float64\n",
      " 18  현상번호(국내식)      2160 non-null   float64\n",
      " 19  지면온도(°C)       2160 non-null   float64\n",
      " 20  5cm 지중온도(°C)   2160 non-null   float64\n",
      " 21  10cm 지중온도(°C)  2160 non-null   float64\n",
      " 22  20cm 지중온도(°C)  2160 non-null   float64\n",
      " 23  30cm 지중온도(°C)  2160 non-null   float64\n",
      " 24  time           2160 non-null   object \n",
      "dtypes: float64(24), object(1)\n",
      "memory usage: 438.8+ KB\n",
      "None\n"
     ]
    }
   ],
   "source": [
    "print(weather_201.info())\n",
    "print(weather_202.info())"
   ]
  },
  {
   "cell_type": "code",
   "execution_count": null,
   "id": "e3178c76-7e5e-48c1-97b7-7af2770762c4",
   "metadata": {},
   "outputs": [],
   "source": []
  },
  {
   "cell_type": "markdown",
   "id": "ef9eb7b0",
   "metadata": {},
   "source": [
    "---"
   ]
  },
  {
   "cell_type": "markdown",
   "id": "lyric-response",
   "metadata": {},
   "source": [
    "# 2. 데이터 합치기\n",
    "* 미세먼지 데이터와 날씨 데이터를 'time' 기준으로 합쳐보겠습니다"
   ]
  },
  {
   "cell_type": "markdown",
   "id": "coated-framework",
   "metadata": {},
   "source": [
    "#### [실습문제5] 데이터 합치기\n",
    "* 'df_21','df_22'에 21년도와 22년도의 미세먼지, 날씨 데이터를 합쳐 넣도록 하겠습니다."
   ]
  },
  {
   "cell_type": "code",
   "execution_count": 135,
   "id": "a8af29c1-c923-4d18-8749-eeedec32ed80",
   "metadata": {
    "tags": []
   },
   "outputs": [],
   "source": [
    "#air_201 = air_201.rename(columns={'측정일시':'일시'})\n",
    "#air_202 = air_202.rename(columns={'측정일시':'일시'})"
   ]
  },
  {
   "cell_type": "code",
   "execution_count": 193,
   "id": "0cb6b6e0-2e50-4500-a0e8-312a9fbec494",
   "metadata": {
    "collapsed": true,
    "jupyter": {
     "outputs_hidden": true,
     "source_hidden": true
    },
    "tags": []
   },
   "outputs": [
    {
     "name": "stderr",
     "output_type": "stream",
     "text": [
      "<ipython-input-193-c9b610a18cb1>:8: SettingWithCopyWarning: \n",
      "A value is trying to be set on a copy of a slice from a DataFrame\n",
      "\n",
      "See the caveats in the documentation: https://pandas.pydata.org/pandas-docs/stable/user_guide/indexing.html#returning-a-view-versus-a-copy\n",
      "  airs['time'][i] = pd.to_datetime(airs['time'][i]+'00')\n"
     ]
    }
   ],
   "source": [
    "#참조\n",
    "''''''from datetime import datetime, timedelta\n",
    "air_201['time']= air_201['time'].astype('str')\n",
    "air_202['time']= air_202['time'].astype('str')\n",
    "for airs in [air_201, air_202]:\n",
    "    for i in range(len(airs)):\n",
    "        try:\n",
    "            airs['time'][i] = pd.to_datetime(airs['time'][i]+'00')\n",
    "        except:\n",
    "            airs['time'][i] = pd.to_datetime(pd.to_datetime(airs['time'][i][:-2] + '0000')+ timedelta(days=1))\n"
   ]
  },
  {
   "cell_type": "code",
   "execution_count": 274,
   "id": "8e77f9fa",
   "metadata": {
    "tags": []
   },
   "outputs": [],
   "source": [
    "# 아래에 실습코드를 작성하고 결과를 확인합니다\n",
    "# 날짜랑 일자 sort //index column을 time 열로 지정해주시면 된다는 말이었습니다!\n",
    "\n",
    "df_21 = pd.merge(air_201, weather_201, how='inner', on= 'time')\n",
    "df_22 = pd.merge(air_202, weather_202, how='inner', on= 'time')"
   ]
  },
  {
   "cell_type": "code",
   "execution_count": 179,
   "id": "69b24ca6-7f24-415d-96e4-9a5b5bdba279",
   "metadata": {
    "collapsed": true,
    "jupyter": {
     "outputs_hidden": true
    },
    "tags": []
   },
   "outputs": [
    {
     "name": "stdout",
     "output_type": "stream",
     "text": [
      "<class 'pandas.core.frame.DataFrame'>\n",
      "Int64Index: 8759 entries, 0 to 8758\n",
      "Data columns (total 33 columns):\n",
      " #   Column         Non-Null Count  Dtype         \n",
      "---  ------         --------------  -----         \n",
      " 0   SO2            8759 non-null   float64       \n",
      " 1   CO             8759 non-null   float64       \n",
      " 2   O3             8759 non-null   float64       \n",
      " 3   NO2            8759 non-null   float64       \n",
      " 4   PM10           8759 non-null   float64       \n",
      " 5   PM25           8759 non-null   float64       \n",
      " 6   time           8759 non-null   datetime64[ns]\n",
      " 7   기온(°C)         8759 non-null   float64       \n",
      " 8   강수량(mm)        8759 non-null   float64       \n",
      " 9   강수량 QC플래그      8759 non-null   float64       \n",
      " 10  풍속(m/s)        8759 non-null   float64       \n",
      " 11  풍향(16방위)       8759 non-null   float64       \n",
      " 12  습도(%)          8759 non-null   float64       \n",
      " 13  증기압(hPa)       8759 non-null   float64       \n",
      " 14  이슬점온도(°C)      8759 non-null   float64       \n",
      " 15  현지기압(hPa)      8759 non-null   float64       \n",
      " 16  해면기압(hPa)      8759 non-null   float64       \n",
      " 17  일조(hr)         8759 non-null   float64       \n",
      " 18  일조 QC플래그       8759 non-null   float64       \n",
      " 19  일사(MJ/m2)      8759 non-null   float64       \n",
      " 20  일사 QC플래그       8759 non-null   float64       \n",
      " 21  적설(cm)         8759 non-null   float64       \n",
      " 22  3시간신적설(cm)     8759 non-null   float64       \n",
      " 23  전운량(10분위)      8759 non-null   float64       \n",
      " 24  중하층운량(10분위)    8759 non-null   float64       \n",
      " 25  최저운고(100m )    8759 non-null   float64       \n",
      " 26  시정(10m)        8759 non-null   float64       \n",
      " 27  현상번호(국내식)      8759 non-null   float64       \n",
      " 28  지면온도(°C)       8759 non-null   float64       \n",
      " 29  5cm 지중온도(°C)   8759 non-null   float64       \n",
      " 30  10cm 지중온도(°C)  8759 non-null   float64       \n",
      " 31  20cm 지중온도(°C)  8759 non-null   float64       \n",
      " 32  30cm 지중온도(°C)  8759 non-null   float64       \n",
      "dtypes: datetime64[ns](1), float64(32)\n",
      "memory usage: 2.3 MB\n"
     ]
    }
   ],
   "source": [
    "df_21.info()"
   ]
  },
  {
   "cell_type": "code",
   "execution_count": 223,
   "id": "7601a966-3097-4943-ad46-dd1371ac672c",
   "metadata": {
    "tags": []
   },
   "outputs": [
    {
     "data": {
      "text/html": [
       "<div>\n",
       "<style scoped>\n",
       "    .dataframe tbody tr th:only-of-type {\n",
       "        vertical-align: middle;\n",
       "    }\n",
       "\n",
       "    .dataframe tbody tr th {\n",
       "        vertical-align: top;\n",
       "    }\n",
       "\n",
       "    .dataframe thead th {\n",
       "        text-align: right;\n",
       "    }\n",
       "</style>\n",
       "<table border=\"1\" class=\"dataframe\">\n",
       "  <thead>\n",
       "    <tr style=\"text-align: right;\">\n",
       "      <th></th>\n",
       "      <th>SO2</th>\n",
       "      <th>CO</th>\n",
       "      <th>O3</th>\n",
       "      <th>NO2</th>\n",
       "      <th>PM10</th>\n",
       "      <th>PM25</th>\n",
       "      <th>time</th>\n",
       "      <th>기온(°C)</th>\n",
       "      <th>강수량(mm)</th>\n",
       "      <th>강수량 QC플래그</th>\n",
       "      <th>...</th>\n",
       "      <th>전운량(10분위)</th>\n",
       "      <th>중하층운량(10분위)</th>\n",
       "      <th>최저운고(100m )</th>\n",
       "      <th>시정(10m)</th>\n",
       "      <th>현상번호(국내식)</th>\n",
       "      <th>지면온도(°C)</th>\n",
       "      <th>5cm 지중온도(°C)</th>\n",
       "      <th>10cm 지중온도(°C)</th>\n",
       "      <th>20cm 지중온도(°C)</th>\n",
       "      <th>30cm 지중온도(°C)</th>\n",
       "    </tr>\n",
       "  </thead>\n",
       "  <tbody>\n",
       "    <tr>\n",
       "      <th>2155</th>\n",
       "      <td>0.002</td>\n",
       "      <td>0.4</td>\n",
       "      <td>0.036</td>\n",
       "      <td>0.017</td>\n",
       "      <td>11.0</td>\n",
       "      <td>8.0</td>\n",
       "      <td>2022-03-31 19:00:00</td>\n",
       "      <td>12.3</td>\n",
       "      <td>0.00</td>\n",
       "      <td>9.0</td>\n",
       "      <td>...</td>\n",
       "      <td>6.0</td>\n",
       "      <td>1.0</td>\n",
       "      <td>9.0</td>\n",
       "      <td>2000.0</td>\n",
       "      <td>18.2</td>\n",
       "      <td>10.0</td>\n",
       "      <td>12.6</td>\n",
       "      <td>11.8</td>\n",
       "      <td>11.0</td>\n",
       "      <td>10.2</td>\n",
       "    </tr>\n",
       "    <tr>\n",
       "      <th>2156</th>\n",
       "      <td>0.002</td>\n",
       "      <td>0.4</td>\n",
       "      <td>0.032</td>\n",
       "      <td>0.018</td>\n",
       "      <td>10.0</td>\n",
       "      <td>7.0</td>\n",
       "      <td>2022-03-31 20:00:00</td>\n",
       "      <td>11.6</td>\n",
       "      <td>0.00</td>\n",
       "      <td>9.0</td>\n",
       "      <td>...</td>\n",
       "      <td>6.0</td>\n",
       "      <td>0.0</td>\n",
       "      <td>11.2</td>\n",
       "      <td>2000.0</td>\n",
       "      <td>19.0</td>\n",
       "      <td>8.9</td>\n",
       "      <td>12.2</td>\n",
       "      <td>11.6</td>\n",
       "      <td>11.0</td>\n",
       "      <td>10.3</td>\n",
       "    </tr>\n",
       "    <tr>\n",
       "      <th>2157</th>\n",
       "      <td>0.003</td>\n",
       "      <td>0.3</td>\n",
       "      <td>0.038</td>\n",
       "      <td>0.013</td>\n",
       "      <td>11.0</td>\n",
       "      <td>5.0</td>\n",
       "      <td>2022-03-31 21:00:00</td>\n",
       "      <td>10.5</td>\n",
       "      <td>0.00</td>\n",
       "      <td>9.0</td>\n",
       "      <td>...</td>\n",
       "      <td>1.0</td>\n",
       "      <td>1.0</td>\n",
       "      <td>10.0</td>\n",
       "      <td>2000.0</td>\n",
       "      <td>19.0</td>\n",
       "      <td>7.8</td>\n",
       "      <td>11.8</td>\n",
       "      <td>11.4</td>\n",
       "      <td>11.0</td>\n",
       "      <td>10.4</td>\n",
       "    </tr>\n",
       "    <tr>\n",
       "      <th>2158</th>\n",
       "      <td>0.003</td>\n",
       "      <td>0.3</td>\n",
       "      <td>0.036</td>\n",
       "      <td>0.015</td>\n",
       "      <td>11.0</td>\n",
       "      <td>5.0</td>\n",
       "      <td>2022-03-31 22:00:00</td>\n",
       "      <td>9.3</td>\n",
       "      <td>0.24</td>\n",
       "      <td>9.0</td>\n",
       "      <td>...</td>\n",
       "      <td>3.0</td>\n",
       "      <td>3.0</td>\n",
       "      <td>10.0</td>\n",
       "      <td>2000.0</td>\n",
       "      <td>1.0</td>\n",
       "      <td>7.3</td>\n",
       "      <td>11.4</td>\n",
       "      <td>11.1</td>\n",
       "      <td>10.9</td>\n",
       "      <td>10.5</td>\n",
       "    </tr>\n",
       "    <tr>\n",
       "      <th>2159</th>\n",
       "      <td>0.002</td>\n",
       "      <td>0.4</td>\n",
       "      <td>0.033</td>\n",
       "      <td>0.017</td>\n",
       "      <td>9.0</td>\n",
       "      <td>5.0</td>\n",
       "      <td>2022-03-31 23:00:00</td>\n",
       "      <td>8.4</td>\n",
       "      <td>0.00</td>\n",
       "      <td>9.0</td>\n",
       "      <td>...</td>\n",
       "      <td>1.0</td>\n",
       "      <td>1.0</td>\n",
       "      <td>10.0</td>\n",
       "      <td>2000.0</td>\n",
       "      <td>11.6</td>\n",
       "      <td>6.7</td>\n",
       "      <td>11.0</td>\n",
       "      <td>10.8</td>\n",
       "      <td>10.8</td>\n",
       "      <td>10.5</td>\n",
       "    </tr>\n",
       "  </tbody>\n",
       "</table>\n",
       "<p>5 rows × 33 columns</p>\n",
       "</div>"
      ],
      "text/plain": [
       "        SO2   CO     O3    NO2  PM10  PM25                time  기온(°C)  \\\n",
       "2155  0.002  0.4  0.036  0.017  11.0   8.0 2022-03-31 19:00:00    12.3   \n",
       "2156  0.002  0.4  0.032  0.018  10.0   7.0 2022-03-31 20:00:00    11.6   \n",
       "2157  0.003  0.3  0.038  0.013  11.0   5.0 2022-03-31 21:00:00    10.5   \n",
       "2158  0.003  0.3  0.036  0.015  11.0   5.0 2022-03-31 22:00:00     9.3   \n",
       "2159  0.002  0.4  0.033  0.017   9.0   5.0 2022-03-31 23:00:00     8.4   \n",
       "\n",
       "      강수량(mm)  강수량 QC플래그  ...  전운량(10분위)  중하층운량(10분위)  최저운고(100m )  시정(10m)  \\\n",
       "2155     0.00        9.0  ...        6.0          1.0          9.0   2000.0   \n",
       "2156     0.00        9.0  ...        6.0          0.0         11.2   2000.0   \n",
       "2157     0.00        9.0  ...        1.0          1.0         10.0   2000.0   \n",
       "2158     0.24        9.0  ...        3.0          3.0         10.0   2000.0   \n",
       "2159     0.00        9.0  ...        1.0          1.0         10.0   2000.0   \n",
       "\n",
       "      현상번호(국내식)  지면온도(°C)  5cm 지중온도(°C)  10cm 지중온도(°C)  20cm 지중온도(°C)  \\\n",
       "2155       18.2      10.0          12.6           11.8           11.0   \n",
       "2156       19.0       8.9          12.2           11.6           11.0   \n",
       "2157       19.0       7.8          11.8           11.4           11.0   \n",
       "2158        1.0       7.3          11.4           11.1           10.9   \n",
       "2159       11.6       6.7          11.0           10.8           10.8   \n",
       "\n",
       "      30cm 지중온도(°C)  \n",
       "2155           10.2  \n",
       "2156           10.3  \n",
       "2157           10.4  \n",
       "2158           10.5  \n",
       "2159           10.5  \n",
       "\n",
       "[5 rows x 33 columns]"
      ]
     },
     "execution_count": 223,
     "metadata": {},
     "output_type": "execute_result"
    }
   ],
   "source": [
    "df_22.tail()"
   ]
  },
  {
   "cell_type": "code",
   "execution_count": 275,
   "id": "dbc0addc-c5f4-471e-86b9-aaca27c3298d",
   "metadata": {
    "collapsed": true,
    "jupyter": {
     "outputs_hidden": true
    },
    "tags": []
   },
   "outputs": [
    {
     "data": {
      "text/plain": [
       "SO2              0\n",
       "CO               0\n",
       "O3               0\n",
       "NO2              0\n",
       "PM10             0\n",
       "PM25             0\n",
       "time             0\n",
       "기온(°C)           0\n",
       "강수량(mm)          0\n",
       "강수량 QC플래그        0\n",
       "풍속(m/s)          0\n",
       "풍향(16방위)         0\n",
       "습도(%)            0\n",
       "증기압(hPa)         0\n",
       "이슬점온도(°C)        0\n",
       "현지기압(hPa)        0\n",
       "해면기압(hPa)        0\n",
       "일조(hr)           0\n",
       "일조 QC플래그         0\n",
       "일사(MJ/m2)        0\n",
       "일사 QC플래그         0\n",
       "적설(cm)           0\n",
       "3시간신적설(cm)       0\n",
       "전운량(10분위)        0\n",
       "중하층운량(10분위)      0\n",
       "최저운고(100m )      0\n",
       "시정(10m)          0\n",
       "현상번호(국내식)        0\n",
       "지면온도(°C)         0\n",
       "5cm 지중온도(°C)     0\n",
       "10cm 지중온도(°C)    0\n",
       "20cm 지중온도(°C)    0\n",
       "30cm 지중온도(°C)    0\n",
       "dtype: int64"
      ]
     },
     "execution_count": 275,
     "metadata": {},
     "output_type": "execute_result"
    }
   ],
   "source": [
    "df_21.isna().sum()"
   ]
  },
  {
   "cell_type": "code",
   "execution_count": 276,
   "id": "a75ba9c2-ab67-461d-9cc0-5dae0a442c5d",
   "metadata": {
    "collapsed": true,
    "jupyter": {
     "outputs_hidden": true
    },
    "tags": []
   },
   "outputs": [
    {
     "data": {
      "text/plain": [
       "SO2              0\n",
       "CO               0\n",
       "O3               0\n",
       "NO2              0\n",
       "PM10             0\n",
       "PM25             0\n",
       "time             0\n",
       "기온(°C)           0\n",
       "강수량(mm)          0\n",
       "강수량 QC플래그        0\n",
       "풍속(m/s)          0\n",
       "풍향(16방위)         0\n",
       "습도(%)            0\n",
       "증기압(hPa)         0\n",
       "이슬점온도(°C)        0\n",
       "현지기압(hPa)        0\n",
       "해면기압(hPa)        0\n",
       "일조(hr)           0\n",
       "일조 QC플래그         0\n",
       "일사(MJ/m2)        0\n",
       "일사 QC플래그         0\n",
       "적설(cm)           0\n",
       "3시간신적설(cm)       0\n",
       "전운량(10분위)        0\n",
       "중하층운량(10분위)      0\n",
       "최저운고(100m )      0\n",
       "시정(10m)          0\n",
       "현상번호(국내식)        0\n",
       "지면온도(°C)         0\n",
       "5cm 지중온도(°C)     0\n",
       "10cm 지중온도(°C)    0\n",
       "20cm 지중온도(°C)    0\n",
       "30cm 지중온도(°C)    0\n",
       "dtype: int64"
      ]
     },
     "execution_count": 276,
     "metadata": {},
     "output_type": "execute_result"
    }
   ],
   "source": [
    "df_22.isna().sum()"
   ]
  },
  {
   "cell_type": "markdown",
   "id": "e3052c49-6093-4b3f-93f6-d310059cb9b7",
   "metadata": {},
   "source": [
    "#### [실습문제6] 사용하지 않을 변수 제거\n",
    "* 머신러닝에 사용하지 않을 변수들을 제거해줍니다."
   ]
  },
  {
   "cell_type": "code",
   "execution_count": 277,
   "id": "92531f23-a5e8-46b7-8f40-86710ec4b5f6",
   "metadata": {
    "tags": []
   },
   "outputs": [],
   "source": [
    "use_cols = ['time','SO2','CO','O3','NO2','PM10','PM25','기온(°C)','강수량(mm)','풍속(m/s)','습도(%)']\n",
    "df_21 = df_21[use_cols]\n",
    "df_22 = df_22[use_cols]"
   ]
  },
  {
   "cell_type": "code",
   "execution_count": 278,
   "id": "29c598be-fbee-4879-bf7c-c80fe21f5976",
   "metadata": {
    "tags": []
   },
   "outputs": [],
   "source": [
    "df_21 = df_21.set_index('time').sort_index()\n",
    "df_22 = df_22.set_index('time').sort_index()"
   ]
  },
  {
   "cell_type": "code",
   "execution_count": 279,
   "id": "c81d5d8c-8fca-4aa2-ae93-24fec1dd2314",
   "metadata": {
    "tags": []
   },
   "outputs": [
    {
     "data": {
      "text/plain": [
       "SO2        0\n",
       "CO         0\n",
       "O3         0\n",
       "NO2        0\n",
       "PM10       0\n",
       "PM25       0\n",
       "기온(°C)     0\n",
       "강수량(mm)    0\n",
       "풍속(m/s)    0\n",
       "습도(%)      0\n",
       "dtype: int64"
      ]
     },
     "execution_count": 279,
     "metadata": {},
     "output_type": "execute_result"
    }
   ],
   "source": [
    "df_22.isna().sum()"
   ]
  },
  {
   "cell_type": "code",
   "execution_count": 240,
   "id": "55690a25-2099-4b16-a9fd-4dd27b399b88",
   "metadata": {},
   "outputs": [],
   "source": [
    "#참조\n",
    "df_21['강수량(mm)'] = df_21['강수량(mm)'].fillna(0)\n",
    "df_22['강수량(mm)'] = df_22['강수량(mm)'].fillna(0)"
   ]
  },
  {
   "cell_type": "code",
   "execution_count": 280,
   "id": "2865282b-67ad-4446-bd2e-1550ac76542f",
   "metadata": {},
   "outputs": [],
   "source": [
    "# 월/일/시 로 쪼개기(년은 필요 없음)\n",
    "df_21['month'] = df_21.index.month\n",
    "df_21['day'] = df_21.index.day\n",
    "df_21['hour'] = df_21.index.hour\n",
    "\n",
    "df_22['month'] = df_22.index.month\n",
    "df_22['day'] = df_22.index.day\n",
    "df_22['hour'] = df_22.index.hour"
   ]
  },
  {
   "cell_type": "code",
   "execution_count": 281,
   "id": "5a0bb0a5-8034-45dd-adaf-58201f847e12",
   "metadata": {
    "collapsed": true,
    "jupyter": {
     "outputs_hidden": true
    },
    "tags": []
   },
   "outputs": [
    {
     "data": {
      "text/html": [
       "<div>\n",
       "<style scoped>\n",
       "    .dataframe tbody tr th:only-of-type {\n",
       "        vertical-align: middle;\n",
       "    }\n",
       "\n",
       "    .dataframe tbody tr th {\n",
       "        vertical-align: top;\n",
       "    }\n",
       "\n",
       "    .dataframe thead th {\n",
       "        text-align: right;\n",
       "    }\n",
       "</style>\n",
       "<table border=\"1\" class=\"dataframe\">\n",
       "  <thead>\n",
       "    <tr style=\"text-align: right;\">\n",
       "      <th></th>\n",
       "      <th>SO2</th>\n",
       "      <th>CO</th>\n",
       "      <th>O3</th>\n",
       "      <th>NO2</th>\n",
       "      <th>PM10</th>\n",
       "      <th>PM25</th>\n",
       "      <th>기온(°C)</th>\n",
       "      <th>강수량(mm)</th>\n",
       "      <th>풍속(m/s)</th>\n",
       "      <th>습도(%)</th>\n",
       "      <th>month</th>\n",
       "      <th>day</th>\n",
       "      <th>hour</th>\n",
       "    </tr>\n",
       "    <tr>\n",
       "      <th>time</th>\n",
       "      <th></th>\n",
       "      <th></th>\n",
       "      <th></th>\n",
       "      <th></th>\n",
       "      <th></th>\n",
       "      <th></th>\n",
       "      <th></th>\n",
       "      <th></th>\n",
       "      <th></th>\n",
       "      <th></th>\n",
       "      <th></th>\n",
       "      <th></th>\n",
       "      <th></th>\n",
       "    </tr>\n",
       "  </thead>\n",
       "  <tbody>\n",
       "    <tr>\n",
       "      <th>2021-12-31 19:00:00</th>\n",
       "      <td>0.003</td>\n",
       "      <td>0.4</td>\n",
       "      <td>0.025</td>\n",
       "      <td>0.020</td>\n",
       "      <td>26.0</td>\n",
       "      <td>8.0</td>\n",
       "      <td>-6.4</td>\n",
       "      <td>0.0</td>\n",
       "      <td>2.2</td>\n",
       "      <td>34.0</td>\n",
       "      <td>12</td>\n",
       "      <td>31</td>\n",
       "      <td>19</td>\n",
       "    </tr>\n",
       "    <tr>\n",
       "      <th>2021-12-31 20:00:00</th>\n",
       "      <td>0.003</td>\n",
       "      <td>0.4</td>\n",
       "      <td>0.030</td>\n",
       "      <td>0.014</td>\n",
       "      <td>27.0</td>\n",
       "      <td>9.0</td>\n",
       "      <td>-6.3</td>\n",
       "      <td>0.0</td>\n",
       "      <td>4.1</td>\n",
       "      <td>35.0</td>\n",
       "      <td>12</td>\n",
       "      <td>31</td>\n",
       "      <td>20</td>\n",
       "    </tr>\n",
       "    <tr>\n",
       "      <th>2021-12-31 21:00:00</th>\n",
       "      <td>0.003</td>\n",
       "      <td>0.4</td>\n",
       "      <td>0.033</td>\n",
       "      <td>0.011</td>\n",
       "      <td>20.0</td>\n",
       "      <td>8.0</td>\n",
       "      <td>-6.7</td>\n",
       "      <td>0.0</td>\n",
       "      <td>4.8</td>\n",
       "      <td>36.0</td>\n",
       "      <td>12</td>\n",
       "      <td>31</td>\n",
       "      <td>21</td>\n",
       "    </tr>\n",
       "    <tr>\n",
       "      <th>2021-12-31 22:00:00</th>\n",
       "      <td>0.003</td>\n",
       "      <td>0.4</td>\n",
       "      <td>0.029</td>\n",
       "      <td>0.015</td>\n",
       "      <td>20.0</td>\n",
       "      <td>9.0</td>\n",
       "      <td>-7.5</td>\n",
       "      <td>0.0</td>\n",
       "      <td>3.0</td>\n",
       "      <td>37.0</td>\n",
       "      <td>12</td>\n",
       "      <td>31</td>\n",
       "      <td>22</td>\n",
       "    </tr>\n",
       "    <tr>\n",
       "      <th>2021-12-31 23:00:00</th>\n",
       "      <td>0.003</td>\n",
       "      <td>0.4</td>\n",
       "      <td>0.026</td>\n",
       "      <td>0.016</td>\n",
       "      <td>20.0</td>\n",
       "      <td>9.0</td>\n",
       "      <td>-7.7</td>\n",
       "      <td>0.0</td>\n",
       "      <td>2.9</td>\n",
       "      <td>38.0</td>\n",
       "      <td>12</td>\n",
       "      <td>31</td>\n",
       "      <td>23</td>\n",
       "    </tr>\n",
       "  </tbody>\n",
       "</table>\n",
       "</div>"
      ],
      "text/plain": [
       "                       SO2   CO     O3    NO2  PM10  PM25  기온(°C)  강수량(mm)  \\\n",
       "time                                                                         \n",
       "2021-12-31 19:00:00  0.003  0.4  0.025  0.020  26.0   8.0    -6.4      0.0   \n",
       "2021-12-31 20:00:00  0.003  0.4  0.030  0.014  27.0   9.0    -6.3      0.0   \n",
       "2021-12-31 21:00:00  0.003  0.4  0.033  0.011  20.0   8.0    -6.7      0.0   \n",
       "2021-12-31 22:00:00  0.003  0.4  0.029  0.015  20.0   9.0    -7.5      0.0   \n",
       "2021-12-31 23:00:00  0.003  0.4  0.026  0.016  20.0   9.0    -7.7      0.0   \n",
       "\n",
       "                     풍속(m/s)  습도(%)  month  day  hour  \n",
       "time                                                   \n",
       "2021-12-31 19:00:00      2.2   34.0     12   31    19  \n",
       "2021-12-31 20:00:00      4.1   35.0     12   31    20  \n",
       "2021-12-31 21:00:00      4.8   36.0     12   31    21  \n",
       "2021-12-31 22:00:00      3.0   37.0     12   31    22  \n",
       "2021-12-31 23:00:00      2.9   38.0     12   31    23  "
      ]
     },
     "execution_count": 281,
     "metadata": {},
     "output_type": "execute_result"
    }
   ],
   "source": [
    "df_21.tail()"
   ]
  },
  {
   "cell_type": "markdown",
   "id": "8a3e52e4",
   "metadata": {},
   "source": [
    "#### [실습문제7] 미세먼지 농도 다음시점 데이터 생성\n",
    "\n",
    "* t+1 시점 데이터 생성"
   ]
  },
  {
   "cell_type": "code",
   "execution_count": 282,
   "id": "5842f737",
   "metadata": {},
   "outputs": [],
   "source": [
    "# 아래에 실습코드를 작성하고 결과를 확인합니다\n",
    "\n",
    "# 전일 같은 시간 변수 추가\n",
    "df_21['PM10_lag1'] = df_21['PM10'].shift(24)\n",
    "df_22['PM10_lag1'] = df_22['PM10'].shift(24)"
   ]
  },
  {
   "cell_type": "code",
   "execution_count": 284,
   "id": "1fdbd272-bb70-4ab9-b5c7-f8b871a7caf9",
   "metadata": {},
   "outputs": [
    {
     "data": {
      "text/html": [
       "<div>\n",
       "<style scoped>\n",
       "    .dataframe tbody tr th:only-of-type {\n",
       "        vertical-align: middle;\n",
       "    }\n",
       "\n",
       "    .dataframe tbody tr th {\n",
       "        vertical-align: top;\n",
       "    }\n",
       "\n",
       "    .dataframe thead th {\n",
       "        text-align: right;\n",
       "    }\n",
       "</style>\n",
       "<table border=\"1\" class=\"dataframe\">\n",
       "  <thead>\n",
       "    <tr style=\"text-align: right;\">\n",
       "      <th></th>\n",
       "      <th>SO2</th>\n",
       "      <th>CO</th>\n",
       "      <th>O3</th>\n",
       "      <th>NO2</th>\n",
       "      <th>PM10</th>\n",
       "      <th>PM25</th>\n",
       "      <th>기온(°C)</th>\n",
       "      <th>강수량(mm)</th>\n",
       "      <th>풍속(m/s)</th>\n",
       "      <th>습도(%)</th>\n",
       "      <th>month</th>\n",
       "      <th>day</th>\n",
       "      <th>hour</th>\n",
       "      <th>PM10_lag1</th>\n",
       "    </tr>\n",
       "    <tr>\n",
       "      <th>time</th>\n",
       "      <th></th>\n",
       "      <th></th>\n",
       "      <th></th>\n",
       "      <th></th>\n",
       "      <th></th>\n",
       "      <th></th>\n",
       "      <th></th>\n",
       "      <th></th>\n",
       "      <th></th>\n",
       "      <th></th>\n",
       "      <th></th>\n",
       "      <th></th>\n",
       "      <th></th>\n",
       "      <th></th>\n",
       "    </tr>\n",
       "  </thead>\n",
       "  <tbody>\n",
       "    <tr>\n",
       "      <th>2021-01-01 01:00:00</th>\n",
       "      <td>0.002</td>\n",
       "      <td>0.6</td>\n",
       "      <td>0.018</td>\n",
       "      <td>0.020</td>\n",
       "      <td>25.0</td>\n",
       "      <td>14.0</td>\n",
       "      <td>-8.7</td>\n",
       "      <td>0.0</td>\n",
       "      <td>2.4</td>\n",
       "      <td>68.0</td>\n",
       "      <td>1</td>\n",
       "      <td>1</td>\n",
       "      <td>1</td>\n",
       "      <td>NaN</td>\n",
       "    </tr>\n",
       "    <tr>\n",
       "      <th>2021-01-01 02:00:00</th>\n",
       "      <td>0.002</td>\n",
       "      <td>0.6</td>\n",
       "      <td>0.013</td>\n",
       "      <td>0.025</td>\n",
       "      <td>27.0</td>\n",
       "      <td>16.0</td>\n",
       "      <td>-9.1</td>\n",
       "      <td>0.0</td>\n",
       "      <td>1.6</td>\n",
       "      <td>69.0</td>\n",
       "      <td>1</td>\n",
       "      <td>1</td>\n",
       "      <td>2</td>\n",
       "      <td>NaN</td>\n",
       "    </tr>\n",
       "    <tr>\n",
       "      <th>2021-01-01 03:00:00</th>\n",
       "      <td>0.003</td>\n",
       "      <td>0.6</td>\n",
       "      <td>0.011</td>\n",
       "      <td>0.027</td>\n",
       "      <td>23.0</td>\n",
       "      <td>13.0</td>\n",
       "      <td>-9.3</td>\n",
       "      <td>0.0</td>\n",
       "      <td>1.1</td>\n",
       "      <td>70.0</td>\n",
       "      <td>1</td>\n",
       "      <td>1</td>\n",
       "      <td>3</td>\n",
       "      <td>NaN</td>\n",
       "    </tr>\n",
       "    <tr>\n",
       "      <th>2021-01-01 04:00:00</th>\n",
       "      <td>0.003</td>\n",
       "      <td>0.6</td>\n",
       "      <td>0.008</td>\n",
       "      <td>0.032</td>\n",
       "      <td>24.0</td>\n",
       "      <td>14.0</td>\n",
       "      <td>-9.3</td>\n",
       "      <td>0.0</td>\n",
       "      <td>0.3</td>\n",
       "      <td>71.0</td>\n",
       "      <td>1</td>\n",
       "      <td>1</td>\n",
       "      <td>4</td>\n",
       "      <td>NaN</td>\n",
       "    </tr>\n",
       "    <tr>\n",
       "      <th>2021-01-01 05:00:00</th>\n",
       "      <td>0.002</td>\n",
       "      <td>0.7</td>\n",
       "      <td>0.003</td>\n",
       "      <td>0.037</td>\n",
       "      <td>26.0</td>\n",
       "      <td>16.0</td>\n",
       "      <td>-9.7</td>\n",
       "      <td>0.0</td>\n",
       "      <td>1.9</td>\n",
       "      <td>72.0</td>\n",
       "      <td>1</td>\n",
       "      <td>1</td>\n",
       "      <td>5</td>\n",
       "      <td>NaN</td>\n",
       "    </tr>\n",
       "  </tbody>\n",
       "</table>\n",
       "</div>"
      ],
      "text/plain": [
       "                       SO2   CO     O3    NO2  PM10  PM25  기온(°C)  강수량(mm)  \\\n",
       "time                                                                         \n",
       "2021-01-01 01:00:00  0.002  0.6  0.018  0.020  25.0  14.0    -8.7      0.0   \n",
       "2021-01-01 02:00:00  0.002  0.6  0.013  0.025  27.0  16.0    -9.1      0.0   \n",
       "2021-01-01 03:00:00  0.003  0.6  0.011  0.027  23.0  13.0    -9.3      0.0   \n",
       "2021-01-01 04:00:00  0.003  0.6  0.008  0.032  24.0  14.0    -9.3      0.0   \n",
       "2021-01-01 05:00:00  0.002  0.7  0.003  0.037  26.0  16.0    -9.7      0.0   \n",
       "\n",
       "                     풍속(m/s)  습도(%)  month  day  hour  PM10_lag1  \n",
       "time                                                              \n",
       "2021-01-01 01:00:00      2.4   68.0      1    1     1        NaN  \n",
       "2021-01-01 02:00:00      1.6   69.0      1    1     2        NaN  \n",
       "2021-01-01 03:00:00      1.1   70.0      1    1     3        NaN  \n",
       "2021-01-01 04:00:00      0.3   71.0      1    1     4        NaN  \n",
       "2021-01-01 05:00:00      1.9   72.0      1    1     5        NaN  "
      ]
     },
     "execution_count": 284,
     "metadata": {},
     "output_type": "execute_result"
    }
   ],
   "source": [
    "df_21.head()"
   ]
  },
  {
   "cell_type": "markdown",
   "id": "375fb77c",
   "metadata": {},
   "source": [
    "#### [실습문제7] 미세먼지 농도 다음시점 데이터 생성\n",
    "\n",
    "* t+1 시점 데이터 생성"
   ]
  },
  {
   "cell_type": "code",
   "execution_count": 285,
   "id": "b5003c89",
   "metadata": {},
   "outputs": [],
   "source": [
    "# 아래에 실습코드를 작성하고 결과를 확인합니다\n",
    "\n",
    "df_21['PM10_1'] = df_21['PM10'].shift(-1)\n",
    "df_22['PM10_1'] = df_22['PM10'].shift(-1)"
   ]
  },
  {
   "cell_type": "code",
   "execution_count": 286,
   "id": "578dba32-8ab3-4544-b275-e7b7d03a485f",
   "metadata": {},
   "outputs": [
    {
     "data": {
      "text/html": [
       "<div>\n",
       "<style scoped>\n",
       "    .dataframe tbody tr th:only-of-type {\n",
       "        vertical-align: middle;\n",
       "    }\n",
       "\n",
       "    .dataframe tbody tr th {\n",
       "        vertical-align: top;\n",
       "    }\n",
       "\n",
       "    .dataframe thead th {\n",
       "        text-align: right;\n",
       "    }\n",
       "</style>\n",
       "<table border=\"1\" class=\"dataframe\">\n",
       "  <thead>\n",
       "    <tr style=\"text-align: right;\">\n",
       "      <th></th>\n",
       "      <th>SO2</th>\n",
       "      <th>CO</th>\n",
       "      <th>O3</th>\n",
       "      <th>NO2</th>\n",
       "      <th>PM10</th>\n",
       "      <th>PM25</th>\n",
       "      <th>기온(°C)</th>\n",
       "      <th>강수량(mm)</th>\n",
       "      <th>풍속(m/s)</th>\n",
       "      <th>습도(%)</th>\n",
       "      <th>month</th>\n",
       "      <th>day</th>\n",
       "      <th>hour</th>\n",
       "      <th>PM10_lag1</th>\n",
       "      <th>PM10_1</th>\n",
       "    </tr>\n",
       "    <tr>\n",
       "      <th>time</th>\n",
       "      <th></th>\n",
       "      <th></th>\n",
       "      <th></th>\n",
       "      <th></th>\n",
       "      <th></th>\n",
       "      <th></th>\n",
       "      <th></th>\n",
       "      <th></th>\n",
       "      <th></th>\n",
       "      <th></th>\n",
       "      <th></th>\n",
       "      <th></th>\n",
       "      <th></th>\n",
       "      <th></th>\n",
       "      <th></th>\n",
       "    </tr>\n",
       "  </thead>\n",
       "  <tbody>\n",
       "    <tr>\n",
       "      <th>2021-01-01 01:00:00</th>\n",
       "      <td>0.002</td>\n",
       "      <td>0.6</td>\n",
       "      <td>0.018</td>\n",
       "      <td>0.020</td>\n",
       "      <td>25.0</td>\n",
       "      <td>14.0</td>\n",
       "      <td>-8.7</td>\n",
       "      <td>0.0</td>\n",
       "      <td>2.4</td>\n",
       "      <td>68.0</td>\n",
       "      <td>1</td>\n",
       "      <td>1</td>\n",
       "      <td>1</td>\n",
       "      <td>NaN</td>\n",
       "      <td>27.0</td>\n",
       "    </tr>\n",
       "    <tr>\n",
       "      <th>2021-01-01 02:00:00</th>\n",
       "      <td>0.002</td>\n",
       "      <td>0.6</td>\n",
       "      <td>0.013</td>\n",
       "      <td>0.025</td>\n",
       "      <td>27.0</td>\n",
       "      <td>16.0</td>\n",
       "      <td>-9.1</td>\n",
       "      <td>0.0</td>\n",
       "      <td>1.6</td>\n",
       "      <td>69.0</td>\n",
       "      <td>1</td>\n",
       "      <td>1</td>\n",
       "      <td>2</td>\n",
       "      <td>NaN</td>\n",
       "      <td>23.0</td>\n",
       "    </tr>\n",
       "    <tr>\n",
       "      <th>2021-01-01 03:00:00</th>\n",
       "      <td>0.003</td>\n",
       "      <td>0.6</td>\n",
       "      <td>0.011</td>\n",
       "      <td>0.027</td>\n",
       "      <td>23.0</td>\n",
       "      <td>13.0</td>\n",
       "      <td>-9.3</td>\n",
       "      <td>0.0</td>\n",
       "      <td>1.1</td>\n",
       "      <td>70.0</td>\n",
       "      <td>1</td>\n",
       "      <td>1</td>\n",
       "      <td>3</td>\n",
       "      <td>NaN</td>\n",
       "      <td>24.0</td>\n",
       "    </tr>\n",
       "    <tr>\n",
       "      <th>2021-01-01 04:00:00</th>\n",
       "      <td>0.003</td>\n",
       "      <td>0.6</td>\n",
       "      <td>0.008</td>\n",
       "      <td>0.032</td>\n",
       "      <td>24.0</td>\n",
       "      <td>14.0</td>\n",
       "      <td>-9.3</td>\n",
       "      <td>0.0</td>\n",
       "      <td>0.3</td>\n",
       "      <td>71.0</td>\n",
       "      <td>1</td>\n",
       "      <td>1</td>\n",
       "      <td>4</td>\n",
       "      <td>NaN</td>\n",
       "      <td>26.0</td>\n",
       "    </tr>\n",
       "    <tr>\n",
       "      <th>2021-01-01 05:00:00</th>\n",
       "      <td>0.002</td>\n",
       "      <td>0.7</td>\n",
       "      <td>0.003</td>\n",
       "      <td>0.037</td>\n",
       "      <td>26.0</td>\n",
       "      <td>16.0</td>\n",
       "      <td>-9.7</td>\n",
       "      <td>0.0</td>\n",
       "      <td>1.9</td>\n",
       "      <td>72.0</td>\n",
       "      <td>1</td>\n",
       "      <td>1</td>\n",
       "      <td>5</td>\n",
       "      <td>NaN</td>\n",
       "      <td>27.0</td>\n",
       "    </tr>\n",
       "  </tbody>\n",
       "</table>\n",
       "</div>"
      ],
      "text/plain": [
       "                       SO2   CO     O3    NO2  PM10  PM25  기온(°C)  강수량(mm)  \\\n",
       "time                                                                         \n",
       "2021-01-01 01:00:00  0.002  0.6  0.018  0.020  25.0  14.0    -8.7      0.0   \n",
       "2021-01-01 02:00:00  0.002  0.6  0.013  0.025  27.0  16.0    -9.1      0.0   \n",
       "2021-01-01 03:00:00  0.003  0.6  0.011  0.027  23.0  13.0    -9.3      0.0   \n",
       "2021-01-01 04:00:00  0.003  0.6  0.008  0.032  24.0  14.0    -9.3      0.0   \n",
       "2021-01-01 05:00:00  0.002  0.7  0.003  0.037  26.0  16.0    -9.7      0.0   \n",
       "\n",
       "                     풍속(m/s)  습도(%)  month  day  hour  PM10_lag1  PM10_1  \n",
       "time                                                                      \n",
       "2021-01-01 01:00:00      2.4   68.0      1    1     1        NaN    27.0  \n",
       "2021-01-01 02:00:00      1.6   69.0      1    1     2        NaN    23.0  \n",
       "2021-01-01 03:00:00      1.1   70.0      1    1     3        NaN    24.0  \n",
       "2021-01-01 04:00:00      0.3   71.0      1    1     4        NaN    26.0  \n",
       "2021-01-01 05:00:00      1.9   72.0      1    1     5        NaN    27.0  "
      ]
     },
     "execution_count": 286,
     "metadata": {},
     "output_type": "execute_result"
    }
   ],
   "source": [
    "df_21.head()"
   ]
  },
  {
   "cell_type": "code",
   "execution_count": 298,
   "id": "a6400ccc-3ad1-4c3d-8c96-140ce80816d2",
   "metadata": {},
   "outputs": [],
   "source": [
    "# 아래에 실습코드를 작성하고 결과를 확인합니다\n",
    "df_21.dropna(inplace=True)\n",
    "df_22.dropna(inplace=True)"
   ]
  },
  {
   "cell_type": "markdown",
   "id": "27c6c592",
   "metadata": {},
   "source": [
    "---"
   ]
  },
  {
   "cell_type": "markdown",
   "id": "accepting-creativity",
   "metadata": {},
   "source": [
    "# 3. train / test split"
   ]
  },
  {
   "cell_type": "markdown",
   "id": "dependent-motion",
   "metadata": {},
   "source": [
    "#### [실습문제7] 데이터셋 나누기 \n",
    "\n",
    "* 데이터셋을 train(21년도 데이터), test(22년도 데이터)로 나눠 csv로 저장하도록 하겠습니다.\n",
    "\n",
    "\n",
    "* train_x / train_y / test_x / test_y 로 나누세요.\n",
    "\n",
    "\n",
    "* train_x.csv / train_y.csv / test_x.csv / test_y.csv 로 저장하세요."
   ]
  },
  {
   "cell_type": "code",
   "execution_count": 300,
   "id": "e96659a6-efe5-4db7-9d36-ddc764eab534",
   "metadata": {},
   "outputs": [],
   "source": [
    "target = 'PM10_1'\n",
    "train_x = df_21.drop(target,axis=1)\n",
    "train_y = df_21[target]\n",
    "test_x = df_22.drop(target,axis=1)\n",
    "test_y = df_22[target]"
   ]
  },
  {
   "cell_type": "code",
   "execution_count": 301,
   "id": "92652b6b",
   "metadata": {},
   "outputs": [],
   "source": [
    "# 아래에 실습코드를 작성하고 결과를 확인합니다.\n",
    "train_x.to_csv('train_x.csv',index=False)\n",
    "train_y.to_csv('train_y.csv',index=False)\n",
    "test_x.to_csv('test_x.csv',index=False)\n",
    "test_y.to_csv('test_y.csv',index=False)"
   ]
  },
  {
   "cell_type": "code",
   "execution_count": 302,
   "id": "db809b0e",
   "metadata": {},
   "outputs": [
    {
     "data": {
      "text/plain": [
       "SO2          0\n",
       "CO           0\n",
       "O3           0\n",
       "NO2          0\n",
       "PM10         0\n",
       "PM25         0\n",
       "기온(°C)       0\n",
       "강수량(mm)      0\n",
       "풍속(m/s)      0\n",
       "습도(%)        0\n",
       "month        0\n",
       "day          0\n",
       "hour         0\n",
       "PM10_lag1    0\n",
       "PM10_1       0\n",
       "dtype: int64"
      ]
     },
     "execution_count": 302,
     "metadata": {},
     "output_type": "execute_result"
    }
   ],
   "source": [
    "# 아래에 실습코드를 작성하고 결과를 확인합니다.\n",
    "\n",
    "df_22.isna().sum()"
   ]
  },
  {
   "cell_type": "markdown",
   "id": "dramatic-meditation",
   "metadata": {},
   "source": [
    "---"
   ]
  }
 ],
 "metadata": {
  "kernelspec": {
   "display_name": "Python 3",
   "language": "python",
   "name": "python3"
  },
  "language_info": {
   "codemirror_mode": {
    "name": "ipython",
    "version": 3
   },
   "file_extension": ".py",
   "mimetype": "text/x-python",
   "name": "python",
   "nbconvert_exporter": "python",
   "pygments_lexer": "ipython3",
   "version": "3.8.8"
  },
  "vscode": {
   "interpreter": {
    "hash": "f08154012ddadd8e950e6e9e035c7a7b32c136e7647e9b7c77e02eb723a8bedb"
   }
  }
 },
 "nbformat": 4,
 "nbformat_minor": 5
}
