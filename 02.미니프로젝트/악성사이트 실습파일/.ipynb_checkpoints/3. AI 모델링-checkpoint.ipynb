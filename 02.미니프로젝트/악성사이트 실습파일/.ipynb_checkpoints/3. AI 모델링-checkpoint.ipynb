{
 "cells": [
  {
   "cell_type": "markdown",
   "metadata": {},
   "source": [
    "## <b> [3단계] AI 모델링\n",
    "---\n",
    "\n",
    "## 1, 2 단계에서 진행하신 내용을 아래에 그대로 진행해주세요.\n",
    "\n",
    "---"
   ]
  },
  {
   "cell_type": "markdown",
   "metadata": {},
   "source": [
    "# <b>Step 0. 라이브러리 import 및 데이터 불러오기\n",
    "### **가. 라이브러리 import**"
   ]
  },
  {
   "cell_type": "code",
   "execution_count": 90,
   "metadata": {
    "collapsed": true,
    "jupyter": {
     "outputs_hidden": true
    },
    "tags": []
   },
   "outputs": [
    {
     "name": "stdout",
     "output_type": "stream",
     "text": [
      "Requirement already satisfied: Tensorflow in c:\\users\\user\\anaconda3\\lib\\site-packages (2.9.1)\n",
      "Requirement already satisfied: opt-einsum>=2.3.2 in c:\\users\\user\\anaconda3\\lib\\site-packages (from Tensorflow) (3.3.0)\n",
      "Requirement already satisfied: typing-extensions>=3.6.6 in c:\\users\\user\\anaconda3\\lib\\site-packages (from Tensorflow) (3.7.4.3)\n",
      "Requirement already satisfied: libclang>=13.0.0 in c:\\users\\user\\anaconda3\\lib\\site-packages (from Tensorflow) (14.0.6)\n",
      "Requirement already satisfied: astunparse>=1.6.0 in c:\\users\\user\\anaconda3\\lib\\site-packages (from Tensorflow) (1.6.3)\n",
      "Requirement already satisfied: tensorboard<2.10,>=2.9 in c:\\users\\user\\anaconda3\\lib\\site-packages (from Tensorflow) (2.9.1)\n",
      "Requirement already satisfied: numpy>=1.20 in c:\\users\\user\\anaconda3\\lib\\site-packages (from Tensorflow) (1.20.1)\n",
      "Requirement already satisfied: keras<2.10.0,>=2.9.0rc0 in c:\\users\\user\\anaconda3\\lib\\site-packages (from Tensorflow) (2.9.0)\n",
      "Requirement already satisfied: flatbuffers<2,>=1.12 in c:\\users\\user\\anaconda3\\lib\\site-packages (from Tensorflow) (1.12)\n",
      "Requirement already satisfied: tensorflow-io-gcs-filesystem>=0.23.1 in c:\\users\\user\\anaconda3\\lib\\site-packages (from Tensorflow) (0.26.0)\n",
      "Requirement already satisfied: grpcio<2.0,>=1.24.3 in c:\\users\\user\\anaconda3\\lib\\site-packages (from Tensorflow) (1.47.0)\n",
      "Requirement already satisfied: tensorflow-estimator<2.10.0,>=2.9.0rc0 in c:\\users\\user\\anaconda3\\lib\\site-packages (from Tensorflow) (2.9.0)\n",
      "Requirement already satisfied: packaging in c:\\users\\user\\anaconda3\\lib\\site-packages (from Tensorflow) (20.9)\n",
      "Requirement already satisfied: google-pasta>=0.1.1 in c:\\users\\user\\anaconda3\\lib\\site-packages (from Tensorflow) (0.2.0)\n",
      "Requirement already satisfied: setuptools in c:\\users\\user\\anaconda3\\lib\\site-packages (from Tensorflow) (52.0.0.post20210125)\n",
      "Requirement already satisfied: wrapt>=1.11.0 in c:\\users\\user\\anaconda3\\lib\\site-packages (from Tensorflow) (1.12.1)\n",
      "Requirement already satisfied: keras-preprocessing>=1.1.1 in c:\\users\\user\\anaconda3\\lib\\site-packages (from Tensorflow) (1.1.2)\n",
      "Requirement already satisfied: six>=1.12.0 in c:\\users\\user\\anaconda3\\lib\\site-packages (from Tensorflow) (1.15.0)\n",
      "Requirement already satisfied: gast<=0.4.0,>=0.2.1 in c:\\users\\user\\anaconda3\\lib\\site-packages (from Tensorflow) (0.4.0)\n",
      "Requirement already satisfied: termcolor>=1.1.0 in c:\\users\\user\\anaconda3\\lib\\site-packages (from Tensorflow) (1.1.0)\n",
      "Requirement already satisfied: absl-py>=1.0.0 in c:\\users\\user\\anaconda3\\lib\\site-packages (from Tensorflow) (1.2.0)\n",
      "Requirement already satisfied: protobuf<3.20,>=3.9.2 in c:\\users\\user\\anaconda3\\lib\\site-packages (from Tensorflow) (3.19.4)\n",
      "Requirement already satisfied: h5py>=2.9.0 in c:\\users\\user\\anaconda3\\lib\\site-packages (from Tensorflow) (2.10.0)\n",
      "Requirement already satisfied: wheel<1.0,>=0.23.0 in c:\\users\\user\\anaconda3\\lib\\site-packages (from astunparse>=1.6.0->Tensorflow) (0.36.2)\n",
      "Requirement already satisfied: werkzeug>=1.0.1 in c:\\users\\user\\anaconda3\\lib\\site-packages (from tensorboard<2.10,>=2.9->Tensorflow) (1.0.1)\n",
      "Requirement already satisfied: markdown>=2.6.8 in c:\\users\\user\\anaconda3\\lib\\site-packages (from tensorboard<2.10,>=2.9->Tensorflow) (3.4.1)\n",
      "Requirement already satisfied: tensorboard-data-server<0.7.0,>=0.6.0 in c:\\users\\user\\anaconda3\\lib\\site-packages (from tensorboard<2.10,>=2.9->Tensorflow) (0.6.1)\n",
      "Requirement already satisfied: requests<3,>=2.21.0 in c:\\users\\user\\anaconda3\\lib\\site-packages (from tensorboard<2.10,>=2.9->Tensorflow) (2.25.1)\n",
      "Requirement already satisfied: tensorboard-plugin-wit>=1.6.0 in c:\\users\\user\\anaconda3\\lib\\site-packages (from tensorboard<2.10,>=2.9->Tensorflow) (1.8.1)\n",
      "Requirement already satisfied: google-auth<3,>=1.6.3 in c:\\users\\user\\anaconda3\\lib\\site-packages (from tensorboard<2.10,>=2.9->Tensorflow) (2.11.0)\n",
      "Requirement already satisfied: google-auth-oauthlib<0.5,>=0.4.1 in c:\\users\\user\\anaconda3\\lib\\site-packages (from tensorboard<2.10,>=2.9->Tensorflow) (0.4.6)\n",
      "Requirement already satisfied: cachetools<6.0,>=2.0.0 in c:\\users\\user\\anaconda3\\lib\\site-packages (from google-auth<3,>=1.6.3->tensorboard<2.10,>=2.9->Tensorflow) (5.2.0)\n",
      "Requirement already satisfied: rsa<5,>=3.1.4 in c:\\users\\user\\anaconda3\\lib\\site-packages (from google-auth<3,>=1.6.3->tensorboard<2.10,>=2.9->Tensorflow) (4.9)\n",
      "Requirement already satisfied: pyasn1-modules>=0.2.1 in c:\\users\\user\\anaconda3\\lib\\site-packages (from google-auth<3,>=1.6.3->tensorboard<2.10,>=2.9->Tensorflow) (0.2.8)\n",
      "Requirement already satisfied: requests-oauthlib>=0.7.0 in c:\\users\\user\\anaconda3\\lib\\site-packages (from google-auth-oauthlib<0.5,>=0.4.1->tensorboard<2.10,>=2.9->Tensorflow) (1.3.1)\n",
      "Requirement already satisfied: importlib-metadata>=4.4 in c:\\users\\user\\anaconda3\\lib\\site-packages (from markdown>=2.6.8->tensorboard<2.10,>=2.9->Tensorflow) (4.12.0)\n",
      "Requirement already satisfied: zipp>=0.5 in c:\\users\\user\\anaconda3\\lib\\site-packages (from importlib-metadata>=4.4->markdown>=2.6.8->tensorboard<2.10,>=2.9->Tensorflow) (3.4.1)\n",
      "Requirement already satisfied: pyasn1<0.5.0,>=0.4.6 in c:\\users\\user\\anaconda3\\lib\\site-packages (from pyasn1-modules>=0.2.1->google-auth<3,>=1.6.3->tensorboard<2.10,>=2.9->Tensorflow) (0.4.8)\n",
      "Requirement already satisfied: certifi>=2017.4.17 in c:\\users\\user\\anaconda3\\lib\\site-packages (from requests<3,>=2.21.0->tensorboard<2.10,>=2.9->Tensorflow) (2020.12.5)\n",
      "Requirement already satisfied: idna<3,>=2.5 in c:\\users\\user\\anaconda3\\lib\\site-packages (from requests<3,>=2.21.0->tensorboard<2.10,>=2.9->Tensorflow) (2.10)\n",
      "Requirement already satisfied: chardet<5,>=3.0.2 in c:\\users\\user\\anaconda3\\lib\\site-packages (from requests<3,>=2.21.0->tensorboard<2.10,>=2.9->Tensorflow) (4.0.0)\n",
      "Requirement already satisfied: urllib3<1.27,>=1.21.1 in c:\\users\\user\\anaconda3\\lib\\site-packages (from requests<3,>=2.21.0->tensorboard<2.10,>=2.9->Tensorflow) (1.26.4)\n",
      "Requirement already satisfied: oauthlib>=3.0.0 in c:\\users\\user\\anaconda3\\lib\\site-packages (from requests-oauthlib>=0.7.0->google-auth-oauthlib<0.5,>=0.4.1->tensorboard<2.10,>=2.9->Tensorflow) (3.2.0)\n",
      "Requirement already satisfied: pyparsing>=2.0.2 in c:\\users\\user\\anaconda3\\lib\\site-packages (from packaging->Tensorflow) (2.4.7)\n"
     ]
    }
   ],
   "source": [
    "#Tensorflow 설치하기\n",
    "!pip install Tensorflow"
   ]
  },
  {
   "cell_type": "markdown",
   "metadata": {},
   "source": [
    "* 데이터 프레임 관련 라이브러리"
   ]
  },
  {
   "cell_type": "code",
   "execution_count": 192,
   "metadata": {},
   "outputs": [],
   "source": [
    "#라이브러리 불러오기\n",
    "import tensorflow as tf\n",
    "import numpy as np\n",
    "import pandas as pd\n",
    "import matplotlib.pyplot as plt\n",
    "import seaborn as sns\n",
    "\n",
    "from sklearn.preprocessing import MinMaxScaler\n",
    "from sklearn.model_selection import train_test_split\n",
    "\n",
    "from sklearn.tree import DecisionTreeClassifier, plot_tree\n",
    "from sklearn.neighbors import KNeighborsClassifier, KNeighborsRegressor\n",
    "from sklearn.svm import SVC, SVR\n",
    "from sklearn.ensemble import RandomForestClassifier\n",
    "from xgboost import XGBClassifier\n",
    "from sklearn.metrics import*\n",
    "from sklearn.model_selection import GridSearchCV, RandomizedSearchCV\n",
    "\n",
    "import warnings\n",
    "warnings.filterwarnings(action='ignore')"
   ]
  },
  {
   "cell_type": "markdown",
   "metadata": {
    "tags": []
   },
   "source": [
    "### **나.  학습데이터 불러오기**"
   ]
  },
  {
   "cell_type": "code",
   "execution_count": 193,
   "metadata": {},
   "outputs": [
    {
     "data": {
      "text/html": [
       "<div>\n",
       "<style scoped>\n",
       "    .dataframe tbody tr th:only-of-type {\n",
       "        vertical-align: middle;\n",
       "    }\n",
       "\n",
       "    .dataframe tbody tr th {\n",
       "        vertical-align: top;\n",
       "    }\n",
       "\n",
       "    .dataframe thead th {\n",
       "        text-align: right;\n",
       "    }\n",
       "</style>\n",
       "<table border=\"1\" class=\"dataframe\">\n",
       "  <thead>\n",
       "    <tr style=\"text-align: right;\">\n",
       "      <th></th>\n",
       "      <th>Unnamed: 0</th>\n",
       "      <th>url_len</th>\n",
       "      <th>url_num_hyphens_dom</th>\n",
       "      <th>url_path_len</th>\n",
       "      <th>url_domain_len</th>\n",
       "      <th>url_hostname_len</th>\n",
       "      <th>url_num_dots</th>\n",
       "      <th>url_num_underscores</th>\n",
       "      <th>url_query_len</th>\n",
       "      <th>url_num_query_para</th>\n",
       "      <th>...</th>\n",
       "      <th>html_num_tags('script')</th>\n",
       "      <th>html_num_tags('embed')</th>\n",
       "      <th>html_num_tags('object')</th>\n",
       "      <th>html_num_tags('div')</th>\n",
       "      <th>html_num_tags('head')</th>\n",
       "      <th>html_num_tags('body')</th>\n",
       "      <th>html_num_tags('form')</th>\n",
       "      <th>html_num_tags('a')</th>\n",
       "      <th>html_num_tags('applet')</th>\n",
       "      <th>Result_v1</th>\n",
       "    </tr>\n",
       "  </thead>\n",
       "  <tbody>\n",
       "    <tr>\n",
       "      <th>3659</th>\n",
       "      <td>3659</td>\n",
       "      <td>68.0</td>\n",
       "      <td>3.0</td>\n",
       "      <td>16.0</td>\n",
       "      <td>52.0</td>\n",
       "      <td>52.0</td>\n",
       "      <td>2.0</td>\n",
       "      <td>0.0</td>\n",
       "      <td>0.0</td>\n",
       "      <td>0.0</td>\n",
       "      <td>...</td>\n",
       "      <td>0.0</td>\n",
       "      <td>0.0</td>\n",
       "      <td>0.0</td>\n",
       "      <td>11.0</td>\n",
       "      <td>1.0</td>\n",
       "      <td>1.0</td>\n",
       "      <td>0.0</td>\n",
       "      <td>3.0</td>\n",
       "      <td>0.0</td>\n",
       "      <td>malicious</td>\n",
       "    </tr>\n",
       "    <tr>\n",
       "      <th>3660</th>\n",
       "      <td>3660</td>\n",
       "      <td>66.0</td>\n",
       "      <td>0.0</td>\n",
       "      <td>48.0</td>\n",
       "      <td>18.0</td>\n",
       "      <td>18.0</td>\n",
       "      <td>2.0</td>\n",
       "      <td>0.0</td>\n",
       "      <td>0.0</td>\n",
       "      <td>0.0</td>\n",
       "      <td>...</td>\n",
       "      <td>14.0</td>\n",
       "      <td>0.0</td>\n",
       "      <td>0.0</td>\n",
       "      <td>212.0</td>\n",
       "      <td>1.0</td>\n",
       "      <td>1.0</td>\n",
       "      <td>3.0</td>\n",
       "      <td>475.0</td>\n",
       "      <td>0.0</td>\n",
       "      <td>benign</td>\n",
       "    </tr>\n",
       "    <tr>\n",
       "      <th>3661</th>\n",
       "      <td>3661</td>\n",
       "      <td>90.0</td>\n",
       "      <td>1.0</td>\n",
       "      <td>64.0</td>\n",
       "      <td>26.0</td>\n",
       "      <td>26.0</td>\n",
       "      <td>4.0</td>\n",
       "      <td>0.0</td>\n",
       "      <td>0.0</td>\n",
       "      <td>0.0</td>\n",
       "      <td>...</td>\n",
       "      <td>13.0</td>\n",
       "      <td>0.0</td>\n",
       "      <td>0.0</td>\n",
       "      <td>75.0</td>\n",
       "      <td>1.0</td>\n",
       "      <td>1.0</td>\n",
       "      <td>2.0</td>\n",
       "      <td>103.0</td>\n",
       "      <td>0.0</td>\n",
       "      <td>malicious</td>\n",
       "    </tr>\n",
       "    <tr>\n",
       "      <th>3662</th>\n",
       "      <td>3662</td>\n",
       "      <td>46.0</td>\n",
       "      <td>0.0</td>\n",
       "      <td>33.0</td>\n",
       "      <td>13.0</td>\n",
       "      <td>13.0</td>\n",
       "      <td>3.0</td>\n",
       "      <td>0.0</td>\n",
       "      <td>0.0</td>\n",
       "      <td>0.0</td>\n",
       "      <td>...</td>\n",
       "      <td>0.0</td>\n",
       "      <td>0.0</td>\n",
       "      <td>0.0</td>\n",
       "      <td>4.0</td>\n",
       "      <td>1.0</td>\n",
       "      <td>1.0</td>\n",
       "      <td>0.0</td>\n",
       "      <td>3.0</td>\n",
       "      <td>0.0</td>\n",
       "      <td>benign</td>\n",
       "    </tr>\n",
       "    <tr>\n",
       "      <th>3663</th>\n",
       "      <td>3663</td>\n",
       "      <td>18.0</td>\n",
       "      <td>0.0</td>\n",
       "      <td>0.0</td>\n",
       "      <td>18.0</td>\n",
       "      <td>18.0</td>\n",
       "      <td>2.0</td>\n",
       "      <td>0.0</td>\n",
       "      <td>0.0</td>\n",
       "      <td>0.0</td>\n",
       "      <td>...</td>\n",
       "      <td>3.0</td>\n",
       "      <td>0.0</td>\n",
       "      <td>0.0</td>\n",
       "      <td>282.0</td>\n",
       "      <td>1.0</td>\n",
       "      <td>1.0</td>\n",
       "      <td>2.0</td>\n",
       "      <td>46.0</td>\n",
       "      <td>0.0</td>\n",
       "      <td>benign</td>\n",
       "    </tr>\n",
       "  </tbody>\n",
       "</table>\n",
       "<p>5 rows × 25 columns</p>\n",
       "</div>"
      ],
      "text/plain": [
       "      Unnamed: 0  url_len  url_num_hyphens_dom  url_path_len  url_domain_len  \\\n",
       "3659        3659     68.0                  3.0          16.0            52.0   \n",
       "3660        3660     66.0                  0.0          48.0            18.0   \n",
       "3661        3661     90.0                  1.0          64.0            26.0   \n",
       "3662        3662     46.0                  0.0          33.0            13.0   \n",
       "3663        3663     18.0                  0.0           0.0            18.0   \n",
       "\n",
       "      url_hostname_len  url_num_dots  url_num_underscores  url_query_len  \\\n",
       "3659              52.0           2.0                  0.0            0.0   \n",
       "3660              18.0           2.0                  0.0            0.0   \n",
       "3661              26.0           4.0                  0.0            0.0   \n",
       "3662              13.0           3.0                  0.0            0.0   \n",
       "3663              18.0           2.0                  0.0            0.0   \n",
       "\n",
       "      url_num_query_para  ...  html_num_tags('script')  \\\n",
       "3659                 0.0  ...                      0.0   \n",
       "3660                 0.0  ...                     14.0   \n",
       "3661                 0.0  ...                     13.0   \n",
       "3662                 0.0  ...                      0.0   \n",
       "3663                 0.0  ...                      3.0   \n",
       "\n",
       "      html_num_tags('embed')  html_num_tags('object')  html_num_tags('div')  \\\n",
       "3659                     0.0                      0.0                  11.0   \n",
       "3660                     0.0                      0.0                 212.0   \n",
       "3661                     0.0                      0.0                  75.0   \n",
       "3662                     0.0                      0.0                   4.0   \n",
       "3663                     0.0                      0.0                 282.0   \n",
       "\n",
       "      html_num_tags('head')  html_num_tags('body')  html_num_tags('form')  \\\n",
       "3659                    1.0                    1.0                    0.0   \n",
       "3660                    1.0                    1.0                    3.0   \n",
       "3661                    1.0                    1.0                    2.0   \n",
       "3662                    1.0                    1.0                    0.0   \n",
       "3663                    1.0                    1.0                    2.0   \n",
       "\n",
       "      html_num_tags('a')  html_num_tags('applet')  Result_v1  \n",
       "3659                 3.0                      0.0  malicious  \n",
       "3660               475.0                      0.0     benign  \n",
       "3661               103.0                      0.0  malicious  \n",
       "3662                 3.0                      0.0     benign  \n",
       "3663                46.0                      0.0     benign  \n",
       "\n",
       "[5 rows x 25 columns]"
      ]
     },
     "execution_count": 193,
     "metadata": {},
     "output_type": "execute_result"
    }
   ],
   "source": [
    "data = pd.read_csv('train_dataset.csv', delimiter=',')\n",
    "data.tail()"
   ]
  },
  {
   "cell_type": "code",
   "execution_count": 144,
   "metadata": {
    "collapsed": true,
    "jupyter": {
     "outputs_hidden": true
    },
    "tags": []
   },
   "outputs": [
    {
     "name": "stdout",
     "output_type": "stream",
     "text": [
      "<class 'pandas.core.frame.DataFrame'>\n",
      "RangeIndex: 3664 entries, 0 to 3663\n",
      "Data columns (total 25 columns):\n",
      " #   Column                   Non-Null Count  Dtype  \n",
      "---  ------                   --------------  -----  \n",
      " 0   Unnamed: 0               3664 non-null   int64  \n",
      " 1   url_len                  3664 non-null   float64\n",
      " 2   url_num_hyphens_dom      3664 non-null   float64\n",
      " 3   url_path_len             3663 non-null   float64\n",
      " 4   url_domain_len           3663 non-null   float64\n",
      " 5   url_hostname_len         3664 non-null   float64\n",
      " 6   url_num_dots             3664 non-null   float64\n",
      " 7   url_num_underscores      3664 non-null   float64\n",
      " 8   url_query_len            3664 non-null   float64\n",
      " 9   url_num_query_para       3664 non-null   float64\n",
      " 10  url_ip_present           3664 non-null   float64\n",
      " 11  url_entropy              3664 non-null   float64\n",
      " 12  url_chinese_present      3664 non-null   float64\n",
      " 13  url_port                 3664 non-null   float64\n",
      " 14  html_num_tags('iframe')  3664 non-null   float64\n",
      " 15  html_num_tags('script')  3664 non-null   float64\n",
      " 16  html_num_tags('embed')   3664 non-null   float64\n",
      " 17  html_num_tags('object')  3664 non-null   float64\n",
      " 18  html_num_tags('div')     3664 non-null   float64\n",
      " 19  html_num_tags('head')    3664 non-null   float64\n",
      " 20  html_num_tags('body')    3664 non-null   float64\n",
      " 21  html_num_tags('form')    3664 non-null   float64\n",
      " 22  html_num_tags('a')       3664 non-null   float64\n",
      " 23  html_num_tags('applet')  3664 non-null   float64\n",
      " 24  Result_v1                3664 non-null   object \n",
      "dtypes: float64(23), int64(1), object(1)\n",
      "memory usage: 715.8+ KB\n"
     ]
    }
   ],
   "source": [
    "data.info()"
   ]
  },
  {
   "cell_type": "markdown",
   "metadata": {},
   "source": [
    "### **다.  데이터 전처리**"
   ]
  },
  {
   "cell_type": "code",
   "execution_count": 145,
   "metadata": {},
   "outputs": [],
   "source": [
    "x_list =['url_len',\n",
    "'url_hostname_len',\n",
    "'url_num_query_para' ,\n",
    "'url_port',\n",
    "'url_num_underscores',\n",
    "\"html_num_tags('iframe')\",\n",
    "\"html_num_tags('embed')\",\n",
    "\"html_num_tags('object')\",\n",
    "\"html_num_tags('div')\",\n",
    "\"html_num_tags('head')\",\n",
    "\"html_num_tags('applet')\",\n",
    "'url_chinese_present']\n",
    "df = data.drop(x_list,axis=1)"
   ]
  },
  {
   "cell_type": "code",
   "execution_count": 146,
   "metadata": {},
   "outputs": [],
   "source": [
    "df['Result_v1'] = df['Result_v1'].replace({'benign': 1, 'malicious':-1})"
   ]
  },
  {
   "cell_type": "code",
   "execution_count": 147,
   "metadata": {},
   "outputs": [
    {
     "data": {
      "text/plain": [
       "array([-1,  1], dtype=int64)"
      ]
     },
     "execution_count": 147,
     "metadata": {},
     "output_type": "execute_result"
    }
   ],
   "source": [
    "df['Result_v1'].unique()"
   ]
  },
  {
   "cell_type": "code",
   "execution_count": 148,
   "metadata": {},
   "outputs": [
    {
     "data": {
      "text/plain": [
       "Unnamed: 0                 0\n",
       "url_num_hyphens_dom        0\n",
       "url_path_len               1\n",
       "url_domain_len             1\n",
       "url_num_dots               0\n",
       "url_query_len              0\n",
       "url_ip_present             0\n",
       "url_entropy                0\n",
       "html_num_tags('script')    0\n",
       "html_num_tags('body')      0\n",
       "html_num_tags('form')      0\n",
       "html_num_tags('a')         0\n",
       "Result_v1                  0\n",
       "dtype: int64"
      ]
     },
     "execution_count": 148,
     "metadata": {},
     "output_type": "execute_result"
    }
   ],
   "source": [
    "df.isna().sum()"
   ]
  },
  {
   "cell_type": "code",
   "execution_count": 149,
   "metadata": {},
   "outputs": [],
   "source": [
    "df['url_path_len'] = df['url_path_len'].fillna(df['url_path_len'].mean())\n",
    "df['url_domain_len'] = df['url_domain_len'].fillna(df['url_domain_len'].mean())"
   ]
  },
  {
   "cell_type": "code",
   "execution_count": 150,
   "metadata": {
    "tags": []
   },
   "outputs": [],
   "source": [
    "xx_list = ['Unnamed: 0']\n",
    "df = df.drop(xx_list,axis=1)"
   ]
  },
  {
   "cell_type": "code",
   "execution_count": 100,
   "metadata": {
    "tags": []
   },
   "outputs": [
    {
     "name": "stdout",
     "output_type": "stream",
     "text": [
      "<class 'pandas.core.frame.DataFrame'>\n",
      "RangeIndex: 3664 entries, 0 to 3663\n",
      "Data columns (total 12 columns):\n",
      " #   Column                   Non-Null Count  Dtype  \n",
      "---  ------                   --------------  -----  \n",
      " 0   url_num_hyphens_dom      3664 non-null   float64\n",
      " 1   url_path_len             3664 non-null   float64\n",
      " 2   url_domain_len           3664 non-null   float64\n",
      " 3   url_num_dots             3664 non-null   float64\n",
      " 4   url_query_len            3664 non-null   float64\n",
      " 5   url_ip_present           3664 non-null   float64\n",
      " 6   url_entropy              3664 non-null   float64\n",
      " 7   html_num_tags('script')  3664 non-null   float64\n",
      " 8   html_num_tags('body')    3664 non-null   float64\n",
      " 9   html_num_tags('form')    3664 non-null   float64\n",
      " 10  html_num_tags('a')       3664 non-null   float64\n",
      " 11  Result_v1                3664 non-null   int64  \n",
      "dtypes: float64(11), int64(1)\n",
      "memory usage: 343.6 KB\n"
     ]
    }
   ],
   "source": [
    "df.info()"
   ]
  },
  {
   "cell_type": "code",
   "execution_count": 101,
   "metadata": {},
   "outputs": [
    {
     "data": {
      "image/png": "[encoded data removed]",
      "text/plain": [
       "<Figure size 1080x576 with 2 Axes>"
      ]
     },
     "metadata": {
      "needs_background": "light"
     },
     "output_type": "display_data"
    }
   ],
   "source": [
    "plt.figure(figsize = (15,8))\n",
    "sns.heatmap(df.corr(), annot=True)\n",
    "plt.show()"
   ]
  },
  {
   "cell_type": "markdown",
   "metadata": {},
   "source": [
    "## dfa변수 하나더 만듦"
   ]
  },
  {
   "cell_type": "code",
   "execution_count": 194,
   "metadata": {
    "tags": []
   },
   "outputs": [],
   "source": [
    "xx_list=['Unnamed: 0']\n",
    "dfa = data.drop(xx_list,axis=1)"
   ]
  },
  {
   "cell_type": "code",
   "execution_count": 195,
   "metadata": {
    "tags": []
   },
   "outputs": [
    {
     "data": {
      "text/plain": [
       "array([-1,  1], dtype=int64)"
      ]
     },
     "execution_count": 195,
     "metadata": {},
     "output_type": "execute_result"
    }
   ],
   "source": [
    "dfa['Result_v1'] = dfa['Result_v1'].replace({'benign': 1, 'malicious':-1})\n",
    "\n",
    "dfa['Result_v1'].unique()"
   ]
  },
  {
   "cell_type": "code",
   "execution_count": 196,
   "metadata": {
    "tags": []
   },
   "outputs": [],
   "source": [
    "dfa['url_path_len'] = dfa['url_path_len'].fillna(dfa['url_path_len'].mean())\n",
    "dfa['url_domain_len'] = dfa['url_domain_len'].fillna(dfa['url_domain_len'].mean())"
   ]
  },
  {
   "cell_type": "code",
   "execution_count": 163,
   "metadata": {
    "tags": []
   },
   "outputs": [
    {
     "name": "stdout",
     "output_type": "stream",
     "text": [
      "<class 'pandas.core.frame.DataFrame'>\n",
      "RangeIndex: 3664 entries, 0 to 3663\n",
      "Data columns (total 24 columns):\n",
      " #   Column                   Non-Null Count  Dtype  \n",
      "---  ------                   --------------  -----  \n",
      " 0   url_len                  3664 non-null   float64\n",
      " 1   url_num_hyphens_dom      3664 non-null   float64\n",
      " 2   url_path_len             3664 non-null   float64\n",
      " 3   url_domain_len           3664 non-null   float64\n",
      " 4   url_hostname_len         3664 non-null   float64\n",
      " 5   url_num_dots             3664 non-null   float64\n",
      " 6   url_num_underscores      3664 non-null   float64\n",
      " 7   url_query_len            3664 non-null   float64\n",
      " 8   url_num_query_para       3664 non-null   float64\n",
      " 9   url_ip_present           3664 non-null   float64\n",
      " 10  url_entropy              3664 non-null   float64\n",
      " 11  url_chinese_present      3664 non-null   float64\n",
      " 12  url_port                 3664 non-null   float64\n",
      " 13  html_num_tags('iframe')  3664 non-null   float64\n",
      " 14  html_num_tags('script')  3664 non-null   float64\n",
      " 15  html_num_tags('embed')   3664 non-null   float64\n",
      " 16  html_num_tags('object')  3664 non-null   float64\n",
      " 17  html_num_tags('div')     3664 non-null   float64\n",
      " 18  html_num_tags('head')    3664 non-null   float64\n",
      " 19  html_num_tags('body')    3664 non-null   float64\n",
      " 20  html_num_tags('form')    3664 non-null   float64\n",
      " 21  html_num_tags('a')       3664 non-null   float64\n",
      " 22  html_num_tags('applet')  3664 non-null   float64\n",
      " 23  Result_v1                3664 non-null   int64  \n",
      "dtypes: float64(23), int64(1)\n",
      "memory usage: 687.1 KB\n"
     ]
    }
   ],
   "source": [
    "dfa.info()"
   ]
  },
  {
   "cell_type": "markdown",
   "metadata": {},
   "source": [
    "### **라. train_test_split을 이용하여 train/test  데이터 분리**\n"
   ]
  },
  {
   "cell_type": "code",
   "execution_count": 151,
   "metadata": {},
   "outputs": [],
   "source": [
    "target = 'Result_v1'\n",
    "x = df.drop(target, axis=1)\n",
    "y = df.loc[:,target]"
   ]
  },
  {
   "cell_type": "code",
   "execution_count": 152,
   "metadata": {
    "tags": []
   },
   "outputs": [],
   "source": [
    "# train_test_split 사용\n",
    "x_train, x_test, y_train, y_test = train_test_split(x, y, test_size=.666)"
   ]
  },
  {
   "cell_type": "code",
   "execution_count": 153,
   "metadata": {},
   "outputs": [],
   "source": [
    "scaler = MinMaxScaler()\n",
    "x_train_s = scaler.fit_transform(x_train)\n",
    "x_test_s = scaler.transform(x_test)"
   ]
  },
  {
   "cell_type": "code",
   "execution_count": 131,
   "metadata": {},
   "outputs": [
    {
     "data": {
      "text/plain": [
       "(2441, 23)"
      ]
     },
     "execution_count": 131,
     "metadata": {},
     "output_type": "execute_result"
    }
   ],
   "source": [
    "x_test.shape"
   ]
  },
  {
   "cell_type": "code",
   "execution_count": 154,
   "metadata": {},
   "outputs": [],
   "source": [
    "x_train_s = pd.DataFrame(x_train_s, columns=list(x))"
   ]
  },
  {
   "cell_type": "code",
   "execution_count": 208,
   "metadata": {
    "tags": []
   },
   "outputs": [],
   "source": [
    "dumm_cols = ['Result_v1']     # SKIP\n",
    "y = pd.get_dummies(y, columns = dumm_cols, drop_first = True)"
   ]
  },
  {
   "cell_type": "code",
   "execution_count": 112,
   "metadata": {
    "tags": []
   },
   "outputs": [
    {
     "data": {
      "text/plain": [
       "url_num_hyphens_dom        0\n",
       "url_path_len               0\n",
       "url_domain_len             0\n",
       "url_num_dots               0\n",
       "url_query_len              0\n",
       "url_ip_present             0\n",
       "url_entropy                0\n",
       "html_num_tags('script')    0\n",
       "html_num_tags('body')      0\n",
       "html_num_tags('form')      0\n",
       "html_num_tags('a')         0\n",
       "dtype: int64"
      ]
     },
     "execution_count": 112,
     "metadata": {},
     "output_type": "execute_result"
    }
   ],
   "source": [
    "x_train_s.isna().sum()"
   ]
  },
  {
   "cell_type": "code",
   "execution_count": null,
   "metadata": {},
   "outputs": [],
   "source": []
  },
  {
   "cell_type": "markdown",
   "metadata": {},
   "source": [
    "## dfa 변수"
   ]
  },
  {
   "cell_type": "code",
   "execution_count": 197,
   "metadata": {
    "tags": []
   },
   "outputs": [],
   "source": [
    "target = 'Result_v1'\n",
    "x = dfa.drop(target, axis =1)\n",
    "y = dfa.loc[:, target]"
   ]
  },
  {
   "cell_type": "code",
   "execution_count": 210,
   "metadata": {
    "tags": []
   },
   "outputs": [],
   "source": [
    "x_train, x_test, y_train, y_test = train_test_split(x, y, test_size=.666)"
   ]
  },
  {
   "cell_type": "code",
   "execution_count": 115,
   "metadata": {
    "tags": []
   },
   "outputs": [
    {
     "name": "stdout",
     "output_type": "stream",
     "text": [
      "<class 'pandas.core.frame.DataFrame'>\n",
      "Int64Index: 1100 entries, 2821 to 2814\n",
      "Data columns (total 23 columns):\n",
      " #   Column                   Non-Null Count  Dtype  \n",
      "---  ------                   --------------  -----  \n",
      " 0   url_len                  1100 non-null   float64\n",
      " 1   url_num_hyphens_dom      1100 non-null   float64\n",
      " 2   url_path_len             1100 non-null   float64\n",
      " 3   url_domain_len           1100 non-null   float64\n",
      " 4   url_hostname_len         1100 non-null   float64\n",
      " 5   url_num_dots             1100 non-null   float64\n",
      " 6   url_num_underscores      1100 non-null   float64\n",
      " 7   url_query_len            1100 non-null   float64\n",
      " 8   url_num_query_para       1100 non-null   float64\n",
      " 9   url_ip_present           1100 non-null   float64\n",
      " 10  url_entropy              1100 non-null   float64\n",
      " 11  url_chinese_present      1100 non-null   float64\n",
      " 12  url_port                 1100 non-null   float64\n",
      " 13  html_num_tags('iframe')  1100 non-null   float64\n",
      " 14  html_num_tags('script')  1100 non-null   float64\n",
      " 15  html_num_tags('embed')   1100 non-null   float64\n",
      " 16  html_num_tags('object')  1100 non-null   float64\n",
      " 17  html_num_tags('div')     1100 non-null   float64\n",
      " 18  html_num_tags('head')    1100 non-null   float64\n",
      " 19  html_num_tags('body')    1100 non-null   float64\n",
      " 20  html_num_tags('form')    1100 non-null   float64\n",
      " 21  html_num_tags('a')       1100 non-null   float64\n",
      " 22  html_num_tags('applet')  1100 non-null   float64\n",
      "dtypes: float64(23)\n",
      "memory usage: 206.2 KB\n"
     ]
    }
   ],
   "source": [
    "x_test.info()"
   ]
  },
  {
   "cell_type": "code",
   "execution_count": null,
   "metadata": {},
   "outputs": [],
   "source": []
  },
  {
   "cell_type": "code",
   "execution_count": 116,
   "metadata": {
    "tags": []
   },
   "outputs": [],
   "source": [
    "scaler = MinMaxScaler()\n",
    "x_train_s = scaler.fit_transform(x_train)\n",
    "x_test_s = scaler.transform(x_test)"
   ]
  },
  {
   "cell_type": "code",
   "execution_count": 117,
   "metadata": {
    "tags": []
   },
   "outputs": [],
   "source": [
    "dumm_cols = ['Result_v1'] # skip\n",
    "y = pd.get_dummies(y, columns = dumm_cols, drop_first = True)"
   ]
  },
  {
   "cell_type": "markdown",
   "metadata": {},
   "source": [
    "### **마. Confusion Matrix 함수 정의**\n"
   ]
  },
  {
   "cell_type": "markdown",
   "metadata": {},
   "source": [
    "#### Confusion Matrix란 Training 을 통한 Prediction 성능을 측정하기 위해 예측 value와 실제 value를 비교하기 위한 표입니다.\n",
    "#### 아래 함수는 이번 과제에서 confusion matrix 결과를 보기 쉽게 표현한 것으로 사용 예를 참고하여 모델 결과 확인에 사용하시기 바랍니다.\n",
    "\n"
   ]
  },
  {
   "cell_type": "markdown",
   "metadata": {},
   "source": [
    "**<span style=\"color:green\">[참고링크] 공식 Document**</span>\n",
    " \n",
    "* confusion matrix(https://scikit-learn.org/stable/modules/generated/sklearn.metrics.confusion_matrix.html)"
   ]
  },
  {
   "cell_type": "code",
   "execution_count": 118,
   "metadata": {
    "tags": []
   },
   "outputs": [],
   "source": [
    "from sklearn.metrics import classification_report as creport\n",
    "from sklearn.metrics import confusion_matrix, accuracy_score, precision_score, recall_score"
   ]
  },
  {
   "cell_type": "code",
   "execution_count": 119,
   "metadata": {
    "jupyter": {
     "source_hidden": true
    },
    "tags": []
   },
   "outputs": [],
   "source": [
    "def plot_confusion_matrix(ax, matrix, labels = ['malicious','benign'], title='Confusion matrix', fontsize=9):\n",
    "    ax.set_xticks([x for x in range(len(labels))])\n",
    "    ax.set_yticks([y for y in range(len(labels))])\n",
    "\n",
    "    # Place labels on minor ticks\n",
    "    ax.set_xticks([x + 0.5 for x in range(len(labels))], minor=True)\n",
    "    ax.set_xticklabels(labels, rotation='90', fontsize=fontsize, minor=True)\n",
    "    ax.set_yticks([y + 0.5 for y in range(len(labels))], minor=True)\n",
    "    ax.set_yticklabels(labels[::-1], fontsize=fontsize, minor=True)\n",
    "\n",
    "    # Hide major tick labels\n",
    "    ax.tick_params(which='major', labelbottom='off', labelleft='off')\n",
    "\n",
    "    # Finally, hide minor tick marks\n",
    "    ax.tick_params(which='minor', width=0)\n",
    "\n",
    "    # Plot heat map\n",
    "    proportions = [1. * row / sum(row) for row in matrix]\n",
    "    ax.pcolor(np.array(proportions[::-1]), cmap=plt.cm.Blues)\n",
    "\n",
    "    # Plot counts as text\n",
    "    for row in range(len(matrix)):\n",
    "        for col in range(len(matrix[row])):\n",
    "            confusion = matrix[::-1][row][col]\n",
    "            if confusion != 0:\n",
    "                ax.text(col + 0.5, row + 0.5, int(confusion),\n",
    "                        fontsize=fontsize,\n",
    "                        horizontalalignment='center',\n",
    "                        verticalalignment='center')\n",
    "\n",
    "    # Add finishing touches\n",
    "    ax.grid(True, linestyle=':')\n",
    "    ax.set_title(title, fontsize=fontsize)\n",
    "    ax.set_xlabel('prediction', fontsize=fontsize)\n",
    "    ax.set_ylabel('actual', fontsize=fontsize)\n",
    "\n",
    "    plt.show()"
   ]
  },
  {
   "cell_type": "markdown",
   "metadata": {},
   "source": [
    "### <span style=\"color:blue\">[예시] Confusion Matrix 사용 방법<span>"
   ]
  },
  {
   "cell_type": "markdown",
   "metadata": {},
   "source": [
    "- 샘플\n",
    "#### > confusion = confusion_matrix(test_y, dt_pred)\n",
    "#### > fig, ax = plt.subplots(figsize=(10,3))\n",
    "#### > plot_confusion_matrix(ax, confusion, fontsize=30)\n"
   ]
  },
  {
   "attachments": {
    "2d1c1b93-2db6-45e4-91b4-cee7ea6ef268.png": {
     "image/png": "[encoded data removed]"
    }
   },
   "cell_type": "markdown",
   "metadata": {},
   "source": [
    "![confusion_matrix.png](attachment:2d1c1b93-2db6-45e4-91b4-cee7ea6ef268.png)"
   ]
  },
  {
   "cell_type": "markdown",
   "metadata": {},
   "source": [
    "---"
   ]
  },
  {
   "cell_type": "markdown",
   "metadata": {},
   "source": [
    "## <b> Q. AI 분류 모델 만들기\n",
    "\n",
    "* 전처리한 데이터셋을 활용해 악성사이트 여부를 판별하는 AI 분류 모델을 <font color=\"red\">최소 3개 이상 </font>만들어보세요."
   ]
  },
  {
   "cell_type": "code",
   "execution_count": 120,
   "metadata": {},
   "outputs": [],
   "source": [
    "# submit=pd.read_csv('sample_submission.csv')"
   ]
  },
  {
   "cell_type": "code",
   "execution_count": 121,
   "metadata": {
    "collapsed": true,
    "jupyter": {
     "outputs_hidden": true
    },
    "tags": []
   },
   "outputs": [
    {
     "ename": "FileNotFoundError",
     "evalue": "[Errno 2] No such file or directory: '/kaggle/input/titanic/gender_submission.csv'",
     "output_type": "error",
     "traceback": [
      "\u001b[1;31m---------------------------------------------------------------------------\u001b[0m",
      "\u001b[1;31mFileNotFoundError\u001b[0m                         Traceback (most recent call last)",
      "\u001b[1;32m<ipython-input-121-29c2f1710027>\u001b[0m in \u001b[0;36m<module>\u001b[1;34m\u001b[0m\n\u001b[1;32m----> 1\u001b[1;33m \u001b[0mdf1\u001b[0m \u001b[1;33m=\u001b[0m \u001b[0mpd\u001b[0m\u001b[1;33m.\u001b[0m\u001b[0mread_csv\u001b[0m\u001b[1;33m(\u001b[0m\u001b[1;34m'/kaggle/input/titanic/gender_submission.csv'\u001b[0m\u001b[1;33m)\u001b[0m\u001b[1;33m\u001b[0m\u001b[1;33m\u001b[0m\u001b[0m\n\u001b[0m\u001b[0;32m      2\u001b[0m \u001b[0mdf1\u001b[0m\u001b[1;33m.\u001b[0m\u001b[0mto_csv\u001b[0m\u001b[1;33m(\u001b[0m\u001b[1;34m'gender_submission.csv'\u001b[0m\u001b[1;33m,\u001b[0m\u001b[0mindex\u001b[0m \u001b[1;33m=\u001b[0m \u001b[1;32mFalse\u001b[0m\u001b[1;33m)\u001b[0m\u001b[1;33m\u001b[0m\u001b[1;33m\u001b[0m\u001b[0m\n",
      "\u001b[1;32m~\\anaconda3\\lib\\site-packages\\pandas\\io\\parsers.py\u001b[0m in \u001b[0;36mread_csv\u001b[1;34m(filepath_or_buffer, sep, delimiter, header, names, index_col, usecols, squeeze, prefix, mangle_dupe_cols, dtype, engine, converters, true_values, false_values, skipinitialspace, skiprows, skipfooter, nrows, na_values, keep_default_na, na_filter, verbose, skip_blank_lines, parse_dates, infer_datetime_format, keep_date_col, date_parser, dayfirst, cache_dates, iterator, chunksize, compression, thousands, decimal, lineterminator, quotechar, quoting, doublequote, escapechar, comment, encoding, dialect, error_bad_lines, warn_bad_lines, delim_whitespace, low_memory, memory_map, float_precision, storage_options)\u001b[0m\n\u001b[0;32m    608\u001b[0m     \u001b[0mkwds\u001b[0m\u001b[1;33m.\u001b[0m\u001b[0mupdate\u001b[0m\u001b[1;33m(\u001b[0m\u001b[0mkwds_defaults\u001b[0m\u001b[1;33m)\u001b[0m\u001b[1;33m\u001b[0m\u001b[1;33m\u001b[0m\u001b[0m\n\u001b[0;32m    609\u001b[0m \u001b[1;33m\u001b[0m\u001b[0m\n\u001b[1;32m--> 610\u001b[1;33m     \u001b[1;32mreturn\u001b[0m \u001b[0m_read\u001b[0m\u001b[1;33m(\u001b[0m\u001b[0mfilepath_or_buffer\u001b[0m\u001b[1;33m,\u001b[0m \u001b[0mkwds\u001b[0m\u001b[1;33m)\u001b[0m\u001b[1;33m\u001b[0m\u001b[1;33m\u001b[0m\u001b[0m\n\u001b[0m\u001b[0;32m    611\u001b[0m \u001b[1;33m\u001b[0m\u001b[0m\n\u001b[0;32m    612\u001b[0m \u001b[1;33m\u001b[0m\u001b[0m\n",
      "\u001b[1;32m~\\anaconda3\\lib\\site-packages\\pandas\\io\\parsers.py\u001b[0m in \u001b[0;36m_read\u001b[1;34m(filepath_or_buffer, kwds)\u001b[0m\n\u001b[0;32m    460\u001b[0m \u001b[1;33m\u001b[0m\u001b[0m\n\u001b[0;32m    461\u001b[0m     \u001b[1;31m# Create the parser.\u001b[0m\u001b[1;33m\u001b[0m\u001b[1;33m\u001b[0m\u001b[1;33m\u001b[0m\u001b[0m\n\u001b[1;32m--> 462\u001b[1;33m     \u001b[0mparser\u001b[0m \u001b[1;33m=\u001b[0m \u001b[0mTextFileReader\u001b[0m\u001b[1;33m(\u001b[0m\u001b[0mfilepath_or_buffer\u001b[0m\u001b[1;33m,\u001b[0m \u001b[1;33m**\u001b[0m\u001b[0mkwds\u001b[0m\u001b[1;33m)\u001b[0m\u001b[1;33m\u001b[0m\u001b[1;33m\u001b[0m\u001b[0m\n\u001b[0m\u001b[0;32m    463\u001b[0m \u001b[1;33m\u001b[0m\u001b[0m\n\u001b[0;32m    464\u001b[0m     \u001b[1;32mif\u001b[0m \u001b[0mchunksize\u001b[0m \u001b[1;32mor\u001b[0m \u001b[0miterator\u001b[0m\u001b[1;33m:\u001b[0m\u001b[1;33m\u001b[0m\u001b[1;33m\u001b[0m\u001b[0m\n",
      "\u001b[1;32m~\\anaconda3\\lib\\site-packages\\pandas\\io\\parsers.py\u001b[0m in \u001b[0;36m__init__\u001b[1;34m(self, f, engine, **kwds)\u001b[0m\n\u001b[0;32m    817\u001b[0m             \u001b[0mself\u001b[0m\u001b[1;33m.\u001b[0m\u001b[0moptions\u001b[0m\u001b[1;33m[\u001b[0m\u001b[1;34m\"has_index_names\"\u001b[0m\u001b[1;33m]\u001b[0m \u001b[1;33m=\u001b[0m \u001b[0mkwds\u001b[0m\u001b[1;33m[\u001b[0m\u001b[1;34m\"has_index_names\"\u001b[0m\u001b[1;33m]\u001b[0m\u001b[1;33m\u001b[0m\u001b[1;33m\u001b[0m\u001b[0m\n\u001b[0;32m    818\u001b[0m \u001b[1;33m\u001b[0m\u001b[0m\n\u001b[1;32m--> 819\u001b[1;33m         \u001b[0mself\u001b[0m\u001b[1;33m.\u001b[0m\u001b[0m_engine\u001b[0m \u001b[1;33m=\u001b[0m \u001b[0mself\u001b[0m\u001b[1;33m.\u001b[0m\u001b[0m_make_engine\u001b[0m\u001b[1;33m(\u001b[0m\u001b[0mself\u001b[0m\u001b[1;33m.\u001b[0m\u001b[0mengine\u001b[0m\u001b[1;33m)\u001b[0m\u001b[1;33m\u001b[0m\u001b[1;33m\u001b[0m\u001b[0m\n\u001b[0m\u001b[0;32m    820\u001b[0m \u001b[1;33m\u001b[0m\u001b[0m\n\u001b[0;32m    821\u001b[0m     \u001b[1;32mdef\u001b[0m \u001b[0mclose\u001b[0m\u001b[1;33m(\u001b[0m\u001b[0mself\u001b[0m\u001b[1;33m)\u001b[0m\u001b[1;33m:\u001b[0m\u001b[1;33m\u001b[0m\u001b[1;33m\u001b[0m\u001b[0m\n",
      "\u001b[1;32m~\\anaconda3\\lib\\site-packages\\pandas\\io\\parsers.py\u001b[0m in \u001b[0;36m_make_engine\u001b[1;34m(self, engine)\u001b[0m\n\u001b[0;32m   1048\u001b[0m             )\n\u001b[0;32m   1049\u001b[0m         \u001b[1;31m# error: Too many arguments for \"ParserBase\"\u001b[0m\u001b[1;33m\u001b[0m\u001b[1;33m\u001b[0m\u001b[1;33m\u001b[0m\u001b[0m\n\u001b[1;32m-> 1050\u001b[1;33m         \u001b[1;32mreturn\u001b[0m \u001b[0mmapping\u001b[0m\u001b[1;33m[\u001b[0m\u001b[0mengine\u001b[0m\u001b[1;33m]\u001b[0m\u001b[1;33m(\u001b[0m\u001b[0mself\u001b[0m\u001b[1;33m.\u001b[0m\u001b[0mf\u001b[0m\u001b[1;33m,\u001b[0m \u001b[1;33m**\u001b[0m\u001b[0mself\u001b[0m\u001b[1;33m.\u001b[0m\u001b[0moptions\u001b[0m\u001b[1;33m)\u001b[0m  \u001b[1;31m# type: ignore[call-arg]\u001b[0m\u001b[1;33m\u001b[0m\u001b[1;33m\u001b[0m\u001b[0m\n\u001b[0m\u001b[0;32m   1051\u001b[0m \u001b[1;33m\u001b[0m\u001b[0m\n\u001b[0;32m   1052\u001b[0m     \u001b[1;32mdef\u001b[0m \u001b[0m_failover_to_python\u001b[0m\u001b[1;33m(\u001b[0m\u001b[0mself\u001b[0m\u001b[1;33m)\u001b[0m\u001b[1;33m:\u001b[0m\u001b[1;33m\u001b[0m\u001b[1;33m\u001b[0m\u001b[0m\n",
      "\u001b[1;32m~\\anaconda3\\lib\\site-packages\\pandas\\io\\parsers.py\u001b[0m in \u001b[0;36m__init__\u001b[1;34m(self, src, **kwds)\u001b[0m\n\u001b[0;32m   1865\u001b[0m \u001b[1;33m\u001b[0m\u001b[0m\n\u001b[0;32m   1866\u001b[0m         \u001b[1;31m# open handles\u001b[0m\u001b[1;33m\u001b[0m\u001b[1;33m\u001b[0m\u001b[1;33m\u001b[0m\u001b[0m\n\u001b[1;32m-> 1867\u001b[1;33m         \u001b[0mself\u001b[0m\u001b[1;33m.\u001b[0m\u001b[0m_open_handles\u001b[0m\u001b[1;33m(\u001b[0m\u001b[0msrc\u001b[0m\u001b[1;33m,\u001b[0m \u001b[0mkwds\u001b[0m\u001b[1;33m)\u001b[0m\u001b[1;33m\u001b[0m\u001b[1;33m\u001b[0m\u001b[0m\n\u001b[0m\u001b[0;32m   1868\u001b[0m         \u001b[1;32massert\u001b[0m \u001b[0mself\u001b[0m\u001b[1;33m.\u001b[0m\u001b[0mhandles\u001b[0m \u001b[1;32mis\u001b[0m \u001b[1;32mnot\u001b[0m \u001b[1;32mNone\u001b[0m\u001b[1;33m\u001b[0m\u001b[1;33m\u001b[0m\u001b[0m\n\u001b[0;32m   1869\u001b[0m         \u001b[1;32mfor\u001b[0m \u001b[0mkey\u001b[0m \u001b[1;32min\u001b[0m \u001b[1;33m(\u001b[0m\u001b[1;34m\"storage_options\"\u001b[0m\u001b[1;33m,\u001b[0m \u001b[1;34m\"encoding\"\u001b[0m\u001b[1;33m,\u001b[0m \u001b[1;34m\"memory_map\"\u001b[0m\u001b[1;33m,\u001b[0m \u001b[1;34m\"compression\"\u001b[0m\u001b[1;33m)\u001b[0m\u001b[1;33m:\u001b[0m\u001b[1;33m\u001b[0m\u001b[1;33m\u001b[0m\u001b[0m\n",
      "\u001b[1;32m~\\anaconda3\\lib\\site-packages\\pandas\\io\\parsers.py\u001b[0m in \u001b[0;36m_open_handles\u001b[1;34m(self, src, kwds)\u001b[0m\n\u001b[0;32m   1360\u001b[0m         \u001b[0mLet\u001b[0m \u001b[0mthe\u001b[0m \u001b[0mreaders\u001b[0m \u001b[0mopen\u001b[0m \u001b[0mIOHanldes\u001b[0m \u001b[0mafter\u001b[0m \u001b[0mthey\u001b[0m \u001b[0mare\u001b[0m \u001b[0mdone\u001b[0m \u001b[1;32mwith\u001b[0m \u001b[0mtheir\u001b[0m \u001b[0mpotential\u001b[0m \u001b[0mraises\u001b[0m\u001b[1;33m.\u001b[0m\u001b[1;33m\u001b[0m\u001b[1;33m\u001b[0m\u001b[0m\n\u001b[0;32m   1361\u001b[0m         \"\"\"\n\u001b[1;32m-> 1362\u001b[1;33m         self.handles = get_handle(\n\u001b[0m\u001b[0;32m   1363\u001b[0m             \u001b[0msrc\u001b[0m\u001b[1;33m,\u001b[0m\u001b[1;33m\u001b[0m\u001b[1;33m\u001b[0m\u001b[0m\n\u001b[0;32m   1364\u001b[0m             \u001b[1;34m\"r\"\u001b[0m\u001b[1;33m,\u001b[0m\u001b[1;33m\u001b[0m\u001b[1;33m\u001b[0m\u001b[0m\n",
      "\u001b[1;32m~\\anaconda3\\lib\\site-packages\\pandas\\io\\common.py\u001b[0m in \u001b[0;36mget_handle\u001b[1;34m(path_or_buf, mode, encoding, compression, memory_map, is_text, errors, storage_options)\u001b[0m\n\u001b[0;32m    640\u001b[0m                 \u001b[0merrors\u001b[0m \u001b[1;33m=\u001b[0m \u001b[1;34m\"replace\"\u001b[0m\u001b[1;33m\u001b[0m\u001b[1;33m\u001b[0m\u001b[0m\n\u001b[0;32m    641\u001b[0m             \u001b[1;31m# Encoding\u001b[0m\u001b[1;33m\u001b[0m\u001b[1;33m\u001b[0m\u001b[1;33m\u001b[0m\u001b[0m\n\u001b[1;32m--> 642\u001b[1;33m             handle = open(\n\u001b[0m\u001b[0;32m    643\u001b[0m                 \u001b[0mhandle\u001b[0m\u001b[1;33m,\u001b[0m\u001b[1;33m\u001b[0m\u001b[1;33m\u001b[0m\u001b[0m\n\u001b[0;32m    644\u001b[0m                 \u001b[0mioargs\u001b[0m\u001b[1;33m.\u001b[0m\u001b[0mmode\u001b[0m\u001b[1;33m,\u001b[0m\u001b[1;33m\u001b[0m\u001b[1;33m\u001b[0m\u001b[0m\n",
      "\u001b[1;31mFileNotFoundError\u001b[0m: [Errno 2] No such file or directory: '/kaggle/input/titanic/gender_submission.csv'"
     ]
    }
   ],
   "source": [
    "# df1 = pd.read_csv('/kaggle/input/titanic/gender_submission.csv')\n",
    "# df1.to_csv('gender_submission.csv',index = False)"
   ]
  },
  {
   "cell_type": "code",
   "execution_count": null,
   "metadata": {},
   "outputs": [],
   "source": []
  },
  {
   "cell_type": "code",
   "execution_count": 122,
   "metadata": {
    "collapsed": true,
    "jupyter": {
     "outputs_hidden": true
    },
    "tags": []
   },
   "outputs": [
    {
     "name": "stdout",
     "output_type": "stream",
     "text": [
      "Fitting 5 folds for each of 80 candidates, totalling 400 fits\n",
      "[CV 1/5] END ...............metric=euclidean, n_neighbors=10; total time=   0.0s\n",
      "[CV 2/5] END ...............metric=euclidean, n_neighbors=10; total time=   0.0s\n",
      "[CV 3/5] END ...............metric=euclidean, n_neighbors=10; total time=   0.0s\n",
      "[CV 4/5] END ...............metric=euclidean, n_neighbors=10; total time=   0.0s\n",
      "[CV 5/5] END ...............metric=euclidean, n_neighbors=10; total time=   0.0s\n",
      "[CV 1/5] END ...............metric=euclidean, n_neighbors=11; total time=   0.0s\n",
      "[CV 2/5] END ...............metric=euclidean, n_neighbors=11; total time=   0.0s\n",
      "[CV 3/5] END ...............metric=euclidean, n_neighbors=11; total time=   0.0s\n",
      "[CV 4/5] END ...............metric=euclidean, n_neighbors=11; total time=   0.0s\n",
      "[CV 5/5] END ...............metric=euclidean, n_neighbors=11; total time=   0.0s\n",
      "[CV 1/5] END ...............metric=euclidean, n_neighbors=12; total time=   0.0s\n",
      "[CV 2/5] END ...............metric=euclidean, n_neighbors=12; total time=   0.0s\n",
      "[CV 3/5] END ...............metric=euclidean, n_neighbors=12; total time=   0.0s\n",
      "[CV 4/5] END ...............metric=euclidean, n_neighbors=12; total time=   0.0s\n",
      "[CV 5/5] END ...............metric=euclidean, n_neighbors=12; total time=   0.0s\n",
      "[CV 1/5] END ...............metric=euclidean, n_neighbors=13; total time=   0.0s\n",
      "[CV 2/5] END ...............metric=euclidean, n_neighbors=13; total time=   0.0s\n",
      "[CV 3/5] END ...............metric=euclidean, n_neighbors=13; total time=   0.0s\n",
      "[CV 4/5] END ...............metric=euclidean, n_neighbors=13; total time=   0.0s\n",
      "[CV 5/5] END ...............metric=euclidean, n_neighbors=13; total time=   0.0s\n",
      "[CV 1/5] END ...............metric=euclidean, n_neighbors=14; total time=   0.0s\n",
      "[CV 2/5] END ...............metric=euclidean, n_neighbors=14; total time=   0.0s\n",
      "[CV 3/5] END ...............metric=euclidean, n_neighbors=14; total time=   0.0s\n",
      "[CV 4/5] END ...............metric=euclidean, n_neighbors=14; total time=   0.0s\n",
      "[CV 5/5] END ...............metric=euclidean, n_neighbors=14; total time=   0.0s\n",
      "[CV 1/5] END ...............metric=euclidean, n_neighbors=15; total time=   0.0s\n",
      "[CV 2/5] END ...............metric=euclidean, n_neighbors=15; total time=   0.0s\n",
      "[CV 3/5] END ...............metric=euclidean, n_neighbors=15; total time=   0.0s\n",
      "[CV 4/5] END ...............metric=euclidean, n_neighbors=15; total time=   0.0s\n",
      "[CV 5/5] END ...............metric=euclidean, n_neighbors=15; total time=   0.0s\n",
      "[CV 1/5] END ...............metric=euclidean, n_neighbors=16; total time=   0.0s\n",
      "[CV 2/5] END ...............metric=euclidean, n_neighbors=16; total time=   0.0s\n",
      "[CV 3/5] END ...............metric=euclidean, n_neighbors=16; total time=   0.0s\n",
      "[CV 4/5] END ...............metric=euclidean, n_neighbors=16; total time=   0.0s\n",
      "[CV 5/5] END ...............metric=euclidean, n_neighbors=16; total time=   0.0s\n",
      "[CV 1/5] END ...............metric=euclidean, n_neighbors=17; total time=   0.0s\n",
      "[CV 2/5] END ...............metric=euclidean, n_neighbors=17; total time=   0.0s\n",
      "[CV 3/5] END ...............metric=euclidean, n_neighbors=17; total time=   0.0s\n",
      "[CV 4/5] END ...............metric=euclidean, n_neighbors=17; total time=   0.0s\n",
      "[CV 5/5] END ...............metric=euclidean, n_neighbors=17; total time=   0.0s\n",
      "[CV 1/5] END ...............metric=euclidean, n_neighbors=18; total time=   0.0s\n",
      "[CV 2/5] END ...............metric=euclidean, n_neighbors=18; total time=   0.0s\n",
      "[CV 3/5] END ...............metric=euclidean, n_neighbors=18; total time=   0.0s\n",
      "[CV 4/5] END ...............metric=euclidean, n_neighbors=18; total time=   0.0s\n",
      "[CV 5/5] END ...............metric=euclidean, n_neighbors=18; total time=   0.0s\n",
      "[CV 1/5] END ...............metric=euclidean, n_neighbors=19; total time=   0.0s\n",
      "[CV 2/5] END ...............metric=euclidean, n_neighbors=19; total time=   0.0s\n",
      "[CV 3/5] END ...............metric=euclidean, n_neighbors=19; total time=   0.0s\n",
      "[CV 4/5] END ...............metric=euclidean, n_neighbors=19; total time=   0.0s\n",
      "[CV 5/5] END ...............metric=euclidean, n_neighbors=19; total time=   0.0s\n",
      "[CV 1/5] END ...............metric=euclidean, n_neighbors=20; total time=   0.0s\n",
      "[CV 2/5] END ...............metric=euclidean, n_neighbors=20; total time=   0.0s\n",
      "[CV 3/5] END ...............metric=euclidean, n_neighbors=20; total time=   0.0s\n",
      "[CV 4/5] END ...............metric=euclidean, n_neighbors=20; total time=   0.0s\n",
      "[CV 5/5] END ...............metric=euclidean, n_neighbors=20; total time=   0.0s\n",
      "[CV 1/5] END ...............metric=euclidean, n_neighbors=21; total time=   0.0s\n",
      "[CV 2/5] END ...............metric=euclidean, n_neighbors=21; total time=   0.0s\n",
      "[CV 3/5] END ...............metric=euclidean, n_neighbors=21; total time=   0.0s\n",
      "[CV 4/5] END ...............metric=euclidean, n_neighbors=21; total time=   0.0s\n",
      "[CV 5/5] END ...............metric=euclidean, n_neighbors=21; total time=   0.0s\n",
      "[CV 1/5] END ...............metric=euclidean, n_neighbors=22; total time=   0.0s\n",
      "[CV 2/5] END ...............metric=euclidean, n_neighbors=22; total time=   0.0s\n",
      "[CV 3/5] END ...............metric=euclidean, n_neighbors=22; total time=   0.0s\n",
      "[CV 4/5] END ...............metric=euclidean, n_neighbors=22; total time=   0.0s\n",
      "[CV 5/5] END ...............metric=euclidean, n_neighbors=22; total time=   0.0s\n",
      "[CV 1/5] END ...............metric=euclidean, n_neighbors=23; total time=   0.0s\n",
      "[CV 2/5] END ...............metric=euclidean, n_neighbors=23; total time=   0.0s\n",
      "[CV 3/5] END ...............metric=euclidean, n_neighbors=23; total time=   0.0s\n",
      "[CV 4/5] END ...............metric=euclidean, n_neighbors=23; total time=   0.0s\n",
      "[CV 5/5] END ...............metric=euclidean, n_neighbors=23; total time=   0.0s\n",
      "[CV 1/5] END ...............metric=euclidean, n_neighbors=24; total time=   0.0s\n",
      "[CV 2/5] END ...............metric=euclidean, n_neighbors=24; total time=   0.0s\n",
      "[CV 3/5] END ...............metric=euclidean, n_neighbors=24; total time=   0.0s\n",
      "[CV 4/5] END ...............metric=euclidean, n_neighbors=24; total time=   0.0s\n",
      "[CV 5/5] END ...............metric=euclidean, n_neighbors=24; total time=   0.0s\n",
      "[CV 1/5] END ...............metric=euclidean, n_neighbors=25; total time=   0.0s\n",
      "[CV 2/5] END ...............metric=euclidean, n_neighbors=25; total time=   0.0s\n",
      "[CV 3/5] END ...............metric=euclidean, n_neighbors=25; total time=   0.0s\n",
      "[CV 4/5] END ...............metric=euclidean, n_neighbors=25; total time=   0.0s\n",
      "[CV 5/5] END ...............metric=euclidean, n_neighbors=25; total time=   0.0s\n",
      "[CV 1/5] END ...............metric=euclidean, n_neighbors=26; total time=   0.0s\n",
      "[CV 2/5] END ...............metric=euclidean, n_neighbors=26; total time=   0.0s\n",
      "[CV 3/5] END ...............metric=euclidean, n_neighbors=26; total time=   0.0s\n",
      "[CV 4/5] END ...............metric=euclidean, n_neighbors=26; total time=   0.0s\n",
      "[CV 5/5] END ...............metric=euclidean, n_neighbors=26; total time=   0.0s\n",
      "[CV 1/5] END ...............metric=euclidean, n_neighbors=27; total time=   0.0s\n",
      "[CV 2/5] END ...............metric=euclidean, n_neighbors=27; total time=   0.0s\n",
      "[CV 3/5] END ...............metric=euclidean, n_neighbors=27; total time=   0.0s\n",
      "[CV 4/5] END ...............metric=euclidean, n_neighbors=27; total time=   0.0s\n",
      "[CV 5/5] END ...............metric=euclidean, n_neighbors=27; total time=   0.0s\n",
      "[CV 1/5] END ...............metric=euclidean, n_neighbors=28; total time=   0.0s\n",
      "[CV 2/5] END ...............metric=euclidean, n_neighbors=28; total time=   0.0s\n",
      "[CV 3/5] END ...............metric=euclidean, n_neighbors=28; total time=   0.0s\n",
      "[CV 4/5] END ...............metric=euclidean, n_neighbors=28; total time=   0.0s\n",
      "[CV 5/5] END ...............metric=euclidean, n_neighbors=28; total time=   0.0s\n",
      "[CV 1/5] END ...............metric=euclidean, n_neighbors=29; total time=   0.0s\n",
      "[CV 2/5] END ...............metric=euclidean, n_neighbors=29; total time=   0.0s\n",
      "[CV 3/5] END ...............metric=euclidean, n_neighbors=29; total time=   0.0s\n",
      "[CV 4/5] END ...............metric=euclidean, n_neighbors=29; total time=   0.0s\n",
      "[CV 5/5] END ...............metric=euclidean, n_neighbors=29; total time=   0.0s\n",
      "[CV 1/5] END ...............metric=euclidean, n_neighbors=30; total time=   0.0s\n",
      "[CV 2/5] END ...............metric=euclidean, n_neighbors=30; total time=   0.0s\n",
      "[CV 3/5] END ...............metric=euclidean, n_neighbors=30; total time=   0.0s\n",
      "[CV 4/5] END ...............metric=euclidean, n_neighbors=30; total time=   0.0s\n",
      "[CV 5/5] END ...............metric=euclidean, n_neighbors=30; total time=   0.0s\n",
      "[CV 1/5] END ...............metric=euclidean, n_neighbors=31; total time=   0.0s\n",
      "[CV 2/5] END ...............metric=euclidean, n_neighbors=31; total time=   0.0s\n",
      "[CV 3/5] END ...............metric=euclidean, n_neighbors=31; total time=   0.0s\n",
      "[CV 4/5] END ...............metric=euclidean, n_neighbors=31; total time=   0.0s\n",
      "[CV 5/5] END ...............metric=euclidean, n_neighbors=31; total time=   0.0s\n",
      "[CV 1/5] END ...............metric=euclidean, n_neighbors=32; total time=   0.0s\n",
      "[CV 2/5] END ...............metric=euclidean, n_neighbors=32; total time=   0.0s\n",
      "[CV 3/5] END ...............metric=euclidean, n_neighbors=32; total time=   0.0s\n",
      "[CV 4/5] END ...............metric=euclidean, n_neighbors=32; total time=   0.0s\n",
      "[CV 5/5] END ...............metric=euclidean, n_neighbors=32; total time=   0.0s\n",
      "[CV 1/5] END ...............metric=euclidean, n_neighbors=33; total time=   0.0s\n",
      "[CV 2/5] END ...............metric=euclidean, n_neighbors=33; total time=   0.0s\n",
      "[CV 3/5] END ...............metric=euclidean, n_neighbors=33; total time=   0.0s\n",
      "[CV 4/5] END ...............metric=euclidean, n_neighbors=33; total time=   0.0s\n",
      "[CV 5/5] END ...............metric=euclidean, n_neighbors=33; total time=   0.0s\n",
      "[CV 1/5] END ...............metric=euclidean, n_neighbors=34; total time=   0.0s\n",
      "[CV 2/5] END ...............metric=euclidean, n_neighbors=34; total time=   0.0s\n",
      "[CV 3/5] END ...............metric=euclidean, n_neighbors=34; total time=   0.0s\n",
      "[CV 4/5] END ...............metric=euclidean, n_neighbors=34; total time=   0.0s\n",
      "[CV 5/5] END ...............metric=euclidean, n_neighbors=34; total time=   0.0s\n",
      "[CV 1/5] END ...............metric=euclidean, n_neighbors=35; total time=   0.0s\n",
      "[CV 2/5] END ...............metric=euclidean, n_neighbors=35; total time=   0.0s\n",
      "[CV 3/5] END ...............metric=euclidean, n_neighbors=35; total time=   0.0s\n",
      "[CV 4/5] END ...............metric=euclidean, n_neighbors=35; total time=   0.0s\n",
      "[CV 5/5] END ...............metric=euclidean, n_neighbors=35; total time=   0.0s\n",
      "[CV 1/5] END ...............metric=euclidean, n_neighbors=36; total time=   0.0s\n",
      "[CV 2/5] END ...............metric=euclidean, n_neighbors=36; total time=   0.0s\n",
      "[CV 3/5] END ...............metric=euclidean, n_neighbors=36; total time=   0.0s\n",
      "[CV 4/5] END ...............metric=euclidean, n_neighbors=36; total time=   0.0s\n",
      "[CV 5/5] END ...............metric=euclidean, n_neighbors=36; total time=   0.0s\n",
      "[CV 1/5] END ...............metric=euclidean, n_neighbors=37; total time=   0.0s\n",
      "[CV 2/5] END ...............metric=euclidean, n_neighbors=37; total time=   0.0s\n",
      "[CV 3/5] END ...............metric=euclidean, n_neighbors=37; total time=   0.0s\n",
      "[CV 4/5] END ...............metric=euclidean, n_neighbors=37; total time=   0.0s\n",
      "[CV 5/5] END ...............metric=euclidean, n_neighbors=37; total time=   0.0s\n",
      "[CV 1/5] END ...............metric=euclidean, n_neighbors=38; total time=   0.0s\n",
      "[CV 2/5] END ...............metric=euclidean, n_neighbors=38; total time=   0.0s\n",
      "[CV 3/5] END ...............metric=euclidean, n_neighbors=38; total time=   0.0s\n",
      "[CV 4/5] END ...............metric=euclidean, n_neighbors=38; total time=   0.0s\n",
      "[CV 5/5] END ...............metric=euclidean, n_neighbors=38; total time=   0.0s\n",
      "[CV 1/5] END ...............metric=euclidean, n_neighbors=39; total time=   0.0s\n",
      "[CV 2/5] END ...............metric=euclidean, n_neighbors=39; total time=   0.0s\n",
      "[CV 3/5] END ...............metric=euclidean, n_neighbors=39; total time=   0.0s\n",
      "[CV 4/5] END ...............metric=euclidean, n_neighbors=39; total time=   0.0s\n",
      "[CV 5/5] END ...............metric=euclidean, n_neighbors=39; total time=   0.0s\n",
      "[CV 1/5] END ...............metric=euclidean, n_neighbors=40; total time=   0.0s\n",
      "[CV 2/5] END ...............metric=euclidean, n_neighbors=40; total time=   0.0s\n",
      "[CV 3/5] END ...............metric=euclidean, n_neighbors=40; total time=   0.0s\n",
      "[CV 4/5] END ...............metric=euclidean, n_neighbors=40; total time=   0.0s\n",
      "[CV 5/5] END ...............metric=euclidean, n_neighbors=40; total time=   0.0s\n",
      "[CV 1/5] END ...............metric=euclidean, n_neighbors=41; total time=   0.0s\n",
      "[CV 2/5] END ...............metric=euclidean, n_neighbors=41; total time=   0.0s\n",
      "[CV 3/5] END ...............metric=euclidean, n_neighbors=41; total time=   0.0s\n",
      "[CV 4/5] END ...............metric=euclidean, n_neighbors=41; total time=   0.0s\n",
      "[CV 5/5] END ...............metric=euclidean, n_neighbors=41; total time=   0.0s\n",
      "[CV 1/5] END ...............metric=euclidean, n_neighbors=42; total time=   0.0s\n",
      "[CV 2/5] END ...............metric=euclidean, n_neighbors=42; total time=   0.0s\n",
      "[CV 3/5] END ...............metric=euclidean, n_neighbors=42; total time=   0.0s\n",
      "[CV 4/5] END ...............metric=euclidean, n_neighbors=42; total time=   0.0s\n",
      "[CV 5/5] END ...............metric=euclidean, n_neighbors=42; total time=   0.0s\n",
      "[CV 1/5] END ...............metric=euclidean, n_neighbors=43; total time=   0.0s\n",
      "[CV 2/5] END ...............metric=euclidean, n_neighbors=43; total time=   0.0s\n",
      "[CV 3/5] END ...............metric=euclidean, n_neighbors=43; total time=   0.0s\n",
      "[CV 4/5] END ...............metric=euclidean, n_neighbors=43; total time=   0.0s\n",
      "[CV 5/5] END ...............metric=euclidean, n_neighbors=43; total time=   0.0s\n",
      "[CV 1/5] END ...............metric=euclidean, n_neighbors=44; total time=   0.0s\n",
      "[CV 2/5] END ...............metric=euclidean, n_neighbors=44; total time=   0.0s\n",
      "[CV 3/5] END ...............metric=euclidean, n_neighbors=44; total time=   0.0s\n",
      "[CV 4/5] END ...............metric=euclidean, n_neighbors=44; total time=   0.0s\n",
      "[CV 5/5] END ...............metric=euclidean, n_neighbors=44; total time=   0.0s\n",
      "[CV 1/5] END ...............metric=euclidean, n_neighbors=45; total time=   0.0s\n",
      "[CV 2/5] END ...............metric=euclidean, n_neighbors=45; total time=   0.0s\n",
      "[CV 3/5] END ...............metric=euclidean, n_neighbors=45; total time=   0.0s\n",
      "[CV 4/5] END ...............metric=euclidean, n_neighbors=45; total time=   0.0s\n",
      "[CV 5/5] END ...............metric=euclidean, n_neighbors=45; total time=   0.0s\n",
      "[CV 1/5] END ...............metric=euclidean, n_neighbors=46; total time=   0.0s\n",
      "[CV 2/5] END ...............metric=euclidean, n_neighbors=46; total time=   0.0s\n",
      "[CV 3/5] END ...............metric=euclidean, n_neighbors=46; total time=   0.0s\n",
      "[CV 4/5] END ...............metric=euclidean, n_neighbors=46; total time=   0.0s\n",
      "[CV 5/5] END ...............metric=euclidean, n_neighbors=46; total time=   0.0s\n",
      "[CV 1/5] END ...............metric=euclidean, n_neighbors=47; total time=   0.0s\n",
      "[CV 2/5] END ...............metric=euclidean, n_neighbors=47; total time=   0.0s\n",
      "[CV 3/5] END ...............metric=euclidean, n_neighbors=47; total time=   0.0s\n",
      "[CV 4/5] END ...............metric=euclidean, n_neighbors=47; total time=   0.0s\n",
      "[CV 5/5] END ...............metric=euclidean, n_neighbors=47; total time=   0.0s\n",
      "[CV 1/5] END ...............metric=euclidean, n_neighbors=48; total time=   0.0s\n",
      "[CV 2/5] END ...............metric=euclidean, n_neighbors=48; total time=   0.0s\n",
      "[CV 3/5] END ...............metric=euclidean, n_neighbors=48; total time=   0.0s\n",
      "[CV 4/5] END ...............metric=euclidean, n_neighbors=48; total time=   0.0s\n",
      "[CV 5/5] END ...............metric=euclidean, n_neighbors=48; total time=   0.0s\n",
      "[CV 1/5] END ...............metric=euclidean, n_neighbors=49; total time=   0.0s\n",
      "[CV 2/5] END ...............metric=euclidean, n_neighbors=49; total time=   0.0s\n",
      "[CV 3/5] END ...............metric=euclidean, n_neighbors=49; total time=   0.0s\n",
      "[CV 4/5] END ...............metric=euclidean, n_neighbors=49; total time=   0.0s\n",
      "[CV 5/5] END ...............metric=euclidean, n_neighbors=49; total time=   0.0s\n",
      "[CV 1/5] END ...............metric=manhattan, n_neighbors=10; total time=   0.0s\n",
      "[CV 2/5] END ...............metric=manhattan, n_neighbors=10; total time=   0.0s\n",
      "[CV 3/5] END ...............metric=manhattan, n_neighbors=10; total time=   0.0s\n",
      "[CV 4/5] END ...............metric=manhattan, n_neighbors=10; total time=   0.0s\n",
      "[CV 5/5] END ...............metric=manhattan, n_neighbors=10; total time=   0.0s\n",
      "[CV 1/5] END ...............metric=manhattan, n_neighbors=11; total time=   0.0s\n",
      "[CV 2/5] END ...............metric=manhattan, n_neighbors=11; total time=   0.0s\n",
      "[CV 3/5] END ...............metric=manhattan, n_neighbors=11; total time=   0.0s\n",
      "[CV 4/5] END ...............metric=manhattan, n_neighbors=11; total time=   0.0s\n",
      "[CV 5/5] END ...............metric=manhattan, n_neighbors=11; total time=   0.0s\n",
      "[CV 1/5] END ...............metric=manhattan, n_neighbors=12; total time=   0.0s\n",
      "[CV 2/5] END ...............metric=manhattan, n_neighbors=12; total time=   0.0s\n",
      "[CV 3/5] END ...............metric=manhattan, n_neighbors=12; total time=   0.0s\n",
      "[CV 4/5] END ...............metric=manhattan, n_neighbors=12; total time=   0.0s\n",
      "[CV 5/5] END ...............metric=manhattan, n_neighbors=12; total time=   0.0s\n",
      "[CV 1/5] END ...............metric=manhattan, n_neighbors=13; total time=   0.0s\n",
      "[CV 2/5] END ...............metric=manhattan, n_neighbors=13; total time=   0.0s\n",
      "[CV 3/5] END ...............metric=manhattan, n_neighbors=13; total time=   0.0s\n",
      "[CV 4/5] END ...............metric=manhattan, n_neighbors=13; total time=   0.0s\n",
      "[CV 5/5] END ...............metric=manhattan, n_neighbors=13; total time=   0.0s\n",
      "[CV 1/5] END ...............metric=manhattan, n_neighbors=14; total time=   0.0s\n",
      "[CV 2/5] END ...............metric=manhattan, n_neighbors=14; total time=   0.0s\n",
      "[CV 3/5] END ...............metric=manhattan, n_neighbors=14; total time=   0.0s\n",
      "[CV 4/5] END ...............metric=manhattan, n_neighbors=14; total time=   0.0s\n",
      "[CV 5/5] END ...............metric=manhattan, n_neighbors=14; total time=   0.0s\n",
      "[CV 1/5] END ...............metric=manhattan, n_neighbors=15; total time=   0.0s\n",
      "[CV 2/5] END ...............metric=manhattan, n_neighbors=15; total time=   0.0s\n",
      "[CV 3/5] END ...............metric=manhattan, n_neighbors=15; total time=   0.0s\n",
      "[CV 4/5] END ...............metric=manhattan, n_neighbors=15; total time=   0.0s\n",
      "[CV 5/5] END ...............metric=manhattan, n_neighbors=15; total time=   0.0s\n",
      "[CV 1/5] END ...............metric=manhattan, n_neighbors=16; total time=   0.0s\n",
      "[CV 2/5] END ...............metric=manhattan, n_neighbors=16; total time=   0.0s\n",
      "[CV 3/5] END ...............metric=manhattan, n_neighbors=16; total time=   0.0s\n",
      "[CV 4/5] END ...............metric=manhattan, n_neighbors=16; total time=   0.0s\n",
      "[CV 5/5] END ...............metric=manhattan, n_neighbors=16; total time=   0.0s\n",
      "[CV 1/5] END ...............metric=manhattan, n_neighbors=17; total time=   0.0s\n",
      "[CV 2/5] END ...............metric=manhattan, n_neighbors=17; total time=   0.0s\n",
      "[CV 3/5] END ...............metric=manhattan, n_neighbors=17; total time=   0.0s\n",
      "[CV 4/5] END ...............metric=manhattan, n_neighbors=17; total time=   0.0s\n",
      "[CV 5/5] END ...............metric=manhattan, n_neighbors=17; total time=   0.0s\n",
      "[CV 1/5] END ...............metric=manhattan, n_neighbors=18; total time=   0.0s\n",
      "[CV 2/5] END ...............metric=manhattan, n_neighbors=18; total time=   0.0s\n",
      "[CV 3/5] END ...............metric=manhattan, n_neighbors=18; total time=   0.0s\n",
      "[CV 4/5] END ...............metric=manhattan, n_neighbors=18; total time=   0.0s\n",
      "[CV 5/5] END ...............metric=manhattan, n_neighbors=18; total time=   0.0s\n",
      "[CV 1/5] END ...............metric=manhattan, n_neighbors=19; total time=   0.0s\n",
      "[CV 2/5] END ...............metric=manhattan, n_neighbors=19; total time=   0.0s\n",
      "[CV 3/5] END ...............metric=manhattan, n_neighbors=19; total time=   0.0s\n",
      "[CV 4/5] END ...............metric=manhattan, n_neighbors=19; total time=   0.0s\n",
      "[CV 5/5] END ...............metric=manhattan, n_neighbors=19; total time=   0.0s\n",
      "[CV 1/5] END ...............metric=manhattan, n_neighbors=20; total time=   0.0s\n",
      "[CV 2/5] END ...............metric=manhattan, n_neighbors=20; total time=   0.0s\n",
      "[CV 3/5] END ...............metric=manhattan, n_neighbors=20; total time=   0.0s\n",
      "[CV 4/5] END ...............metric=manhattan, n_neighbors=20; total time=   0.0s\n",
      "[CV 5/5] END ...............metric=manhattan, n_neighbors=20; total time=   0.0s\n",
      "[CV 1/5] END ...............metric=manhattan, n_neighbors=21; total time=   0.0s\n",
      "[CV 2/5] END ...............metric=manhattan, n_neighbors=21; total time=   0.0s\n",
      "[CV 3/5] END ...............metric=manhattan, n_neighbors=21; total time=   0.0s\n",
      "[CV 4/5] END ...............metric=manhattan, n_neighbors=21; total time=   0.0s\n",
      "[CV 5/5] END ...............metric=manhattan, n_neighbors=21; total time=   0.0s\n",
      "[CV 1/5] END ...............metric=manhattan, n_neighbors=22; total time=   0.0s\n",
      "[CV 2/5] END ...............metric=manhattan, n_neighbors=22; total time=   0.0s\n",
      "[CV 3/5] END ...............metric=manhattan, n_neighbors=22; total time=   0.0s\n",
      "[CV 4/5] END ...............metric=manhattan, n_neighbors=22; total time=   0.0s\n",
      "[CV 5/5] END ...............metric=manhattan, n_neighbors=22; total time=   0.0s\n",
      "[CV 1/5] END ...............metric=manhattan, n_neighbors=23; total time=   0.0s\n",
      "[CV 2/5] END ...............metric=manhattan, n_neighbors=23; total time=   0.0s\n",
      "[CV 3/5] END ...............metric=manhattan, n_neighbors=23; total time=   0.0s\n",
      "[CV 4/5] END ...............metric=manhattan, n_neighbors=23; total time=   0.0s\n",
      "[CV 5/5] END ...............metric=manhattan, n_neighbors=23; total time=   0.0s\n",
      "[CV 1/5] END ...............metric=manhattan, n_neighbors=24; total time=   0.0s\n",
      "[CV 2/5] END ...............metric=manhattan, n_neighbors=24; total time=   0.0s\n",
      "[CV 3/5] END ...............metric=manhattan, n_neighbors=24; total time=   0.0s\n",
      "[CV 4/5] END ...............metric=manhattan, n_neighbors=24; total time=   0.0s\n",
      "[CV 5/5] END ...............metric=manhattan, n_neighbors=24; total time=   0.0s\n",
      "[CV 1/5] END ...............metric=manhattan, n_neighbors=25; total time=   0.0s\n",
      "[CV 2/5] END ...............metric=manhattan, n_neighbors=25; total time=   0.0s\n",
      "[CV 3/5] END ...............metric=manhattan, n_neighbors=25; total time=   0.0s\n",
      "[CV 4/5] END ...............metric=manhattan, n_neighbors=25; total time=   0.0s\n",
      "[CV 5/5] END ...............metric=manhattan, n_neighbors=25; total time=   0.0s\n",
      "[CV 1/5] END ...............metric=manhattan, n_neighbors=26; total time=   0.0s\n",
      "[CV 2/5] END ...............metric=manhattan, n_neighbors=26; total time=   0.0s\n",
      "[CV 3/5] END ...............metric=manhattan, n_neighbors=26; total time=   0.0s\n",
      "[CV 4/5] END ...............metric=manhattan, n_neighbors=26; total time=   0.0s\n",
      "[CV 5/5] END ...............metric=manhattan, n_neighbors=26; total time=   0.0s\n",
      "[CV 1/5] END ...............metric=manhattan, n_neighbors=27; total time=   0.0s\n",
      "[CV 2/5] END ...............metric=manhattan, n_neighbors=27; total time=   0.0s\n",
      "[CV 3/5] END ...............metric=manhattan, n_neighbors=27; total time=   0.0s\n",
      "[CV 4/5] END ...............metric=manhattan, n_neighbors=27; total time=   0.0s\n",
      "[CV 5/5] END ...............metric=manhattan, n_neighbors=27; total time=   0.0s\n",
      "[CV 1/5] END ...............metric=manhattan, n_neighbors=28; total time=   0.0s\n",
      "[CV 2/5] END ...............metric=manhattan, n_neighbors=28; total time=   0.0s\n",
      "[CV 3/5] END ...............metric=manhattan, n_neighbors=28; total time=   0.0s\n",
      "[CV 4/5] END ...............metric=manhattan, n_neighbors=28; total time=   0.0s\n",
      "[CV 5/5] END ...............metric=manhattan, n_neighbors=28; total time=   0.0s\n",
      "[CV 1/5] END ...............metric=manhattan, n_neighbors=29; total time=   0.0s\n",
      "[CV 2/5] END ...............metric=manhattan, n_neighbors=29; total time=   0.0s\n",
      "[CV 3/5] END ...............metric=manhattan, n_neighbors=29; total time=   0.0s\n",
      "[CV 4/5] END ...............metric=manhattan, n_neighbors=29; total time=   0.0s\n",
      "[CV 5/5] END ...............metric=manhattan, n_neighbors=29; total time=   0.0s\n",
      "[CV 1/5] END ...............metric=manhattan, n_neighbors=30; total time=   0.0s\n",
      "[CV 2/5] END ...............metric=manhattan, n_neighbors=30; total time=   0.0s\n",
      "[CV 3/5] END ...............metric=manhattan, n_neighbors=30; total time=   0.0s\n",
      "[CV 4/5] END ...............metric=manhattan, n_neighbors=30; total time=   0.0s\n",
      "[CV 5/5] END ...............metric=manhattan, n_neighbors=30; total time=   0.0s\n",
      "[CV 1/5] END ...............metric=manhattan, n_neighbors=31; total time=   0.0s\n",
      "[CV 2/5] END ...............metric=manhattan, n_neighbors=31; total time=   0.0s\n",
      "[CV 3/5] END ...............metric=manhattan, n_neighbors=31; total time=   0.0s\n",
      "[CV 4/5] END ...............metric=manhattan, n_neighbors=31; total time=   0.0s\n",
      "[CV 5/5] END ...............metric=manhattan, n_neighbors=31; total time=   0.0s\n",
      "[CV 1/5] END ...............metric=manhattan, n_neighbors=32; total time=   0.0s\n",
      "[CV 2/5] END ...............metric=manhattan, n_neighbors=32; total time=   0.0s\n",
      "[CV 3/5] END ...............metric=manhattan, n_neighbors=32; total time=   0.0s\n",
      "[CV 4/5] END ...............metric=manhattan, n_neighbors=32; total time=   0.0s\n",
      "[CV 5/5] END ...............metric=manhattan, n_neighbors=32; total time=   0.0s\n",
      "[CV 1/5] END ...............metric=manhattan, n_neighbors=33; total time=   0.0s\n",
      "[CV 2/5] END ...............metric=manhattan, n_neighbors=33; total time=   0.0s\n",
      "[CV 3/5] END ...............metric=manhattan, n_neighbors=33; total time=   0.0s\n",
      "[CV 4/5] END ...............metric=manhattan, n_neighbors=33; total time=   0.0s\n",
      "[CV 5/5] END ...............metric=manhattan, n_neighbors=33; total time=   0.0s\n",
      "[CV 1/5] END ...............metric=manhattan, n_neighbors=34; total time=   0.0s\n",
      "[CV 2/5] END ...............metric=manhattan, n_neighbors=34; total time=   0.0s\n",
      "[CV 3/5] END ...............metric=manhattan, n_neighbors=34; total time=   0.0s\n",
      "[CV 4/5] END ...............metric=manhattan, n_neighbors=34; total time=   0.0s\n",
      "[CV 5/5] END ...............metric=manhattan, n_neighbors=34; total time=   0.0s\n",
      "[CV 1/5] END ...............metric=manhattan, n_neighbors=35; total time=   0.0s\n",
      "[CV 2/5] END ...............metric=manhattan, n_neighbors=35; total time=   0.0s\n",
      "[CV 3/5] END ...............metric=manhattan, n_neighbors=35; total time=   0.0s\n",
      "[CV 4/5] END ...............metric=manhattan, n_neighbors=35; total time=   0.0s\n",
      "[CV 5/5] END ...............metric=manhattan, n_neighbors=35; total time=   0.0s\n",
      "[CV 1/5] END ...............metric=manhattan, n_neighbors=36; total time=   0.0s\n",
      "[CV 2/5] END ...............metric=manhattan, n_neighbors=36; total time=   0.0s\n",
      "[CV 3/5] END ...............metric=manhattan, n_neighbors=36; total time=   0.0s\n",
      "[CV 4/5] END ...............metric=manhattan, n_neighbors=36; total time=   0.0s\n",
      "[CV 5/5] END ...............metric=manhattan, n_neighbors=36; total time=   0.0s\n",
      "[CV 1/5] END ...............metric=manhattan, n_neighbors=37; total time=   0.0s\n",
      "[CV 2/5] END ...............metric=manhattan, n_neighbors=37; total time=   0.0s\n",
      "[CV 3/5] END ...............metric=manhattan, n_neighbors=37; total time=   0.0s\n",
      "[CV 4/5] END ...............metric=manhattan, n_neighbors=37; total time=   0.0s\n",
      "[CV 5/5] END ...............metric=manhattan, n_neighbors=37; total time=   0.0s\n",
      "[CV 1/5] END ...............metric=manhattan, n_neighbors=38; total time=   0.0s\n",
      "[CV 2/5] END ...............metric=manhattan, n_neighbors=38; total time=   0.0s\n",
      "[CV 3/5] END ...............metric=manhattan, n_neighbors=38; total time=   0.0s\n",
      "[CV 4/5] END ...............metric=manhattan, n_neighbors=38; total time=   0.0s\n",
      "[CV 5/5] END ...............metric=manhattan, n_neighbors=38; total time=   0.0s\n",
      "[CV 1/5] END ...............metric=manhattan, n_neighbors=39; total time=   0.0s\n",
      "[CV 2/5] END ...............metric=manhattan, n_neighbors=39; total time=   0.0s\n",
      "[CV 3/5] END ...............metric=manhattan, n_neighbors=39; total time=   0.0s\n",
      "[CV 4/5] END ...............metric=manhattan, n_neighbors=39; total time=   0.0s\n",
      "[CV 5/5] END ...............metric=manhattan, n_neighbors=39; total time=   0.0s\n",
      "[CV 1/5] END ...............metric=manhattan, n_neighbors=40; total time=   0.0s\n",
      "[CV 2/5] END ...............metric=manhattan, n_neighbors=40; total time=   0.0s\n",
      "[CV 3/5] END ...............metric=manhattan, n_neighbors=40; total time=   0.0s\n",
      "[CV 4/5] END ...............metric=manhattan, n_neighbors=40; total time=   0.0s\n",
      "[CV 5/5] END ...............metric=manhattan, n_neighbors=40; total time=   0.0s\n",
      "[CV 1/5] END ...............metric=manhattan, n_neighbors=41; total time=   0.0s\n",
      "[CV 2/5] END ...............metric=manhattan, n_neighbors=41; total time=   0.0s\n",
      "[CV 3/5] END ...............metric=manhattan, n_neighbors=41; total time=   0.0s\n",
      "[CV 4/5] END ...............metric=manhattan, n_neighbors=41; total time=   0.0s\n",
      "[CV 5/5] END ...............metric=manhattan, n_neighbors=41; total time=   0.0s\n",
      "[CV 1/5] END ...............metric=manhattan, n_neighbors=42; total time=   0.0s\n",
      "[CV 2/5] END ...............metric=manhattan, n_neighbors=42; total time=   0.0s\n",
      "[CV 3/5] END ...............metric=manhattan, n_neighbors=42; total time=   0.0s\n",
      "[CV 4/5] END ...............metric=manhattan, n_neighbors=42; total time=   0.0s\n",
      "[CV 5/5] END ...............metric=manhattan, n_neighbors=42; total time=   0.0s\n",
      "[CV 1/5] END ...............metric=manhattan, n_neighbors=43; total time=   0.0s\n",
      "[CV 2/5] END ...............metric=manhattan, n_neighbors=43; total time=   0.0s\n",
      "[CV 3/5] END ...............metric=manhattan, n_neighbors=43; total time=   0.0s\n",
      "[CV 4/5] END ...............metric=manhattan, n_neighbors=43; total time=   0.0s\n",
      "[CV 5/5] END ...............metric=manhattan, n_neighbors=43; total time=   0.0s\n",
      "[CV 1/5] END ...............metric=manhattan, n_neighbors=44; total time=   0.0s\n",
      "[CV 2/5] END ...............metric=manhattan, n_neighbors=44; total time=   0.0s\n",
      "[CV 3/5] END ...............metric=manhattan, n_neighbors=44; total time=   0.0s\n",
      "[CV 4/5] END ...............metric=manhattan, n_neighbors=44; total time=   0.0s\n",
      "[CV 5/5] END ...............metric=manhattan, n_neighbors=44; total time=   0.0s\n",
      "[CV 1/5] END ...............metric=manhattan, n_neighbors=45; total time=   0.0s\n",
      "[CV 2/5] END ...............metric=manhattan, n_neighbors=45; total time=   0.0s\n",
      "[CV 3/5] END ...............metric=manhattan, n_neighbors=45; total time=   0.0s\n",
      "[CV 4/5] END ...............metric=manhattan, n_neighbors=45; total time=   0.0s\n",
      "[CV 5/5] END ...............metric=manhattan, n_neighbors=45; total time=   0.0s\n",
      "[CV 1/5] END ...............metric=manhattan, n_neighbors=46; total time=   0.0s\n",
      "[CV 2/5] END ...............metric=manhattan, n_neighbors=46; total time=   0.0s\n",
      "[CV 3/5] END ...............metric=manhattan, n_neighbors=46; total time=   0.0s\n",
      "[CV 4/5] END ...............metric=manhattan, n_neighbors=46; total time=   0.0s\n",
      "[CV 5/5] END ...............metric=manhattan, n_neighbors=46; total time=   0.0s\n",
      "[CV 1/5] END ...............metric=manhattan, n_neighbors=47; total time=   0.0s\n",
      "[CV 2/5] END ...............metric=manhattan, n_neighbors=47; total time=   0.0s\n",
      "[CV 3/5] END ...............metric=manhattan, n_neighbors=47; total time=   0.0s\n",
      "[CV 4/5] END ...............metric=manhattan, n_neighbors=47; total time=   0.0s\n",
      "[CV 5/5] END ...............metric=manhattan, n_neighbors=47; total time=   0.0s\n",
      "[CV 1/5] END ...............metric=manhattan, n_neighbors=48; total time=   0.0s\n",
      "[CV 2/5] END ...............metric=manhattan, n_neighbors=48; total time=   0.0s\n",
      "[CV 3/5] END ...............metric=manhattan, n_neighbors=48; total time=   0.0s\n",
      "[CV 4/5] END ...............metric=manhattan, n_neighbors=48; total time=   0.0s\n",
      "[CV 5/5] END ...............metric=manhattan, n_neighbors=48; total time=   0.0s\n",
      "[CV 1/5] END ...............metric=manhattan, n_neighbors=49; total time=   0.0s\n",
      "[CV 2/5] END ...............metric=manhattan, n_neighbors=49; total time=   0.0s\n",
      "[CV 3/5] END ...............metric=manhattan, n_neighbors=49; total time=   0.0s\n",
      "[CV 4/5] END ...............metric=manhattan, n_neighbors=49; total time=   0.0s\n",
      "[CV 5/5] END ...............metric=manhattan, n_neighbors=49; total time=   0.0s\n"
     ]
    }
   ],
   "source": [
    "# 2.선언 \n",
    "params1 = {'n_neighbors': range(10,50), 'metric' : ['euclidean', 'manhattan']}\n",
    "m1 = KNeighborsClassifier()\n",
    "m1_gs= GridSearchCV(m1, params1, cv=5, verbose=3)\n",
    "m1_gs.fit(x_train_s, y_train)\n",
    "p1 = m1_gs.predict(x_test_s)"
   ]
  },
  {
   "cell_type": "code",
   "execution_count": null,
   "metadata": {},
   "outputs": [],
   "source": [
    "result = pd.DataFrame(p1)"
   ]
  },
  {
   "cell_type": "code",
   "execution_count": null,
   "metadata": {},
   "outputs": [],
   "source": [
    "result.tail()"
   ]
  },
  {
   "cell_type": "code",
   "execution_count": null,
   "metadata": {
    "tags": []
   },
   "outputs": [],
   "source": [
    "print(accuracy_score(y_test,p1))"
   ]
  },
  {
   "cell_type": "code",
   "execution_count": null,
   "metadata": {},
   "outputs": [],
   "source": [
    "print(f1_score(y_test,p1))"
   ]
  },
  {
   "cell_type": "code",
   "execution_count": null,
   "metadata": {
    "tags": []
   },
   "outputs": [],
   "source": [
    "confusion = confusion_matrix(y_test, p1)\n",
    "fig, ax = plt.subplots(figsize=(10,3))\n",
    "plot_confusion_matrix(ax, confusion, fontsize=30)"
   ]
  },
  {
   "cell_type": "code",
   "execution_count": null,
   "metadata": {
    "tags": []
   },
   "outputs": [],
   "source": [
    "params2 = {'max_depth': [3], 'min_samples_leaf':range(10,101,10),}\n",
    "m2 = DecisionTreeClassifier()\n",
    "m2_gs = GridSearchCV(m2, params2, cv=5, verbose=3)\n",
    "m2_gs.fit(x_train, y_train)\n",
    "p2 = m2_gs.predict(x_test)"
   ]
  },
  {
   "cell_type": "code",
   "execution_count": null,
   "metadata": {},
   "outputs": [],
   "source": [
    "print(accuracy_score(y_test,p2))"
   ]
  },
  {
   "cell_type": "code",
   "execution_count": null,
   "metadata": {},
   "outputs": [],
   "source": [
    "print(f1_score(y_test,p2))"
   ]
  },
  {
   "cell_type": "code",
   "execution_count": null,
   "metadata": {},
   "outputs": [],
   "source": [
    "confusion = confusion_matrix(y_test, p2)\n",
    "fig, ax = plt.subplots(figsize=(10,3))\n",
    "plot_confusion_matrix(ax, confusion, fontsize=30)"
   ]
  },
  {
   "cell_type": "code",
   "execution_count": 199,
   "metadata": {
    "tags": []
   },
   "outputs": [
    {
     "data": {
      "text/plain": [
       "GridSearchCV(cv=5, estimator=RandomForestClassifier(),\n",
       "             param_grid={'max_features': range(1, 21),\n",
       "                         'n_estimators': [20, 50, 100]})"
      ]
     },
     "execution_count": 199,
     "metadata": {},
     "output_type": "execute_result"
    }
   ],
   "source": [
    "params3 = {'n_estimators':[20,50,100], 'max_features':range(1,21)}\n",
    "m3 = RandomForestClassifier()\n",
    "m3_gs = GridSearchCV(m3, params3, cv=5)\n",
    "m3_gs.fit(x_train,y_train)"
   ]
  },
  {
   "cell_type": "code",
   "execution_count": 200,
   "metadata": {},
   "outputs": [],
   "source": [
    "p3 = pd.DataFrame(m3_gs.predict(x_test))"
   ]
  },
  {
   "cell_type": "code",
   "execution_count": 201,
   "metadata": {},
   "outputs": [
    {
     "data": {
      "text/html": [
       "<div>\n",
       "<style scoped>\n",
       "    .dataframe tbody tr th:only-of-type {\n",
       "        vertical-align: middle;\n",
       "    }\n",
       "\n",
       "    .dataframe tbody tr th {\n",
       "        vertical-align: top;\n",
       "    }\n",
       "\n",
       "    .dataframe thead th {\n",
       "        text-align: right;\n",
       "    }\n",
       "</style>\n",
       "<table border=\"1\" class=\"dataframe\">\n",
       "  <thead>\n",
       "    <tr style=\"text-align: right;\">\n",
       "      <th></th>\n",
       "      <th>0</th>\n",
       "    </tr>\n",
       "  </thead>\n",
       "  <tbody>\n",
       "    <tr>\n",
       "      <th>2436</th>\n",
       "      <td>-1</td>\n",
       "    </tr>\n",
       "    <tr>\n",
       "      <th>2437</th>\n",
       "      <td>-1</td>\n",
       "    </tr>\n",
       "    <tr>\n",
       "      <th>2438</th>\n",
       "      <td>-1</td>\n",
       "    </tr>\n",
       "    <tr>\n",
       "      <th>2439</th>\n",
       "      <td>-1</td>\n",
       "    </tr>\n",
       "    <tr>\n",
       "      <th>2440</th>\n",
       "      <td>1</td>\n",
       "    </tr>\n",
       "  </tbody>\n",
       "</table>\n",
       "</div>"
      ],
      "text/plain": [
       "      0\n",
       "2436 -1\n",
       "2437 -1\n",
       "2438 -1\n",
       "2439 -1\n",
       "2440  1"
      ]
     },
     "execution_count": 201,
     "metadata": {},
     "output_type": "execute_result"
    }
   ],
   "source": [
    "p3.tail()"
   ]
  },
  {
   "cell_type": "code",
   "execution_count": 202,
   "metadata": {},
   "outputs": [],
   "source": [
    "p3.to_csv('p5.csv')"
   ]
  },
  {
   "cell_type": "code",
   "execution_count": 203,
   "metadata": {},
   "outputs": [
    {
     "name": "stdout",
     "output_type": "stream",
     "text": [
      "0.9373207701761573\n"
     ]
    }
   ],
   "source": [
    "print(accuracy_score(y_test,p3))"
   ]
  },
  {
   "cell_type": "code",
   "execution_count": 204,
   "metadata": {},
   "outputs": [
    {
     "name": "stdout",
     "output_type": "stream",
     "text": [
      "0.9385295299316996\n"
     ]
    }
   ],
   "source": [
    "print(f1_score(y_test,p3))"
   ]
  },
  {
   "cell_type": "code",
   "execution_count": null,
   "metadata": {},
   "outputs": [],
   "source": [
    "confusion = confusion_matrix(y_test, p3)\n",
    "fig, ax = plt.subplots(figsize=(10,3))\n",
    "plot_confusion_matrix(ax, confusion, fontsize=30)"
   ]
  },
  {
   "cell_type": "code",
   "execution_count": 211,
   "metadata": {
    "collapsed": true,
    "jupyter": {
     "outputs_hidden": true
    },
    "tags": []
   },
   "outputs": [
    {
     "name": "stdout",
     "output_type": "stream",
     "text": [
      "Fitting 5 folds for each of 160 candidates, totalling 800 fits\n",
      "[CV 1/5] END learning_rate=0.001, max_depth=1, n_estimators=20; total time=   0.0s\n",
      "[CV 2/5] END learning_rate=0.001, max_depth=1, n_estimators=20; total time=   0.0s\n",
      "[CV 3/5] END learning_rate=0.001, max_depth=1, n_estimators=20; total time=   0.0s\n",
      "[CV 4/5] END learning_rate=0.001, max_depth=1, n_estimators=20; total time=   0.0s\n",
      "[CV 5/5] END learning_rate=0.001, max_depth=1, n_estimators=20; total time=   0.0s\n",
      "[CV 1/5] END learning_rate=0.001, max_depth=1, n_estimators=30; total time=   0.0s\n",
      "[CV 2/5] END learning_rate=0.001, max_depth=1, n_estimators=30; total time=   0.0s\n",
      "[CV 3/5] END learning_rate=0.001, max_depth=1, n_estimators=30; total time=   0.0s\n",
      "[CV 4/5] END learning_rate=0.001, max_depth=1, n_estimators=30; total time=   0.0s\n",
      "[CV 5/5] END learning_rate=0.001, max_depth=1, n_estimators=30; total time=   0.0s\n",
      "[CV 1/5] END learning_rate=0.001, max_depth=1, n_estimators=50; total time=   0.0s\n",
      "[CV 2/5] END learning_rate=0.001, max_depth=1, n_estimators=50; total time=   0.0s\n",
      "[CV 3/5] END learning_rate=0.001, max_depth=1, n_estimators=50; total time=   0.0s\n",
      "[CV 4/5] END learning_rate=0.001, max_depth=1, n_estimators=50; total time=   0.0s\n",
      "[CV 5/5] END learning_rate=0.001, max_depth=1, n_estimators=50; total time=   0.0s\n",
      "[CV 1/5] END learning_rate=0.001, max_depth=1, n_estimators=100; total time=   0.0s\n",
      "[CV 2/5] END learning_rate=0.001, max_depth=1, n_estimators=100; total time=   0.0s\n",
      "[CV 3/5] END learning_rate=0.001, max_depth=1, n_estimators=100; total time=   0.0s\n",
      "[CV 4/5] END learning_rate=0.001, max_depth=1, n_estimators=100; total time=   0.0s\n",
      "[CV 5/5] END learning_rate=0.001, max_depth=1, n_estimators=100; total time=   0.0s\n",
      "[CV 1/5] END learning_rate=0.001, max_depth=2, n_estimators=20; total time=   0.0s\n",
      "[CV 2/5] END learning_rate=0.001, max_depth=2, n_estimators=20; total time=   0.0s\n",
      "[CV 3/5] END learning_rate=0.001, max_depth=2, n_estimators=20; total time=   0.0s\n",
      "[CV 4/5] END learning_rate=0.001, max_depth=2, n_estimators=20; total time=   0.0s\n",
      "[CV 5/5] END learning_rate=0.001, max_depth=2, n_estimators=20; total time=   0.0s\n",
      "[CV 1/5] END learning_rate=0.001, max_depth=2, n_estimators=30; total time=   0.0s\n",
      "[CV 2/5] END learning_rate=0.001, max_depth=2, n_estimators=30; total time=   0.0s\n",
      "[CV 3/5] END learning_rate=0.001, max_depth=2, n_estimators=30; total time=   0.0s\n",
      "[CV 4/5] END learning_rate=0.001, max_depth=2, n_estimators=30; total time=   0.0s\n",
      "[CV 5/5] END learning_rate=0.001, max_depth=2, n_estimators=30; total time=   0.0s\n",
      "[CV 1/5] END learning_rate=0.001, max_depth=2, n_estimators=50; total time=   0.0s\n",
      "[CV 2/5] END learning_rate=0.001, max_depth=2, n_estimators=50; total time=   0.0s\n",
      "[CV 3/5] END learning_rate=0.001, max_depth=2, n_estimators=50; total time=   0.0s\n",
      "[CV 4/5] END learning_rate=0.001, max_depth=2, n_estimators=50; total time=   0.0s\n",
      "[CV 5/5] END learning_rate=0.001, max_depth=2, n_estimators=50; total time=   0.0s\n",
      "[CV 1/5] END learning_rate=0.001, max_depth=2, n_estimators=100; total time=   0.0s\n",
      "[CV 2/5] END learning_rate=0.001, max_depth=2, n_estimators=100; total time=   0.0s\n",
      "[CV 3/5] END learning_rate=0.001, max_depth=2, n_estimators=100; total time=   0.0s\n",
      "[CV 4/5] END learning_rate=0.001, max_depth=2, n_estimators=100; total time=   0.0s\n",
      "[CV 5/5] END learning_rate=0.001, max_depth=2, n_estimators=100; total time=   0.0s\n",
      "[CV 1/5] END learning_rate=0.001, max_depth=3, n_estimators=20; total time=   0.0s\n",
      "[CV 2/5] END learning_rate=0.001, max_depth=3, n_estimators=20; total time=   0.0s\n",
      "[CV 3/5] END learning_rate=0.001, max_depth=3, n_estimators=20; total time=   0.0s\n",
      "[CV 4/5] END learning_rate=0.001, max_depth=3, n_estimators=20; total time=   0.0s\n",
      "[CV 5/5] END learning_rate=0.001, max_depth=3, n_estimators=20; total time=   0.0s\n",
      "[CV 1/5] END learning_rate=0.001, max_depth=3, n_estimators=30; total time=   0.0s\n",
      "[CV 2/5] END learning_rate=0.001, max_depth=3, n_estimators=30; total time=   0.0s\n",
      "[CV 3/5] END learning_rate=0.001, max_depth=3, n_estimators=30; total time=   0.0s\n",
      "[CV 4/5] END learning_rate=0.001, max_depth=3, n_estimators=30; total time=   0.0s\n",
      "[CV 5/5] END learning_rate=0.001, max_depth=3, n_estimators=30; total time=   0.0s\n",
      "[CV 1/5] END learning_rate=0.001, max_depth=3, n_estimators=50; total time=   0.0s\n",
      "[CV 2/5] END learning_rate=0.001, max_depth=3, n_estimators=50; total time=   0.0s\n",
      "[CV 3/5] END learning_rate=0.001, max_depth=3, n_estimators=50; total time=   0.0s\n",
      "[CV 4/5] END learning_rate=0.001, max_depth=3, n_estimators=50; total time=   0.0s\n",
      "[CV 5/5] END learning_rate=0.001, max_depth=3, n_estimators=50; total time=   0.0s\n",
      "[CV 1/5] END learning_rate=0.001, max_depth=3, n_estimators=100; total time=   0.0s\n",
      "[CV 2/5] END learning_rate=0.001, max_depth=3, n_estimators=100; total time=   0.0s\n",
      "[CV 3/5] END learning_rate=0.001, max_depth=3, n_estimators=100; total time=   0.0s\n",
      "[CV 4/5] END learning_rate=0.001, max_depth=3, n_estimators=100; total time=   0.0s\n",
      "[CV 5/5] END learning_rate=0.001, max_depth=3, n_estimators=100; total time=   0.0s\n",
      "[CV 1/5] END learning_rate=0.001, max_depth=4, n_estimators=20; total time=   0.0s\n",
      "[CV 2/5] END learning_rate=0.001, max_depth=4, n_estimators=20; total time=   0.0s\n",
      "[CV 3/5] END learning_rate=0.001, max_depth=4, n_estimators=20; total time=   0.0s\n",
      "[CV 4/5] END learning_rate=0.001, max_depth=4, n_estimators=20; total time=   0.0s\n",
      "[CV 5/5] END learning_rate=0.001, max_depth=4, n_estimators=20; total time=   0.0s\n",
      "[CV 1/5] END learning_rate=0.001, max_depth=4, n_estimators=30; total time=   0.0s\n",
      "[CV 2/5] END learning_rate=0.001, max_depth=4, n_estimators=30; total time=   0.0s\n",
      "[CV 3/5] END learning_rate=0.001, max_depth=4, n_estimators=30; total time=   0.0s\n",
      "[CV 4/5] END learning_rate=0.001, max_depth=4, n_estimators=30; total time=   0.0s\n",
      "[CV 5/5] END learning_rate=0.001, max_depth=4, n_estimators=30; total time=   0.0s\n",
      "[CV 1/5] END learning_rate=0.001, max_depth=4, n_estimators=50; total time=   0.0s\n",
      "[CV 2/5] END learning_rate=0.001, max_depth=4, n_estimators=50; total time=   0.0s\n",
      "[CV 3/5] END learning_rate=0.001, max_depth=4, n_estimators=50; total time=   0.0s\n",
      "[CV 4/5] END learning_rate=0.001, max_depth=4, n_estimators=50; total time=   0.0s\n",
      "[CV 5/5] END learning_rate=0.001, max_depth=4, n_estimators=50; total time=   0.0s\n",
      "[CV 1/5] END learning_rate=0.001, max_depth=4, n_estimators=100; total time=   0.0s\n",
      "[CV 2/5] END learning_rate=0.001, max_depth=4, n_estimators=100; total time=   0.0s\n",
      "[CV 3/5] END learning_rate=0.001, max_depth=4, n_estimators=100; total time=   0.0s\n",
      "[CV 4/5] END learning_rate=0.001, max_depth=4, n_estimators=100; total time=   0.0s\n",
      "[CV 5/5] END learning_rate=0.001, max_depth=4, n_estimators=100; total time=   0.0s\n",
      "[CV 1/5] END learning_rate=0.03422222222222222, max_depth=1, n_estimators=20; total time=   0.0s\n",
      "[CV 2/5] END learning_rate=0.03422222222222222, max_depth=1, n_estimators=20; total time=   0.0s\n",
      "[CV 3/5] END learning_rate=0.03422222222222222, max_depth=1, n_estimators=20; total time=   0.0s\n",
      "[CV 4/5] END learning_rate=0.03422222222222222, max_depth=1, n_estimators=20; total time=   0.0s\n",
      "[CV 5/5] END learning_rate=0.03422222222222222, max_depth=1, n_estimators=20; total time=   0.0s\n",
      "[CV 1/5] END learning_rate=0.03422222222222222, max_depth=1, n_estimators=30; total time=   0.0s\n",
      "[CV 2/5] END learning_rate=0.03422222222222222, max_depth=1, n_estimators=30; total time=   0.0s\n",
      "[CV 3/5] END learning_rate=0.03422222222222222, max_depth=1, n_estimators=30; total time=   0.0s\n",
      "[CV 4/5] END learning_rate=0.03422222222222222, max_depth=1, n_estimators=30; total time=   0.0s\n",
      "[CV 5/5] END learning_rate=0.03422222222222222, max_depth=1, n_estimators=30; total time=   0.0s\n",
      "[CV 1/5] END learning_rate=0.03422222222222222, max_depth=1, n_estimators=50; total time=   0.0s\n",
      "[CV 2/5] END learning_rate=0.03422222222222222, max_depth=1, n_estimators=50; total time=   0.0s\n",
      "[CV 3/5] END learning_rate=0.03422222222222222, max_depth=1, n_estimators=50; total time=   0.0s\n",
      "[CV 4/5] END learning_rate=0.03422222222222222, max_depth=1, n_estimators=50; total time=   0.0s\n",
      "[CV 5/5] END learning_rate=0.03422222222222222, max_depth=1, n_estimators=50; total time=   0.0s\n",
      "[CV 1/5] END learning_rate=0.03422222222222222, max_depth=1, n_estimators=100; total time=   0.0s\n",
      "[CV 2/5] END learning_rate=0.03422222222222222, max_depth=1, n_estimators=100; total time=   0.0s\n",
      "[CV 3/5] END learning_rate=0.03422222222222222, max_depth=1, n_estimators=100; total time=   0.0s\n",
      "[CV 4/5] END learning_rate=0.03422222222222222, max_depth=1, n_estimators=100; total time=   0.0s\n",
      "[CV 5/5] END learning_rate=0.03422222222222222, max_depth=1, n_estimators=100; total time=   0.0s\n",
      "[CV 1/5] END learning_rate=0.03422222222222222, max_depth=2, n_estimators=20; total time=   0.0s\n",
      "[CV 2/5] END learning_rate=0.03422222222222222, max_depth=2, n_estimators=20; total time=   0.0s\n",
      "[CV 3/5] END learning_rate=0.03422222222222222, max_depth=2, n_estimators=20; total time=   0.0s\n",
      "[CV 4/5] END learning_rate=0.03422222222222222, max_depth=2, n_estimators=20; total time=   0.0s\n",
      "[CV 5/5] END learning_rate=0.03422222222222222, max_depth=2, n_estimators=20; total time=   0.0s\n",
      "[CV 1/5] END learning_rate=0.03422222222222222, max_depth=2, n_estimators=30; total time=   0.0s\n",
      "[CV 2/5] END learning_rate=0.03422222222222222, max_depth=2, n_estimators=30; total time=   0.0s\n",
      "[CV 3/5] END learning_rate=0.03422222222222222, max_depth=2, n_estimators=30; total time=   0.0s\n",
      "[CV 4/5] END learning_rate=0.03422222222222222, max_depth=2, n_estimators=30; total time=   0.0s\n",
      "[CV 5/5] END learning_rate=0.03422222222222222, max_depth=2, n_estimators=30; total time=   0.0s\n",
      "[CV 1/5] END learning_rate=0.03422222222222222, max_depth=2, n_estimators=50; total time=   0.0s\n",
      "[CV 2/5] END learning_rate=0.03422222222222222, max_depth=2, n_estimators=50; total time=   0.0s\n",
      "[CV 3/5] END learning_rate=0.03422222222222222, max_depth=2, n_estimators=50; total time=   0.0s\n",
      "[CV 4/5] END learning_rate=0.03422222222222222, max_depth=2, n_estimators=50; total time=   0.0s\n",
      "[CV 5/5] END learning_rate=0.03422222222222222, max_depth=2, n_estimators=50; total time=   0.0s\n",
      "[CV 1/5] END learning_rate=0.03422222222222222, max_depth=2, n_estimators=100; total time=   0.0s\n",
      "[CV 2/5] END learning_rate=0.03422222222222222, max_depth=2, n_estimators=100; total time=   0.0s\n",
      "[CV 3/5] END learning_rate=0.03422222222222222, max_depth=2, n_estimators=100; total time=   0.0s\n",
      "[CV 4/5] END learning_rate=0.03422222222222222, max_depth=2, n_estimators=100; total time=   0.0s\n",
      "[CV 5/5] END learning_rate=0.03422222222222222, max_depth=2, n_estimators=100; total time=   0.0s\n",
      "[CV 1/5] END learning_rate=0.03422222222222222, max_depth=3, n_estimators=20; total time=   0.0s\n",
      "[CV 2/5] END learning_rate=0.03422222222222222, max_depth=3, n_estimators=20; total time=   0.0s\n",
      "[CV 3/5] END learning_rate=0.03422222222222222, max_depth=3, n_estimators=20; total time=   0.0s\n",
      "[CV 4/5] END learning_rate=0.03422222222222222, max_depth=3, n_estimators=20; total time=   0.0s\n",
      "[CV 5/5] END learning_rate=0.03422222222222222, max_depth=3, n_estimators=20; total time=   0.0s\n",
      "[CV 1/5] END learning_rate=0.03422222222222222, max_depth=3, n_estimators=30; total time=   0.0s\n",
      "[CV 2/5] END learning_rate=0.03422222222222222, max_depth=3, n_estimators=30; total time=   0.0s\n",
      "[CV 3/5] END learning_rate=0.03422222222222222, max_depth=3, n_estimators=30; total time=   0.0s\n",
      "[CV 4/5] END learning_rate=0.03422222222222222, max_depth=3, n_estimators=30; total time=   0.0s\n",
      "[CV 5/5] END learning_rate=0.03422222222222222, max_depth=3, n_estimators=30; total time=   0.0s\n",
      "[CV 1/5] END learning_rate=0.03422222222222222, max_depth=3, n_estimators=50; total time=   0.0s\n",
      "[CV 2/5] END learning_rate=0.03422222222222222, max_depth=3, n_estimators=50; total time=   0.0s\n",
      "[CV 3/5] END learning_rate=0.03422222222222222, max_depth=3, n_estimators=50; total time=   0.0s\n",
      "[CV 4/5] END learning_rate=0.03422222222222222, max_depth=3, n_estimators=50; total time=   0.0s\n",
      "[CV 5/5] END learning_rate=0.03422222222222222, max_depth=3, n_estimators=50; total time=   0.0s\n",
      "[CV 1/5] END learning_rate=0.03422222222222222, max_depth=3, n_estimators=100; total time=   0.0s\n",
      "[CV 2/5] END learning_rate=0.03422222222222222, max_depth=3, n_estimators=100; total time=   0.0s\n",
      "[CV 3/5] END learning_rate=0.03422222222222222, max_depth=3, n_estimators=100; total time=   0.0s\n",
      "[CV 4/5] END learning_rate=0.03422222222222222, max_depth=3, n_estimators=100; total time=   0.0s\n",
      "[CV 5/5] END learning_rate=0.03422222222222222, max_depth=3, n_estimators=100; total time=   0.0s\n",
      "[CV 1/5] END learning_rate=0.03422222222222222, max_depth=4, n_estimators=20; total time=   0.0s\n",
      "[CV 2/5] END learning_rate=0.03422222222222222, max_depth=4, n_estimators=20; total time=   0.0s\n",
      "[CV 3/5] END learning_rate=0.03422222222222222, max_depth=4, n_estimators=20; total time=   0.0s\n",
      "[CV 4/5] END learning_rate=0.03422222222222222, max_depth=4, n_estimators=20; total time=   0.0s\n",
      "[CV 5/5] END learning_rate=0.03422222222222222, max_depth=4, n_estimators=20; total time=   0.0s\n",
      "[CV 1/5] END learning_rate=0.03422222222222222, max_depth=4, n_estimators=30; total time=   0.0s\n",
      "[CV 2/5] END learning_rate=0.03422222222222222, max_depth=4, n_estimators=30; total time=   0.0s\n",
      "[CV 3/5] END learning_rate=0.03422222222222222, max_depth=4, n_estimators=30; total time=   0.0s\n",
      "[CV 4/5] END learning_rate=0.03422222222222222, max_depth=4, n_estimators=30; total time=   0.0s\n",
      "[CV 5/5] END learning_rate=0.03422222222222222, max_depth=4, n_estimators=30; total time=   0.0s\n",
      "[CV 1/5] END learning_rate=0.03422222222222222, max_depth=4, n_estimators=50; total time=   0.0s\n",
      "[CV 2/5] END learning_rate=0.03422222222222222, max_depth=4, n_estimators=50; total time=   0.0s\n",
      "[CV 3/5] END learning_rate=0.03422222222222222, max_depth=4, n_estimators=50; total time=   0.0s\n",
      "[CV 4/5] END learning_rate=0.03422222222222222, max_depth=4, n_estimators=50; total time=   0.0s\n",
      "[CV 5/5] END learning_rate=0.03422222222222222, max_depth=4, n_estimators=50; total time=   0.0s\n",
      "[CV 1/5] END learning_rate=0.03422222222222222, max_depth=4, n_estimators=100; total time=   0.0s\n",
      "[CV 2/5] END learning_rate=0.03422222222222222, max_depth=4, n_estimators=100; total time=   0.0s\n",
      "[CV 3/5] END learning_rate=0.03422222222222222, max_depth=4, n_estimators=100; total time=   0.0s\n",
      "[CV 4/5] END learning_rate=0.03422222222222222, max_depth=4, n_estimators=100; total time=   0.0s\n",
      "[CV 5/5] END learning_rate=0.03422222222222222, max_depth=4, n_estimators=100; total time=   0.0s\n",
      "[CV 1/5] END learning_rate=0.06744444444444445, max_depth=1, n_estimators=20; total time=   0.0s\n",
      "[CV 2/5] END learning_rate=0.06744444444444445, max_depth=1, n_estimators=20; total time=   0.0s\n",
      "[CV 3/5] END learning_rate=0.06744444444444445, max_depth=1, n_estimators=20; total time=   0.0s\n",
      "[CV 4/5] END learning_rate=0.06744444444444445, max_depth=1, n_estimators=20; total time=   0.0s\n",
      "[CV 5/5] END learning_rate=0.06744444444444445, max_depth=1, n_estimators=20; total time=   0.0s\n",
      "[CV 1/5] END learning_rate=0.06744444444444445, max_depth=1, n_estimators=30; total time=   0.0s\n",
      "[CV 2/5] END learning_rate=0.06744444444444445, max_depth=1, n_estimators=30; total time=   0.0s\n",
      "[CV 3/5] END learning_rate=0.06744444444444445, max_depth=1, n_estimators=30; total time=   0.0s\n",
      "[CV 4/5] END learning_rate=0.06744444444444445, max_depth=1, n_estimators=30; total time=   0.0s\n",
      "[CV 5/5] END learning_rate=0.06744444444444445, max_depth=1, n_estimators=30; total time=   0.0s\n",
      "[CV 1/5] END learning_rate=0.06744444444444445, max_depth=1, n_estimators=50; total time=   0.0s\n",
      "[CV 2/5] END learning_rate=0.06744444444444445, max_depth=1, n_estimators=50; total time=   0.0s\n",
      "[CV 3/5] END learning_rate=0.06744444444444445, max_depth=1, n_estimators=50; total time=   0.0s\n",
      "[CV 4/5] END learning_rate=0.06744444444444445, max_depth=1, n_estimators=50; total time=   0.0s\n",
      "[CV 5/5] END learning_rate=0.06744444444444445, max_depth=1, n_estimators=50; total time=   0.0s\n",
      "[CV 1/5] END learning_rate=0.06744444444444445, max_depth=1, n_estimators=100; total time=   0.0s\n",
      "[CV 2/5] END learning_rate=0.06744444444444445, max_depth=1, n_estimators=100; total time=   0.0s\n",
      "[CV 3/5] END learning_rate=0.06744444444444445, max_depth=1, n_estimators=100; total time=   0.0s\n",
      "[CV 4/5] END learning_rate=0.06744444444444445, max_depth=1, n_estimators=100; total time=   0.0s\n",
      "[CV 5/5] END learning_rate=0.06744444444444445, max_depth=1, n_estimators=100; total time=   0.0s\n",
      "[CV 1/5] END learning_rate=0.06744444444444445, max_depth=2, n_estimators=20; total time=   0.0s\n",
      "[CV 2/5] END learning_rate=0.06744444444444445, max_depth=2, n_estimators=20; total time=   0.0s\n",
      "[CV 3/5] END learning_rate=0.06744444444444445, max_depth=2, n_estimators=20; total time=   0.0s\n",
      "[CV 4/5] END learning_rate=0.06744444444444445, max_depth=2, n_estimators=20; total time=   0.0s\n",
      "[CV 5/5] END learning_rate=0.06744444444444445, max_depth=2, n_estimators=20; total time=   0.0s\n",
      "[CV 1/5] END learning_rate=0.06744444444444445, max_depth=2, n_estimators=30; total time=   0.0s\n",
      "[CV 2/5] END learning_rate=0.06744444444444445, max_depth=2, n_estimators=30; total time=   0.0s\n",
      "[CV 3/5] END learning_rate=0.06744444444444445, max_depth=2, n_estimators=30; total time=   0.0s\n",
      "[CV 4/5] END learning_rate=0.06744444444444445, max_depth=2, n_estimators=30; total time=   0.0s\n",
      "[CV 5/5] END learning_rate=0.06744444444444445, max_depth=2, n_estimators=30; total time=   0.0s\n",
      "[CV 1/5] END learning_rate=0.06744444444444445, max_depth=2, n_estimators=50; total time=   0.0s\n",
      "[CV 2/5] END learning_rate=0.06744444444444445, max_depth=2, n_estimators=50; total time=   0.0s\n",
      "[CV 3/5] END learning_rate=0.06744444444444445, max_depth=2, n_estimators=50; total time=   0.0s\n",
      "[CV 4/5] END learning_rate=0.06744444444444445, max_depth=2, n_estimators=50; total time=   0.0s\n",
      "[CV 5/5] END learning_rate=0.06744444444444445, max_depth=2, n_estimators=50; total time=   0.0s\n",
      "[CV 1/5] END learning_rate=0.06744444444444445, max_depth=2, n_estimators=100; total time=   0.0s\n",
      "[CV 2/5] END learning_rate=0.06744444444444445, max_depth=2, n_estimators=100; total time=   0.0s\n",
      "[CV 3/5] END learning_rate=0.06744444444444445, max_depth=2, n_estimators=100; total time=   0.0s\n",
      "[CV 4/5] END learning_rate=0.06744444444444445, max_depth=2, n_estimators=100; total time=   0.0s\n",
      "[CV 5/5] END learning_rate=0.06744444444444445, max_depth=2, n_estimators=100; total time=   0.0s\n",
      "[CV 1/5] END learning_rate=0.06744444444444445, max_depth=3, n_estimators=20; total time=   0.0s\n",
      "[CV 2/5] END learning_rate=0.06744444444444445, max_depth=3, n_estimators=20; total time=   0.0s\n",
      "[CV 3/5] END learning_rate=0.06744444444444445, max_depth=3, n_estimators=20; total time=   0.0s\n",
      "[CV 4/5] END learning_rate=0.06744444444444445, max_depth=3, n_estimators=20; total time=   0.0s\n",
      "[CV 5/5] END learning_rate=0.06744444444444445, max_depth=3, n_estimators=20; total time=   0.0s\n",
      "[CV 1/5] END learning_rate=0.06744444444444445, max_depth=3, n_estimators=30; total time=   0.0s\n",
      "[CV 2/5] END learning_rate=0.06744444444444445, max_depth=3, n_estimators=30; total time=   0.0s\n",
      "[CV 3/5] END learning_rate=0.06744444444444445, max_depth=3, n_estimators=30; total time=   0.0s\n",
      "[CV 4/5] END learning_rate=0.06744444444444445, max_depth=3, n_estimators=30; total time=   0.0s\n",
      "[CV 5/5] END learning_rate=0.06744444444444445, max_depth=3, n_estimators=30; total time=   0.0s\n",
      "[CV 1/5] END learning_rate=0.06744444444444445, max_depth=3, n_estimators=50; total time=   0.0s\n",
      "[CV 2/5] END learning_rate=0.06744444444444445, max_depth=3, n_estimators=50; total time=   0.0s\n",
      "[CV 3/5] END learning_rate=0.06744444444444445, max_depth=3, n_estimators=50; total time=   0.0s\n",
      "[CV 4/5] END learning_rate=0.06744444444444445, max_depth=3, n_estimators=50; total time=   0.0s\n",
      "[CV 5/5] END learning_rate=0.06744444444444445, max_depth=3, n_estimators=50; total time=   0.0s\n",
      "[CV 1/5] END learning_rate=0.06744444444444445, max_depth=3, n_estimators=100; total time=   0.0s\n",
      "[CV 2/5] END learning_rate=0.06744444444444445, max_depth=3, n_estimators=100; total time=   0.0s\n",
      "[CV 3/5] END learning_rate=0.06744444444444445, max_depth=3, n_estimators=100; total time=   0.0s\n",
      "[CV 4/5] END learning_rate=0.06744444444444445, max_depth=3, n_estimators=100; total time=   0.0s\n",
      "[CV 5/5] END learning_rate=0.06744444444444445, max_depth=3, n_estimators=100; total time=   0.0s\n",
      "[CV 1/5] END learning_rate=0.06744444444444445, max_depth=4, n_estimators=20; total time=   0.0s\n",
      "[CV 2/5] END learning_rate=0.06744444444444445, max_depth=4, n_estimators=20; total time=   0.0s\n",
      "[CV 3/5] END learning_rate=0.06744444444444445, max_depth=4, n_estimators=20; total time=   0.0s\n",
      "[CV 4/5] END learning_rate=0.06744444444444445, max_depth=4, n_estimators=20; total time=   0.0s\n",
      "[CV 5/5] END learning_rate=0.06744444444444445, max_depth=4, n_estimators=20; total time=   0.0s\n",
      "[CV 1/5] END learning_rate=0.06744444444444445, max_depth=4, n_estimators=30; total time=   0.0s\n",
      "[CV 2/5] END learning_rate=0.06744444444444445, max_depth=4, n_estimators=30; total time=   0.0s\n",
      "[CV 3/5] END learning_rate=0.06744444444444445, max_depth=4, n_estimators=30; total time=   0.0s\n",
      "[CV 4/5] END learning_rate=0.06744444444444445, max_depth=4, n_estimators=30; total time=   0.0s\n",
      "[CV 5/5] END learning_rate=0.06744444444444445, max_depth=4, n_estimators=30; total time=   0.0s\n",
      "[CV 1/5] END learning_rate=0.06744444444444445, max_depth=4, n_estimators=50; total time=   0.0s\n",
      "[CV 2/5] END learning_rate=0.06744444444444445, max_depth=4, n_estimators=50; total time=   0.0s\n",
      "[CV 3/5] END learning_rate=0.06744444444444445, max_depth=4, n_estimators=50; total time=   0.0s\n",
      "[CV 4/5] END learning_rate=0.06744444444444445, max_depth=4, n_estimators=50; total time=   0.0s\n",
      "[CV 5/5] END learning_rate=0.06744444444444445, max_depth=4, n_estimators=50; total time=   0.0s\n",
      "[CV 1/5] END learning_rate=0.06744444444444445, max_depth=4, n_estimators=100; total time=   0.0s\n",
      "[CV 2/5] END learning_rate=0.06744444444444445, max_depth=4, n_estimators=100; total time=   0.0s\n",
      "[CV 3/5] END learning_rate=0.06744444444444445, max_depth=4, n_estimators=100; total time=   0.0s\n",
      "[CV 4/5] END learning_rate=0.06744444444444445, max_depth=4, n_estimators=100; total time=   0.0s\n",
      "[CV 5/5] END learning_rate=0.06744444444444445, max_depth=4, n_estimators=100; total time=   0.0s\n",
      "[CV 1/5] END learning_rate=0.10066666666666667, max_depth=1, n_estimators=20; total time=   0.0s\n",
      "[CV 2/5] END learning_rate=0.10066666666666667, max_depth=1, n_estimators=20; total time=   0.0s\n",
      "[CV 3/5] END learning_rate=0.10066666666666667, max_depth=1, n_estimators=20; total time=   0.0s\n",
      "[CV 4/5] END learning_rate=0.10066666666666667, max_depth=1, n_estimators=20; total time=   0.0s\n",
      "[CV 5/5] END learning_rate=0.10066666666666667, max_depth=1, n_estimators=20; total time=   0.0s\n",
      "[CV 1/5] END learning_rate=0.10066666666666667, max_depth=1, n_estimators=30; total time=   0.0s\n",
      "[CV 2/5] END learning_rate=0.10066666666666667, max_depth=1, n_estimators=30; total time=   0.0s\n",
      "[CV 3/5] END learning_rate=0.10066666666666667, max_depth=1, n_estimators=30; total time=   0.0s\n",
      "[CV 4/5] END learning_rate=0.10066666666666667, max_depth=1, n_estimators=30; total time=   0.0s\n",
      "[CV 5/5] END learning_rate=0.10066666666666667, max_depth=1, n_estimators=30; total time=   0.0s\n",
      "[CV 1/5] END learning_rate=0.10066666666666667, max_depth=1, n_estimators=50; total time=   0.0s\n",
      "[CV 2/5] END learning_rate=0.10066666666666667, max_depth=1, n_estimators=50; total time=   0.0s\n",
      "[CV 3/5] END learning_rate=0.10066666666666667, max_depth=1, n_estimators=50; total time=   0.0s\n",
      "[CV 4/5] END learning_rate=0.10066666666666667, max_depth=1, n_estimators=50; total time=   0.0s\n",
      "[CV 5/5] END learning_rate=0.10066666666666667, max_depth=1, n_estimators=50; total time=   0.0s\n",
      "[CV 1/5] END learning_rate=0.10066666666666667, max_depth=1, n_estimators=100; total time=   0.0s\n",
      "[CV 2/5] END learning_rate=0.10066666666666667, max_depth=1, n_estimators=100; total time=   0.0s\n",
      "[CV 3/5] END learning_rate=0.10066666666666667, max_depth=1, n_estimators=100; total time=   0.0s\n",
      "[CV 4/5] END learning_rate=0.10066666666666667, max_depth=1, n_estimators=100; total time=   0.0s\n",
      "[CV 5/5] END learning_rate=0.10066666666666667, max_depth=1, n_estimators=100; total time=   0.0s\n",
      "[CV 1/5] END learning_rate=0.10066666666666667, max_depth=2, n_estimators=20; total time=   0.0s\n",
      "[CV 2/5] END learning_rate=0.10066666666666667, max_depth=2, n_estimators=20; total time=   0.0s\n",
      "[CV 3/5] END learning_rate=0.10066666666666667, max_depth=2, n_estimators=20; total time=   0.0s\n",
      "[CV 4/5] END learning_rate=0.10066666666666667, max_depth=2, n_estimators=20; total time=   0.0s\n",
      "[CV 5/5] END learning_rate=0.10066666666666667, max_depth=2, n_estimators=20; total time=   0.0s\n",
      "[CV 1/5] END learning_rate=0.10066666666666667, max_depth=2, n_estimators=30; total time=   0.0s\n",
      "[CV 2/5] END learning_rate=0.10066666666666667, max_depth=2, n_estimators=30; total time=   0.0s\n",
      "[CV 3/5] END learning_rate=0.10066666666666667, max_depth=2, n_estimators=30; total time=   0.0s\n",
      "[CV 4/5] END learning_rate=0.10066666666666667, max_depth=2, n_estimators=30; total time=   0.0s\n",
      "[CV 5/5] END learning_rate=0.10066666666666667, max_depth=2, n_estimators=30; total time=   0.0s\n",
      "[CV 1/5] END learning_rate=0.10066666666666667, max_depth=2, n_estimators=50; total time=   0.0s\n",
      "[CV 2/5] END learning_rate=0.10066666666666667, max_depth=2, n_estimators=50; total time=   0.0s\n",
      "[CV 3/5] END learning_rate=0.10066666666666667, max_depth=2, n_estimators=50; total time=   0.0s\n",
      "[CV 4/5] END learning_rate=0.10066666666666667, max_depth=2, n_estimators=50; total time=   0.0s\n",
      "[CV 5/5] END learning_rate=0.10066666666666667, max_depth=2, n_estimators=50; total time=   0.0s\n",
      "[CV 1/5] END learning_rate=0.10066666666666667, max_depth=2, n_estimators=100; total time=   0.0s\n",
      "[CV 2/5] END learning_rate=0.10066666666666667, max_depth=2, n_estimators=100; total time=   0.0s\n",
      "[CV 3/5] END learning_rate=0.10066666666666667, max_depth=2, n_estimators=100; total time=   0.0s\n",
      "[CV 4/5] END learning_rate=0.10066666666666667, max_depth=2, n_estimators=100; total time=   0.0s\n",
      "[CV 5/5] END learning_rate=0.10066666666666667, max_depth=2, n_estimators=100; total time=   0.0s\n",
      "[CV 1/5] END learning_rate=0.10066666666666667, max_depth=3, n_estimators=20; total time=   0.0s\n",
      "[CV 2/5] END learning_rate=0.10066666666666667, max_depth=3, n_estimators=20; total time=   0.0s\n",
      "[CV 3/5] END learning_rate=0.10066666666666667, max_depth=3, n_estimators=20; total time=   0.0s\n",
      "[CV 4/5] END learning_rate=0.10066666666666667, max_depth=3, n_estimators=20; total time=   0.0s\n",
      "[CV 5/5] END learning_rate=0.10066666666666667, max_depth=3, n_estimators=20; total time=   0.0s\n",
      "[CV 1/5] END learning_rate=0.10066666666666667, max_depth=3, n_estimators=30; total time=   0.0s\n",
      "[CV 2/5] END learning_rate=0.10066666666666667, max_depth=3, n_estimators=30; total time=   0.0s\n",
      "[CV 3/5] END learning_rate=0.10066666666666667, max_depth=3, n_estimators=30; total time=   0.0s\n",
      "[CV 4/5] END learning_rate=0.10066666666666667, max_depth=3, n_estimators=30; total time=   0.0s\n",
      "[CV 5/5] END learning_rate=0.10066666666666667, max_depth=3, n_estimators=30; total time=   0.0s\n",
      "[CV 1/5] END learning_rate=0.10066666666666667, max_depth=3, n_estimators=50; total time=   0.0s\n",
      "[CV 2/5] END learning_rate=0.10066666666666667, max_depth=3, n_estimators=50; total time=   0.0s\n",
      "[CV 3/5] END learning_rate=0.10066666666666667, max_depth=3, n_estimators=50; total time=   0.0s\n",
      "[CV 4/5] END learning_rate=0.10066666666666667, max_depth=3, n_estimators=50; total time=   0.0s\n",
      "[CV 5/5] END learning_rate=0.10066666666666667, max_depth=3, n_estimators=50; total time=   0.0s\n",
      "[CV 1/5] END learning_rate=0.10066666666666667, max_depth=3, n_estimators=100; total time=   0.0s\n",
      "[CV 2/5] END learning_rate=0.10066666666666667, max_depth=3, n_estimators=100; total time=   0.0s\n",
      "[CV 3/5] END learning_rate=0.10066666666666667, max_depth=3, n_estimators=100; total time=   0.0s\n",
      "[CV 4/5] END learning_rate=0.10066666666666667, max_depth=3, n_estimators=100; total time=   0.0s\n",
      "[CV 5/5] END learning_rate=0.10066666666666667, max_depth=3, n_estimators=100; total time=   0.0s\n",
      "[CV 1/5] END learning_rate=0.10066666666666667, max_depth=4, n_estimators=20; total time=   0.0s\n",
      "[CV 2/5] END learning_rate=0.10066666666666667, max_depth=4, n_estimators=20; total time=   0.0s\n",
      "[CV 3/5] END learning_rate=0.10066666666666667, max_depth=4, n_estimators=20; total time=   0.0s\n",
      "[CV 4/5] END learning_rate=0.10066666666666667, max_depth=4, n_estimators=20; total time=   0.0s\n",
      "[CV 5/5] END learning_rate=0.10066666666666667, max_depth=4, n_estimators=20; total time=   0.0s\n",
      "[CV 1/5] END learning_rate=0.10066666666666667, max_depth=4, n_estimators=30; total time=   0.0s\n",
      "[CV 2/5] END learning_rate=0.10066666666666667, max_depth=4, n_estimators=30; total time=   0.0s\n",
      "[CV 3/5] END learning_rate=0.10066666666666667, max_depth=4, n_estimators=30; total time=   0.0s\n",
      "[CV 4/5] END learning_rate=0.10066666666666667, max_depth=4, n_estimators=30; total time=   0.0s\n",
      "[CV 5/5] END learning_rate=0.10066666666666667, max_depth=4, n_estimators=30; total time=   0.0s\n",
      "[CV 1/5] END learning_rate=0.10066666666666667, max_depth=4, n_estimators=50; total time=   0.0s\n",
      "[CV 2/5] END learning_rate=0.10066666666666667, max_depth=4, n_estimators=50; total time=   0.0s\n",
      "[CV 3/5] END learning_rate=0.10066666666666667, max_depth=4, n_estimators=50; total time=   0.0s\n",
      "[CV 4/5] END learning_rate=0.10066666666666667, max_depth=4, n_estimators=50; total time=   0.0s\n",
      "[CV 5/5] END learning_rate=0.10066666666666667, max_depth=4, n_estimators=50; total time=   0.0s\n",
      "[CV 1/5] END learning_rate=0.10066666666666667, max_depth=4, n_estimators=100; total time=   0.0s\n",
      "[CV 2/5] END learning_rate=0.10066666666666667, max_depth=4, n_estimators=100; total time=   0.0s\n",
      "[CV 3/5] END learning_rate=0.10066666666666667, max_depth=4, n_estimators=100; total time=   0.0s\n",
      "[CV 4/5] END learning_rate=0.10066666666666667, max_depth=4, n_estimators=100; total time=   0.0s\n",
      "[CV 5/5] END learning_rate=0.10066666666666667, max_depth=4, n_estimators=100; total time=   0.0s\n",
      "[CV 1/5] END learning_rate=0.1338888888888889, max_depth=1, n_estimators=20; total time=   0.0s\n",
      "[CV 2/5] END learning_rate=0.1338888888888889, max_depth=1, n_estimators=20; total time=   0.0s\n",
      "[CV 3/5] END learning_rate=0.1338888888888889, max_depth=1, n_estimators=20; total time=   0.0s\n",
      "[CV 4/5] END learning_rate=0.1338888888888889, max_depth=1, n_estimators=20; total time=   0.0s\n",
      "[CV 5/5] END learning_rate=0.1338888888888889, max_depth=1, n_estimators=20; total time=   0.0s\n",
      "[CV 1/5] END learning_rate=0.1338888888888889, max_depth=1, n_estimators=30; total time=   0.0s\n",
      "[CV 2/5] END learning_rate=0.1338888888888889, max_depth=1, n_estimators=30; total time=   0.0s\n",
      "[CV 3/5] END learning_rate=0.1338888888888889, max_depth=1, n_estimators=30; total time=   0.0s\n",
      "[CV 4/5] END learning_rate=0.1338888888888889, max_depth=1, n_estimators=30; total time=   0.0s\n",
      "[CV 5/5] END learning_rate=0.1338888888888889, max_depth=1, n_estimators=30; total time=   0.0s\n",
      "[CV 1/5] END learning_rate=0.1338888888888889, max_depth=1, n_estimators=50; total time=   0.0s\n",
      "[CV 2/5] END learning_rate=0.1338888888888889, max_depth=1, n_estimators=50; total time=   0.0s\n",
      "[CV 3/5] END learning_rate=0.1338888888888889, max_depth=1, n_estimators=50; total time=   0.0s\n",
      "[CV 4/5] END learning_rate=0.1338888888888889, max_depth=1, n_estimators=50; total time=   0.0s\n",
      "[CV 5/5] END learning_rate=0.1338888888888889, max_depth=1, n_estimators=50; total time=   0.0s\n",
      "[CV 1/5] END learning_rate=0.1338888888888889, max_depth=1, n_estimators=100; total time=   0.0s\n",
      "[CV 2/5] END learning_rate=0.1338888888888889, max_depth=1, n_estimators=100; total time=   0.1s\n",
      "[CV 3/5] END learning_rate=0.1338888888888889, max_depth=1, n_estimators=100; total time=   0.0s\n",
      "[CV 4/5] END learning_rate=0.1338888888888889, max_depth=1, n_estimators=100; total time=   0.0s\n",
      "[CV 5/5] END learning_rate=0.1338888888888889, max_depth=1, n_estimators=100; total time=   0.0s\n",
      "[CV 1/5] END learning_rate=0.1338888888888889, max_depth=2, n_estimators=20; total time=   0.0s\n",
      "[CV 2/5] END learning_rate=0.1338888888888889, max_depth=2, n_estimators=20; total time=   0.0s\n",
      "[CV 3/5] END learning_rate=0.1338888888888889, max_depth=2, n_estimators=20; total time=   0.0s\n",
      "[CV 4/5] END learning_rate=0.1338888888888889, max_depth=2, n_estimators=20; total time=   0.0s\n",
      "[CV 5/5] END learning_rate=0.1338888888888889, max_depth=2, n_estimators=20; total time=   0.0s\n",
      "[CV 1/5] END learning_rate=0.1338888888888889, max_depth=2, n_estimators=30; total time=   0.0s\n",
      "[CV 2/5] END learning_rate=0.1338888888888889, max_depth=2, n_estimators=30; total time=   0.0s\n",
      "[CV 3/5] END learning_rate=0.1338888888888889, max_depth=2, n_estimators=30; total time=   0.0s\n",
      "[CV 4/5] END learning_rate=0.1338888888888889, max_depth=2, n_estimators=30; total time=   0.0s\n",
      "[CV 5/5] END learning_rate=0.1338888888888889, max_depth=2, n_estimators=30; total time=   0.0s\n",
      "[CV 1/5] END learning_rate=0.1338888888888889, max_depth=2, n_estimators=50; total time=   0.0s\n",
      "[CV 2/5] END learning_rate=0.1338888888888889, max_depth=2, n_estimators=50; total time=   0.0s\n",
      "[CV 3/5] END learning_rate=0.1338888888888889, max_depth=2, n_estimators=50; total time=   0.0s\n",
      "[CV 4/5] END learning_rate=0.1338888888888889, max_depth=2, n_estimators=50; total time=   0.0s\n",
      "[CV 5/5] END learning_rate=0.1338888888888889, max_depth=2, n_estimators=50; total time=   0.0s\n",
      "[CV 1/5] END learning_rate=0.1338888888888889, max_depth=2, n_estimators=100; total time=   0.0s\n",
      "[CV 2/5] END learning_rate=0.1338888888888889, max_depth=2, n_estimators=100; total time=   0.0s\n",
      "[CV 3/5] END learning_rate=0.1338888888888889, max_depth=2, n_estimators=100; total time=   0.0s\n",
      "[CV 4/5] END learning_rate=0.1338888888888889, max_depth=2, n_estimators=100; total time=   0.0s\n",
      "[CV 5/5] END learning_rate=0.1338888888888889, max_depth=2, n_estimators=100; total time=   0.0s\n",
      "[CV 1/5] END learning_rate=0.1338888888888889, max_depth=3, n_estimators=20; total time=   0.0s\n",
      "[CV 2/5] END learning_rate=0.1338888888888889, max_depth=3, n_estimators=20; total time=   0.0s\n",
      "[CV 3/5] END learning_rate=0.1338888888888889, max_depth=3, n_estimators=20; total time=   0.0s\n",
      "[CV 4/5] END learning_rate=0.1338888888888889, max_depth=3, n_estimators=20; total time=   0.0s\n",
      "[CV 5/5] END learning_rate=0.1338888888888889, max_depth=3, n_estimators=20; total time=   0.0s\n",
      "[CV 1/5] END learning_rate=0.1338888888888889, max_depth=3, n_estimators=30; total time=   0.0s\n",
      "[CV 2/5] END learning_rate=0.1338888888888889, max_depth=3, n_estimators=30; total time=   0.0s\n",
      "[CV 3/5] END learning_rate=0.1338888888888889, max_depth=3, n_estimators=30; total time=   0.0s\n",
      "[CV 4/5] END learning_rate=0.1338888888888889, max_depth=3, n_estimators=30; total time=   0.0s\n",
      "[CV 5/5] END learning_rate=0.1338888888888889, max_depth=3, n_estimators=30; total time=   0.0s\n",
      "[CV 1/5] END learning_rate=0.1338888888888889, max_depth=3, n_estimators=50; total time=   0.0s\n",
      "[CV 2/5] END learning_rate=0.1338888888888889, max_depth=3, n_estimators=50; total time=   0.0s\n",
      "[CV 3/5] END learning_rate=0.1338888888888889, max_depth=3, n_estimators=50; total time=   0.0s\n",
      "[CV 4/5] END learning_rate=0.1338888888888889, max_depth=3, n_estimators=50; total time=   0.0s\n",
      "[CV 5/5] END learning_rate=0.1338888888888889, max_depth=3, n_estimators=50; total time=   0.0s\n",
      "[CV 1/5] END learning_rate=0.1338888888888889, max_depth=3, n_estimators=100; total time=   0.0s\n",
      "[CV 2/5] END learning_rate=0.1338888888888889, max_depth=3, n_estimators=100; total time=   0.0s\n",
      "[CV 3/5] END learning_rate=0.1338888888888889, max_depth=3, n_estimators=100; total time=   0.0s\n",
      "[CV 4/5] END learning_rate=0.1338888888888889, max_depth=3, n_estimators=100; total time=   0.0s\n",
      "[CV 5/5] END learning_rate=0.1338888888888889, max_depth=3, n_estimators=100; total time=   0.0s\n",
      "[CV 1/5] END learning_rate=0.1338888888888889, max_depth=4, n_estimators=20; total time=   0.0s\n",
      "[CV 2/5] END learning_rate=0.1338888888888889, max_depth=4, n_estimators=20; total time=   0.0s\n",
      "[CV 3/5] END learning_rate=0.1338888888888889, max_depth=4, n_estimators=20; total time=   0.0s\n",
      "[CV 4/5] END learning_rate=0.1338888888888889, max_depth=4, n_estimators=20; total time=   0.0s\n",
      "[CV 5/5] END learning_rate=0.1338888888888889, max_depth=4, n_estimators=20; total time=   0.0s\n",
      "[CV 1/5] END learning_rate=0.1338888888888889, max_depth=4, n_estimators=30; total time=   0.0s\n",
      "[CV 2/5] END learning_rate=0.1338888888888889, max_depth=4, n_estimators=30; total time=   0.0s\n",
      "[CV 3/5] END learning_rate=0.1338888888888889, max_depth=4, n_estimators=30; total time=   0.0s\n",
      "[CV 4/5] END learning_rate=0.1338888888888889, max_depth=4, n_estimators=30; total time=   0.0s\n",
      "[CV 5/5] END learning_rate=0.1338888888888889, max_depth=4, n_estimators=30; total time=   0.0s\n",
      "[CV 1/5] END learning_rate=0.1338888888888889, max_depth=4, n_estimators=50; total time=   0.0s\n",
      "[CV 2/5] END learning_rate=0.1338888888888889, max_depth=4, n_estimators=50; total time=   0.0s\n",
      "[CV 3/5] END learning_rate=0.1338888888888889, max_depth=4, n_estimators=50; total time=   0.0s\n",
      "[CV 4/5] END learning_rate=0.1338888888888889, max_depth=4, n_estimators=50; total time=   0.0s\n",
      "[CV 5/5] END learning_rate=0.1338888888888889, max_depth=4, n_estimators=50; total time=   0.0s\n",
      "[CV 1/5] END learning_rate=0.1338888888888889, max_depth=4, n_estimators=100; total time=   0.0s\n",
      "[CV 2/5] END learning_rate=0.1338888888888889, max_depth=4, n_estimators=100; total time=   0.0s\n",
      "[CV 3/5] END learning_rate=0.1338888888888889, max_depth=4, n_estimators=100; total time=   0.0s\n",
      "[CV 4/5] END learning_rate=0.1338888888888889, max_depth=4, n_estimators=100; total time=   0.0s\n",
      "[CV 5/5] END learning_rate=0.1338888888888889, max_depth=4, n_estimators=100; total time=   0.0s\n",
      "[CV 1/5] END learning_rate=0.1671111111111111, max_depth=1, n_estimators=20; total time=   0.0s\n",
      "[CV 2/5] END learning_rate=0.1671111111111111, max_depth=1, n_estimators=20; total time=   0.0s\n",
      "[CV 3/5] END learning_rate=0.1671111111111111, max_depth=1, n_estimators=20; total time=   0.0s\n",
      "[CV 4/5] END learning_rate=0.1671111111111111, max_depth=1, n_estimators=20; total time=   0.0s\n",
      "[CV 5/5] END learning_rate=0.1671111111111111, max_depth=1, n_estimators=20; total time=   0.0s\n",
      "[CV 1/5] END learning_rate=0.1671111111111111, max_depth=1, n_estimators=30; total time=   0.0s\n",
      "[CV 2/5] END learning_rate=0.1671111111111111, max_depth=1, n_estimators=30; total time=   0.0s\n",
      "[CV 3/5] END learning_rate=0.1671111111111111, max_depth=1, n_estimators=30; total time=   0.0s\n",
      "[CV 4/5] END learning_rate=0.1671111111111111, max_depth=1, n_estimators=30; total time=   0.0s\n",
      "[CV 5/5] END learning_rate=0.1671111111111111, max_depth=1, n_estimators=30; total time=   0.0s\n",
      "[CV 1/5] END learning_rate=0.1671111111111111, max_depth=1, n_estimators=50; total time=   0.0s\n",
      "[CV 2/5] END learning_rate=0.1671111111111111, max_depth=1, n_estimators=50; total time=   0.0s\n",
      "[CV 3/5] END learning_rate=0.1671111111111111, max_depth=1, n_estimators=50; total time=   0.0s\n",
      "[CV 4/5] END learning_rate=0.1671111111111111, max_depth=1, n_estimators=50; total time=   0.0s\n",
      "[CV 5/5] END learning_rate=0.1671111111111111, max_depth=1, n_estimators=50; total time=   0.0s\n",
      "[CV 1/5] END learning_rate=0.1671111111111111, max_depth=1, n_estimators=100; total time=   0.0s\n",
      "[CV 2/5] END learning_rate=0.1671111111111111, max_depth=1, n_estimators=100; total time=   0.0s\n",
      "[CV 3/5] END learning_rate=0.1671111111111111, max_depth=1, n_estimators=100; total time=   0.0s\n",
      "[CV 4/5] END learning_rate=0.1671111111111111, max_depth=1, n_estimators=100; total time=   0.1s\n",
      "[CV 5/5] END learning_rate=0.1671111111111111, max_depth=1, n_estimators=100; total time=   0.0s\n",
      "[CV 1/5] END learning_rate=0.1671111111111111, max_depth=2, n_estimators=20; total time=   0.0s\n",
      "[CV 2/5] END learning_rate=0.1671111111111111, max_depth=2, n_estimators=20; total time=   0.0s\n",
      "[CV 3/5] END learning_rate=0.1671111111111111, max_depth=2, n_estimators=20; total time=   0.0s\n",
      "[CV 4/5] END learning_rate=0.1671111111111111, max_depth=2, n_estimators=20; total time=   0.0s\n",
      "[CV 5/5] END learning_rate=0.1671111111111111, max_depth=2, n_estimators=20; total time=   0.0s\n",
      "[CV 1/5] END learning_rate=0.1671111111111111, max_depth=2, n_estimators=30; total time=   0.0s\n",
      "[CV 2/5] END learning_rate=0.1671111111111111, max_depth=2, n_estimators=30; total time=   0.0s\n",
      "[CV 3/5] END learning_rate=0.1671111111111111, max_depth=2, n_estimators=30; total time=   0.0s\n",
      "[CV 4/5] END learning_rate=0.1671111111111111, max_depth=2, n_estimators=30; total time=   0.0s\n",
      "[CV 5/5] END learning_rate=0.1671111111111111, max_depth=2, n_estimators=30; total time=   0.0s\n",
      "[CV 1/5] END learning_rate=0.1671111111111111, max_depth=2, n_estimators=50; total time=   0.0s\n",
      "[CV 2/5] END learning_rate=0.1671111111111111, max_depth=2, n_estimators=50; total time=   0.0s\n",
      "[CV 3/5] END learning_rate=0.1671111111111111, max_depth=2, n_estimators=50; total time=   0.0s\n",
      "[CV 4/5] END learning_rate=0.1671111111111111, max_depth=2, n_estimators=50; total time=   0.0s\n",
      "[CV 5/5] END learning_rate=0.1671111111111111, max_depth=2, n_estimators=50; total time=   0.0s\n",
      "[CV 1/5] END learning_rate=0.1671111111111111, max_depth=2, n_estimators=100; total time=   0.0s\n",
      "[CV 2/5] END learning_rate=0.1671111111111111, max_depth=2, n_estimators=100; total time=   0.0s\n",
      "[CV 3/5] END learning_rate=0.1671111111111111, max_depth=2, n_estimators=100; total time=   0.0s\n",
      "[CV 4/5] END learning_rate=0.1671111111111111, max_depth=2, n_estimators=100; total time=   0.0s\n",
      "[CV 5/5] END learning_rate=0.1671111111111111, max_depth=2, n_estimators=100; total time=   0.0s\n",
      "[CV 1/5] END learning_rate=0.1671111111111111, max_depth=3, n_estimators=20; total time=   0.0s\n",
      "[CV 2/5] END learning_rate=0.1671111111111111, max_depth=3, n_estimators=20; total time=   0.0s\n",
      "[CV 3/5] END learning_rate=0.1671111111111111, max_depth=3, n_estimators=20; total time=   0.0s\n",
      "[CV 4/5] END learning_rate=0.1671111111111111, max_depth=3, n_estimators=20; total time=   0.0s\n",
      "[CV 5/5] END learning_rate=0.1671111111111111, max_depth=3, n_estimators=20; total time=   0.0s\n",
      "[CV 1/5] END learning_rate=0.1671111111111111, max_depth=3, n_estimators=30; total time=   0.0s\n",
      "[CV 2/5] END learning_rate=0.1671111111111111, max_depth=3, n_estimators=30; total time=   0.0s\n",
      "[CV 3/5] END learning_rate=0.1671111111111111, max_depth=3, n_estimators=30; total time=   0.0s\n",
      "[CV 4/5] END learning_rate=0.1671111111111111, max_depth=3, n_estimators=30; total time=   0.0s\n",
      "[CV 5/5] END learning_rate=0.1671111111111111, max_depth=3, n_estimators=30; total time=   0.0s\n",
      "[CV 1/5] END learning_rate=0.1671111111111111, max_depth=3, n_estimators=50; total time=   0.0s\n",
      "[CV 2/5] END learning_rate=0.1671111111111111, max_depth=3, n_estimators=50; total time=   0.0s\n",
      "[CV 3/5] END learning_rate=0.1671111111111111, max_depth=3, n_estimators=50; total time=   0.0s\n",
      "[CV 4/5] END learning_rate=0.1671111111111111, max_depth=3, n_estimators=50; total time=   0.0s\n",
      "[CV 5/5] END learning_rate=0.1671111111111111, max_depth=3, n_estimators=50; total time=   0.0s\n",
      "[CV 1/5] END learning_rate=0.1671111111111111, max_depth=3, n_estimators=100; total time=   0.0s\n",
      "[CV 2/5] END learning_rate=0.1671111111111111, max_depth=3, n_estimators=100; total time=   0.0s\n",
      "[CV 3/5] END learning_rate=0.1671111111111111, max_depth=3, n_estimators=100; total time=   0.0s\n",
      "[CV 4/5] END learning_rate=0.1671111111111111, max_depth=3, n_estimators=100; total time=   0.0s\n",
      "[CV 5/5] END learning_rate=0.1671111111111111, max_depth=3, n_estimators=100; total time=   0.0s\n",
      "[CV 1/5] END learning_rate=0.1671111111111111, max_depth=4, n_estimators=20; total time=   0.0s\n",
      "[CV 2/5] END learning_rate=0.1671111111111111, max_depth=4, n_estimators=20; total time=   0.0s\n",
      "[CV 3/5] END learning_rate=0.1671111111111111, max_depth=4, n_estimators=20; total time=   0.0s\n",
      "[CV 4/5] END learning_rate=0.1671111111111111, max_depth=4, n_estimators=20; total time=   0.0s\n",
      "[CV 5/5] END learning_rate=0.1671111111111111, max_depth=4, n_estimators=20; total time=   0.0s\n",
      "[CV 1/5] END learning_rate=0.1671111111111111, max_depth=4, n_estimators=30; total time=   0.0s\n",
      "[CV 2/5] END learning_rate=0.1671111111111111, max_depth=4, n_estimators=30; total time=   0.0s\n",
      "[CV 3/5] END learning_rate=0.1671111111111111, max_depth=4, n_estimators=30; total time=   0.0s\n",
      "[CV 4/5] END learning_rate=0.1671111111111111, max_depth=4, n_estimators=30; total time=   0.0s\n",
      "[CV 5/5] END learning_rate=0.1671111111111111, max_depth=4, n_estimators=30; total time=   0.0s\n",
      "[CV 1/5] END learning_rate=0.1671111111111111, max_depth=4, n_estimators=50; total time=   0.0s\n",
      "[CV 2/5] END learning_rate=0.1671111111111111, max_depth=4, n_estimators=50; total time=   0.0s\n",
      "[CV 3/5] END learning_rate=0.1671111111111111, max_depth=4, n_estimators=50; total time=   0.0s\n",
      "[CV 4/5] END learning_rate=0.1671111111111111, max_depth=4, n_estimators=50; total time=   0.0s\n",
      "[CV 5/5] END learning_rate=0.1671111111111111, max_depth=4, n_estimators=50; total time=   0.0s\n",
      "[CV 1/5] END learning_rate=0.1671111111111111, max_depth=4, n_estimators=100; total time=   0.0s\n",
      "[CV 2/5] END learning_rate=0.1671111111111111, max_depth=4, n_estimators=100; total time=   0.0s\n",
      "[CV 3/5] END learning_rate=0.1671111111111111, max_depth=4, n_estimators=100; total time=   0.0s\n",
      "[CV 4/5] END learning_rate=0.1671111111111111, max_depth=4, n_estimators=100; total time=   0.0s\n",
      "[CV 5/5] END learning_rate=0.1671111111111111, max_depth=4, n_estimators=100; total time=   0.0s\n",
      "[CV 1/5] END learning_rate=0.20033333333333334, max_depth=1, n_estimators=20; total time=   0.0s\n",
      "[CV 2/5] END learning_rate=0.20033333333333334, max_depth=1, n_estimators=20; total time=   0.0s\n",
      "[CV 3/5] END learning_rate=0.20033333333333334, max_depth=1, n_estimators=20; total time=   0.0s\n",
      "[CV 4/5] END learning_rate=0.20033333333333334, max_depth=1, n_estimators=20; total time=   0.0s\n",
      "[CV 5/5] END learning_rate=0.20033333333333334, max_depth=1, n_estimators=20; total time=   0.0s\n",
      "[CV 1/5] END learning_rate=0.20033333333333334, max_depth=1, n_estimators=30; total time=   0.0s\n",
      "[CV 2/5] END learning_rate=0.20033333333333334, max_depth=1, n_estimators=30; total time=   0.0s\n",
      "[CV 3/5] END learning_rate=0.20033333333333334, max_depth=1, n_estimators=30; total time=   0.0s\n",
      "[CV 4/5] END learning_rate=0.20033333333333334, max_depth=1, n_estimators=30; total time=   0.0s\n",
      "[CV 5/5] END learning_rate=0.20033333333333334, max_depth=1, n_estimators=30; total time=   0.0s\n",
      "[CV 1/5] END learning_rate=0.20033333333333334, max_depth=1, n_estimators=50; total time=   0.0s\n",
      "[CV 2/5] END learning_rate=0.20033333333333334, max_depth=1, n_estimators=50; total time=   0.0s\n",
      "[CV 3/5] END learning_rate=0.20033333333333334, max_depth=1, n_estimators=50; total time=   0.0s\n",
      "[CV 4/5] END learning_rate=0.20033333333333334, max_depth=1, n_estimators=50; total time=   0.0s\n",
      "[CV 5/5] END learning_rate=0.20033333333333334, max_depth=1, n_estimators=50; total time=   0.0s\n",
      "[CV 1/5] END learning_rate=0.20033333333333334, max_depth=1, n_estimators=100; total time=   0.0s\n",
      "[CV 2/5] END learning_rate=0.20033333333333334, max_depth=1, n_estimators=100; total time=   0.0s\n",
      "[CV 3/5] END learning_rate=0.20033333333333334, max_depth=1, n_estimators=100; total time=   0.0s\n",
      "[CV 4/5] END learning_rate=0.20033333333333334, max_depth=1, n_estimators=100; total time=   0.0s\n",
      "[CV 5/5] END learning_rate=0.20033333333333334, max_depth=1, n_estimators=100; total time=   0.0s\n",
      "[CV 1/5] END learning_rate=0.20033333333333334, max_depth=2, n_estimators=20; total time=   0.0s\n",
      "[CV 2/5] END learning_rate=0.20033333333333334, max_depth=2, n_estimators=20; total time=   0.0s\n",
      "[CV 3/5] END learning_rate=0.20033333333333334, max_depth=2, n_estimators=20; total time=   0.0s\n",
      "[CV 4/5] END learning_rate=0.20033333333333334, max_depth=2, n_estimators=20; total time=   0.0s\n",
      "[CV 5/5] END learning_rate=0.20033333333333334, max_depth=2, n_estimators=20; total time=   0.0s\n",
      "[CV 1/5] END learning_rate=0.20033333333333334, max_depth=2, n_estimators=30; total time=   0.0s\n",
      "[CV 2/5] END learning_rate=0.20033333333333334, max_depth=2, n_estimators=30; total time=   0.0s\n",
      "[CV 3/5] END learning_rate=0.20033333333333334, max_depth=2, n_estimators=30; total time=   0.0s\n",
      "[CV 4/5] END learning_rate=0.20033333333333334, max_depth=2, n_estimators=30; total time=   0.0s\n",
      "[CV 5/5] END learning_rate=0.20033333333333334, max_depth=2, n_estimators=30; total time=   0.0s\n",
      "[CV 1/5] END learning_rate=0.20033333333333334, max_depth=2, n_estimators=50; total time=   0.0s\n",
      "[CV 2/5] END learning_rate=0.20033333333333334, max_depth=2, n_estimators=50; total time=   0.0s\n",
      "[CV 3/5] END learning_rate=0.20033333333333334, max_depth=2, n_estimators=50; total time=   0.0s\n",
      "[CV 4/5] END learning_rate=0.20033333333333334, max_depth=2, n_estimators=50; total time=   0.0s\n",
      "[CV 5/5] END learning_rate=0.20033333333333334, max_depth=2, n_estimators=50; total time=   0.0s\n",
      "[CV 1/5] END learning_rate=0.20033333333333334, max_depth=2, n_estimators=100; total time=   0.0s\n",
      "[CV 2/5] END learning_rate=0.20033333333333334, max_depth=2, n_estimators=100; total time=   0.0s\n",
      "[CV 3/5] END learning_rate=0.20033333333333334, max_depth=2, n_estimators=100; total time=   0.0s\n",
      "[CV 4/5] END learning_rate=0.20033333333333334, max_depth=2, n_estimators=100; total time=   0.0s\n",
      "[CV 5/5] END learning_rate=0.20033333333333334, max_depth=2, n_estimators=100; total time=   0.0s\n",
      "[CV 1/5] END learning_rate=0.20033333333333334, max_depth=3, n_estimators=20; total time=   0.0s\n",
      "[CV 2/5] END learning_rate=0.20033333333333334, max_depth=3, n_estimators=20; total time=   0.0s\n",
      "[CV 3/5] END learning_rate=0.20033333333333334, max_depth=3, n_estimators=20; total time=   0.0s\n",
      "[CV 4/5] END learning_rate=0.20033333333333334, max_depth=3, n_estimators=20; total time=   0.0s\n",
      "[CV 5/5] END learning_rate=0.20033333333333334, max_depth=3, n_estimators=20; total time=   0.0s\n",
      "[CV 1/5] END learning_rate=0.20033333333333334, max_depth=3, n_estimators=30; total time=   0.0s\n",
      "[CV 2/5] END learning_rate=0.20033333333333334, max_depth=3, n_estimators=30; total time=   0.0s\n",
      "[CV 3/5] END learning_rate=0.20033333333333334, max_depth=3, n_estimators=30; total time=   0.0s\n",
      "[CV 4/5] END learning_rate=0.20033333333333334, max_depth=3, n_estimators=30; total time=   0.0s\n",
      "[CV 5/5] END learning_rate=0.20033333333333334, max_depth=3, n_estimators=30; total time=   0.0s\n",
      "[CV 1/5] END learning_rate=0.20033333333333334, max_depth=3, n_estimators=50; total time=   0.0s\n",
      "[CV 2/5] END learning_rate=0.20033333333333334, max_depth=3, n_estimators=50; total time=   0.0s\n",
      "[CV 3/5] END learning_rate=0.20033333333333334, max_depth=3, n_estimators=50; total time=   0.0s\n",
      "[CV 4/5] END learning_rate=0.20033333333333334, max_depth=3, n_estimators=50; total time=   0.0s\n",
      "[CV 5/5] END learning_rate=0.20033333333333334, max_depth=3, n_estimators=50; total time=   0.0s\n",
      "[CV 1/5] END learning_rate=0.20033333333333334, max_depth=3, n_estimators=100; total time=   0.0s\n",
      "[CV 2/5] END learning_rate=0.20033333333333334, max_depth=3, n_estimators=100; total time=   0.0s\n",
      "[CV 3/5] END learning_rate=0.20033333333333334, max_depth=3, n_estimators=100; total time=   0.0s\n",
      "[CV 4/5] END learning_rate=0.20033333333333334, max_depth=3, n_estimators=100; total time=   0.0s\n",
      "[CV 5/5] END learning_rate=0.20033333333333334, max_depth=3, n_estimators=100; total time=   0.0s\n",
      "[CV 1/5] END learning_rate=0.20033333333333334, max_depth=4, n_estimators=20; total time=   0.0s\n",
      "[CV 2/5] END learning_rate=0.20033333333333334, max_depth=4, n_estimators=20; total time=   0.0s\n",
      "[CV 3/5] END learning_rate=0.20033333333333334, max_depth=4, n_estimators=20; total time=   0.0s\n",
      "[CV 4/5] END learning_rate=0.20033333333333334, max_depth=4, n_estimators=20; total time=   0.0s\n",
      "[CV 5/5] END learning_rate=0.20033333333333334, max_depth=4, n_estimators=20; total time=   0.0s\n",
      "[CV 1/5] END learning_rate=0.20033333333333334, max_depth=4, n_estimators=30; total time=   0.0s\n",
      "[CV 2/5] END learning_rate=0.20033333333333334, max_depth=4, n_estimators=30; total time=   0.0s\n",
      "[CV 3/5] END learning_rate=0.20033333333333334, max_depth=4, n_estimators=30; total time=   0.0s\n",
      "[CV 4/5] END learning_rate=0.20033333333333334, max_depth=4, n_estimators=30; total time=   0.0s\n",
      "[CV 5/5] END learning_rate=0.20033333333333334, max_depth=4, n_estimators=30; total time=   0.0s\n",
      "[CV 1/5] END learning_rate=0.20033333333333334, max_depth=4, n_estimators=50; total time=   0.0s\n",
      "[CV 2/5] END learning_rate=0.20033333333333334, max_depth=4, n_estimators=50; total time=   0.0s\n",
      "[CV 3/5] END learning_rate=0.20033333333333334, max_depth=4, n_estimators=50; total time=   0.0s\n",
      "[CV 4/5] END learning_rate=0.20033333333333334, max_depth=4, n_estimators=50; total time=   0.0s\n",
      "[CV 5/5] END learning_rate=0.20033333333333334, max_depth=4, n_estimators=50; total time=   0.0s\n",
      "[CV 1/5] END learning_rate=0.20033333333333334, max_depth=4, n_estimators=100; total time=   0.0s\n",
      "[CV 2/5] END learning_rate=0.20033333333333334, max_depth=4, n_estimators=100; total time=   0.0s\n",
      "[CV 3/5] END learning_rate=0.20033333333333334, max_depth=4, n_estimators=100; total time=   0.0s\n",
      "[CV 4/5] END learning_rate=0.20033333333333334, max_depth=4, n_estimators=100; total time=   0.0s\n",
      "[CV 5/5] END learning_rate=0.20033333333333334, max_depth=4, n_estimators=100; total time=   0.0s\n",
      "[CV 1/5] END learning_rate=0.23355555555555557, max_depth=1, n_estimators=20; total time=   0.0s\n",
      "[CV 2/5] END learning_rate=0.23355555555555557, max_depth=1, n_estimators=20; total time=   0.0s\n",
      "[CV 3/5] END learning_rate=0.23355555555555557, max_depth=1, n_estimators=20; total time=   0.0s\n",
      "[CV 4/5] END learning_rate=0.23355555555555557, max_depth=1, n_estimators=20; total time=   0.0s\n",
      "[CV 5/5] END learning_rate=0.23355555555555557, max_depth=1, n_estimators=20; total time=   0.0s\n",
      "[CV 1/5] END learning_rate=0.23355555555555557, max_depth=1, n_estimators=30; total time=   0.0s\n",
      "[CV 2/5] END learning_rate=0.23355555555555557, max_depth=1, n_estimators=30; total time=   0.0s\n",
      "[CV 3/5] END learning_rate=0.23355555555555557, max_depth=1, n_estimators=30; total time=   0.0s\n",
      "[CV 4/5] END learning_rate=0.23355555555555557, max_depth=1, n_estimators=30; total time=   0.0s\n",
      "[CV 5/5] END learning_rate=0.23355555555555557, max_depth=1, n_estimators=30; total time=   0.0s\n",
      "[CV 1/5] END learning_rate=0.23355555555555557, max_depth=1, n_estimators=50; total time=   0.0s\n",
      "[CV 2/5] END learning_rate=0.23355555555555557, max_depth=1, n_estimators=50; total time=   0.0s\n",
      "[CV 3/5] END learning_rate=0.23355555555555557, max_depth=1, n_estimators=50; total time=   0.0s\n",
      "[CV 4/5] END learning_rate=0.23355555555555557, max_depth=1, n_estimators=50; total time=   0.0s\n",
      "[CV 5/5] END learning_rate=0.23355555555555557, max_depth=1, n_estimators=50; total time=   0.0s\n",
      "[CV 1/5] END learning_rate=0.23355555555555557, max_depth=1, n_estimators=100; total time=   0.0s\n",
      "[CV 2/5] END learning_rate=0.23355555555555557, max_depth=1, n_estimators=100; total time=   0.0s\n",
      "[CV 3/5] END learning_rate=0.23355555555555557, max_depth=1, n_estimators=100; total time=   0.0s\n",
      "[CV 4/5] END learning_rate=0.23355555555555557, max_depth=1, n_estimators=100; total time=   0.0s\n",
      "[CV 5/5] END learning_rate=0.23355555555555557, max_depth=1, n_estimators=100; total time=   0.0s\n",
      "[CV 1/5] END learning_rate=0.23355555555555557, max_depth=2, n_estimators=20; total time=   0.0s\n",
      "[CV 2/5] END learning_rate=0.23355555555555557, max_depth=2, n_estimators=20; total time=   0.0s\n",
      "[CV 3/5] END learning_rate=0.23355555555555557, max_depth=2, n_estimators=20; total time=   0.0s\n",
      "[CV 4/5] END learning_rate=0.23355555555555557, max_depth=2, n_estimators=20; total time=   0.0s\n",
      "[CV 5/5] END learning_rate=0.23355555555555557, max_depth=2, n_estimators=20; total time=   0.0s\n",
      "[CV 1/5] END learning_rate=0.23355555555555557, max_depth=2, n_estimators=30; total time=   0.0s\n",
      "[CV 2/5] END learning_rate=0.23355555555555557, max_depth=2, n_estimators=30; total time=   0.0s\n",
      "[CV 3/5] END learning_rate=0.23355555555555557, max_depth=2, n_estimators=30; total time=   0.0s\n",
      "[CV 4/5] END learning_rate=0.23355555555555557, max_depth=2, n_estimators=30; total time=   0.0s\n",
      "[CV 5/5] END learning_rate=0.23355555555555557, max_depth=2, n_estimators=30; total time=   0.0s\n",
      "[CV 1/5] END learning_rate=0.23355555555555557, max_depth=2, n_estimators=50; total time=   0.0s\n",
      "[CV 2/5] END learning_rate=0.23355555555555557, max_depth=2, n_estimators=50; total time=   0.0s\n",
      "[CV 3/5] END learning_rate=0.23355555555555557, max_depth=2, n_estimators=50; total time=   0.0s\n",
      "[CV 4/5] END learning_rate=0.23355555555555557, max_depth=2, n_estimators=50; total time=   0.0s\n",
      "[CV 5/5] END learning_rate=0.23355555555555557, max_depth=2, n_estimators=50; total time=   0.0s\n",
      "[CV 1/5] END learning_rate=0.23355555555555557, max_depth=2, n_estimators=100; total time=   0.0s\n",
      "[CV 2/5] END learning_rate=0.23355555555555557, max_depth=2, n_estimators=100; total time=   0.0s\n",
      "[CV 3/5] END learning_rate=0.23355555555555557, max_depth=2, n_estimators=100; total time=   0.0s\n",
      "[CV 4/5] END learning_rate=0.23355555555555557, max_depth=2, n_estimators=100; total time=   0.0s\n",
      "[CV 5/5] END learning_rate=0.23355555555555557, max_depth=2, n_estimators=100; total time=   0.0s\n",
      "[CV 1/5] END learning_rate=0.23355555555555557, max_depth=3, n_estimators=20; total time=   0.0s\n",
      "[CV 2/5] END learning_rate=0.23355555555555557, max_depth=3, n_estimators=20; total time=   0.0s\n",
      "[CV 3/5] END learning_rate=0.23355555555555557, max_depth=3, n_estimators=20; total time=   0.0s\n",
      "[CV 4/5] END learning_rate=0.23355555555555557, max_depth=3, n_estimators=20; total time=   0.0s\n",
      "[CV 5/5] END learning_rate=0.23355555555555557, max_depth=3, n_estimators=20; total time=   0.0s\n",
      "[CV 1/5] END learning_rate=0.23355555555555557, max_depth=3, n_estimators=30; total time=   0.0s\n",
      "[CV 2/5] END learning_rate=0.23355555555555557, max_depth=3, n_estimators=30; total time=   0.0s\n",
      "[CV 3/5] END learning_rate=0.23355555555555557, max_depth=3, n_estimators=30; total time=   0.0s\n",
      "[CV 4/5] END learning_rate=0.23355555555555557, max_depth=3, n_estimators=30; total time=   0.0s\n",
      "[CV 5/5] END learning_rate=0.23355555555555557, max_depth=3, n_estimators=30; total time=   0.0s\n",
      "[CV 1/5] END learning_rate=0.23355555555555557, max_depth=3, n_estimators=50; total time=   0.0s\n",
      "[CV 2/5] END learning_rate=0.23355555555555557, max_depth=3, n_estimators=50; total time=   0.0s\n",
      "[CV 3/5] END learning_rate=0.23355555555555557, max_depth=3, n_estimators=50; total time=   0.0s\n",
      "[CV 4/5] END learning_rate=0.23355555555555557, max_depth=3, n_estimators=50; total time=   0.0s\n",
      "[CV 5/5] END learning_rate=0.23355555555555557, max_depth=3, n_estimators=50; total time=   0.0s\n",
      "[CV 1/5] END learning_rate=0.23355555555555557, max_depth=3, n_estimators=100; total time=   0.0s\n",
      "[CV 2/5] END learning_rate=0.23355555555555557, max_depth=3, n_estimators=100; total time=   0.0s\n",
      "[CV 3/5] END learning_rate=0.23355555555555557, max_depth=3, n_estimators=100; total time=   0.0s\n",
      "[CV 4/5] END learning_rate=0.23355555555555557, max_depth=3, n_estimators=100; total time=   0.0s\n",
      "[CV 5/5] END learning_rate=0.23355555555555557, max_depth=3, n_estimators=100; total time=   0.0s\n",
      "[CV 1/5] END learning_rate=0.23355555555555557, max_depth=4, n_estimators=20; total time=   0.0s\n",
      "[CV 2/5] END learning_rate=0.23355555555555557, max_depth=4, n_estimators=20; total time=   0.0s\n",
      "[CV 3/5] END learning_rate=0.23355555555555557, max_depth=4, n_estimators=20; total time=   0.0s\n",
      "[CV 4/5] END learning_rate=0.23355555555555557, max_depth=4, n_estimators=20; total time=   0.0s\n",
      "[CV 5/5] END learning_rate=0.23355555555555557, max_depth=4, n_estimators=20; total time=   0.0s\n",
      "[CV 1/5] END learning_rate=0.23355555555555557, max_depth=4, n_estimators=30; total time=   0.0s\n",
      "[CV 2/5] END learning_rate=0.23355555555555557, max_depth=4, n_estimators=30; total time=   0.0s\n",
      "[CV 3/5] END learning_rate=0.23355555555555557, max_depth=4, n_estimators=30; total time=   0.0s\n",
      "[CV 4/5] END learning_rate=0.23355555555555557, max_depth=4, n_estimators=30; total time=   0.0s\n",
      "[CV 5/5] END learning_rate=0.23355555555555557, max_depth=4, n_estimators=30; total time=   0.0s\n",
      "[CV 1/5] END learning_rate=0.23355555555555557, max_depth=4, n_estimators=50; total time=   0.0s\n",
      "[CV 2/5] END learning_rate=0.23355555555555557, max_depth=4, n_estimators=50; total time=   0.0s\n",
      "[CV 3/5] END learning_rate=0.23355555555555557, max_depth=4, n_estimators=50; total time=   0.0s\n",
      "[CV 4/5] END learning_rate=0.23355555555555557, max_depth=4, n_estimators=50; total time=   0.0s\n",
      "[CV 5/5] END learning_rate=0.23355555555555557, max_depth=4, n_estimators=50; total time=   0.0s\n",
      "[CV 1/5] END learning_rate=0.23355555555555557, max_depth=4, n_estimators=100; total time=   0.0s\n",
      "[CV 2/5] END learning_rate=0.23355555555555557, max_depth=4, n_estimators=100; total time=   0.0s\n",
      "[CV 3/5] END learning_rate=0.23355555555555557, max_depth=4, n_estimators=100; total time=   0.0s\n",
      "[CV 4/5] END learning_rate=0.23355555555555557, max_depth=4, n_estimators=100; total time=   0.1s\n",
      "[CV 5/5] END learning_rate=0.23355555555555557, max_depth=4, n_estimators=100; total time=   0.0s\n",
      "[CV 1/5] END learning_rate=0.2667777777777778, max_depth=1, n_estimators=20; total time=   0.0s\n",
      "[CV 2/5] END learning_rate=0.2667777777777778, max_depth=1, n_estimators=20; total time=   0.0s\n",
      "[CV 3/5] END learning_rate=0.2667777777777778, max_depth=1, n_estimators=20; total time=   0.0s\n",
      "[CV 4/5] END learning_rate=0.2667777777777778, max_depth=1, n_estimators=20; total time=   0.0s\n",
      "[CV 5/5] END learning_rate=0.2667777777777778, max_depth=1, n_estimators=20; total time=   0.0s\n",
      "[CV 1/5] END learning_rate=0.2667777777777778, max_depth=1, n_estimators=30; total time=   0.0s\n",
      "[CV 2/5] END learning_rate=0.2667777777777778, max_depth=1, n_estimators=30; total time=   0.0s\n",
      "[CV 3/5] END learning_rate=0.2667777777777778, max_depth=1, n_estimators=30; total time=   0.0s\n",
      "[CV 4/5] END learning_rate=0.2667777777777778, max_depth=1, n_estimators=30; total time=   0.0s\n",
      "[CV 5/5] END learning_rate=0.2667777777777778, max_depth=1, n_estimators=30; total time=   0.0s\n",
      "[CV 1/5] END learning_rate=0.2667777777777778, max_depth=1, n_estimators=50; total time=   0.0s\n",
      "[CV 2/5] END learning_rate=0.2667777777777778, max_depth=1, n_estimators=50; total time=   0.0s\n",
      "[CV 3/5] END learning_rate=0.2667777777777778, max_depth=1, n_estimators=50; total time=   0.0s\n",
      "[CV 4/5] END learning_rate=0.2667777777777778, max_depth=1, n_estimators=50; total time=   0.0s\n",
      "[CV 5/5] END learning_rate=0.2667777777777778, max_depth=1, n_estimators=50; total time=   0.0s\n",
      "[CV 1/5] END learning_rate=0.2667777777777778, max_depth=1, n_estimators=100; total time=   0.1s\n",
      "[CV 2/5] END learning_rate=0.2667777777777778, max_depth=1, n_estimators=100; total time=   0.1s\n",
      "[CV 3/5] END learning_rate=0.2667777777777778, max_depth=1, n_estimators=100; total time=   0.0s\n",
      "[CV 4/5] END learning_rate=0.2667777777777778, max_depth=1, n_estimators=100; total time=   0.0s\n",
      "[CV 5/5] END learning_rate=0.2667777777777778, max_depth=1, n_estimators=100; total time=   0.0s\n",
      "[CV 1/5] END learning_rate=0.2667777777777778, max_depth=2, n_estimators=20; total time=   0.0s\n",
      "[CV 2/5] END learning_rate=0.2667777777777778, max_depth=2, n_estimators=20; total time=   0.0s\n",
      "[CV 3/5] END learning_rate=0.2667777777777778, max_depth=2, n_estimators=20; total time=   0.0s\n",
      "[CV 4/5] END learning_rate=0.2667777777777778, max_depth=2, n_estimators=20; total time=   0.0s\n",
      "[CV 5/5] END learning_rate=0.2667777777777778, max_depth=2, n_estimators=20; total time=   0.0s\n",
      "[CV 1/5] END learning_rate=0.2667777777777778, max_depth=2, n_estimators=30; total time=   0.0s\n",
      "[CV 2/5] END learning_rate=0.2667777777777778, max_depth=2, n_estimators=30; total time=   0.0s\n",
      "[CV 3/5] END learning_rate=0.2667777777777778, max_depth=2, n_estimators=30; total time=   0.0s\n",
      "[CV 4/5] END learning_rate=0.2667777777777778, max_depth=2, n_estimators=30; total time=   0.0s\n",
      "[CV 5/5] END learning_rate=0.2667777777777778, max_depth=2, n_estimators=30; total time=   0.0s\n",
      "[CV 1/5] END learning_rate=0.2667777777777778, max_depth=2, n_estimators=50; total time=   0.0s\n",
      "[CV 2/5] END learning_rate=0.2667777777777778, max_depth=2, n_estimators=50; total time=   0.0s\n",
      "[CV 3/5] END learning_rate=0.2667777777777778, max_depth=2, n_estimators=50; total time=   0.0s\n",
      "[CV 4/5] END learning_rate=0.2667777777777778, max_depth=2, n_estimators=50; total time=   0.0s\n",
      "[CV 5/5] END learning_rate=0.2667777777777778, max_depth=2, n_estimators=50; total time=   0.0s\n",
      "[CV 1/5] END learning_rate=0.2667777777777778, max_depth=2, n_estimators=100; total time=   0.0s\n",
      "[CV 2/5] END learning_rate=0.2667777777777778, max_depth=2, n_estimators=100; total time=   0.0s\n",
      "[CV 3/5] END learning_rate=0.2667777777777778, max_depth=2, n_estimators=100; total time=   0.0s\n",
      "[CV 4/5] END learning_rate=0.2667777777777778, max_depth=2, n_estimators=100; total time=   0.0s\n",
      "[CV 5/5] END learning_rate=0.2667777777777778, max_depth=2, n_estimators=100; total time=   0.0s\n",
      "[CV 1/5] END learning_rate=0.2667777777777778, max_depth=3, n_estimators=20; total time=   0.0s\n",
      "[CV 2/5] END learning_rate=0.2667777777777778, max_depth=3, n_estimators=20; total time=   0.0s\n",
      "[CV 3/5] END learning_rate=0.2667777777777778, max_depth=3, n_estimators=20; total time=   0.0s\n",
      "[CV 4/5] END learning_rate=0.2667777777777778, max_depth=3, n_estimators=20; total time=   0.0s\n",
      "[CV 5/5] END learning_rate=0.2667777777777778, max_depth=3, n_estimators=20; total time=   0.0s\n",
      "[CV 1/5] END learning_rate=0.2667777777777778, max_depth=3, n_estimators=30; total time=   0.0s\n",
      "[CV 2/5] END learning_rate=0.2667777777777778, max_depth=3, n_estimators=30; total time=   0.0s\n",
      "[CV 3/5] END learning_rate=0.2667777777777778, max_depth=3, n_estimators=30; total time=   0.0s\n",
      "[CV 4/5] END learning_rate=0.2667777777777778, max_depth=3, n_estimators=30; total time=   0.0s\n",
      "[CV 5/5] END learning_rate=0.2667777777777778, max_depth=3, n_estimators=30; total time=   0.0s\n",
      "[CV 1/5] END learning_rate=0.2667777777777778, max_depth=3, n_estimators=50; total time=   0.0s\n",
      "[CV 2/5] END learning_rate=0.2667777777777778, max_depth=3, n_estimators=50; total time=   0.0s\n",
      "[CV 3/5] END learning_rate=0.2667777777777778, max_depth=3, n_estimators=50; total time=   0.0s\n",
      "[CV 4/5] END learning_rate=0.2667777777777778, max_depth=3, n_estimators=50; total time=   0.0s\n",
      "[CV 5/5] END learning_rate=0.2667777777777778, max_depth=3, n_estimators=50; total time=   0.0s\n",
      "[CV 1/5] END learning_rate=0.2667777777777778, max_depth=3, n_estimators=100; total time=   0.1s\n",
      "[CV 2/5] END learning_rate=0.2667777777777778, max_depth=3, n_estimators=100; total time=   0.0s\n",
      "[CV 3/5] END learning_rate=0.2667777777777778, max_depth=3, n_estimators=100; total time=   0.0s\n",
      "[CV 4/5] END learning_rate=0.2667777777777778, max_depth=3, n_estimators=100; total time=   0.0s\n",
      "[CV 5/5] END learning_rate=0.2667777777777778, max_depth=3, n_estimators=100; total time=   0.0s\n",
      "[CV 1/5] END learning_rate=0.2667777777777778, max_depth=4, n_estimators=20; total time=   0.0s\n",
      "[CV 2/5] END learning_rate=0.2667777777777778, max_depth=4, n_estimators=20; total time=   0.0s\n",
      "[CV 3/5] END learning_rate=0.2667777777777778, max_depth=4, n_estimators=20; total time=   0.0s\n",
      "[CV 4/5] END learning_rate=0.2667777777777778, max_depth=4, n_estimators=20; total time=   0.0s\n",
      "[CV 5/5] END learning_rate=0.2667777777777778, max_depth=4, n_estimators=20; total time=   0.0s\n",
      "[CV 1/5] END learning_rate=0.2667777777777778, max_depth=4, n_estimators=30; total time=   0.0s\n",
      "[CV 2/5] END learning_rate=0.2667777777777778, max_depth=4, n_estimators=30; total time=   0.0s\n",
      "[CV 3/5] END learning_rate=0.2667777777777778, max_depth=4, n_estimators=30; total time=   0.0s\n",
      "[CV 4/5] END learning_rate=0.2667777777777778, max_depth=4, n_estimators=30; total time=   0.0s\n",
      "[CV 5/5] END learning_rate=0.2667777777777778, max_depth=4, n_estimators=30; total time=   0.0s\n",
      "[CV 1/5] END learning_rate=0.2667777777777778, max_depth=4, n_estimators=50; total time=   0.0s\n",
      "[CV 2/5] END learning_rate=0.2667777777777778, max_depth=4, n_estimators=50; total time=   0.0s\n",
      "[CV 3/5] END learning_rate=0.2667777777777778, max_depth=4, n_estimators=50; total time=   0.0s\n",
      "[CV 4/5] END learning_rate=0.2667777777777778, max_depth=4, n_estimators=50; total time=   0.0s\n",
      "[CV 5/5] END learning_rate=0.2667777777777778, max_depth=4, n_estimators=50; total time=   0.0s\n",
      "[CV 1/5] END learning_rate=0.2667777777777778, max_depth=4, n_estimators=100; total time=   0.0s\n",
      "[CV 2/5] END learning_rate=0.2667777777777778, max_depth=4, n_estimators=100; total time=   0.1s\n",
      "[CV 3/5] END learning_rate=0.2667777777777778, max_depth=4, n_estimators=100; total time=   0.1s\n",
      "[CV 4/5] END learning_rate=0.2667777777777778, max_depth=4, n_estimators=100; total time=   0.0s\n",
      "[CV 5/5] END learning_rate=0.2667777777777778, max_depth=4, n_estimators=100; total time=   0.0s\n",
      "[CV 1/5] END learning_rate=0.3, max_depth=1, n_estimators=20; total time=   0.0s\n",
      "[CV 2/5] END learning_rate=0.3, max_depth=1, n_estimators=20; total time=   0.0s\n",
      "[CV 3/5] END learning_rate=0.3, max_depth=1, n_estimators=20; total time=   0.0s\n",
      "[CV 4/5] END learning_rate=0.3, max_depth=1, n_estimators=20; total time=   0.0s\n",
      "[CV 5/5] END learning_rate=0.3, max_depth=1, n_estimators=20; total time=   0.0s\n",
      "[CV 1/5] END learning_rate=0.3, max_depth=1, n_estimators=30; total time=   0.0s\n",
      "[CV 2/5] END learning_rate=0.3, max_depth=1, n_estimators=30; total time=   0.0s\n",
      "[CV 3/5] END learning_rate=0.3, max_depth=1, n_estimators=30; total time=   0.0s\n",
      "[CV 4/5] END learning_rate=0.3, max_depth=1, n_estimators=30; total time=   0.0s\n",
      "[CV 5/5] END learning_rate=0.3, max_depth=1, n_estimators=30; total time=   0.0s\n",
      "[CV 1/5] END learning_rate=0.3, max_depth=1, n_estimators=50; total time=   0.0s\n",
      "[CV 2/5] END learning_rate=0.3, max_depth=1, n_estimators=50; total time=   0.0s\n",
      "[CV 3/5] END learning_rate=0.3, max_depth=1, n_estimators=50; total time=   0.0s\n",
      "[CV 4/5] END learning_rate=0.3, max_depth=1, n_estimators=50; total time=   0.0s\n",
      "[CV 5/5] END learning_rate=0.3, max_depth=1, n_estimators=50; total time=   0.0s\n",
      "[CV 1/5] END learning_rate=0.3, max_depth=1, n_estimators=100; total time=   0.0s\n",
      "[CV 2/5] END learning_rate=0.3, max_depth=1, n_estimators=100; total time=   0.0s\n",
      "[CV 3/5] END learning_rate=0.3, max_depth=1, n_estimators=100; total time=   0.0s\n",
      "[CV 4/5] END learning_rate=0.3, max_depth=1, n_estimators=100; total time=   0.0s\n",
      "[CV 5/5] END learning_rate=0.3, max_depth=1, n_estimators=100; total time=   0.0s\n",
      "[CV 1/5] END learning_rate=0.3, max_depth=2, n_estimators=20; total time=   0.0s\n",
      "[CV 2/5] END learning_rate=0.3, max_depth=2, n_estimators=20; total time=   0.0s\n",
      "[CV 3/5] END learning_rate=0.3, max_depth=2, n_estimators=20; total time=   0.0s\n",
      "[CV 4/5] END learning_rate=0.3, max_depth=2, n_estimators=20; total time=   0.0s\n",
      "[CV 5/5] END learning_rate=0.3, max_depth=2, n_estimators=20; total time=   0.0s\n",
      "[CV 1/5] END learning_rate=0.3, max_depth=2, n_estimators=30; total time=   0.0s\n",
      "[CV 2/5] END learning_rate=0.3, max_depth=2, n_estimators=30; total time=   0.0s\n",
      "[CV 3/5] END learning_rate=0.3, max_depth=2, n_estimators=30; total time=   0.0s\n",
      "[CV 4/5] END learning_rate=0.3, max_depth=2, n_estimators=30; total time=   0.0s\n",
      "[CV 5/5] END learning_rate=0.3, max_depth=2, n_estimators=30; total time=   0.0s\n",
      "[CV 1/5] END learning_rate=0.3, max_depth=2, n_estimators=50; total time=   0.0s\n",
      "[CV 2/5] END learning_rate=0.3, max_depth=2, n_estimators=50; total time=   0.0s\n",
      "[CV 3/5] END learning_rate=0.3, max_depth=2, n_estimators=50; total time=   0.0s\n",
      "[CV 4/5] END learning_rate=0.3, max_depth=2, n_estimators=50; total time=   0.0s\n",
      "[CV 5/5] END learning_rate=0.3, max_depth=2, n_estimators=50; total time=   0.0s\n",
      "[CV 1/5] END learning_rate=0.3, max_depth=2, n_estimators=100; total time=   0.0s\n",
      "[CV 2/5] END learning_rate=0.3, max_depth=2, n_estimators=100; total time=   0.0s\n",
      "[CV 3/5] END learning_rate=0.3, max_depth=2, n_estimators=100; total time=   0.0s\n",
      "[CV 4/5] END learning_rate=0.3, max_depth=2, n_estimators=100; total time=   0.0s\n",
      "[CV 5/5] END learning_rate=0.3, max_depth=2, n_estimators=100; total time=   0.0s\n",
      "[CV 1/5] END learning_rate=0.3, max_depth=3, n_estimators=20; total time=   0.0s\n",
      "[CV 2/5] END learning_rate=0.3, max_depth=3, n_estimators=20; total time=   0.0s\n",
      "[CV 3/5] END learning_rate=0.3, max_depth=3, n_estimators=20; total time=   0.0s\n",
      "[CV 4/5] END learning_rate=0.3, max_depth=3, n_estimators=20; total time=   0.0s\n",
      "[CV 5/5] END learning_rate=0.3, max_depth=3, n_estimators=20; total time=   0.0s\n",
      "[CV 1/5] END learning_rate=0.3, max_depth=3, n_estimators=30; total time=   0.0s\n",
      "[CV 2/5] END learning_rate=0.3, max_depth=3, n_estimators=30; total time=   0.0s\n",
      "[CV 3/5] END learning_rate=0.3, max_depth=3, n_estimators=30; total time=   0.0s\n",
      "[CV 4/5] END learning_rate=0.3, max_depth=3, n_estimators=30; total time=   0.0s\n",
      "[CV 5/5] END learning_rate=0.3, max_depth=3, n_estimators=30; total time=   0.0s\n",
      "[CV 1/5] END learning_rate=0.3, max_depth=3, n_estimators=50; total time=   0.0s\n",
      "[CV 2/5] END learning_rate=0.3, max_depth=3, n_estimators=50; total time=   0.0s\n",
      "[CV 3/5] END learning_rate=0.3, max_depth=3, n_estimators=50; total time=   0.0s\n",
      "[CV 4/5] END learning_rate=0.3, max_depth=3, n_estimators=50; total time=   0.0s\n",
      "[CV 5/5] END learning_rate=0.3, max_depth=3, n_estimators=50; total time=   0.0s\n",
      "[CV 1/5] END learning_rate=0.3, max_depth=3, n_estimators=100; total time=   0.0s\n",
      "[CV 2/5] END learning_rate=0.3, max_depth=3, n_estimators=100; total time=   0.0s\n",
      "[CV 3/5] END learning_rate=0.3, max_depth=3, n_estimators=100; total time=   0.0s\n",
      "[CV 4/5] END learning_rate=0.3, max_depth=3, n_estimators=100; total time=   0.0s\n",
      "[CV 5/5] END learning_rate=0.3, max_depth=3, n_estimators=100; total time=   0.0s\n",
      "[CV 1/5] END learning_rate=0.3, max_depth=4, n_estimators=20; total time=   0.0s\n",
      "[CV 2/5] END learning_rate=0.3, max_depth=4, n_estimators=20; total time=   0.0s\n",
      "[CV 3/5] END learning_rate=0.3, max_depth=4, n_estimators=20; total time=   0.0s\n",
      "[CV 4/5] END learning_rate=0.3, max_depth=4, n_estimators=20; total time=   0.0s\n",
      "[CV 5/5] END learning_rate=0.3, max_depth=4, n_estimators=20; total time=   0.0s\n",
      "[CV 1/5] END learning_rate=0.3, max_depth=4, n_estimators=30; total time=   0.0s\n",
      "[CV 2/5] END learning_rate=0.3, max_depth=4, n_estimators=30; total time=   0.0s\n",
      "[CV 3/5] END learning_rate=0.3, max_depth=4, n_estimators=30; total time=   0.0s\n",
      "[CV 4/5] END learning_rate=0.3, max_depth=4, n_estimators=30; total time=   0.0s\n",
      "[CV 5/5] END learning_rate=0.3, max_depth=4, n_estimators=30; total time=   0.0s\n",
      "[CV 1/5] END learning_rate=0.3, max_depth=4, n_estimators=50; total time=   0.0s\n",
      "[CV 2/5] END learning_rate=0.3, max_depth=4, n_estimators=50; total time=   0.0s\n",
      "[CV 3/5] END learning_rate=0.3, max_depth=4, n_estimators=50; total time=   0.0s\n",
      "[CV 4/5] END learning_rate=0.3, max_depth=4, n_estimators=50; total time=   0.0s\n",
      "[CV 5/5] END learning_rate=0.3, max_depth=4, n_estimators=50; total time=   0.0s\n",
      "[CV 1/5] END learning_rate=0.3, max_depth=4, n_estimators=100; total time=   0.1s\n",
      "[CV 2/5] END learning_rate=0.3, max_depth=4, n_estimators=100; total time=   0.1s\n",
      "[CV 3/5] END learning_rate=0.3, max_depth=4, n_estimators=100; total time=   0.1s\n",
      "[CV 4/5] END learning_rate=0.3, max_depth=4, n_estimators=100; total time=   0.1s\n",
      "[CV 5/5] END learning_rate=0.3, max_depth=4, n_estimators=100; total time=   0.1s\n"
     ]
    },
    {
     "data": {
      "text/plain": [
       "GridSearchCV(cv=5,\n",
       "             estimator=XGBClassifier(base_score=None, booster=None,\n",
       "                                     callbacks=None, colsample_bylevel=None,\n",
       "                                     colsample_bynode=None,\n",
       "                                     colsample_bytree=None,\n",
       "                                     early_stopping_rounds=None,\n",
       "                                     enable_categorical=False, eval_metric=None,\n",
       "                                     gamma=None, gpu_id=None, grow_policy=None,\n",
       "                                     importance_type=None,\n",
       "                                     interaction_constraints=None,\n",
       "                                     learning_rate=None, max_bin=None,\n",
       "                                     max_ca...\n",
       "                                     missing=nan, monotone_constraints=None,\n",
       "                                     n_estimators=100, n_jobs=None,\n",
       "                                     num_parallel_tree=None, predictor=None,\n",
       "                                     random_state=None, reg_alpha=None,\n",
       "                                     reg_lambda=None, ...),\n",
       "             param_grid={'learning_rate': array([0.001     , 0.03422222, 0.06744444, 0.10066667, 0.13388889,\n",
       "       0.16711111, 0.20033333, 0.23355556, 0.26677778, 0.3       ]),\n",
       "                         'max_depth': range(1, 5),\n",
       "                         'n_estimators': [20, 30, 50, 100]},\n",
       "             verbose=3)"
      ]
     },
     "execution_count": 211,
     "metadata": {},
     "output_type": "execute_result"
    }
   ],
   "source": [
    "params4 = {'learning_rate':np.linspace(0.001,0.3,10),'n_estimators':[20,30,50,100], 'max_depth':range(1,5)}\n",
    "m4 = XGBClassifier()\n",
    "m4_gs = GridSearchCV(m4, params4, cv=5, verbose=3)\n",
    "m4_gs.fit(x_train,y_train)"
   ]
  },
  {
   "cell_type": "code",
   "execution_count": 213,
   "metadata": {
    "tags": []
   },
   "outputs": [],
   "source": [
    "p4 = m4_gs.predict(x_test)"
   ]
  },
  {
   "cell_type": "code",
   "execution_count": 214,
   "metadata": {},
   "outputs": [
    {
     "name": "stdout",
     "output_type": "stream",
     "text": [
      "0.9496108152396558\n"
     ]
    }
   ],
   "source": [
    "print(accuracy_score(y_test,p4))"
   ]
  },
  {
   "cell_type": "code",
   "execution_count": 215,
   "metadata": {},
   "outputs": [],
   "source": [
    "p4 = pd.DataFrame(p4)"
   ]
  },
  {
   "cell_type": "code",
   "execution_count": 222,
   "metadata": {},
   "outputs": [],
   "source": [
    "p4[0] = p4[0].replace({0: 1, 1:-1})"
   ]
  },
  {
   "cell_type": "code",
   "execution_count": 223,
   "metadata": {},
   "outputs": [
    {
     "data": {
      "text/html": [
       "<div>\n",
       "<style scoped>\n",
       "    .dataframe tbody tr th:only-of-type {\n",
       "        vertical-align: middle;\n",
       "    }\n",
       "\n",
       "    .dataframe tbody tr th {\n",
       "        vertical-align: top;\n",
       "    }\n",
       "\n",
       "    .dataframe thead th {\n",
       "        text-align: right;\n",
       "    }\n",
       "</style>\n",
       "<table border=\"1\" class=\"dataframe\">\n",
       "  <thead>\n",
       "    <tr style=\"text-align: right;\">\n",
       "      <th></th>\n",
       "      <th>0</th>\n",
       "    </tr>\n",
       "  </thead>\n",
       "  <tbody>\n",
       "    <tr>\n",
       "      <th>2436</th>\n",
       "      <td>-1</td>\n",
       "    </tr>\n",
       "    <tr>\n",
       "      <th>2437</th>\n",
       "      <td>1</td>\n",
       "    </tr>\n",
       "    <tr>\n",
       "      <th>2438</th>\n",
       "      <td>-1</td>\n",
       "    </tr>\n",
       "    <tr>\n",
       "      <th>2439</th>\n",
       "      <td>-1</td>\n",
       "    </tr>\n",
       "    <tr>\n",
       "      <th>2440</th>\n",
       "      <td>1</td>\n",
       "    </tr>\n",
       "  </tbody>\n",
       "</table>\n",
       "</div>"
      ],
      "text/plain": [
       "      0\n",
       "2436 -1\n",
       "2437  1\n",
       "2438 -1\n",
       "2439 -1\n",
       "2440  1"
      ]
     },
     "execution_count": 223,
     "metadata": {},
     "output_type": "execute_result"
    }
   ],
   "source": [
    "p4.tail()"
   ]
  },
  {
   "cell_type": "code",
   "execution_count": 224,
   "metadata": {},
   "outputs": [],
   "source": [
    "p4.to_csv('p4.csv')"
   ]
  },
  {
   "cell_type": "code",
   "execution_count": null,
   "metadata": {},
   "outputs": [],
   "source": [
    "confusion = confusion_matrix(y_test, p4)\n",
    "fig, ax = plt.subplots(figsize=(10,3))\n",
    "plot_confusion_matrix(ax, confusion, fontsize=30)"
   ]
  },
  {
   "cell_type": "code",
   "execution_count": null,
   "metadata": {
    "tags": []
   },
   "outputs": [],
   "source": [
    "def plot_feature_importance(importance, names):\n",
    "    feature_importance = np.array(importance)\n",
    "    feature_names = np.array(names)\n",
    "\n",
    "    data={'feature_names':feature_names,'feature_importance':feature_importance}\n",
    "    fi_df = pd.DataFrame(data)\n",
    "\n",
    "    fi_df.sort_values(by=['feature_importance'], ascending=False,inplace=True)\n",
    "    fi_df.reset_index(drop=True, inplace = True)\n",
    "\n",
    "    plt.figure(figsize=(10,8))\n",
    "    sns.barplot(x='feature_importance', y='feature_names', data = fi_df)\n",
    "\n",
    "    plt.xlabel('FEATURE IMPORTANCE')\n",
    "    plt.ylabel('FEATURE NAMES')\n",
    "    plt.grid()\n",
    "\n",
    "    return fi_df"
   ]
  },
  {
   "cell_type": "code",
   "execution_count": null,
   "metadata": {
    "tags": []
   },
   "outputs": [],
   "source": [
    "m11 = XGBClassifier()\n",
    "m11.fit(x_train, y_train)"
   ]
  },
  {
   "cell_type": "code",
   "execution_count": null,
   "metadata": {},
   "outputs": [],
   "source": [
    "result = plot_feature_importance(m11.feature_importances_, x_train.columns)"
   ]
  },
  {
   "cell_type": "markdown",
   "metadata": {},
   "source": [
    "## dfa/ALL"
   ]
  },
  {
   "cell_type": "code",
   "execution_count": null,
   "metadata": {
    "tags": []
   },
   "outputs": [],
   "source": [
    "par1 = {'n_neighbors': range(10,50,10), 'metric' : ['euclidean', 'manhattan']}\n",
    "ma1 = KNeighborsClassifier()\n",
    "ma1_gs= GridSearchCV(ma1, par1, cv=5)\n",
    "ma1_gs.fit(x_train_s, y_train)\n",
    "pa1 = ma1_gs.predict(x_test_s)"
   ]
  },
  {
   "cell_type": "code",
   "execution_count": null,
   "metadata": {
    "tags": []
   },
   "outputs": [],
   "source": [
    "print(accuracy_score(y_test,pa1))"
   ]
  },
  {
   "cell_type": "code",
   "execution_count": null,
   "metadata": {
    "tags": []
   },
   "outputs": [],
   "source": [
    "confusion = confusion_matrix(y_test, pa1)\n",
    "fig, ax = plt.subplots(figsize=(10,3))\n",
    "plot_confusion_matrix(ax, confusion, fontsize=30)"
   ]
  },
  {
   "cell_type": "code",
   "execution_count": null,
   "metadata": {
    "tags": []
   },
   "outputs": [],
   "source": [
    "par2 = {'max_depth': [3], 'min_samples_leaf':range(10,101,10),}\n",
    "ma2 = DecisionTreeClassifier()\n",
    "ma2_gs = GridSearchCV(ma2, par2, cv=5, verbose=3)\n",
    "ma2_gs.fit(x_train, y_train)\n",
    "pa2 = ma2_gs.predict(y_test)"
   ]
  },
  {
   "cell_type": "code",
   "execution_count": null,
   "metadata": {
    "tags": []
   },
   "outputs": [],
   "source": [
    "print(accuracy_score(y_test, pa2))"
   ]
  },
  {
   "cell_type": "code",
   "execution_count": null,
   "metadata": {
    "tags": []
   },
   "outputs": [],
   "source": [
    "confusion = confusion_matrix(y_test, pa2)\n",
    "fig, ax = plt.subplots(figsize=(10,3))\n",
    "plot_confusion_matrix(ax, confusion, fontsize=30)"
   ]
  },
  {
   "cell_type": "code",
   "execution_count": null,
   "metadata": {
    "tags": []
   },
   "outputs": [],
   "source": [
    "par3 = {'learning_rate':np.linspace(0.001,0.3,30),'n_estimators':[20,30,50,100]}\n",
    "ma3 = XGBClassifier()\n",
    "ma3_gs = GridSearchCV(ma3, par3, cv=5, verbose=3)\n",
    "ma3_gs.fit(x_train,y_train)\n",
    "pa3 = ma3_gs.predict(x_test)"
   ]
  },
  {
   "cell_type": "code",
   "execution_count": null,
   "metadata": {
    "tags": []
   },
   "outputs": [],
   "source": [
    "print(accuracy_score(y_test,pa3))"
   ]
  },
  {
   "cell_type": "code",
   "execution_count": null,
   "metadata": {
    "tags": []
   },
   "outputs": [],
   "source": [
    "confusion = confusion_matrix(y_test, pa3)\n",
    "fig, ax = plt.subplots(figsize=(10,3))\n",
    "plot_confusion_matrix(ax, confusion, fontsize=30)"
   ]
  },
  {
   "cell_type": "code",
   "execution_count": null,
   "metadata": {
    "tags": []
   },
   "outputs": [],
   "source": [
    "m12 = XGBClassifier()\n",
    "m12.fit(x_train, y_train)"
   ]
  },
  {
   "cell_type": "code",
   "execution_count": null,
   "metadata": {
    "tags": []
   },
   "outputs": [],
   "source": [
    "result = plot_feature_importance(m12.feature_importances_, x_train.columns)"
   ]
  },
  {
   "cell_type": "code",
   "execution_count": null,
   "metadata": {},
   "outputs": [],
   "source": [
    "# 3. faccuracy_score(), 학습\n"
   ]
  },
  {
   "cell_type": "code",
   "execution_count": null,
   "metadata": {},
   "outputs": [],
   "source": [
    "# 4. predict(), 예측\n"
   ]
  },
  {
   "cell_type": "code",
   "execution_count": null,
   "metadata": {},
   "outputs": [],
   "source": [
    "# train 및 val 데이터 정확도 확인 \n"
   ]
  },
  {
   "cell_type": "code",
   "execution_count": null,
   "metadata": {},
   "outputs": [],
   "source": [
    "# Test 데이터 결과 Confusion Matrix 확인\n"
   ]
  },
  {
   "cell_type": "code",
   "execution_count": null,
   "metadata": {},
   "outputs": [],
   "source": [
    "# Feature(특징)별 가중치 확인\n"
   ]
  },
  {
   "cell_type": "code",
   "execution_count": null,
   "metadata": {},
   "outputs": [],
   "source": [
    "m1 = pd.DataFrame(pa1)"
   ]
  },
  {
   "cell_type": "code",
   "execution_count": null,
   "metadata": {},
   "outputs": [],
   "source": [
    "m1.tail()"
   ]
  },
  {
   "cell_type": "code",
   "execution_count": null,
   "metadata": {},
   "outputs": [],
   "source": []
  },
  {
   "cell_type": "code",
   "execution_count": null,
   "metadata": {},
   "outputs": [],
   "source": [
    "m2 = pd.DataFrame(p2)"
   ]
  },
  {
   "cell_type": "code",
   "execution_count": null,
   "metadata": {},
   "outputs": [],
   "source": [
    "m2.tail()"
   ]
  },
  {
   "cell_type": "code",
   "execution_count": null,
   "metadata": {},
   "outputs": [],
   "source": [
    "m3 = pd.DataFrame(p4)"
   ]
  },
  {
   "cell_type": "code",
   "execution_count": null,
   "metadata": {},
   "outputs": [],
   "source": [
    "m3.tail()"
   ]
  },
  {
   "cell_type": "code",
   "execution_count": null,
   "metadata": {},
   "outputs": [],
   "source": [
    "print(f1_score(y_test,p1))\n",
    "print(f1_score(y_test,p2))\n",
    "print(f1_score(y_test,p3))"
   ]
  },
  {
   "cell_type": "code",
   "execution_count": null,
   "metadata": {},
   "outputs": [],
   "source": [
    "m1.to_csv('m1.csv')"
   ]
  },
  {
   "cell_type": "code",
   "execution_count": null,
   "metadata": {},
   "outputs": [],
   "source": [
    "m2.to_csv('m2.csv')"
   ]
  },
  {
   "cell_type": "code",
   "execution_count": null,
   "metadata": {},
   "outputs": [],
   "source": [
    "m1.to_csv('m11.csv')"
   ]
  },
  {
   "cell_type": "code",
   "execution_count": null,
   "metadata": {},
   "outputs": [],
   "source": []
  },
  {
   "cell_type": "code",
   "execution_count": null,
   "metadata": {
    "tags": []
   },
   "outputs": [],
   "source": [
    "p1 = pd.DataFrame(m4_gs.predict(x_test))"
   ]
  }
 ],
 "metadata": {
  "kernelspec": {
   "display_name": "Python 3",
   "language": "python",
   "name": "python3"
  },
  "language_info": {
   "codemirror_mode": {
    "name": "ipython",
    "version": 3
   },
   "file_extension": ".py",
   "mimetype": "text/x-python",
   "name": "python",
   "nbconvert_exporter": "python",
   "pygments_lexer": "ipython3",
   "version": "3.8.8"
  },
  "vscode": {
   "interpreter": {
    "hash": "f08154012ddadd8e950e6e9e035c7a7b32c136e7647e9b7c77e02eb723a8bedb"
   }
  }
 },
 "nbformat": 4,
 "nbformat_minor": 4
}
