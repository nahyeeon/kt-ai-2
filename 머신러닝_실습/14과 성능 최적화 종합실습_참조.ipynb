{
 "cells": [
  {
   "cell_type": "markdown",
   "metadata": {
    "id": "cVB9pY-v8uv5"
   },
   "source": [
    "# 성능 최적화 종합실습 : Car seat sales\n",
    "유아용 카시트 매출액을 예측해 봅시다."
   ]
  },
  {
   "cell_type": "markdown",
   "metadata": {
    "id": "QB2bBgnB8NM7"
   },
   "source": [
    "* 카시트에 대해서 지역 매장 별 매출액을 예측하고자 합니다."
   ]
  },
  {
   "cell_type": "markdown",
   "metadata": {
    "id": "7usNzsAVsGbi"
   },
   "source": [
    "![](https://cdn.images.express.co.uk/img/dynamic/24/590x/child-car-seat-986556.jpg?r=1532946857754)"
   ]
  },
  {
   "cell_type": "markdown",
   "metadata": {
    "id": "jnCv9u_Wy9e1"
   },
   "source": [
    "## 1.환경준비"
   ]
  },
  {
   "cell_type": "markdown",
   "metadata": {
    "id": "O1uL0UIEzBPw"
   },
   "source": [
    "### (1) Import"
   ]
  },
  {
   "cell_type": "code",
   "execution_count": 6,
   "metadata": {
    "id": "GVvCef6A8uv6"
   },
   "outputs": [],
   "source": [
    "#라이브러리들을 불러오자.\n",
    "import numpy as np\n",
    "import pandas as pd\n",
    "import matplotlib.pyplot as plt\n",
    "import seaborn as sns\n",
    "\n",
    "# 전처리\n",
    "from sklearn.model_selection import train_test_split\n",
    "from sklearn.preprocessing import MinMaxScaler\n",
    "\n",
    "# 모델링\n",
    "from sklearn.linear_model import LinearRegression\n",
    "from sklearn.tree import DecisionTreeRegressor, plot_tree\n",
    "from sklearn.neighbors import KNeighborsRegressor\n",
    "from sklearn.svm import SVR\n",
    "from sklearn.ensemble import RandomForestRegressor\n",
    "from xgboost import XGBRegressor\n",
    "from sklearn.metrics import * \n",
    "\n",
    "from sklearn.model_selection import GridSearchCV, RandomizedSearchCV\n",
    "\n",
    "import warnings\n",
    "warnings.filterwarnings(action='ignore')"
   ]
  },
  {
   "cell_type": "markdown",
   "metadata": {
    "id": "tbF-PXYPNsLH"
   },
   "source": [
    "### (2) 함수 생성"
   ]
  },
  {
   "cell_type": "markdown",
   "metadata": {
    "id": "lvfEuLRcORwq"
   },
   "source": [
    "* 선형회귀용 전진선택법"
   ]
  },
  {
   "cell_type": "code",
   "execution_count": 2,
   "metadata": {
    "id": "5dDT4VdvODZL"
   },
   "outputs": [],
   "source": [
    "from statsmodels.regression.linear_model import OLS\n",
    "from statsmodels.tools import add_constant\n",
    "\n",
    "def forward_stepwise_linear(x_train, y_train):\n",
    "\n",
    "    # 변수목록, 선택된 변수 목록, 단계별 모델과 AIC 저장소 정의\n",
    "    features = list(x_train)\n",
    "    selected = []\n",
    "    step_df = pd.DataFrame({ 'step':[], 'feature':[],'aic':[]})\n",
    "\n",
    "    # \n",
    "    for s in range(0, len(features)) :\n",
    "        result =  { 'step':[], 'feature':[],'aic':[]}\n",
    "\n",
    "        # 변수 목록에서 변수 한개씩 뽑아서 모델에 추가\n",
    "        for f in features :\n",
    "            vars = selected + [f]\n",
    "            x_tr = x_train[vars]\n",
    "            model = OLS(y_train, add_constant(x_tr)).fit(disp=False)\n",
    "            result['step'].append(s+1)\n",
    "            result['feature'].append(vars)\n",
    "            result['aic'].append(model.aic)\n",
    "        \n",
    "        # 모델별 aic 집계\n",
    "        temp = pd.DataFrame(result).sort_values('aic').reset_index(drop = True)\n",
    "\n",
    "        # 만약 이전 aic보다 새로운 aic 가 크다면 멈추기\n",
    "        if step_df['aic'].min() < temp['aic'].min() :\n",
    "            break\n",
    "        step_df = pd.concat([step_df, temp], axis = 0).reset_index(drop = True)\n",
    "\n",
    "        # 선택된 변수 제거\n",
    "        v = temp.loc[0,'feature'][s]\n",
    "        features.remove(v)\n",
    "\n",
    "        selected.append(v)\n",
    "    \n",
    "    # 선택된 변수와 step_df 결과 반환\n",
    "    return selected, step_df"
   ]
  },
  {
   "cell_type": "markdown",
   "metadata": {
    "id": "K6E7oZ3jOYMP"
   },
   "source": [
    "* 변수 중요도 그래프"
   ]
  },
  {
   "cell_type": "code",
   "execution_count": 3,
   "metadata": {
    "id": "HP-O8kwyObYQ"
   },
   "outputs": [],
   "source": [
    "def plot_feature_importance(importance, names):\n",
    "    feature_importance = np.array(importance)\n",
    "    feature_names = np.array(names)\n",
    "\n",
    "    data={'feature_names':feature_names,'feature_importance':feature_importance}\n",
    "    fi_df = pd.DataFrame(data)\n",
    "\n",
    "    fi_df.sort_values(by=['feature_importance'], ascending=False,inplace=True)\n",
    "    fi_df.reset_index(drop=True, inplace = True)\n",
    "\n",
    "    plt.figure(figsize=(10,8))\n",
    "    sns.barplot(x='feature_importance', y='feature_names', data = fi_df)\n",
    "\n",
    "    plt.xlabel('FEATURE IMPORTANCE')\n",
    "    plt.ylabel('FEATURE NAMES')\n",
    "    plt.grid()\n",
    "\n",
    "    return fi_df"
   ]
  },
  {
   "cell_type": "markdown",
   "metadata": {
    "id": "VHy5s1OOzItm"
   },
   "source": [
    "### (3) Data Loading"
   ]
  },
  {
   "cell_type": "code",
   "execution_count": 4,
   "metadata": {
    "id": "3GgFpOB4zQ7h"
   },
   "outputs": [],
   "source": [
    "data_path = 'https://raw.githubusercontent.com/DA4BAM/dataset/master/Carseats.csv'\n",
    "data = pd.read_csv(data_path)"
   ]
  },
  {
   "cell_type": "markdown",
   "metadata": {
    "id": "xMx9y0a0MBZ2"
   },
   "source": [
    "**변수설명**\n",
    "> * Sales - 각 지역 판매량(단위 : 1000개) <== Target\n",
    "* CompPrice - 각 지역 경쟁사 가격\n",
    "* Income - 각 지역 평균 소득수준(단위 : 1000달러)\n",
    "* Advertising - 각 지역, 회사의 광고 예산(단위 : 1000달러)\n",
    "* Population - 지역 인구수(단위 : 1000명)\n",
    "* Price - 자사 지역별 판매가격\n",
    "* ShelveLoc - 진열상태\n",
    "* Age - 지역 인구의 평균 연령\n",
    "* Education - 각 지역 교육수준 레벨\n",
    "* Urban - 매장 도시 지역 여부\n",
    "* US - 매장이 미국에 있는지 여부"
   ]
  },
  {
   "cell_type": "markdown",
   "metadata": {
    "id": "2IryAx_7NpPZ"
   },
   "source": []
  },
  {
   "cell_type": "markdown",
   "metadata": {
    "id": "ZJOddHq2zfcU"
   },
   "source": [
    "## 2.데이터 이해"
   ]
  },
  {
   "cell_type": "markdown",
   "metadata": {
    "id": "Vqr7zY5r8uwC"
   },
   "source": [
    "* 둘러보기"
   ]
  },
  {
   "cell_type": "code",
   "execution_count": 5,
   "metadata": {
    "colab": {
     "base_uri": "https://localhost:8080/",
     "height": 206
    },
    "executionInfo": {
     "elapsed": 619,
     "status": "ok",
     "timestamp": 1659790554315,
     "user": {
      "displayName": "한기영",
      "userId": "13049187003176135487"
     },
     "user_tz": -540
    },
    "id": "E64acu1xPqLU",
    "outputId": "c94f967a-6e7c-4809-dff3-6544edc3b5db"
   },
   "outputs": [
    {
     "data": {
      "text/html": [
       "<div>\n",
       "<style scoped>\n",
       "    .dataframe tbody tr th:only-of-type {\n",
       "        vertical-align: middle;\n",
       "    }\n",
       "\n",
       "    .dataframe tbody tr th {\n",
       "        vertical-align: top;\n",
       "    }\n",
       "\n",
       "    .dataframe thead th {\n",
       "        text-align: right;\n",
       "    }\n",
       "</style>\n",
       "<table border=\"1\" class=\"dataframe\">\n",
       "  <thead>\n",
       "    <tr style=\"text-align: right;\">\n",
       "      <th></th>\n",
       "      <th>Sales</th>\n",
       "      <th>CompPrice</th>\n",
       "      <th>Income</th>\n",
       "      <th>Advertising</th>\n",
       "      <th>Population</th>\n",
       "      <th>Price</th>\n",
       "      <th>ShelveLoc</th>\n",
       "      <th>Age</th>\n",
       "      <th>Education</th>\n",
       "      <th>Urban</th>\n",
       "      <th>US</th>\n",
       "    </tr>\n",
       "  </thead>\n",
       "  <tbody>\n",
       "    <tr>\n",
       "      <th>0</th>\n",
       "      <td>9.50</td>\n",
       "      <td>138</td>\n",
       "      <td>73</td>\n",
       "      <td>11</td>\n",
       "      <td>276</td>\n",
       "      <td>120</td>\n",
       "      <td>Bad</td>\n",
       "      <td>42</td>\n",
       "      <td>17</td>\n",
       "      <td>Yes</td>\n",
       "      <td>Yes</td>\n",
       "    </tr>\n",
       "    <tr>\n",
       "      <th>1</th>\n",
       "      <td>11.22</td>\n",
       "      <td>111</td>\n",
       "      <td>48</td>\n",
       "      <td>16</td>\n",
       "      <td>260</td>\n",
       "      <td>83</td>\n",
       "      <td>Good</td>\n",
       "      <td>65</td>\n",
       "      <td>10</td>\n",
       "      <td>Yes</td>\n",
       "      <td>Yes</td>\n",
       "    </tr>\n",
       "    <tr>\n",
       "      <th>2</th>\n",
       "      <td>10.06</td>\n",
       "      <td>113</td>\n",
       "      <td>35</td>\n",
       "      <td>10</td>\n",
       "      <td>269</td>\n",
       "      <td>80</td>\n",
       "      <td>Medium</td>\n",
       "      <td>59</td>\n",
       "      <td>12</td>\n",
       "      <td>Yes</td>\n",
       "      <td>Yes</td>\n",
       "    </tr>\n",
       "    <tr>\n",
       "      <th>3</th>\n",
       "      <td>7.40</td>\n",
       "      <td>117</td>\n",
       "      <td>100</td>\n",
       "      <td>4</td>\n",
       "      <td>466</td>\n",
       "      <td>97</td>\n",
       "      <td>Medium</td>\n",
       "      <td>55</td>\n",
       "      <td>14</td>\n",
       "      <td>Yes</td>\n",
       "      <td>Yes</td>\n",
       "    </tr>\n",
       "    <tr>\n",
       "      <th>4</th>\n",
       "      <td>4.15</td>\n",
       "      <td>141</td>\n",
       "      <td>64</td>\n",
       "      <td>3</td>\n",
       "      <td>340</td>\n",
       "      <td>128</td>\n",
       "      <td>Bad</td>\n",
       "      <td>38</td>\n",
       "      <td>13</td>\n",
       "      <td>Yes</td>\n",
       "      <td>No</td>\n",
       "    </tr>\n",
       "  </tbody>\n",
       "</table>\n",
       "</div>"
      ],
      "text/plain": [
       "   Sales  CompPrice  Income  Advertising  Population  Price ShelveLoc  Age  \\\n",
       "0   9.50        138      73           11         276    120       Bad   42   \n",
       "1  11.22        111      48           16         260     83      Good   65   \n",
       "2  10.06        113      35           10         269     80    Medium   59   \n",
       "3   7.40        117     100            4         466     97    Medium   55   \n",
       "4   4.15        141      64            3         340    128       Bad   38   \n",
       "\n",
       "   Education Urban   US  \n",
       "0         17   Yes  Yes  \n",
       "1         10   Yes  Yes  \n",
       "2         12   Yes  Yes  \n",
       "3         14   Yes  Yes  \n",
       "4         13   Yes   No  "
      ]
     },
     "execution_count": 5,
     "metadata": {},
     "output_type": "execute_result"
    }
   ],
   "source": [
    "data.head()"
   ]
  },
  {
   "cell_type": "markdown",
   "metadata": {
    "id": "wW0d0eGmCYJM"
   },
   "source": [
    "## 3.데이터 준비"
   ]
  },
  {
   "cell_type": "markdown",
   "metadata": {
    "id": "y9Q6jR6OZjUk"
   },
   "source": [
    "### (1) 데이터 정리"
   ]
  },
  {
   "cell_type": "code",
   "execution_count": 6,
   "metadata": {
    "id": "vSPUmHLyNLbD"
   },
   "outputs": [],
   "source": [
    "data['Diff_Price'] = data['CompPrice'] - data['Price']\n",
    "data.drop('CompPrice', axis = 1, inplace = True)"
   ]
  },
  {
   "cell_type": "markdown",
   "metadata": {
    "id": "WpJEGpUuuVWm"
   },
   "source": [
    "### (2) 데이터분할1 : x, y 나누기"
   ]
  },
  {
   "cell_type": "code",
   "execution_count": 7,
   "metadata": {
    "id": "N-4Msv8VsQ3R"
   },
   "outputs": [],
   "source": [
    "# x와 y 분리\n",
    "target = 'Sales'\n",
    "x = data.drop(target, axis = 1)\n",
    "y = data.loc[:, target]"
   ]
  },
  {
   "cell_type": "markdown",
   "metadata": {
    "id": "mp_5volyuaA1"
   },
   "source": [
    "### (3) NA 조치"
   ]
  },
  {
   "cell_type": "markdown",
   "metadata": {
    "id": "nOF9fSLQugGf"
   },
   "source": [
    "### (4) 가변수화"
   ]
  },
  {
   "cell_type": "code",
   "execution_count": 8,
   "metadata": {
    "colab": {
     "base_uri": "https://localhost:8080/",
     "height": 206
    },
    "executionInfo": {
     "elapsed": 6,
     "status": "ok",
     "timestamp": 1659790555756,
     "user": {
      "displayName": "한기영",
      "userId": "13049187003176135487"
     },
     "user_tz": -540
    },
    "id": "CZgBC2QSoKc8",
    "outputId": "3e01687a-5bc6-49ca-cd11-5331a8a68685"
   },
   "outputs": [
    {
     "data": {
      "text/html": [
       "<div>\n",
       "<style scoped>\n",
       "    .dataframe tbody tr th:only-of-type {\n",
       "        vertical-align: middle;\n",
       "    }\n",
       "\n",
       "    .dataframe tbody tr th {\n",
       "        vertical-align: top;\n",
       "    }\n",
       "\n",
       "    .dataframe thead th {\n",
       "        text-align: right;\n",
       "    }\n",
       "</style>\n",
       "<table border=\"1\" class=\"dataframe\">\n",
       "  <thead>\n",
       "    <tr style=\"text-align: right;\">\n",
       "      <th></th>\n",
       "      <th>Income</th>\n",
       "      <th>Advertising</th>\n",
       "      <th>Population</th>\n",
       "      <th>Price</th>\n",
       "      <th>Age</th>\n",
       "      <th>Diff_Price</th>\n",
       "      <th>ShelveLoc_Good</th>\n",
       "      <th>ShelveLoc_Medium</th>\n",
       "      <th>Education_11</th>\n",
       "      <th>Education_12</th>\n",
       "      <th>Education_13</th>\n",
       "      <th>Education_14</th>\n",
       "      <th>Education_15</th>\n",
       "      <th>Education_16</th>\n",
       "      <th>Education_17</th>\n",
       "      <th>Education_18</th>\n",
       "      <th>Urban_Yes</th>\n",
       "      <th>US_Yes</th>\n",
       "    </tr>\n",
       "  </thead>\n",
       "  <tbody>\n",
       "    <tr>\n",
       "      <th>0</th>\n",
       "      <td>73</td>\n",
       "      <td>11</td>\n",
       "      <td>276</td>\n",
       "      <td>120</td>\n",
       "      <td>42</td>\n",
       "      <td>18</td>\n",
       "      <td>0</td>\n",
       "      <td>0</td>\n",
       "      <td>0</td>\n",
       "      <td>0</td>\n",
       "      <td>0</td>\n",
       "      <td>0</td>\n",
       "      <td>0</td>\n",
       "      <td>0</td>\n",
       "      <td>1</td>\n",
       "      <td>0</td>\n",
       "      <td>1</td>\n",
       "      <td>1</td>\n",
       "    </tr>\n",
       "    <tr>\n",
       "      <th>1</th>\n",
       "      <td>48</td>\n",
       "      <td>16</td>\n",
       "      <td>260</td>\n",
       "      <td>83</td>\n",
       "      <td>65</td>\n",
       "      <td>28</td>\n",
       "      <td>1</td>\n",
       "      <td>0</td>\n",
       "      <td>0</td>\n",
       "      <td>0</td>\n",
       "      <td>0</td>\n",
       "      <td>0</td>\n",
       "      <td>0</td>\n",
       "      <td>0</td>\n",
       "      <td>0</td>\n",
       "      <td>0</td>\n",
       "      <td>1</td>\n",
       "      <td>1</td>\n",
       "    </tr>\n",
       "    <tr>\n",
       "      <th>2</th>\n",
       "      <td>35</td>\n",
       "      <td>10</td>\n",
       "      <td>269</td>\n",
       "      <td>80</td>\n",
       "      <td>59</td>\n",
       "      <td>33</td>\n",
       "      <td>0</td>\n",
       "      <td>1</td>\n",
       "      <td>0</td>\n",
       "      <td>1</td>\n",
       "      <td>0</td>\n",
       "      <td>0</td>\n",
       "      <td>0</td>\n",
       "      <td>0</td>\n",
       "      <td>0</td>\n",
       "      <td>0</td>\n",
       "      <td>1</td>\n",
       "      <td>1</td>\n",
       "    </tr>\n",
       "    <tr>\n",
       "      <th>3</th>\n",
       "      <td>100</td>\n",
       "      <td>4</td>\n",
       "      <td>466</td>\n",
       "      <td>97</td>\n",
       "      <td>55</td>\n",
       "      <td>20</td>\n",
       "      <td>0</td>\n",
       "      <td>1</td>\n",
       "      <td>0</td>\n",
       "      <td>0</td>\n",
       "      <td>0</td>\n",
       "      <td>1</td>\n",
       "      <td>0</td>\n",
       "      <td>0</td>\n",
       "      <td>0</td>\n",
       "      <td>0</td>\n",
       "      <td>1</td>\n",
       "      <td>1</td>\n",
       "    </tr>\n",
       "    <tr>\n",
       "      <th>4</th>\n",
       "      <td>64</td>\n",
       "      <td>3</td>\n",
       "      <td>340</td>\n",
       "      <td>128</td>\n",
       "      <td>38</td>\n",
       "      <td>13</td>\n",
       "      <td>0</td>\n",
       "      <td>0</td>\n",
       "      <td>0</td>\n",
       "      <td>0</td>\n",
       "      <td>1</td>\n",
       "      <td>0</td>\n",
       "      <td>0</td>\n",
       "      <td>0</td>\n",
       "      <td>0</td>\n",
       "      <td>0</td>\n",
       "      <td>1</td>\n",
       "      <td>0</td>\n",
       "    </tr>\n",
       "  </tbody>\n",
       "</table>\n",
       "</div>"
      ],
      "text/plain": [
       "   Income  Advertising  Population  Price  Age  Diff_Price  ShelveLoc_Good  \\\n",
       "0      73           11         276    120   42          18               0   \n",
       "1      48           16         260     83   65          28               1   \n",
       "2      35           10         269     80   59          33               0   \n",
       "3     100            4         466     97   55          20               0   \n",
       "4      64            3         340    128   38          13               0   \n",
       "\n",
       "   ShelveLoc_Medium  Education_11  Education_12  Education_13  Education_14  \\\n",
       "0                 0             0             0             0             0   \n",
       "1                 0             0             0             0             0   \n",
       "2                 1             0             1             0             0   \n",
       "3                 1             0             0             0             1   \n",
       "4                 0             0             0             1             0   \n",
       "\n",
       "   Education_15  Education_16  Education_17  Education_18  Urban_Yes  US_Yes  \n",
       "0             0             0             1             0          1       1  \n",
       "1             0             0             0             0          1       1  \n",
       "2             0             0             0             0          1       1  \n",
       "3             0             0             0             0          1       1  \n",
       "4             0             0             0             0          1       0  "
      ]
     },
     "execution_count": 8,
     "metadata": {},
     "output_type": "execute_result"
    }
   ],
   "source": [
    "# 범주형(가변수화 대상) 변수 리스트(목록) 작성\n",
    "dumm_var = ['ShelveLoc','Education','Urban','US']\n",
    "\n",
    "# 리스트로 가변수화 수행. \n",
    "x = pd.get_dummies(x, columns = dumm_var, drop_first = True)\n",
    "x.head()"
   ]
  },
  {
   "cell_type": "markdown",
   "metadata": {
    "id": "VBwpOKgkf5Am"
   },
   "source": [
    "### (5) 데이터분할2 : train : validation 나누기"
   ]
  },
  {
   "cell_type": "code",
   "execution_count": 9,
   "metadata": {
    "id": "1iHmTnHCgBw5"
   },
   "outputs": [],
   "source": [
    "x_train, x_val, y_train, y_val = train_test_split(x, y, test_size = .3, random_state = 2022)"
   ]
  },
  {
   "cell_type": "markdown",
   "metadata": {
    "id": "59bBv0a8heYh"
   },
   "source": [
    "### (6) Scaling\n",
    "KNN 알고리즘을 적용하기 위해서는 스케일링을 해야 합니다."
   ]
  },
  {
   "cell_type": "code",
   "execution_count": 10,
   "metadata": {
    "id": "RuDcjwhwSo5y"
   },
   "outputs": [],
   "source": [
    "from sklearn.preprocessing import MinMaxScaler\n",
    "\n",
    "scaler = MinMaxScaler()\n",
    "x_train_s = scaler.fit_transform(x_train)\n",
    "x_val_s = scaler.transform(x_val)"
   ]
  },
  {
   "cell_type": "markdown",
   "metadata": {
    "id": "BYr1vtpd8uw4"
   },
   "source": [
    "## 4.모델링\n",
    "\n"
   ]
  },
  {
   "cell_type": "markdown",
   "metadata": {
    "id": "_JqYchKPNiaY"
   },
   "source": [
    "### (1) 선형회귀"
   ]
  },
  {
   "cell_type": "code",
   "execution_count": 11,
   "metadata": {
    "id": "2ZtyzyJAPIGQ"
   },
   "outputs": [],
   "source": [
    "vars, result = forward_stepwise_linear(x_train, y_train)"
   ]
  },
  {
   "cell_type": "code",
   "execution_count": 12,
   "metadata": {
    "id": "JrWs9TKSPRQ6"
   },
   "outputs": [
    {
     "data": {
      "text/plain": [
       "['Diff_Price',\n",
       " 'ShelveLoc_Good',\n",
       " 'ShelveLoc_Medium',\n",
       " 'Advertising',\n",
       " 'Age',\n",
       " 'Income',\n",
       " 'Education_15']"
      ]
     },
     "execution_count": 12,
     "metadata": {},
     "output_type": "execute_result"
    }
   ],
   "source": [
    "vars"
   ]
  },
  {
   "cell_type": "code",
   "execution_count": 13,
   "metadata": {
    "colab": {
     "base_uri": "https://localhost:8080/"
    },
    "executionInfo": {
     "elapsed": 313,
     "status": "ok",
     "timestamp": 1659790835527,
     "user": {
      "displayName": "한기영",
      "userId": "13049187003176135487"
     },
     "user_tz": -540
    },
    "id": "Dmi0ACVTyQkN",
    "outputId": "41539530-be8e-4f6b-b31f-67edb1ac6306"
   },
   "outputs": [
    {
     "name": "stdout",
     "output_type": "stream",
     "text": [
      "RMSE :  1.020889484041389\n",
      "MAE  :  0.8014365161361232\n",
      "MAPE :  0.20785310360107903\n"
     ]
    }
   ],
   "source": [
    "# 선택된 변수\n",
    "lr_m1 = LinearRegression()\n",
    "lr_m1.fit(x_train[vars], y_train)\n",
    "p1 = lr_m1.predict(x_val[vars])\n",
    "\n",
    "print('RMSE : ', mean_squared_error(y_val, p1, squared=False))\n",
    "print('MAE  : ', mean_absolute_error(y_val, p1))\n",
    "print('MAPE : ', mean_absolute_percentage_error(y_val, p1))"
   ]
  },
  {
   "cell_type": "code",
   "execution_count": 14,
   "metadata": {
    "colab": {
     "base_uri": "https://localhost:8080/"
    },
    "executionInfo": {
     "elapsed": 3,
     "status": "ok",
     "timestamp": 1659790835851,
     "user": {
      "displayName": "한기영",
      "userId": "13049187003176135487"
     },
     "user_tz": -540
    },
    "id": "MDBGZHmXPXGx",
    "outputId": "4d3131a6-6fe8-44b7-958c-7f9a47fbd9b2"
   },
   "outputs": [
    {
     "name": "stdout",
     "output_type": "stream",
     "text": [
      "RMSE :  1.0417209287542302\n",
      "MAE  :  0.829170285653711\n",
      "MAPE :  0.21735487590453023\n"
     ]
    }
   ],
   "source": [
    "# 전체 변수\n",
    "lr_m2 = LinearRegression()\n",
    "lr_m2.fit(x_train, y_train)\n",
    "p2 = lr_m2.predict(x_val)\n",
    "\n",
    "print('RMSE : ', mean_squared_error(y_val, p2, squared=False))\n",
    "print('MAE  : ', mean_absolute_error(y_val, p2))\n",
    "print('MAPE : ', mean_absolute_percentage_error(y_val, p2))"
   ]
  },
  {
   "cell_type": "markdown",
   "metadata": {
    "id": "LaZoO6TuoZ_U"
   },
   "source": [
    "### (2) KNN"
   ]
  },
  {
   "cell_type": "code",
   "execution_count": 34,
   "metadata": {
    "colab": {
     "base_uri": "https://localhost:8080/"
    },
    "executionInfo": {
     "elapsed": 359,
     "status": "ok",
     "timestamp": 1659791156113,
     "user": {
      "displayName": "한기영",
      "userId": "13049187003176135487"
     },
     "user_tz": -540
    },
    "id": "CkVVoyWFhmA0",
    "outputId": "fe8afb52-6d17-4c5c-ad5a-5fb419957dad"
   },
   "outputs": [
    {
     "data": {
      "text/plain": [
       "{'n_neighbors': range(3, 51, 2), 'metric': ['euclidean', 'manhattan']}"
      ]
     },
     "execution_count": 34,
     "metadata": {},
     "output_type": "execute_result"
    }
   ],
   "source": [
    "# dictionary형태로 선언\n",
    "params = { 'n_neighbors' : range(3,51,2), 'metric' : ['euclidean', 'manhattan']  }\n",
    "params"
   ]
  },
  {
   "cell_type": "code",
   "execution_count": 35,
   "metadata": {
    "id": "A0Zceq-LhmA1"
   },
   "outputs": [],
   "source": [
    "# 기본모델\n",
    "m = KNeighborsRegressor()\n",
    "\n",
    "# Random Search 설정.\n",
    "knn_m = GridSearchCV(m, params, cv=5)"
   ]
  },
  {
   "cell_type": "code",
   "execution_count": 36,
   "metadata": {
    "colab": {
     "base_uri": "https://localhost:8080/"
    },
    "executionInfo": {
     "elapsed": 838,
     "status": "ok",
     "timestamp": 1659791157747,
     "user": {
      "displayName": "한기영",
      "userId": "13049187003176135487"
     },
     "user_tz": -540
    },
    "id": "XtI3d8uZhmA1",
    "outputId": "1ee26fb0-4dd6-4c00-e1ed-4170dc8e40b9"
   },
   "outputs": [
    {
     "data": {
      "text/plain": [
       "GridSearchCV(cv=5, estimator=KNeighborsRegressor(),\n",
       "             param_grid={'metric': ['euclidean', 'manhattan'],\n",
       "                         'n_neighbors': range(3, 51, 2)})"
      ]
     },
     "execution_count": 36,
     "metadata": {},
     "output_type": "execute_result"
    }
   ],
   "source": [
    "# 학습 \n",
    "knn_m.fit(x_train_s, y_train)"
   ]
  },
  {
   "cell_type": "code",
   "execution_count": 37,
   "metadata": {
    "colab": {
     "base_uri": "https://localhost:8080/"
    },
    "executionInfo": {
     "elapsed": 9,
     "status": "ok",
     "timestamp": 1659791157748,
     "user": {
      "displayName": "한기영",
      "userId": "13049187003176135487"
     },
     "user_tz": -540
    },
    "id": "6m0F5W3IhmA2",
    "outputId": "49564d68-0831-4baa-869a-70c6113c5bf0"
   },
   "outputs": [
    {
     "data": {
      "text/plain": [
       "{'metric': 'manhattan', 'n_neighbors': 7}"
      ]
     },
     "execution_count": 37,
     "metadata": {},
     "output_type": "execute_result"
    }
   ],
   "source": [
    "# 최적의 파라미터\n",
    "knn_m.best_params_"
   ]
  },
  {
   "cell_type": "code",
   "execution_count": 38,
   "metadata": {
    "colab": {
     "base_uri": "https://localhost:8080/"
    },
    "executionInfo": {
     "elapsed": 1574,
     "status": "ok",
     "timestamp": 1659791159316,
     "user": {
      "displayName": "한기영",
      "userId": "13049187003176135487"
     },
     "user_tz": -540
    },
    "id": "1aaAI6PshmA2",
    "outputId": "5f3409b7-6b02-4230-9311-11acd9369047"
   },
   "outputs": [
    {
     "data": {
      "text/plain": [
       "0.36940512788706253"
      ]
     },
     "execution_count": 38,
     "metadata": {},
     "output_type": "execute_result"
    }
   ],
   "source": [
    "# 그때의 성능\n",
    "knn_m.best_score_"
   ]
  },
  {
   "cell_type": "code",
   "execution_count": 39,
   "metadata": {
    "colab": {
     "base_uri": "https://localhost:8080/"
    },
    "executionInfo": {
     "elapsed": 15,
     "status": "ok",
     "timestamp": 1659791159319,
     "user": {
      "displayName": "한기영",
      "userId": "13049187003176135487"
     },
     "user_tz": -540
    },
    "id": "aW3lOKgKhmA2",
    "outputId": "67257a78-000d-43e5-c1f0-a3dbb77267d0"
   },
   "outputs": [
    {
     "name": "stdout",
     "output_type": "stream",
     "text": [
      "RMSE :  2.284023958319367\n",
      "MAE  :  1.8755238095238096\n",
      "MAPE :  0.6961450106817675\n"
     ]
    }
   ],
   "source": [
    "# best 모델로 예측 및 평가\n",
    "p3 = knn_m.predict(x_val_s)\n",
    "print('RMSE : ', mean_squared_error(y_val, p3, squared=False))\n",
    "print('MAE  : ', mean_absolute_error(y_val, p3))\n",
    "print('MAPE : ', mean_absolute_percentage_error(y_val, p3))"
   ]
  },
  {
   "cell_type": "code",
   "execution_count": 40,
   "metadata": {
    "id": "KrVt1bdJGTQm"
   },
   "outputs": [],
   "source": [
    "result = pd.DataFrame(knn_m.cv_results_)"
   ]
  },
  {
   "cell_type": "code",
   "execution_count": 41,
   "metadata": {
    "colab": {
     "base_uri": "https://localhost:8080/",
     "height": 206
    },
    "executionInfo": {
     "elapsed": 12,
     "status": "ok",
     "timestamp": 1659791159320,
     "user": {
      "displayName": "한기영",
      "userId": "13049187003176135487"
     },
     "user_tz": -540
    },
    "id": "mb6jqqUOGTQm",
    "outputId": "f78fb4de-395f-477b-bc7a-1518abb1a05e"
   },
   "outputs": [
    {
     "data": {
      "text/html": [
       "<div>\n",
       "<style scoped>\n",
       "    .dataframe tbody tr th:only-of-type {\n",
       "        vertical-align: middle;\n",
       "    }\n",
       "\n",
       "    .dataframe tbody tr th {\n",
       "        vertical-align: top;\n",
       "    }\n",
       "\n",
       "    .dataframe thead th {\n",
       "        text-align: right;\n",
       "    }\n",
       "</style>\n",
       "<table border=\"1\" class=\"dataframe\">\n",
       "  <thead>\n",
       "    <tr style=\"text-align: right;\">\n",
       "      <th></th>\n",
       "      <th>param_metric</th>\n",
       "      <th>param_n_neighbors</th>\n",
       "      <th>mean_test_score</th>\n",
       "    </tr>\n",
       "  </thead>\n",
       "  <tbody>\n",
       "    <tr>\n",
       "      <th>0</th>\n",
       "      <td>euclidean</td>\n",
       "      <td>3</td>\n",
       "      <td>0.222969</td>\n",
       "    </tr>\n",
       "    <tr>\n",
       "      <th>1</th>\n",
       "      <td>euclidean</td>\n",
       "      <td>5</td>\n",
       "      <td>0.275763</td>\n",
       "    </tr>\n",
       "    <tr>\n",
       "      <th>2</th>\n",
       "      <td>euclidean</td>\n",
       "      <td>7</td>\n",
       "      <td>0.308126</td>\n",
       "    </tr>\n",
       "    <tr>\n",
       "      <th>3</th>\n",
       "      <td>euclidean</td>\n",
       "      <td>9</td>\n",
       "      <td>0.284253</td>\n",
       "    </tr>\n",
       "    <tr>\n",
       "      <th>4</th>\n",
       "      <td>euclidean</td>\n",
       "      <td>11</td>\n",
       "      <td>0.306238</td>\n",
       "    </tr>\n",
       "  </tbody>\n",
       "</table>\n",
       "</div>"
      ],
      "text/plain": [
       "  param_metric param_n_neighbors  mean_test_score\n",
       "0    euclidean                 3         0.222969\n",
       "1    euclidean                 5         0.275763\n",
       "2    euclidean                 7         0.308126\n",
       "3    euclidean                 9         0.284253\n",
       "4    euclidean                11         0.306238"
      ]
     },
     "execution_count": 41,
     "metadata": {},
     "output_type": "execute_result"
    }
   ],
   "source": [
    "# 이 중에서 하이퍼파라미터 값에 따른 성능을 별도로 저장합시다.\n",
    "temp = result.loc[:, ['param_metric', 'param_n_neighbors','mean_test_score']]\n",
    "temp.head()"
   ]
  },
  {
   "cell_type": "code",
   "execution_count": 42,
   "metadata": {
    "colab": {
     "base_uri": "https://localhost:8080/",
     "height": 393
    },
    "executionInfo": {
     "elapsed": 508,
     "status": "ok",
     "timestamp": 1659791159817,
     "user": {
      "displayName": "한기영",
      "userId": "13049187003176135487"
     },
     "user_tz": -540
    },
    "id": "E08tZO78GTQm",
    "outputId": "16d6029d-3b73-4d56-d42d-b456a67b1a9e"
   },
   "outputs": [
    {
     "data": {
      "image/png": "[encoded data removed]",
      "text/plain": [
       "<Figure size 576x432 with 1 Axes>"
      ]
     },
     "metadata": {
      "needs_background": "light"
     },
     "output_type": "display_data"
    }
   ],
   "source": [
    "# 이를 차트로 그려봅시다.\n",
    "plt.figure(figsize = (8,6))\n",
    "sns.lineplot(x = 'param_n_neighbors', y = 'mean_test_score', data = temp, hue = 'param_metric')\n",
    "plt.grid()\n",
    "plt.show()"
   ]
  },
  {
   "cell_type": "code",
   "execution_count": null,
   "metadata": {
    "id": "TqJCSGkqp7X7"
   },
   "outputs": [],
   "source": []
  },
  {
   "cell_type": "markdown",
   "metadata": {
    "id": "fCS_xa4OQ8Cv"
   },
   "source": [
    "### (3) Decision Tree"
   ]
  },
  {
   "cell_type": "code",
   "execution_count": 43,
   "metadata": {
    "colab": {
     "base_uri": "https://localhost:8080/"
    },
    "executionInfo": {
     "elapsed": 310,
     "status": "ok",
     "timestamp": 1659791224118,
     "user": {
      "displayName": "한기영",
      "userId": "13049187003176135487"
     },
     "user_tz": -540
    },
    "id": "lSuwuGEnQ8Cw",
    "outputId": "711e4966-1312-4449-da44-f6bcca96ada2"
   },
   "outputs": [
    {
     "data": {
      "text/plain": [
       "{'max_depth': range(2, 11)}"
      ]
     },
     "execution_count": 43,
     "metadata": {},
     "output_type": "execute_result"
    }
   ],
   "source": [
    "# dictionary형태로 선언\n",
    "params = {'max_depth' : range(2,11)}\n",
    "params"
   ]
  },
  {
   "cell_type": "code",
   "execution_count": 147,
   "metadata": {
    "id": "VKfEhMSqQ8Cw"
   },
   "outputs": [],
   "source": [
    "# 기본모델\n",
    "m = DecisionTreeRegressor()\n",
    "\n",
    "# Random Search 설정.\n",
    "dt_m = GridSearchCV(m, params, cv=5, scoring = 'neg_mean_absolute_error')"
   ]
  },
  {
   "cell_type": "markdown",
   "metadata": {},
   "source": [
    "https://scikit-learn.org/stable/modules/model_evaluation.html#scoring-parameter"
   ]
  },
  {
   "cell_type": "code",
   "execution_count": 45,
   "metadata": {
    "colab": {
     "base_uri": "https://localhost:8080/"
    },
    "executionInfo": {
     "elapsed": 489,
     "status": "ok",
     "timestamp": 1659791266595,
     "user": {
      "displayName": "한기영",
      "userId": "13049187003176135487"
     },
     "user_tz": -540
    },
    "id": "5acm-Vc-Q8Cw",
    "outputId": "942629b1-b541-4b81-88c9-25df538f95b1"
   },
   "outputs": [
    {
     "data": {
      "text/plain": [
       "GridSearchCV(cv=5, estimator=DecisionTreeRegressor(),\n",
       "             param_grid={'max_depth': range(2, 11)})"
      ]
     },
     "execution_count": 45,
     "metadata": {},
     "output_type": "execute_result"
    }
   ],
   "source": [
    "# 학습 \n",
    "dt_m.fit(x_train, y_train)"
   ]
  },
  {
   "cell_type": "code",
   "execution_count": 46,
   "metadata": {
    "colab": {
     "base_uri": "https://localhost:8080/"
    },
    "executionInfo": {
     "elapsed": 6,
     "status": "ok",
     "timestamp": 1659791266595,
     "user": {
      "displayName": "한기영",
      "userId": "13049187003176135487"
     },
     "user_tz": -540
    },
    "id": "8Cxw4vIBQ8Cw",
    "outputId": "d84d6bf3-96b6-4695-9429-ee6889557dcd"
   },
   "outputs": [
    {
     "data": {
      "text/plain": [
       "{'max_depth': 5}"
      ]
     },
     "execution_count": 46,
     "metadata": {},
     "output_type": "execute_result"
    }
   ],
   "source": [
    "# 최적의 파라미터\n",
    "dt_m.best_params_"
   ]
  },
  {
   "cell_type": "code",
   "execution_count": 47,
   "metadata": {
    "colab": {
     "base_uri": "https://localhost:8080/"
    },
    "executionInfo": {
     "elapsed": 348,
     "status": "ok",
     "timestamp": 1659791266941,
     "user": {
      "displayName": "한기영",
      "userId": "13049187003176135487"
     },
     "user_tz": -540
    },
    "id": "vSzgTEl6Q8Cw",
    "outputId": "47a93832-9826-451a-8497-6c0cc7f73d8a"
   },
   "outputs": [
    {
     "data": {
      "text/plain": [
       "0.5275346271737866"
      ]
     },
     "execution_count": 47,
     "metadata": {},
     "output_type": "execute_result"
    }
   ],
   "source": [
    "# 그때의 성능\n",
    "dt_m.best_score_"
   ]
  },
  {
   "cell_type": "code",
   "execution_count": 48,
   "metadata": {
    "colab": {
     "base_uri": "https://localhost:8080/"
    },
    "executionInfo": {
     "elapsed": 9,
     "status": "ok",
     "timestamp": 1659791266943,
     "user": {
      "displayName": "한기영",
      "userId": "13049187003176135487"
     },
     "user_tz": -540
    },
    "id": "ut7p1bdjQ8Cx",
    "outputId": "521c9c8d-d179-40dd-a132-92581df81ee9"
   },
   "outputs": [
    {
     "name": "stdout",
     "output_type": "stream",
     "text": [
      "RMSE :  1.7976537943025497\n",
      "MAE  :  1.492275008232508\n",
      "MAPE :  0.5032440040138061\n"
     ]
    }
   ],
   "source": [
    "# best 모델로 예측 및 평가\n",
    "p4 = dt_m.predict(x_val)\n",
    "print('RMSE : ', mean_squared_error(y_val, p4, squared=False))\n",
    "print('MAE  : ', mean_absolute_error(y_val, p4))\n",
    "print('MAPE : ', mean_absolute_percentage_error(y_val, p4))"
   ]
  },
  {
   "cell_type": "code",
   "execution_count": 49,
   "metadata": {
    "id": "qpZ6RO8wQ8Cx"
   },
   "outputs": [],
   "source": [
    "result = pd.DataFrame(dt_m.cv_results_)"
   ]
  },
  {
   "cell_type": "code",
   "execution_count": 50,
   "metadata": {
    "colab": {
     "base_uri": "https://localhost:8080/",
     "height": 206
    },
    "executionInfo": {
     "elapsed": 4,
     "status": "ok",
     "timestamp": 1659791301321,
     "user": {
      "displayName": "한기영",
      "userId": "13049187003176135487"
     },
     "user_tz": -540
    },
    "id": "cLS9yxpTQ8Cx",
    "outputId": "daab9915-3058-4169-d0cb-e899935fedec"
   },
   "outputs": [
    {
     "data": {
      "text/html": [
       "<div>\n",
       "<style scoped>\n",
       "    .dataframe tbody tr th:only-of-type {\n",
       "        vertical-align: middle;\n",
       "    }\n",
       "\n",
       "    .dataframe tbody tr th {\n",
       "        vertical-align: top;\n",
       "    }\n",
       "\n",
       "    .dataframe thead th {\n",
       "        text-align: right;\n",
       "    }\n",
       "</style>\n",
       "<table border=\"1\" class=\"dataframe\">\n",
       "  <thead>\n",
       "    <tr style=\"text-align: right;\">\n",
       "      <th></th>\n",
       "      <th>param_max_depth</th>\n",
       "      <th>mean_test_score</th>\n",
       "    </tr>\n",
       "  </thead>\n",
       "  <tbody>\n",
       "    <tr>\n",
       "      <th>0</th>\n",
       "      <td>2</td>\n",
       "      <td>0.352302</td>\n",
       "    </tr>\n",
       "    <tr>\n",
       "      <th>1</th>\n",
       "      <td>3</td>\n",
       "      <td>0.442839</td>\n",
       "    </tr>\n",
       "    <tr>\n",
       "      <th>2</th>\n",
       "      <td>4</td>\n",
       "      <td>0.510856</td>\n",
       "    </tr>\n",
       "    <tr>\n",
       "      <th>3</th>\n",
       "      <td>5</td>\n",
       "      <td>0.527535</td>\n",
       "    </tr>\n",
       "    <tr>\n",
       "      <th>4</th>\n",
       "      <td>6</td>\n",
       "      <td>0.456968</td>\n",
       "    </tr>\n",
       "  </tbody>\n",
       "</table>\n",
       "</div>"
      ],
      "text/plain": [
       "  param_max_depth  mean_test_score\n",
       "0               2         0.352302\n",
       "1               3         0.442839\n",
       "2               4         0.510856\n",
       "3               5         0.527535\n",
       "4               6         0.456968"
      ]
     },
     "execution_count": 50,
     "metadata": {},
     "output_type": "execute_result"
    }
   ],
   "source": [
    "# 이 중에서 하이퍼파라미터 값에 따른 성능을 별도로 저장합시다.\n",
    "temp = result.loc[:, ['param_max_depth','mean_test_score']]\n",
    "temp.head()"
   ]
  },
  {
   "cell_type": "code",
   "execution_count": 51,
   "metadata": {
    "colab": {
     "base_uri": "https://localhost:8080/",
     "height": 389
    },
    "executionInfo": {
     "elapsed": 569,
     "status": "ok",
     "timestamp": 1659791312579,
     "user": {
      "displayName": "한기영",
      "userId": "13049187003176135487"
     },
     "user_tz": -540
    },
    "id": "t15y810xQ8Cx",
    "outputId": "60950e12-e8c0-4405-a29a-5363d06bcdce"
   },
   "outputs": [
    {
     "data": {
      "image/png": "[encoded data removed]",
      "text/plain": [
       "<Figure size 576x432 with 1 Axes>"
      ]
     },
     "metadata": {
      "needs_background": "light"
     },
     "output_type": "display_data"
    }
   ],
   "source": [
    "# 이를 차트로 그려봅시다.\n",
    "plt.figure(figsize = (8,6))\n",
    "sns.lineplot(x = 'param_max_depth', y = 'mean_test_score', data = temp)\n",
    "plt.grid()\n",
    "plt.show()"
   ]
  },
  {
   "cell_type": "code",
   "execution_count": null,
   "metadata": {
    "id": "oyC26un1Q8Cx"
   },
   "outputs": [],
   "source": []
  },
  {
   "cell_type": "markdown",
   "metadata": {
    "id": "-fIyHrVFRgBt"
   },
   "source": [
    "### (4) Random Forest"
   ]
  },
  {
   "cell_type": "code",
   "execution_count": 52,
   "metadata": {
    "colab": {
     "base_uri": "https://localhost:8080/"
    },
    "executionInfo": {
     "elapsed": 345,
     "status": "ok",
     "timestamp": 1659791476686,
     "user": {
      "displayName": "한기영",
      "userId": "13049187003176135487"
     },
     "user_tz": -540
    },
    "id": "QWa19sbURgBu",
    "outputId": "f0125ecc-d5d5-4c1b-da52-e6b9d0cda82f"
   },
   "outputs": [
    {
     "data": {
      "text/plain": [
       "{'max_depth': range(2, 21)}"
      ]
     },
     "execution_count": 52,
     "metadata": {},
     "output_type": "execute_result"
    }
   ],
   "source": [
    "# dictionary형태로 선언\n",
    "params = {'max_depth' : range(2,21)}\n",
    "params"
   ]
  },
  {
   "cell_type": "code",
   "execution_count": 54,
   "metadata": {
    "id": "cmwu6p7TRgBu"
   },
   "outputs": [],
   "source": [
    "# 기본모델\n",
    "m = RandomForestRegressor()\n",
    "\n",
    "# Random Search 설정.\n",
    "rf_m = GridSearchCV(m, params, cv=5)"
   ]
  },
  {
   "cell_type": "code",
   "execution_count": 55,
   "metadata": {
    "colab": {
     "base_uri": "https://localhost:8080/"
    },
    "executionInfo": {
     "elapsed": 22535,
     "status": "ok",
     "timestamp": 1659791500037,
     "user": {
      "displayName": "한기영",
      "userId": "13049187003176135487"
     },
     "user_tz": -540
    },
    "id": "CYhmNUP6RgBu",
    "outputId": "e3e09773-c87c-49f1-c669-17c0656e4e2d"
   },
   "outputs": [
    {
     "data": {
      "text/plain": [
       "GridSearchCV(cv=5, estimator=RandomForestRegressor(),\n",
       "             param_grid={'max_depth': range(2, 21)})"
      ]
     },
     "execution_count": 55,
     "metadata": {},
     "output_type": "execute_result"
    }
   ],
   "source": [
    "# 학습\n",
    "rf_m.fit(x_train, y_train)"
   ]
  },
  {
   "cell_type": "code",
   "execution_count": 56,
   "metadata": {
    "colab": {
     "base_uri": "https://localhost:8080/"
    },
    "executionInfo": {
     "elapsed": 24,
     "status": "ok",
     "timestamp": 1659791500038,
     "user": {
      "displayName": "한기영",
      "userId": "13049187003176135487"
     },
     "user_tz": -540
    },
    "id": "bjigSlLZRgBu",
    "outputId": "67147306-ae0b-40d6-9525-6c10c3c4e558"
   },
   "outputs": [
    {
     "data": {
      "text/plain": [
       "{'max_depth': 15}"
      ]
     },
     "execution_count": 56,
     "metadata": {},
     "output_type": "execute_result"
    }
   ],
   "source": [
    "# 최적의 파라미터\n",
    "rf_m.best_params_"
   ]
  },
  {
   "cell_type": "code",
   "execution_count": 57,
   "metadata": {
    "colab": {
     "base_uri": "https://localhost:8080/"
    },
    "executionInfo": {
     "elapsed": 16,
     "status": "ok",
     "timestamp": 1659791500038,
     "user": {
      "displayName": "한기영",
      "userId": "13049187003176135487"
     },
     "user_tz": -540
    },
    "id": "4rnUmloRRgBv",
    "outputId": "eae69003-f98c-4e00-a472-7c12a2cca639"
   },
   "outputs": [
    {
     "data": {
      "text/plain": [
       "0.7293331304632101"
      ]
     },
     "execution_count": 57,
     "metadata": {},
     "output_type": "execute_result"
    }
   ],
   "source": [
    "# 그때의 성능\n",
    "rf_m.best_score_"
   ]
  },
  {
   "cell_type": "code",
   "execution_count": 58,
   "metadata": {
    "colab": {
     "base_uri": "https://localhost:8080/"
    },
    "executionInfo": {
     "elapsed": 13,
     "status": "ok",
     "timestamp": 1659791500039,
     "user": {
      "displayName": "한기영",
      "userId": "13049187003176135487"
     },
     "user_tz": -540
    },
    "id": "JcxAo4IERgBv",
    "outputId": "2afde4fa-f65c-4ad6-95ba-8c055ee18dcd"
   },
   "outputs": [
    {
     "name": "stdout",
     "output_type": "stream",
     "text": [
      "RMSE :  1.3638019281545737\n",
      "MAE  :  1.1072402394295517\n",
      "MAPE :  0.31746144251601127\n"
     ]
    }
   ],
   "source": [
    "# best 모델로 예측 및 평가\n",
    "p5 = rf_m.predict(x_val)\n",
    "print('RMSE : ', mean_squared_error(y_val, p5, squared=False))\n",
    "print('MAE  : ', mean_absolute_error(y_val, p5))\n",
    "print('MAPE : ', mean_absolute_percentage_error(y_val, p5))"
   ]
  },
  {
   "cell_type": "code",
   "execution_count": 59,
   "metadata": {
    "id": "WzErtZxXRgBv"
   },
   "outputs": [],
   "source": [
    "result = pd.DataFrame(rf_m.cv_results_)"
   ]
  },
  {
   "cell_type": "code",
   "execution_count": 60,
   "metadata": {
    "colab": {
     "base_uri": "https://localhost:8080/",
     "height": 206
    },
    "executionInfo": {
     "elapsed": 564,
     "status": "ok",
     "timestamp": 1659791500593,
     "user": {
      "displayName": "한기영",
      "userId": "13049187003176135487"
     },
     "user_tz": -540
    },
    "id": "ATHMvyhFRgBv",
    "outputId": "6140972e-8c4a-4b78-b101-cb87a528eb24"
   },
   "outputs": [
    {
     "data": {
      "text/html": [
       "<div>\n",
       "<style scoped>\n",
       "    .dataframe tbody tr th:only-of-type {\n",
       "        vertical-align: middle;\n",
       "    }\n",
       "\n",
       "    .dataframe tbody tr th {\n",
       "        vertical-align: top;\n",
       "    }\n",
       "\n",
       "    .dataframe thead th {\n",
       "        text-align: right;\n",
       "    }\n",
       "</style>\n",
       "<table border=\"1\" class=\"dataframe\">\n",
       "  <thead>\n",
       "    <tr style=\"text-align: right;\">\n",
       "      <th></th>\n",
       "      <th>param_max_depth</th>\n",
       "      <th>mean_test_score</th>\n",
       "    </tr>\n",
       "  </thead>\n",
       "  <tbody>\n",
       "    <tr>\n",
       "      <th>0</th>\n",
       "      <td>2</td>\n",
       "      <td>0.491770</td>\n",
       "    </tr>\n",
       "    <tr>\n",
       "      <th>1</th>\n",
       "      <td>3</td>\n",
       "      <td>0.573834</td>\n",
       "    </tr>\n",
       "    <tr>\n",
       "      <th>2</th>\n",
       "      <td>4</td>\n",
       "      <td>0.657078</td>\n",
       "    </tr>\n",
       "    <tr>\n",
       "      <th>3</th>\n",
       "      <td>5</td>\n",
       "      <td>0.702260</td>\n",
       "    </tr>\n",
       "    <tr>\n",
       "      <th>4</th>\n",
       "      <td>6</td>\n",
       "      <td>0.718799</td>\n",
       "    </tr>\n",
       "  </tbody>\n",
       "</table>\n",
       "</div>"
      ],
      "text/plain": [
       "  param_max_depth  mean_test_score\n",
       "0               2         0.491770\n",
       "1               3         0.573834\n",
       "2               4         0.657078\n",
       "3               5         0.702260\n",
       "4               6         0.718799"
      ]
     },
     "execution_count": 60,
     "metadata": {},
     "output_type": "execute_result"
    }
   ],
   "source": [
    "# 이 중에서 하이퍼파라미터 값에 따른 성능을 별도로 저장합시다.\n",
    "temp = result.loc[:, ['param_max_depth','mean_test_score']]\n",
    "temp.head()"
   ]
  },
  {
   "cell_type": "code",
   "execution_count": 61,
   "metadata": {
    "colab": {
     "base_uri": "https://localhost:8080/",
     "height": 389
    },
    "executionInfo": {
     "elapsed": 6,
     "status": "ok",
     "timestamp": 1659791500594,
     "user": {
      "displayName": "한기영",
      "userId": "13049187003176135487"
     },
     "user_tz": -540
    },
    "id": "N7QKjuCRRgBv",
    "outputId": "f0f68c66-c4df-41a5-e881-30a6269dea6e"
   },
   "outputs": [
    {
     "data": {
      "image/png": "[encoded data removed]",
      "text/plain": [
       "<Figure size 576x432 with 1 Axes>"
      ]
     },
     "metadata": {
      "needs_background": "light"
     },
     "output_type": "display_data"
    }
   ],
   "source": [
    "# 이를 차트로 그려봅시다.\n",
    "plt.figure(figsize = (8,6))\n",
    "sns.lineplot(x = 'param_max_depth', y = 'mean_test_score', data = temp)\n",
    "plt.grid()\n",
    "plt.show()"
   ]
  },
  {
   "cell_type": "code",
   "execution_count": null,
   "metadata": {
    "id": "w-SlzyQFRgBv"
   },
   "outputs": [],
   "source": []
  },
  {
   "cell_type": "markdown",
   "metadata": {
    "id": "nB5okfNhSLNt"
   },
   "source": [
    "### (5) XGB"
   ]
  },
  {
   "cell_type": "code",
   "execution_count": 62,
   "metadata": {
    "colab": {
     "base_uri": "https://localhost:8080/"
    },
    "executionInfo": {
     "elapsed": 322,
     "status": "ok",
     "timestamp": 1659791592822,
     "user": {
      "displayName": "한기영",
      "userId": "13049187003176135487"
     },
     "user_tz": -540
    },
    "id": "L69D9qCpSLN3",
    "outputId": "7e1d088f-a043-4bfc-d66b-cb686accd2e6"
   },
   "outputs": [
    {
     "data": {
      "text/plain": [
       "{'learning_rate': array([0.01, 0.02, 0.03, 0.04, 0.05, 0.06, 0.07, 0.08, 0.09, 0.1 , 0.11,\n",
       "        0.12, 0.13, 0.14, 0.15, 0.16, 0.17, 0.18, 0.19, 0.2 ]),\n",
       " 'n_estimators': range(60, 200, 20),\n",
       " 'max_depth': [3, 4, 5, 6]}"
      ]
     },
     "execution_count": 62,
     "metadata": {},
     "output_type": "execute_result"
    }
   ],
   "source": [
    "# dictionary형태로 선언\n",
    "params = {'learning_rate' : np.linspace(0.01,0.2, 20), 'n_estimators':range(60,200,20), 'max_depth':[3,4,5,6]}\n",
    "params"
   ]
  },
  {
   "cell_type": "code",
   "execution_count": 64,
   "metadata": {
    "id": "XGSEIZ-4SLN3"
   },
   "outputs": [],
   "source": [
    "# 기본모델\n",
    "m = XGBRegressor(objective = 'reg:squarederror')\n",
    "\n",
    "# Random Search 설정.\n",
    "xgb_m = GridSearchCV(m, params, cv=5)"
   ]
  },
  {
   "cell_type": "code",
   "execution_count": 65,
   "metadata": {
    "colab": {
     "base_uri": "https://localhost:8080/"
    },
    "executionInfo": {
     "elapsed": 168509,
     "status": "ok",
     "timestamp": 1659791884895,
     "user": {
      "displayName": "한기영",
      "userId": "13049187003176135487"
     },
     "user_tz": -540
    },
    "id": "7hiAvN5dSLN4",
    "outputId": "4ad30839-09c8-46e4-fecc-6187755db2d6"
   },
   "outputs": [
    {
     "data": {
      "text/plain": [
       "GridSearchCV(cv=5,\n",
       "             estimator=XGBRegressor(base_score=None, booster=None,\n",
       "                                    colsample_bylevel=None,\n",
       "                                    colsample_bynode=None,\n",
       "                                    colsample_bytree=None,\n",
       "                                    enable_categorical=False, gamma=None,\n",
       "                                    gpu_id=None, importance_type=None,\n",
       "                                    interaction_constraints=None,\n",
       "                                    learning_rate=None, max_delta_step=None,\n",
       "                                    max_depth=None, min_child_weight=None,\n",
       "                                    missing=nan, monotone_constraints=None,\n",
       "                                    n...\n",
       "                                    num_parallel_tree=None, predictor=None,\n",
       "                                    random_state=None, reg_alpha=None,\n",
       "                                    reg_lambda=None, scale_pos_weight=None,\n",
       "                                    subsample=None, tree_method=None,\n",
       "                                    validate_parameters=None, verbosity=None),\n",
       "             param_grid={'learning_rate': array([0.01, 0.02, 0.03, 0.04, 0.05, 0.06, 0.07, 0.08, 0.09, 0.1 , 0.11,\n",
       "       0.12, 0.13, 0.14, 0.15, 0.16, 0.17, 0.18, 0.19, 0.2 ]),\n",
       "                         'max_depth': [3, 4, 5, 6],\n",
       "                         'n_estimators': range(60, 200, 20)})"
      ]
     },
     "execution_count": 65,
     "metadata": {},
     "output_type": "execute_result"
    }
   ],
   "source": [
    "# 학습\n",
    "xgb_m.fit(x_train, y_train)"
   ]
  },
  {
   "cell_type": "code",
   "execution_count": 66,
   "metadata": {
    "colab": {
     "base_uri": "https://localhost:8080/"
    },
    "executionInfo": {
     "elapsed": 311,
     "status": "ok",
     "timestamp": 1659791920373,
     "user": {
      "displayName": "한기영",
      "userId": "13049187003176135487"
     },
     "user_tz": -540
    },
    "id": "OlzkBBYjSLN4",
    "outputId": "f24162bc-e7b9-49cb-ce8c-e252d76064cd"
   },
   "outputs": [
    {
     "data": {
      "text/plain": [
       "{'learning_rate': 0.08, 'max_depth': 3, 'n_estimators': 120}"
      ]
     },
     "execution_count": 66,
     "metadata": {},
     "output_type": "execute_result"
    }
   ],
   "source": [
    "# 최적의 파라미터\n",
    "xgb_m.best_params_"
   ]
  },
  {
   "cell_type": "code",
   "execution_count": 67,
   "metadata": {
    "colab": {
     "base_uri": "https://localhost:8080/"
    },
    "executionInfo": {
     "elapsed": 5,
     "status": "ok",
     "timestamp": 1659791923400,
     "user": {
      "displayName": "한기영",
      "userId": "13049187003176135487"
     },
     "user_tz": -540
    },
    "id": "RsuRfifkSLN4",
    "outputId": "4199a3d6-24f0-4593-b5c3-cc238db3a849"
   },
   "outputs": [
    {
     "data": {
      "text/plain": [
       "0.7742082318377236"
      ]
     },
     "execution_count": 67,
     "metadata": {},
     "output_type": "execute_result"
    }
   ],
   "source": [
    "# 그때의 성능\n",
    "xgb_m.best_score_"
   ]
  },
  {
   "cell_type": "code",
   "execution_count": 68,
   "metadata": {
    "colab": {
     "base_uri": "https://localhost:8080/"
    },
    "executionInfo": {
     "elapsed": 9,
     "status": "ok",
     "timestamp": 1659791924889,
     "user": {
      "displayName": "한기영",
      "userId": "13049187003176135487"
     },
     "user_tz": -540
    },
    "id": "35jvGGcZSLN4",
    "outputId": "49223418-b41f-45c9-9f6e-57f449bcef69"
   },
   "outputs": [
    {
     "name": "stdout",
     "output_type": "stream",
     "text": [
      "RMSE :  1.2211076964862972\n",
      "MAE  :  1.0004289759000142\n",
      "MAPE :  0.3114429073992751\n"
     ]
    }
   ],
   "source": [
    "# best 모델로 예측 및 평가\n",
    "p6 = xgb_m.predict(x_val)\n",
    "print('RMSE : ', mean_squared_error(y_val, p6, squared=False))\n",
    "print('MAE  : ', mean_absolute_error(y_val, p6))\n",
    "print('MAPE : ', mean_absolute_percentage_error(y_val, p6))"
   ]
  },
  {
   "cell_type": "markdown",
   "metadata": {
    "id": "bOjRyR9WSLN5"
   },
   "source": [
    "### (6) SVM"
   ]
  },
  {
   "cell_type": "code",
   "execution_count": 132,
   "metadata": {},
   "outputs": [
    {
     "data": {
      "text/plain": [
       "{'C': array([1.00000000e-02, 2.05061224e+00, 4.09122449e+00, 6.13183673e+00,\n",
       "        8.17244898e+00, 1.02130612e+01, 1.22536735e+01, 1.42942857e+01,\n",
       "        1.63348980e+01, 1.83755102e+01, 2.04161224e+01, 2.24567347e+01,\n",
       "        2.44973469e+01, 2.65379592e+01, 2.85785714e+01, 3.06191837e+01,\n",
       "        3.26597959e+01, 3.47004082e+01, 3.67410204e+01, 3.87816327e+01,\n",
       "        4.08222449e+01, 4.28628571e+01, 4.49034694e+01, 4.69440816e+01,\n",
       "        4.89846939e+01, 5.10253061e+01, 5.30659184e+01, 5.51065306e+01,\n",
       "        5.71471429e+01, 5.91877551e+01, 6.12283673e+01, 6.32689796e+01,\n",
       "        6.53095918e+01, 6.73502041e+01, 6.93908163e+01, 7.14314286e+01,\n",
       "        7.34720408e+01, 7.55126531e+01, 7.75532653e+01, 7.95938776e+01,\n",
       "        8.16344898e+01, 8.36751020e+01, 8.57157143e+01, 8.77563265e+01,\n",
       "        8.97969388e+01, 9.18375510e+01, 9.38781633e+01, 9.59187755e+01,\n",
       "        9.79593878e+01, 1.00000000e+02]),\n",
       " 'gamma': [0.001, 0.01, 0.1, 1]}"
      ]
     },
     "execution_count": 132,
     "metadata": {},
     "output_type": "execute_result"
    }
   ],
   "source": [
    "# dictionary형태로 선언\n",
    "params = {'C' : np.linspace(0.01, 100, 50), 'gamma':[0.001,0.01,.1,1]}\n",
    "params"
   ]
  },
  {
   "cell_type": "code",
   "execution_count": 133,
   "metadata": {},
   "outputs": [],
   "source": [
    "# 기본모델\n",
    "m = SVR()\n",
    "\n",
    "# Random Search 설정.\n",
    "svm_m = GridSearchCV(m, params, cv=5)"
   ]
  },
  {
   "cell_type": "code",
   "execution_count": 134,
   "metadata": {},
   "outputs": [
    {
     "data": {
      "text/plain": [
       "GridSearchCV(cv=5, estimator=SVR(),\n",
       "             param_grid={'C': array([1.00000000e-02, 2.05061224e+00, 4.09122449e+00, 6.13183673e+00,\n",
       "       8.17244898e+00, 1.02130612e+01, 1.22536735e+01, 1.42942857e+01,\n",
       "       1.63348980e+01, 1.83755102e+01, 2.04161224e+01, 2.24567347e+01,\n",
       "       2.44973469e+01, 2.65379592e+01, 2.85785714e+01, 3.06191837e+01,\n",
       "       3.26597959e+01, 3.47004082e+01, 3.67410204e+01, 3.878163...\n",
       "       5.71471429e+01, 5.91877551e+01, 6.12283673e+01, 6.32689796e+01,\n",
       "       6.53095918e+01, 6.73502041e+01, 6.93908163e+01, 7.14314286e+01,\n",
       "       7.34720408e+01, 7.55126531e+01, 7.75532653e+01, 7.95938776e+01,\n",
       "       8.16344898e+01, 8.36751020e+01, 8.57157143e+01, 8.77563265e+01,\n",
       "       8.97969388e+01, 9.18375510e+01, 9.38781633e+01, 9.59187755e+01,\n",
       "       9.79593878e+01, 1.00000000e+02]),\n",
       "                         'gamma': [0.001, 0.01, 0.1, 1]})"
      ]
     },
     "execution_count": 134,
     "metadata": {},
     "output_type": "execute_result"
    }
   ],
   "source": [
    "# 학습\n",
    "svm_m.fit(x_train_s, y_train)"
   ]
  },
  {
   "cell_type": "code",
   "execution_count": 135,
   "metadata": {},
   "outputs": [
    {
     "data": {
      "text/plain": [
       "{'C': 100.0, 'gamma': 0.01}"
      ]
     },
     "execution_count": 135,
     "metadata": {},
     "output_type": "execute_result"
    }
   ],
   "source": [
    "# 최적의 파라미터\n",
    "svm_m.best_params_"
   ]
  },
  {
   "cell_type": "code",
   "execution_count": 136,
   "metadata": {},
   "outputs": [
    {
     "data": {
      "text/plain": [
       "0.8326708522670314"
      ]
     },
     "execution_count": 136,
     "metadata": {},
     "output_type": "execute_result"
    }
   ],
   "source": [
    "# 그때의 성능\n",
    "svm_m.best_score_"
   ]
  },
  {
   "cell_type": "code",
   "execution_count": 137,
   "metadata": {},
   "outputs": [
    {
     "name": "stdout",
     "output_type": "stream",
     "text": [
      "RMSE :  1.098761900270493\n",
      "MAE  :  0.8741765134094543\n",
      "MAPE :  0.2558053426776546\n"
     ]
    }
   ],
   "source": [
    "p7 = svm_m.predict(x_val_s)\n",
    "print('RMSE : ', mean_squared_error(y_val, p7, squared=False))\n",
    "print('MAE  : ', mean_absolute_error(y_val, p7))\n",
    "print('MAPE : ', mean_absolute_percentage_error(y_val, p7))"
   ]
  },
  {
   "cell_type": "code",
   "execution_count": null,
   "metadata": {},
   "outputs": [],
   "source": []
  },
  {
   "cell_type": "code",
   "execution_count": 138,
   "metadata": {},
   "outputs": [],
   "source": [
    "result = pd.DataFrame(svm_m.cv_results_)"
   ]
  },
  {
   "cell_type": "code",
   "execution_count": 139,
   "metadata": {},
   "outputs": [
    {
     "data": {
      "text/html": [
       "<div>\n",
       "<style scoped>\n",
       "    .dataframe tbody tr th:only-of-type {\n",
       "        vertical-align: middle;\n",
       "    }\n",
       "\n",
       "    .dataframe tbody tr th {\n",
       "        vertical-align: top;\n",
       "    }\n",
       "\n",
       "    .dataframe thead th {\n",
       "        text-align: right;\n",
       "    }\n",
       "</style>\n",
       "<table border=\"1\" class=\"dataframe\">\n",
       "  <thead>\n",
       "    <tr style=\"text-align: right;\">\n",
       "      <th></th>\n",
       "      <th>param_C</th>\n",
       "      <th>param_gamma</th>\n",
       "      <th>mean_test_score</th>\n",
       "    </tr>\n",
       "  </thead>\n",
       "  <tbody>\n",
       "    <tr>\n",
       "      <th>0</th>\n",
       "      <td>0.01</td>\n",
       "      <td>0.001</td>\n",
       "      <td>-0.014159</td>\n",
       "    </tr>\n",
       "    <tr>\n",
       "      <th>1</th>\n",
       "      <td>0.01</td>\n",
       "      <td>0.01</td>\n",
       "      <td>-0.012485</td>\n",
       "    </tr>\n",
       "    <tr>\n",
       "      <th>2</th>\n",
       "      <td>0.01</td>\n",
       "      <td>0.1</td>\n",
       "      <td>-0.001837</td>\n",
       "    </tr>\n",
       "    <tr>\n",
       "      <th>3</th>\n",
       "      <td>0.01</td>\n",
       "      <td>1</td>\n",
       "      <td>-0.006271</td>\n",
       "    </tr>\n",
       "    <tr>\n",
       "      <th>4</th>\n",
       "      <td>2.050612</td>\n",
       "      <td>0.001</td>\n",
       "      <td>0.021313</td>\n",
       "    </tr>\n",
       "  </tbody>\n",
       "</table>\n",
       "</div>"
      ],
      "text/plain": [
       "    param_C param_gamma  mean_test_score\n",
       "0      0.01       0.001        -0.014159\n",
       "1      0.01        0.01        -0.012485\n",
       "2      0.01         0.1        -0.001837\n",
       "3      0.01           1        -0.006271\n",
       "4  2.050612       0.001         0.021313"
      ]
     },
     "execution_count": 139,
     "metadata": {},
     "output_type": "execute_result"
    }
   ],
   "source": [
    "# 이 중에서 하이퍼파라미터 값에 따른 성능을 별도로 저장합시다.\n",
    "temp = result.loc[:, ['param_C','param_gamma','mean_test_score']]\n",
    "temp['param_gamma'] = temp['param_gamma'].astype('str')\n",
    "temp.head()"
   ]
  },
  {
   "cell_type": "code",
   "execution_count": 140,
   "metadata": {},
   "outputs": [
    {
     "data": {
      "image/png": "[encoded data removed]",
      "text/plain": [
       "<Figure size 864x576 with 1 Axes>"
      ]
     },
     "metadata": {
      "needs_background": "light"
     },
     "output_type": "display_data"
    }
   ],
   "source": [
    "# 이를 차트로 그려봅시다.\n",
    "plt.figure(figsize = (12,8))\n",
    "sns.lineplot(x = 'param_C', y = 'mean_test_score', data = temp, hue = 'param_gamma')\n",
    "plt.grid()\n",
    "plt.show()"
   ]
  },
  {
   "cell_type": "code",
   "execution_count": null,
   "metadata": {},
   "outputs": [],
   "source": []
  },
  {
   "cell_type": "markdown",
   "metadata": {},
   "source": [
    "### (7) 성능비교"
   ]
  },
  {
   "cell_type": "code",
   "execution_count": 141,
   "metadata": {},
   "outputs": [
    {
     "data": {
      "text/html": [
       "<div>\n",
       "<style scoped>\n",
       "    .dataframe tbody tr th:only-of-type {\n",
       "        vertical-align: middle;\n",
       "    }\n",
       "\n",
       "    .dataframe tbody tr th {\n",
       "        vertical-align: top;\n",
       "    }\n",
       "\n",
       "    .dataframe thead th {\n",
       "        text-align: right;\n",
       "    }\n",
       "</style>\n",
       "<table border=\"1\" class=\"dataframe\">\n",
       "  <thead>\n",
       "    <tr style=\"text-align: right;\">\n",
       "      <th></th>\n",
       "      <th>model_desc</th>\n",
       "      <th>RMSE</th>\n",
       "      <th>MAE</th>\n",
       "      <th>MAPE</th>\n",
       "    </tr>\n",
       "  </thead>\n",
       "  <tbody>\n",
       "    <tr>\n",
       "      <th>0</th>\n",
       "      <td>lr_selected</td>\n",
       "      <td>1.020889</td>\n",
       "      <td>0.801437</td>\n",
       "      <td>0.207853</td>\n",
       "    </tr>\n",
       "    <tr>\n",
       "      <th>1</th>\n",
       "      <td>lr_all</td>\n",
       "      <td>1.041721</td>\n",
       "      <td>0.829170</td>\n",
       "      <td>0.217355</td>\n",
       "    </tr>\n",
       "    <tr>\n",
       "      <th>2</th>\n",
       "      <td>knn</td>\n",
       "      <td>2.284024</td>\n",
       "      <td>1.875524</td>\n",
       "      <td>0.696145</td>\n",
       "    </tr>\n",
       "    <tr>\n",
       "      <th>3</th>\n",
       "      <td>dt</td>\n",
       "      <td>1.797654</td>\n",
       "      <td>1.492275</td>\n",
       "      <td>0.503244</td>\n",
       "    </tr>\n",
       "    <tr>\n",
       "      <th>4</th>\n",
       "      <td>rf</td>\n",
       "      <td>1.363802</td>\n",
       "      <td>1.107240</td>\n",
       "      <td>0.317461</td>\n",
       "    </tr>\n",
       "    <tr>\n",
       "      <th>5</th>\n",
       "      <td>xgb</td>\n",
       "      <td>1.221108</td>\n",
       "      <td>1.000429</td>\n",
       "      <td>0.311443</td>\n",
       "    </tr>\n",
       "    <tr>\n",
       "      <th>6</th>\n",
       "      <td>svm</td>\n",
       "      <td>1.098762</td>\n",
       "      <td>0.874177</td>\n",
       "      <td>0.255805</td>\n",
       "    </tr>\n",
       "  </tbody>\n",
       "</table>\n",
       "</div>"
      ],
      "text/plain": [
       "    model_desc      RMSE       MAE      MAPE\n",
       "0  lr_selected  1.020889  0.801437  0.207853\n",
       "1       lr_all  1.041721  0.829170  0.217355\n",
       "2          knn  2.284024  1.875524  0.696145\n",
       "3           dt  1.797654  1.492275  0.503244\n",
       "4           rf  1.363802  1.107240  0.317461\n",
       "5          xgb  1.221108  1.000429  0.311443\n",
       "6          svm  1.098762  0.874177  0.255805"
      ]
     },
     "execution_count": 141,
     "metadata": {},
     "output_type": "execute_result"
    }
   ],
   "source": [
    "RMSE, MAE, MAPE = [],[],[]\n",
    "model_desc = ['lr_selected', 'lr_all','knn','dt','rf','xgb','svm']\n",
    "pred = [p1, p2, p3, p4, p5, p6,p7]\n",
    "\n",
    "for i, p in enumerate(pred) :\n",
    "    RMSE.append(mean_squared_error(y_val, p, squared=False))\n",
    "    MAE.append(mean_absolute_error(y_val, p))\n",
    "    MAPE.append(mean_absolute_percentage_error(y_val, p))\n",
    "\n",
    "result = pd.DataFrame({'model_desc':model_desc,'RMSE':RMSE,'MAE':MAE,'MAPE':MAPE})\n",
    "result"
   ]
  },
  {
   "cell_type": "code",
   "execution_count": 142,
   "metadata": {},
   "outputs": [],
   "source": [
    "n_est = range(10,300,10)\n",
    "train_mae, val_mae = [],[]\n",
    "for n in n_est :\n",
    "    m = XGBRegressor(n_estimators = n) \n",
    "    m.fit(x_train, y_train)\n",
    "    tr_p, va_p = m.predict(x_train), m.predict(x_val)\n",
    "    train_mae.append(mean_absolute_error(y_train, tr_p))\n",
    "    val_mae.append(mean_absolute_error(y_val, va_p))\n",
    "    "
   ]
  },
  {
   "cell_type": "code",
   "execution_count": 146,
   "metadata": {},
   "outputs": [
    {
     "data": {
      "image/png": "[encoded data removed]",
      "text/plain": [
       "<Figure size 432x288 with 1 Axes>"
      ]
     },
     "metadata": {
      "needs_background": "light"
     },
     "output_type": "display_data"
    }
   ],
   "source": [
    "plt.plot(n_est,train_mae )\n",
    "plt.plot(n_est,val_mae )\n",
    "# plt.ylim(1.1,1.2)\n",
    "plt.grid()\n",
    "plt.show()"
   ]
  },
  {
   "cell_type": "code",
   "execution_count": null,
   "metadata": {},
   "outputs": [],
   "source": []
  }
 ],
 "metadata": {
  "colab": {
   "collapsed_sections": [],
   "name": "14과 성능 최적화 종합실습_참조.ipynb",
   "provenance": []
  },
  "kernelspec": {
   "display_name": "Python 3",
   "language": "python",
   "name": "python3"
  },
  "language_info": {
   "codemirror_mode": {
    "name": "ipython",
    "version": 3
   },
   "file_extension": ".py",
   "mimetype": "text/x-python",
   "name": "python",
   "nbconvert_exporter": "python",
   "pygments_lexer": "ipython3",
   "version": "3.8.8"
  }
 },
 "nbformat": 4,
 "nbformat_minor": 4
}
