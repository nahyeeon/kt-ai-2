{
 "cells": [
  {
   "cell_type": "markdown",
   "metadata": {
    "id": "AVG5bLhFJe6a"
   },
   "source": [
    "# Ensemble : Bagging"
   ]
  },
  {
   "cell_type": "markdown",
   "metadata": {
    "id": "O1uL0UIEzBPw"
   },
   "source": [
    "## 1.환경준비"
   ]
  },
  {
   "cell_type": "markdown",
   "metadata": {
    "id": "vNt997De17qz"
   },
   "source": [
    "### (1) import"
   ]
  },
  {
   "cell_type": "code",
   "execution_count": 1,
   "metadata": {
    "id": "GugpCLBiVHzd"
   },
   "outputs": [],
   "source": [
    "#라이브러리들을 불러오자.\n",
    "import numpy as np\n",
    "import pandas as pd\n",
    "import matplotlib.pyplot as plt\n",
    "import seaborn as sns\n",
    "\n",
    "# 전처리\n",
    "from sklearn.model_selection import train_test_split\n",
    "from sklearn.preprocessing import MinMaxScaler\n",
    "\n",
    "# 모델링\n",
    "from sklearn.tree import plot_tree\n",
    "from sklearn.ensemble import RandomForestClassifier\n",
    "from sklearn.metrics import * \n",
    "from sklearn.model_selection import RandomizedSearchCV, GridSearchCV\n",
    "\n",
    "import warnings    # 경고메시지 제외\n",
    "warnings.filterwarnings(action='ignore')"
   ]
  },
  {
   "cell_type": "markdown",
   "metadata": {
    "id": "CG-FeAY4f25C"
   },
   "source": [
    "### (2) 데이터 준비"
   ]
  },
  {
   "cell_type": "markdown",
   "metadata": {
    "id": "LGBEnPENs4Fs"
   },
   "source": [
    "* 변수설명\n",
    "    * COLLEGE : 대학 졸업여부\n",
    "    * INCOME : 연수입\n",
    "    * OVERAGE : 월평균 초과사용 시간(분)\n",
    "    * LEFTOVER : 월평균 잔여시간비율(%)\n",
    "    * HOUSE : 집값\n",
    "    * HANDSET_PRICE : 스마트폰 가격\n",
    "    * OVER_15MINS_CALLS_PER_MONTH : 월평균 장기통화(15분이상) 횟수\n",
    "    * AVERAGE_CALL_DURATION : 평균 통화 시간\n",
    "    * REPORTED_SATISFACTION : 만족도 설문조사 결과\n",
    "    * REPORTED_USAGE_LEVEL : 사용도 자가진단 결과\n",
    "    * CONSIDERING_CHANGE_OF_PLAN : 향후 변경계획 설문조사 결과\n",
    "    * CHURN : 이탈(번호이동) 여부 (1-이탈, 0-잔류, Target 변수)\n"
   ]
  },
  {
   "cell_type": "code",
   "execution_count": 2,
   "metadata": {
    "id": "8omLhiDis4Fs"
   },
   "outputs": [
    {
     "data": {
      "text/html": [
       "<div>\n",
       "<style scoped>\n",
       "    .dataframe tbody tr th:only-of-type {\n",
       "        vertical-align: middle;\n",
       "    }\n",
       "\n",
       "    .dataframe tbody tr th {\n",
       "        vertical-align: top;\n",
       "    }\n",
       "\n",
       "    .dataframe thead th {\n",
       "        text-align: right;\n",
       "    }\n",
       "</style>\n",
       "<table border=\"1\" class=\"dataframe\">\n",
       "  <thead>\n",
       "    <tr style=\"text-align: right;\">\n",
       "      <th></th>\n",
       "      <th>id</th>\n",
       "      <th>COLLEGE</th>\n",
       "      <th>INCOME</th>\n",
       "      <th>OVERAGE</th>\n",
       "      <th>LEFTOVER</th>\n",
       "      <th>HOUSE</th>\n",
       "      <th>HANDSET_PRICE</th>\n",
       "      <th>OVER_15MINS_CALLS_PER_MONTH</th>\n",
       "      <th>AVERAGE_CALL_DURATION</th>\n",
       "      <th>REPORTED_SATISFACTION</th>\n",
       "      <th>REPORTED_USAGE_LEVEL</th>\n",
       "      <th>CONSIDERING_CHANGE_OF_PLAN</th>\n",
       "      <th>CHURN</th>\n",
       "    </tr>\n",
       "  </thead>\n",
       "  <tbody>\n",
       "    <tr>\n",
       "      <th>3178</th>\n",
       "      <td>3179</td>\n",
       "      <td>0</td>\n",
       "      <td>119512</td>\n",
       "      <td>51</td>\n",
       "      <td>31</td>\n",
       "      <td>248566</td>\n",
       "      <td>229</td>\n",
       "      <td>5</td>\n",
       "      <td>2</td>\n",
       "      <td>very_sat</td>\n",
       "      <td>very_high</td>\n",
       "      <td>considering</td>\n",
       "      <td>1</td>\n",
       "    </tr>\n",
       "    <tr>\n",
       "      <th>14926</th>\n",
       "      <td>14927</td>\n",
       "      <td>1</td>\n",
       "      <td>142144</td>\n",
       "      <td>192</td>\n",
       "      <td>15</td>\n",
       "      <td>774317</td>\n",
       "      <td>581</td>\n",
       "      <td>29</td>\n",
       "      <td>4</td>\n",
       "      <td>unsat</td>\n",
       "      <td>very_little</td>\n",
       "      <td>never_thought</td>\n",
       "      <td>1</td>\n",
       "    </tr>\n",
       "    <tr>\n",
       "      <th>15116</th>\n",
       "      <td>15117</td>\n",
       "      <td>1</td>\n",
       "      <td>142308</td>\n",
       "      <td>0</td>\n",
       "      <td>79</td>\n",
       "      <td>306426</td>\n",
       "      <td>497</td>\n",
       "      <td>1</td>\n",
       "      <td>1</td>\n",
       "      <td>sat</td>\n",
       "      <td>little</td>\n",
       "      <td>considering</td>\n",
       "      <td>0</td>\n",
       "    </tr>\n",
       "    <tr>\n",
       "      <th>12733</th>\n",
       "      <td>12734</td>\n",
       "      <td>1</td>\n",
       "      <td>113385</td>\n",
       "      <td>0</td>\n",
       "      <td>0</td>\n",
       "      <td>333599</td>\n",
       "      <td>819</td>\n",
       "      <td>1</td>\n",
       "      <td>6</td>\n",
       "      <td>very_unsat</td>\n",
       "      <td>very_high</td>\n",
       "      <td>considering</td>\n",
       "      <td>1</td>\n",
       "    </tr>\n",
       "    <tr>\n",
       "      <th>14032</th>\n",
       "      <td>14033</td>\n",
       "      <td>1</td>\n",
       "      <td>90348</td>\n",
       "      <td>209</td>\n",
       "      <td>10</td>\n",
       "      <td>637286</td>\n",
       "      <td>360</td>\n",
       "      <td>26</td>\n",
       "      <td>4</td>\n",
       "      <td>unsat</td>\n",
       "      <td>little</td>\n",
       "      <td>actively_looking_into_it</td>\n",
       "      <td>0</td>\n",
       "    </tr>\n",
       "  </tbody>\n",
       "</table>\n",
       "</div>"
      ],
      "text/plain": [
       "          id  COLLEGE  INCOME  OVERAGE  LEFTOVER   HOUSE  HANDSET_PRICE  \\\n",
       "3178    3179        0  119512       51        31  248566            229   \n",
       "14926  14927        1  142144      192        15  774317            581   \n",
       "15116  15117        1  142308        0        79  306426            497   \n",
       "12733  12734        1  113385        0         0  333599            819   \n",
       "14032  14033        1   90348      209        10  637286            360   \n",
       "\n",
       "       OVER_15MINS_CALLS_PER_MONTH  AVERAGE_CALL_DURATION  \\\n",
       "3178                             5                      2   \n",
       "14926                           29                      4   \n",
       "15116                            1                      1   \n",
       "12733                            1                      6   \n",
       "14032                           26                      4   \n",
       "\n",
       "      REPORTED_SATISFACTION REPORTED_USAGE_LEVEL CONSIDERING_CHANGE_OF_PLAN  \\\n",
       "3178               very_sat            very_high                considering   \n",
       "14926                 unsat          very_little              never_thought   \n",
       "15116                   sat               little                considering   \n",
       "12733            very_unsat            very_high                considering   \n",
       "14032                 unsat               little   actively_looking_into_it   \n",
       "\n",
       "       CHURN  \n",
       "3178       1  \n",
       "14926      1  \n",
       "15116      0  \n",
       "12733      1  \n",
       "14032      0  "
      ]
     },
     "execution_count": 2,
     "metadata": {},
     "output_type": "execute_result"
    }
   ],
   "source": [
    "# 데이터를 불러옵시다.\n",
    "path = 'https://raw.githubusercontent.com/DA4BAM/dataset/master/mobile_cust_churn.csv'\n",
    "data = pd.read_csv(path)\n",
    "data = data.sample(5000, random_state = 2022)\n",
    "data['CHURN'] = data['CHURN'].map({'LEAVE':1, 'STAY':0})\n",
    "data.head()"
   ]
  },
  {
   "cell_type": "markdown",
   "metadata": {
    "id": "wW0d0eGmCYJM"
   },
   "source": [
    "## 2.데이터 준비"
   ]
  },
  {
   "cell_type": "markdown",
   "metadata": {
    "id": "y9Q6jR6OZjUk"
   },
   "source": [
    "### (1) 데이터 정리"
   ]
  },
  {
   "cell_type": "code",
   "execution_count": 3,
   "metadata": {
    "id": "Dhi6-3jgrEgQ"
   },
   "outputs": [],
   "source": [
    "drop_cols = ['id']\n",
    "data.drop(drop_cols, axis = 1, inplace = True )"
   ]
  },
  {
   "cell_type": "markdown",
   "metadata": {
    "id": "WpJEGpUuuVWm"
   },
   "source": [
    "### (2) 데이터분할1 : x, y 나누기"
   ]
  },
  {
   "cell_type": "code",
   "execution_count": 4,
   "metadata": {
    "id": "3u8-Ovu4ADVn"
   },
   "outputs": [],
   "source": [
    "target = 'CHURN'\n",
    "x = data.drop(target, axis = 1)\n",
    "y = data.loc[:, target]"
   ]
  },
  {
   "cell_type": "markdown",
   "metadata": {
    "id": "mp_5volyuaA1"
   },
   "source": [
    "### (3) NA 조치"
   ]
  },
  {
   "cell_type": "markdown",
   "metadata": {
    "id": "nOF9fSLQugGf"
   },
   "source": [
    "### (4) 가변수화"
   ]
  },
  {
   "cell_type": "code",
   "execution_count": 5,
   "metadata": {
    "id": "CZgBC2QSoKc8"
   },
   "outputs": [],
   "source": [
    "dumm_cols = ['REPORTED_SATISFACTION','REPORTED_USAGE_LEVEL','CONSIDERING_CHANGE_OF_PLAN']\n",
    "x = pd.get_dummies(x, columns = dumm_cols, drop_first = True)"
   ]
  },
  {
   "cell_type": "markdown",
   "metadata": {
    "id": "Mlz_XI5zAkke"
   },
   "source": [
    "### (5) 데이터분할2 : train : validation"
   ]
  },
  {
   "cell_type": "code",
   "execution_count": 6,
   "metadata": {
    "id": "U5_90TWnhexz"
   },
   "outputs": [],
   "source": [
    "x_train, x_val, y_train, y_val = train_test_split(x, y, test_size=.3, random_state = 2022)"
   ]
  },
  {
   "cell_type": "markdown",
   "metadata": {
    "id": "XKCwnOC5i8PV"
   },
   "source": [
    "## 3.모델링 : 랜덤포레스트\n"
   ]
  },
  {
   "cell_type": "code",
   "execution_count": 7,
   "metadata": {
    "id": "H0ddP6SlqRHv"
   },
   "outputs": [],
   "source": [
    "# 모델 선언 # 현장에서 많이씀(성능이 좋기때문)\n",
    "model = RandomForestClassifier(n_estimators = 5, max_depth = 3) # 트리 다섯개를 3번씩 탐색 -->default는 100개"
   ]
  },
  {
   "cell_type": "code",
   "execution_count": 8,
   "metadata": {
    "id": "ZTVihfwNqRHx"
   },
   "outputs": [
    {
     "data": {
      "text/plain": [
       "RandomForestClassifier(max_depth=3, n_estimators=5)"
      ]
     },
     "execution_count": 8,
     "metadata": {},
     "output_type": "execute_result"
    }
   ],
   "source": [
    "# 학습\n",
    "model.fit(x_train, y_train)"
   ]
  },
  {
   "cell_type": "code",
   "execution_count": 9,
   "metadata": {
    "id": "2gXzn8Qa5NQS"
   },
   "outputs": [],
   "source": [
    "# 예측\n",
    "pred = model.predict(x_val)"
   ]
  },
  {
   "cell_type": "code",
   "execution_count": 10,
   "metadata": {
    "id": "322ZrUXr5NQS"
   },
   "outputs": [
    {
     "name": "stdout",
     "output_type": "stream",
     "text": [
      "              precision    recall  f1-score   support\n",
      "\n",
      "           0       0.67      0.76      0.71       769\n",
      "           1       0.71      0.61      0.65       731\n",
      "\n",
      "    accuracy                           0.69      1500\n",
      "   macro avg       0.69      0.68      0.68      1500\n",
      "weighted avg       0.69      0.69      0.68      1500\n",
      "\n"
     ]
    }
   ],
   "source": [
    "# 평가\n",
    "print(classification_report(y_val, pred))"
   ]
  },
  {
   "cell_type": "code",
   "execution_count": null,
   "metadata": {},
   "outputs": [],
   "source": []
  },
  {
   "cell_type": "markdown",
   "metadata": {
    "id": "VIBByHoq5UnD"
   },
   "source": [
    "## 4.시각화와 변수중요도"
   ]
  },
  {
   "cell_type": "markdown",
   "metadata": {
    "id": "l7HDjalZvn5V"
   },
   "source": [
    "### (1) 모델의 내부를 살펴봅시다."
   ]
  },
  {
   "cell_type": "code",
   "execution_count": 11,
   "metadata": {
    "id": "aFIZR3G2lHNx"
   },
   "outputs": [
    {
     "data": {
      "text/plain": [
       "array([0., 0., 0., ..., 1., 0., 1.])"
      ]
     },
     "execution_count": 11,
     "metadata": {},
     "output_type": "execute_result"
    }
   ],
   "source": [
    "# 5개 decision tree\n",
    "model.estimators_[4].predict(x_val)"
   ]
  },
  {
   "cell_type": "code",
   "execution_count": 12,
   "metadata": {
    "id": "lrMz1G6AlHb3"
   },
   "outputs": [
    {
     "data": {
      "image/png": "[encoded data removed]",
      "text/plain": [
       "<Figure size 1440x432 with 1 Axes>"
      ]
     },
     "metadata": {
      "needs_background": "light"
     },
     "output_type": "display_data"
    }
   ],
   "source": [
    "# 각 트리별로 시각화 할 수 있다.\n",
    "plt.figure(figsize=(20,6))\n",
    "plot_tree(model.estimators_[0], \n",
    "               feature_names = x_train.columns,\n",
    "               class_names= ['LEAVE','STAY'], \n",
    "               filled = True, fontsize = 8);"
   ]
  },
  {
   "cell_type": "markdown",
   "metadata": {
    "id": "1A3IrSloyvMc"
   },
   "source": [
    "### (2) 변수 중요도"
   ]
  },
  {
   "cell_type": "code",
   "execution_count": 13,
   "metadata": {
    "id": "yMzgMkHix8hH",
    "tags": []
   },
   "outputs": [
    {
     "name": "stdout",
     "output_type": "stream",
     "text": [
      "Index(['COLLEGE', 'INCOME', 'OVERAGE', 'LEFTOVER', 'HOUSE', 'HANDSET_PRICE',\n",
      "       'OVER_15MINS_CALLS_PER_MONTH', 'AVERAGE_CALL_DURATION',\n",
      "       'REPORTED_SATISFACTION_sat', 'REPORTED_SATISFACTION_unsat',\n",
      "       'REPORTED_SATISFACTION_very_sat', 'REPORTED_SATISFACTION_very_unsat',\n",
      "       'REPORTED_USAGE_LEVEL_high', 'REPORTED_USAGE_LEVEL_little',\n",
      "       'REPORTED_USAGE_LEVEL_very_high', 'REPORTED_USAGE_LEVEL_very_little',\n",
      "       'CONSIDERING_CHANGE_OF_PLAN_considering',\n",
      "       'CONSIDERING_CHANGE_OF_PLAN_never_thought',\n",
      "       'CONSIDERING_CHANGE_OF_PLAN_no', 'CONSIDERING_CHANGE_OF_PLAN_perhaps'],\n",
      "      dtype='object')\n",
      "[0.00632559 0.03497305 0.11169374 0.14864303 0.29537025 0.10510735\n",
      " 0.2483091  0.02510056 0.00866096 0.00976112 0.         0.\n",
      " 0.         0.         0.         0.         0.00095003 0.00150534\n",
      " 0.         0.00359987]\n"
     ]
    }
   ],
   "source": [
    "# 변수 중요도\n",
    "print(x_train.columns)\n",
    "print(model.feature_importances_)"
   ]
  },
  {
   "cell_type": "markdown",
   "metadata": {
    "id": "sWJZioD01kne"
   },
   "source": [
    "* 변수중요도 그래프 그리기 함수 만들기"
   ]
  },
  {
   "cell_type": "code",
   "execution_count": 14,
   "metadata": {
    "id": "U2yhFi1Z1mx5"
   },
   "outputs": [],
   "source": [
    "def plot_feature_importance(importance, names):\n",
    "    feature_importance = np.array(importance)\n",
    "    feature_names = np.array(names)\n",
    "\n",
    "    data={'feature_names':feature_names,'feature_importance':feature_importance}\n",
    "    fi_df = pd.DataFrame(data)\n",
    "\n",
    "    fi_df.sort_values(by=['feature_importance'], ascending=False,inplace=True)\n",
    "    fi_df.reset_index(drop=True, inplace = True)\n",
    "\n",
    "    plt.figure(figsize=(10,8))\n",
    "    sns.barplot(x='feature_importance', y='feature_names', data = fi_df)\n",
    "\n",
    "    plt.xlabel('FEATURE IMPORTANCE')\n",
    "    plt.ylabel('FEATURE NAMES')\n",
    "    plt.grid()\n",
    "\n",
    "    return fi_df"
   ]
  },
  {
   "cell_type": "code",
   "execution_count": 15,
   "metadata": {
    "id": "zp9JdYhF16Kl"
   },
   "outputs": [
    {
     "data": {
      "image/png": "[encoded data removed]",
      "text/plain": [
       "<Figure size 720x576 with 1 Axes>"
      ]
     },
     "metadata": {
      "needs_background": "light"
     },
     "output_type": "display_data"
    }
   ],
   "source": [
    "result = plot_feature_importance(model.feature_importances_, x_train.columns)"
   ]
  },
  {
   "cell_type": "markdown",
   "metadata": {
    "id": "FMsEXaw3jKWc"
   },
   "source": [
    "## 5.실습: random forest 튜닝\n",
    "\n",
    "* grid search를 수행합니다.\n",
    "    * ① n_estimators 의 갯수를 5 ~ 200까지 5개씩 증가시켜가며 튜닝해 봅시다.\n",
    "    * ② max_features를 1 ~ feature갯수까지 1씩 증가시켜가며 튜닝해 봅시다.\n",
    "    * ③ n_estimators, max_features를 동시에 튜닝.\n",
    "\n",
    "* 모델링 후 cv 평가 결과를 차트로 그려봅시다. \n",
    "* 튜닝된 모델로 부터 변수중요도를 뽑아 봅시다.\n"
   ]
  },
  {
   "cell_type": "markdown",
   "metadata": {
    "id": "ZBvc-UZbDKdF"
   },
   "source": [
    "### (1) n_estimators 튜닝"
   ]
  },
  {
   "cell_type": "code",
   "execution_count": 16,
   "metadata": {
    "id": "Vnc2DixK8zIY"
   },
   "outputs": [],
   "source": [
    "parmas = {'n_estimators':range(5,201,5)}"
   ]
  },
  {
   "cell_type": "code",
   "execution_count": 17,
   "metadata": {
    "id": "wkbEfOTC8zFt"
   },
   "outputs": [],
   "source": [
    "m = RandomForestClassifier()\n",
    "m_gs1 = GridSearchCV(m, parmas, cv=5, verbose=3)"
   ]
  },
  {
   "cell_type": "code",
   "execution_count": 18,
   "metadata": {
    "collapsed": true,
    "id": "woHm6dFw8zC0",
    "jupyter": {
     "outputs_hidden": true
    },
    "tags": []
   },
   "outputs": [
    {
     "name": "stdout",
     "output_type": "stream",
     "text": [
      "Fitting 5 folds for each of 40 candidates, totalling 200 fits\n",
      "[CV 1/5] END .................................n_estimators=5; total time=   0.0s\n",
      "[CV 2/5] END .................................n_estimators=5; total time=   0.0s\n",
      "[CV 3/5] END .................................n_estimators=5; total time=   0.0s\n",
      "[CV 4/5] END .................................n_estimators=5; total time=   0.0s\n",
      "[CV 5/5] END .................................n_estimators=5; total time=   0.0s\n",
      "[CV 1/5] END ................................n_estimators=10; total time=   0.0s\n",
      "[CV 2/5] END ................................n_estimators=10; total time=   0.0s\n",
      "[CV 3/5] END ................................n_estimators=10; total time=   0.0s\n",
      "[CV 4/5] END ................................n_estimators=10; total time=   0.0s\n",
      "[CV 5/5] END ................................n_estimators=10; total time=   0.0s\n",
      "[CV 1/5] END ................................n_estimators=15; total time=   0.0s\n",
      "[CV 2/5] END ................................n_estimators=15; total time=   0.0s\n",
      "[CV 3/5] END ................................n_estimators=15; total time=   0.0s\n",
      "[CV 4/5] END ................................n_estimators=15; total time=   0.0s\n",
      "[CV 5/5] END ................................n_estimators=15; total time=   0.0s\n",
      "[CV 1/5] END ................................n_estimators=20; total time=   0.0s\n",
      "[CV 2/5] END ................................n_estimators=20; total time=   0.0s\n",
      "[CV 3/5] END ................................n_estimators=20; total time=   0.0s\n",
      "[CV 4/5] END ................................n_estimators=20; total time=   0.0s\n",
      "[CV 5/5] END ................................n_estimators=20; total time=   0.0s\n",
      "[CV 1/5] END ................................n_estimators=25; total time=   0.0s\n",
      "[CV 2/5] END ................................n_estimators=25; total time=   0.1s\n",
      "[CV 3/5] END ................................n_estimators=25; total time=   0.1s\n",
      "[CV 4/5] END ................................n_estimators=25; total time=   0.1s\n",
      "[CV 5/5] END ................................n_estimators=25; total time=   0.0s\n",
      "[CV 1/5] END ................................n_estimators=30; total time=   0.1s\n",
      "[CV 2/5] END ................................n_estimators=30; total time=   0.1s\n",
      "[CV 3/5] END ................................n_estimators=30; total time=   0.1s\n",
      "[CV 4/5] END ................................n_estimators=30; total time=   0.1s\n",
      "[CV 5/5] END ................................n_estimators=30; total time=   0.1s\n",
      "[CV 1/5] END ................................n_estimators=35; total time=   0.1s\n",
      "[CV 2/5] END ................................n_estimators=35; total time=   0.1s\n",
      "[CV 3/5] END ................................n_estimators=35; total time=   0.1s\n",
      "[CV 4/5] END ................................n_estimators=35; total time=   0.1s\n",
      "[CV 5/5] END ................................n_estimators=35; total time=   0.1s\n",
      "[CV 1/5] END ................................n_estimators=40; total time=   0.1s\n",
      "[CV 2/5] END ................................n_estimators=40; total time=   0.1s\n",
      "[CV 3/5] END ................................n_estimators=40; total time=   0.1s\n",
      "[CV 4/5] END ................................n_estimators=40; total time=   0.2s\n",
      "[CV 5/5] END ................................n_estimators=40; total time=   0.2s\n",
      "[CV 1/5] END ................................n_estimators=45; total time=   0.2s\n",
      "[CV 2/5] END ................................n_estimators=45; total time=   0.1s\n",
      "[CV 3/5] END ................................n_estimators=45; total time=   0.2s\n",
      "[CV 4/5] END ................................n_estimators=45; total time=   0.2s\n",
      "[CV 5/5] END ................................n_estimators=45; total time=   0.2s\n",
      "[CV 1/5] END ................................n_estimators=50; total time=   0.2s\n",
      "[CV 2/5] END ................................n_estimators=50; total time=   0.2s\n",
      "[CV 3/5] END ................................n_estimators=50; total time=   0.2s\n",
      "[CV 4/5] END ................................n_estimators=50; total time=   0.2s\n",
      "[CV 5/5] END ................................n_estimators=50; total time=   0.2s\n",
      "[CV 1/5] END ................................n_estimators=55; total time=   0.2s\n",
      "[CV 2/5] END ................................n_estimators=55; total time=   0.2s\n",
      "[CV 3/5] END ................................n_estimators=55; total time=   0.2s\n",
      "[CV 4/5] END ................................n_estimators=55; total time=   0.2s\n",
      "[CV 5/5] END ................................n_estimators=55; total time=   0.2s\n",
      "[CV 1/5] END ................................n_estimators=60; total time=   0.2s\n",
      "[CV 2/5] END ................................n_estimators=60; total time=   0.3s\n",
      "[CV 3/5] END ................................n_estimators=60; total time=   0.2s\n",
      "[CV 4/5] END ................................n_estimators=60; total time=   0.3s\n",
      "[CV 5/5] END ................................n_estimators=60; total time=   0.2s\n",
      "[CV 1/5] END ................................n_estimators=65; total time=   0.3s\n",
      "[CV 2/5] END ................................n_estimators=65; total time=   0.3s\n",
      "[CV 3/5] END ................................n_estimators=65; total time=   0.3s\n",
      "[CV 4/5] END ................................n_estimators=65; total time=   0.3s\n",
      "[CV 5/5] END ................................n_estimators=65; total time=   0.3s\n",
      "[CV 1/5] END ................................n_estimators=70; total time=   0.3s\n",
      "[CV 2/5] END ................................n_estimators=70; total time=   0.3s\n",
      "[CV 3/5] END ................................n_estimators=70; total time=   0.2s\n",
      "[CV 4/5] END ................................n_estimators=70; total time=   0.3s\n",
      "[CV 5/5] END ................................n_estimators=70; total time=   0.3s\n",
      "[CV 1/5] END ................................n_estimators=75; total time=   0.4s\n",
      "[CV 2/5] END ................................n_estimators=75; total time=   0.3s\n",
      "[CV 3/5] END ................................n_estimators=75; total time=   0.3s\n",
      "[CV 4/5] END ................................n_estimators=75; total time=   0.3s\n",
      "[CV 5/5] END ................................n_estimators=75; total time=   0.3s\n",
      "[CV 1/5] END ................................n_estimators=80; total time=   0.3s\n",
      "[CV 2/5] END ................................n_estimators=80; total time=   0.3s\n",
      "[CV 3/5] END ................................n_estimators=80; total time=   0.4s\n",
      "[CV 4/5] END ................................n_estimators=80; total time=   0.4s\n",
      "[CV 5/5] END ................................n_estimators=80; total time=   0.3s\n",
      "[CV 1/5] END ................................n_estimators=85; total time=   0.3s\n",
      "[CV 2/5] END ................................n_estimators=85; total time=   0.3s\n",
      "[CV 3/5] END ................................n_estimators=85; total time=   0.4s\n",
      "[CV 4/5] END ................................n_estimators=85; total time=   0.3s\n",
      "[CV 5/5] END ................................n_estimators=85; total time=   0.3s\n",
      "[CV 1/5] END ................................n_estimators=90; total time=   0.4s\n",
      "[CV 2/5] END ................................n_estimators=90; total time=   0.4s\n",
      "[CV 3/5] END ................................n_estimators=90; total time=   0.4s\n",
      "[CV 4/5] END ................................n_estimators=90; total time=   0.3s\n",
      "[CV 5/5] END ................................n_estimators=90; total time=   0.3s\n",
      "[CV 1/5] END ................................n_estimators=95; total time=   0.4s\n",
      "[CV 2/5] END ................................n_estimators=95; total time=   0.4s\n",
      "[CV 3/5] END ................................n_estimators=95; total time=   0.4s\n",
      "[CV 4/5] END ................................n_estimators=95; total time=   0.5s\n",
      "[CV 5/5] END ................................n_estimators=95; total time=   0.4s\n",
      "[CV 1/5] END ...............................n_estimators=100; total time=   0.5s\n",
      "[CV 2/5] END ...............................n_estimators=100; total time=   0.4s\n",
      "[CV 3/5] END ...............................n_estimators=100; total time=   0.4s\n",
      "[CV 4/5] END ...............................n_estimators=100; total time=   0.4s\n",
      "[CV 5/5] END ...............................n_estimators=100; total time=   0.4s\n",
      "[CV 1/5] END ...............................n_estimators=105; total time=   0.5s\n",
      "[CV 2/5] END ...............................n_estimators=105; total time=   0.4s\n",
      "[CV 3/5] END ...............................n_estimators=105; total time=   0.4s\n",
      "[CV 4/5] END ...............................n_estimators=105; total time=   0.5s\n",
      "[CV 5/5] END ...............................n_estimators=105; total time=   0.5s\n",
      "[CV 1/5] END ...............................n_estimators=110; total time=   0.6s\n",
      "[CV 2/5] END ...............................n_estimators=110; total time=   0.5s\n",
      "[CV 3/5] END ...............................n_estimators=110; total time=   0.5s\n",
      "[CV 4/5] END ...............................n_estimators=110; total time=   0.5s\n",
      "[CV 5/5] END ...............................n_estimators=110; total time=   0.5s\n",
      "[CV 1/5] END ...............................n_estimators=115; total time=   0.5s\n",
      "[CV 2/5] END ...............................n_estimators=115; total time=   0.7s\n",
      "[CV 3/5] END ...............................n_estimators=115; total time=   0.5s\n",
      "[CV 4/5] END ...............................n_estimators=115; total time=   0.6s\n",
      "[CV 5/5] END ...............................n_estimators=115; total time=   0.7s\n",
      "[CV 1/5] END ...............................n_estimators=120; total time=   0.6s\n",
      "[CV 2/5] END ...............................n_estimators=120; total time=   0.5s\n",
      "[CV 3/5] END ...............................n_estimators=120; total time=   0.5s\n",
      "[CV 4/5] END ...............................n_estimators=120; total time=   0.6s\n",
      "[CV 5/5] END ...............................n_estimators=120; total time=   0.6s\n",
      "[CV 1/5] END ...............................n_estimators=125; total time=   0.5s\n",
      "[CV 2/5] END ...............................n_estimators=125; total time=   0.5s\n",
      "[CV 3/5] END ...............................n_estimators=125; total time=   0.5s\n",
      "[CV 4/5] END ...............................n_estimators=125; total time=   0.5s\n",
      "[CV 5/5] END ...............................n_estimators=125; total time=   0.5s\n",
      "[CV 1/5] END ...............................n_estimators=130; total time=   0.5s\n",
      "[CV 2/5] END ...............................n_estimators=130; total time=   0.6s\n",
      "[CV 3/5] END ...............................n_estimators=130; total time=   0.6s\n",
      "[CV 4/5] END ...............................n_estimators=130; total time=   0.5s\n",
      "[CV 5/5] END ...............................n_estimators=130; total time=   0.5s\n",
      "[CV 1/5] END ...............................n_estimators=135; total time=   0.6s\n",
      "[CV 2/5] END ...............................n_estimators=135; total time=   0.6s\n",
      "[CV 3/5] END ...............................n_estimators=135; total time=   0.6s\n",
      "[CV 4/5] END ...............................n_estimators=135; total time=   0.6s\n",
      "[CV 5/5] END ...............................n_estimators=135; total time=   0.6s\n",
      "[CV 1/5] END ...............................n_estimators=140; total time=   0.7s\n",
      "[CV 2/5] END ...............................n_estimators=140; total time=   0.6s\n",
      "[CV 3/5] END ...............................n_estimators=140; total time=   0.7s\n",
      "[CV 4/5] END ...............................n_estimators=140; total time=   0.7s\n",
      "[CV 5/5] END ...............................n_estimators=140; total time=   0.6s\n",
      "[CV 1/5] END ...............................n_estimators=145; total time=   0.8s\n",
      "[CV 2/5] END ...............................n_estimators=145; total time=   0.8s\n",
      "[CV 3/5] END ...............................n_estimators=145; total time=   0.8s\n",
      "[CV 4/5] END ...............................n_estimators=145; total time=   0.7s\n",
      "[CV 5/5] END ...............................n_estimators=145; total time=   0.7s\n",
      "[CV 1/5] END ...............................n_estimators=150; total time=   0.7s\n",
      "[CV 2/5] END ...............................n_estimators=150; total time=   0.7s\n",
      "[CV 3/5] END ...............................n_estimators=150; total time=   0.7s\n",
      "[CV 4/5] END ...............................n_estimators=150; total time=   0.7s\n",
      "[CV 5/5] END ...............................n_estimators=150; total time=   0.7s\n",
      "[CV 1/5] END ...............................n_estimators=155; total time=   0.7s\n",
      "[CV 2/5] END ...............................n_estimators=155; total time=   0.7s\n",
      "[CV 3/5] END ...............................n_estimators=155; total time=   0.7s\n",
      "[CV 4/5] END ...............................n_estimators=155; total time=   0.7s\n",
      "[CV 5/5] END ...............................n_estimators=155; total time=   0.7s\n",
      "[CV 1/5] END ...............................n_estimators=160; total time=   0.8s\n",
      "[CV 2/5] END ...............................n_estimators=160; total time=   0.7s\n",
      "[CV 3/5] END ...............................n_estimators=160; total time=   0.8s\n",
      "[CV 4/5] END ...............................n_estimators=160; total time=   0.8s\n",
      "[CV 5/5] END ...............................n_estimators=160; total time=   0.7s\n",
      "[CV 1/5] END ...............................n_estimators=165; total time=   0.7s\n",
      "[CV 2/5] END ...............................n_estimators=165; total time=   0.8s\n",
      "[CV 3/5] END ...............................n_estimators=165; total time=   0.8s\n",
      "[CV 4/5] END ...............................n_estimators=165; total time=   0.9s\n",
      "[CV 5/5] END ...............................n_estimators=165; total time=   0.9s\n",
      "[CV 1/5] END ...............................n_estimators=170; total time=   0.8s\n",
      "[CV 2/5] END ...............................n_estimators=170; total time=   0.9s\n",
      "[CV 3/5] END ...............................n_estimators=170; total time=   0.9s\n",
      "[CV 4/5] END ...............................n_estimators=170; total time=   0.9s\n",
      "[CV 5/5] END ...............................n_estimators=170; total time=   0.9s\n",
      "[CV 1/5] END ...............................n_estimators=175; total time=   0.8s\n",
      "[CV 2/5] END ...............................n_estimators=175; total time=   0.8s\n",
      "[CV 3/5] END ...............................n_estimators=175; total time=   0.9s\n",
      "[CV 4/5] END ...............................n_estimators=175; total time=   0.8s\n",
      "[CV 5/5] END ...............................n_estimators=175; total time=   0.9s\n",
      "[CV 1/5] END ...............................n_estimators=180; total time=   0.9s\n",
      "[CV 2/5] END ...............................n_estimators=180; total time=   0.9s\n",
      "[CV 3/5] END ...............................n_estimators=180; total time=   0.9s\n",
      "[CV 4/5] END ...............................n_estimators=180; total time=   0.8s\n",
      "[CV 5/5] END ...............................n_estimators=180; total time=   0.8s\n",
      "[CV 1/5] END ...............................n_estimators=185; total time=   0.8s\n",
      "[CV 2/5] END ...............................n_estimators=185; total time=   0.8s\n",
      "[CV 3/5] END ...............................n_estimators=185; total time=   0.8s\n",
      "[CV 4/5] END ...............................n_estimators=185; total time=   1.0s\n",
      "[CV 5/5] END ...............................n_estimators=185; total time=   0.9s\n",
      "[CV 1/5] END ...............................n_estimators=190; total time=   0.9s\n",
      "[CV 2/5] END ...............................n_estimators=190; total time=   0.9s\n",
      "[CV 3/5] END ...............................n_estimators=190; total time=   1.0s\n",
      "[CV 4/5] END ...............................n_estimators=190; total time=   1.1s\n",
      "[CV 5/5] END ...............................n_estimators=190; total time=   1.4s\n",
      "[CV 1/5] END ...............................n_estimators=195; total time=   1.3s\n",
      "[CV 2/5] END ...............................n_estimators=195; total time=   1.1s\n",
      "[CV 3/5] END ...............................n_estimators=195; total time=   1.1s\n",
      "[CV 4/5] END ...............................n_estimators=195; total time=   1.0s\n",
      "[CV 5/5] END ...............................n_estimators=195; total time=   1.4s\n",
      "[CV 1/5] END ...............................n_estimators=200; total time=   1.0s\n",
      "[CV 2/5] END ...............................n_estimators=200; total time=   1.1s\n",
      "[CV 3/5] END ...............................n_estimators=200; total time=   1.0s\n",
      "[CV 4/5] END ...............................n_estimators=200; total time=   1.0s\n",
      "[CV 5/5] END ...............................n_estimators=200; total time=   0.9s\n"
     ]
    },
    {
     "data": {
      "text/plain": [
       "GridSearchCV(cv=5, estimator=RandomForestClassifier(),\n",
       "             param_grid={'n_estimators': range(5, 201, 5)}, verbose=3)"
      ]
     },
     "execution_count": 18,
     "metadata": {},
     "output_type": "execute_result"
    }
   ],
   "source": [
    "m_gs1.fit(x_train,y_train)"
   ]
  },
  {
   "cell_type": "code",
   "execution_count": 19,
   "metadata": {
    "id": "StpzYtke8y_4"
   },
   "outputs": [
    {
     "data": {
      "text/plain": [
       "(0.6934285714285714, {'n_estimators': 80})"
      ]
     },
     "execution_count": 19,
     "metadata": {},
     "output_type": "execute_result"
    }
   ],
   "source": [
    "m_gs1.best_score_, m_gs1.best_params_"
   ]
  },
  {
   "cell_type": "code",
   "execution_count": 20,
   "metadata": {
    "id": "GZjjY8cQ8y8s",
    "tags": []
   },
   "outputs": [
    {
     "name": "stdout",
     "output_type": "stream",
     "text": [
      "              precision    recall  f1-score   support\n",
      "\n",
      "           0       0.71      0.71      0.71       769\n",
      "           1       0.70      0.69      0.69       731\n",
      "\n",
      "    accuracy                           0.70      1500\n",
      "   macro avg       0.70      0.70      0.70      1500\n",
      "weighted avg       0.70      0.70      0.70      1500\n",
      "\n"
     ]
    }
   ],
   "source": [
    "p1 = m_gs1.predict(x_val)\n",
    "print(classification_report(y_val,p1))"
   ]
  },
  {
   "cell_type": "code",
   "execution_count": 21,
   "metadata": {
    "collapsed": true,
    "jupyter": {
     "outputs_hidden": true
    },
    "tags": []
   },
   "outputs": [
    {
     "data": {
      "text/html": [
       "<div>\n",
       "<style scoped>\n",
       "    .dataframe tbody tr th:only-of-type {\n",
       "        vertical-align: middle;\n",
       "    }\n",
       "\n",
       "    .dataframe tbody tr th {\n",
       "        vertical-align: top;\n",
       "    }\n",
       "\n",
       "    .dataframe thead th {\n",
       "        text-align: right;\n",
       "    }\n",
       "</style>\n",
       "<table border=\"1\" class=\"dataframe\">\n",
       "  <thead>\n",
       "    <tr style=\"text-align: right;\">\n",
       "      <th></th>\n",
       "      <th>param_n_estimators</th>\n",
       "      <th>mean_test_score</th>\n",
       "    </tr>\n",
       "  </thead>\n",
       "  <tbody>\n",
       "    <tr>\n",
       "      <th>0</th>\n",
       "      <td>5</td>\n",
       "      <td>0.629429</td>\n",
       "    </tr>\n",
       "    <tr>\n",
       "      <th>1</th>\n",
       "      <td>10</td>\n",
       "      <td>0.643714</td>\n",
       "    </tr>\n",
       "    <tr>\n",
       "      <th>2</th>\n",
       "      <td>15</td>\n",
       "      <td>0.674000</td>\n",
       "    </tr>\n",
       "    <tr>\n",
       "      <th>3</th>\n",
       "      <td>20</td>\n",
       "      <td>0.670571</td>\n",
       "    </tr>\n",
       "    <tr>\n",
       "      <th>4</th>\n",
       "      <td>25</td>\n",
       "      <td>0.669429</td>\n",
       "    </tr>\n",
       "  </tbody>\n",
       "</table>\n",
       "</div>"
      ],
      "text/plain": [
       "  param_n_estimators  mean_test_score\n",
       "0                  5         0.629429\n",
       "1                 10         0.643714\n",
       "2                 15         0.674000\n",
       "3                 20         0.670571\n",
       "4                 25         0.669429"
      ]
     },
     "execution_count": 21,
     "metadata": {},
     "output_type": "execute_result"
    }
   ],
   "source": [
    "# 튜닝 결과를 데이터프레임으로 저장\n",
    "result = pd.DataFrame(m_gs1.cv_results_)\n",
    "temp = result.loc[:, ['param_n_estimators', 'mean_test_score']]\n",
    "temp.head()"
   ]
  },
  {
   "cell_type": "code",
   "execution_count": 22,
   "metadata": {
    "collapsed": true,
    "jupyter": {
     "outputs_hidden": true
    },
    "tags": []
   },
   "outputs": [
    {
     "data": {
      "image/png": "[encoded data removed]",
      "text/plain": [
       "<Figure size 864x576 with 1 Axes>"
      ]
     },
     "metadata": {
      "needs_background": "light"
     },
     "output_type": "display_data"
    }
   ],
   "source": [
    "plt.figure(figsize = (12,8))\n",
    "plt.plot('param_n_estimators', 'mean_test_score', data = temp)\n",
    "plt.grid()\n",
    "plt.show()"
   ]
  },
  {
   "cell_type": "markdown",
   "metadata": {
    "id": "s5pialxTDU9z"
   },
   "source": [
    "### (2) max_features 튜닝"
   ]
  },
  {
   "cell_type": "markdown",
   "metadata": {},
   "source": [
    "② max_features를 1 ~ feature갯수까지 1씩 증가시켜가며 튜닝해 봅시다."
   ]
  },
  {
   "cell_type": "code",
   "execution_count": 23,
   "metadata": {
    "id": "6l46BbIJ806i"
   },
   "outputs": [],
   "source": [
    "f = len(data.columns)\n",
    "params = {'max_features' : range(1,f)}"
   ]
  },
  {
   "cell_type": "code",
   "execution_count": 24,
   "metadata": {
    "collapsed": true,
    "id": "yg4ptiEJ80wW",
    "jupyter": {
     "outputs_hidden": true
    },
    "tags": []
   },
   "outputs": [
    {
     "name": "stdout",
     "output_type": "stream",
     "text": [
      "Fitting 5 folds for each of 11 candidates, totalling 55 fits\n",
      "[CV 1/5] END .................................max_features=1; total time=   0.3s\n",
      "[CV 2/5] END .................................max_features=1; total time=   0.5s\n",
      "[CV 3/5] END .................................max_features=1; total time=   0.4s\n",
      "[CV 4/5] END .................................max_features=1; total time=   0.4s\n",
      "[CV 5/5] END .................................max_features=1; total time=   0.3s\n",
      "[CV 1/5] END .................................max_features=2; total time=   0.4s\n",
      "[CV 2/5] END .................................max_features=2; total time=   0.5s\n",
      "[CV 3/5] END .................................max_features=2; total time=   0.5s\n",
      "[CV 4/5] END .................................max_features=2; total time=   0.4s\n",
      "[CV 5/5] END .................................max_features=2; total time=   0.4s\n",
      "[CV 1/5] END .................................max_features=3; total time=   0.4s\n",
      "[CV 2/5] END .................................max_features=3; total time=   0.5s\n",
      "[CV 3/5] END .................................max_features=3; total time=   0.4s\n",
      "[CV 4/5] END .................................max_features=3; total time=   0.4s\n",
      "[CV 5/5] END .................................max_features=3; total time=   0.4s\n",
      "[CV 1/5] END .................................max_features=4; total time=   0.5s\n",
      "[CV 2/5] END .................................max_features=4; total time=   0.5s\n",
      "[CV 3/5] END .................................max_features=4; total time=   0.5s\n",
      "[CV 4/5] END .................................max_features=4; total time=   0.5s\n",
      "[CV 5/5] END .................................max_features=4; total time=   0.4s\n",
      "[CV 1/5] END .................................max_features=5; total time=   0.6s\n",
      "[CV 2/5] END .................................max_features=5; total time=   0.5s\n",
      "[CV 3/5] END .................................max_features=5; total time=   0.5s\n",
      "[CV 4/5] END .................................max_features=5; total time=   0.5s\n",
      "[CV 5/5] END .................................max_features=5; total time=   0.5s\n",
      "[CV 1/5] END .................................max_features=6; total time=   0.6s\n",
      "[CV 2/5] END .................................max_features=6; total time=   0.6s\n",
      "[CV 3/5] END .................................max_features=6; total time=   0.6s\n",
      "[CV 4/5] END .................................max_features=6; total time=   0.6s\n",
      "[CV 5/5] END .................................max_features=6; total time=   0.7s\n",
      "[CV 1/5] END .................................max_features=7; total time=   0.7s\n",
      "[CV 2/5] END .................................max_features=7; total time=   0.7s\n",
      "[CV 3/5] END .................................max_features=7; total time=   0.9s\n",
      "[CV 4/5] END .................................max_features=7; total time=   0.9s\n",
      "[CV 5/5] END .................................max_features=7; total time=   0.6s\n",
      "[CV 1/5] END .................................max_features=8; total time=   0.8s\n",
      "[CV 2/5] END .................................max_features=8; total time=   0.7s\n",
      "[CV 3/5] END .................................max_features=8; total time=   0.7s\n",
      "[CV 4/5] END .................................max_features=8; total time=   0.7s\n",
      "[CV 5/5] END .................................max_features=8; total time=   0.7s\n",
      "[CV 1/5] END .................................max_features=9; total time=   0.7s\n",
      "[CV 2/5] END .................................max_features=9; total time=   0.8s\n",
      "[CV 3/5] END .................................max_features=9; total time=   0.7s\n",
      "[CV 4/5] END .................................max_features=9; total time=   0.8s\n",
      "[CV 5/5] END .................................max_features=9; total time=   0.7s\n",
      "[CV 1/5] END ................................max_features=10; total time=   0.8s\n",
      "[CV 2/5] END ................................max_features=10; total time=   0.8s\n",
      "[CV 3/5] END ................................max_features=10; total time=   0.8s\n",
      "[CV 4/5] END ................................max_features=10; total time=   0.8s\n",
      "[CV 5/5] END ................................max_features=10; total time=   0.8s\n",
      "[CV 1/5] END ................................max_features=11; total time=   0.9s\n",
      "[CV 2/5] END ................................max_features=11; total time=   0.9s\n",
      "[CV 3/5] END ................................max_features=11; total time=   0.9s\n",
      "[CV 4/5] END ................................max_features=11; total time=   0.9s\n",
      "[CV 5/5] END ................................max_features=11; total time=   0.9s\n"
     ]
    },
    {
     "data": {
      "text/plain": [
       "GridSearchCV(cv=5, estimator=RandomForestClassifier(),\n",
       "             param_grid={'max_features': range(1, 12)}, verbose=3)"
      ]
     },
     "execution_count": 24,
     "metadata": {},
     "output_type": "execute_result"
    }
   ],
   "source": [
    "m2 = RandomForestClassifier()\n",
    "m2_gs = GridSearchCV(m2, params, cv=5, verbose=3)\n",
    "m2_gs.fit(x_train,y_train)"
   ]
  },
  {
   "cell_type": "code",
   "execution_count": 25,
   "metadata": {
    "id": "SqbE23GN80tS",
    "tags": []
   },
   "outputs": [
    {
     "name": "stdout",
     "output_type": "stream",
     "text": [
      "0.6842857142857143 {'max_features': 4}\n",
      "              precision    recall  f1-score   support\n",
      "\n",
      "           0       0.71      0.71      0.71       769\n",
      "           1       0.69      0.69      0.69       731\n",
      "\n",
      "    accuracy                           0.70      1500\n",
      "   macro avg       0.70      0.70      0.70      1500\n",
      "weighted avg       0.70      0.70      0.70      1500\n",
      "\n"
     ]
    }
   ],
   "source": [
    "print(m2_gs.best_score_, m2_gs.best_params_)\n",
    "p2 = m2_gs.predict(x_val)\n",
    "print(classification_report(y_val,p2))"
   ]
  },
  {
   "cell_type": "code",
   "execution_count": 26,
   "metadata": {
    "collapsed": true,
    "jupyter": {
     "outputs_hidden": true
    },
    "tags": []
   },
   "outputs": [
    {
     "ename": "KeyError",
     "evalue": "\"Passing list-likes to .loc or [] with any missing labels is no longer supported. The following labels were missing: Index(['param_n_estimators'], dtype='object'). See https://pandas.pydata.org/pandas-docs/stable/user_guide/indexing.html#deprecate-loc-reindex-listlike\"",
     "output_type": "error",
     "traceback": [
      "\u001b[1;31m---------------------------------------------------------------------------\u001b[0m",
      "\u001b[1;31mKeyError\u001b[0m                                  Traceback (most recent call last)",
      "\u001b[1;32m<ipython-input-26-bb74fbc5b4f5>\u001b[0m in \u001b[0;36m<module>\u001b[1;34m\u001b[0m\n\u001b[0;32m      1\u001b[0m \u001b[1;31m# 튜닝 결과를 데이터프레임으로 저장\u001b[0m\u001b[1;33m\u001b[0m\u001b[1;33m\u001b[0m\u001b[1;33m\u001b[0m\u001b[0m\n\u001b[0;32m      2\u001b[0m \u001b[0mresult\u001b[0m \u001b[1;33m=\u001b[0m \u001b[0mpd\u001b[0m\u001b[1;33m.\u001b[0m\u001b[0mDataFrame\u001b[0m\u001b[1;33m(\u001b[0m\u001b[0mm2_gs\u001b[0m\u001b[1;33m.\u001b[0m\u001b[0mcv_results_\u001b[0m\u001b[1;33m)\u001b[0m\u001b[1;33m\u001b[0m\u001b[1;33m\u001b[0m\u001b[0m\n\u001b[1;32m----> 3\u001b[1;33m \u001b[0mtemp\u001b[0m \u001b[1;33m=\u001b[0m \u001b[0mresult\u001b[0m\u001b[1;33m.\u001b[0m\u001b[0mloc\u001b[0m\u001b[1;33m[\u001b[0m\u001b[1;33m:\u001b[0m\u001b[1;33m,\u001b[0m \u001b[1;33m[\u001b[0m\u001b[1;34m'param_n_estimators'\u001b[0m\u001b[1;33m,\u001b[0m \u001b[1;34m'mean_test_score'\u001b[0m\u001b[1;33m]\u001b[0m\u001b[1;33m]\u001b[0m\u001b[1;33m\u001b[0m\u001b[1;33m\u001b[0m\u001b[0m\n\u001b[0m\u001b[0;32m      4\u001b[0m \u001b[0mtemp\u001b[0m\u001b[1;33m.\u001b[0m\u001b[0mhead\u001b[0m\u001b[1;33m(\u001b[0m\u001b[1;33m)\u001b[0m\u001b[1;33m\u001b[0m\u001b[1;33m\u001b[0m\u001b[0m\n",
      "\u001b[1;32m~\\anaconda3\\lib\\site-packages\\pandas\\core\\indexing.py\u001b[0m in \u001b[0;36m__getitem__\u001b[1;34m(self, key)\u001b[0m\n\u001b[0;32m    887\u001b[0m                     \u001b[1;31m# AttributeError for IntervalTree get_value\u001b[0m\u001b[1;33m\u001b[0m\u001b[1;33m\u001b[0m\u001b[1;33m\u001b[0m\u001b[0m\n\u001b[0;32m    888\u001b[0m                     \u001b[1;32mreturn\u001b[0m \u001b[0mself\u001b[0m\u001b[1;33m.\u001b[0m\u001b[0mobj\u001b[0m\u001b[1;33m.\u001b[0m\u001b[0m_get_value\u001b[0m\u001b[1;33m(\u001b[0m\u001b[1;33m*\u001b[0m\u001b[0mkey\u001b[0m\u001b[1;33m,\u001b[0m \u001b[0mtakeable\u001b[0m\u001b[1;33m=\u001b[0m\u001b[0mself\u001b[0m\u001b[1;33m.\u001b[0m\u001b[0m_takeable\u001b[0m\u001b[1;33m)\u001b[0m\u001b[1;33m\u001b[0m\u001b[1;33m\u001b[0m\u001b[0m\n\u001b[1;32m--> 889\u001b[1;33m             \u001b[1;32mreturn\u001b[0m \u001b[0mself\u001b[0m\u001b[1;33m.\u001b[0m\u001b[0m_getitem_tuple\u001b[0m\u001b[1;33m(\u001b[0m\u001b[0mkey\u001b[0m\u001b[1;33m)\u001b[0m\u001b[1;33m\u001b[0m\u001b[1;33m\u001b[0m\u001b[0m\n\u001b[0m\u001b[0;32m    890\u001b[0m         \u001b[1;32melse\u001b[0m\u001b[1;33m:\u001b[0m\u001b[1;33m\u001b[0m\u001b[1;33m\u001b[0m\u001b[0m\n\u001b[0;32m    891\u001b[0m             \u001b[1;31m# we by definition only have the 0th axis\u001b[0m\u001b[1;33m\u001b[0m\u001b[1;33m\u001b[0m\u001b[1;33m\u001b[0m\u001b[0m\n",
      "\u001b[1;32m~\\anaconda3\\lib\\site-packages\\pandas\\core\\indexing.py\u001b[0m in \u001b[0;36m_getitem_tuple\u001b[1;34m(self, tup)\u001b[0m\n\u001b[0;32m   1067\u001b[0m             \u001b[1;32mreturn\u001b[0m \u001b[0mself\u001b[0m\u001b[1;33m.\u001b[0m\u001b[0m_multi_take\u001b[0m\u001b[1;33m(\u001b[0m\u001b[0mtup\u001b[0m\u001b[1;33m)\u001b[0m\u001b[1;33m\u001b[0m\u001b[1;33m\u001b[0m\u001b[0m\n\u001b[0;32m   1068\u001b[0m \u001b[1;33m\u001b[0m\u001b[0m\n\u001b[1;32m-> 1069\u001b[1;33m         \u001b[1;32mreturn\u001b[0m \u001b[0mself\u001b[0m\u001b[1;33m.\u001b[0m\u001b[0m_getitem_tuple_same_dim\u001b[0m\u001b[1;33m(\u001b[0m\u001b[0mtup\u001b[0m\u001b[1;33m)\u001b[0m\u001b[1;33m\u001b[0m\u001b[1;33m\u001b[0m\u001b[0m\n\u001b[0m\u001b[0;32m   1070\u001b[0m \u001b[1;33m\u001b[0m\u001b[0m\n\u001b[0;32m   1071\u001b[0m     \u001b[1;32mdef\u001b[0m \u001b[0m_get_label\u001b[0m\u001b[1;33m(\u001b[0m\u001b[0mself\u001b[0m\u001b[1;33m,\u001b[0m \u001b[0mlabel\u001b[0m\u001b[1;33m,\u001b[0m \u001b[0maxis\u001b[0m\u001b[1;33m:\u001b[0m \u001b[0mint\u001b[0m\u001b[1;33m)\u001b[0m\u001b[1;33m:\u001b[0m\u001b[1;33m\u001b[0m\u001b[1;33m\u001b[0m\u001b[0m\n",
      "\u001b[1;32m~\\anaconda3\\lib\\site-packages\\pandas\\core\\indexing.py\u001b[0m in \u001b[0;36m_getitem_tuple_same_dim\u001b[1;34m(self, tup)\u001b[0m\n\u001b[0;32m    773\u001b[0m                 \u001b[1;32mcontinue\u001b[0m\u001b[1;33m\u001b[0m\u001b[1;33m\u001b[0m\u001b[0m\n\u001b[0;32m    774\u001b[0m \u001b[1;33m\u001b[0m\u001b[0m\n\u001b[1;32m--> 775\u001b[1;33m             \u001b[0mretval\u001b[0m \u001b[1;33m=\u001b[0m \u001b[0mgetattr\u001b[0m\u001b[1;33m(\u001b[0m\u001b[0mretval\u001b[0m\u001b[1;33m,\u001b[0m \u001b[0mself\u001b[0m\u001b[1;33m.\u001b[0m\u001b[0mname\u001b[0m\u001b[1;33m)\u001b[0m\u001b[1;33m.\u001b[0m\u001b[0m_getitem_axis\u001b[0m\u001b[1;33m(\u001b[0m\u001b[0mkey\u001b[0m\u001b[1;33m,\u001b[0m \u001b[0maxis\u001b[0m\u001b[1;33m=\u001b[0m\u001b[0mi\u001b[0m\u001b[1;33m)\u001b[0m\u001b[1;33m\u001b[0m\u001b[1;33m\u001b[0m\u001b[0m\n\u001b[0m\u001b[0;32m    776\u001b[0m             \u001b[1;31m# We should never have retval.ndim < self.ndim, as that should\u001b[0m\u001b[1;33m\u001b[0m\u001b[1;33m\u001b[0m\u001b[1;33m\u001b[0m\u001b[0m\n\u001b[0;32m    777\u001b[0m             \u001b[1;31m#  be handled by the _getitem_lowerdim call above.\u001b[0m\u001b[1;33m\u001b[0m\u001b[1;33m\u001b[0m\u001b[1;33m\u001b[0m\u001b[0m\n",
      "\u001b[1;32m~\\anaconda3\\lib\\site-packages\\pandas\\core\\indexing.py\u001b[0m in \u001b[0;36m_getitem_axis\u001b[1;34m(self, key, axis)\u001b[0m\n\u001b[0;32m   1111\u001b[0m                     \u001b[1;32mraise\u001b[0m \u001b[0mValueError\u001b[0m\u001b[1;33m(\u001b[0m\u001b[1;34m\"Cannot index with multidimensional key\"\u001b[0m\u001b[1;33m)\u001b[0m\u001b[1;33m\u001b[0m\u001b[1;33m\u001b[0m\u001b[0m\n\u001b[0;32m   1112\u001b[0m \u001b[1;33m\u001b[0m\u001b[0m\n\u001b[1;32m-> 1113\u001b[1;33m                 \u001b[1;32mreturn\u001b[0m \u001b[0mself\u001b[0m\u001b[1;33m.\u001b[0m\u001b[0m_getitem_iterable\u001b[0m\u001b[1;33m(\u001b[0m\u001b[0mkey\u001b[0m\u001b[1;33m,\u001b[0m \u001b[0maxis\u001b[0m\u001b[1;33m=\u001b[0m\u001b[0maxis\u001b[0m\u001b[1;33m)\u001b[0m\u001b[1;33m\u001b[0m\u001b[1;33m\u001b[0m\u001b[0m\n\u001b[0m\u001b[0;32m   1114\u001b[0m \u001b[1;33m\u001b[0m\u001b[0m\n\u001b[0;32m   1115\u001b[0m             \u001b[1;31m# nested tuple slicing\u001b[0m\u001b[1;33m\u001b[0m\u001b[1;33m\u001b[0m\u001b[1;33m\u001b[0m\u001b[0m\n",
      "\u001b[1;32m~\\anaconda3\\lib\\site-packages\\pandas\\core\\indexing.py\u001b[0m in \u001b[0;36m_getitem_iterable\u001b[1;34m(self, key, axis)\u001b[0m\n\u001b[0;32m   1051\u001b[0m \u001b[1;33m\u001b[0m\u001b[0m\n\u001b[0;32m   1052\u001b[0m         \u001b[1;31m# A collection of keys\u001b[0m\u001b[1;33m\u001b[0m\u001b[1;33m\u001b[0m\u001b[1;33m\u001b[0m\u001b[0m\n\u001b[1;32m-> 1053\u001b[1;33m         \u001b[0mkeyarr\u001b[0m\u001b[1;33m,\u001b[0m \u001b[0mindexer\u001b[0m \u001b[1;33m=\u001b[0m \u001b[0mself\u001b[0m\u001b[1;33m.\u001b[0m\u001b[0m_get_listlike_indexer\u001b[0m\u001b[1;33m(\u001b[0m\u001b[0mkey\u001b[0m\u001b[1;33m,\u001b[0m \u001b[0maxis\u001b[0m\u001b[1;33m,\u001b[0m \u001b[0mraise_missing\u001b[0m\u001b[1;33m=\u001b[0m\u001b[1;32mFalse\u001b[0m\u001b[1;33m)\u001b[0m\u001b[1;33m\u001b[0m\u001b[1;33m\u001b[0m\u001b[0m\n\u001b[0m\u001b[0;32m   1054\u001b[0m         return self.obj._reindex_with_indexers(\n\u001b[0;32m   1055\u001b[0m             \u001b[1;33m{\u001b[0m\u001b[0maxis\u001b[0m\u001b[1;33m:\u001b[0m \u001b[1;33m[\u001b[0m\u001b[0mkeyarr\u001b[0m\u001b[1;33m,\u001b[0m \u001b[0mindexer\u001b[0m\u001b[1;33m]\u001b[0m\u001b[1;33m}\u001b[0m\u001b[1;33m,\u001b[0m \u001b[0mcopy\u001b[0m\u001b[1;33m=\u001b[0m\u001b[1;32mTrue\u001b[0m\u001b[1;33m,\u001b[0m \u001b[0mallow_dups\u001b[0m\u001b[1;33m=\u001b[0m\u001b[1;32mTrue\u001b[0m\u001b[1;33m\u001b[0m\u001b[1;33m\u001b[0m\u001b[0m\n",
      "\u001b[1;32m~\\anaconda3\\lib\\site-packages\\pandas\\core\\indexing.py\u001b[0m in \u001b[0;36m_get_listlike_indexer\u001b[1;34m(self, key, axis, raise_missing)\u001b[0m\n\u001b[0;32m   1264\u001b[0m             \u001b[0mkeyarr\u001b[0m\u001b[1;33m,\u001b[0m \u001b[0mindexer\u001b[0m\u001b[1;33m,\u001b[0m \u001b[0mnew_indexer\u001b[0m \u001b[1;33m=\u001b[0m \u001b[0max\u001b[0m\u001b[1;33m.\u001b[0m\u001b[0m_reindex_non_unique\u001b[0m\u001b[1;33m(\u001b[0m\u001b[0mkeyarr\u001b[0m\u001b[1;33m)\u001b[0m\u001b[1;33m\u001b[0m\u001b[1;33m\u001b[0m\u001b[0m\n\u001b[0;32m   1265\u001b[0m \u001b[1;33m\u001b[0m\u001b[0m\n\u001b[1;32m-> 1266\u001b[1;33m         \u001b[0mself\u001b[0m\u001b[1;33m.\u001b[0m\u001b[0m_validate_read_indexer\u001b[0m\u001b[1;33m(\u001b[0m\u001b[0mkeyarr\u001b[0m\u001b[1;33m,\u001b[0m \u001b[0mindexer\u001b[0m\u001b[1;33m,\u001b[0m \u001b[0maxis\u001b[0m\u001b[1;33m,\u001b[0m \u001b[0mraise_missing\u001b[0m\u001b[1;33m=\u001b[0m\u001b[0mraise_missing\u001b[0m\u001b[1;33m)\u001b[0m\u001b[1;33m\u001b[0m\u001b[1;33m\u001b[0m\u001b[0m\n\u001b[0m\u001b[0;32m   1267\u001b[0m         \u001b[1;32mreturn\u001b[0m \u001b[0mkeyarr\u001b[0m\u001b[1;33m,\u001b[0m \u001b[0mindexer\u001b[0m\u001b[1;33m\u001b[0m\u001b[1;33m\u001b[0m\u001b[0m\n\u001b[0;32m   1268\u001b[0m \u001b[1;33m\u001b[0m\u001b[0m\n",
      "\u001b[1;32m~\\anaconda3\\lib\\site-packages\\pandas\\core\\indexing.py\u001b[0m in \u001b[0;36m_validate_read_indexer\u001b[1;34m(self, key, indexer, axis, raise_missing)\u001b[0m\n\u001b[0;32m   1319\u001b[0m \u001b[1;33m\u001b[0m\u001b[0m\n\u001b[0;32m   1320\u001b[0m             \u001b[1;32mwith\u001b[0m \u001b[0moption_context\u001b[0m\u001b[1;33m(\u001b[0m\u001b[1;34m\"display.max_seq_items\"\u001b[0m\u001b[1;33m,\u001b[0m \u001b[1;36m10\u001b[0m\u001b[1;33m,\u001b[0m \u001b[1;34m\"display.width\"\u001b[0m\u001b[1;33m,\u001b[0m \u001b[1;36m80\u001b[0m\u001b[1;33m)\u001b[0m\u001b[1;33m:\u001b[0m\u001b[1;33m\u001b[0m\u001b[1;33m\u001b[0m\u001b[0m\n\u001b[1;32m-> 1321\u001b[1;33m                 raise KeyError(\n\u001b[0m\u001b[0;32m   1322\u001b[0m                     \u001b[1;34m\"Passing list-likes to .loc or [] with any missing labels \"\u001b[0m\u001b[1;33m\u001b[0m\u001b[1;33m\u001b[0m\u001b[0m\n\u001b[0;32m   1323\u001b[0m                     \u001b[1;34m\"is no longer supported. \"\u001b[0m\u001b[1;33m\u001b[0m\u001b[1;33m\u001b[0m\u001b[0m\n",
      "\u001b[1;31mKeyError\u001b[0m: \"Passing list-likes to .loc or [] with any missing labels is no longer supported. The following labels were missing: Index(['param_n_estimators'], dtype='object'). See https://pandas.pydata.org/pandas-docs/stable/user_guide/indexing.html#deprecate-loc-reindex-listlike\""
     ]
    }
   ],
   "source": [
    "# 튜닝 결과를 데이터프레임으로 저장\n",
    "result = pd.DataFrame(m2_gs.cv_results_)\n",
    "temp = result.loc[:, ['param_n_estimators', 'mean_test_score']]\n",
    "temp.head()"
   ]
  },
  {
   "cell_type": "code",
   "execution_count": null,
   "metadata": {
    "tags": []
   },
   "outputs": [],
   "source": [
    "plt.figure(figsize = (12,8))\n",
    "plt.plot('param_n_estimators', 'mean_test_score', data = temp)\n",
    "plt.grid()\n",
    "plt.show()"
   ]
  },
  {
   "cell_type": "markdown",
   "metadata": {},
   "source": [
    "-------------------------------------------------------------------------"
   ]
  },
  {
   "cell_type": "code",
   "execution_count": 28,
   "metadata": {},
   "outputs": [
    {
     "data": {
      "text/plain": [
       "(3500, 20)"
      ]
     },
     "execution_count": 28,
     "metadata": {},
     "output_type": "execute_result"
    }
   ],
   "source": [
    "x_train.shape"
   ]
  },
  {
   "cell_type": "code",
   "execution_count": 29,
   "metadata": {},
   "outputs": [],
   "source": [
    "# 1~20\n",
    "params = {'max_features': range(1,21)}"
   ]
  },
  {
   "cell_type": "code",
   "execution_count": 31,
   "metadata": {},
   "outputs": [],
   "source": [
    "# 기본모델\n",
    "m = RandomForestClassifier()\n",
    "\n",
    "# 그리드서치 모델 선언\n",
    "m_gs = GridSearchCV(m, params, cv=5, verbose= 3)\n",
    "\n",
    "# m_gs = GridSearchCV(RandomForestClassifier(), params, cv=5)"
   ]
  },
  {
   "cell_type": "code",
   "execution_count": 32,
   "metadata": {
    "collapsed": true,
    "jupyter": {
     "outputs_hidden": true
    },
    "tags": []
   },
   "outputs": [
    {
     "name": "stdout",
     "output_type": "stream",
     "text": [
      "Fitting 5 folds for each of 20 candidates, totalling 100 fits\n",
      "[CV 1/5] END .................................max_features=1; total time=   0.3s\n",
      "[CV 2/5] END .................................max_features=1; total time=   0.2s\n",
      "[CV 3/5] END .................................max_features=1; total time=   0.3s\n",
      "[CV 4/5] END .................................max_features=1; total time=   0.3s\n",
      "[CV 5/5] END .................................max_features=1; total time=   0.3s\n",
      "[CV 1/5] END .................................max_features=2; total time=   0.4s\n",
      "[CV 2/5] END .................................max_features=2; total time=   0.4s\n",
      "[CV 3/5] END .................................max_features=2; total time=   0.3s\n",
      "[CV 4/5] END .................................max_features=2; total time=   0.3s\n",
      "[CV 5/5] END .................................max_features=2; total time=   0.3s\n",
      "[CV 1/5] END .................................max_features=3; total time=   0.4s\n",
      "[CV 2/5] END .................................max_features=3; total time=   0.3s\n",
      "[CV 3/5] END .................................max_features=3; total time=   0.3s\n",
      "[CV 4/5] END .................................max_features=3; total time=   0.3s\n",
      "[CV 5/5] END .................................max_features=3; total time=   0.3s\n",
      "[CV 1/5] END .................................max_features=4; total time=   0.4s\n",
      "[CV 2/5] END .................................max_features=4; total time=   0.4s\n",
      "[CV 3/5] END .................................max_features=4; total time=   0.4s\n",
      "[CV 4/5] END .................................max_features=4; total time=   0.4s\n",
      "[CV 5/5] END .................................max_features=4; total time=   0.4s\n",
      "[CV 1/5] END .................................max_features=5; total time=   0.5s\n",
      "[CV 2/5] END .................................max_features=5; total time=   0.5s\n",
      "[CV 3/5] END .................................max_features=5; total time=   0.4s\n",
      "[CV 4/5] END .................................max_features=5; total time=   0.4s\n",
      "[CV 5/5] END .................................max_features=5; total time=   0.5s\n",
      "[CV 1/5] END .................................max_features=6; total time=   0.6s\n",
      "[CV 2/5] END .................................max_features=6; total time=   0.5s\n",
      "[CV 3/5] END .................................max_features=6; total time=   0.5s\n",
      "[CV 4/5] END .................................max_features=6; total time=   0.5s\n",
      "[CV 5/5] END .................................max_features=6; total time=   0.6s\n",
      "[CV 1/5] END .................................max_features=7; total time=   0.5s\n",
      "[CV 2/5] END .................................max_features=7; total time=   0.6s\n",
      "[CV 3/5] END .................................max_features=7; total time=   0.5s\n",
      "[CV 4/5] END .................................max_features=7; total time=   0.6s\n",
      "[CV 5/5] END .................................max_features=7; total time=   0.5s\n",
      "[CV 1/5] END .................................max_features=8; total time=   0.6s\n",
      "[CV 2/5] END .................................max_features=8; total time=   0.6s\n",
      "[CV 3/5] END .................................max_features=8; total time=   0.7s\n",
      "[CV 4/5] END .................................max_features=8; total time=   0.6s\n",
      "[CV 5/5] END .................................max_features=8; total time=   0.6s\n",
      "[CV 1/5] END .................................max_features=9; total time=   0.6s\n",
      "[CV 2/5] END .................................max_features=9; total time=   0.7s\n",
      "[CV 3/5] END .................................max_features=9; total time=   0.7s\n",
      "[CV 4/5] END .................................max_features=9; total time=   0.7s\n",
      "[CV 5/5] END .................................max_features=9; total time=   0.7s\n",
      "[CV 1/5] END ................................max_features=10; total time=   0.7s\n",
      "[CV 2/5] END ................................max_features=10; total time=   0.7s\n",
      "[CV 3/5] END ................................max_features=10; total time=   0.9s\n",
      "[CV 4/5] END ................................max_features=10; total time=   0.7s\n",
      "[CV 5/5] END ................................max_features=10; total time=   0.7s\n",
      "[CV 1/5] END ................................max_features=11; total time=   0.8s\n",
      "[CV 2/5] END ................................max_features=11; total time=   0.8s\n",
      "[CV 3/5] END ................................max_features=11; total time=   0.8s\n",
      "[CV 4/5] END ................................max_features=11; total time=   0.8s\n",
      "[CV 5/5] END ................................max_features=11; total time=   0.8s\n",
      "[CV 1/5] END ................................max_features=12; total time=   0.8s\n",
      "[CV 2/5] END ................................max_features=12; total time=   0.9s\n",
      "[CV 3/5] END ................................max_features=12; total time=   0.8s\n",
      "[CV 4/5] END ................................max_features=12; total time=   0.8s\n",
      "[CV 5/5] END ................................max_features=12; total time=   0.9s\n",
      "[CV 1/5] END ................................max_features=13; total time=   0.9s\n",
      "[CV 2/5] END ................................max_features=13; total time=   1.0s\n",
      "[CV 3/5] END ................................max_features=13; total time=   0.9s\n",
      "[CV 4/5] END ................................max_features=13; total time=   0.9s\n",
      "[CV 5/5] END ................................max_features=13; total time=   1.0s\n",
      "[CV 1/5] END ................................max_features=14; total time=   0.9s\n",
      "[CV 2/5] END ................................max_features=14; total time=   1.0s\n",
      "[CV 3/5] END ................................max_features=14; total time=   0.9s\n",
      "[CV 4/5] END ................................max_features=14; total time=   1.0s\n",
      "[CV 5/5] END ................................max_features=14; total time=   1.0s\n",
      "[CV 1/5] END ................................max_features=15; total time=   1.0s\n",
      "[CV 2/5] END ................................max_features=15; total time=   1.0s\n",
      "[CV 3/5] END ................................max_features=15; total time=   1.0s\n",
      "[CV 4/5] END ................................max_features=15; total time=   1.1s\n",
      "[CV 5/5] END ................................max_features=15; total time=   1.0s\n",
      "[CV 1/5] END ................................max_features=16; total time=   1.1s\n",
      "[CV 2/5] END ................................max_features=16; total time=   1.1s\n",
      "[CV 3/5] END ................................max_features=16; total time=   1.1s\n",
      "[CV 4/5] END ................................max_features=16; total time=   1.2s\n",
      "[CV 5/5] END ................................max_features=16; total time=   1.1s\n",
      "[CV 1/5] END ................................max_features=17; total time=   1.2s\n",
      "[CV 2/5] END ................................max_features=17; total time=   1.1s\n",
      "[CV 3/5] END ................................max_features=17; total time=   1.2s\n",
      "[CV 4/5] END ................................max_features=17; total time=   1.2s\n",
      "[CV 5/5] END ................................max_features=17; total time=   1.2s\n",
      "[CV 1/5] END ................................max_features=18; total time=   1.2s\n",
      "[CV 2/5] END ................................max_features=18; total time=   1.3s\n",
      "[CV 3/5] END ................................max_features=18; total time=   1.2s\n",
      "[CV 4/5] END ................................max_features=18; total time=   1.3s\n",
      "[CV 5/5] END ................................max_features=18; total time=   1.3s\n",
      "[CV 1/5] END ................................max_features=19; total time=   1.4s\n",
      "[CV 2/5] END ................................max_features=19; total time=   1.7s\n",
      "[CV 3/5] END ................................max_features=19; total time=   1.6s\n",
      "[CV 4/5] END ................................max_features=19; total time=   1.4s\n",
      "[CV 5/5] END ................................max_features=19; total time=   1.4s\n",
      "[CV 1/5] END ................................max_features=20; total time=   1.4s\n",
      "[CV 2/5] END ................................max_features=20; total time=   1.7s\n",
      "[CV 3/5] END ................................max_features=20; total time=   1.4s\n",
      "[CV 4/5] END ................................max_features=20; total time=   1.5s\n",
      "[CV 5/5] END ................................max_features=20; total time=   1.5s\n"
     ]
    },
    {
     "data": {
      "text/plain": [
       "GridSearchCV(cv=5, estimator=RandomForestClassifier(),\n",
       "             param_grid={'max_features': range(1, 21)}, verbose=3)"
      ]
     },
     "execution_count": 32,
     "metadata": {},
     "output_type": "execute_result"
    }
   ],
   "source": [
    "# 튜닝\n",
    "m_gs.fit(x_train, y_train)"
   ]
  },
  {
   "cell_type": "code",
   "execution_count": 33,
   "metadata": {},
   "outputs": [
    {
     "data": {
      "text/plain": [
       "{'max_features': 13}"
      ]
     },
     "execution_count": 33,
     "metadata": {},
     "output_type": "execute_result"
    }
   ],
   "source": [
    "m_gs.best_params_"
   ]
  },
  {
   "cell_type": "code",
   "execution_count": 34,
   "metadata": {
    "collapsed": true,
    "jupyter": {
     "outputs_hidden": true
    },
    "tags": []
   },
   "outputs": [
    {
     "data": {
      "text/html": [
       "<div>\n",
       "<style scoped>\n",
       "    .dataframe tbody tr th:only-of-type {\n",
       "        vertical-align: middle;\n",
       "    }\n",
       "\n",
       "    .dataframe tbody tr th {\n",
       "        vertical-align: top;\n",
       "    }\n",
       "\n",
       "    .dataframe thead th {\n",
       "        text-align: right;\n",
       "    }\n",
       "</style>\n",
       "<table border=\"1\" class=\"dataframe\">\n",
       "  <thead>\n",
       "    <tr style=\"text-align: right;\">\n",
       "      <th></th>\n",
       "      <th>param_max_features</th>\n",
       "      <th>mean_test_score</th>\n",
       "    </tr>\n",
       "  </thead>\n",
       "  <tbody>\n",
       "    <tr>\n",
       "      <th>0</th>\n",
       "      <td>1</td>\n",
       "      <td>0.665143</td>\n",
       "    </tr>\n",
       "    <tr>\n",
       "      <th>1</th>\n",
       "      <td>2</td>\n",
       "      <td>0.674000</td>\n",
       "    </tr>\n",
       "    <tr>\n",
       "      <th>2</th>\n",
       "      <td>3</td>\n",
       "      <td>0.677429</td>\n",
       "    </tr>\n",
       "    <tr>\n",
       "      <th>3</th>\n",
       "      <td>4</td>\n",
       "      <td>0.682286</td>\n",
       "    </tr>\n",
       "    <tr>\n",
       "      <th>4</th>\n",
       "      <td>5</td>\n",
       "      <td>0.681143</td>\n",
       "    </tr>\n",
       "  </tbody>\n",
       "</table>\n",
       "</div>"
      ],
      "text/plain": [
       "  param_max_features  mean_test_score\n",
       "0                  1         0.665143\n",
       "1                  2         0.674000\n",
       "2                  3         0.677429\n",
       "3                  4         0.682286\n",
       "4                  5         0.681143"
      ]
     },
     "execution_count": 34,
     "metadata": {},
     "output_type": "execute_result"
    }
   ],
   "source": [
    "# 튜닝 결과를 데이터프레임으로 저장\n",
    "result = pd.DataFrame(m_gs.cv_results_)\n",
    "temp = result.loc[:, ['param_max_features', 'mean_test_score']]\n",
    "temp.head()"
   ]
  },
  {
   "cell_type": "code",
   "execution_count": 36,
   "metadata": {
    "tags": []
   },
   "outputs": [
    {
     "data": {
      "image/png": "[encoded data removed]",
      "text/plain": [
       "<Figure size 864x576 with 1 Axes>"
      ]
     },
     "metadata": {
      "needs_background": "light"
     },
     "output_type": "display_data"
    }
   ],
   "source": [
    "plt.figure(figsize = (12,8))\n",
    "plt.plot('param_max_features', 'mean_test_score', data = temp, marker = 'o')\n",
    "plt.grid()\n",
    "plt.show()  # 경향을 살펴보는 것이 중요함!!!!!"
   ]
  },
  {
   "cell_type": "markdown",
   "metadata": {
    "id": "tQ3ZqJmgi1d1"
   },
   "source": [
    "* 변수 중요도"
   ]
  },
  {
   "cell_type": "code",
   "execution_count": 37,
   "metadata": {
    "collapsed": true,
    "id": "Tjp-cmDm83D5",
    "jupyter": {
     "outputs_hidden": true
    },
    "tags": []
   },
   "outputs": [
    {
     "name": "stdout",
     "output_type": "stream",
     "text": [
      "Index(['COLLEGE', 'INCOME', 'OVERAGE', 'LEFTOVER', 'HOUSE', 'HANDSET_PRICE',\n",
      "       'OVER_15MINS_CALLS_PER_MONTH', 'AVERAGE_CALL_DURATION',\n",
      "       'REPORTED_SATISFACTION_sat', 'REPORTED_SATISFACTION_unsat',\n",
      "       'REPORTED_SATISFACTION_very_sat', 'REPORTED_SATISFACTION_very_unsat',\n",
      "       'REPORTED_USAGE_LEVEL_high', 'REPORTED_USAGE_LEVEL_little',\n",
      "       'REPORTED_USAGE_LEVEL_very_high', 'REPORTED_USAGE_LEVEL_very_little',\n",
      "       'CONSIDERING_CHANGE_OF_PLAN_considering',\n",
      "       'CONSIDERING_CHANGE_OF_PLAN_never_thought',\n",
      "       'CONSIDERING_CHANGE_OF_PLAN_no', 'CONSIDERING_CHANGE_OF_PLAN_perhaps'],\n",
      "      dtype='object')\n"
     ]
    },
    {
     "ename": "AttributeError",
     "evalue": "'GridSearchCV' object has no attribute 'feature_importances_'",
     "output_type": "error",
     "traceback": [
      "\u001b[1;31m---------------------------------------------------------------------------\u001b[0m",
      "\u001b[1;31mAttributeError\u001b[0m                            Traceback (most recent call last)",
      "\u001b[1;32m<ipython-input-37-5bf58edcde9d>\u001b[0m in \u001b[0;36m<module>\u001b[1;34m\u001b[0m\n\u001b[0;32m      1\u001b[0m \u001b[1;31m# 변수중요도\u001b[0m\u001b[1;33m\u001b[0m\u001b[1;33m\u001b[0m\u001b[1;33m\u001b[0m\u001b[0m\n\u001b[0;32m      2\u001b[0m \u001b[0mprint\u001b[0m\u001b[1;33m(\u001b[0m\u001b[0mx_train\u001b[0m\u001b[1;33m.\u001b[0m\u001b[0mcolumns\u001b[0m\u001b[1;33m)\u001b[0m\u001b[1;33m\u001b[0m\u001b[1;33m\u001b[0m\u001b[0m\n\u001b[1;32m----> 3\u001b[1;33m \u001b[0mprint\u001b[0m\u001b[1;33m(\u001b[0m\u001b[0mm_gs\u001b[0m\u001b[1;33m.\u001b[0m\u001b[0mfeature_importances_\u001b[0m\u001b[1;33m)\u001b[0m\u001b[1;33m\u001b[0m\u001b[1;33m\u001b[0m\u001b[0m\n\u001b[0m",
      "\u001b[1;31mAttributeError\u001b[0m: 'GridSearchCV' object has no attribute 'feature_importances_'"
     ]
    }
   ],
   "source": [
    "# 변수중요도\n",
    "print(x_train.columns)\n",
    "print(m_gs.feature_importances_)"
   ]
  },
  {
   "cell_type": "code",
   "execution_count": null,
   "metadata": {},
   "outputs": [],
   "source": []
  },
  {
   "cell_type": "markdown",
   "metadata": {
    "id": "9mF0x5vJi9yN"
   },
   "source": [
    "### (3) n_estimators와 max_features를 한꺼번에 튜닝"
   ]
  },
  {
   "cell_type": "markdown",
   "metadata": {
    "id": "ClgmOnqslzU3"
   },
   "source": [
    "③ n_estimators, max_features를 동시에 튜닝."
   ]
  },
  {
   "cell_type": "code",
   "execution_count": 46,
   "metadata": {
    "id": "Bu8CnKCz841O"
   },
   "outputs": [],
   "source": [
    "param = {'n_estimators':[20,50,100], 'max_features':range(1,21)}"
   ]
  },
  {
   "cell_type": "code",
   "execution_count": 47,
   "metadata": {
    "collapsed": true,
    "id": "Yf91TVuC847E",
    "jupyter": {
     "outputs_hidden": true
    },
    "tags": []
   },
   "outputs": [
    {
     "name": "stdout",
     "output_type": "stream",
     "text": [
      "Fitting 5 folds for each of 60 candidates, totalling 300 fits\n",
      "[CV 1/5] END ................max_features=1, n_estimators=20; total time=   0.0s\n",
      "[CV 2/5] END ................max_features=1, n_estimators=20; total time=   0.0s\n",
      "[CV 3/5] END ................max_features=1, n_estimators=20; total time=   0.0s\n",
      "[CV 4/5] END ................max_features=1, n_estimators=20; total time=   0.0s\n",
      "[CV 5/5] END ................max_features=1, n_estimators=20; total time=   0.0s\n",
      "[CV 1/5] END ................max_features=1, n_estimators=50; total time=   0.1s\n",
      "[CV 2/5] END ................max_features=1, n_estimators=50; total time=   0.1s\n",
      "[CV 3/5] END ................max_features=1, n_estimators=50; total time=   0.1s\n",
      "[CV 4/5] END ................max_features=1, n_estimators=50; total time=   0.1s\n",
      "[CV 5/5] END ................max_features=1, n_estimators=50; total time=   0.1s\n",
      "[CV 1/5] END ...............max_features=1, n_estimators=100; total time=   0.4s\n",
      "[CV 2/5] END ...............max_features=1, n_estimators=100; total time=   0.3s\n",
      "[CV 3/5] END ...............max_features=1, n_estimators=100; total time=   0.3s\n",
      "[CV 4/5] END ...............max_features=1, n_estimators=100; total time=   0.2s\n",
      "[CV 5/5] END ...............max_features=1, n_estimators=100; total time=   0.3s\n",
      "[CV 1/5] END ................max_features=2, n_estimators=20; total time=   0.0s\n",
      "[CV 2/5] END ................max_features=2, n_estimators=20; total time=   0.0s\n",
      "[CV 3/5] END ................max_features=2, n_estimators=20; total time=   0.0s\n",
      "[CV 4/5] END ................max_features=2, n_estimators=20; total time=   0.0s\n",
      "[CV 5/5] END ................max_features=2, n_estimators=20; total time=   0.0s\n",
      "[CV 1/5] END ................max_features=2, n_estimators=50; total time=   0.1s\n",
      "[CV 2/5] END ................max_features=2, n_estimators=50; total time=   0.1s\n",
      "[CV 3/5] END ................max_features=2, n_estimators=50; total time=   0.1s\n",
      "[CV 4/5] END ................max_features=2, n_estimators=50; total time=   0.1s\n",
      "[CV 5/5] END ................max_features=2, n_estimators=50; total time=   0.1s\n",
      "[CV 1/5] END ...............max_features=2, n_estimators=100; total time=   0.3s\n",
      "[CV 2/5] END ...............max_features=2, n_estimators=100; total time=   0.3s\n",
      "[CV 3/5] END ...............max_features=2, n_estimators=100; total time=   0.3s\n",
      "[CV 4/5] END ...............max_features=2, n_estimators=100; total time=   0.3s\n",
      "[CV 5/5] END ...............max_features=2, n_estimators=100; total time=   0.4s\n",
      "[CV 1/5] END ................max_features=3, n_estimators=20; total time=   0.1s\n",
      "[CV 2/5] END ................max_features=3, n_estimators=20; total time=   0.1s\n",
      "[CV 3/5] END ................max_features=3, n_estimators=20; total time=   0.0s\n",
      "[CV 4/5] END ................max_features=3, n_estimators=20; total time=   0.0s\n",
      "[CV 5/5] END ................max_features=3, n_estimators=20; total time=   0.0s\n",
      "[CV 1/5] END ................max_features=3, n_estimators=50; total time=   0.1s\n",
      "[CV 2/5] END ................max_features=3, n_estimators=50; total time=   0.2s\n",
      "[CV 3/5] END ................max_features=3, n_estimators=50; total time=   0.1s\n",
      "[CV 4/5] END ................max_features=3, n_estimators=50; total time=   0.1s\n",
      "[CV 5/5] END ................max_features=3, n_estimators=50; total time=   0.1s\n",
      "[CV 1/5] END ...............max_features=3, n_estimators=100; total time=   0.4s\n",
      "[CV 2/5] END ...............max_features=3, n_estimators=100; total time=   0.4s\n",
      "[CV 3/5] END ...............max_features=3, n_estimators=100; total time=   0.5s\n",
      "[CV 4/5] END ...............max_features=3, n_estimators=100; total time=   0.5s\n",
      "[CV 5/5] END ...............max_features=3, n_estimators=100; total time=   0.3s\n",
      "[CV 1/5] END ................max_features=4, n_estimators=20; total time=   0.0s\n",
      "[CV 2/5] END ................max_features=4, n_estimators=20; total time=   0.0s\n",
      "[CV 3/5] END ................max_features=4, n_estimators=20; total time=   0.0s\n",
      "[CV 4/5] END ................max_features=4, n_estimators=20; total time=   0.0s\n",
      "[CV 5/5] END ................max_features=4, n_estimators=20; total time=   0.0s\n",
      "[CV 1/5] END ................max_features=4, n_estimators=50; total time=   0.2s\n",
      "[CV 2/5] END ................max_features=4, n_estimators=50; total time=   0.2s\n",
      "[CV 3/5] END ................max_features=4, n_estimators=50; total time=   0.2s\n",
      "[CV 4/5] END ................max_features=4, n_estimators=50; total time=   0.2s\n",
      "[CV 5/5] END ................max_features=4, n_estimators=50; total time=   0.2s\n",
      "[CV 1/5] END ...............max_features=4, n_estimators=100; total time=   0.4s\n",
      "[CV 2/5] END ...............max_features=4, n_estimators=100; total time=   0.4s\n",
      "[CV 3/5] END ...............max_features=4, n_estimators=100; total time=   0.5s\n",
      "[CV 4/5] END ...............max_features=4, n_estimators=100; total time=   0.4s\n",
      "[CV 5/5] END ...............max_features=4, n_estimators=100; total time=   0.4s\n",
      "[CV 1/5] END ................max_features=5, n_estimators=20; total time=   0.0s\n",
      "[CV 2/5] END ................max_features=5, n_estimators=20; total time=   0.0s\n",
      "[CV 3/5] END ................max_features=5, n_estimators=20; total time=   0.0s\n",
      "[CV 4/5] END ................max_features=5, n_estimators=20; total time=   0.0s\n",
      "[CV 5/5] END ................max_features=5, n_estimators=20; total time=   0.0s\n",
      "[CV 1/5] END ................max_features=5, n_estimators=50; total time=   0.2s\n",
      "[CV 2/5] END ................max_features=5, n_estimators=50; total time=   0.2s\n",
      "[CV 3/5] END ................max_features=5, n_estimators=50; total time=   0.2s\n",
      "[CV 4/5] END ................max_features=5, n_estimators=50; total time=   0.3s\n",
      "[CV 5/5] END ................max_features=5, n_estimators=50; total time=   0.2s\n",
      "[CV 1/5] END ...............max_features=5, n_estimators=100; total time=   0.5s\n",
      "[CV 2/5] END ...............max_features=5, n_estimators=100; total time=   0.5s\n",
      "[CV 3/5] END ...............max_features=5, n_estimators=100; total time=   0.5s\n",
      "[CV 4/5] END ...............max_features=5, n_estimators=100; total time=   0.4s\n",
      "[CV 5/5] END ...............max_features=5, n_estimators=100; total time=   0.5s\n",
      "[CV 1/5] END ................max_features=6, n_estimators=20; total time=   0.0s\n",
      "[CV 2/5] END ................max_features=6, n_estimators=20; total time=   0.0s\n",
      "[CV 3/5] END ................max_features=6, n_estimators=20; total time=   0.0s\n",
      "[CV 4/5] END ................max_features=6, n_estimators=20; total time=   0.0s\n",
      "[CV 5/5] END ................max_features=6, n_estimators=20; total time=   0.0s\n",
      "[CV 1/5] END ................max_features=6, n_estimators=50; total time=   0.3s\n",
      "[CV 2/5] END ................max_features=6, n_estimators=50; total time=   0.3s\n",
      "[CV 3/5] END ................max_features=6, n_estimators=50; total time=   0.3s\n",
      "[CV 4/5] END ................max_features=6, n_estimators=50; total time=   0.3s\n",
      "[CV 5/5] END ................max_features=6, n_estimators=50; total time=   0.2s\n",
      "[CV 1/5] END ...............max_features=6, n_estimators=100; total time=   0.7s\n",
      "[CV 2/5] END ...............max_features=6, n_estimators=100; total time=   0.6s\n",
      "[CV 3/5] END ...............max_features=6, n_estimators=100; total time=   0.5s\n",
      "[CV 4/5] END ...............max_features=6, n_estimators=100; total time=   0.6s\n",
      "[CV 5/5] END ...............max_features=6, n_estimators=100; total time=   0.6s\n",
      "[CV 1/5] END ................max_features=7, n_estimators=20; total time=   0.0s\n",
      "[CV 2/5] END ................max_features=7, n_estimators=20; total time=   0.0s\n",
      "[CV 3/5] END ................max_features=7, n_estimators=20; total time=   0.0s\n",
      "[CV 4/5] END ................max_features=7, n_estimators=20; total time=   0.0s\n",
      "[CV 5/5] END ................max_features=7, n_estimators=20; total time=   0.0s\n",
      "[CV 1/5] END ................max_features=7, n_estimators=50; total time=   0.3s\n",
      "[CV 2/5] END ................max_features=7, n_estimators=50; total time=   0.4s\n",
      "[CV 3/5] END ................max_features=7, n_estimators=50; total time=   0.3s\n",
      "[CV 4/5] END ................max_features=7, n_estimators=50; total time=   0.3s\n",
      "[CV 5/5] END ................max_features=7, n_estimators=50; total time=   0.3s\n",
      "[CV 1/5] END ...............max_features=7, n_estimators=100; total time=   0.6s\n",
      "[CV 2/5] END ...............max_features=7, n_estimators=100; total time=   0.6s\n",
      "[CV 3/5] END ...............max_features=7, n_estimators=100; total time=   0.6s\n",
      "[CV 4/5] END ...............max_features=7, n_estimators=100; total time=   0.6s\n",
      "[CV 5/5] END ...............max_features=7, n_estimators=100; total time=   0.6s\n",
      "[CV 1/5] END ................max_features=8, n_estimators=20; total time=   0.1s\n",
      "[CV 2/5] END ................max_features=8, n_estimators=20; total time=   0.1s\n",
      "[CV 3/5] END ................max_features=8, n_estimators=20; total time=   0.1s\n",
      "[CV 4/5] END ................max_features=8, n_estimators=20; total time=   0.1s\n",
      "[CV 5/5] END ................max_features=8, n_estimators=20; total time=   0.0s\n",
      "[CV 1/5] END ................max_features=8, n_estimators=50; total time=   0.3s\n",
      "[CV 2/5] END ................max_features=8, n_estimators=50; total time=   0.3s\n",
      "[CV 3/5] END ................max_features=8, n_estimators=50; total time=   0.3s\n",
      "[CV 4/5] END ................max_features=8, n_estimators=50; total time=   0.3s\n",
      "[CV 5/5] END ................max_features=8, n_estimators=50; total time=   0.3s\n",
      "[CV 1/5] END ...............max_features=8, n_estimators=100; total time=   0.6s\n",
      "[CV 2/5] END ...............max_features=8, n_estimators=100; total time=   0.6s\n",
      "[CV 3/5] END ...............max_features=8, n_estimators=100; total time=   0.6s\n",
      "[CV 4/5] END ...............max_features=8, n_estimators=100; total time=   0.7s\n",
      "[CV 5/5] END ...............max_features=8, n_estimators=100; total time=   0.7s\n",
      "[CV 1/5] END ................max_features=9, n_estimators=20; total time=   0.1s\n",
      "[CV 2/5] END ................max_features=9, n_estimators=20; total time=   0.1s\n",
      "[CV 3/5] END ................max_features=9, n_estimators=20; total time=   0.1s\n",
      "[CV 4/5] END ................max_features=9, n_estimators=20; total time=   0.1s\n",
      "[CV 5/5] END ................max_features=9, n_estimators=20; total time=   0.1s\n",
      "[CV 1/5] END ................max_features=9, n_estimators=50; total time=   0.3s\n",
      "[CV 2/5] END ................max_features=9, n_estimators=50; total time=   0.3s\n",
      "[CV 3/5] END ................max_features=9, n_estimators=50; total time=   0.3s\n",
      "[CV 4/5] END ................max_features=9, n_estimators=50; total time=   0.3s\n",
      "[CV 5/5] END ................max_features=9, n_estimators=50; total time=   0.4s\n",
      "[CV 1/5] END ...............max_features=9, n_estimators=100; total time=   0.7s\n",
      "[CV 2/5] END ...............max_features=9, n_estimators=100; total time=   0.8s\n",
      "[CV 3/5] END ...............max_features=9, n_estimators=100; total time=   0.8s\n",
      "[CV 4/5] END ...............max_features=9, n_estimators=100; total time=   0.7s\n",
      "[CV 5/5] END ...............max_features=9, n_estimators=100; total time=   0.7s\n",
      "[CV 1/5] END ...............max_features=10, n_estimators=20; total time=   0.1s\n",
      "[CV 2/5] END ...............max_features=10, n_estimators=20; total time=   0.1s\n",
      "[CV 3/5] END ...............max_features=10, n_estimators=20; total time=   0.1s\n",
      "[CV 4/5] END ...............max_features=10, n_estimators=20; total time=   0.1s\n",
      "[CV 5/5] END ...............max_features=10, n_estimators=20; total time=   0.1s\n",
      "[CV 1/5] END ...............max_features=10, n_estimators=50; total time=   0.3s\n",
      "[CV 2/5] END ...............max_features=10, n_estimators=50; total time=   0.4s\n",
      "[CV 3/5] END ...............max_features=10, n_estimators=50; total time=   0.4s\n",
      "[CV 4/5] END ...............max_features=10, n_estimators=50; total time=   0.3s\n",
      "[CV 5/5] END ...............max_features=10, n_estimators=50; total time=   0.4s\n",
      "[CV 1/5] END ..............max_features=10, n_estimators=100; total time=   0.7s\n",
      "[CV 2/5] END ..............max_features=10, n_estimators=100; total time=   0.8s\n",
      "[CV 3/5] END ..............max_features=10, n_estimators=100; total time=   0.7s\n",
      "[CV 4/5] END ..............max_features=10, n_estimators=100; total time=   0.8s\n",
      "[CV 5/5] END ..............max_features=10, n_estimators=100; total time=   0.8s\n",
      "[CV 1/5] END ...............max_features=11, n_estimators=20; total time=   0.1s\n",
      "[CV 2/5] END ...............max_features=11, n_estimators=20; total time=   0.1s\n",
      "[CV 3/5] END ...............max_features=11, n_estimators=20; total time=   0.1s\n",
      "[CV 4/5] END ...............max_features=11, n_estimators=20; total time=   0.1s\n",
      "[CV 5/5] END ...............max_features=11, n_estimators=20; total time=   0.1s\n",
      "[CV 1/5] END ...............max_features=11, n_estimators=50; total time=   0.4s\n",
      "[CV 2/5] END ...............max_features=11, n_estimators=50; total time=   0.3s\n",
      "[CV 3/5] END ...............max_features=11, n_estimators=50; total time=   0.4s\n",
      "[CV 4/5] END ...............max_features=11, n_estimators=50; total time=   0.3s\n",
      "[CV 5/5] END ...............max_features=11, n_estimators=50; total time=   0.4s\n",
      "[CV 1/5] END ..............max_features=11, n_estimators=100; total time=   0.9s\n",
      "[CV 2/5] END ..............max_features=11, n_estimators=100; total time=   0.9s\n",
      "[CV 3/5] END ..............max_features=11, n_estimators=100; total time=   0.9s\n",
      "[CV 4/5] END ..............max_features=11, n_estimators=100; total time=   0.8s\n",
      "[CV 5/5] END ..............max_features=11, n_estimators=100; total time=   0.8s\n",
      "[CV 1/5] END ...............max_features=12, n_estimators=20; total time=   0.1s\n",
      "[CV 2/5] END ...............max_features=12, n_estimators=20; total time=   0.1s\n",
      "[CV 3/5] END ...............max_features=12, n_estimators=20; total time=   0.1s\n",
      "[CV 4/5] END ...............max_features=12, n_estimators=20; total time=   0.1s\n",
      "[CV 5/5] END ...............max_features=12, n_estimators=20; total time=   0.1s\n",
      "[CV 1/5] END ...............max_features=12, n_estimators=50; total time=   0.4s\n",
      "[CV 2/5] END ...............max_features=12, n_estimators=50; total time=   0.4s\n",
      "[CV 3/5] END ...............max_features=12, n_estimators=50; total time=   0.4s\n",
      "[CV 4/5] END ...............max_features=12, n_estimators=50; total time=   0.4s\n",
      "[CV 5/5] END ...............max_features=12, n_estimators=50; total time=   0.5s\n",
      "[CV 1/5] END ..............max_features=12, n_estimators=100; total time=   0.9s\n",
      "[CV 2/5] END ..............max_features=12, n_estimators=100; total time=   0.9s\n",
      "[CV 3/5] END ..............max_features=12, n_estimators=100; total time=   0.9s\n",
      "[CV 4/5] END ..............max_features=12, n_estimators=100; total time=   1.0s\n",
      "[CV 5/5] END ..............max_features=12, n_estimators=100; total time=   1.0s\n",
      "[CV 1/5] END ...............max_features=13, n_estimators=20; total time=   0.1s\n",
      "[CV 2/5] END ...............max_features=13, n_estimators=20; total time=   0.1s\n",
      "[CV 3/5] END ...............max_features=13, n_estimators=20; total time=   0.1s\n",
      "[CV 4/5] END ...............max_features=13, n_estimators=20; total time=   0.1s\n",
      "[CV 5/5] END ...............max_features=13, n_estimators=20; total time=   0.1s\n",
      "[CV 1/5] END ...............max_features=13, n_estimators=50; total time=   0.4s\n",
      "[CV 2/5] END ...............max_features=13, n_estimators=50; total time=   0.4s\n",
      "[CV 3/5] END ...............max_features=13, n_estimators=50; total time=   0.4s\n",
      "[CV 4/5] END ...............max_features=13, n_estimators=50; total time=   0.5s\n",
      "[CV 5/5] END ...............max_features=13, n_estimators=50; total time=   0.5s\n",
      "[CV 1/5] END ..............max_features=13, n_estimators=100; total time=   1.1s\n",
      "[CV 2/5] END ..............max_features=13, n_estimators=100; total time=   1.0s\n",
      "[CV 3/5] END ..............max_features=13, n_estimators=100; total time=   1.0s\n",
      "[CV 4/5] END ..............max_features=13, n_estimators=100; total time=   1.0s\n",
      "[CV 5/5] END ..............max_features=13, n_estimators=100; total time=   0.9s\n",
      "[CV 1/5] END ...............max_features=14, n_estimators=20; total time=   0.1s\n",
      "[CV 2/5] END ...............max_features=14, n_estimators=20; total time=   0.1s\n",
      "[CV 3/5] END ...............max_features=14, n_estimators=20; total time=   0.1s\n",
      "[CV 4/5] END ...............max_features=14, n_estimators=20; total time=   0.2s\n",
      "[CV 5/5] END ...............max_features=14, n_estimators=20; total time=   0.1s\n",
      "[CV 1/5] END ...............max_features=14, n_estimators=50; total time=   0.5s\n",
      "[CV 2/5] END ...............max_features=14, n_estimators=50; total time=   0.5s\n",
      "[CV 3/5] END ...............max_features=14, n_estimators=50; total time=   0.4s\n",
      "[CV 4/5] END ...............max_features=14, n_estimators=50; total time=   0.4s\n",
      "[CV 5/5] END ...............max_features=14, n_estimators=50; total time=   0.4s\n",
      "[CV 1/5] END ..............max_features=14, n_estimators=100; total time=   1.0s\n",
      "[CV 2/5] END ..............max_features=14, n_estimators=100; total time=   1.0s\n",
      "[CV 3/5] END ..............max_features=14, n_estimators=100; total time=   1.0s\n",
      "[CV 4/5] END ..............max_features=14, n_estimators=100; total time=   1.0s\n",
      "[CV 5/5] END ..............max_features=14, n_estimators=100; total time=   1.0s\n",
      "[CV 1/5] END ...............max_features=15, n_estimators=20; total time=   0.2s\n",
      "[CV 2/5] END ...............max_features=15, n_estimators=20; total time=   0.2s\n",
      "[CV 3/5] END ...............max_features=15, n_estimators=20; total time=   0.2s\n",
      "[CV 4/5] END ...............max_features=15, n_estimators=20; total time=   0.2s\n",
      "[CV 5/5] END ...............max_features=15, n_estimators=20; total time=   0.2s\n",
      "[CV 1/5] END ...............max_features=15, n_estimators=50; total time=   0.5s\n",
      "[CV 2/5] END ...............max_features=15, n_estimators=50; total time=   0.5s\n",
      "[CV 3/5] END ...............max_features=15, n_estimators=50; total time=   0.5s\n",
      "[CV 4/5] END ...............max_features=15, n_estimators=50; total time=   0.5s\n",
      "[CV 5/5] END ...............max_features=15, n_estimators=50; total time=   0.5s\n",
      "[CV 1/5] END ..............max_features=15, n_estimators=100; total time=   1.0s\n",
      "[CV 2/5] END ..............max_features=15, n_estimators=100; total time=   1.0s\n",
      "[CV 3/5] END ..............max_features=15, n_estimators=100; total time=   1.1s\n",
      "[CV 4/5] END ..............max_features=15, n_estimators=100; total time=   1.0s\n",
      "[CV 5/5] END ..............max_features=15, n_estimators=100; total time=   1.0s\n",
      "[CV 1/5] END ...............max_features=16, n_estimators=20; total time=   0.1s\n",
      "[CV 2/5] END ...............max_features=16, n_estimators=20; total time=   0.2s\n",
      "[CV 3/5] END ...............max_features=16, n_estimators=20; total time=   0.1s\n",
      "[CV 4/5] END ...............max_features=16, n_estimators=20; total time=   0.1s\n",
      "[CV 5/5] END ...............max_features=16, n_estimators=20; total time=   0.2s\n",
      "[CV 1/5] END ...............max_features=16, n_estimators=50; total time=   0.5s\n",
      "[CV 2/5] END ...............max_features=16, n_estimators=50; total time=   0.5s\n",
      "[CV 3/5] END ...............max_features=16, n_estimators=50; total time=   0.5s\n",
      "[CV 4/5] END ...............max_features=16, n_estimators=50; total time=   0.5s\n",
      "[CV 5/5] END ...............max_features=16, n_estimators=50; total time=   0.5s\n",
      "[CV 1/5] END ..............max_features=16, n_estimators=100; total time=   1.1s\n",
      "[CV 2/5] END ..............max_features=16, n_estimators=100; total time=   1.2s\n",
      "[CV 3/5] END ..............max_features=16, n_estimators=100; total time=   1.3s\n",
      "[CV 4/5] END ..............max_features=16, n_estimators=100; total time=   1.1s\n",
      "[CV 5/5] END ..............max_features=16, n_estimators=100; total time=   1.1s\n",
      "[CV 1/5] END ...............max_features=17, n_estimators=20; total time=   0.1s\n",
      "[CV 2/5] END ...............max_features=17, n_estimators=20; total time=   0.1s\n",
      "[CV 3/5] END ...............max_features=17, n_estimators=20; total time=   0.1s\n",
      "[CV 4/5] END ...............max_features=17, n_estimators=20; total time=   0.1s\n",
      "[CV 5/5] END ...............max_features=17, n_estimators=20; total time=   0.2s\n",
      "[CV 1/5] END ...............max_features=17, n_estimators=50; total time=   0.5s\n",
      "[CV 2/5] END ...............max_features=17, n_estimators=50; total time=   0.6s\n",
      "[CV 3/5] END ...............max_features=17, n_estimators=50; total time=   0.5s\n",
      "[CV 4/5] END ...............max_features=17, n_estimators=50; total time=   0.5s\n",
      "[CV 5/5] END ...............max_features=17, n_estimators=50; total time=   0.5s\n",
      "[CV 1/5] END ..............max_features=17, n_estimators=100; total time=   1.1s\n",
      "[CV 2/5] END ..............max_features=17, n_estimators=100; total time=   1.1s\n",
      "[CV 3/5] END ..............max_features=17, n_estimators=100; total time=   1.2s\n",
      "[CV 4/5] END ..............max_features=17, n_estimators=100; total time=   1.1s\n",
      "[CV 5/5] END ..............max_features=17, n_estimators=100; total time=   1.1s\n",
      "[CV 1/5] END ...............max_features=18, n_estimators=20; total time=   0.1s\n",
      "[CV 2/5] END ...............max_features=18, n_estimators=20; total time=   0.1s\n",
      "[CV 3/5] END ...............max_features=18, n_estimators=20; total time=   0.2s\n",
      "[CV 4/5] END ...............max_features=18, n_estimators=20; total time=   0.2s\n",
      "[CV 5/5] END ...............max_features=18, n_estimators=20; total time=   0.2s\n",
      "[CV 1/5] END ...............max_features=18, n_estimators=50; total time=   0.6s\n",
      "[CV 2/5] END ...............max_features=18, n_estimators=50; total time=   0.7s\n",
      "[CV 3/5] END ...............max_features=18, n_estimators=50; total time=   0.6s\n",
      "[CV 4/5] END ...............max_features=18, n_estimators=50; total time=   0.6s\n",
      "[CV 5/5] END ...............max_features=18, n_estimators=50; total time=   0.5s\n",
      "[CV 1/5] END ..............max_features=18, n_estimators=100; total time=   1.1s\n",
      "[CV 2/5] END ..............max_features=18, n_estimators=100; total time=   1.2s\n",
      "[CV 3/5] END ..............max_features=18, n_estimators=100; total time=   1.3s\n",
      "[CV 4/5] END ..............max_features=18, n_estimators=100; total time=   1.2s\n",
      "[CV 5/5] END ..............max_features=18, n_estimators=100; total time=   1.2s\n",
      "[CV 1/5] END ...............max_features=19, n_estimators=20; total time=   0.2s\n",
      "[CV 2/5] END ...............max_features=19, n_estimators=20; total time=   0.2s\n",
      "[CV 3/5] END ...............max_features=19, n_estimators=20; total time=   0.2s\n",
      "[CV 4/5] END ...............max_features=19, n_estimators=20; total time=   0.2s\n",
      "[CV 5/5] END ...............max_features=19, n_estimators=20; total time=   0.2s\n",
      "[CV 1/5] END ...............max_features=19, n_estimators=50; total time=   0.7s\n",
      "[CV 2/5] END ...............max_features=19, n_estimators=50; total time=   0.6s\n",
      "[CV 3/5] END ...............max_features=19, n_estimators=50; total time=   0.6s\n",
      "[CV 4/5] END ...............max_features=19, n_estimators=50; total time=   0.6s\n",
      "[CV 5/5] END ...............max_features=19, n_estimators=50; total time=   0.6s\n",
      "[CV 1/5] END ..............max_features=19, n_estimators=100; total time=   1.4s\n",
      "[CV 2/5] END ..............max_features=19, n_estimators=100; total time=   1.5s\n",
      "[CV 3/5] END ..............max_features=19, n_estimators=100; total time=   1.3s\n",
      "[CV 4/5] END ..............max_features=19, n_estimators=100; total time=   1.3s\n",
      "[CV 5/5] END ..............max_features=19, n_estimators=100; total time=   1.3s\n",
      "[CV 1/5] END ...............max_features=20, n_estimators=20; total time=   0.2s\n",
      "[CV 2/5] END ...............max_features=20, n_estimators=20; total time=   0.2s\n",
      "[CV 3/5] END ...............max_features=20, n_estimators=20; total time=   0.2s\n",
      "[CV 4/5] END ...............max_features=20, n_estimators=20; total time=   0.2s\n",
      "[CV 5/5] END ...............max_features=20, n_estimators=20; total time=   0.2s\n",
      "[CV 1/5] END ...............max_features=20, n_estimators=50; total time=   0.6s\n",
      "[CV 2/5] END ...............max_features=20, n_estimators=50; total time=   0.6s\n",
      "[CV 3/5] END ...............max_features=20, n_estimators=50; total time=   0.6s\n",
      "[CV 4/5] END ...............max_features=20, n_estimators=50; total time=   0.6s\n",
      "[CV 5/5] END ...............max_features=20, n_estimators=50; total time=   0.6s\n",
      "[CV 1/5] END ..............max_features=20, n_estimators=100; total time=   1.4s\n",
      "[CV 2/5] END ..............max_features=20, n_estimators=100; total time=   1.3s\n",
      "[CV 3/5] END ..............max_features=20, n_estimators=100; total time=   1.3s\n",
      "[CV 4/5] END ..............max_features=20, n_estimators=100; total time=   1.6s\n",
      "[CV 5/5] END ..............max_features=20, n_estimators=100; total time=   1.4s\n"
     ]
    }
   ],
   "source": [
    "m3 = RandomForestClassifier()\n",
    "m3_gs = GridSearchCV(m3, par, cv=5, verbose=3)\n",
    "m3_gs.fit(x_train, y_train)\n",
    "p3 = m3_gs.predict(x_val)"
   ]
  },
  {
   "cell_type": "code",
   "execution_count": 48,
   "metadata": {
    "id": "31PJYjnu844C"
   },
   "outputs": [
    {
     "name": "stdout",
     "output_type": "stream",
     "text": [
      "0.6897142857142857 {'max_features': 6, 'n_estimators': 50}\n",
      "              precision    recall  f1-score   support\n",
      "\n",
      "           0       0.71      0.72      0.71       769\n",
      "           1       0.70      0.69      0.70       731\n",
      "\n",
      "    accuracy                           0.71      1500\n",
      "   macro avg       0.71      0.71      0.71      1500\n",
      "weighted avg       0.71      0.71      0.71      1500\n",
      "\n"
     ]
    }
   ],
   "source": [
    "print(m3_gs.best_score_,m3_gs.best_params_)\n",
    "print(classification_report(y_val,p3))"
   ]
  },
  {
   "cell_type": "code",
   "execution_count": 49,
   "metadata": {},
   "outputs": [
    {
     "data": {
      "text/html": [
       "<div>\n",
       "<style scoped>\n",
       "    .dataframe tbody tr th:only-of-type {\n",
       "        vertical-align: middle;\n",
       "    }\n",
       "\n",
       "    .dataframe tbody tr th {\n",
       "        vertical-align: top;\n",
       "    }\n",
       "\n",
       "    .dataframe thead th {\n",
       "        text-align: right;\n",
       "    }\n",
       "</style>\n",
       "<table border=\"1\" class=\"dataframe\">\n",
       "  <thead>\n",
       "    <tr style=\"text-align: right;\">\n",
       "      <th></th>\n",
       "      <th>param_n_estimators</th>\n",
       "      <th>param_max_features</th>\n",
       "      <th>mean_test_score</th>\n",
       "    </tr>\n",
       "  </thead>\n",
       "  <tbody>\n",
       "    <tr>\n",
       "      <th>0</th>\n",
       "      <td>20</td>\n",
       "      <td>1</td>\n",
       "      <td>0.637429</td>\n",
       "    </tr>\n",
       "    <tr>\n",
       "      <th>1</th>\n",
       "      <td>50</td>\n",
       "      <td>1</td>\n",
       "      <td>0.659714</td>\n",
       "    </tr>\n",
       "    <tr>\n",
       "      <th>2</th>\n",
       "      <td>100</td>\n",
       "      <td>1</td>\n",
       "      <td>0.660286</td>\n",
       "    </tr>\n",
       "    <tr>\n",
       "      <th>3</th>\n",
       "      <td>20</td>\n",
       "      <td>2</td>\n",
       "      <td>0.652571</td>\n",
       "    </tr>\n",
       "    <tr>\n",
       "      <th>4</th>\n",
       "      <td>50</td>\n",
       "      <td>2</td>\n",
       "      <td>0.676000</td>\n",
       "    </tr>\n",
       "  </tbody>\n",
       "</table>\n",
       "</div>"
      ],
      "text/plain": [
       "  param_n_estimators param_max_features  mean_test_score\n",
       "0                 20                  1         0.637429\n",
       "1                 50                  1         0.659714\n",
       "2                100                  1         0.660286\n",
       "3                 20                  2         0.652571\n",
       "4                 50                  2         0.676000"
      ]
     },
     "execution_count": 49,
     "metadata": {},
     "output_type": "execute_result"
    }
   ],
   "source": [
    "# 튜닝 결과를 데이터프레임으로 저장\n",
    "result = pd.DataFrame(m3_gs.cv_results_)\n",
    "temp = result.loc[:, ['param_n_estimators','param_max_features', 'mean_test_score']]\n",
    "temp.head()"
   ]
  },
  {
   "cell_type": "code",
   "execution_count": 50,
   "metadata": {},
   "outputs": [
    {
     "data": {
      "image/png": "[encoded data removed]",
      "text/plain": [
       "<Figure size 864x576 with 1 Axes>"
      ]
     },
     "metadata": {
      "needs_background": "light"
     },
     "output_type": "display_data"
    }
   ],
   "source": [
    "plt.figure(figsize = (12,8))\n",
    "sns.lineplot('param_max_features','mean_test_score', data= temp, hue='param_n_estimators')\n",
    "plt.grid()\n",
    "plt.show() "
   ]
  },
  {
   "cell_type": "code",
   "execution_count": null,
   "metadata": {},
   "outputs": [],
   "source": []
  },
  {
   "cell_type": "code",
   "execution_count": null,
   "metadata": {},
   "outputs": [],
   "source": [
    "plt.figure(figsize = (12,8))\n",
    "plt.plot('param_max', 'mean_test_score', data = temp, marker = 'o')\n",
    "plt.grid()\n",
    "plt.show()  # 경향을 살펴보는 것이 중요함!!!!!"
   ]
  },
  {
   "cell_type": "code",
   "execution_count": null,
   "metadata": {},
   "outputs": [],
   "source": []
  },
  {
   "cell_type": "code",
   "execution_count": null,
   "metadata": {},
   "outputs": [],
   "source": []
  }
 ],
 "metadata": {
  "colab": {
   "collapsed_sections": [],
   "name": "12과 Bagging.ipynb",
   "provenance": [],
   "toc_visible": true
  },
  "kernelspec": {
   "display_name": "Python 3",
   "language": "python",
   "name": "python3"
  },
  "language_info": {
   "codemirror_mode": {
    "name": "ipython",
    "version": 3
   },
   "file_extension": ".py",
   "mimetype": "text/x-python",
   "name": "python",
   "nbconvert_exporter": "python",
   "pygments_lexer": "ipython3",
   "version": "3.8.8"
  }
 },
 "nbformat": 4,
 "nbformat_minor": 4
}
