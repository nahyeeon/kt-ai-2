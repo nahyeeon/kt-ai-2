{
 "cells": [
  {
   "cell_type": "markdown",
   "metadata": {
    "id": "cVB9pY-v8uv5"
   },
   "source": [
    "# 성능튜닝"
   ]
  },
  {
   "cell_type": "markdown",
   "metadata": {
    "id": "O1uL0UIEzBPw"
   },
   "source": [
    "## 1.환경준비"
   ]
  },
  {
   "cell_type": "markdown",
   "metadata": {
    "id": "vNt997De17qz"
   },
   "source": [
    "### (1) import"
   ]
  },
  {
   "cell_type": "code",
   "execution_count": 1,
   "metadata": {
    "id": "GugpCLBiVHzd"
   },
   "outputs": [],
   "source": [
    "#라이브러리들을 불러오자.\n",
    "import numpy as np\n",
    "import pandas as pd\n",
    "import matplotlib.pyplot as plt\n",
    "import seaborn as sns\n",
    "\n",
    "# 전처리\n",
    "from sklearn.model_selection import train_test_split\n",
    "from sklearn.preprocessing import MinMaxScaler\n",
    "\n",
    "# 모델링\n",
    "from sklearn.linear_model import LogisticRegression\n",
    "from sklearn.tree import DecisionTreeClassifier, plot_tree\n",
    "from sklearn.neighbors import KNeighborsClassifier\n",
    "from sklearn.svm import SVC\n",
    "from sklearn.metrics import * \n",
    "\n",
    "import warnings    # 경고메시지 제외\n",
    "warnings.filterwarnings(action='ignore')"
   ]
  },
  {
   "cell_type": "markdown",
   "metadata": {
    "id": "CG-FeAY4f25C"
   },
   "source": [
    "### (2) 데이터 준비"
   ]
  },
  {
   "cell_type": "markdown",
   "metadata": {
    "id": "LBOR4ttK_6JA"
   },
   "source": [
    "* 변수설명\n",
    "    * COLLEGE : 대학 졸업여부\n",
    "    * INCOME : 연수입\n",
    "    * OVERAGE : 월평균 초과사용 시간(분)\n",
    "    * LEFTOVER : 월평균 잔여시간비율(%)\n",
    "    * HOUSE : 집값\n",
    "    * HANDSET_PRICE : 스마트폰 가격\n",
    "    * OVER_15MINS_CALLS_PER_MONTH : 월평균 장기통화(15분이상) 횟수\n",
    "    * AVERAGE_CALL_DURATION : 평균 통화 시간\n",
    "    * REPORTED_SATISFACTION : 만족도 설문조사 결과\n",
    "    * REPORTED_USAGE_LEVEL : 사용도 자가진단 결과\n",
    "    * CONSIDERING_CHANGE_OF_PLAN : 향후 변경계획 설문조사 결과\n",
    "    * CHURN : 이탈(번호이동) 여부 (1-이탈, 0-잔류, Target 변수)\n"
   ]
  },
  {
   "cell_type": "code",
   "execution_count": 2,
   "metadata": {
    "id": "pl1Ar13F_6JB"
   },
   "outputs": [
    {
     "data": {
      "text/html": [
       "<div>\n",
       "<style scoped>\n",
       "    .dataframe tbody tr th:only-of-type {\n",
       "        vertical-align: middle;\n",
       "    }\n",
       "\n",
       "    .dataframe tbody tr th {\n",
       "        vertical-align: top;\n",
       "    }\n",
       "\n",
       "    .dataframe thead th {\n",
       "        text-align: right;\n",
       "    }\n",
       "</style>\n",
       "<table border=\"1\" class=\"dataframe\">\n",
       "  <thead>\n",
       "    <tr style=\"text-align: right;\">\n",
       "      <th></th>\n",
       "      <th>id</th>\n",
       "      <th>COLLEGE</th>\n",
       "      <th>INCOME</th>\n",
       "      <th>OVERAGE</th>\n",
       "      <th>LEFTOVER</th>\n",
       "      <th>HOUSE</th>\n",
       "      <th>HANDSET_PRICE</th>\n",
       "      <th>OVER_15MINS_CALLS_PER_MONTH</th>\n",
       "      <th>AVERAGE_CALL_DURATION</th>\n",
       "      <th>REPORTED_SATISFACTION</th>\n",
       "      <th>REPORTED_USAGE_LEVEL</th>\n",
       "      <th>CONSIDERING_CHANGE_OF_PLAN</th>\n",
       "      <th>CHURN</th>\n",
       "    </tr>\n",
       "  </thead>\n",
       "  <tbody>\n",
       "    <tr>\n",
       "      <th>3178</th>\n",
       "      <td>3179</td>\n",
       "      <td>0</td>\n",
       "      <td>119512</td>\n",
       "      <td>51</td>\n",
       "      <td>31</td>\n",
       "      <td>248566</td>\n",
       "      <td>229</td>\n",
       "      <td>5</td>\n",
       "      <td>2</td>\n",
       "      <td>very_sat</td>\n",
       "      <td>very_high</td>\n",
       "      <td>considering</td>\n",
       "      <td>1</td>\n",
       "    </tr>\n",
       "    <tr>\n",
       "      <th>14926</th>\n",
       "      <td>14927</td>\n",
       "      <td>1</td>\n",
       "      <td>142144</td>\n",
       "      <td>192</td>\n",
       "      <td>15</td>\n",
       "      <td>774317</td>\n",
       "      <td>581</td>\n",
       "      <td>29</td>\n",
       "      <td>4</td>\n",
       "      <td>unsat</td>\n",
       "      <td>very_little</td>\n",
       "      <td>never_thought</td>\n",
       "      <td>1</td>\n",
       "    </tr>\n",
       "    <tr>\n",
       "      <th>15116</th>\n",
       "      <td>15117</td>\n",
       "      <td>1</td>\n",
       "      <td>142308</td>\n",
       "      <td>0</td>\n",
       "      <td>79</td>\n",
       "      <td>306426</td>\n",
       "      <td>497</td>\n",
       "      <td>1</td>\n",
       "      <td>1</td>\n",
       "      <td>sat</td>\n",
       "      <td>little</td>\n",
       "      <td>considering</td>\n",
       "      <td>0</td>\n",
       "    </tr>\n",
       "    <tr>\n",
       "      <th>12733</th>\n",
       "      <td>12734</td>\n",
       "      <td>1</td>\n",
       "      <td>113385</td>\n",
       "      <td>0</td>\n",
       "      <td>0</td>\n",
       "      <td>333599</td>\n",
       "      <td>819</td>\n",
       "      <td>1</td>\n",
       "      <td>6</td>\n",
       "      <td>very_unsat</td>\n",
       "      <td>very_high</td>\n",
       "      <td>considering</td>\n",
       "      <td>1</td>\n",
       "    </tr>\n",
       "    <tr>\n",
       "      <th>14032</th>\n",
       "      <td>14033</td>\n",
       "      <td>1</td>\n",
       "      <td>90348</td>\n",
       "      <td>209</td>\n",
       "      <td>10</td>\n",
       "      <td>637286</td>\n",
       "      <td>360</td>\n",
       "      <td>26</td>\n",
       "      <td>4</td>\n",
       "      <td>unsat</td>\n",
       "      <td>little</td>\n",
       "      <td>actively_looking_into_it</td>\n",
       "      <td>0</td>\n",
       "    </tr>\n",
       "  </tbody>\n",
       "</table>\n",
       "</div>"
      ],
      "text/plain": [
       "          id  COLLEGE  INCOME  OVERAGE  LEFTOVER   HOUSE  HANDSET_PRICE  \\\n",
       "3178    3179        0  119512       51        31  248566            229   \n",
       "14926  14927        1  142144      192        15  774317            581   \n",
       "15116  15117        1  142308        0        79  306426            497   \n",
       "12733  12734        1  113385        0         0  333599            819   \n",
       "14032  14033        1   90348      209        10  637286            360   \n",
       "\n",
       "       OVER_15MINS_CALLS_PER_MONTH  AVERAGE_CALL_DURATION  \\\n",
       "3178                             5                      2   \n",
       "14926                           29                      4   \n",
       "15116                            1                      1   \n",
       "12733                            1                      6   \n",
       "14032                           26                      4   \n",
       "\n",
       "      REPORTED_SATISFACTION REPORTED_USAGE_LEVEL CONSIDERING_CHANGE_OF_PLAN  \\\n",
       "3178               very_sat            very_high                considering   \n",
       "14926                 unsat          very_little              never_thought   \n",
       "15116                   sat               little                considering   \n",
       "12733            very_unsat            very_high                considering   \n",
       "14032                 unsat               little   actively_looking_into_it   \n",
       "\n",
       "       CHURN  \n",
       "3178       1  \n",
       "14926      1  \n",
       "15116      0  \n",
       "12733      1  \n",
       "14032      0  "
      ]
     },
     "execution_count": 2,
     "metadata": {},
     "output_type": "execute_result"
    }
   ],
   "source": [
    "# 데이터를 불러옵시다.\n",
    "path = 'https://raw.githubusercontent.com/DA4BAM/dataset/master/mobile_cust_churn.csv'\n",
    "data = pd.read_csv(path)\n",
    "data = data.sample(5000, random_state = 2022)\n",
    "data['CHURN'] = data['CHURN'].map({'LEAVE':1, 'STAY':0})\n",
    "# sklearn에서는 y를 가변수화 할필요 없다.\n",
    "# 반드시 필요할때, statsmodels, tensorflow(keras)\n",
    "data.head()"
   ]
  },
  {
   "cell_type": "markdown",
   "metadata": {
    "id": "wW0d0eGmCYJM"
   },
   "source": [
    "## 2.데이터 준비"
   ]
  },
  {
   "cell_type": "markdown",
   "metadata": {
    "id": "y9Q6jR6OZjUk"
   },
   "source": [
    "### (1) 데이터 정리"
   ]
  },
  {
   "cell_type": "code",
   "execution_count": 3,
   "metadata": {
    "id": "Dhi6-3jgrEgQ"
   },
   "outputs": [],
   "source": [
    "drop_cols = ['id']\n",
    "data.drop(drop_cols, axis = 1, inplace = True )"
   ]
  },
  {
   "cell_type": "markdown",
   "metadata": {
    "id": "WpJEGpUuuVWm"
   },
   "source": [
    "### (2) 데이터분할1 : x, y 나누기"
   ]
  },
  {
   "cell_type": "code",
   "execution_count": 4,
   "metadata": {
    "id": "3u8-Ovu4ADVn"
   },
   "outputs": [],
   "source": [
    "target = 'CHURN'\n",
    "x = data.drop(target, axis = 1)\n",
    "y = data.loc[:, target]"
   ]
  },
  {
   "cell_type": "markdown",
   "metadata": {
    "id": "mp_5volyuaA1"
   },
   "source": [
    "### (3) NA 조치"
   ]
  },
  {
   "cell_type": "markdown",
   "metadata": {
    "id": "nOF9fSLQugGf"
   },
   "source": [
    "### (4) 가변수화"
   ]
  },
  {
   "cell_type": "code",
   "execution_count": 98,
   "metadata": {
    "id": "CZgBC2QSoKc8"
   },
   "outputs": [],
   "source": [
    "dumm_cols = ['REPORTED_SATISFACTION','REPORTED_USAGE_LEVEL','CONSIDERING_CHANGE_OF_PLAN']\n",
    "x = pd.get_dummies(x, columns = dumm_cols, drop_first = True)"
   ]
  },
  {
   "cell_type": "markdown",
   "metadata": {
    "id": "VBwpOKgkf5Am"
   },
   "source": [
    "### (5) 데이터분할2 : train : validation 나누기"
   ]
  },
  {
   "cell_type": "code",
   "execution_count": 99,
   "metadata": {
    "id": "1iHmTnHCgBw5"
   },
   "outputs": [],
   "source": [
    "x_train, x_val, y_train, y_val = train_test_split(x, y, test_size = .3, random_state = 20)"
   ]
  },
  {
   "cell_type": "markdown",
   "metadata": {
    "id": "59bBv0a8heYh"
   },
   "source": [
    "### (6) Scaling"
   ]
  },
  {
   "cell_type": "code",
   "execution_count": 100,
   "metadata": {
    "id": "vA28buJg9GpV"
   },
   "outputs": [],
   "source": [
    "scaler = MinMaxScaler()\n",
    "x_train_s = scaler.fit_transform(x_train)\n",
    "x_val_s = scaler.transform(x_val)"
   ]
  },
  {
   "cell_type": "markdown",
   "metadata": {
    "id": "Db2kkXxgf25E"
   },
   "source": [
    "## 3.선형모델 튜닝\n",
    "\n",
    "Logistic Regression : 전진선택법\n",
    "* 변수를 하나씩 늘려가면서\n",
    "* AIC를 가장 낮추는 모델 찾기"
   ]
  },
  {
   "cell_type": "markdown",
   "metadata": {
    "id": "IUfTRB1AZnKM"
   },
   "source": [
    "### (1) 전진선택을 수행할 함수 만들기( **로지스틱 회귀** 용)"
   ]
  },
  {
   "cell_type": "code",
   "execution_count": 101,
   "metadata": {
    "id": "JtuIPRybXPKE",
    "tags": []
   },
   "outputs": [],
   "source": [
    "# 아래 함수는 로지스틱 회귀를 위한 전진선택법 함수 입니다.\n",
    "import statsmodels.api as sm\n",
    "\n",
    "def forward_stepwise_logistic(x_train, y_train):\n",
    "\n",
    "    # 변수목록, 선택된 변수 목록, 단계별 모델과 AIC 저장소 정의\n",
    "    features = list(x_train)\n",
    "    selected = []\n",
    "    step_df = pd.DataFrame({ 'step':[], 'feature':[],'aic':[]})\n",
    "\n",
    "    # \n",
    "    for s in range(0, len(features)) :\n",
    "        result =  { 'step':[], 'feature':[],'aic':[]}\n",
    "\n",
    "        # 변수 목록에서 변수 한개씩 뽑아서 모델에 추가\n",
    "        for f in features :\n",
    "            vars = selected + [f]\n",
    "            x_tr = x_train[vars]\n",
    "            model = sm.Logit(y_train, x_tr).fit()\n",
    "            result['step'].append(s+1)\n",
    "            result['feature'].append(vars)\n",
    "            result['aic'].append(model.aic)\n",
    "        \n",
    "        # 모델별 aic 집계\n",
    "        temp = pd.DataFrame(result).sort_values('aic').reset_index(drop = True)\n",
    "\n",
    "        # 만약 이전 aic보다 새로운 aic 가 크다면 멈추기\n",
    "        if step_df['aic'].min() < temp['aic'].min() :\n",
    "            break\n",
    "        step_df = pd.concat([step_df, temp], axis = 0).reset_index(drop = True)\n",
    "\n",
    "        # 선택된 변수 제거\n",
    "        v = temp.loc[0,'feature'][s]\n",
    "        features.remove(v)\n",
    "\n",
    "        selected.append(v)\n",
    "    \n",
    "    # 선택된 변수와 step_df 결과 반환\n",
    "    return selected, step_df"
   ]
  },
  {
   "cell_type": "markdown",
   "metadata": {
    "id": "vp6_CDIvaJ8I"
   },
   "source": [
    "### (2) 전진선택법 수행"
   ]
  },
  {
   "cell_type": "code",
   "execution_count": 102,
   "metadata": {
    "collapsed": true,
    "id": "X2_UhsQ0f25E",
    "jupyter": {
     "outputs_hidden": true
    },
    "tags": []
   },
   "outputs": [
    {
     "name": "stdout",
     "output_type": "stream",
     "text": [
      "Optimization terminated successfully.\n",
      "         Current function value: 0.693075\n",
      "         Iterations 3\n",
      "Optimization terminated successfully.\n",
      "         Current function value: 0.693062\n",
      "         Iterations 2\n",
      "Optimization terminated successfully.\n",
      "         Current function value: 0.683528\n",
      "         Iterations 4\n",
      "Optimization terminated successfully.\n",
      "         Current function value: 0.693007\n",
      "         Iterations 3\n",
      "Optimization terminated successfully.\n",
      "         Current function value: 0.684909\n",
      "         Iterations 2\n",
      "Optimization terminated successfully.\n",
      "         Current function value: 0.693042\n",
      "         Iterations 2\n",
      "Optimization terminated successfully.\n",
      "         Current function value: 0.686899\n",
      "         Iterations 4\n",
      "Optimization terminated successfully.\n",
      "         Current function value: 0.692565\n",
      "         Iterations 3\n",
      "Optimization terminated successfully.\n",
      "         Current function value: 0.692806\n",
      "         Iterations 4\n",
      "Optimization terminated successfully.\n",
      "         Current function value: 0.693137\n",
      "         Iterations 3\n",
      "Optimization terminated successfully.\n",
      "         Current function value: 0.691866\n",
      "         Iterations 4\n",
      "Optimization terminated successfully.\n",
      "         Current function value: 0.693146\n",
      "         Iterations 2\n",
      "Optimization terminated successfully.\n",
      "         Current function value: 0.693147\n",
      "         Iterations 1\n",
      "Optimization terminated successfully.\n",
      "         Current function value: 0.693015\n",
      "         Iterations 3\n",
      "Optimization terminated successfully.\n",
      "         Current function value: 0.692965\n",
      "         Iterations 3\n",
      "Optimization terminated successfully.\n",
      "         Current function value: 0.692882\n",
      "         Iterations 3\n",
      "Optimization terminated successfully.\n",
      "         Current function value: 0.692579\n",
      "         Iterations 3\n",
      "Optimization terminated successfully.\n",
      "         Current function value: 0.693046\n",
      "         Iterations 3\n",
      "Optimization terminated successfully.\n",
      "         Current function value: 0.693080\n",
      "         Iterations 3\n",
      "Optimization terminated successfully.\n",
      "         Current function value: 0.693058\n",
      "         Iterations 3\n",
      "Optimization terminated successfully.\n",
      "         Current function value: 0.679039\n",
      "         Iterations 4\n",
      "Optimization terminated successfully.\n",
      "         Current function value: 0.679064\n",
      "         Iterations 4\n",
      "Optimization terminated successfully.\n",
      "         Current function value: 0.682035\n",
      "         Iterations 4\n",
      "Optimization terminated successfully.\n",
      "         Current function value: 0.643056\n",
      "         Iterations 4\n",
      "Optimization terminated successfully.\n",
      "         Current function value: 0.679443\n",
      "         Iterations 4\n",
      "Optimization terminated successfully.\n",
      "         Current function value: 0.683317\n",
      "         Iterations 4\n",
      "Optimization terminated successfully.\n",
      "         Current function value: 0.674460\n",
      "         Iterations 4\n",
      "Optimization terminated successfully.\n",
      "         Current function value: 0.682313\n",
      "         Iterations 4\n",
      "Optimization terminated successfully.\n",
      "         Current function value: 0.682292\n",
      "         Iterations 4\n",
      "Optimization terminated successfully.\n",
      "         Current function value: 0.678103\n",
      "         Iterations 4\n",
      "Optimization terminated successfully.\n",
      "         Current function value: 0.680840\n",
      "         Iterations 4\n",
      "Optimization terminated successfully.\n",
      "         Current function value: 0.683068\n",
      "         Iterations 4\n",
      "Optimization terminated successfully.\n",
      "         Current function value: 0.679251\n",
      "         Iterations 4\n",
      "Optimization terminated successfully.\n",
      "         Current function value: 0.680933\n",
      "         Iterations 4\n",
      "Optimization terminated successfully.\n",
      "         Current function value: 0.681200\n",
      "         Iterations 4\n",
      "Optimization terminated successfully.\n",
      "         Current function value: 0.677933\n",
      "         Iterations 4\n",
      "Optimization terminated successfully.\n",
      "         Current function value: 0.682371\n",
      "         Iterations 4\n",
      "Optimization terminated successfully.\n",
      "         Current function value: 0.682062\n",
      "         Iterations 4\n",
      "Optimization terminated successfully.\n",
      "         Current function value: 0.682863\n",
      "         Iterations 4\n",
      "Optimization terminated successfully.\n",
      "         Current function value: 0.642039\n",
      "         Iterations 5\n",
      "Optimization terminated successfully.\n",
      "         Current function value: 0.635596\n",
      "         Iterations 4\n",
      "Optimization terminated successfully.\n",
      "         Current function value: 0.639711\n",
      "         Iterations 4\n",
      "Optimization terminated successfully.\n",
      "         Current function value: 0.635522\n",
      "         Iterations 4\n",
      "Optimization terminated successfully.\n",
      "         Current function value: 0.642894\n",
      "         Iterations 4\n",
      "Optimization terminated successfully.\n",
      "         Current function value: 0.642569\n",
      "         Iterations 5\n",
      "Optimization terminated successfully.\n",
      "         Current function value: 0.642966\n",
      "         Iterations 5\n",
      "Optimization terminated successfully.\n",
      "         Current function value: 0.642830\n",
      "         Iterations 5\n",
      "Optimization terminated successfully.\n",
      "         Current function value: 0.642966\n",
      "         Iterations 5\n",
      "Optimization terminated successfully.\n",
      "         Current function value: 0.641766\n",
      "         Iterations 5\n",
      "Optimization terminated successfully.\n",
      "         Current function value: 0.642866\n",
      "         Iterations 5\n",
      "Optimization terminated successfully.\n",
      "         Current function value: 0.642929\n",
      "         Iterations 5\n",
      "Optimization terminated successfully.\n",
      "         Current function value: 0.642750\n",
      "         Iterations 5\n",
      "Optimization terminated successfully.\n",
      "         Current function value: 0.642940\n",
      "         Iterations 5\n",
      "Optimization terminated successfully.\n",
      "         Current function value: 0.643014\n",
      "         Iterations 5\n",
      "Optimization terminated successfully.\n",
      "         Current function value: 0.643051\n",
      "         Iterations 5\n",
      "Optimization terminated successfully.\n",
      "         Current function value: 0.642672\n",
      "         Iterations 5\n",
      "Optimization terminated successfully.\n",
      "         Current function value: 0.643053\n",
      "         Iterations 5\n",
      "Optimization terminated successfully.\n",
      "         Current function value: 0.635399\n",
      "         Iterations 5\n",
      "Optimization terminated successfully.\n",
      "         Current function value: 0.634914\n",
      "         Iterations 4\n",
      "Optimization terminated successfully.\n",
      "         Current function value: 0.633893\n",
      "         Iterations 5\n",
      "Optimization terminated successfully.\n",
      "         Current function value: 0.635419\n",
      "         Iterations 4\n",
      "Optimization terminated successfully.\n",
      "         Current function value: 0.635464\n",
      "         Iterations 4\n",
      "Optimization terminated successfully.\n",
      "         Current function value: 0.635187\n",
      "         Iterations 5\n",
      "Optimization terminated successfully.\n",
      "         Current function value: 0.635504\n",
      "         Iterations 5\n",
      "Optimization terminated successfully.\n",
      "         Current function value: 0.634933\n",
      "         Iterations 5\n",
      "Optimization terminated successfully.\n",
      "         Current function value: 0.635116\n",
      "         Iterations 5\n",
      "Optimization terminated successfully.\n",
      "         Current function value: 0.635470\n",
      "         Iterations 4\n",
      "Optimization terminated successfully.\n",
      "         Current function value: 0.635439\n",
      "         Iterations 5\n",
      "Optimization terminated successfully.\n",
      "         Current function value: 0.635494\n",
      "         Iterations 5\n",
      "Optimization terminated successfully.\n",
      "         Current function value: 0.635521\n",
      "         Iterations 5\n",
      "Optimization terminated successfully.\n",
      "         Current function value: 0.635391\n",
      "         Iterations 5\n",
      "Optimization terminated successfully.\n",
      "         Current function value: 0.635503\n",
      "         Iterations 5\n",
      "Optimization terminated successfully.\n",
      "         Current function value: 0.635451\n",
      "         Iterations 5\n",
      "Optimization terminated successfully.\n",
      "         Current function value: 0.635483\n",
      "         Iterations 5\n",
      "Optimization terminated successfully.\n",
      "         Current function value: 0.633842\n",
      "         Iterations 5\n",
      "Optimization terminated successfully.\n",
      "         Current function value: 0.633406\n",
      "         Iterations 5\n",
      "Optimization terminated successfully.\n",
      "         Current function value: 0.633794\n",
      "         Iterations 5\n",
      "Optimization terminated successfully.\n",
      "         Current function value: 0.633753\n",
      "         Iterations 5\n",
      "Optimization terminated successfully.\n",
      "         Current function value: 0.633538\n",
      "         Iterations 5\n",
      "Optimization terminated successfully.\n",
      "         Current function value: 0.633890\n",
      "         Iterations 5\n",
      "Optimization terminated successfully.\n",
      "         Current function value: 0.633194\n",
      "         Iterations 5\n",
      "Optimization terminated successfully.\n",
      "         Current function value: 0.633579\n",
      "         Iterations 5\n",
      "Optimization terminated successfully.\n",
      "         Current function value: 0.633861\n",
      "         Iterations 5\n",
      "Optimization terminated successfully.\n",
      "         Current function value: 0.633765\n",
      "         Iterations 5\n",
      "Optimization terminated successfully.\n",
      "         Current function value: 0.633884\n",
      "         Iterations 5\n",
      "Optimization terminated successfully.\n",
      "         Current function value: 0.633888\n",
      "         Iterations 5\n",
      "Optimization terminated successfully.\n",
      "         Current function value: 0.633674\n",
      "         Iterations 5\n",
      "Optimization terminated successfully.\n",
      "         Current function value: 0.633874\n",
      "         Iterations 5\n",
      "Optimization terminated successfully.\n",
      "         Current function value: 0.633866\n",
      "         Iterations 5\n",
      "Optimization terminated successfully.\n",
      "         Current function value: 0.633847\n",
      "         Iterations 5\n",
      "Optimization terminated successfully.\n",
      "         Current function value: 0.633112\n",
      "         Iterations 5\n",
      "Optimization terminated successfully.\n",
      "         Current function value: 0.632641\n",
      "         Iterations 5\n",
      "Optimization terminated successfully.\n",
      "         Current function value: 0.633102\n",
      "         Iterations 5\n",
      "Optimization terminated successfully.\n",
      "         Current function value: 0.632954\n",
      "         Iterations 5\n",
      "Optimization terminated successfully.\n",
      "         Current function value: 0.632697\n",
      "         Iterations 5\n",
      "Optimization terminated successfully.\n",
      "         Current function value: 0.633174\n",
      "         Iterations 5\n",
      "Optimization terminated successfully.\n",
      "         Current function value: 0.633137\n",
      "         Iterations 5\n",
      "Optimization terminated successfully.\n",
      "         Current function value: 0.633162\n",
      "         Iterations 5\n",
      "Optimization terminated successfully.\n",
      "         Current function value: 0.633092\n",
      "         Iterations 5\n",
      "Optimization terminated successfully.\n",
      "         Current function value: 0.633175\n",
      "         Iterations 5\n",
      "Optimization terminated successfully.\n",
      "         Current function value: 0.633193\n",
      "         Iterations 5\n",
      "Optimization terminated successfully.\n",
      "         Current function value: 0.633016\n",
      "         Iterations 5\n",
      "Optimization terminated successfully.\n",
      "         Current function value: 0.633178\n",
      "         Iterations 5\n",
      "Optimization terminated successfully.\n",
      "         Current function value: 0.633151\n",
      "         Iterations 5\n",
      "Optimization terminated successfully.\n",
      "         Current function value: 0.633158\n",
      "         Iterations 5\n",
      "Optimization terminated successfully.\n",
      "         Current function value: 0.632593\n",
      "         Iterations 5\n",
      "Optimization terminated successfully.\n",
      "         Current function value: 0.632566\n",
      "         Iterations 5\n",
      "Optimization terminated successfully.\n",
      "         Current function value: 0.632521\n",
      "         Iterations 5\n",
      "Optimization terminated successfully.\n",
      "         Current function value: 0.632098\n",
      "         Iterations 5\n",
      "Optimization terminated successfully.\n",
      "         Current function value: 0.632599\n",
      "         Iterations 5\n",
      "Optimization terminated successfully.\n",
      "         Current function value: 0.632616\n",
      "         Iterations 5\n",
      "Optimization terminated successfully.\n",
      "         Current function value: 0.632617\n",
      "         Iterations 5\n",
      "Optimization terminated successfully.\n",
      "         Current function value: 0.632520\n",
      "         Iterations 5\n",
      "Optimization terminated successfully.\n",
      "         Current function value: 0.632636\n",
      "         Iterations 5\n",
      "Optimization terminated successfully.\n",
      "         Current function value: 0.632635\n",
      "         Iterations 5\n",
      "Optimization terminated successfully.\n",
      "         Current function value: 0.632427\n",
      "         Iterations 5\n",
      "Optimization terminated successfully.\n",
      "         Current function value: 0.632616\n",
      "         Iterations 5\n",
      "Optimization terminated successfully.\n",
      "         Current function value: 0.632613\n",
      "         Iterations 5\n",
      "Optimization terminated successfully.\n",
      "         Current function value: 0.632591\n",
      "         Iterations 5\n",
      "Optimization terminated successfully.\n",
      "         Current function value: 0.632043\n",
      "         Iterations 5\n",
      "Optimization terminated successfully.\n",
      "         Current function value: 0.632027\n",
      "         Iterations 5\n",
      "Optimization terminated successfully.\n",
      "         Current function value: 0.631949\n",
      "         Iterations 5\n",
      "Optimization terminated successfully.\n",
      "         Current function value: 0.632002\n",
      "         Iterations 5\n",
      "Optimization terminated successfully.\n",
      "         Current function value: 0.632098\n",
      "         Iterations 5\n",
      "Optimization terminated successfully.\n",
      "         Current function value: 0.632072\n",
      "         Iterations 5\n",
      "Optimization terminated successfully.\n",
      "         Current function value: 0.631997\n",
      "         Iterations 5\n",
      "Optimization terminated successfully.\n",
      "         Current function value: 0.632093\n",
      "         Iterations 5\n",
      "Optimization terminated successfully.\n",
      "         Current function value: 0.632092\n",
      "         Iterations 5\n",
      "Optimization terminated successfully.\n",
      "         Current function value: 0.631906\n",
      "         Iterations 5\n",
      "Optimization terminated successfully.\n",
      "         Current function value: 0.632075\n",
      "         Iterations 5\n",
      "Optimization terminated successfully.\n",
      "         Current function value: 0.632062\n",
      "         Iterations 5\n",
      "Optimization terminated successfully.\n",
      "         Current function value: 0.632051\n",
      "         Iterations 5\n"
     ]
    }
   ],
   "source": [
    "vars, result = forward_stepwise_logistic(x_train, y_train)"
   ]
  },
  {
   "cell_type": "markdown",
   "metadata": {
    "id": "b8831TsJaHFq"
   },
   "source": [
    "* 선택된 변수"
   ]
  },
  {
   "cell_type": "code",
   "execution_count": 103,
   "metadata": {
    "id": "ReDkDZMmaB8l"
   },
   "outputs": [
    {
     "data": {
      "text/plain": [
       "['OVERAGE',\n",
       " 'HOUSE',\n",
       " 'HANDSET_PRICE',\n",
       " 'LEFTOVER',\n",
       " 'REPORTED_SATISFACTION_very_sat',\n",
       " 'INCOME',\n",
       " 'REPORTED_SATISFACTION_sat']"
      ]
     },
     "execution_count": 103,
     "metadata": {},
     "output_type": "execute_result"
    }
   ],
   "source": [
    "vars"
   ]
  },
  {
   "cell_type": "code",
   "execution_count": 104,
   "metadata": {
    "id": "cOmUN6lwcgPS"
   },
   "outputs": [],
   "source": [
    "pd.set_option('display.width', None)\n",
    "pd.set_option('display.max_colwidth', -1)"
   ]
  },
  {
   "cell_type": "code",
   "execution_count": 105,
   "metadata": {
    "tags": []
   },
   "outputs": [
    {
     "data": {
      "text/html": [
       "<div>\n",
       "<style scoped>\n",
       "    .dataframe tbody tr th:only-of-type {\n",
       "        vertical-align: middle;\n",
       "    }\n",
       "\n",
       "    .dataframe tbody tr th {\n",
       "        vertical-align: top;\n",
       "    }\n",
       "\n",
       "    .dataframe thead th {\n",
       "        text-align: right;\n",
       "    }\n",
       "</style>\n",
       "<table border=\"1\" class=\"dataframe\">\n",
       "  <thead>\n",
       "    <tr style=\"text-align: right;\">\n",
       "      <th></th>\n",
       "      <th>step</th>\n",
       "      <th>feature</th>\n",
       "      <th>aic</th>\n",
       "    </tr>\n",
       "  </thead>\n",
       "  <tbody>\n",
       "    <tr>\n",
       "      <th>0</th>\n",
       "      <td>1.0</td>\n",
       "      <td>[OVERAGE]</td>\n",
       "      <td>4786.699456</td>\n",
       "    </tr>\n",
       "    <tr>\n",
       "      <th>1</th>\n",
       "      <td>1.0</td>\n",
       "      <td>[HOUSE]</td>\n",
       "      <td>4796.363859</td>\n",
       "    </tr>\n",
       "    <tr>\n",
       "      <th>2</th>\n",
       "      <td>1.0</td>\n",
       "      <td>[OVER_15MINS_CALLS_PER_MONTH]</td>\n",
       "      <td>4810.294604</td>\n",
       "    </tr>\n",
       "    <tr>\n",
       "      <th>3</th>\n",
       "      <td>1.0</td>\n",
       "      <td>[REPORTED_SATISFACTION_very_sat]</td>\n",
       "      <td>4845.064834</td>\n",
       "    </tr>\n",
       "    <tr>\n",
       "      <th>4</th>\n",
       "      <td>1.0</td>\n",
       "      <td>[AVERAGE_CALL_DURATION]</td>\n",
       "      <td>4849.951663</td>\n",
       "    </tr>\n",
       "    <tr>\n",
       "      <th>...</th>\n",
       "      <td>...</td>\n",
       "      <td>...</td>\n",
       "      <td>...</td>\n",
       "    </tr>\n",
       "    <tr>\n",
       "      <th>114</th>\n",
       "      <td>7.0</td>\n",
       "      <td>[OVERAGE, HOUSE, HANDSET_PRICE, LEFTOVER, REPORTED_SATISFACTION_very_sat, INCOME, REPORTED_SATISFACTION_very_unsat]</td>\n",
       "      <td>4442.309949</td>\n",
       "    </tr>\n",
       "    <tr>\n",
       "      <th>115</th>\n",
       "      <td>7.0</td>\n",
       "      <td>[OVERAGE, HOUSE, HANDSET_PRICE, LEFTOVER, REPORTED_SATISFACTION_very_sat, INCOME, CONSIDERING_CHANGE_OF_PLAN_never_thought]</td>\n",
       "      <td>4442.315315</td>\n",
       "    </tr>\n",
       "    <tr>\n",
       "      <th>116</th>\n",
       "      <td>7.0</td>\n",
       "      <td>[OVERAGE, HOUSE, HANDSET_PRICE, LEFTOVER, REPORTED_SATISFACTION_very_sat, INCOME, REPORTED_USAGE_LEVEL_high]</td>\n",
       "      <td>4442.316816</td>\n",
       "    </tr>\n",
       "    <tr>\n",
       "      <th>117</th>\n",
       "      <td>7.0</td>\n",
       "      <td>[OVERAGE, HOUSE, HANDSET_PRICE, LEFTOVER, REPORTED_SATISFACTION_very_sat, INCOME, REPORTED_USAGE_LEVEL_very_little]</td>\n",
       "      <td>4442.448187</td>\n",
       "    </tr>\n",
       "    <tr>\n",
       "      <th>118</th>\n",
       "      <td>7.0</td>\n",
       "      <td>[OVERAGE, HOUSE, HANDSET_PRICE, LEFTOVER, REPORTED_SATISFACTION_very_sat, INCOME, REPORTED_USAGE_LEVEL_very_high]</td>\n",
       "      <td>4442.451017</td>\n",
       "    </tr>\n",
       "  </tbody>\n",
       "</table>\n",
       "<p>119 rows × 3 columns</p>\n",
       "</div>"
      ],
      "text/plain": [
       "     step  \\\n",
       "0    1.0    \n",
       "1    1.0    \n",
       "2    1.0    \n",
       "3    1.0    \n",
       "4    1.0    \n",
       "..   ...    \n",
       "114  7.0    \n",
       "115  7.0    \n",
       "116  7.0    \n",
       "117  7.0    \n",
       "118  7.0    \n",
       "\n",
       "                                                                                                                         feature  \\\n",
       "0    [OVERAGE]                                                                                                                     \n",
       "1    [HOUSE]                                                                                                                       \n",
       "2    [OVER_15MINS_CALLS_PER_MONTH]                                                                                                 \n",
       "3    [REPORTED_SATISFACTION_very_sat]                                                                                              \n",
       "4    [AVERAGE_CALL_DURATION]                                                                                                       \n",
       "..                       ...                                                                                                       \n",
       "114  [OVERAGE, HOUSE, HANDSET_PRICE, LEFTOVER, REPORTED_SATISFACTION_very_sat, INCOME, REPORTED_SATISFACTION_very_unsat]           \n",
       "115  [OVERAGE, HOUSE, HANDSET_PRICE, LEFTOVER, REPORTED_SATISFACTION_very_sat, INCOME, CONSIDERING_CHANGE_OF_PLAN_never_thought]   \n",
       "116  [OVERAGE, HOUSE, HANDSET_PRICE, LEFTOVER, REPORTED_SATISFACTION_very_sat, INCOME, REPORTED_USAGE_LEVEL_high]                  \n",
       "117  [OVERAGE, HOUSE, HANDSET_PRICE, LEFTOVER, REPORTED_SATISFACTION_very_sat, INCOME, REPORTED_USAGE_LEVEL_very_little]           \n",
       "118  [OVERAGE, HOUSE, HANDSET_PRICE, LEFTOVER, REPORTED_SATISFACTION_very_sat, INCOME, REPORTED_USAGE_LEVEL_very_high]             \n",
       "\n",
       "             aic  \n",
       "0    4786.699456  \n",
       "1    4796.363859  \n",
       "2    4810.294604  \n",
       "3    4845.064834  \n",
       "4    4849.951663  \n",
       "..           ...  \n",
       "114  4442.309949  \n",
       "115  4442.315315  \n",
       "116  4442.316816  \n",
       "117  4442.448187  \n",
       "118  4442.451017  \n",
       "\n",
       "[119 rows x 3 columns]"
      ]
     },
     "execution_count": 105,
     "metadata": {},
     "output_type": "execute_result"
    }
   ],
   "source": [
    "result"
   ]
  },
  {
   "cell_type": "markdown",
   "metadata": {
    "id": "F4Z39MGUaZtQ"
   },
   "source": [
    "### (3) 모델링"
   ]
  },
  {
   "cell_type": "markdown",
   "metadata": {
    "id": "mB26yCqEabkL"
   },
   "source": [
    "* 전체 변수 "
   ]
  },
  {
   "cell_type": "code",
   "execution_count": 106,
   "metadata": {
    "id": "zqk4Me37aesP"
   },
   "outputs": [
    {
     "name": "stdout",
     "output_type": "stream",
     "text": [
      "0.6333333333333333\n",
      "              precision    recall  f1-score   support\n",
      "\n",
      "           0       0.62      0.68      0.65       738\n",
      "           1       0.65      0.59      0.62       762\n",
      "\n",
      "    accuracy                           0.63      1500\n",
      "   macro avg       0.63      0.63      0.63      1500\n",
      "weighted avg       0.64      0.63      0.63      1500\n",
      "\n"
     ]
    }
   ],
   "source": [
    "m1 = LogisticRegression()\n",
    "m1.fit(x_train, y_train)\n",
    "p1 = m1.predict(x_val)\n",
    "\n",
    "print(accuracy_score(y_val, p1))\n",
    "print(classification_report(y_val, p1))"
   ]
  },
  {
   "cell_type": "markdown",
   "metadata": {
    "id": "m_1EE72zatBw"
   },
   "source": [
    "* 전진선택법 변수"
   ]
  },
  {
   "cell_type": "code",
   "execution_count": 107,
   "metadata": {
    "id": "0rKoLRi1atBx"
   },
   "outputs": [
    {
     "name": "stdout",
     "output_type": "stream",
     "text": [
      "0.634\n",
      "              precision    recall  f1-score   support\n",
      "\n",
      "           0       0.62      0.68      0.65       738\n",
      "           1       0.66      0.59      0.62       762\n",
      "\n",
      "    accuracy                           0.63      1500\n",
      "   macro avg       0.64      0.63      0.63      1500\n",
      "weighted avg       0.64      0.63      0.63      1500\n",
      "\n"
     ]
    }
   ],
   "source": [
    "m2 = LogisticRegression()\n",
    "m2.fit(x_train[vars], y_train)\n",
    "p2 = m2.predict(x_val[vars])\n",
    "\n",
    "print(accuracy_score(y_val, p2))\n",
    "print(classification_report(y_val, p2))"
   ]
  },
  {
   "cell_type": "markdown",
   "metadata": {
    "id": "fFre1mi8dhcK"
   },
   "source": [
    "## 4.하이퍼파라미터 튜닝"
   ]
  },
  {
   "cell_type": "markdown",
   "metadata": {
    "id": "lqqbcYcleEa7"
   },
   "source": [
    "### (1) 필요한 함수 불러오기 "
   ]
  },
  {
   "cell_type": "code",
   "execution_count": 108,
   "metadata": {
    "id": "b4VHDaqBeGa7"
   },
   "outputs": [],
   "source": [
    "from sklearn.model_selection import RandomizedSearchCV, GridSearchCV"
   ]
  },
  {
   "cell_type": "markdown",
   "metadata": {
    "id": "4QhAEJoKeUph"
   },
   "source": [
    "### (2) Random Search\n",
    "\n",
    "① 값의 범위를 지정한다.  \n",
    "② 모델 선언(시도 횟수 지정)  \n",
    "③ 모델링(값의 범위 내에서 시도 횟수만큼 랜덤하게 선택해서 시도한다.)  \n",
    "④ 가장 성능이 좋은 값을 선정\n"
   ]
  },
  {
   "cell_type": "markdown",
   "metadata": {
    "id": "0QV5WwTsefwR"
   },
   "source": [
    "#### ① 값의 범위를 지정한다."
   ]
  },
  {
   "cell_type": "code",
   "execution_count": 109,
   "metadata": {
    "id": "uw_0xzoRqSWa"
   },
   "outputs": [
    {
     "data": {
      "text/plain": [
       "{'n_neighbors': range(1, 51), 'metric': ['euclidean', 'manhattan']}"
      ]
     },
     "execution_count": 109,
     "metadata": {},
     "output_type": "execute_result"
    }
   ],
   "source": [
    "# dictionary형태로 선언\n",
    "params = { 'n_neighbors' : range(1,51), 'metric' : ['euclidean', 'manhattan']  }\n",
    "params"
   ]
  },
  {
   "cell_type": "markdown",
   "metadata": {
    "id": "smGb7riKe7Fj"
   },
   "source": [
    "#### ② 모델 선언"
   ]
  },
  {
   "cell_type": "code",
   "execution_count": 110,
   "metadata": {
    "id": "aycGcFmIq2aq"
   },
   "outputs": [],
   "source": [
    "# 기본모델\n",
    "model = KNeighborsClassifier()\n",
    "\n",
    "# Random Search 설정.\n",
    "model_rs = RandomizedSearchCV(model\n",
    "                            , params              # hyperparameter 범위 지정.\n",
    "                            , cv=5                    # k-fold Cross Validation\n",
    "                            , n_iter=5                # Random하게 시도할 횟수\n",
    "                            )"
   ]
  },
  {
   "cell_type": "markdown",
   "metadata": {
    "id": "o7YpDODPfW-Y"
   },
   "source": [
    "#### ③ 모델링"
   ]
  },
  {
   "cell_type": "code",
   "execution_count": 111,
   "metadata": {
    "id": "LzX7OxZnoatr"
   },
   "outputs": [
    {
     "data": {
      "text/plain": [
       "RandomizedSearchCV(cv=5, estimator=KNeighborsClassifier(), n_iter=5,\n",
       "                   param_distributions={'metric': ['euclidean', 'manhattan'],\n",
       "                                        'n_neighbors': range(1, 51)})"
      ]
     },
     "execution_count": 111,
     "metadata": {},
     "output_type": "execute_result"
    }
   ],
   "source": [
    "# 학습 : model이 아니라 model_rs\n",
    "model_rs.fit(x_train_s, y_train)"
   ]
  },
  {
   "cell_type": "code",
   "execution_count": 112,
   "metadata": {
    "id": "DkUVXP_Loatt",
    "tags": []
   },
   "outputs": [
    {
     "data": {
      "text/plain": [
       "{'mean_fit_time': array([0.00119658, 0.00130901, 0.00128932, 0.0016221 , 0.00138278]),\n",
       " 'std_fit_time': array([0.00039902, 0.00040076, 0.00039536, 0.00046812, 0.00055292]),\n",
       " 'mean_score_time': array([0.09863825, 0.0768558 , 0.08434148, 0.09074612, 0.08813906]),\n",
       " 'std_score_time': array([0.0231194 , 0.00327359, 0.00929474, 0.01199633, 0.00804728]),\n",
       " 'param_n_neighbors': masked_array(data=[17, 24, 39, 33, 20],\n",
       "              mask=[False, False, False, False, False],\n",
       "        fill_value='?',\n",
       "             dtype=object),\n",
       " 'param_metric': masked_array(data=['manhattan', 'euclidean', 'euclidean', 'euclidean',\n",
       "                    'manhattan'],\n",
       "              mask=[False, False, False, False, False],\n",
       "        fill_value='?',\n",
       "             dtype=object),\n",
       " 'params': [{'n_neighbors': 17, 'metric': 'manhattan'},\n",
       "  {'n_neighbors': 24, 'metric': 'euclidean'},\n",
       "  {'n_neighbors': 39, 'metric': 'euclidean'},\n",
       "  {'n_neighbors': 33, 'metric': 'euclidean'},\n",
       "  {'n_neighbors': 20, 'metric': 'manhattan'}],\n",
       " 'split0_test_score': array([0.60857143, 0.59285714, 0.62      , 0.60285714, 0.60571429]),\n",
       " 'split1_test_score': array([0.60428571, 0.59714286, 0.57285714, 0.57714286, 0.62285714]),\n",
       " 'split2_test_score': array([0.60571429, 0.58285714, 0.62428571, 0.60857143, 0.62142857]),\n",
       " 'split3_test_score': array([0.59428571, 0.58142857, 0.58285714, 0.57285714, 0.61285714]),\n",
       " 'split4_test_score': array([0.59428571, 0.56428571, 0.57571429, 0.59142857, 0.59      ]),\n",
       " 'mean_test_score': array([0.60142857, 0.58371429, 0.59514286, 0.59057143, 0.61057143]),\n",
       " 'std_test_score': array([0.00599319, 0.01137846, 0.02232597, 0.01392692, 0.0120068 ]),\n",
       " 'rank_test_score': array([2, 5, 3, 4, 1])}"
      ]
     },
     "execution_count": 112,
     "metadata": {},
     "output_type": "execute_result"
    }
   ],
   "source": [
    "# 튜닝 결과\n",
    "model_rs.cv_results_"
   ]
  },
  {
   "cell_type": "code",
   "execution_count": 113,
   "metadata": {
    "id": "ygL2UHJE4inW"
   },
   "outputs": [
    {
     "data": {
      "text/plain": [
       "[{'n_neighbors': 17, 'metric': 'manhattan'},\n",
       " {'n_neighbors': 24, 'metric': 'euclidean'},\n",
       " {'n_neighbors': 39, 'metric': 'euclidean'},\n",
       " {'n_neighbors': 33, 'metric': 'euclidean'},\n",
       " {'n_neighbors': 20, 'metric': 'manhattan'}]"
      ]
     },
     "execution_count": 113,
     "metadata": {},
     "output_type": "execute_result"
    }
   ],
   "source": [
    "model_rs.cv_results_['params']"
   ]
  },
  {
   "cell_type": "code",
   "execution_count": 114,
   "metadata": {
    "id": "Ev8QMOLM4qM3"
   },
   "outputs": [
    {
     "data": {
      "text/plain": [
       "array([0.60142857, 0.58371429, 0.59514286, 0.59057143, 0.61057143])"
      ]
     },
     "execution_count": 114,
     "metadata": {},
     "output_type": "execute_result"
    }
   ],
   "source": [
    "model_rs.cv_results_['mean_test_score']"
   ]
  },
  {
   "cell_type": "code",
   "execution_count": 115,
   "metadata": {
    "id": "WibiA2j9sRo_"
   },
   "outputs": [
    {
     "data": {
      "text/plain": [
       "{'n_neighbors': 20, 'metric': 'manhattan'}"
      ]
     },
     "execution_count": 115,
     "metadata": {},
     "output_type": "execute_result"
    }
   ],
   "source": [
    "# 최적의 파라미터\n",
    "model_rs.best_params_"
   ]
  },
  {
   "cell_type": "code",
   "execution_count": 116,
   "metadata": {
    "id": "tPwtq5L3vUmo"
   },
   "outputs": [
    {
     "data": {
      "text/plain": [
       "0.6105714285714285"
      ]
     },
     "execution_count": 116,
     "metadata": {},
     "output_type": "execute_result"
    }
   ],
   "source": [
    "# 그때의 성능\n",
    "model_rs.best_score_"
   ]
  },
  {
   "cell_type": "code",
   "execution_count": 117,
   "metadata": {
    "id": "99n6iBAGoatw"
   },
   "outputs": [
    {
     "name": "stdout",
     "output_type": "stream",
     "text": [
      "              precision    recall  f1-score   support\n",
      "\n",
      "           0       0.57      0.77      0.66       738\n",
      "           1       0.66      0.44      0.53       762\n",
      "\n",
      "    accuracy                           0.60      1500\n",
      "   macro avg       0.62      0.60      0.59      1500\n",
      "weighted avg       0.62      0.60      0.59      1500\n",
      "\n"
     ]
    }
   ],
   "source": [
    "# best 모델로 예측 및 평가\n",
    "pred = model_rs.predict(x_val_s)\n",
    "print(classification_report(y_val, pred))"
   ]
  },
  {
   "cell_type": "markdown",
   "metadata": {
    "id": "1WRLq_4tf-ve",
    "tags": []
   },
   "source": [
    "### (3) 실습 : Random Search\n",
    "\n",
    "* decision tree로 튜닝을 시도해 봅시다.\n",
    "    * max_depth : 1~10\n",
    "    * min_samples_leaf : 10 ~ 100"
   ]
  },
  {
   "cell_type": "markdown",
   "metadata": {
    "id": "-lJcU4Xlf-ve"
   },
   "source": [
    "#### ① 값의 범위를 지정한다."
   ]
  },
  {
   "cell_type": "code",
   "execution_count": 118,
   "metadata": {
    "id": "5vbadH6Cf-ve"
   },
   "outputs": [
    {
     "data": {
      "text/plain": [
       "{'max_depth': range(1, 11), 'min_samples_leaf': range(10, 101, 10)}"
      ]
     },
     "execution_count": 118,
     "metadata": {},
     "output_type": "execute_result"
    }
   ],
   "source": [
    "# dictionary형태로 선언\n",
    "params = { 'max_depth' : range(1,11), 'min_samples_leaf' : range(10,101,10) }\n",
    "params"
   ]
  },
  {
   "cell_type": "markdown",
   "metadata": {
    "id": "VlSVAR-7f-vf"
   },
   "source": [
    "#### ② 모델 선언"
   ]
  },
  {
   "cell_type": "code",
   "execution_count": 119,
   "metadata": {
    "id": "i0S0er2Af-vf"
   },
   "outputs": [],
   "source": [
    "m1 = DecisionTreeClassifier()\n",
    "model_rs = RandomizedSearchCV(m1\n",
    "                            , params              # hyperparameter 범위 지정.\n",
    "                            , cv=5                    # k-fold Cross Validation\n",
    "                            , n_iter=5                # Random하게 시도할 횟수\n",
    "                            )"
   ]
  },
  {
   "cell_type": "markdown",
   "metadata": {
    "id": "1oTmve_lf-vf"
   },
   "source": [
    "#### ③ 모델링"
   ]
  },
  {
   "cell_type": "code",
   "execution_count": 120,
   "metadata": {
    "id": "O121oftOf-vf",
    "tags": []
   },
   "outputs": [
    {
     "data": {
      "text/plain": [
       "RandomizedSearchCV(cv=5, estimator=DecisionTreeClassifier(), n_iter=5,\n",
       "                   param_distributions={'max_depth': range(1, 11),\n",
       "                                        'min_samples_leaf': range(10, 101, 10)})"
      ]
     },
     "execution_count": 120,
     "metadata": {},
     "output_type": "execute_result"
    }
   ],
   "source": [
    "# 학습 : model이 아니라 model_rs\n",
    "model_rs.fit(x_train, y_train)"
   ]
  },
  {
   "cell_type": "code",
   "execution_count": 121,
   "metadata": {
    "id": "mzVCpqpCf-vf",
    "tags": []
   },
   "outputs": [
    {
     "data": {
      "text/plain": [
       "{'mean_fit_time': array([0.01485353, 0.00512109, 0.01059341, 0.0109972 , 0.01645923]),\n",
       " 'std_fit_time': array([0.00144808, 0.00095931, 0.00081065, 0.00063678, 0.00110016]),\n",
       " 'mean_score_time': array([0.00294619, 0.00229015, 0.00280123, 0.00228562, 0.00239501]),\n",
       " 'std_score_time': array([0.00110815, 0.00045324, 0.00073952, 0.00038252, 0.00051254]),\n",
       " 'param_min_samples_leaf': masked_array(data=[70, 70, 20, 90, 20],\n",
       "              mask=[False, False, False, False, False],\n",
       "        fill_value='?',\n",
       "             dtype=object),\n",
       " 'param_max_depth': masked_array(data=[6, 1, 4, 9, 9],\n",
       "              mask=[False, False, False, False, False],\n",
       "        fill_value='?',\n",
       "             dtype=object),\n",
       " 'params': [{'min_samples_leaf': 70, 'max_depth': 6},\n",
       "  {'min_samples_leaf': 70, 'max_depth': 1},\n",
       "  {'min_samples_leaf': 20, 'max_depth': 4},\n",
       "  {'min_samples_leaf': 90, 'max_depth': 9},\n",
       "  {'min_samples_leaf': 20, 'max_depth': 9}],\n",
       " 'split0_test_score': array([0.70857143, 0.64285714, 0.7       , 0.72142857, 0.71      ]),\n",
       " 'split1_test_score': array([0.67571429, 0.61571429, 0.69285714, 0.68428571, 0.67142857]),\n",
       " 'split2_test_score': array([0.67857143, 0.60142857, 0.67285714, 0.69      , 0.68428571]),\n",
       " 'split3_test_score': array([0.70571429, 0.59714286, 0.68714286, 0.70285714, 0.69142857]),\n",
       " 'split4_test_score': array([0.68857143, 0.61285714, 0.69      , 0.67857143, 0.67285714]),\n",
       " 'mean_test_score': array([0.69142857, 0.614     , 0.68857143, 0.69542857, 0.686     ]),\n",
       " 'std_test_score': array([0.01355262, 0.0159949 , 0.00894427, 0.01529039, 0.01409588]),\n",
       " 'rank_test_score': array([2, 5, 3, 1, 4])}"
      ]
     },
     "execution_count": 121,
     "metadata": {},
     "output_type": "execute_result"
    }
   ],
   "source": [
    "model_rs.cv_results_"
   ]
  },
  {
   "cell_type": "code",
   "execution_count": 122,
   "metadata": {
    "id": "CkkdSVR6f-vf",
    "tags": []
   },
   "outputs": [
    {
     "data": {
      "text/plain": [
       "[{'min_samples_leaf': 70, 'max_depth': 6},\n",
       " {'min_samples_leaf': 70, 'max_depth': 1},\n",
       " {'min_samples_leaf': 20, 'max_depth': 4},\n",
       " {'min_samples_leaf': 90, 'max_depth': 9},\n",
       " {'min_samples_leaf': 20, 'max_depth': 9}]"
      ]
     },
     "execution_count": 122,
     "metadata": {},
     "output_type": "execute_result"
    }
   ],
   "source": [
    "model_rs.cv_results_['params']"
   ]
  },
  {
   "cell_type": "code",
   "execution_count": 123,
   "metadata": {
    "id": "IgR9dSA_d6f6"
   },
   "outputs": [
    {
     "data": {
      "text/plain": [
       "array([0.69142857, 0.614     , 0.68857143, 0.69542857, 0.686     ])"
      ]
     },
     "execution_count": 123,
     "metadata": {},
     "output_type": "execute_result"
    }
   ],
   "source": [
    "model_rs.cv_results_['mean_test_score']"
   ]
  },
  {
   "cell_type": "code",
   "execution_count": 124,
   "metadata": {},
   "outputs": [
    {
     "data": {
      "text/plain": [
       "{'min_samples_leaf': 90, 'max_depth': 9}"
      ]
     },
     "execution_count": 124,
     "metadata": {},
     "output_type": "execute_result"
    }
   ],
   "source": [
    "model_rs.best_params_"
   ]
  },
  {
   "cell_type": "code",
   "execution_count": 125,
   "metadata": {},
   "outputs": [
    {
     "data": {
      "text/plain": [
       "0.6954285714285714"
      ]
     },
     "execution_count": 125,
     "metadata": {},
     "output_type": "execute_result"
    }
   ],
   "source": [
    "model_rs.best_score_"
   ]
  },
  {
   "cell_type": "code",
   "execution_count": 126,
   "metadata": {},
   "outputs": [
    {
     "name": "stdout",
     "output_type": "stream",
     "text": [
      "              precision    recall  f1-score   support\n",
      "\n",
      "           0       0.00      0.00      0.00       738\n",
      "           1       0.51      1.00      0.67       762\n",
      "\n",
      "    accuracy                           0.51      1500\n",
      "   macro avg       0.25      0.50      0.34      1500\n",
      "weighted avg       0.26      0.51      0.34      1500\n",
      "\n"
     ]
    }
   ],
   "source": [
    "# best 모델로 예측 및 평가\n",
    "pred = model_rs.predict(x_val_s)\n",
    "print(classification_report(y_val, pred))"
   ]
  },
  {
   "cell_type": "markdown",
   "metadata": {
    "id": "wzN7zbnJhmAt"
   },
   "source": [
    "### (4) Grid Search\n",
    "\n",
    "① 값의 범위를 지정한다.  \n",
    "② 모델링(값의 범위 내에서 모든 조합을 다 시도한다.)  \n",
    "③ 가장 성능이 좋은 값을 선정\n"
   ]
  },
  {
   "cell_type": "markdown",
   "metadata": {
    "id": "E7AOo0wxhmA0"
   },
   "source": [
    "#### ① 값의 범위를 지정한다."
   ]
  },
  {
   "cell_type": "code",
   "execution_count": 90,
   "metadata": {
    "id": "CkVVoyWFhmA0"
   },
   "outputs": [
    {
     "data": {
      "text/plain": [
       "{'n_neighbors': range(3, 31, 2), 'metric': ['euclidean', 'manhattan']}"
      ]
     },
     "execution_count": 90,
     "metadata": {},
     "output_type": "execute_result"
    }
   ],
   "source": [
    "# dictionary형태로 선언\n",
    "params = { 'n_neighbors' : range(3,31,2), 'metric' : ['euclidean', 'manhattan']  }\n",
    "params"
   ]
  },
  {
   "cell_type": "markdown",
   "metadata": {
    "id": "qA_g34P3hmA1"
   },
   "source": [
    "#### ② 모델 선언"
   ]
  },
  {
   "cell_type": "code",
   "execution_count": 91,
   "metadata": {
    "id": "A0Zceq-LhmA1"
   },
   "outputs": [],
   "source": [
    "# 기본모델\n",
    "model = KNeighborsClassifier()\n",
    "\n",
    "# Random Search 설정.\n",
    "model_gs = GridSearchCV(model, params, cv=5)"
   ]
  },
  {
   "cell_type": "markdown",
   "metadata": {
    "id": "lu2BRGzQhmA1"
   },
   "source": [
    "#### ③ 모델링"
   ]
  },
  {
   "cell_type": "code",
   "execution_count": 92,
   "metadata": {
    "id": "XtI3d8uZhmA1"
   },
   "outputs": [
    {
     "data": {
      "text/plain": [
       "GridSearchCV(cv=5, estimator=KNeighborsClassifier(),\n",
       "             param_grid={'metric': ['euclidean', 'manhattan'],\n",
       "                         'n_neighbors': range(3, 31, 2)})"
      ]
     },
     "execution_count": 92,
     "metadata": {},
     "output_type": "execute_result"
    }
   ],
   "source": [
    "# 학습 : model이 아니라 model_rs\n",
    "model_gs.fit(x_train_s, y_train)"
   ]
  },
  {
   "cell_type": "code",
   "execution_count": 93,
   "metadata": {
    "collapsed": true,
    "id": "RnrtbCidhmA1",
    "jupyter": {
     "outputs_hidden": true
    },
    "tags": []
   },
   "outputs": [
    {
     "data": {
      "text/plain": [
       "{'mean_fit_time': array([0.00117168, 0.00142293, 0.00100474, 0.00119529, 0.00133834,\n",
       "        0.0010004 , 0.00139446, 0.00119729, 0.00104122, 0.00116329,\n",
       "        0.00120106, 0.00100446, 0.00122304, 0.00120502, 0.00099902,\n",
       "        0.00103521, 0.00060992, 0.00102916, 0.00079861, 0.00113358,\n",
       "        0.00108528, 0.00102086, 0.00137038, 0.00080657, 0.00100198,\n",
       "        0.00080771, 0.00131483, 0.00079832]),\n",
       " 'std_fit_time': array([4.43109113e-04, 5.22667545e-04, 1.62540631e-05, 3.77172272e-04,\n",
       "        6.26112276e-04, 6.21902422e-06, 4.89736076e-04, 3.93922544e-04,\n",
       "        6.40836854e-05, 2.99192211e-04, 4.06233149e-04, 8.28791816e-06,\n",
       "        2.76964631e-04, 3.96107953e-04, 1.92160050e-06, 7.37943055e-05,\n",
       "        4.98434038e-04, 6.23991299e-05, 3.99304262e-04, 2.30002817e-04,\n",
       "        2.35844642e-04, 4.71915596e-05, 4.60745009e-04, 4.03738391e-04,\n",
       "        2.11967928e-05, 3.47246537e-04, 4.85013724e-04, 3.99161026e-04]),\n",
       " 'mean_score_time': array([0.05807633, 0.0716444 , 0.0642262 , 0.07241011, 0.07274914,\n",
       "        0.06768951, 0.07946281, 0.06446514, 0.0654428 , 0.06473279,\n",
       "        0.06653943, 0.06602921, 0.06811481, 0.06589618, 0.06204653,\n",
       "        0.06115613, 0.06043429, 0.0621346 , 0.06935401, 0.07133121,\n",
       "        0.06815333, 0.07456799, 0.07062144, 0.06492057, 0.07327447,\n",
       "        0.06593318, 0.06760817, 0.06539645]),\n",
       " 'std_score_time': array([0.00433716, 0.00474392, 0.0018259 , 0.00648498, 0.00462764,\n",
       "        0.00679237, 0.01438152, 0.00362855, 0.00301014, 0.00379541,\n",
       "        0.00524847, 0.00208509, 0.00236837, 0.00162   , 0.00963287,\n",
       "        0.0013383 , 0.00243542, 0.00532408, 0.01595918, 0.00739124,\n",
       "        0.00474881, 0.01229026, 0.01001108, 0.00228233, 0.00513646,\n",
       "        0.00339172, 0.00541608, 0.00562732]),\n",
       " 'param_metric': masked_array(data=['euclidean', 'euclidean', 'euclidean', 'euclidean',\n",
       "                    'euclidean', 'euclidean', 'euclidean', 'euclidean',\n",
       "                    'euclidean', 'euclidean', 'euclidean', 'euclidean',\n",
       "                    'euclidean', 'euclidean', 'manhattan', 'manhattan',\n",
       "                    'manhattan', 'manhattan', 'manhattan', 'manhattan',\n",
       "                    'manhattan', 'manhattan', 'manhattan', 'manhattan',\n",
       "                    'manhattan', 'manhattan', 'manhattan', 'manhattan'],\n",
       "              mask=[False, False, False, False, False, False, False, False,\n",
       "                    False, False, False, False, False, False, False, False,\n",
       "                    False, False, False, False, False, False, False, False,\n",
       "                    False, False, False, False],\n",
       "        fill_value='?',\n",
       "             dtype=object),\n",
       " 'param_n_neighbors': masked_array(data=[3, 5, 7, 9, 11, 13, 15, 17, 19, 21, 23, 25, 27, 29, 3,\n",
       "                    5, 7, 9, 11, 13, 15, 17, 19, 21, 23, 25, 27, 29],\n",
       "              mask=[False, False, False, False, False, False, False, False,\n",
       "                    False, False, False, False, False, False, False, False,\n",
       "                    False, False, False, False, False, False, False, False,\n",
       "                    False, False, False, False],\n",
       "        fill_value='?',\n",
       "             dtype=object),\n",
       " 'params': [{'metric': 'euclidean', 'n_neighbors': 3},\n",
       "  {'metric': 'euclidean', 'n_neighbors': 5},\n",
       "  {'metric': 'euclidean', 'n_neighbors': 7},\n",
       "  {'metric': 'euclidean', 'n_neighbors': 9},\n",
       "  {'metric': 'euclidean', 'n_neighbors': 11},\n",
       "  {'metric': 'euclidean', 'n_neighbors': 13},\n",
       "  {'metric': 'euclidean', 'n_neighbors': 15},\n",
       "  {'metric': 'euclidean', 'n_neighbors': 17},\n",
       "  {'metric': 'euclidean', 'n_neighbors': 19},\n",
       "  {'metric': 'euclidean', 'n_neighbors': 21},\n",
       "  {'metric': 'euclidean', 'n_neighbors': 23},\n",
       "  {'metric': 'euclidean', 'n_neighbors': 25},\n",
       "  {'metric': 'euclidean', 'n_neighbors': 27},\n",
       "  {'metric': 'euclidean', 'n_neighbors': 29},\n",
       "  {'metric': 'manhattan', 'n_neighbors': 3},\n",
       "  {'metric': 'manhattan', 'n_neighbors': 5},\n",
       "  {'metric': 'manhattan', 'n_neighbors': 7},\n",
       "  {'metric': 'manhattan', 'n_neighbors': 9},\n",
       "  {'metric': 'manhattan', 'n_neighbors': 11},\n",
       "  {'metric': 'manhattan', 'n_neighbors': 13},\n",
       "  {'metric': 'manhattan', 'n_neighbors': 15},\n",
       "  {'metric': 'manhattan', 'n_neighbors': 17},\n",
       "  {'metric': 'manhattan', 'n_neighbors': 19},\n",
       "  {'metric': 'manhattan', 'n_neighbors': 21},\n",
       "  {'metric': 'manhattan', 'n_neighbors': 23},\n",
       "  {'metric': 'manhattan', 'n_neighbors': 25},\n",
       "  {'metric': 'manhattan', 'n_neighbors': 27},\n",
       "  {'metric': 'manhattan', 'n_neighbors': 29}],\n",
       " 'split0_test_score': array([0.58285714, 0.57857143, 0.58142857, 0.58285714, 0.57142857,\n",
       "        0.57857143, 0.57428571, 0.59      , 0.59142857, 0.59      ,\n",
       "        0.59857143, 0.58857143, 0.59142857, 0.58285714, 0.57714286,\n",
       "        0.60428571, 0.58285714, 0.59571429, 0.60428571, 0.61285714,\n",
       "        0.60571429, 0.60857143, 0.60571429, 0.61571429, 0.62714286,\n",
       "        0.63285714, 0.63      , 0.62857143]),\n",
       " 'split1_test_score': array([0.57714286, 0.59857143, 0.57857143, 0.57714286, 0.57857143,\n",
       "        0.58714286, 0.59428571, 0.59285714, 0.6       , 0.59142857,\n",
       "        0.60142857, 0.60571429, 0.58571429, 0.58571429, 0.58142857,\n",
       "        0.59285714, 0.59714286, 0.59714286, 0.60428571, 0.58857143,\n",
       "        0.59857143, 0.60428571, 0.61      , 0.62285714, 0.61428571,\n",
       "        0.62      , 0.61571429, 0.62142857]),\n",
       " 'split2_test_score': array([0.55428571, 0.56857143, 0.56857143, 0.55714286, 0.54428571,\n",
       "        0.56285714, 0.57714286, 0.56714286, 0.56857143, 0.57857143,\n",
       "        0.59      , 0.58142857, 0.58428571, 0.59142857, 0.54857143,\n",
       "        0.57714286, 0.58      , 0.57428571, 0.59714286, 0.59      ,\n",
       "        0.59428571, 0.60571429, 0.60714286, 0.62      , 0.61571429,\n",
       "        0.61285714, 0.62857143, 0.63142857]),\n",
       " 'split3_test_score': array([0.6       , 0.57857143, 0.58      , 0.57857143, 0.58142857,\n",
       "        0.58285714, 0.59285714, 0.6       , 0.57857143, 0.57857143,\n",
       "        0.57714286, 0.57571429, 0.56857143, 0.56857143, 0.59      ,\n",
       "        0.58285714, 0.61      , 0.61142857, 0.60857143, 0.60571429,\n",
       "        0.60571429, 0.59428571, 0.59428571, 0.60857143, 0.61285714,\n",
       "        0.60714286, 0.61571429, 0.61428571]),\n",
       " 'split4_test_score': array([0.58      , 0.57285714, 0.57714286, 0.57142857, 0.56428571,\n",
       "        0.56142857, 0.56571429, 0.56285714, 0.55714286, 0.56428571,\n",
       "        0.56285714, 0.57142857, 0.56857143, 0.57285714, 0.56857143,\n",
       "        0.6       , 0.58857143, 0.57857143, 0.57714286, 0.59142857,\n",
       "        0.59285714, 0.59428571, 0.59142857, 0.58571429, 0.58      ,\n",
       "        0.58428571, 0.60285714, 0.59428571]),\n",
       " 'mean_test_score': array([0.57885714, 0.57942857, 0.57714286, 0.57342857, 0.568     ,\n",
       "        0.57457143, 0.58085714, 0.58257143, 0.57914286, 0.58057143,\n",
       "        0.586     , 0.58457143, 0.57971429, 0.58028571, 0.57314286,\n",
       "        0.59142857, 0.59171429, 0.59142857, 0.59828571, 0.59771429,\n",
       "        0.59942857, 0.60142857, 0.60171429, 0.61057143, 0.61      ,\n",
       "        0.61142857, 0.61857143, 0.618     ]),\n",
       " 'std_test_score': array([0.01463571, 0.01028571, 0.00451754, 0.008926  , 0.0132665 ,\n",
       "        0.01051335, 0.0110509 , 0.0147745 , 0.01537557, 0.00979796,\n",
       "        0.01432566, 0.01203397, 0.0094069 , 0.00839825, 0.01409588,\n",
       "        0.01018202, 0.01085714, 0.01349225, 0.01119037, 0.00975621,\n",
       "        0.00546604, 0.00599319, 0.00741757, 0.01332789, 0.01583074,\n",
       "        0.01606111, 0.00993859, 0.0132665 ]),\n",
       " 'rank_test_score': array([23, 21, 24, 26, 28, 25, 17, 16, 22, 18, 14, 15, 20, 19, 27, 13, 11,\n",
       "        12,  9, 10,  8,  7,  6,  4,  5,  3,  1,  2])}"
      ]
     },
     "execution_count": 93,
     "metadata": {},
     "output_type": "execute_result"
    }
   ],
   "source": [
    "# 튜닝 결과\n",
    "model_gs.cv_results_"
   ]
  },
  {
   "cell_type": "code",
   "execution_count": null,
   "metadata": {
    "id": "B7KakeYkhmA1"
   },
   "outputs": [],
   "source": [
    "model_gs.cv_results_['params']"
   ]
  },
  {
   "cell_type": "code",
   "execution_count": 127,
   "metadata": {
    "id": "bweqbwp4hmA2"
   },
   "outputs": [
    {
     "data": {
      "text/plain": [
       "array([0.57885714, 0.57942857, 0.57714286, 0.57342857, 0.568     ,\n",
       "       0.57457143, 0.58085714, 0.58257143, 0.57914286, 0.58057143,\n",
       "       0.586     , 0.58457143, 0.57971429, 0.58028571, 0.57314286,\n",
       "       0.59142857, 0.59171429, 0.59142857, 0.59828571, 0.59771429,\n",
       "       0.59942857, 0.60142857, 0.60171429, 0.61057143, 0.61      ,\n",
       "       0.61142857, 0.61857143, 0.618     ])"
      ]
     },
     "execution_count": 127,
     "metadata": {},
     "output_type": "execute_result"
    }
   ],
   "source": [
    "model_gs.cv_results_['mean_test_score']"
   ]
  },
  {
   "cell_type": "code",
   "execution_count": 128,
   "metadata": {
    "id": "6m0F5W3IhmA2"
   },
   "outputs": [
    {
     "data": {
      "text/plain": [
       "{'metric': 'manhattan', 'n_neighbors': 27}"
      ]
     },
     "execution_count": 128,
     "metadata": {},
     "output_type": "execute_result"
    }
   ],
   "source": [
    "# 최적의 파라미터\n",
    "model_gs.best_params_"
   ]
  },
  {
   "cell_type": "code",
   "execution_count": 129,
   "metadata": {
    "id": "1aaAI6PshmA2"
   },
   "outputs": [
    {
     "data": {
      "text/plain": [
       "0.6185714285714285"
      ]
     },
     "execution_count": 129,
     "metadata": {},
     "output_type": "execute_result"
    }
   ],
   "source": [
    "# 그때의 성능\n",
    "model_gs.best_score_"
   ]
  },
  {
   "cell_type": "code",
   "execution_count": null,
   "metadata": {
    "id": "aW3lOKgKhmA2"
   },
   "outputs": [],
   "source": [
    "# best 모델로 예측 및 평가\n",
    "pred = model_gs.predict(x_val_s)\n",
    "print(classification_report(y_val, pred))"
   ]
  },
  {
   "cell_type": "markdown",
   "metadata": {
    "id": "DobFs64hhmA2"
   },
   "source": [
    "### (5) 실습 : Grid Search\n",
    "\n",
    "* decision tree로 튜닝을 시도해 봅시다.\n",
    "    * max_depth : 1~10\n",
    "    * min_samples_leaf : 10 ~ 100"
   ]
  },
  {
   "cell_type": "markdown",
   "metadata": {
    "id": "vHvcEIqJhmA3"
   },
   "source": [
    "#### ① 값의 범위를 지정한다."
   ]
  },
  {
   "cell_type": "code",
   "execution_count": 82,
   "metadata": {
    "id": "A0fCwubihmA5"
   },
   "outputs": [
    {
     "data": {
      "text/plain": [
       "{'max_depth': range(1, 11), 'min_samples_leaf': range(10, 101, 10)}"
      ]
     },
     "execution_count": 82,
     "metadata": {},
     "output_type": "execute_result"
    }
   ],
   "source": [
    "params = {'max_depth':range(1,11), 'min_samples_leaf':range(10,101,10)}\n",
    "params"
   ]
  },
  {
   "cell_type": "markdown",
   "metadata": {
    "id": "tKoDEEbzhmA5"
   },
   "source": [
    "#### ② 모델 선언"
   ]
  },
  {
   "cell_type": "code",
   "execution_count": 136,
   "metadata": {
    "id": "26SqSRbLhmA5"
   },
   "outputs": [],
   "source": [
    "m1 = DecisionTreeClassifier()\n",
    "m1_gs = GridSearchCV(m1, params,cv=5,verbose=3)"
   ]
  },
  {
   "cell_type": "markdown",
   "metadata": {
    "id": "YT-krLWkhmA5"
   },
   "source": [
    "#### ③ 모델링"
   ]
  },
  {
   "cell_type": "code",
   "execution_count": 137,
   "metadata": {
    "collapsed": true,
    "id": "Sciat7vk7k1-",
    "jupyter": {
     "outputs_hidden": true
    },
    "tags": []
   },
   "outputs": [
    {
     "name": "stdout",
     "output_type": "stream",
     "text": [
      "Fitting 5 folds for each of 100 candidates, totalling 500 fits\n",
      "[CV 1/5] END ...............max_depth=1, min_samples_leaf=10; total time=   0.0s\n",
      "[CV 2/5] END ...............max_depth=1, min_samples_leaf=10; total time=   0.0s\n",
      "[CV 3/5] END ...............max_depth=1, min_samples_leaf=10; total time=   0.0s\n",
      "[CV 4/5] END ...............max_depth=1, min_samples_leaf=10; total time=   0.0s\n",
      "[CV 5/5] END ...............max_depth=1, min_samples_leaf=10; total time=   0.0s\n",
      "[CV 1/5] END ...............max_depth=1, min_samples_leaf=20; total time=   0.0s\n",
      "[CV 2/5] END ...............max_depth=1, min_samples_leaf=20; total time=   0.0s\n",
      "[CV 3/5] END ...............max_depth=1, min_samples_leaf=20; total time=   0.0s\n",
      "[CV 4/5] END ...............max_depth=1, min_samples_leaf=20; total time=   0.0s\n",
      "[CV 5/5] END ...............max_depth=1, min_samples_leaf=20; total time=   0.0s\n",
      "[CV 1/5] END ...............max_depth=1, min_samples_leaf=30; total time=   0.0s\n",
      "[CV 2/5] END ...............max_depth=1, min_samples_leaf=30; total time=   0.0s\n",
      "[CV 3/5] END ...............max_depth=1, min_samples_leaf=30; total time=   0.0s\n",
      "[CV 4/5] END ...............max_depth=1, min_samples_leaf=30; total time=   0.0s\n",
      "[CV 5/5] END ...............max_depth=1, min_samples_leaf=30; total time=   0.0s\n",
      "[CV 1/5] END ...............max_depth=1, min_samples_leaf=40; total time=   0.0s\n",
      "[CV 2/5] END ...............max_depth=1, min_samples_leaf=40; total time=   0.0s\n",
      "[CV 3/5] END ...............max_depth=1, min_samples_leaf=40; total time=   0.0s\n",
      "[CV 4/5] END ...............max_depth=1, min_samples_leaf=40; total time=   0.0s\n",
      "[CV 5/5] END ...............max_depth=1, min_samples_leaf=40; total time=   0.0s\n",
      "[CV 1/5] END ...............max_depth=1, min_samples_leaf=50; total time=   0.0s\n",
      "[CV 2/5] END ...............max_depth=1, min_samples_leaf=50; total time=   0.0s\n",
      "[CV 3/5] END ...............max_depth=1, min_samples_leaf=50; total time=   0.0s\n",
      "[CV 4/5] END ...............max_depth=1, min_samples_leaf=50; total time=   0.0s\n",
      "[CV 5/5] END ...............max_depth=1, min_samples_leaf=50; total time=   0.0s\n",
      "[CV 1/5] END ...............max_depth=1, min_samples_leaf=60; total time=   0.0s\n",
      "[CV 2/5] END ...............max_depth=1, min_samples_leaf=60; total time=   0.0s\n",
      "[CV 3/5] END ...............max_depth=1, min_samples_leaf=60; total time=   0.0s\n",
      "[CV 4/5] END ...............max_depth=1, min_samples_leaf=60; total time=   0.0s\n",
      "[CV 5/5] END ...............max_depth=1, min_samples_leaf=60; total time=   0.0s\n",
      "[CV 1/5] END ...............max_depth=1, min_samples_leaf=70; total time=   0.0s\n",
      "[CV 2/5] END ...............max_depth=1, min_samples_leaf=70; total time=   0.0s\n",
      "[CV 3/5] END ...............max_depth=1, min_samples_leaf=70; total time=   0.0s\n",
      "[CV 4/5] END ...............max_depth=1, min_samples_leaf=70; total time=   0.0s\n",
      "[CV 5/5] END ...............max_depth=1, min_samples_leaf=70; total time=   0.0s\n",
      "[CV 1/5] END ...............max_depth=1, min_samples_leaf=80; total time=   0.0s\n",
      "[CV 2/5] END ...............max_depth=1, min_samples_leaf=80; total time=   0.0s\n",
      "[CV 3/5] END ...............max_depth=1, min_samples_leaf=80; total time=   0.0s\n",
      "[CV 4/5] END ...............max_depth=1, min_samples_leaf=80; total time=   0.0s\n",
      "[CV 5/5] END ...............max_depth=1, min_samples_leaf=80; total time=   0.0s\n",
      "[CV 1/5] END ...............max_depth=1, min_samples_leaf=90; total time=   0.0s\n",
      "[CV 2/5] END ...............max_depth=1, min_samples_leaf=90; total time=   0.0s\n",
      "[CV 3/5] END ...............max_depth=1, min_samples_leaf=90; total time=   0.0s\n",
      "[CV 4/5] END ...............max_depth=1, min_samples_leaf=90; total time=   0.0s\n",
      "[CV 5/5] END ...............max_depth=1, min_samples_leaf=90; total time=   0.0s\n",
      "[CV 1/5] END ..............max_depth=1, min_samples_leaf=100; total time=   0.0s\n",
      "[CV 2/5] END ..............max_depth=1, min_samples_leaf=100; total time=   0.0s\n",
      "[CV 3/5] END ..............max_depth=1, min_samples_leaf=100; total time=   0.0s\n",
      "[CV 4/5] END ..............max_depth=1, min_samples_leaf=100; total time=   0.0s\n",
      "[CV 5/5] END ..............max_depth=1, min_samples_leaf=100; total time=   0.0s\n",
      "[CV 1/5] END ...............max_depth=2, min_samples_leaf=10; total time=   0.0s\n",
      "[CV 2/5] END ...............max_depth=2, min_samples_leaf=10; total time=   0.0s\n",
      "[CV 3/5] END ...............max_depth=2, min_samples_leaf=10; total time=   0.0s\n",
      "[CV 4/5] END ...............max_depth=2, min_samples_leaf=10; total time=   0.0s\n",
      "[CV 5/5] END ...............max_depth=2, min_samples_leaf=10; total time=   0.0s\n",
      "[CV 1/5] END ...............max_depth=2, min_samples_leaf=20; total time=   0.0s\n",
      "[CV 2/5] END ...............max_depth=2, min_samples_leaf=20; total time=   0.0s\n",
      "[CV 3/5] END ...............max_depth=2, min_samples_leaf=20; total time=   0.0s\n",
      "[CV 4/5] END ...............max_depth=2, min_samples_leaf=20; total time=   0.0s\n",
      "[CV 5/5] END ...............max_depth=2, min_samples_leaf=20; total time=   0.0s\n",
      "[CV 1/5] END ...............max_depth=2, min_samples_leaf=30; total time=   0.0s\n",
      "[CV 2/5] END ...............max_depth=2, min_samples_leaf=30; total time=   0.0s\n",
      "[CV 3/5] END ...............max_depth=2, min_samples_leaf=30; total time=   0.0s\n",
      "[CV 4/5] END ...............max_depth=2, min_samples_leaf=30; total time=   0.0s\n",
      "[CV 5/5] END ...............max_depth=2, min_samples_leaf=30; total time=   0.0s\n",
      "[CV 1/5] END ...............max_depth=2, min_samples_leaf=40; total time=   0.0s\n",
      "[CV 2/5] END ...............max_depth=2, min_samples_leaf=40; total time=   0.0s\n",
      "[CV 3/5] END ...............max_depth=2, min_samples_leaf=40; total time=   0.0s\n",
      "[CV 4/5] END ...............max_depth=2, min_samples_leaf=40; total time=   0.0s\n",
      "[CV 5/5] END ...............max_depth=2, min_samples_leaf=40; total time=   0.0s\n",
      "[CV 1/5] END ...............max_depth=2, min_samples_leaf=50; total time=   0.0s\n",
      "[CV 2/5] END ...............max_depth=2, min_samples_leaf=50; total time=   0.0s\n",
      "[CV 3/5] END ...............max_depth=2, min_samples_leaf=50; total time=   0.0s\n",
      "[CV 4/5] END ...............max_depth=2, min_samples_leaf=50; total time=   0.0s\n",
      "[CV 5/5] END ...............max_depth=2, min_samples_leaf=50; total time=   0.0s\n",
      "[CV 1/5] END ...............max_depth=2, min_samples_leaf=60; total time=   0.0s\n",
      "[CV 2/5] END ...............max_depth=2, min_samples_leaf=60; total time=   0.0s\n",
      "[CV 3/5] END ...............max_depth=2, min_samples_leaf=60; total time=   0.0s\n",
      "[CV 4/5] END ...............max_depth=2, min_samples_leaf=60; total time=   0.0s\n",
      "[CV 5/5] END ...............max_depth=2, min_samples_leaf=60; total time=   0.0s\n",
      "[CV 1/5] END ...............max_depth=2, min_samples_leaf=70; total time=   0.0s\n",
      "[CV 2/5] END ...............max_depth=2, min_samples_leaf=70; total time=   0.0s\n",
      "[CV 3/5] END ...............max_depth=2, min_samples_leaf=70; total time=   0.0s\n",
      "[CV 4/5] END ...............max_depth=2, min_samples_leaf=70; total time=   0.0s\n",
      "[CV 5/5] END ...............max_depth=2, min_samples_leaf=70; total time=   0.0s\n",
      "[CV 1/5] END ...............max_depth=2, min_samples_leaf=80; total time=   0.0s\n",
      "[CV 2/5] END ...............max_depth=2, min_samples_leaf=80; total time=   0.0s\n",
      "[CV 3/5] END ...............max_depth=2, min_samples_leaf=80; total time=   0.0s\n",
      "[CV 4/5] END ...............max_depth=2, min_samples_leaf=80; total time=   0.0s\n",
      "[CV 5/5] END ...............max_depth=2, min_samples_leaf=80; total time=   0.0s\n",
      "[CV 1/5] END ...............max_depth=2, min_samples_leaf=90; total time=   0.0s\n",
      "[CV 2/5] END ...............max_depth=2, min_samples_leaf=90; total time=   0.0s\n",
      "[CV 3/5] END ...............max_depth=2, min_samples_leaf=90; total time=   0.0s\n",
      "[CV 4/5] END ...............max_depth=2, min_samples_leaf=90; total time=   0.0s\n",
      "[CV 5/5] END ...............max_depth=2, min_samples_leaf=90; total time=   0.0s\n",
      "[CV 1/5] END ..............max_depth=2, min_samples_leaf=100; total time=   0.0s\n",
      "[CV 2/5] END ..............max_depth=2, min_samples_leaf=100; total time=   0.0s\n",
      "[CV 3/5] END ..............max_depth=2, min_samples_leaf=100; total time=   0.0s\n",
      "[CV 4/5] END ..............max_depth=2, min_samples_leaf=100; total time=   0.0s\n",
      "[CV 5/5] END ..............max_depth=2, min_samples_leaf=100; total time=   0.0s\n",
      "[CV 1/5] END ...............max_depth=3, min_samples_leaf=10; total time=   0.0s\n",
      "[CV 2/5] END ...............max_depth=3, min_samples_leaf=10; total time=   0.0s\n",
      "[CV 3/5] END ...............max_depth=3, min_samples_leaf=10; total time=   0.0s\n",
      "[CV 4/5] END ...............max_depth=3, min_samples_leaf=10; total time=   0.0s\n",
      "[CV 5/5] END ...............max_depth=3, min_samples_leaf=10; total time=   0.0s\n",
      "[CV 1/5] END ...............max_depth=3, min_samples_leaf=20; total time=   0.0s\n",
      "[CV 2/5] END ...............max_depth=3, min_samples_leaf=20; total time=   0.0s\n",
      "[CV 3/5] END ...............max_depth=3, min_samples_leaf=20; total time=   0.0s\n",
      "[CV 4/5] END ...............max_depth=3, min_samples_leaf=20; total time=   0.0s\n",
      "[CV 5/5] END ...............max_depth=3, min_samples_leaf=20; total time=   0.0s\n",
      "[CV 1/5] END ...............max_depth=3, min_samples_leaf=30; total time=   0.0s\n",
      "[CV 2/5] END ...............max_depth=3, min_samples_leaf=30; total time=   0.0s\n",
      "[CV 3/5] END ...............max_depth=3, min_samples_leaf=30; total time=   0.0s\n",
      "[CV 4/5] END ...............max_depth=3, min_samples_leaf=30; total time=   0.0s\n",
      "[CV 5/5] END ...............max_depth=3, min_samples_leaf=30; total time=   0.0s\n",
      "[CV 1/5] END ...............max_depth=3, min_samples_leaf=40; total time=   0.0s\n",
      "[CV 2/5] END ...............max_depth=3, min_samples_leaf=40; total time=   0.0s\n",
      "[CV 3/5] END ...............max_depth=3, min_samples_leaf=40; total time=   0.0s\n",
      "[CV 4/5] END ...............max_depth=3, min_samples_leaf=40; total time=   0.0s\n",
      "[CV 5/5] END ...............max_depth=3, min_samples_leaf=40; total time=   0.0s\n",
      "[CV 1/5] END ...............max_depth=3, min_samples_leaf=50; total time=   0.0s\n",
      "[CV 2/5] END ...............max_depth=3, min_samples_leaf=50; total time=   0.0s\n",
      "[CV 3/5] END ...............max_depth=3, min_samples_leaf=50; total time=   0.0s\n",
      "[CV 4/5] END ...............max_depth=3, min_samples_leaf=50; total time=   0.0s\n",
      "[CV 5/5] END ...............max_depth=3, min_samples_leaf=50; total time=   0.0s\n",
      "[CV 1/5] END ...............max_depth=3, min_samples_leaf=60; total time=   0.0s\n",
      "[CV 2/5] END ...............max_depth=3, min_samples_leaf=60; total time=   0.0s\n",
      "[CV 3/5] END ...............max_depth=3, min_samples_leaf=60; total time=   0.0s\n",
      "[CV 4/5] END ...............max_depth=3, min_samples_leaf=60; total time=   0.0s\n",
      "[CV 5/5] END ...............max_depth=3, min_samples_leaf=60; total time=   0.0s\n",
      "[CV 1/5] END ...............max_depth=3, min_samples_leaf=70; total time=   0.0s\n",
      "[CV 2/5] END ...............max_depth=3, min_samples_leaf=70; total time=   0.0s\n",
      "[CV 3/5] END ...............max_depth=3, min_samples_leaf=70; total time=   0.0s\n",
      "[CV 4/5] END ...............max_depth=3, min_samples_leaf=70; total time=   0.0s\n",
      "[CV 5/5] END ...............max_depth=3, min_samples_leaf=70; total time=   0.0s\n",
      "[CV 1/5] END ...............max_depth=3, min_samples_leaf=80; total time=   0.0s\n",
      "[CV 2/5] END ...............max_depth=3, min_samples_leaf=80; total time=   0.0s\n",
      "[CV 3/5] END ...............max_depth=3, min_samples_leaf=80; total time=   0.0s\n",
      "[CV 4/5] END ...............max_depth=3, min_samples_leaf=80; total time=   0.0s\n",
      "[CV 5/5] END ...............max_depth=3, min_samples_leaf=80; total time=   0.0s\n",
      "[CV 1/5] END ...............max_depth=3, min_samples_leaf=90; total time=   0.0s\n",
      "[CV 2/5] END ...............max_depth=3, min_samples_leaf=90; total time=   0.0s\n",
      "[CV 3/5] END ...............max_depth=3, min_samples_leaf=90; total time=   0.0s\n",
      "[CV 4/5] END ...............max_depth=3, min_samples_leaf=90; total time=   0.0s\n",
      "[CV 5/5] END ...............max_depth=3, min_samples_leaf=90; total time=   0.0s\n",
      "[CV 1/5] END ..............max_depth=3, min_samples_leaf=100; total time=   0.0s\n",
      "[CV 2/5] END ..............max_depth=3, min_samples_leaf=100; total time=   0.0s\n",
      "[CV 3/5] END ..............max_depth=3, min_samples_leaf=100; total time=   0.0s\n",
      "[CV 4/5] END ..............max_depth=3, min_samples_leaf=100; total time=   0.0s\n",
      "[CV 5/5] END ..............max_depth=3, min_samples_leaf=100; total time=   0.0s\n",
      "[CV 1/5] END ...............max_depth=4, min_samples_leaf=10; total time=   0.0s\n",
      "[CV 2/5] END ...............max_depth=4, min_samples_leaf=10; total time=   0.0s\n",
      "[CV 3/5] END ...............max_depth=4, min_samples_leaf=10; total time=   0.0s\n",
      "[CV 4/5] END ...............max_depth=4, min_samples_leaf=10; total time=   0.0s\n",
      "[CV 5/5] END ...............max_depth=4, min_samples_leaf=10; total time=   0.0s\n",
      "[CV 1/5] END ...............max_depth=4, min_samples_leaf=20; total time=   0.0s\n",
      "[CV 2/5] END ...............max_depth=4, min_samples_leaf=20; total time=   0.0s\n",
      "[CV 3/5] END ...............max_depth=4, min_samples_leaf=20; total time=   0.0s\n",
      "[CV 4/5] END ...............max_depth=4, min_samples_leaf=20; total time=   0.0s\n",
      "[CV 5/5] END ...............max_depth=4, min_samples_leaf=20; total time=   0.0s\n",
      "[CV 1/5] END ...............max_depth=4, min_samples_leaf=30; total time=   0.0s\n",
      "[CV 2/5] END ...............max_depth=4, min_samples_leaf=30; total time=   0.0s\n",
      "[CV 3/5] END ...............max_depth=4, min_samples_leaf=30; total time=   0.0s\n",
      "[CV 4/5] END ...............max_depth=4, min_samples_leaf=30; total time=   0.0s\n",
      "[CV 5/5] END ...............max_depth=4, min_samples_leaf=30; total time=   0.0s\n",
      "[CV 1/5] END ...............max_depth=4, min_samples_leaf=40; total time=   0.0s\n",
      "[CV 2/5] END ...............max_depth=4, min_samples_leaf=40; total time=   0.0s\n",
      "[CV 3/5] END ...............max_depth=4, min_samples_leaf=40; total time=   0.0s\n",
      "[CV 4/5] END ...............max_depth=4, min_samples_leaf=40; total time=   0.0s\n",
      "[CV 5/5] END ...............max_depth=4, min_samples_leaf=40; total time=   0.0s\n",
      "[CV 1/5] END ...............max_depth=4, min_samples_leaf=50; total time=   0.0s\n",
      "[CV 2/5] END ...............max_depth=4, min_samples_leaf=50; total time=   0.0s\n",
      "[CV 3/5] END ...............max_depth=4, min_samples_leaf=50; total time=   0.0s\n",
      "[CV 4/5] END ...............max_depth=4, min_samples_leaf=50; total time=   0.0s\n",
      "[CV 5/5] END ...............max_depth=4, min_samples_leaf=50; total time=   0.0s\n",
      "[CV 1/5] END ...............max_depth=4, min_samples_leaf=60; total time=   0.0s\n",
      "[CV 2/5] END ...............max_depth=4, min_samples_leaf=60; total time=   0.0s\n",
      "[CV 3/5] END ...............max_depth=4, min_samples_leaf=60; total time=   0.0s\n",
      "[CV 4/5] END ...............max_depth=4, min_samples_leaf=60; total time=   0.0s\n",
      "[CV 5/5] END ...............max_depth=4, min_samples_leaf=60; total time=   0.0s\n",
      "[CV 1/5] END ...............max_depth=4, min_samples_leaf=70; total time=   0.0s\n",
      "[CV 2/5] END ...............max_depth=4, min_samples_leaf=70; total time=   0.0s\n",
      "[CV 3/5] END ...............max_depth=4, min_samples_leaf=70; total time=   0.0s\n",
      "[CV 4/5] END ...............max_depth=4, min_samples_leaf=70; total time=   0.0s\n",
      "[CV 5/5] END ...............max_depth=4, min_samples_leaf=70; total time=   0.0s\n",
      "[CV 1/5] END ...............max_depth=4, min_samples_leaf=80; total time=   0.0s\n",
      "[CV 2/5] END ...............max_depth=4, min_samples_leaf=80; total time=   0.0s\n",
      "[CV 3/5] END ...............max_depth=4, min_samples_leaf=80; total time=   0.0s\n",
      "[CV 4/5] END ...............max_depth=4, min_samples_leaf=80; total time=   0.0s\n",
      "[CV 5/5] END ...............max_depth=4, min_samples_leaf=80; total time=   0.0s\n",
      "[CV 1/5] END ...............max_depth=4, min_samples_leaf=90; total time=   0.0s\n",
      "[CV 2/5] END ...............max_depth=4, min_samples_leaf=90; total time=   0.0s\n",
      "[CV 3/5] END ...............max_depth=4, min_samples_leaf=90; total time=   0.0s\n",
      "[CV 4/5] END ...............max_depth=4, min_samples_leaf=90; total time=   0.0s\n",
      "[CV 5/5] END ...............max_depth=4, min_samples_leaf=90; total time=   0.0s\n",
      "[CV 1/5] END ..............max_depth=4, min_samples_leaf=100; total time=   0.0s\n",
      "[CV 2/5] END ..............max_depth=4, min_samples_leaf=100; total time=   0.0s\n",
      "[CV 3/5] END ..............max_depth=4, min_samples_leaf=100; total time=   0.0s\n",
      "[CV 4/5] END ..............max_depth=4, min_samples_leaf=100; total time=   0.0s\n",
      "[CV 5/5] END ..............max_depth=4, min_samples_leaf=100; total time=   0.0s\n",
      "[CV 1/5] END ...............max_depth=5, min_samples_leaf=10; total time=   0.0s\n",
      "[CV 2/5] END ...............max_depth=5, min_samples_leaf=10; total time=   0.0s\n",
      "[CV 3/5] END ...............max_depth=5, min_samples_leaf=10; total time=   0.0s\n",
      "[CV 4/5] END ...............max_depth=5, min_samples_leaf=10; total time=   0.0s\n",
      "[CV 5/5] END ...............max_depth=5, min_samples_leaf=10; total time=   0.0s\n",
      "[CV 1/5] END ...............max_depth=5, min_samples_leaf=20; total time=   0.0s\n",
      "[CV 2/5] END ...............max_depth=5, min_samples_leaf=20; total time=   0.0s\n",
      "[CV 3/5] END ...............max_depth=5, min_samples_leaf=20; total time=   0.0s\n",
      "[CV 4/5] END ...............max_depth=5, min_samples_leaf=20; total time=   0.0s\n",
      "[CV 5/5] END ...............max_depth=5, min_samples_leaf=20; total time=   0.0s\n",
      "[CV 1/5] END ...............max_depth=5, min_samples_leaf=30; total time=   0.0s\n",
      "[CV 2/5] END ...............max_depth=5, min_samples_leaf=30; total time=   0.0s\n",
      "[CV 3/5] END ...............max_depth=5, min_samples_leaf=30; total time=   0.0s\n",
      "[CV 4/5] END ...............max_depth=5, min_samples_leaf=30; total time=   0.0s\n",
      "[CV 5/5] END ...............max_depth=5, min_samples_leaf=30; total time=   0.0s\n",
      "[CV 1/5] END ...............max_depth=5, min_samples_leaf=40; total time=   0.0s\n",
      "[CV 2/5] END ...............max_depth=5, min_samples_leaf=40; total time=   0.0s\n",
      "[CV 3/5] END ...............max_depth=5, min_samples_leaf=40; total time=   0.0s\n",
      "[CV 4/5] END ...............max_depth=5, min_samples_leaf=40; total time=   0.0s\n",
      "[CV 5/5] END ...............max_depth=5, min_samples_leaf=40; total time=   0.0s\n",
      "[CV 1/5] END ...............max_depth=5, min_samples_leaf=50; total time=   0.0s\n",
      "[CV 2/5] END ...............max_depth=5, min_samples_leaf=50; total time=   0.0s\n",
      "[CV 3/5] END ...............max_depth=5, min_samples_leaf=50; total time=   0.0s\n",
      "[CV 4/5] END ...............max_depth=5, min_samples_leaf=50; total time=   0.0s\n",
      "[CV 5/5] END ...............max_depth=5, min_samples_leaf=50; total time=   0.0s\n",
      "[CV 1/5] END ...............max_depth=5, min_samples_leaf=60; total time=   0.0s\n",
      "[CV 2/5] END ...............max_depth=5, min_samples_leaf=60; total time=   0.0s\n",
      "[CV 3/5] END ...............max_depth=5, min_samples_leaf=60; total time=   0.0s\n",
      "[CV 4/5] END ...............max_depth=5, min_samples_leaf=60; total time=   0.0s\n",
      "[CV 5/5] END ...............max_depth=5, min_samples_leaf=60; total time=   0.0s\n",
      "[CV 1/5] END ...............max_depth=5, min_samples_leaf=70; total time=   0.0s\n",
      "[CV 2/5] END ...............max_depth=5, min_samples_leaf=70; total time=   0.0s\n",
      "[CV 3/5] END ...............max_depth=5, min_samples_leaf=70; total time=   0.0s\n",
      "[CV 4/5] END ...............max_depth=5, min_samples_leaf=70; total time=   0.0s\n",
      "[CV 5/5] END ...............max_depth=5, min_samples_leaf=70; total time=   0.0s\n",
      "[CV 1/5] END ...............max_depth=5, min_samples_leaf=80; total time=   0.0s\n",
      "[CV 2/5] END ...............max_depth=5, min_samples_leaf=80; total time=   0.0s\n",
      "[CV 3/5] END ...............max_depth=5, min_samples_leaf=80; total time=   0.0s\n",
      "[CV 4/5] END ...............max_depth=5, min_samples_leaf=80; total time=   0.0s\n",
      "[CV 5/5] END ...............max_depth=5, min_samples_leaf=80; total time=   0.0s\n",
      "[CV 1/5] END ...............max_depth=5, min_samples_leaf=90; total time=   0.0s\n",
      "[CV 2/5] END ...............max_depth=5, min_samples_leaf=90; total time=   0.0s\n",
      "[CV 3/5] END ...............max_depth=5, min_samples_leaf=90; total time=   0.0s\n",
      "[CV 4/5] END ...............max_depth=5, min_samples_leaf=90; total time=   0.0s\n",
      "[CV 5/5] END ...............max_depth=5, min_samples_leaf=90; total time=   0.0s\n",
      "[CV 1/5] END ..............max_depth=5, min_samples_leaf=100; total time=   0.0s\n",
      "[CV 2/5] END ..............max_depth=5, min_samples_leaf=100; total time=   0.0s\n",
      "[CV 3/5] END ..............max_depth=5, min_samples_leaf=100; total time=   0.0s\n",
      "[CV 4/5] END ..............max_depth=5, min_samples_leaf=100; total time=   0.0s\n",
      "[CV 5/5] END ..............max_depth=5, min_samples_leaf=100; total time=   0.0s\n",
      "[CV 1/5] END ...............max_depth=6, min_samples_leaf=10; total time=   0.0s\n",
      "[CV 2/5] END ...............max_depth=6, min_samples_leaf=10; total time=   0.0s\n",
      "[CV 3/5] END ...............max_depth=6, min_samples_leaf=10; total time=   0.0s\n",
      "[CV 4/5] END ...............max_depth=6, min_samples_leaf=10; total time=   0.0s\n",
      "[CV 5/5] END ...............max_depth=6, min_samples_leaf=10; total time=   0.0s\n",
      "[CV 1/5] END ...............max_depth=6, min_samples_leaf=20; total time=   0.0s\n",
      "[CV 2/5] END ...............max_depth=6, min_samples_leaf=20; total time=   0.0s\n",
      "[CV 3/5] END ...............max_depth=6, min_samples_leaf=20; total time=   0.0s\n",
      "[CV 4/5] END ...............max_depth=6, min_samples_leaf=20; total time=   0.0s\n",
      "[CV 5/5] END ...............max_depth=6, min_samples_leaf=20; total time=   0.0s\n",
      "[CV 1/5] END ...............max_depth=6, min_samples_leaf=30; total time=   0.0s\n",
      "[CV 2/5] END ...............max_depth=6, min_samples_leaf=30; total time=   0.0s\n",
      "[CV 3/5] END ...............max_depth=6, min_samples_leaf=30; total time=   0.0s\n",
      "[CV 4/5] END ...............max_depth=6, min_samples_leaf=30; total time=   0.0s\n",
      "[CV 5/5] END ...............max_depth=6, min_samples_leaf=30; total time=   0.0s\n",
      "[CV 1/5] END ...............max_depth=6, min_samples_leaf=40; total time=   0.0s\n",
      "[CV 2/5] END ...............max_depth=6, min_samples_leaf=40; total time=   0.0s\n",
      "[CV 3/5] END ...............max_depth=6, min_samples_leaf=40; total time=   0.0s\n",
      "[CV 4/5] END ...............max_depth=6, min_samples_leaf=40; total time=   0.0s\n",
      "[CV 5/5] END ...............max_depth=6, min_samples_leaf=40; total time=   0.0s\n",
      "[CV 1/5] END ...............max_depth=6, min_samples_leaf=50; total time=   0.0s\n",
      "[CV 2/5] END ...............max_depth=6, min_samples_leaf=50; total time=   0.0s\n",
      "[CV 3/5] END ...............max_depth=6, min_samples_leaf=50; total time=   0.0s\n",
      "[CV 4/5] END ...............max_depth=6, min_samples_leaf=50; total time=   0.0s\n",
      "[CV 5/5] END ...............max_depth=6, min_samples_leaf=50; total time=   0.0s\n",
      "[CV 1/5] END ...............max_depth=6, min_samples_leaf=60; total time=   0.0s\n",
      "[CV 2/5] END ...............max_depth=6, min_samples_leaf=60; total time=   0.0s\n",
      "[CV 3/5] END ...............max_depth=6, min_samples_leaf=60; total time=   0.0s\n",
      "[CV 4/5] END ...............max_depth=6, min_samples_leaf=60; total time=   0.0s\n",
      "[CV 5/5] END ...............max_depth=6, min_samples_leaf=60; total time=   0.0s\n",
      "[CV 1/5] END ...............max_depth=6, min_samples_leaf=70; total time=   0.0s\n",
      "[CV 2/5] END ...............max_depth=6, min_samples_leaf=70; total time=   0.0s\n",
      "[CV 3/5] END ...............max_depth=6, min_samples_leaf=70; total time=   0.0s\n",
      "[CV 4/5] END ...............max_depth=6, min_samples_leaf=70; total time=   0.0s\n",
      "[CV 5/5] END ...............max_depth=6, min_samples_leaf=70; total time=   0.0s\n",
      "[CV 1/5] END ...............max_depth=6, min_samples_leaf=80; total time=   0.0s\n",
      "[CV 2/5] END ...............max_depth=6, min_samples_leaf=80; total time=   0.0s\n",
      "[CV 3/5] END ...............max_depth=6, min_samples_leaf=80; total time=   0.0s\n",
      "[CV 4/5] END ...............max_depth=6, min_samples_leaf=80; total time=   0.0s\n",
      "[CV 5/5] END ...............max_depth=6, min_samples_leaf=80; total time=   0.0s\n",
      "[CV 1/5] END ...............max_depth=6, min_samples_leaf=90; total time=   0.0s\n",
      "[CV 2/5] END ...............max_depth=6, min_samples_leaf=90; total time=   0.0s\n",
      "[CV 3/5] END ...............max_depth=6, min_samples_leaf=90; total time=   0.0s\n",
      "[CV 4/5] END ...............max_depth=6, min_samples_leaf=90; total time=   0.0s\n",
      "[CV 5/5] END ...............max_depth=6, min_samples_leaf=90; total time=   0.0s\n",
      "[CV 1/5] END ..............max_depth=6, min_samples_leaf=100; total time=   0.0s\n",
      "[CV 2/5] END ..............max_depth=6, min_samples_leaf=100; total time=   0.0s\n",
      "[CV 3/5] END ..............max_depth=6, min_samples_leaf=100; total time=   0.0s\n",
      "[CV 4/5] END ..............max_depth=6, min_samples_leaf=100; total time=   0.0s\n",
      "[CV 5/5] END ..............max_depth=6, min_samples_leaf=100; total time=   0.0s\n",
      "[CV 1/5] END ...............max_depth=7, min_samples_leaf=10; total time=   0.0s\n",
      "[CV 2/5] END ...............max_depth=7, min_samples_leaf=10; total time=   0.0s\n",
      "[CV 3/5] END ...............max_depth=7, min_samples_leaf=10; total time=   0.0s\n",
      "[CV 4/5] END ...............max_depth=7, min_samples_leaf=10; total time=   0.0s\n",
      "[CV 5/5] END ...............max_depth=7, min_samples_leaf=10; total time=   0.0s\n",
      "[CV 1/5] END ...............max_depth=7, min_samples_leaf=20; total time=   0.0s\n",
      "[CV 2/5] END ...............max_depth=7, min_samples_leaf=20; total time=   0.0s\n",
      "[CV 3/5] END ...............max_depth=7, min_samples_leaf=20; total time=   0.0s\n",
      "[CV 4/5] END ...............max_depth=7, min_samples_leaf=20; total time=   0.0s\n",
      "[CV 5/5] END ...............max_depth=7, min_samples_leaf=20; total time=   0.0s\n",
      "[CV 1/5] END ...............max_depth=7, min_samples_leaf=30; total time=   0.0s\n",
      "[CV 2/5] END ...............max_depth=7, min_samples_leaf=30; total time=   0.0s\n",
      "[CV 3/5] END ...............max_depth=7, min_samples_leaf=30; total time=   0.0s\n",
      "[CV 4/5] END ...............max_depth=7, min_samples_leaf=30; total time=   0.0s\n",
      "[CV 5/5] END ...............max_depth=7, min_samples_leaf=30; total time=   0.0s\n",
      "[CV 1/5] END ...............max_depth=7, min_samples_leaf=40; total time=   0.0s\n",
      "[CV 2/5] END ...............max_depth=7, min_samples_leaf=40; total time=   0.0s\n",
      "[CV 3/5] END ...............max_depth=7, min_samples_leaf=40; total time=   0.0s\n",
      "[CV 4/5] END ...............max_depth=7, min_samples_leaf=40; total time=   0.0s\n",
      "[CV 5/5] END ...............max_depth=7, min_samples_leaf=40; total time=   0.0s\n",
      "[CV 1/5] END ...............max_depth=7, min_samples_leaf=50; total time=   0.0s\n",
      "[CV 2/5] END ...............max_depth=7, min_samples_leaf=50; total time=   0.0s\n",
      "[CV 3/5] END ...............max_depth=7, min_samples_leaf=50; total time=   0.0s\n",
      "[CV 4/5] END ...............max_depth=7, min_samples_leaf=50; total time=   0.0s\n",
      "[CV 5/5] END ...............max_depth=7, min_samples_leaf=50; total time=   0.0s\n",
      "[CV 1/5] END ...............max_depth=7, min_samples_leaf=60; total time=   0.0s\n",
      "[CV 2/5] END ...............max_depth=7, min_samples_leaf=60; total time=   0.0s\n",
      "[CV 3/5] END ...............max_depth=7, min_samples_leaf=60; total time=   0.0s\n",
      "[CV 4/5] END ...............max_depth=7, min_samples_leaf=60; total time=   0.0s\n",
      "[CV 5/5] END ...............max_depth=7, min_samples_leaf=60; total time=   0.0s\n",
      "[CV 1/5] END ...............max_depth=7, min_samples_leaf=70; total time=   0.0s\n",
      "[CV 2/5] END ...............max_depth=7, min_samples_leaf=70; total time=   0.0s\n",
      "[CV 3/5] END ...............max_depth=7, min_samples_leaf=70; total time=   0.0s\n",
      "[CV 4/5] END ...............max_depth=7, min_samples_leaf=70; total time=   0.0s\n",
      "[CV 5/5] END ...............max_depth=7, min_samples_leaf=70; total time=   0.0s\n",
      "[CV 1/5] END ...............max_depth=7, min_samples_leaf=80; total time=   0.0s\n",
      "[CV 2/5] END ...............max_depth=7, min_samples_leaf=80; total time=   0.0s\n",
      "[CV 3/5] END ...............max_depth=7, min_samples_leaf=80; total time=   0.0s\n",
      "[CV 4/5] END ...............max_depth=7, min_samples_leaf=80; total time=   0.0s\n",
      "[CV 5/5] END ...............max_depth=7, min_samples_leaf=80; total time=   0.0s\n",
      "[CV 1/5] END ...............max_depth=7, min_samples_leaf=90; total time=   0.0s\n",
      "[CV 2/5] END ...............max_depth=7, min_samples_leaf=90; total time=   0.0s\n",
      "[CV 3/5] END ...............max_depth=7, min_samples_leaf=90; total time=   0.0s\n",
      "[CV 4/5] END ...............max_depth=7, min_samples_leaf=90; total time=   0.0s\n",
      "[CV 5/5] END ...............max_depth=7, min_samples_leaf=90; total time=   0.0s\n",
      "[CV 1/5] END ..............max_depth=7, min_samples_leaf=100; total time=   0.0s\n",
      "[CV 2/5] END ..............max_depth=7, min_samples_leaf=100; total time=   0.0s\n",
      "[CV 3/5] END ..............max_depth=7, min_samples_leaf=100; total time=   0.0s\n",
      "[CV 4/5] END ..............max_depth=7, min_samples_leaf=100; total time=   0.0s\n",
      "[CV 5/5] END ..............max_depth=7, min_samples_leaf=100; total time=   0.0s\n",
      "[CV 1/5] END ...............max_depth=8, min_samples_leaf=10; total time=   0.0s\n",
      "[CV 2/5] END ...............max_depth=8, min_samples_leaf=10; total time=   0.0s\n",
      "[CV 3/5] END ...............max_depth=8, min_samples_leaf=10; total time=   0.0s\n",
      "[CV 4/5] END ...............max_depth=8, min_samples_leaf=10; total time=   0.0s\n",
      "[CV 5/5] END ...............max_depth=8, min_samples_leaf=10; total time=   0.0s\n",
      "[CV 1/5] END ...............max_depth=8, min_samples_leaf=20; total time=   0.0s\n",
      "[CV 2/5] END ...............max_depth=8, min_samples_leaf=20; total time=   0.0s\n",
      "[CV 3/5] END ...............max_depth=8, min_samples_leaf=20; total time=   0.0s\n",
      "[CV 4/5] END ...............max_depth=8, min_samples_leaf=20; total time=   0.0s\n",
      "[CV 5/5] END ...............max_depth=8, min_samples_leaf=20; total time=   0.0s\n",
      "[CV 1/5] END ...............max_depth=8, min_samples_leaf=30; total time=   0.0s\n",
      "[CV 2/5] END ...............max_depth=8, min_samples_leaf=30; total time=   0.0s\n",
      "[CV 3/5] END ...............max_depth=8, min_samples_leaf=30; total time=   0.0s\n",
      "[CV 4/5] END ...............max_depth=8, min_samples_leaf=30; total time=   0.0s\n",
      "[CV 5/5] END ...............max_depth=8, min_samples_leaf=30; total time=   0.0s\n",
      "[CV 1/5] END ...............max_depth=8, min_samples_leaf=40; total time=   0.0s\n",
      "[CV 2/5] END ...............max_depth=8, min_samples_leaf=40; total time=   0.0s\n",
      "[CV 3/5] END ...............max_depth=8, min_samples_leaf=40; total time=   0.0s\n",
      "[CV 4/5] END ...............max_depth=8, min_samples_leaf=40; total time=   0.0s\n",
      "[CV 5/5] END ...............max_depth=8, min_samples_leaf=40; total time=   0.0s\n",
      "[CV 1/5] END ...............max_depth=8, min_samples_leaf=50; total time=   0.0s\n",
      "[CV 2/5] END ...............max_depth=8, min_samples_leaf=50; total time=   0.0s\n",
      "[CV 3/5] END ...............max_depth=8, min_samples_leaf=50; total time=   0.0s\n",
      "[CV 4/5] END ...............max_depth=8, min_samples_leaf=50; total time=   0.0s\n",
      "[CV 5/5] END ...............max_depth=8, min_samples_leaf=50; total time=   0.0s\n",
      "[CV 1/5] END ...............max_depth=8, min_samples_leaf=60; total time=   0.0s\n",
      "[CV 2/5] END ...............max_depth=8, min_samples_leaf=60; total time=   0.0s\n",
      "[CV 3/5] END ...............max_depth=8, min_samples_leaf=60; total time=   0.0s\n",
      "[CV 4/5] END ...............max_depth=8, min_samples_leaf=60; total time=   0.0s\n",
      "[CV 5/5] END ...............max_depth=8, min_samples_leaf=60; total time=   0.0s\n",
      "[CV 1/5] END ...............max_depth=8, min_samples_leaf=70; total time=   0.0s\n",
      "[CV 2/5] END ...............max_depth=8, min_samples_leaf=70; total time=   0.0s\n",
      "[CV 3/5] END ...............max_depth=8, min_samples_leaf=70; total time=   0.0s\n",
      "[CV 4/5] END ...............max_depth=8, min_samples_leaf=70; total time=   0.0s\n",
      "[CV 5/5] END ...............max_depth=8, min_samples_leaf=70; total time=   0.0s\n",
      "[CV 1/5] END ...............max_depth=8, min_samples_leaf=80; total time=   0.0s\n",
      "[CV 2/5] END ...............max_depth=8, min_samples_leaf=80; total time=   0.0s\n",
      "[CV 3/5] END ...............max_depth=8, min_samples_leaf=80; total time=   0.0s\n",
      "[CV 4/5] END ...............max_depth=8, min_samples_leaf=80; total time=   0.0s\n",
      "[CV 5/5] END ...............max_depth=8, min_samples_leaf=80; total time=   0.0s\n",
      "[CV 1/5] END ...............max_depth=8, min_samples_leaf=90; total time=   0.0s\n",
      "[CV 2/5] END ...............max_depth=8, min_samples_leaf=90; total time=   0.0s\n",
      "[CV 3/5] END ...............max_depth=8, min_samples_leaf=90; total time=   0.0s\n",
      "[CV 4/5] END ...............max_depth=8, min_samples_leaf=90; total time=   0.0s\n",
      "[CV 5/5] END ...............max_depth=8, min_samples_leaf=90; total time=   0.0s\n",
      "[CV 1/5] END ..............max_depth=8, min_samples_leaf=100; total time=   0.0s\n",
      "[CV 2/5] END ..............max_depth=8, min_samples_leaf=100; total time=   0.0s\n",
      "[CV 3/5] END ..............max_depth=8, min_samples_leaf=100; total time=   0.0s\n",
      "[CV 4/5] END ..............max_depth=8, min_samples_leaf=100; total time=   0.0s\n",
      "[CV 5/5] END ..............max_depth=8, min_samples_leaf=100; total time=   0.0s\n",
      "[CV 1/5] END ...............max_depth=9, min_samples_leaf=10; total time=   0.0s\n",
      "[CV 2/5] END ...............max_depth=9, min_samples_leaf=10; total time=   0.0s\n",
      "[CV 3/5] END ...............max_depth=9, min_samples_leaf=10; total time=   0.0s\n",
      "[CV 4/5] END ...............max_depth=9, min_samples_leaf=10; total time=   0.0s\n",
      "[CV 5/5] END ...............max_depth=9, min_samples_leaf=10; total time=   0.0s\n",
      "[CV 1/5] END ...............max_depth=9, min_samples_leaf=20; total time=   0.0s\n",
      "[CV 2/5] END ...............max_depth=9, min_samples_leaf=20; total time=   0.0s\n",
      "[CV 3/5] END ...............max_depth=9, min_samples_leaf=20; total time=   0.0s\n",
      "[CV 4/5] END ...............max_depth=9, min_samples_leaf=20; total time=   0.0s\n",
      "[CV 5/5] END ...............max_depth=9, min_samples_leaf=20; total time=   0.0s\n",
      "[CV 1/5] END ...............max_depth=9, min_samples_leaf=30; total time=   0.0s\n",
      "[CV 2/5] END ...............max_depth=9, min_samples_leaf=30; total time=   0.0s\n",
      "[CV 3/5] END ...............max_depth=9, min_samples_leaf=30; total time=   0.0s\n",
      "[CV 4/5] END ...............max_depth=9, min_samples_leaf=30; total time=   0.0s\n",
      "[CV 5/5] END ...............max_depth=9, min_samples_leaf=30; total time=   0.0s\n",
      "[CV 1/5] END ...............max_depth=9, min_samples_leaf=40; total time=   0.0s\n",
      "[CV 2/5] END ...............max_depth=9, min_samples_leaf=40; total time=   0.0s\n",
      "[CV 3/5] END ...............max_depth=9, min_samples_leaf=40; total time=   0.0s\n",
      "[CV 4/5] END ...............max_depth=9, min_samples_leaf=40; total time=   0.0s\n",
      "[CV 5/5] END ...............max_depth=9, min_samples_leaf=40; total time=   0.0s\n",
      "[CV 1/5] END ...............max_depth=9, min_samples_leaf=50; total time=   0.0s\n",
      "[CV 2/5] END ...............max_depth=9, min_samples_leaf=50; total time=   0.0s\n",
      "[CV 3/5] END ...............max_depth=9, min_samples_leaf=50; total time=   0.0s\n",
      "[CV 4/5] END ...............max_depth=9, min_samples_leaf=50; total time=   0.0s\n",
      "[CV 5/5] END ...............max_depth=9, min_samples_leaf=50; total time=   0.0s\n",
      "[CV 1/5] END ...............max_depth=9, min_samples_leaf=60; total time=   0.0s\n",
      "[CV 2/5] END ...............max_depth=9, min_samples_leaf=60; total time=   0.0s\n",
      "[CV 3/5] END ...............max_depth=9, min_samples_leaf=60; total time=   0.0s\n",
      "[CV 4/5] END ...............max_depth=9, min_samples_leaf=60; total time=   0.0s\n",
      "[CV 5/5] END ...............max_depth=9, min_samples_leaf=60; total time=   0.0s\n",
      "[CV 1/5] END ...............max_depth=9, min_samples_leaf=70; total time=   0.0s\n",
      "[CV 2/5] END ...............max_depth=9, min_samples_leaf=70; total time=   0.0s\n",
      "[CV 3/5] END ...............max_depth=9, min_samples_leaf=70; total time=   0.0s\n",
      "[CV 4/5] END ...............max_depth=9, min_samples_leaf=70; total time=   0.0s\n",
      "[CV 5/5] END ...............max_depth=9, min_samples_leaf=70; total time=   0.0s\n",
      "[CV 1/5] END ...............max_depth=9, min_samples_leaf=80; total time=   0.0s\n",
      "[CV 2/5] END ...............max_depth=9, min_samples_leaf=80; total time=   0.0s\n",
      "[CV 3/5] END ...............max_depth=9, min_samples_leaf=80; total time=   0.0s\n",
      "[CV 4/5] END ...............max_depth=9, min_samples_leaf=80; total time=   0.0s\n",
      "[CV 5/5] END ...............max_depth=9, min_samples_leaf=80; total time=   0.0s\n",
      "[CV 1/5] END ...............max_depth=9, min_samples_leaf=90; total time=   0.0s\n",
      "[CV 2/5] END ...............max_depth=9, min_samples_leaf=90; total time=   0.0s\n",
      "[CV 3/5] END ...............max_depth=9, min_samples_leaf=90; total time=   0.0s\n",
      "[CV 4/5] END ...............max_depth=9, min_samples_leaf=90; total time=   0.0s\n",
      "[CV 5/5] END ...............max_depth=9, min_samples_leaf=90; total time=   0.0s\n",
      "[CV 1/5] END ..............max_depth=9, min_samples_leaf=100; total time=   0.0s\n",
      "[CV 2/5] END ..............max_depth=9, min_samples_leaf=100; total time=   0.0s\n",
      "[CV 3/5] END ..............max_depth=9, min_samples_leaf=100; total time=   0.0s\n",
      "[CV 4/5] END ..............max_depth=9, min_samples_leaf=100; total time=   0.0s\n",
      "[CV 5/5] END ..............max_depth=9, min_samples_leaf=100; total time=   0.0s\n",
      "[CV 1/5] END ..............max_depth=10, min_samples_leaf=10; total time=   0.0s\n",
      "[CV 2/5] END ..............max_depth=10, min_samples_leaf=10; total time=   0.0s\n",
      "[CV 3/5] END ..............max_depth=10, min_samples_leaf=10; total time=   0.0s\n",
      "[CV 4/5] END ..............max_depth=10, min_samples_leaf=10; total time=   0.0s\n",
      "[CV 5/5] END ..............max_depth=10, min_samples_leaf=10; total time=   0.0s\n",
      "[CV 1/5] END ..............max_depth=10, min_samples_leaf=20; total time=   0.0s\n",
      "[CV 2/5] END ..............max_depth=10, min_samples_leaf=20; total time=   0.0s\n",
      "[CV 3/5] END ..............max_depth=10, min_samples_leaf=20; total time=   0.0s\n",
      "[CV 4/5] END ..............max_depth=10, min_samples_leaf=20; total time=   0.0s\n",
      "[CV 5/5] END ..............max_depth=10, min_samples_leaf=20; total time=   0.0s\n",
      "[CV 1/5] END ..............max_depth=10, min_samples_leaf=30; total time=   0.0s\n",
      "[CV 2/5] END ..............max_depth=10, min_samples_leaf=30; total time=   0.0s\n",
      "[CV 3/5] END ..............max_depth=10, min_samples_leaf=30; total time=   0.0s\n",
      "[CV 4/5] END ..............max_depth=10, min_samples_leaf=30; total time=   0.0s\n",
      "[CV 5/5] END ..............max_depth=10, min_samples_leaf=30; total time=   0.0s\n",
      "[CV 1/5] END ..............max_depth=10, min_samples_leaf=40; total time=   0.0s\n",
      "[CV 2/5] END ..............max_depth=10, min_samples_leaf=40; total time=   0.0s\n",
      "[CV 3/5] END ..............max_depth=10, min_samples_leaf=40; total time=   0.0s\n",
      "[CV 4/5] END ..............max_depth=10, min_samples_leaf=40; total time=   0.0s\n",
      "[CV 5/5] END ..............max_depth=10, min_samples_leaf=40; total time=   0.0s\n",
      "[CV 1/5] END ..............max_depth=10, min_samples_leaf=50; total time=   0.0s\n",
      "[CV 2/5] END ..............max_depth=10, min_samples_leaf=50; total time=   0.0s\n",
      "[CV 3/5] END ..............max_depth=10, min_samples_leaf=50; total time=   0.0s\n",
      "[CV 4/5] END ..............max_depth=10, min_samples_leaf=50; total time=   0.0s\n",
      "[CV 5/5] END ..............max_depth=10, min_samples_leaf=50; total time=   0.0s\n",
      "[CV 1/5] END ..............max_depth=10, min_samples_leaf=60; total time=   0.0s\n",
      "[CV 2/5] END ..............max_depth=10, min_samples_leaf=60; total time=   0.0s\n",
      "[CV 3/5] END ..............max_depth=10, min_samples_leaf=60; total time=   0.0s\n",
      "[CV 4/5] END ..............max_depth=10, min_samples_leaf=60; total time=   0.0s\n",
      "[CV 5/5] END ..............max_depth=10, min_samples_leaf=60; total time=   0.0s\n",
      "[CV 1/5] END ..............max_depth=10, min_samples_leaf=70; total time=   0.0s\n",
      "[CV 2/5] END ..............max_depth=10, min_samples_leaf=70; total time=   0.0s\n",
      "[CV 3/5] END ..............max_depth=10, min_samples_leaf=70; total time=   0.0s\n",
      "[CV 4/5] END ..............max_depth=10, min_samples_leaf=70; total time=   0.0s\n",
      "[CV 5/5] END ..............max_depth=10, min_samples_leaf=70; total time=   0.0s\n",
      "[CV 1/5] END ..............max_depth=10, min_samples_leaf=80; total time=   0.0s\n",
      "[CV 2/5] END ..............max_depth=10, min_samples_leaf=80; total time=   0.0s\n",
      "[CV 3/5] END ..............max_depth=10, min_samples_leaf=80; total time=   0.0s\n",
      "[CV 4/5] END ..............max_depth=10, min_samples_leaf=80; total time=   0.0s\n",
      "[CV 5/5] END ..............max_depth=10, min_samples_leaf=80; total time=   0.0s\n",
      "[CV 1/5] END ..............max_depth=10, min_samples_leaf=90; total time=   0.0s\n",
      "[CV 2/5] END ..............max_depth=10, min_samples_leaf=90; total time=   0.0s\n",
      "[CV 3/5] END ..............max_depth=10, min_samples_leaf=90; total time=   0.0s\n",
      "[CV 4/5] END ..............max_depth=10, min_samples_leaf=90; total time=   0.0s\n",
      "[CV 5/5] END ..............max_depth=10, min_samples_leaf=90; total time=   0.0s\n",
      "[CV 1/5] END .............max_depth=10, min_samples_leaf=100; total time=   0.0s\n",
      "[CV 2/5] END .............max_depth=10, min_samples_leaf=100; total time=   0.0s\n",
      "[CV 3/5] END .............max_depth=10, min_samples_leaf=100; total time=   0.0s\n",
      "[CV 4/5] END .............max_depth=10, min_samples_leaf=100; total time=   0.0s\n",
      "[CV 5/5] END .............max_depth=10, min_samples_leaf=100; total time=   0.0s\n"
     ]
    },
    {
     "data": {
      "text/plain": [
       "GridSearchCV(cv=5, estimator=DecisionTreeClassifier(),\n",
       "             param_grid={'max_depth': range(1, 11),\n",
       "                         'min_samples_leaf': range(10, 101, 10)},\n",
       "             verbose=3)"
      ]
     },
     "execution_count": 137,
     "metadata": {},
     "output_type": "execute_result"
    }
   ],
   "source": [
    "m1_gs.fit(x_train, y_train)"
   ]
  },
  {
   "cell_type": "code",
   "execution_count": 131,
   "metadata": {
    "id": "He7AMq8f7kz5"
   },
   "outputs": [
    {
     "data": {
      "text/plain": [
       "{'max_depth': 7, 'min_samples_leaf': 30}"
      ]
     },
     "execution_count": 131,
     "metadata": {},
     "output_type": "execute_result"
    }
   ],
   "source": [
    "m1_gs.best_params_"
   ]
  },
  {
   "cell_type": "code",
   "execution_count": 132,
   "metadata": {
    "id": "FvzOJV_37kw_"
   },
   "outputs": [
    {
     "data": {
      "text/plain": [
       "0.7002857142857143"
      ]
     },
     "execution_count": 132,
     "metadata": {},
     "output_type": "execute_result"
    }
   ],
   "source": [
    "m1_gs.best_score_"
   ]
  },
  {
   "cell_type": "code",
   "execution_count": 133,
   "metadata": {
    "collapsed": true,
    "id": "OdolBuhy7kuL",
    "jupyter": {
     "outputs_hidden": true
    },
    "tags": []
   },
   "outputs": [
    {
     "data": {
      "text/plain": [
       "{'mean_fit_time': array([0.00801363, 0.00754442, 0.00585895, 0.00494566, 0.00440154,\n",
       "        0.0049993 , 0.00462685, 0.00553617, 0.00560961, 0.00464754,\n",
       "        0.00720205, 0.00643582, 0.00617824, 0.00606933, 0.00650768,\n",
       "        0.0069952 , 0.00828886, 0.00779033, 0.00925922, 0.00847416,\n",
       "        0.00889425, 0.00912342, 0.00741653, 0.0091444 , 0.00783381,\n",
       "        0.00923591, 0.00908685, 0.00938153, 0.00878749, 0.01005998,\n",
       "        0.01611776, 0.01460891, 0.01337314, 0.01050258, 0.00962558,\n",
       "        0.00940981, 0.00895619, 0.0090538 , 0.00925436, 0.0095675 ,\n",
       "        0.01110706, 0.01012564, 0.01110225, 0.0124795 , 0.01093507,\n",
       "        0.01103234, 0.01122193, 0.01161299, 0.0095438 , 0.00950198,\n",
       "        0.01249418, 0.01125603, 0.01101837, 0.0114162 , 0.01304059,\n",
       "        0.01334376, 0.01198874, 0.01253905, 0.01205187, 0.01127915,\n",
       "        0.01587958, 0.0138176 , 0.01433191, 0.01307135, 0.01187563,\n",
       "        0.01150637, 0.01134815, 0.01084156, 0.01046386, 0.01027546,\n",
       "        0.01390433, 0.01612902, 0.01704483, 0.01230474, 0.01184783,\n",
       "        0.01312628, 0.01080198, 0.01096907, 0.01026664, 0.00971041,\n",
       "        0.01684232, 0.01403003, 0.01386328, 0.012923  , 0.01268244,\n",
       "        0.01217237, 0.01201315, 0.0105629 , 0.0106111 , 0.00993824,\n",
       "        0.0162261 , 0.01387243, 0.01294441, 0.01239552, 0.01274085,\n",
       "        0.01229954, 0.0142818 , 0.01134524, 0.01058517, 0.01018462]),\n",
       " 'std_fit_time': array([0.00114451, 0.00193387, 0.00076554, 0.00055239, 0.00062918,\n",
       "        0.00112894, 0.00077323, 0.00057216, 0.00059092, 0.00065043,\n",
       "        0.0010026 , 0.00062329, 0.00068213, 0.00083828, 0.00096353,\n",
       "        0.00124349, 0.00182589, 0.00069007, 0.00285591, 0.00125733,\n",
       "        0.00154406, 0.00133097, 0.00088156, 0.00323204, 0.0006522 ,\n",
       "        0.00073463, 0.00099498, 0.00067012, 0.00085338, 0.00289187,\n",
       "        0.00147899, 0.00151394, 0.00257983, 0.00091068, 0.00089095,\n",
       "        0.00084742, 0.00060989, 0.00064045, 0.00104414, 0.00048351,\n",
       "        0.0007966 , 0.00040701, 0.00133801, 0.00265942, 0.00103001,\n",
       "        0.00058856, 0.00115071, 0.0017439 , 0.00057869, 0.00132623,\n",
       "        0.00043769, 0.0009232 , 0.00065136, 0.00074542, 0.00228429,\n",
       "        0.00038354, 0.00087924, 0.00086557, 0.00104148, 0.00086086,\n",
       "        0.00161668, 0.00059709, 0.00282557, 0.00122562, 0.00103747,\n",
       "        0.00140568, 0.00078436, 0.00114989, 0.00083665, 0.00060243,\n",
       "        0.0007129 , 0.00223797, 0.00220043, 0.00060093, 0.00097465,\n",
       "        0.00158355, 0.00092685, 0.001155  , 0.0011836 , 0.00049601,\n",
       "        0.00244915, 0.00130978, 0.00073876, 0.00105723, 0.00084496,\n",
       "        0.0017299 , 0.00263629, 0.00114752, 0.00123124, 0.00086672,\n",
       "        0.00055652, 0.00106424, 0.00047765, 0.00100296, 0.00104255,\n",
       "        0.0012269 , 0.00317828, 0.0016152 , 0.00076972, 0.00134682]),\n",
       " 'mean_score_time': array([0.00297694, 0.00274229, 0.00199394, 0.00227027, 0.00194612,\n",
       "        0.00242872, 0.00184846, 0.00213947, 0.00262208, 0.00217438,\n",
       "        0.00183282, 0.00190792, 0.00199761, 0.00263171, 0.0026515 ,\n",
       "        0.00226789, 0.00245686, 0.00321717, 0.00266585, 0.00267868,\n",
       "        0.00210681, 0.00241494, 0.00223827, 0.00199552, 0.00199051,\n",
       "        0.00251212, 0.00208726, 0.00292602, 0.00270891, 0.00359502,\n",
       "        0.00336952, 0.00318966, 0.00252318, 0.00225601, 0.00194812,\n",
       "        0.00230718, 0.00212641, 0.00257578, 0.00272336, 0.00224433,\n",
       "        0.00237947, 0.00230889, 0.00214305, 0.00240917, 0.0021997 ,\n",
       "        0.00223947, 0.00244622, 0.00339499, 0.0020915 , 0.00199819,\n",
       "        0.00217738, 0.00212989, 0.00197129, 0.00192699, 0.00239487,\n",
       "        0.00240302, 0.00279803, 0.00228086, 0.00309973, 0.0031899 ,\n",
       "        0.00218854, 0.00212016, 0.00246773, 0.00220299, 0.00215979,\n",
       "        0.00215702, 0.00234442, 0.00261536, 0.00229201, 0.00256596,\n",
       "        0.00210114, 0.00226469, 0.00347047, 0.00205131, 0.00216441,\n",
       "        0.00261211, 0.00217285, 0.00188098, 0.002     , 0.00246062,\n",
       "        0.00241642, 0.00212245, 0.00219874, 0.00207567, 0.00200481,\n",
       "        0.00190887, 0.00233774, 0.00195374, 0.00191569, 0.0019979 ,\n",
       "        0.00210543, 0.00190816, 0.00267286, 0.00200596, 0.00213675,\n",
       "        0.00249348, 0.00225635, 0.0039155 , 0.00206494, 0.00194268]),\n",
       " 'std_score_time': array([8.01308783e-04, 6.74751672e-04, 4.00202510e-04, 3.15157345e-04,\n",
       "        6.64235164e-04, 5.63932053e-04, 4.31751678e-04, 2.27906543e-04,\n",
       "        7.83698522e-04, 3.00435640e-04, 4.53688382e-04, 6.49095159e-04,\n",
       "        1.78662719e-04, 5.31343486e-04, 7.78853638e-04, 7.36304148e-04,\n",
       "        5.34563812e-04, 6.94788841e-04, 7.58527645e-04, 4.03307995e-04,\n",
       "        4.62432870e-04, 4.81114775e-04, 2.98533651e-04, 1.12234137e-06,\n",
       "        6.35100652e-04, 6.14588153e-04, 9.30996662e-04, 1.48272482e-04,\n",
       "        7.54499286e-04, 1.94501099e-03, 4.63457298e-04, 3.79802685e-04,\n",
       "        4.54038172e-04, 3.40124526e-04, 2.40557895e-04, 3.99571984e-04,\n",
       "        4.48022562e-04, 4.80875004e-04, 4.35018584e-04, 3.75670901e-04,\n",
       "        4.80896300e-04, 1.16885427e-03, 4.38194373e-04, 4.94997863e-04,\n",
       "        4.13818078e-04, 7.33069556e-04, 3.96098022e-04, 2.32455123e-03,\n",
       "        6.39995578e-04, 2.92418225e-05, 4.08509196e-04, 6.74450849e-04,\n",
       "        7.21765355e-04, 5.14439732e-04, 7.80839889e-04, 4.89410407e-04,\n",
       "        7.56160668e-04, 4.61709323e-04, 1.01771121e-03, 5.08559306e-04,\n",
       "        3.84601274e-04, 1.94915061e-04, 3.81599243e-04, 4.36107220e-04,\n",
       "        2.20881523e-04, 4.39941224e-04, 4.95962209e-04, 7.89835660e-04,\n",
       "        4.93781848e-04, 4.81150114e-04, 9.90439562e-05, 3.78708784e-04,\n",
       "        1.05203309e-03, 6.07208478e-04, 2.42453357e-04, 2.55702031e-04,\n",
       "        5.81286530e-04, 4.68442519e-04, 1.59009113e-04, 5.27167376e-04,\n",
       "        3.98112009e-04, 2.20471341e-04, 7.44324619e-04, 1.11947615e-04,\n",
       "        6.20944799e-04, 5.70990259e-04, 3.84880122e-04, 5.49886072e-04,\n",
       "        2.02830632e-04, 6.47321913e-04, 5.20361696e-04, 4.67884020e-04,\n",
       "        4.15600074e-04, 5.74080662e-04, 4.62317796e-04, 3.65703966e-04,\n",
       "        7.78979261e-04, 3.03202291e-03, 8.75267044e-05, 3.24024985e-04]),\n",
       " 'param_max_depth': masked_array(data=[1, 1, 1, 1, 1, 1, 1, 1, 1, 1, 2, 2, 2, 2, 2, 2, 2, 2,\n",
       "                    2, 2, 3, 3, 3, 3, 3, 3, 3, 3, 3, 3, 4, 4, 4, 4, 4, 4,\n",
       "                    4, 4, 4, 4, 5, 5, 5, 5, 5, 5, 5, 5, 5, 5, 6, 6, 6, 6,\n",
       "                    6, 6, 6, 6, 6, 6, 7, 7, 7, 7, 7, 7, 7, 7, 7, 7, 8, 8,\n",
       "                    8, 8, 8, 8, 8, 8, 8, 8, 9, 9, 9, 9, 9, 9, 9, 9, 9, 9,\n",
       "                    10, 10, 10, 10, 10, 10, 10, 10, 10, 10],\n",
       "              mask=[False, False, False, False, False, False, False, False,\n",
       "                    False, False, False, False, False, False, False, False,\n",
       "                    False, False, False, False, False, False, False, False,\n",
       "                    False, False, False, False, False, False, False, False,\n",
       "                    False, False, False, False, False, False, False, False,\n",
       "                    False, False, False, False, False, False, False, False,\n",
       "                    False, False, False, False, False, False, False, False,\n",
       "                    False, False, False, False, False, False, False, False,\n",
       "                    False, False, False, False, False, False, False, False,\n",
       "                    False, False, False, False, False, False, False, False,\n",
       "                    False, False, False, False, False, False, False, False,\n",
       "                    False, False, False, False, False, False, False, False,\n",
       "                    False, False, False, False],\n",
       "        fill_value='?',\n",
       "             dtype=object),\n",
       " 'param_min_samples_leaf': masked_array(data=[10, 20, 30, 40, 50, 60, 70, 80, 90, 100, 10, 20, 30,\n",
       "                    40, 50, 60, 70, 80, 90, 100, 10, 20, 30, 40, 50, 60,\n",
       "                    70, 80, 90, 100, 10, 20, 30, 40, 50, 60, 70, 80, 90,\n",
       "                    100, 10, 20, 30, 40, 50, 60, 70, 80, 90, 100, 10, 20,\n",
       "                    30, 40, 50, 60, 70, 80, 90, 100, 10, 20, 30, 40, 50,\n",
       "                    60, 70, 80, 90, 100, 10, 20, 30, 40, 50, 60, 70, 80,\n",
       "                    90, 100, 10, 20, 30, 40, 50, 60, 70, 80, 90, 100, 10,\n",
       "                    20, 30, 40, 50, 60, 70, 80, 90, 100],\n",
       "              mask=[False, False, False, False, False, False, False, False,\n",
       "                    False, False, False, False, False, False, False, False,\n",
       "                    False, False, False, False, False, False, False, False,\n",
       "                    False, False, False, False, False, False, False, False,\n",
       "                    False, False, False, False, False, False, False, False,\n",
       "                    False, False, False, False, False, False, False, False,\n",
       "                    False, False, False, False, False, False, False, False,\n",
       "                    False, False, False, False, False, False, False, False,\n",
       "                    False, False, False, False, False, False, False, False,\n",
       "                    False, False, False, False, False, False, False, False,\n",
       "                    False, False, False, False, False, False, False, False,\n",
       "                    False, False, False, False, False, False, False, False,\n",
       "                    False, False, False, False],\n",
       "        fill_value='?',\n",
       "             dtype=object),\n",
       " 'params': [{'max_depth': 1, 'min_samples_leaf': 10},\n",
       "  {'max_depth': 1, 'min_samples_leaf': 20},\n",
       "  {'max_depth': 1, 'min_samples_leaf': 30},\n",
       "  {'max_depth': 1, 'min_samples_leaf': 40},\n",
       "  {'max_depth': 1, 'min_samples_leaf': 50},\n",
       "  {'max_depth': 1, 'min_samples_leaf': 60},\n",
       "  {'max_depth': 1, 'min_samples_leaf': 70},\n",
       "  {'max_depth': 1, 'min_samples_leaf': 80},\n",
       "  {'max_depth': 1, 'min_samples_leaf': 90},\n",
       "  {'max_depth': 1, 'min_samples_leaf': 100},\n",
       "  {'max_depth': 2, 'min_samples_leaf': 10},\n",
       "  {'max_depth': 2, 'min_samples_leaf': 20},\n",
       "  {'max_depth': 2, 'min_samples_leaf': 30},\n",
       "  {'max_depth': 2, 'min_samples_leaf': 40},\n",
       "  {'max_depth': 2, 'min_samples_leaf': 50},\n",
       "  {'max_depth': 2, 'min_samples_leaf': 60},\n",
       "  {'max_depth': 2, 'min_samples_leaf': 70},\n",
       "  {'max_depth': 2, 'min_samples_leaf': 80},\n",
       "  {'max_depth': 2, 'min_samples_leaf': 90},\n",
       "  {'max_depth': 2, 'min_samples_leaf': 100},\n",
       "  {'max_depth': 3, 'min_samples_leaf': 10},\n",
       "  {'max_depth': 3, 'min_samples_leaf': 20},\n",
       "  {'max_depth': 3, 'min_samples_leaf': 30},\n",
       "  {'max_depth': 3, 'min_samples_leaf': 40},\n",
       "  {'max_depth': 3, 'min_samples_leaf': 50},\n",
       "  {'max_depth': 3, 'min_samples_leaf': 60},\n",
       "  {'max_depth': 3, 'min_samples_leaf': 70},\n",
       "  {'max_depth': 3, 'min_samples_leaf': 80},\n",
       "  {'max_depth': 3, 'min_samples_leaf': 90},\n",
       "  {'max_depth': 3, 'min_samples_leaf': 100},\n",
       "  {'max_depth': 4, 'min_samples_leaf': 10},\n",
       "  {'max_depth': 4, 'min_samples_leaf': 20},\n",
       "  {'max_depth': 4, 'min_samples_leaf': 30},\n",
       "  {'max_depth': 4, 'min_samples_leaf': 40},\n",
       "  {'max_depth': 4, 'min_samples_leaf': 50},\n",
       "  {'max_depth': 4, 'min_samples_leaf': 60},\n",
       "  {'max_depth': 4, 'min_samples_leaf': 70},\n",
       "  {'max_depth': 4, 'min_samples_leaf': 80},\n",
       "  {'max_depth': 4, 'min_samples_leaf': 90},\n",
       "  {'max_depth': 4, 'min_samples_leaf': 100},\n",
       "  {'max_depth': 5, 'min_samples_leaf': 10},\n",
       "  {'max_depth': 5, 'min_samples_leaf': 20},\n",
       "  {'max_depth': 5, 'min_samples_leaf': 30},\n",
       "  {'max_depth': 5, 'min_samples_leaf': 40},\n",
       "  {'max_depth': 5, 'min_samples_leaf': 50},\n",
       "  {'max_depth': 5, 'min_samples_leaf': 60},\n",
       "  {'max_depth': 5, 'min_samples_leaf': 70},\n",
       "  {'max_depth': 5, 'min_samples_leaf': 80},\n",
       "  {'max_depth': 5, 'min_samples_leaf': 90},\n",
       "  {'max_depth': 5, 'min_samples_leaf': 100},\n",
       "  {'max_depth': 6, 'min_samples_leaf': 10},\n",
       "  {'max_depth': 6, 'min_samples_leaf': 20},\n",
       "  {'max_depth': 6, 'min_samples_leaf': 30},\n",
       "  {'max_depth': 6, 'min_samples_leaf': 40},\n",
       "  {'max_depth': 6, 'min_samples_leaf': 50},\n",
       "  {'max_depth': 6, 'min_samples_leaf': 60},\n",
       "  {'max_depth': 6, 'min_samples_leaf': 70},\n",
       "  {'max_depth': 6, 'min_samples_leaf': 80},\n",
       "  {'max_depth': 6, 'min_samples_leaf': 90},\n",
       "  {'max_depth': 6, 'min_samples_leaf': 100},\n",
       "  {'max_depth': 7, 'min_samples_leaf': 10},\n",
       "  {'max_depth': 7, 'min_samples_leaf': 20},\n",
       "  {'max_depth': 7, 'min_samples_leaf': 30},\n",
       "  {'max_depth': 7, 'min_samples_leaf': 40},\n",
       "  {'max_depth': 7, 'min_samples_leaf': 50},\n",
       "  {'max_depth': 7, 'min_samples_leaf': 60},\n",
       "  {'max_depth': 7, 'min_samples_leaf': 70},\n",
       "  {'max_depth': 7, 'min_samples_leaf': 80},\n",
       "  {'max_depth': 7, 'min_samples_leaf': 90},\n",
       "  {'max_depth': 7, 'min_samples_leaf': 100},\n",
       "  {'max_depth': 8, 'min_samples_leaf': 10},\n",
       "  {'max_depth': 8, 'min_samples_leaf': 20},\n",
       "  {'max_depth': 8, 'min_samples_leaf': 30},\n",
       "  {'max_depth': 8, 'min_samples_leaf': 40},\n",
       "  {'max_depth': 8, 'min_samples_leaf': 50},\n",
       "  {'max_depth': 8, 'min_samples_leaf': 60},\n",
       "  {'max_depth': 8, 'min_samples_leaf': 70},\n",
       "  {'max_depth': 8, 'min_samples_leaf': 80},\n",
       "  {'max_depth': 8, 'min_samples_leaf': 90},\n",
       "  {'max_depth': 8, 'min_samples_leaf': 100},\n",
       "  {'max_depth': 9, 'min_samples_leaf': 10},\n",
       "  {'max_depth': 9, 'min_samples_leaf': 20},\n",
       "  {'max_depth': 9, 'min_samples_leaf': 30},\n",
       "  {'max_depth': 9, 'min_samples_leaf': 40},\n",
       "  {'max_depth': 9, 'min_samples_leaf': 50},\n",
       "  {'max_depth': 9, 'min_samples_leaf': 60},\n",
       "  {'max_depth': 9, 'min_samples_leaf': 70},\n",
       "  {'max_depth': 9, 'min_samples_leaf': 80},\n",
       "  {'max_depth': 9, 'min_samples_leaf': 90},\n",
       "  {'max_depth': 9, 'min_samples_leaf': 100},\n",
       "  {'max_depth': 10, 'min_samples_leaf': 10},\n",
       "  {'max_depth': 10, 'min_samples_leaf': 20},\n",
       "  {'max_depth': 10, 'min_samples_leaf': 30},\n",
       "  {'max_depth': 10, 'min_samples_leaf': 40},\n",
       "  {'max_depth': 10, 'min_samples_leaf': 50},\n",
       "  {'max_depth': 10, 'min_samples_leaf': 60},\n",
       "  {'max_depth': 10, 'min_samples_leaf': 70},\n",
       "  {'max_depth': 10, 'min_samples_leaf': 80},\n",
       "  {'max_depth': 10, 'min_samples_leaf': 90},\n",
       "  {'max_depth': 10, 'min_samples_leaf': 100}],\n",
       " 'split0_test_score': array([0.64285714, 0.64285714, 0.64285714, 0.64285714, 0.64285714,\n",
       "        0.64285714, 0.64285714, 0.64285714, 0.64285714, 0.64285714,\n",
       "        0.66571429, 0.66571429, 0.66571429, 0.66571429, 0.66571429,\n",
       "        0.66571429, 0.66571429, 0.66571429, 0.66571429, 0.66571429,\n",
       "        0.70285714, 0.70285714, 0.70285714, 0.70285714, 0.70285714,\n",
       "        0.70285714, 0.70285714, 0.70285714, 0.70285714, 0.70285714,\n",
       "        0.70571429, 0.7       , 0.70285714, 0.70285714, 0.70285714,\n",
       "        0.70285714, 0.70285714, 0.70285714, 0.70285714, 0.70285714,\n",
       "        0.70428571, 0.71857143, 0.72714286, 0.72142857, 0.72142857,\n",
       "        0.72142857, 0.72142857, 0.72142857, 0.72142857, 0.72142857,\n",
       "        0.72142857, 0.71857143, 0.72857143, 0.70857143, 0.70857143,\n",
       "        0.70857143, 0.70857143, 0.72142857, 0.72142857, 0.72142857,\n",
       "        0.71142857, 0.71428571, 0.73428571, 0.71428571, 0.70857143,\n",
       "        0.70857143, 0.71571429, 0.72857143, 0.72142857, 0.72142857,\n",
       "        0.70714286, 0.72142857, 0.73142857, 0.71285714, 0.70714286,\n",
       "        0.70857143, 0.71571429, 0.72857143, 0.72142857, 0.72142857,\n",
       "        0.68285714, 0.71      , 0.73428571, 0.71285714, 0.70714286,\n",
       "        0.70857143, 0.71571429, 0.72857143, 0.72142857, 0.72142857,\n",
       "        0.67142857, 0.71285714, 0.73428571, 0.71285714, 0.70714286,\n",
       "        0.70857143, 0.71571429, 0.72857143, 0.72142857, 0.72142857]),\n",
       " 'split1_test_score': array([0.61571429, 0.61571429, 0.61571429, 0.61571429, 0.61571429,\n",
       "        0.61571429, 0.61571429, 0.61571429, 0.61571429, 0.61571429,\n",
       "        0.65857143, 0.65857143, 0.65857143, 0.65857143, 0.65857143,\n",
       "        0.65857143, 0.65857143, 0.65857143, 0.65857143, 0.65857143,\n",
       "        0.69285714, 0.69714286, 0.69714286, 0.69714286, 0.69714286,\n",
       "        0.69714286, 0.69714286, 0.69714286, 0.69714286, 0.69714286,\n",
       "        0.69      , 0.69285714, 0.69285714, 0.69285714, 0.69142857,\n",
       "        0.69142857, 0.69142857, 0.69142857, 0.70285714, 0.69428571,\n",
       "        0.68571429, 0.68      , 0.68571429, 0.69142857, 0.68285714,\n",
       "        0.68      , 0.68      , 0.68      , 0.69142857, 0.68285714,\n",
       "        0.67428571, 0.68142857, 0.69142857, 0.69142857, 0.67571429,\n",
       "        0.67571429, 0.67571429, 0.67571429, 0.68428571, 0.67857143,\n",
       "        0.68      , 0.67857143, 0.70571429, 0.70428571, 0.68      ,\n",
       "        0.67571429, 0.67571429, 0.67571429, 0.68428571, 0.67857143,\n",
       "        0.66571429, 0.67428571, 0.69142857, 0.69571429, 0.68      ,\n",
       "        0.67571429, 0.67571429, 0.67571429, 0.68428571, 0.67857143,\n",
       "        0.66857143, 0.67142857, 0.69142857, 0.69571429, 0.68      ,\n",
       "        0.67571429, 0.67571429, 0.67571429, 0.68428571, 0.67857143,\n",
       "        0.66571429, 0.67857143, 0.69      , 0.69571429, 0.68      ,\n",
       "        0.67571429, 0.67571429, 0.67571429, 0.68428571, 0.67857143]),\n",
       " 'split2_test_score': array([0.60142857, 0.60142857, 0.60142857, 0.60142857, 0.60142857,\n",
       "        0.60142857, 0.60142857, 0.60142857, 0.60142857, 0.60142857,\n",
       "        0.65428571, 0.65428571, 0.65428571, 0.65428571, 0.65428571,\n",
       "        0.65428571, 0.65428571, 0.65428571, 0.65428571, 0.65428571,\n",
       "        0.68      , 0.68      , 0.68      , 0.68      , 0.68      ,\n",
       "        0.68      , 0.68      , 0.68      , 0.68      , 0.69      ,\n",
       "        0.67428571, 0.67285714, 0.67142857, 0.67142857, 0.67142857,\n",
       "        0.67142857, 0.67571429, 0.67142857, 0.68      , 0.67714286,\n",
       "        0.66714286, 0.67571429, 0.67857143, 0.67285714, 0.67285714,\n",
       "        0.68      , 0.67285714, 0.66857143, 0.67714286, 0.67428571,\n",
       "        0.67285714, 0.67428571, 0.67571429, 0.67285714, 0.67857143,\n",
       "        0.68428571, 0.67857143, 0.67428571, 0.69      , 0.68142857,\n",
       "        0.65714286, 0.67571429, 0.67714286, 0.67714286, 0.68142857,\n",
       "        0.68714286, 0.67857143, 0.67428571, 0.69      , 0.68142857,\n",
       "        0.65428571, 0.67571429, 0.67285714, 0.68428571, 0.69285714,\n",
       "        0.68714286, 0.67857143, 0.67428571, 0.69      , 0.68142857,\n",
       "        0.65571429, 0.68428571, 0.68142857, 0.67714286, 0.68714286,\n",
       "        0.68714286, 0.67857143, 0.67428571, 0.69      , 0.68142857,\n",
       "        0.65714286, 0.67857143, 0.67285714, 0.67714286, 0.68714286,\n",
       "        0.68714286, 0.67857143, 0.67428571, 0.69      , 0.68142857]),\n",
       " 'split3_test_score': array([0.59714286, 0.59714286, 0.59714286, 0.59714286, 0.59714286,\n",
       "        0.59714286, 0.59714286, 0.59714286, 0.59714286, 0.59714286,\n",
       "        0.67285714, 0.67285714, 0.67285714, 0.67285714, 0.67285714,\n",
       "        0.67285714, 0.67285714, 0.67285714, 0.67285714, 0.67285714,\n",
       "        0.69428571, 0.69428571, 0.69428571, 0.69428571, 0.69428571,\n",
       "        0.69428571, 0.69428571, 0.69428571, 0.69428571, 0.69428571,\n",
       "        0.68857143, 0.68714286, 0.69      , 0.68857143, 0.68857143,\n",
       "        0.68714286, 0.70142857, 0.70857143, 0.70857143, 0.70142857,\n",
       "        0.68142857, 0.69285714, 0.69571429, 0.69428571, 0.68571429,\n",
       "        0.67857143, 0.69857143, 0.70428571, 0.70428571, 0.69714286,\n",
       "        0.65      , 0.65857143, 0.67      , 0.67571429, 0.69285714,\n",
       "        0.68571429, 0.70571429, 0.70428571, 0.70428571, 0.69714286,\n",
       "        0.66571429, 0.69571429, 0.71      , 0.69857143, 0.68571429,\n",
       "        0.67571429, 0.69571429, 0.7       , 0.70285714, 0.69714286,\n",
       "        0.66285714, 0.69142857, 0.7       , 0.69142857, 0.68571429,\n",
       "        0.67571429, 0.69571429, 0.7       , 0.70285714, 0.69714286,\n",
       "        0.66285714, 0.69142857, 0.71142857, 0.68714286, 0.68571429,\n",
       "        0.67571429, 0.69571429, 0.7       , 0.70285714, 0.69714286,\n",
       "        0.66285714, 0.69285714, 0.71428571, 0.68142857, 0.68571429,\n",
       "        0.67571429, 0.69571429, 0.7       , 0.70285714, 0.69714286]),\n",
       " 'split4_test_score': array([0.61285714, 0.61285714, 0.61285714, 0.61285714, 0.61285714,\n",
       "        0.61285714, 0.61285714, 0.61285714, 0.61285714, 0.61285714,\n",
       "        0.65571429, 0.65571429, 0.65571429, 0.65571429, 0.65571429,\n",
       "        0.65571429, 0.65571429, 0.65571429, 0.65571429, 0.65571429,\n",
       "        0.69      , 0.69142857, 0.69142857, 0.69142857, 0.69142857,\n",
       "        0.69142857, 0.69142857, 0.69142857, 0.69142857, 0.69142857,\n",
       "        0.68857143, 0.69      , 0.69      , 0.69285714, 0.69285714,\n",
       "        0.69285714, 0.69285714, 0.69285714, 0.69285714, 0.69      ,\n",
       "        0.69142857, 0.69714286, 0.68857143, 0.68571429, 0.68      ,\n",
       "        0.68      , 0.68      , 0.68      , 0.69428571, 0.69142857,\n",
       "        0.67285714, 0.68714286, 0.67      , 0.68428571, 0.7       ,\n",
       "        0.68285714, 0.68857143, 0.67285714, 0.67857143, 0.68285714,\n",
       "        0.65285714, 0.67571429, 0.67428571, 0.68714286, 0.69285714,\n",
       "        0.68285714, 0.68428571, 0.67714286, 0.67857143, 0.68285714,\n",
       "        0.64714286, 0.67571429, 0.67285714, 0.68571429, 0.69571429,\n",
       "        0.68571429, 0.68428571, 0.67285714, 0.67857143, 0.68285714,\n",
       "        0.64428571, 0.67285714, 0.67142857, 0.68571429, 0.69571429,\n",
       "        0.68571429, 0.68428571, 0.67285714, 0.67857143, 0.68285714,\n",
       "        0.63571429, 0.66428571, 0.67285714, 0.68571429, 0.69571429,\n",
       "        0.68571429, 0.68428571, 0.67285714, 0.67857143, 0.68285714]),\n",
       " 'mean_test_score': array([0.614     , 0.614     , 0.614     , 0.614     , 0.614     ,\n",
       "        0.614     , 0.614     , 0.614     , 0.614     , 0.614     ,\n",
       "        0.66142857, 0.66142857, 0.66142857, 0.66142857, 0.66142857,\n",
       "        0.66142857, 0.66142857, 0.66142857, 0.66142857, 0.66142857,\n",
       "        0.692     , 0.69314286, 0.69314286, 0.69314286, 0.69314286,\n",
       "        0.69314286, 0.69314286, 0.69314286, 0.69314286, 0.69514286,\n",
       "        0.68942857, 0.68857143, 0.68942857, 0.68971429, 0.68942857,\n",
       "        0.68914286, 0.69285714, 0.69342857, 0.69742857, 0.69314286,\n",
       "        0.686     , 0.69285714, 0.69514286, 0.69314286, 0.68857143,\n",
       "        0.688     , 0.69057143, 0.69085714, 0.69771429, 0.69342857,\n",
       "        0.67828571, 0.684     , 0.68714286, 0.68657143, 0.69114286,\n",
       "        0.68742857, 0.69142857, 0.68971429, 0.69571429, 0.69228571,\n",
       "        0.67342857, 0.688     , 0.70028571, 0.69628571, 0.68971429,\n",
       "        0.686     , 0.69      , 0.69114286, 0.69542857, 0.69228571,\n",
       "        0.66742857, 0.68771429, 0.69371429, 0.694     , 0.69228571,\n",
       "        0.68657143, 0.69      , 0.69028571, 0.69542857, 0.69228571,\n",
       "        0.66285714, 0.686     , 0.698     , 0.69171429, 0.69114286,\n",
       "        0.68657143, 0.69      , 0.69028571, 0.69542857, 0.69228571,\n",
       "        0.65857143, 0.68542857, 0.69685714, 0.69057143, 0.69114286,\n",
       "        0.68657143, 0.69      , 0.69028571, 0.69542857, 0.69228571]),\n",
       " 'std_test_score': array([0.0159949 , 0.0159949 , 0.0159949 , 0.0159949 , 0.0159949 ,\n",
       "        0.0159949 , 0.0159949 , 0.0159949 , 0.0159949 , 0.0159949 ,\n",
       "        0.00693998, 0.00693998, 0.00693998, 0.00693998, 0.00693998,\n",
       "        0.00693998, 0.00693998, 0.00693998, 0.00693998, 0.00693998,\n",
       "        0.00737342, 0.00758086, 0.00758086, 0.00758086, 0.00758086,\n",
       "        0.00758086, 0.00758086, 0.00758086, 0.00758086, 0.00457143,\n",
       "        0.0099632 , 0.00894427, 0.01016597, 0.01027777, 0.01020604,\n",
       "        0.01024595, 0.00968904, 0.01270063, 0.01007725, 0.00927582,\n",
       "        0.01216888, 0.01509156, 0.01691757, 0.01594378, 0.01697537,\n",
       "        0.01672344, 0.01762651, 0.01922159, 0.01469694, 0.016     ,\n",
       "        0.0233937 , 0.01976185, 0.02214977, 0.01279668, 0.0124998 ,\n",
       "        0.01111719, 0.01355262, 0.01967906, 0.01543915, 0.01592329,\n",
       "        0.02114286, 0.01510778, 0.02232231, 0.01298665, 0.01043542,\n",
       "        0.01210161, 0.01456863, 0.0209645 , 0.01529039, 0.01592329,\n",
       "        0.02090601, 0.0179932 , 0.0216201 , 0.01027777, 0.00924055,\n",
       "        0.0120068 , 0.01456863, 0.02159743, 0.01529039, 0.01592329,\n",
       "        0.01287301, 0.01409588, 0.02245358, 0.01210161, 0.00945019,\n",
       "        0.0120068 , 0.01456863, 0.02159743, 0.01529039, 0.01592329,\n",
       "        0.0123222 , 0.01642298, 0.02409844, 0.01273273, 0.00945019,\n",
       "        0.0120068 , 0.01456863, 0.02159743, 0.01529039, 0.01592329]),\n",
       " 'rank_test_score': array([91, 91, 91, 91, 91, 91, 91, 91, 91, 91, 80, 80, 80, 80, 80, 80, 80,\n",
       "        80, 80, 80, 36, 18, 18, 18, 18, 18, 18, 18, 18, 13, 56, 61, 56, 53,\n",
       "        58, 59, 28, 16,  4, 18, 71, 28, 12, 27, 60, 62, 44, 43,  3, 16, 76,\n",
       "        75, 66, 67, 39, 65, 38, 53,  7, 31, 77, 62,  1,  6, 53, 71, 49, 40,\n",
       "         8, 31, 78, 64, 15, 14, 30, 67, 49, 46,  8, 31, 79, 73,  2, 37, 40,\n",
       "        67, 49, 46,  8, 31, 90, 74,  5, 44, 40, 67, 49, 46,  8, 31])}"
      ]
     },
     "execution_count": 133,
     "metadata": {},
     "output_type": "execute_result"
    }
   ],
   "source": [
    "m1_gs.cv_results_"
   ]
  },
  {
   "cell_type": "code",
   "execution_count": 138,
   "metadata": {
    "id": "zwQfhIwt7krA"
   },
   "outputs": [
    {
     "name": "stdout",
     "output_type": "stream",
     "text": [
      "              precision    recall  f1-score   support\n",
      "\n",
      "           0       0.66      0.70      0.68       738\n",
      "           1       0.69      0.66      0.68       762\n",
      "\n",
      "    accuracy                           0.68      1500\n",
      "   macro avg       0.68      0.68      0.68      1500\n",
      "weighted avg       0.68      0.68      0.68      1500\n",
      "\n"
     ]
    }
   ],
   "source": [
    "p1 = m1_gs.predict(x_val)\n",
    "print(classification_report(y_val,p1))"
   ]
  },
  {
   "cell_type": "code",
   "execution_count": null,
   "metadata": {},
   "outputs": [],
   "source": [
    "p1 = m1_gs.predict(x_val)\n",
    "\n",
    "print(confusion_matrix(y_val, p1))\n",
    "print('-' * 50)\n",
    "print(classification_report(y_val, p1))"
   ]
  }
 ],
 "metadata": {
  "colab": {
   "authorship_tag": "ABX9TyN6Prk/6koXd+7LqYkAnr0v",
   "collapsed_sections": [],
   "name": "08과 성능튜닝.ipynb",
   "provenance": [],
   "toc_visible": true
  },
  "kernelspec": {
   "display_name": "Python 3",
   "language": "python",
   "name": "python3"
  },
  "language_info": {
   "codemirror_mode": {
    "name": "ipython",
    "version": 3
   },
   "file_extension": ".py",
   "mimetype": "text/x-python",
   "name": "python",
   "nbconvert_exporter": "python",
   "pygments_lexer": "ipython3",
   "version": "3.8.8"
  }
 },
 "nbformat": 4,
 "nbformat_minor": 4
}
