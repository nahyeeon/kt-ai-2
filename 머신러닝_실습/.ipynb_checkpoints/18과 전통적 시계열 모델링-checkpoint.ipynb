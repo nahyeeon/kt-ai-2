{
 "cells": [
  {
   "cell_type": "markdown",
   "id": "60779a9b",
   "metadata": {
    "id": "60779a9b"
   },
   "source": [
    " # 전통적 시계열 모델링"
   ]
  },
  {
   "cell_type": "markdown",
   "id": "CrEJf9WUnYFs",
   "metadata": {
    "id": "CrEJf9WUnYFs"
   },
   "source": [
    "# 1.환경준비"
   ]
  },
  {
   "cell_type": "markdown",
   "id": "AEXDvGD9nYFy",
   "metadata": {
    "id": "AEXDvGD9nYFy"
   },
   "source": [
    "## (1) 라이브러리 로딩"
   ]
  },
  {
   "cell_type": "code",
   "execution_count": null,
   "id": "J82FjVOXnYFy",
   "metadata": {
    "id": "J82FjVOXnYFy"
   },
   "outputs": [],
   "source": [
    "import pandas as pd\n",
    "import numpy as np\n",
    "import matplotlib.pyplot as plt\n",
    "import seaborn as sns\n",
    "\n",
    "import scipy.stats as stats\n",
    "import statsmodels.api as sm\n",
    "from statsmodels.graphics.tsaplots import plot_acf, plot_pacf\n",
    "\n",
    "from sklearn.metrics import *\n",
    "\n",
    "import warnings\n",
    "from statsmodels.tools.sm_exceptions import ConvergenceWarning\n",
    "warnings.filterwarnings(action='ignore')\n",
    "warnings.simplefilter('ignore', ConvergenceWarning)"
   ]
  },
  {
   "cell_type": "markdown",
   "id": "DEoiMH2cIfcE",
   "metadata": {
    "id": "DEoiMH2cIfcE"
   },
   "source": [
    "## (2) 함수 생성 "
   ]
  },
  {
   "cell_type": "markdown",
   "id": "wz964deeIlvQ",
   "metadata": {
    "id": "wz964deeIlvQ"
   },
   "source": [
    "* 잔차분석"
   ]
  },
  {
   "cell_type": "code",
   "execution_count": null,
   "id": "idEWM3VAIiCV",
   "metadata": {
    "id": "idEWM3VAIiCV"
   },
   "outputs": [],
   "source": [
    "def residual_diag(residuals, lags = 20) :\n",
    "\n",
    "    print('* 정규성 검정(> 0.05) : ', round(stats.shapiro(residuals)[1],5))\n",
    "    print('* 정상성 검정(< 0.05) : ', round(sm.tsa.stattools.adfuller(residuals)[1],5))\n",
    "    print('* 자기상관성 확인(ACF, PACF)')\n",
    "    fig,ax = plt.subplots(1,2, figsize = (15,5))\n",
    "    plot_acf(residuals, lags = lags, ax = ax[0])\n",
    "    plot_pacf(residuals, lags = lags, ax = ax[1])\n",
    "    plt.show()"
   ]
  },
  {
   "cell_type": "markdown",
   "id": "852szdnLnYFy",
   "metadata": {
    "id": "852szdnLnYFy"
   },
   "source": [
    "## (3) 데이터 불러오기"
   ]
  },
  {
   "cell_type": "code",
   "execution_count": null,
   "id": "YLBpMfkGnYFz",
   "metadata": {
    "id": "YLBpMfkGnYFz"
   },
   "outputs": [],
   "source": [
    "path = 'https://raw.githubusercontent.com/DA4BAM/dataset/master/retail_demand2.csv'\n",
    "data = pd.read_csv(path, usecols = ['date', 'sales', 'tot_sales', 'comp_sales'])\n",
    "data = data.loc[data['date']<= '2015-10-31'].reset_index(drop = True)\n",
    "data.head()"
   ]
  },
  {
   "cell_type": "markdown",
   "id": "cG5cky5FS7jp",
   "metadata": {
    "id": "cG5cky5FS7jp"
   },
   "source": [
    "* 변수 설명\n",
    "\n",
    "    * date : 날짜\n",
    "    * sales : A유통회사 a 매장 aa상품의 일별 판매량\n",
    "    * tot_sales : A유통회사 전 매장 aa상품의 일별 판매량\n",
    "    * comp_sales : a매장 인근 B유통회사(경쟁사) b매장 aa상품의 일별 판매량"
   ]
  },
  {
   "cell_type": "code",
   "execution_count": null,
   "id": "jhYBDhh8HVev",
   "metadata": {
    "id": "jhYBDhh8HVev"
   },
   "outputs": [],
   "source": [
    "plt.figure(figsize = (20,8))\n",
    "plt.plot(data['sales'])\n",
    "plt.grid()\n",
    "plt.show()"
   ]
  },
  {
   "cell_type": "code",
   "execution_count": null,
   "id": "u9nk0CmMTsB_",
   "metadata": {
    "id": "u9nk0CmMTsB_"
   },
   "outputs": [],
   "source": [
    "temp = data[-100:]\n",
    "plt.figure(figsize = (20,8))\n",
    "plt.plot(temp['sales'])\n",
    "plt.grid()\n",
    "plt.show()"
   ]
  },
  {
   "cell_type": "markdown",
   "id": "GgwEBOZEnYFz",
   "metadata": {
    "id": "GgwEBOZEnYFz"
   },
   "source": [
    "# 2.기본 전처리"
   ]
  },
  {
   "cell_type": "markdown",
   "id": "uv7IfGU0nYF0",
   "metadata": {
    "id": "uv7IfGU0nYF0"
   },
   "source": [
    "## (1) 날짜 인덱스"
   ]
  },
  {
   "cell_type": "markdown",
   "id": "f6izlN8PO8u5",
   "metadata": {
    "id": "f6izlN8PO8u5"
   },
   "source": [
    "### 1) 날짜 타입으로 변경하기"
   ]
  },
  {
   "cell_type": "code",
   "execution_count": null,
   "id": "689S2PusPNQ6",
   "metadata": {
    "id": "689S2PusPNQ6"
   },
   "outputs": [],
   "source": [
    "# 데이터프레임의 정보를 살펴 봅시다.\n",
    "data.info()"
   ]
  },
  {
   "cell_type": "markdown",
   "id": "YvUZnrvyr2ic",
   "metadata": {
    "id": "YvUZnrvyr2ic"
   },
   "source": [
    "* 날짜 요소로 변환하기 : pd.to_datetime( *날짜형식으로 저장된 문자열 변수*   , **format** = )  \n",
    "* format : 일반적인(쉽게 인식 가능한 형태)는 생략 가능 (예 : yyyy-mm-dd hh:mi:ss)\n",
    "    * to_datetime : https://pandas.pydata.org/docs/reference/api/pandas.to_datetime.html\n",
    "    * format : https://docs.python.org/3/library/datetime.html#strftime-and-strptime-behavior"
   ]
  },
  {
   "cell_type": "code",
   "execution_count": null,
   "id": "PNCUqw8dnYF0",
   "metadata": {
    "id": "PNCUqw8dnYF0"
   },
   "outputs": [],
   "source": [
    "data['date'] = pd.to_datetime(data['date'])\n",
    "data.info()"
   ]
  },
  {
   "cell_type": "markdown",
   "id": "YzJ6BiXCujTp",
   "metadata": {
    "id": "YzJ6BiXCujTp"
   },
   "source": [
    "### 2) 날짜를 인덱스로 변환하기"
   ]
  },
  {
   "cell_type": "code",
   "execution_count": null,
   "id": "rlipXDmdnYF1",
   "metadata": {
    "id": "rlipXDmdnYF1"
   },
   "outputs": [],
   "source": [
    "data['DT'] = data['date']\n",
    "data.set_index('DT', inplace=True)\n",
    "data.head()"
   ]
  },
  {
   "cell_type": "markdown",
   "id": "p7KBfAHjeF-H",
   "metadata": {
    "id": "p7KBfAHjeF-H"
   },
   "source": [
    "### 3) 날짜단위 지정하기 : freq\n",
    "\n",
    "* **분석 단위**를 어떻게 가져갈 것인가와 관련이 있습니다.\n",
    "* 시계열 데이터를 **일정한 시간 간격**으로 만들어 줍니다.\n",
    "* 인덱스 조회시, 마지막에 있는 **freq** 옵션"
   ]
  },
  {
   "cell_type": "markdown",
   "id": "0lyoBfQOnev7",
   "metadata": {
    "id": "0lyoBfQOnev7"
   },
   "source": [
    "* 여기서는 일 단위 데이터이므로 D로 지정"
   ]
  },
  {
   "cell_type": "code",
   "execution_count": null,
   "id": "Swx0faeunYF3",
   "metadata": {
    "id": "Swx0faeunYF3"
   },
   "outputs": [],
   "source": [
    "df = data.asfreq('D')\n",
    "df.head()"
   ]
  },
  {
   "cell_type": "markdown",
   "id": "57hByVZOf4CQ",
   "metadata": {
    "id": "57hByVZOf4CQ"
   },
   "source": [
    "## (2) y 만들기"
   ]
  },
  {
   "cell_type": "markdown",
   "id": "g86mHfPXnYF3",
   "metadata": {
    "id": "g86mHfPXnYF3"
   },
   "source": [
    "* 사전 관찰(look-ahead) : 미래의 어떤 사실을 안다는 뜻\n",
    "* 사전 관찰 문제 : \n",
    "    * 데이터를 통해 실제로 알아야 하는 시점보다 더 일찍 미래에 대한 사실을 알게 되는 문제.  \n",
    "    * 사전관찰 문제가 있는 채로 모델링을 하게 되면, 놀라운 성능의 모델이 만들어짐. --> 그러나 실제로는 불가능한 상황."
   ]
  },
  {
   "cell_type": "markdown",
   "id": "uuzODPzVnYF4",
   "metadata": {
    "id": "uuzODPzVnYF4"
   },
   "source": [
    "* 그래서 y를 만들때 사전관찰문제가 발생되지 않도록 해야 함.\n",
    "    * 예제는 1일 후의 수요량을 예측하려고 합니다."
   ]
  },
  {
   "cell_type": "markdown",
   "id": "34-K0L3NnYF4",
   "metadata": {
    "id": "34-K0L3NnYF4"
   },
   "source": [
    "* 1일 후 수요량을 예측하려면, y를 어떻게 만들어야 할까요?"
   ]
  },
  {
   "cell_type": "code",
   "execution_count": null,
   "id": "9lCCQwJ9nYF4",
   "metadata": {
    "id": "9lCCQwJ9nYF4"
   },
   "outputs": [],
   "source": [
    "df['y'] = df['sales'].shift(-1)\n",
    "display(df.head())\n",
    "display(df.tail())"
   ]
  },
  {
   "cell_type": "code",
   "execution_count": null,
   "id": "JNx0QukL6aNM",
   "metadata": {
    "id": "JNx0QukL6aNM"
   },
   "outputs": [],
   "source": [
    "# 제일 마지막 행은 삭제\n",
    "df.dropna(axis = 0, inplace = True)\n",
    "df.tail()"
   ]
  },
  {
   "cell_type": "markdown",
   "id": "BsnG_XmKnYF5",
   "metadata": {
    "id": "BsnG_XmKnYF5"
   },
   "source": [
    "## (3) 데이터 분할"
   ]
  },
  {
   "cell_type": "markdown",
   "id": "tBIrWFVjnYF5",
   "metadata": {
    "id": "tBIrWFVjnYF5"
   },
   "source": [
    "### 1) x, y 나누기"
   ]
  },
  {
   "cell_type": "code",
   "execution_count": null,
   "id": "vFNYjseynYF5",
   "metadata": {
    "id": "vFNYjseynYF5"
   },
   "outputs": [],
   "source": [
    "target = 'y'\n",
    "\n",
    "x = df.drop([target, 'date'], axis = 1)\n",
    "y = df.loc[:, target]"
   ]
  },
  {
   "cell_type": "markdown",
   "id": "o7R4fr4ynYF5",
   "metadata": {
    "id": "o7R4fr4ynYF5"
   },
   "source": [
    "### 2) 시계열 데이터 분할\n",
    "\n",
    "* 다음의 조건으로 Cross Validation을 수행하겠습니다.\n",
    "    * 3-fold\n",
    "    * Validation 기간 30일\n",
    "\n",
    "* TimeSeriesSplit : https://scikit-learn.org/stable/modules/generated/sklearn.model_selection.TimeSeriesSplit.html"
   ]
  },
  {
   "cell_type": "code",
   "execution_count": null,
   "id": "AYoAwJ8tnYF5",
   "metadata": {
    "id": "AYoAwJ8tnYF5"
   },
   "outputs": [],
   "source": [
    "from sklearn.model_selection import TimeSeriesSplit"
   ]
  },
  {
   "cell_type": "code",
   "execution_count": null,
   "id": "YaeflyLdnYF6",
   "metadata": {
    "id": "YaeflyLdnYF6"
   },
   "outputs": [],
   "source": [
    "# validation set size\n",
    "val_size = 30\n",
    "nfold = 3\n",
    "\n",
    "tscv = TimeSeriesSplit(n_splits = nfold, test_size = val_size)\n",
    "tscv"
   ]
  },
  {
   "cell_type": "markdown",
   "id": "31UjxDapIFw4",
   "metadata": {
    "id": "31UjxDapIFw4"
   },
   "source": [
    "# 3.모델링1 : ARIMA"
   ]
  },
  {
   "cell_type": "markdown",
   "id": "k-bOrYkYHcDa",
   "metadata": {
    "id": "k-bOrYkYHcDa"
   },
   "source": [
    "## (1) y 값 살펴보기"
   ]
  },
  {
   "cell_type": "code",
   "execution_count": null,
   "id": "L7OjCl1poGBe",
   "metadata": {
    "id": "L7OjCl1poGBe"
   },
   "outputs": [],
   "source": [
    "len(y)"
   ]
  },
  {
   "cell_type": "code",
   "execution_count": null,
   "id": "8zvbdDBTbUrh",
   "metadata": {
    "id": "8zvbdDBTbUrh"
   },
   "outputs": [],
   "source": [
    "train = y[:-30]\n",
    "val = y[-30:]"
   ]
  },
  {
   "cell_type": "code",
   "execution_count": null,
   "id": "aRG3tghoo7oI",
   "metadata": {
    "id": "aRG3tghoo7oI"
   },
   "outputs": [],
   "source": [
    "train.tail()"
   ]
  },
  {
   "cell_type": "code",
   "execution_count": null,
   "id": "zbSHkwBvpAxh",
   "metadata": {
    "id": "zbSHkwBvpAxh"
   },
   "outputs": [],
   "source": [
    "val.head()"
   ]
  },
  {
   "cell_type": "code",
   "execution_count": null,
   "id": "vyjsfjMbUMVQ",
   "metadata": {
    "id": "vyjsfjMbUMVQ"
   },
   "outputs": [],
   "source": [
    "lags = 20\n",
    "\n",
    "fig,ax = plt.subplots(1,2, figsize = (15,5))\n",
    "plot_acf(train, lags = lags, ax = ax[0])\n",
    "plot_pacf(train, lags = lags, ax = ax[1])\n",
    "plt.show()"
   ]
  },
  {
   "cell_type": "markdown",
   "id": "xTfAfACiDrkF",
   "metadata": {
    "id": "xTfAfACiDrkF"
   },
   "source": [
    "## (2) 모델링 : 초기모델"
   ]
  },
  {
   "cell_type": "markdown",
   "id": "7i_FzBgkD0TA",
   "metadata": {
    "id": "7i_FzBgkD0TA"
   },
   "source": [
    "* p, d, q 값을 어떻게 정해야 할까요?\n",
    "* AR의 p 차수와 MA q 차수 모두 값이 필요해 보입니다. 일단 1, 1을 지정합시다."
   ]
  },
  {
   "cell_type": "markdown",
   "id": "yViklUjXbhdN",
   "metadata": {
    "id": "yViklUjXbhdN"
   },
   "source": [
    "### 1) 학습"
   ]
  },
  {
   "cell_type": "markdown",
   "id": "jqCqY1IrEbOo",
   "metadata": {
    "id": "jqCqY1IrEbOo"
   },
   "source": [
    "* sm.tsa.SARIMAX(train, order=(p,d,q)).fit()\n",
    "    * 모델 선언시 train이 포함\n",
    "    * .fit()으로 학습."
   ]
  },
  {
   "cell_type": "code",
   "execution_count": null,
   "id": "dMJkUvYZc2i7",
   "metadata": {
    "id": "dMJkUvYZc2i7"
   },
   "outputs": [],
   "source": [
    "# ARIMA 모델링\n",
    "model1_1 = sm.tsa.SARIMAX(train, order=(1,0,1)).fit()\n",
    "model1_2 = sm.tsa.SARIMAX(train, order=(1,1,1)).fit()"
   ]
  },
  {
   "cell_type": "markdown",
   "id": "ZosuIjIQG534",
   "metadata": {
    "id": "ZosuIjIQG534"
   },
   "source": [
    "### 2) 평가"
   ]
  },
  {
   "cell_type": "markdown",
   "id": "zdkJ_HM2bqCm",
   "metadata": {
    "id": "zdkJ_HM2bqCm"
   },
   "source": [
    "#### ① 잔차진단\n",
    "SARIMAX로 만든 모델은 .plot_diagnistics 함수를 통해 잔차 진단을 할 수 있습니다."
   ]
  },
  {
   "cell_type": "markdown",
   "id": "qt0VcRFaHRa9",
   "metadata": {
    "id": "qt0VcRFaHRa9"
   },
   "source": [
    "* 모델.resid : 잔차를 뽑을 수 있습니다.\n",
    "* 위에서 만든 함수 residual_diag 를 사용하여 잔차진단을 해 봅시다."
   ]
  },
  {
   "cell_type": "code",
   "execution_count": null,
   "id": "nymDqFsYPZ6b",
   "metadata": {
    "id": "nymDqFsYPZ6b"
   },
   "outputs": [],
   "source": [
    "residuals = model1_2.resid\n",
    "residual_diag(residuals)"
   ]
  },
  {
   "cell_type": "markdown",
   "id": "WMadFywAHNdj",
   "metadata": {
    "id": "WMadFywAHNdj"
   },
   "source": [
    "#### ② AIC\n",
    "* 선형 모델에서의 적합도와, feature가 과도하게 늘어나는 것을 방지하도록 설계된 통계량이 AIC 입니다.\n",
    "* 값이 작을 수록 좋은 모델\n",
    "* 공식 : 𝐴𝐼𝐶=−2 ln⁡(𝐿)+2𝑘 ➡ - 모델의 적합도 + 변수의 갯수\n",
    "* SARIMAX 모델.aic로 쉽게 통계량을 구할 수 있습니다."
   ]
  },
  {
   "cell_type": "code",
   "execution_count": null,
   "id": "0cMCOj7lzZtn",
   "metadata": {
    "id": "0cMCOj7lzZtn"
   },
   "outputs": [],
   "source": [
    "print('model1 AIC :', model1_1.aic)\n",
    "print('model2 AIC :', model1_2.aic)"
   ]
  },
  {
   "cell_type": "markdown",
   "id": "dk1sJTpGVGJi",
   "metadata": {
    "id": "dk1sJTpGVGJi"
   },
   "source": [
    "#### ③ Validation\n",
    "\n",
    "시계열 데이터로 실제값과 예측값에 대해 비교하여 그래프를 그려봅시다."
   ]
  },
  {
   "cell_type": "code",
   "execution_count": null,
   "id": "rb2X5yFNVbvs",
   "metadata": {
    "id": "rb2X5yFNVbvs"
   },
   "outputs": [],
   "source": [
    "pred = model1_2.forecast(30)\n",
    "mean_absolute_error(val, pred)"
   ]
  },
  {
   "cell_type": "code",
   "execution_count": null,
   "id": "0DGynj78kdDy",
   "metadata": {
    "id": "0DGynj78kdDy"
   },
   "outputs": [],
   "source": [
    "plt.figure(figsize=(15,8))\n",
    "plt.plot(train[-120:], label='train')\n",
    "plt.plot(pred, label = 'forecast')\n",
    "plt.plot(val, label = 'val')\n",
    "plt.legend()\n",
    "plt.show()"
   ]
  },
  {
   "cell_type": "markdown",
   "id": "f0ML9nggRF3g",
   "metadata": {
    "id": "f0ML9nggRF3g"
   },
   "source": [
    "## (3) 하이퍼파라미터 튜닝\n",
    "\n",
    "실제로 p, d, q를 찾는 과정은 마치 Grid Search 처럼 값을 조금씩 조정해가며  최적의 모델을 찾아가는 과정과 유사합니다.\n"
   ]
  },
  {
   "cell_type": "markdown",
   "id": "LhjxJIbNcvo7",
   "metadata": {
    "id": "LhjxJIbNcvo7"
   },
   "source": [
    "### 1) 학습"
   ]
  },
  {
   "cell_type": "code",
   "execution_count": null,
   "id": "eyPtTKySWHc2",
   "metadata": {
    "id": "eyPtTKySWHc2"
   },
   "outputs": [],
   "source": [
    "from itertools import product"
   ]
  },
  {
   "cell_type": "markdown",
   "id": "x4wHHu36flvb",
   "metadata": {
    "id": "x4wHHu36flvb"
   },
   "source": [
    "* 값의 범위 지정"
   ]
  },
  {
   "cell_type": "code",
   "execution_count": null,
   "id": "nLAqcBeAfjyZ",
   "metadata": {
    "id": "nLAqcBeAfjyZ"
   },
   "outputs": [],
   "source": [
    "# product 함수를 이용하여 값의 조합을 구성\n",
    "p = [0,1,2,3,4]\n",
    "q = [0,1,2,3,4]\n",
    "d = [0,1]\n",
    "iter = list(product(p,d,q))\n",
    "iter"
   ]
  },
  {
   "cell_type": "code",
   "execution_count": null,
   "id": "pe1nrIogV1gT",
   "metadata": {
    "id": "pe1nrIogV1gT"
   },
   "outputs": [],
   "source": [
    "# \n",
    "mae, aic = [],[]\n",
    "for i in iter :\n",
    "    model_fit = sm.tsa.SARIMAX(train, order=(i[0],i[1],i[2])).fit()\n",
    "    pred = model_fit.forecast(30)\n",
    "    mae.append( mean_absolute_error(val, pred))\n",
    "    aic.append(model_fit.aic)\n",
    "    print(i)"
   ]
  },
  {
   "cell_type": "code",
   "execution_count": null,
   "id": "M-80RhcsXXH5",
   "metadata": {
    "id": "M-80RhcsXXH5"
   },
   "outputs": [],
   "source": [
    "result = pd.DataFrame({'params(p,d,q)' : iter, 'mae' : mae, 'aic':aic})\n",
    "\n",
    "display(result.loc[result['mae'] == result.mae.min()])\n",
    "display(result.loc[result['aic'] == result.aic.min()])"
   ]
  },
  {
   "cell_type": "code",
   "execution_count": null,
   "id": "NbirVBirY60s",
   "metadata": {
    "id": "NbirVBirY60s"
   },
   "outputs": [],
   "source": [
    "model2_1 = sm.tsa.SARIMAX(train, order=(3,1,3)).fit()\n",
    "model2_2 = sm.tsa.SARIMAX(train, order=(4,1,4)).fit()"
   ]
  },
  {
   "cell_type": "markdown",
   "id": "OXTvBEzBcodF",
   "metadata": {
    "id": "OXTvBEzBcodF"
   },
   "source": [
    "### 2) 평가"
   ]
  },
  {
   "cell_type": "markdown",
   "id": "aoze7fTkcodF",
   "metadata": {
    "id": "aoze7fTkcodF"
   },
   "source": [
    "#### ① 잔차진단"
   ]
  },
  {
   "cell_type": "markdown",
   "id": "pKtQRf4AcodG",
   "metadata": {
    "id": "pKtQRf4AcodG"
   },
   "source": [
    "* residual_diag"
   ]
  },
  {
   "cell_type": "code",
   "execution_count": null,
   "id": "zdOGVjQ6codG",
   "metadata": {
    "id": "zdOGVjQ6codG"
   },
   "outputs": [],
   "source": [
    "residuals = model2_2.resid\n",
    "residual_diag(residuals)"
   ]
  },
  {
   "cell_type": "markdown",
   "id": "ZpyxIVPZcodG",
   "metadata": {
    "id": "ZpyxIVPZcodG"
   },
   "source": [
    "#### ② AIC\n",
    "* 선형 모델에서의 적합도와, feature가 과도하게 늘어나는 것을 방지하도록 설계된 통계량이 AIC 입니다.\n",
    "* 값이 작을 수록 좋은 모델\n",
    "* 공식 : 𝐴𝐼𝐶=−2 ln⁡(𝐿)+2𝑘 ➡ - 모델의 적합도 + 변수의 갯수"
   ]
  },
  {
   "cell_type": "code",
   "execution_count": null,
   "id": "KO8bBT0LcodG",
   "metadata": {
    "id": "KO8bBT0LcodG"
   },
   "outputs": [],
   "source": [
    "print('model2 AIC :', model2_2.aic)"
   ]
  },
  {
   "cell_type": "markdown",
   "id": "OYv6fGjXcodG",
   "metadata": {
    "id": "OYv6fGjXcodG"
   },
   "source": [
    "#### ③ Validation"
   ]
  },
  {
   "cell_type": "code",
   "execution_count": null,
   "id": "FC_NpB4ncodG",
   "metadata": {
    "id": "FC_NpB4ncodG"
   },
   "outputs": [],
   "source": [
    "pred = model2_2.forecast(30)\n",
    "mean_absolute_error(val, pred)"
   ]
  },
  {
   "cell_type": "code",
   "execution_count": null,
   "id": "b_x_Qt_1codG",
   "metadata": {
    "id": "b_x_Qt_1codG"
   },
   "outputs": [],
   "source": [
    "plt.figure(figsize=(15,8))\n",
    "plt.plot(train[-120:], label='train')\n",
    "plt.plot(pred, label = 'forecast')\n",
    "plt.plot(val, label = 'val')\n",
    "plt.legend()\n",
    "plt.show()"
   ]
  },
  {
   "cell_type": "markdown",
   "id": "y5v5E2C5SY3J",
   "metadata": {
    "id": "y5v5E2C5SY3J"
   },
   "source": [
    "## (4) Cross Validation"
   ]
  },
  {
   "cell_type": "markdown",
   "id": "MzyLa-O6dgnf",
   "metadata": {
    "id": "MzyLa-O6dgnf"
   },
   "source": [
    "### 1) 학습"
   ]
  },
  {
   "cell_type": "code",
   "execution_count": null,
   "id": "HMVsMv-uT9Gp",
   "metadata": {
    "id": "HMVsMv-uT9Gp"
   },
   "outputs": [],
   "source": [
    "val_size"
   ]
  },
  {
   "cell_type": "code",
   "execution_count": null,
   "id": "hGC1SauPHVTN",
   "metadata": {
    "id": "hGC1SauPHVTN"
   },
   "outputs": [],
   "source": [
    "rmse, mae, mape, aic = [],[],[],[]\n",
    "residuals = []\n",
    "preds = []\n",
    "p,d,q = 4,1,4\n",
    "\n",
    "for train_index, val_index in tscv.split(x):\n",
    "\n",
    "    # 인덱스로 데이터 분할\n",
    "    train = y[train_index]\n",
    "    val = y[val_index]\n",
    "\n",
    "    # 학습\n",
    "    model = sm.tsa.SARIMAX(train, order=(p,d,q)).fit()\n",
    "\n",
    "    # 예측\n",
    "    pred = model.forecast(val_size)\n",
    "    preds += list(pred)\n",
    "\n",
    "    # 잔차 저장\n",
    "    residuals += list(model.resid)\n",
    "\n",
    "    # 평가\n",
    "    rmse.append(mean_squared_error(val, pred, squared = False))\n",
    "    mae.append(mean_absolute_error(val, pred))\n",
    "    mape.append(mean_absolute_percentage_error(val, pred))\n",
    "    aic.append(model.aic)"
   ]
  },
  {
   "cell_type": "markdown",
   "id": "DI28CdDDdioF",
   "metadata": {
    "id": "DI28CdDDdioF"
   },
   "source": [
    "### 2) 평가"
   ]
  },
  {
   "cell_type": "markdown",
   "id": "nFHZz4YKdioG",
   "metadata": {
    "id": "nFHZz4YKdioG"
   },
   "source": [
    "#### ① 잔차진단"
   ]
  },
  {
   "cell_type": "code",
   "execution_count": null,
   "id": "xbNFhHc0dioH",
   "metadata": {
    "id": "xbNFhHc0dioH"
   },
   "outputs": [],
   "source": [
    "residual_diag(residuals)"
   ]
  },
  {
   "cell_type": "markdown",
   "id": "ZzU3WVgrdioH",
   "metadata": {
    "id": "ZzU3WVgrdioH"
   },
   "source": [
    "#### ② AIC"
   ]
  },
  {
   "cell_type": "code",
   "execution_count": null,
   "id": "tJn6ChkhdioI",
   "metadata": {
    "id": "tJn6ChkhdioI"
   },
   "outputs": [],
   "source": [
    "np.mean(aic)"
   ]
  },
  {
   "cell_type": "markdown",
   "id": "zzfzmi2TdioI",
   "metadata": {
    "id": "zzfzmi2TdioI"
   },
   "source": [
    "#### ③ Validation"
   ]
  },
  {
   "cell_type": "code",
   "execution_count": null,
   "id": "SfZfDdRqeZFk",
   "metadata": {
    "id": "SfZfDdRqeZFk"
   },
   "outputs": [],
   "source": [
    "preds = pd.Series(preds, index = y[-90:].index)\n",
    "print('MAE :', mean_absolute_error(y[-90:], preds))\n",
    "\n",
    "plt.figure(figsize = (20,8))\n",
    "plt.plot(y[-200:], label = 'train')\n",
    "plt.plot(y[-90:], label = 'val')\n",
    "plt.plot(preds, label = 'predicted')\n",
    "\n",
    "plt.legend()\n",
    "plt.grid()\n",
    "plt.show()"
   ]
  },
  {
   "cell_type": "markdown",
   "id": "dB_MISZcyG9t",
   "metadata": {
    "id": "dB_MISZcyG9t"
   },
   "source": [
    "# 4.모델링2 : SARIMA"
   ]
  },
  {
   "cell_type": "markdown",
   "id": "7nOKgeTKyG97",
   "metadata": {
    "id": "7nOKgeTKyG97"
   },
   "source": [
    "## (1) 모델링 : 초기모델"
   ]
  },
  {
   "cell_type": "markdown",
   "id": "dIiyeJ4ZsVAz",
   "metadata": {
    "id": "dIiyeJ4ZsVAz"
   },
   "source": [
    "### 1) 학습"
   ]
  },
  {
   "cell_type": "code",
   "execution_count": null,
   "id": "lV0xhBmWvtRd",
   "metadata": {
    "id": "lV0xhBmWvtRd"
   },
   "outputs": [],
   "source": [
    "train = y[:-30]\n",
    "val = y[-30:]"
   ]
  },
  {
   "cell_type": "code",
   "execution_count": null,
   "id": "atvFdMA7yG98",
   "metadata": {
    "id": "atvFdMA7yG98"
   },
   "outputs": [],
   "source": [
    "# SARIMA 모델링\n",
    "model2_0 = sm.tsa.SARIMAX(train, order=(4,1,4), seasonal_order=(1,1,1,7)).fit()"
   ]
  },
  {
   "cell_type": "markdown",
   "id": "4WFysD3Ssfo6",
   "metadata": {
    "id": "4WFysD3Ssfo6"
   },
   "source": [
    "### 2) 평가"
   ]
  },
  {
   "cell_type": "markdown",
   "id": "W4HJdxtYsfo7",
   "metadata": {
    "id": "W4HJdxtYsfo7"
   },
   "source": [
    "#### ① 잔차진단"
   ]
  },
  {
   "cell_type": "code",
   "execution_count": null,
   "id": "WgJhUM-ZstR3",
   "metadata": {
    "id": "WgJhUM-ZstR3"
   },
   "outputs": [],
   "source": [
    "residuals = model2_0.resid\n",
    "residual_diag(residuals)"
   ]
  },
  {
   "cell_type": "markdown",
   "id": "Snt5ttXSsmgj",
   "metadata": {
    "id": "Snt5ttXSsmgj"
   },
   "source": [
    "#### ② AIC"
   ]
  },
  {
   "cell_type": "code",
   "execution_count": null,
   "id": "mf_abb1DZEcH",
   "metadata": {
    "id": "mf_abb1DZEcH"
   },
   "outputs": [],
   "source": [
    "print('model2_0 AIC :', model2_0.aic)"
   ]
  },
  {
   "cell_type": "markdown",
   "id": "zcTP7kv5szcL",
   "metadata": {
    "id": "zcTP7kv5szcL"
   },
   "source": [
    "#### ③ Validation"
   ]
  },
  {
   "cell_type": "code",
   "execution_count": null,
   "id": "y1gYoEO9szcM",
   "metadata": {
    "id": "y1gYoEO9szcM"
   },
   "outputs": [],
   "source": [
    "pred = model2_0.forecast(30)\n",
    "mean_absolute_error(val, pred)"
   ]
  },
  {
   "cell_type": "code",
   "execution_count": null,
   "id": "e5P-auhcszcM",
   "metadata": {
    "id": "e5P-auhcszcM"
   },
   "outputs": [],
   "source": [
    "plt.figure(figsize=(15,8))\n",
    "plt.plot(train[-120:], label='train')\n",
    "plt.plot(pred, label = 'forecast')\n",
    "plt.plot(val, label = 'val')\n",
    "plt.legend()\n",
    "plt.show()"
   ]
  },
  {
   "cell_type": "markdown",
   "id": "U4OnDFjDfdwi",
   "metadata": {
    "id": "U4OnDFjDfdwi"
   },
   "source": [
    "## (2) 하이퍼파라미터 튜닝\n",
    "오래 걸립니다. 돌려 놓고 커피 한잔 타서 오세요.(약 5~6 분)"
   ]
  },
  {
   "cell_type": "markdown",
   "id": "Hz_5yJZqs-vS",
   "metadata": {
    "id": "Hz_5yJZqs-vS"
   },
   "source": [
    "### 1) 학습"
   ]
  },
  {
   "cell_type": "code",
   "execution_count": null,
   "id": "514AB6lkdWwD",
   "metadata": {
    "id": "514AB6lkdWwD"
   },
   "outputs": [],
   "source": [
    "P = [1,2,3]\n",
    "Q = [1,2,3]\n",
    "D = [1]\n",
    "mae, aic = [],[]\n",
    "iter = list(product(P,D,Q))\n",
    "\n",
    "for i in iter :\n",
    "    model_fit = sm.tsa.SARIMAX(train, order=(4,1,4), seasonal_order=(i[0],i[1],i[2],7)).fit()\n",
    "    pred = model_fit.forecast(30)\n",
    "    mae.append( mean_absolute_error(val, pred))\n",
    "    aic.append(model_fit.aic)\n",
    "    print(i)"
   ]
  },
  {
   "cell_type": "code",
   "execution_count": null,
   "id": "un_kaR6Rz44l",
   "metadata": {
    "id": "un_kaR6Rz44l"
   },
   "outputs": [],
   "source": [
    "result = pd.DataFrame({'params(P,D,Q)' : iter, 'mae' : mae, 'aic':aic})\n",
    "\n",
    "display(result.loc[result['mae'] == result.mae.min()])\n",
    "display(result.loc[result['aic'] == result.aic.min()])"
   ]
  },
  {
   "cell_type": "code",
   "execution_count": null,
   "id": "LUypV4gcdWwD",
   "metadata": {
    "id": "LUypV4gcdWwD"
   },
   "outputs": [],
   "source": [
    "model2_1 = sm.tsa.SARIMAX(train, order=(3,1,3), seasonal_order=(1,1,3,7)).fit()\n",
    "model2_2 = sm.tsa.SARIMAX(train, order=(3,1,3), seasonal_order=(1,1,1,7)).fit()"
   ]
  },
  {
   "cell_type": "markdown",
   "id": "v8lrXdbgtGLN",
   "metadata": {
    "id": "v8lrXdbgtGLN"
   },
   "source": [
    "### 2) 평가"
   ]
  },
  {
   "cell_type": "markdown",
   "id": "gSY0Jr1YtGLO",
   "metadata": {
    "id": "gSY0Jr1YtGLO"
   },
   "source": [
    "#### ① 잔차진단"
   ]
  },
  {
   "cell_type": "markdown",
   "id": "8swkbd9utGLP",
   "metadata": {
    "id": "8swkbd9utGLP"
   },
   "source": [
    "* residual_diag"
   ]
  },
  {
   "cell_type": "code",
   "execution_count": null,
   "id": "nO_JR67qtGLP",
   "metadata": {
    "id": "nO_JR67qtGLP"
   },
   "outputs": [],
   "source": [
    "residuals = model2_1.resid\n",
    "residual_diag(residuals)"
   ]
  },
  {
   "cell_type": "code",
   "execution_count": null,
   "id": "8xQraFty4C_F",
   "metadata": {
    "id": "8xQraFty4C_F"
   },
   "outputs": [],
   "source": [
    "residuals = model2_2.resid\n",
    "residual_diag(residuals)"
   ]
  },
  {
   "cell_type": "markdown",
   "id": "RVsRHKuBtGLP",
   "metadata": {
    "id": "RVsRHKuBtGLP"
   },
   "source": [
    "#### ② AIC\n",
    "* 선형 모델에서의 적합도와, feature가 과도하게 늘어나는 것을 방지하도록 설계된 통계량이 AIC 입니다.\n",
    "* 값이 작을 수록 좋은 모델\n",
    "* 공식 : 𝐴𝐼𝐶=−2 ln⁡(𝐿)+2𝑘 ➡ - 모델의 적합도 + 변수의 갯수"
   ]
  },
  {
   "cell_type": "code",
   "execution_count": null,
   "id": "dcM56T-ktGLQ",
   "metadata": {
    "id": "dcM56T-ktGLQ"
   },
   "outputs": [],
   "source": [
    "print('model2_1 AIC :', model2_1.aic)\n",
    "print('model2_2 AIC :', model2_2.aic)"
   ]
  },
  {
   "cell_type": "markdown",
   "id": "uSSQextStGLQ",
   "metadata": {
    "id": "uSSQextStGLQ"
   },
   "source": [
    "#### ③ Validation"
   ]
  },
  {
   "cell_type": "code",
   "execution_count": null,
   "id": "b443c3kMtGLQ",
   "metadata": {
    "id": "b443c3kMtGLQ"
   },
   "outputs": [],
   "source": [
    "pred = model2_1.forecast(30)\n",
    "mean_absolute_error(val, pred)"
   ]
  },
  {
   "cell_type": "code",
   "execution_count": null,
   "id": "cf9eBWD0tGLQ",
   "metadata": {
    "id": "cf9eBWD0tGLQ"
   },
   "outputs": [],
   "source": [
    "plt.figure(figsize=(15,8))\n",
    "plt.plot(train[-120:], label='train')\n",
    "plt.plot(pred, label = 'forecast')\n",
    "plt.plot(val, label = 'val')\n",
    "plt.legend()\n",
    "plt.show()"
   ]
  },
  {
   "cell_type": "markdown",
   "id": "MkRysB6OaIsC",
   "metadata": {
    "id": "MkRysB6OaIsC"
   },
   "source": [
    "## (3) Cross Validation"
   ]
  },
  {
   "cell_type": "markdown",
   "id": "pKEGok7Ws_Vu",
   "metadata": {
    "id": "pKEGok7Ws_Vu"
   },
   "source": [
    "### 1) 학습"
   ]
  },
  {
   "cell_type": "code",
   "execution_count": null,
   "id": "ivqKgQkiyMAA",
   "metadata": {
    "id": "ivqKgQkiyMAA"
   },
   "outputs": [],
   "source": [
    "rmse, mae, mape, aic = [],[],[],[]\n",
    "residuals = []\n",
    "preds = []\n",
    "p,d,q = 4,1,4\n",
    "P,D,Q = 1,1,3\n",
    "m = 7\n",
    "\n",
    "for train_index, val_index in tscv.split(x):\n",
    "\n",
    "    # 인덱스로 데이터 분할\n",
    "    train = y[train_index]\n",
    "    val = y[val_index]\n",
    "\n",
    "    # 학습\n",
    "    model = sm.tsa.SARIMAX(train, order=(p,d,q), seasonal_order = (P,D,Q,m)).fit()\n",
    "\n",
    "    # 예측\n",
    "    pred = model.forecast(val_size)\n",
    "    preds += list(pred)\n",
    "\n",
    "    # 잔차 저장\n",
    "    residuals += list(model.resid)\n",
    "\n",
    "    # 평가\n",
    "    rmse.append(mean_squared_error(val, pred, squared = False))\n",
    "    mae.append(mean_absolute_error(val, pred))\n",
    "    mape.append(mean_absolute_percentage_error(val, pred))\n",
    "    aic.append(model.aic)"
   ]
  },
  {
   "cell_type": "markdown",
   "id": "ew2R7G5stV3G",
   "metadata": {
    "id": "ew2R7G5stV3G"
   },
   "source": [
    "### 2) 평가"
   ]
  },
  {
   "cell_type": "markdown",
   "id": "08i1wp34tV3G",
   "metadata": {
    "id": "08i1wp34tV3G"
   },
   "source": [
    "#### ① 잔차진단"
   ]
  },
  {
   "cell_type": "code",
   "execution_count": null,
   "id": "AKyb7QsQtV3G",
   "metadata": {
    "id": "AKyb7QsQtV3G"
   },
   "outputs": [],
   "source": [
    "residual_diag(residuals)"
   ]
  },
  {
   "cell_type": "markdown",
   "id": "oAUipvMQtV3H",
   "metadata": {
    "id": "oAUipvMQtV3H"
   },
   "source": [
    "#### ② AIC"
   ]
  },
  {
   "cell_type": "code",
   "execution_count": null,
   "id": "b8ofUSmctV3H",
   "metadata": {
    "id": "b8ofUSmctV3H"
   },
   "outputs": [],
   "source": [
    "np.mean(aic)"
   ]
  },
  {
   "cell_type": "markdown",
   "id": "cEX3qKWmtV3H",
   "metadata": {
    "id": "cEX3qKWmtV3H"
   },
   "source": [
    "#### ③ Validation"
   ]
  },
  {
   "cell_type": "code",
   "execution_count": null,
   "id": "7KiZbyrYtV3H",
   "metadata": {
    "id": "7KiZbyrYtV3H"
   },
   "outputs": [],
   "source": [
    "preds = pd.Series(preds, index = y[-90:].index)\n",
    "print('MAE :', mean_absolute_error(y[-90:], preds))\n",
    "\n",
    "plt.figure(figsize = (20,8))\n",
    "plt.plot(y[-200:], label = 'train')\n",
    "plt.plot(y[-90:], label = 'val')\n",
    "plt.plot(preds, label = 'predicted')\n",
    "\n",
    "plt.legend()\n",
    "plt.grid()\n",
    "plt.show()"
   ]
  },
  {
   "cell_type": "markdown",
   "id": "6E569Ba4yK9a",
   "metadata": {
    "id": "6E569Ba4yK9a"
   },
   "source": [
    "# 5.모델링3 : SARIMAX"
   ]
  },
  {
   "cell_type": "markdown",
   "id": "GNghLpmSyK9b",
   "metadata": {
    "id": "GNghLpmSyK9b"
   },
   "source": [
    "## (1) 모델링"
   ]
  },
  {
   "cell_type": "code",
   "execution_count": null,
   "id": "BIKVIW6pvZEY",
   "metadata": {
    "id": "BIKVIW6pvZEY"
   },
   "outputs": [],
   "source": [
    "x.head()"
   ]
  },
  {
   "cell_type": "markdown",
   "id": "gY9u6Ught9-J",
   "metadata": {
    "id": "gY9u6Ught9-J"
   },
   "source": [
    "### 1) 학습"
   ]
  },
  {
   "cell_type": "code",
   "execution_count": null,
   "id": "rSsAkoUx1_2T",
   "metadata": {
    "id": "rSsAkoUx1_2T"
   },
   "outputs": [],
   "source": [
    "val_size = 30\n",
    "x_train, y_train = x[:-val_size], y[:-val_size]\n",
    "x_val, y_val = x[-val_size:], y[-val_size:]"
   ]
  },
  {
   "cell_type": "code",
   "execution_count": null,
   "id": "byoemaPz24GV",
   "metadata": {
    "id": "byoemaPz24GV"
   },
   "outputs": [],
   "source": [
    "x_train.shape, y_train.shape"
   ]
  },
  {
   "cell_type": "code",
   "execution_count": null,
   "id": "DMv486sryK9b",
   "metadata": {
    "id": "DMv486sryK9b"
   },
   "outputs": [],
   "source": [
    "model3_1 = sm.tsa.SARIMAX(y_train, order=(4,1,4), seasonal_order=(1,1,3,7), exog=x_train).fit()"
   ]
  },
  {
   "cell_type": "markdown",
   "id": "Eofgkr-YuVRA",
   "metadata": {
    "id": "Eofgkr-YuVRA"
   },
   "source": [
    "### 2) 평가"
   ]
  },
  {
   "cell_type": "markdown",
   "id": "eFNqfYgKuVRB",
   "metadata": {
    "id": "eFNqfYgKuVRB"
   },
   "source": [
    "#### ① 잔차진단"
   ]
  },
  {
   "cell_type": "markdown",
   "id": "rrnRQInouVRB",
   "metadata": {
    "id": "rrnRQInouVRB"
   },
   "source": [
    "* residual_diag"
   ]
  },
  {
   "cell_type": "code",
   "execution_count": null,
   "id": "c_tUMV2TuVRB",
   "metadata": {
    "id": "c_tUMV2TuVRB"
   },
   "outputs": [],
   "source": [
    "residuals = model3_1.resid\n",
    "residual_diag(residuals)"
   ]
  },
  {
   "cell_type": "markdown",
   "id": "6mzg32dZuVRC",
   "metadata": {
    "id": "6mzg32dZuVRC"
   },
   "source": [
    "#### ② AIC"
   ]
  },
  {
   "cell_type": "code",
   "execution_count": null,
   "id": "qFz8gIXUuVRC",
   "metadata": {
    "id": "qFz8gIXUuVRC"
   },
   "outputs": [],
   "source": [
    "print('model3_1 AIC :', model3_1.aic)"
   ]
  },
  {
   "cell_type": "markdown",
   "id": "Rw-ivfZ-uVRC",
   "metadata": {
    "id": "Rw-ivfZ-uVRC"
   },
   "source": [
    "#### ③ Validation\n",
    "SARIMAX 모델을 생성하고, 예측할 때는 exog=x_val 옵션이 들어가야 함."
   ]
  },
  {
   "cell_type": "code",
   "execution_count": null,
   "id": "1_T-yDnjuVRC",
   "metadata": {
    "id": "1_T-yDnjuVRC"
   },
   "outputs": [],
   "source": [
    "pred = model3_1.forecast(30,  exog=x_val)\n",
    "mean_absolute_error(val, pred)"
   ]
  },
  {
   "cell_type": "code",
   "execution_count": null,
   "id": "PMpkjFzJuVRC",
   "metadata": {
    "id": "PMpkjFzJuVRC"
   },
   "outputs": [],
   "source": [
    "plt.figure(figsize=(15,8))\n",
    "plt.plot(train[-120:], label='train')\n",
    "plt.plot(pred, label = 'forecast')\n",
    "plt.plot(val, label = 'val')\n",
    "plt.legend()\n",
    "plt.show()"
   ]
  },
  {
   "cell_type": "markdown",
   "id": "Wt7oWwnVu_VI",
   "metadata": {
    "id": "Wt7oWwnVu_VI"
   },
   "source": [
    "## (2) Cross Validation"
   ]
  },
  {
   "cell_type": "markdown",
   "id": "sxGNq_fiu_VJ",
   "metadata": {
    "id": "sxGNq_fiu_VJ"
   },
   "source": [
    "### 1) 학습"
   ]
  },
  {
   "cell_type": "code",
   "execution_count": null,
   "id": "H7u1cdzhu0zy",
   "metadata": {
    "id": "H7u1cdzhu0zy"
   },
   "outputs": [],
   "source": [
    "rmse, mae, mape, aic = [],[],[],[]\n",
    "residuals = []\n",
    "preds = []\n",
    "p,d,q = 4,1,4\n",
    "P,D,Q = 1,1,3\n",
    "m = 7\n",
    "\n",
    "for train_index, val_index in tscv.split(x):\n",
    "\n",
    "    # 인덱스로 데이터 분할\n",
    "    x_train, y_train = x.iloc[train_index], y[train_index]\n",
    "    x_val, y_val = x.iloc[val_index], y[val_index]\n",
    "\n",
    "    # 학습\n",
    "    model_fit = sm.tsa.SARIMAX(y_train, order=(p,d,q), seasonal_order=(P,D,Q,m), exog=x_train).fit()\n",
    "\n",
    "    # 예측\n",
    "    pred = model_fit.forecast(val_size, exog=x_val)\n",
    "    preds += list(pred)\n",
    "\n",
    "    # 잔차 저장\n",
    "    residuals += list(model.resid)\n",
    "\n",
    "    # 평가\n",
    "    rmse.append(mean_squared_error(y_val, pred, squared = False))\n",
    "    mae.append(mean_absolute_error(y_val, pred))\n",
    "    mape.append(mean_absolute_percentage_error(y_val, pred))\n",
    "    aic.append(model.aic)"
   ]
  },
  {
   "cell_type": "markdown",
   "id": "NvIzd_YRu_VK",
   "metadata": {
    "id": "NvIzd_YRu_VK"
   },
   "source": [
    "### 2) 평가"
   ]
  },
  {
   "cell_type": "markdown",
   "id": "ICws_itcu_VL",
   "metadata": {
    "id": "ICws_itcu_VL",
    "toc-hr-collapsed": true
   },
   "source": [
    "#### ① 잔차진단"
   ]
  },
  {
   "cell_type": "code",
   "execution_count": null,
   "id": "M6KnNQthu_VL",
   "metadata": {
    "id": "M6KnNQthu_VL"
   },
   "outputs": [],
   "source": [
    "residual_diag(residuals)"
   ]
  },
  {
   "cell_type": "markdown",
   "id": "2roYdskeu_VL",
   "metadata": {
    "id": "2roYdskeu_VL"
   },
   "source": [
    "#### ② AIC"
   ]
  },
  {
   "cell_type": "code",
   "execution_count": null,
   "id": "0sroKyChu_VM",
   "metadata": {
    "id": "0sroKyChu_VM"
   },
   "outputs": [],
   "source": [
    "np.mean(aic)"
   ]
  },
  {
   "cell_type": "markdown",
   "id": "DurFyCRQu_VM",
   "metadata": {
    "id": "DurFyCRQu_VM"
   },
   "source": [
    "#### ③ Validation"
   ]
  },
  {
   "cell_type": "code",
   "execution_count": null,
   "id": "v3eB6Z93u_VM",
   "metadata": {
    "id": "v3eB6Z93u_VM"
   },
   "outputs": [],
   "source": [
    "preds = pd.Series(preds, index = y[-90:].index)\n",
    "print('MAE :', mean_absolute_error(y[-90:], preds))\n",
    "\n",
    "plt.figure(figsize = (20,8))\n",
    "plt.plot(y[-200:], label = 'train')\n",
    "plt.plot(y[-90:], label = 'val')\n",
    "plt.plot(preds, label = 'predicted')\n",
    "\n",
    "plt.legend()\n",
    "plt.grid()\n",
    "plt.show()"
   ]
  },
  {
   "cell_type": "code",
   "execution_count": null,
   "id": "s4asGwKQvWvz",
   "metadata": {
    "id": "s4asGwKQvWvz"
   },
   "outputs": [],
   "source": []
  }
 ],
 "metadata": {
  "colab": {
   "collapsed_sections": [],
   "name": "18과 전통적 시계열 모델링.ipynb",
   "provenance": [],
   "toc_visible": true
  },
  "kernelspec": {
   "display_name": "Python 3",
   "language": "python",
   "name": "python3"
  },
  "language_info": {
   "codemirror_mode": {
    "name": "ipython",
    "version": 3
   },
   "file_extension": ".py",
   "mimetype": "text/x-python",
   "name": "python",
   "nbconvert_exporter": "python",
   "pygments_lexer": "ipython3",
   "version": "3.8.8"
  }
 },
 "nbformat": 4,
 "nbformat_minor": 5
}
