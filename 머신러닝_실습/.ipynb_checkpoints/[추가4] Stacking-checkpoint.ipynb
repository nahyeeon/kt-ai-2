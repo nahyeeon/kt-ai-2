{
 "cells": [
  {
   "cell_type": "markdown",
   "metadata": {
    "id": "AVG5bLhFJe6a"
   },
   "source": [
    "# 추가_Ensemble Stacking"
   ]
  },
  {
   "cell_type": "code",
   "execution_count": null,
   "metadata": {
    "id": "7IS6vfHXWrbb"
   },
   "outputs": [],
   "source": [
    "import numpy as np\n",
    "import pandas as pd\n",
    "import matplotlib.pyplot as plt"
   ]
  },
  {
   "cell_type": "markdown",
   "metadata": {
    "id": "kxunrcRv6ZK4"
   },
   "source": [
    "# [1]스태킹 구현해보기 : iris"
   ]
  },
  {
   "cell_type": "markdown",
   "metadata": {
    "id": "rrdlVoafWrbf"
   },
   "source": [
    "## 1.데이터 불러오기"
   ]
  },
  {
   "cell_type": "code",
   "execution_count": null,
   "metadata": {
    "id": "S3x6Nkhpy42c"
   },
   "outputs": [],
   "source": [
    "# 데이터 불러오기\n",
    "\n",
    "iris = pd.read_csv(\"https://raw.githubusercontent.com/DA4BAM/dataset/master/iris.csv\")\n",
    "\n",
    "from sklearn.model_selection import train_test_split\n",
    "\n",
    "# features와 target 분리\n",
    "target = 'Species'\n",
    "x = iris.drop(target, axis = 1)\n",
    "y = iris.loc[:, target]  # target 변수.\n",
    "\n",
    "# 먼저 전체에서 train : test = 8 : 2\n",
    "x_train, x_test, y_train, y_test = train_test_split(x, y, test_size=0.2, random_state=1)\n"
   ]
  },
  {
   "cell_type": "markdown",
   "metadata": {
    "id": "dUIIP4x7Wrbh"
   },
   "source": [
    "## 2.모델링"
   ]
  },
  {
   "cell_type": "code",
   "execution_count": null,
   "metadata": {
    "id": "P6N6lp9fy425"
   },
   "outputs": [],
   "source": [
    "# 필요한 함수들을 모두 불러옵니다.\n",
    "from sklearn.linear_model import LogisticRegression\n",
    "from sklearn.tree import DecisionTreeClassifier\n",
    "from sklearn.neighbors import KNeighborsClassifier\n",
    "from sklearn.ensemble import RandomForestClassifier\n",
    "from xgboost import XGBClassifier\n",
    "from sklearn.ensemble import StackingClassifier\n",
    "\n",
    "from sklearn.preprocessing import StandardScaler\n",
    "from sklearn.pipeline import make_pipeline\n",
    "from sklearn.metrics import * "
   ]
  },
  {
   "cell_type": "code",
   "execution_count": null,
   "metadata": {
    "id": "QNingXMoy42-"
   },
   "outputs": [],
   "source": [
    "# 1) 모델 선언\n",
    "estimators = [('lr', LogisticRegression()),\n",
    "              ('dt', DecisionTreeClassifier()),\n",
    "              ('knn', make_pipeline(StandardScaler(), KNeighborsClassifier())),\n",
    "              ('rf', RandomForestClassifier()),\n",
    "              ('xgb', XGBClassifier())]\n",
    "\n",
    "model_stacking = StackingClassifier(estimators=estimators\n",
    "                                    , final_estimator= RandomForestClassifier())"
   ]
  },
  {
   "cell_type": "code",
   "execution_count": null,
   "metadata": {
    "id": "VpMhvQcVy43H"
   },
   "outputs": [],
   "source": [
    "# 2) 학습\n",
    "model_stacking.fit(x_train, y_train)"
   ]
  },
  {
   "cell_type": "code",
   "execution_count": null,
   "metadata": {
    "id": "u3uKdWnJ5iXr"
   },
   "outputs": [],
   "source": [
    "# 3) 예측\n",
    "pred = model_stacking.predict(x_test)"
   ]
  },
  {
   "cell_type": "code",
   "execution_count": null,
   "metadata": {
    "id": "LOksdiCd5wS6"
   },
   "outputs": [],
   "source": [
    "# 4) 평가\n",
    "print(classification_report(y_test, pred))"
   ]
  },
  {
   "cell_type": "code",
   "execution_count": null,
   "metadata": {
    "id": "zYqqisuo9hiO"
   },
   "outputs": [],
   "source": [
    "# 내부 모델 중 하나를 뽑아서 사용할 수도 있습니다.\n",
    "model_stacking.named_estimators_['dt']"
   ]
  },
  {
   "cell_type": "markdown",
   "metadata": {
    "id": "cwvRKZaTTf4a"
   },
   "source": [
    "# [2] 실습 : mobile"
   ]
  },
  {
   "cell_type": "markdown",
   "metadata": {
    "id": "sExlikQog0Kf"
   },
   "source": [
    "### 00.환경 준비와 데이터 로딩"
   ]
  },
  {
   "cell_type": "markdown",
   "metadata": {
    "id": "QGe5FvuXg0Ko"
   },
   "source": [
    "#### 01.라이브러리 불러오기"
   ]
  },
  {
   "cell_type": "code",
   "execution_count": null,
   "metadata": {
    "id": "o3MRaMwrg0Ko"
   },
   "outputs": [],
   "source": [
    "import pandas as pd\n",
    "import numpy as np"
   ]
  },
  {
   "cell_type": "markdown",
   "metadata": {
    "id": "jRDoGHcGg0Kp"
   },
   "source": [
    "#### 02.데이터 업로드 "
   ]
  },
  {
   "cell_type": "code",
   "execution_count": null,
   "metadata": {
    "id": "lM3HN6OwEL3d"
   },
   "outputs": [],
   "source": [
    "# mobile data\n",
    "path = \"https://raw.githubusercontent.com/DA4BAM/dataset/master/mobile_cust_churn.csv\"\n",
    "data = pd.read_csv(path)\n",
    "data.drop(['id', 'REPORTED_USAGE_LEVEL','OVER_15MINS_CALLS_PER_MONTH'], axis = 1, inplace = True)\n",
    "data.rename(columns = {'HANDSET_PRICE':'H_PRICE', \n",
    "                       'AVERAGE_CALL_DURATION':'DURATION',\n",
    "                       'REPORTED_SATISFACTION':'SATISFACTION',\n",
    "                       'CONSIDERING_CHANGE_OF_PLAN':'CHANGE'}\n",
    "            , inplace = True)\n",
    "data.head()"
   ]
  },
  {
   "cell_type": "markdown",
   "metadata": {
    "id": "2VGIfdrXAvw_"
   },
   "source": [
    "|변수 명|내용|구분|\n",
    "|\t----\t|\t----\t|\t----\t|\n",
    "|\tCOLLEGE\t|\t대학졸업 여부(1,0) - 범주\t|\t\t|\n",
    "|\tINCOME\t|\t연 수입액(달러)\t|\t\t|\n",
    "|\tOVERAGE\t|\t월 초과사용 시간(분)\t|\t\t|\n",
    "|\tLEFTOVER\t|\t월 사용 잔여시간비율(%)\t|\t\t|\n",
    "|\tHOUSE\t|\t집 가격(달러)\t|\t\t|\n",
    "|\tHANDSET_PRICE\t|\t핸드폰 가격(달러)\t|\t\t|\n",
    "|\tAVERAGE_CALL_DURATION\t|\t평균 통화시간(분)\t|\t\t|\n",
    "|\tREPORTED_SATISFACTION\t|\t만족도 설문('very_unsat', 'unsat', 'avg', 'sat', 'very_sat' ) - 범주\t|\t\t|\n",
    "|\tCONSIDERING_CHANGE_OF_PLAN\t|\t변경 계획 설문('never_thought', 'no', 'perhaps', 'considering',   'actively_looking_into_it') - 범주\t|\t\t|\n",
    "|\t**CHURN**\t|\t이탈여부(1 : 이탈, 0 : 잔류)\t|\t**Target**\t|\n"
   ]
  },
  {
   "cell_type": "code",
   "execution_count": null,
   "metadata": {
    "id": "U5_90TWnhexz"
   },
   "outputs": [],
   "source": [
    "# 데이터분할1\n",
    "target = 'CHURN'\n",
    "x = data.drop(target, axis=1)\n",
    "y = data.loc[:, target]\n",
    "\n",
    "# 가변수화\n",
    "dumm_cols = ['SATISFACTION','CHANGE']\n",
    "x = pd.get_dummies(x, columns = dumm_cols, drop_first = True)\n",
    "\n",
    "# 데이터 분할2\n",
    "x_train, x_val, y_train, y_val = train_test_split(x, y, test_size=.5\n",
    "                                                  , random_state = 2022)"
   ]
  },
  {
   "cell_type": "markdown",
   "metadata": {
    "id": "3Kx80jnsFmlT"
   },
   "source": [
    "## 실습\n",
    "\n",
    "* 모바일 데이터에 대해서 스태킹 모델을 구현해 봅시다.\n",
    "* 알고리즘의 하이퍼파라미터를 조절해 봅시다."
   ]
  },
  {
   "cell_type": "code",
   "execution_count": null,
   "metadata": {
    "id": "AKedhByB7Oom"
   },
   "outputs": [],
   "source": []
  },
  {
   "cell_type": "code",
   "execution_count": null,
   "metadata": {
    "id": "b41lykLz7Old"
   },
   "outputs": [],
   "source": []
  },
  {
   "cell_type": "code",
   "execution_count": null,
   "metadata": {
    "id": "BvvvjYVo7Oit"
   },
   "outputs": [],
   "source": []
  },
  {
   "cell_type": "code",
   "execution_count": null,
   "metadata": {
    "id": "-xlnl9Fk7Ofm"
   },
   "outputs": [],
   "source": []
  },
  {
   "cell_type": "code",
   "execution_count": null,
   "metadata": {
    "id": "O-l7Ljef7Oct"
   },
   "outputs": [],
   "source": []
  }
 ],
 "metadata": {
  "colab": {
   "collapsed_sections": [],
   "name": "[추가4] Stacking.ipynb",
   "provenance": []
  },
  "kernelspec": {
   "display_name": "Python 3",
   "language": "python",
   "name": "python3"
  },
  "language_info": {
   "codemirror_mode": {
    "name": "ipython",
    "version": 3
   },
   "file_extension": ".py",
   "mimetype": "text/x-python",
   "name": "python",
   "nbconvert_exporter": "python",
   "pygments_lexer": "ipython3",
   "version": "3.8.8"
  }
 },
 "nbformat": 4,
 "nbformat_minor": 4
}
